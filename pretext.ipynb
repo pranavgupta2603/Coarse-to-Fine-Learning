{
 "cells": [
  {
   "cell_type": "code",
   "execution_count": 1,
   "metadata": {},
   "outputs": [],
   "source": [
    "import pandas as pd\n",
    "import numpy as np\n",
    "import os\n",
    "import cv2\n",
    "import librosa\n",
    "import librosa.display\n",
    "import torch\n",
    "import numpy as np\n",
    "import torch.nn.functional as F\n",
    "\n",
    "from sklearn.model_selection import train_test_split\n",
    "from torch.utils.data.dataset import Dataset\n",
    "from torch.utils.data import DataLoader\n",
    "from torchvision import models\n",
    "import torch.nn as nn\n",
    "import warnings\n",
    "from tqdm.notebook import tqdm"
   ]
  },
  {
   "cell_type": "code",
   "execution_count": 3,
   "metadata": {},
   "outputs": [
    {
     "name": "stdout",
     "output_type": "stream",
     "text": [
      "Dataset URL: https://www.kaggle.com/datasets/chrisfilo/urbansound8k\n",
      "License(s): Attribution-NonCommercial 4.0 International (CC BY-NC 4.0)\n",
      "urbansound8k.zip: Skipping, found more recently modified local copy (use --force to force download)\n"
     ]
    }
   ],
   "source": [
    "!kaggle datasets download -d chrisfilo/urbansound8k"
   ]
  },
  {
   "cell_type": "code",
   "execution_count": 3,
   "metadata": {},
   "outputs": [
    {
     "name": "stdout",
     "output_type": "stream",
     "text": [
      "Archive:  urbansound8k.zip\n",
      "  inflating: urbansound8k/UrbanSound8K.csv  \n",
      "  inflating: urbansound8k/fold1/101415-3-0-2.wav  \n",
      "  inflating: urbansound8k/fold1/101415-3-0-3.wav  \n",
      "  inflating: urbansound8k/fold1/101415-3-0-8.wav  \n",
      "  inflating: urbansound8k/fold1/102106-3-0-0.wav  \n",
      "  inflating: urbansound8k/fold1/102305-6-0-0.wav  \n",
      "  inflating: urbansound8k/fold1/102842-3-0-1.wav  \n",
      "  inflating: urbansound8k/fold1/102842-3-1-0.wav  \n",
      "  inflating: urbansound8k/fold1/102842-3-1-5.wav  \n",
      "  inflating: urbansound8k/fold1/102842-3-1-6.wav  \n",
      "  inflating: urbansound8k/fold1/103074-7-0-0.wav  \n",
      "  inflating: urbansound8k/fold1/103074-7-0-1.wav  \n",
      "  inflating: urbansound8k/fold1/103074-7-0-2.wav  \n",
      "  inflating: urbansound8k/fold1/103074-7-1-0.wav  \n",
      "  inflating: urbansound8k/fold1/103074-7-1-1.wav  \n",
      "  inflating: urbansound8k/fold1/103074-7-1-2.wav  \n",
      "  inflating: urbansound8k/fold1/103074-7-1-3.wav  \n",
      "  inflating: urbansound8k/fold1/103074-7-1-4.wav  \n",
      "  inflating: urbansound8k/fold1/103074-7-1-5.wav  \n",
      "  inflating: urbansound8k/fold1/103074-7-1-6.wav  \n",
      "  inflating: urbansound8k/fold1/103074-7-2-0.wav  \n",
      "  inflating: urbansound8k/fold1/103074-7-3-0.wav  \n",
      "  inflating: urbansound8k/fold1/103074-7-3-1.wav  \n",
      "  inflating: urbansound8k/fold1/103074-7-3-2.wav  \n",
      "  inflating: urbansound8k/fold1/103074-7-3-3.wav  "
     ]
    },
    {
     "name": "stdout",
     "output_type": "stream",
     "text": [
      "\n",
      "  inflating: urbansound8k/fold1/103074-7-4-0.wav  \n",
      "  inflating: urbansound8k/fold1/103074-7-4-1.wav  \n",
      "  inflating: urbansound8k/fold1/103074-7-4-2.wav  \n",
      "  inflating: urbansound8k/fold1/103074-7-4-3.wav  \n",
      "  inflating: urbansound8k/fold1/103074-7-4-4.wav  \n",
      "  inflating: urbansound8k/fold1/103074-7-4-5.wav  \n",
      "  inflating: urbansound8k/fold1/103074-7-4-6.wav  \n",
      "  inflating: urbansound8k/fold1/103258-5-0-0.wav  \n",
      "  inflating: urbansound8k/fold1/103258-5-0-1.wav  \n",
      "  inflating: urbansound8k/fold1/103258-5-0-10.wav  \n",
      "  inflating: urbansound8k/fold1/103258-5-0-11.wav  \n",
      "  inflating: urbansound8k/fold1/103258-5-0-12.wav  \n",
      "  inflating: urbansound8k/fold1/103258-5-0-13.wav  \n",
      "  inflating: urbansound8k/fold1/103258-5-0-14.wav  \n",
      "  inflating: urbansound8k/fold1/103258-5-0-15.wav  \n",
      "  inflating: urbansound8k/fold1/103258-5-0-16.wav  \n",
      "  inflating: urbansound8k/fold1/103258-5-0-17.wav  \n",
      "  inflating: urbansound8k/fold1/103258-5-0-18.wav  \n",
      "  inflating: urbansound8k/fold1/103258-5-0-19.wav  \n",
      "  inflating: urbansound8k/fold1/103258-5-0-2.wav  \n",
      "  inflating: urbansound8k/fold1/103258-5-0-3.wav  \n",
      "  inflating: urbansound8k/fold1/103258-5-0-4.wav  \n",
      "  inflating: urbansound8k/fold1/103258-5-0-5.wav  \n",
      "  inflating: urbansound8k/fold1/103258-5-0-6.wav  \n",
      "  inflating: urbansound8k/fold1/103258-5-0-7.wav  \n",
      "  inflating: urbansound8k/fold1/103258-5-0-8.wav  \n",
      "  inflating: urbansound8k/fold1/103258-5-0-9.wav  \n",
      "  inflating: urbansound8k/fold1/105415-2-0-1.wav  \n",
      "  inflating: urbansound8k/fold1/105415-2-0-15.wav  \n",
      "  inflating: urbansound8k/fold1/105415-2-0-19.wav  \n",
      "  inflating: urbansound8k/fold1/105415-2-0-21.wav  \n",
      "  inflating: urbansound8k/fold1/105415-2-0-24.wav  \n",
      "  inflating: urbansound8k/fold1/105415-2-0-4.wav  \n",
      "  inflating: urbansound8k/fold1/105415-2-0-6.wav  \n",
      "  inflating: urbansound8k/fold1/105415-2-0-8.wav  \n",
      "  inflating: urbansound8k/fold1/106905-8-0-0.wav  \n",
      "  inflating: urbansound8k/fold1/106905-8-0-1.wav  \n",
      "  inflating: urbansound8k/fold1/106905-8-0-2.wav  \n",
      "  inflating: urbansound8k/fold1/106905-8-0-3.wav  \n",
      "  inflating: urbansound8k/fold1/108041-9-0-11.wav  \n",
      "  inflating: urbansound8k/fold1/108041-9-0-2.wav  \n",
      "  inflating: urbansound8k/fold1/108041-9-0-4.wav  \n",
      "  inflating: urbansound8k/fold1/108041-9-0-5.wav  \n",
      "  inflating: urbansound8k/fold1/108041-9-0-6.wav  \n",
      "  inflating: urbansound8k/fold1/108041-9-0-7.wav  \n",
      "  inflating: urbansound8k/fold1/108041-9-0-9.wav  \n",
      "  inflating: urbansound8k/fold1/108362-2-0-11.wav  \n",
      "  inflating: urbansound8k/fold1/108362-2-0-12.wav  \n",
      "  inflating: urbansound8k/fold1/108362-2-0-21.wav  \n",
      "  inflating: urbansound8k/fold1/108362-2-0-23.wav  \n",
      "  inflating: urbansound8k/fold1/108362-2-0-29.wav  \n",
      "  inflating: urbansound8k/fold1/108362-2-0-30.wav  \n",
      "  inflating: urbansound8k/fold1/108362-2-0-7.wav  \n",
      "  inflating: urbansound8k/fold1/108362-2-0-9.wav  \n",
      "  inflating: urbansound8k/fold1/113205-5-0-0.wav  \n",
      "  inflating: urbansound8k/fold1/113205-5-1-0.wav  \n",
      "  inflating: urbansound8k/fold1/113205-5-1-1.wav  \n",
      "  inflating: urbansound8k/fold1/113205-5-1-2.wav  \n",
      "  inflating: urbansound8k/fold1/113205-5-1-3.wav  \n",
      "  inflating: urbansound8k/fold1/113205-5-1-4.wav  \n",
      "  inflating: urbansound8k/fold1/113205-5-1-5.wav  \n",
      "  inflating: urbansound8k/fold1/113205-5-1-6.wav  \n",
      "  inflating: urbansound8k/fold1/113205-5-1-7.wav  \n",
      "  inflating: urbansound8k/fold1/113205-5-1-8.wav  \n",
      "  inflating: urbansound8k/fold1/113205-5-1-9.wav  \n",
      "  inflating: urbansound8k/fold1/114587-3-0-2.wav  \n",
      "  inflating: urbansound8k/fold1/114587-3-0-4.wav  \n",
      "  inflating: urbansound8k/fold1/114587-3-0-5.wav  \n",
      "  inflating: urbansound8k/fold1/114587-3-0-7.wav  \n",
      "  inflating: urbansound8k/fold1/118101-3-0-0.wav  \n",
      "  inflating: urbansound8k/fold1/118101-3-0-3.wav  \n",
      "  inflating: urbansound8k/fold1/118101-3-0-4.wav  \n",
      "  inflating: urbansound8k/fold1/118101-3-0-6.wav  \n",
      "  inflating: urbansound8k/fold1/118279-8-0-0.wav  \n",
      "  inflating: urbansound8k/fold1/118279-8-0-1.wav  \n",
      "  inflating: urbansound8k/fold1/118279-8-0-10.wav  \n",
      "  inflating: urbansound8k/fold1/118279-8-0-11.wav  \n",
      "  inflating: urbansound8k/fold1/118279-8-0-12.wav  \n",
      "  inflating: urbansound8k/fold1/118279-8-0-13.wav  \n",
      "  inflating: urbansound8k/fold1/118279-8-0-14.wav  \n",
      "  inflating: urbansound8k/fold1/118279-8-0-2.wav  \n",
      "  inflating: urbansound8k/fold1/118279-8-0-3.wav  \n",
      "  inflating: urbansound8k/fold1/118279-8-0-4.wav  \n",
      "  inflating: urbansound8k/fold1/118279-8-0-5.wav  \n",
      "  inflating: urbansound8k/fold1/118279-8-0-6.wav  \n",
      "  inflating: urbansound8k/fold1/118279-8-0-7.wav  \n",
      "  inflating: urbansound8k/fold1/118279-8-0-8.wav  \n",
      "  inflating: urbansound8k/fold1/118279-8-0-9.wav  \n",
      "  inflating: urbansound8k/fold1/118963-3-0-0.wav  \n",
      "  inflating: urbansound8k/fold1/119455-5-0-0.wav  \n",
      "  inflating: urbansound8k/fold1/119455-5-0-1.wav  \n",
      "  inflating: urbansound8k/fold1/119455-5-0-2.wav  \n",
      "  inflating: urbansound8k/fold1/119455-5-0-3.wav  \n",
      "  inflating: urbansound8k/fold1/119455-5-0-4.wav  \n",
      "  inflating: urbansound8k/fold1/119455-5-0-5.wav  \n",
      "  inflating: urbansound8k/fold1/119455-5-0-6.wav  \n",
      "  inflating: urbansound8k/fold1/119455-5-0-7.wav  \n",
      "  inflating: urbansound8k/fold1/122690-6-0-0.wav  \n",
      "  inflating: urbansound8k/fold1/124489-9-0-12.wav  \n",
      "  inflating: urbansound8k/fold1/124489-9-0-14.wav  \n",
      "  inflating: urbansound8k/fold1/124489-9-0-16.wav  \n",
      "  inflating: urbansound8k/fold1/124489-9-0-17.wav  \n",
      "  inflating: urbansound8k/fold1/124489-9-0-18.wav  \n",
      "  inflating: urbansound8k/fold1/124489-9-0-6.wav  \n",
      "  inflating: urbansound8k/fold1/125791-3-0-12.wav  \n",
      "  inflating: urbansound8k/fold1/125791-3-0-13.wav  \n",
      "  inflating: urbansound8k/fold1/125791-3-0-15.wav  \n",
      "  inflating: urbansound8k/fold1/125791-3-0-9.wav  \n",
      "  inflating: urbansound8k/fold1/127873-0-0-0.wav  \n",
      "  inflating: urbansound8k/fold1/130030-3-0-0.wav  \n",
      "  inflating: urbansound8k/fold1/132016-9-0-0.wav  \n",
      "  inflating: urbansound8k/fold1/132016-9-0-11.wav  \n",
      "  inflating: urbansound8k/fold1/132016-9-0-14.wav  \n",
      "  inflating: urbansound8k/fold1/132016-9-0-16.wav  \n",
      "  inflating: urbansound8k/fold1/132016-9-0-20.wav  \n",
      "  inflating: urbansound8k/fold1/132016-9-0-6.wav  \n",
      "  inflating: urbansound8k/fold1/134717-0-0-0.wav  \n",
      "  inflating: urbansound8k/fold1/134717-0-0-1.wav  \n",
      "  inflating: urbansound8k/fold1/134717-0-0-12.wav  \n",
      "  inflating: urbansound8k/fold1/134717-0-0-13.wav  \n",
      "  inflating: urbansound8k/fold1/134717-0-0-14.wav  \n",
      "  inflating: urbansound8k/fold1/134717-0-0-15.wav  \n",
      "  inflating: urbansound8k/fold1/134717-0-0-16.wav  \n",
      "  inflating: urbansound8k/fold1/134717-0-0-18.wav  \n",
      "  inflating: urbansound8k/fold1/134717-0-0-19.wav  \n",
      "  inflating: urbansound8k/fold1/134717-0-0-2.wav  \n",
      "  inflating: urbansound8k/fold1/134717-0-0-20.wav  \n",
      "  inflating: urbansound8k/fold1/134717-0-0-21.wav  \n",
      "  inflating: urbansound8k/fold1/134717-0-0-22.wav  \n",
      "  inflating: urbansound8k/fold1/134717-0-0-23.wav  \n",
      "  inflating: urbansound8k/fold1/134717-0-0-24.wav  \n",
      "  inflating: urbansound8k/fold1/134717-0-0-25.wav  \n",
      "  inflating: urbansound8k/fold1/134717-0-0-26.wav  \n",
      "  inflating: urbansound8k/fold1/134717-0-0-27.wav  \n",
      "  inflating: urbansound8k/fold1/134717-0-0-28.wav  \n",
      "  inflating: urbansound8k/fold1/134717-0-0-4.wav  \n",
      "  inflating: urbansound8k/fold1/134717-0-0-5.wav  \n",
      "  inflating: urbansound8k/fold1/134717-0-0-6.wav  \n",
      "  inflating: urbansound8k/fold1/134717-0-0-7.wav  \n",
      "  inflating: urbansound8k/fold1/134717-0-0-8.wav  \n",
      "  inflating: urbansound8k/fold1/134717-0-0-9.wav  \n",
      "  inflating: urbansound8k/fold1/135776-2-0-32.wav  \n",
      "  inflating: urbansound8k/fold1/135776-2-0-37.wav  \n",
      "  inflating: urbansound8k/fold1/135776-2-0-40.wav  \n",
      "  inflating: urbansound8k/fold1/135776-2-0-49.wav  \n",
      "  inflating: urbansound8k/fold1/135776-2-0-50.wav  \n",
      "  inflating: urbansound8k/fold1/135776-2-0-65.wav  \n",
      "  inflating: urbansound8k/fold1/135776-2-0-85.wav  \n",
      "  inflating: urbansound8k/fold1/135776-2-0-90.wav  \n",
      "  inflating: urbansound8k/fold1/137156-9-0-28.wav  \n",
      "  inflating: urbansound8k/fold1/137156-9-0-30.wav  \n",
      "  inflating: urbansound8k/fold1/137156-9-0-31.wav  \n",
      "  inflating: urbansound8k/fold1/137156-9-0-5.wav  \n",
      "  inflating: urbansound8k/fold1/137156-9-0-73.wav  \n",
      "  inflating: urbansound8k/fold1/137156-9-0-79.wav  \n",
      "  inflating: urbansound8k/fold1/138015-3-0-1.wav  \n",
      "  inflating: urbansound8k/fold1/138015-3-0-5.wav  \n",
      "  inflating: urbansound8k/fold1/138015-3-0-7.wav  \n",
      "  inflating: urbansound8k/fold1/138031-2-0-13.wav  \n",
      "  inflating: urbansound8k/fold1/138031-2-0-2.wav  \n",
      "  inflating: urbansound8k/fold1/138031-2-0-22.wav  \n",
      "  inflating: urbansound8k/fold1/138031-2-0-23.wav  \n",
      "  inflating: urbansound8k/fold1/138031-2-0-28.wav  \n",
      "  inflating: urbansound8k/fold1/138031-2-0-45.wav  \n",
      "  inflating: urbansound8k/fold1/138031-2-0-47.wav  \n",
      "  inflating: urbansound8k/fold1/138031-2-0-7.wav  \n",
      "  inflating: urbansound8k/fold1/139951-9-0-13.wav  \n",
      "  inflating: urbansound8k/fold1/139951-9-0-17.wav  \n",
      "  inflating: urbansound8k/fold1/139951-9-0-29.wav  \n",
      "  inflating: urbansound8k/fold1/139951-9-0-33.wav  \n",
      "  inflating: urbansound8k/fold1/139951-9-0-45.wav  \n",
      "  inflating: urbansound8k/fold1/139951-9-0-9.wav  \n",
      "  inflating: urbansound8k/fold1/14113-4-0-0.wav  \n",
      "  inflating: urbansound8k/fold1/14113-4-0-1.wav  \n",
      "  inflating: urbansound8k/fold1/143604-5-0-0.wav  \n",
      "  inflating: urbansound8k/fold1/143651-2-0-0.wav  \n",
      "  inflating: urbansound8k/fold1/143651-2-0-16.wav  \n",
      "  inflating: urbansound8k/fold1/143651-2-0-20.wav  \n",
      "  inflating: urbansound8k/fold1/143651-2-0-22.wav  \n",
      "  inflating: urbansound8k/fold1/143651-2-0-39.wav  \n",
      "  inflating: urbansound8k/fold1/143651-2-0-55.wav  \n",
      "  inflating: urbansound8k/fold1/143651-2-0-59.wav  \n",
      "  inflating: urbansound8k/fold1/143651-2-0-63.wav  \n",
      "  inflating: urbansound8k/fold1/146186-5-0-0.wav  \n",
      "  inflating: urbansound8k/fold1/146186-5-0-1.wav  \n",
      "  inflating: urbansound8k/fold1/146186-5-0-10.wav  \n",
      "  inflating: urbansound8k/fold1/146186-5-0-11.wav  \n",
      "  inflating: urbansound8k/fold1/146186-5-0-12.wav  \n",
      "  inflating: urbansound8k/fold1/146186-5-0-13.wav  \n",
      "  inflating: urbansound8k/fold1/146186-5-0-2.wav  \n",
      "  inflating: urbansound8k/fold1/146186-5-0-3.wav  \n",
      "  inflating: urbansound8k/fold1/146186-5-0-4.wav  \n",
      "  inflating: urbansound8k/fold1/146186-5-0-5.wav  \n",
      "  inflating: urbansound8k/fold1/146186-5-0-6.wav  \n",
      "  inflating: urbansound8k/fold1/146186-5-0-7.wav  \n",
      "  inflating: urbansound8k/fold1/146186-5-0-8.wav  \n",
      "  inflating: urbansound8k/fold1/146186-5-0-9.wav  \n",
      "  inflating: urbansound8k/fold1/147764-4-0-0.wav  \n",
      "  inflating: urbansound8k/fold1/147764-4-1-0.wav  \n",
      "  inflating: urbansound8k/fold1/147764-4-2-0.wav  \n",
      "  inflating: urbansound8k/fold1/147764-4-3-0.wav  \n",
      "  inflating: urbansound8k/fold1/147764-4-4-0.wav  \n",
      "  inflating: urbansound8k/fold1/147764-4-4-1.wav  \n",
      "  inflating: urbansound8k/fold1/147764-4-4-2.wav  \n",
      "  inflating: urbansound8k/fold1/147764-4-5-0.wav  \n",
      "  inflating: urbansound8k/fold1/147764-4-6-0.wav  \n",
      "  inflating: urbansound8k/fold1/147764-4-7-0.wav  \n",
      "  inflating: urbansound8k/fold1/147764-4-8-0.wav  \n",
      "  inflating: urbansound8k/fold1/150341-3-0-0.wav  \n",
      "  inflating: urbansound8k/fold1/150341-3-1-0.wav  \n",
      "  inflating: urbansound8k/fold1/151977-0-0-0.wav  \n",
      "  inflating: urbansound8k/fold1/151977-0-0-1.wav  \n",
      "  inflating: urbansound8k/fold1/151977-0-0-10.wav  \n",
      "  inflating: urbansound8k/fold1/151977-0-0-11.wav  \n",
      "  inflating: urbansound8k/fold1/151977-0-0-12.wav  \n",
      "  inflating: urbansound8k/fold1/151977-0-0-13.wav  \n",
      "  inflating: urbansound8k/fold1/151977-0-0-2.wav  \n",
      "  inflating: urbansound8k/fold1/151977-0-0-3.wav  \n",
      "  inflating: urbansound8k/fold1/151977-0-0-4.wav  \n",
      "  inflating: urbansound8k/fold1/151977-0-0-5.wav  \n",
      "  inflating: urbansound8k/fold1/151977-0-0-6.wav  \n",
      "  inflating: urbansound8k/fold1/151977-0-0-7.wav  \n",
      "  inflating: urbansound8k/fold1/151977-0-0-8.wav  \n",
      "  inflating: urbansound8k/fold1/151977-0-0-9.wav  \n",
      "  inflating: urbansound8k/fold1/155202-9-0-124.wav  \n",
      "  inflating: urbansound8k/fold1/155202-9-0-126.wav  \n",
      "  inflating: urbansound8k/fold1/155202-9-0-135.wav  \n",
      "  inflating: urbansound8k/fold1/155202-9-0-38.wav  \n",
      "  inflating: urbansound8k/fold1/155202-9-0-42.wav  \n",
      "  inflating: urbansound8k/fold1/155202-9-0-6.wav  \n",
      "  inflating: urbansound8k/fold1/155310-3-0-0.wav  \n",
      "  inflating: urbansound8k/fold1/15564-2-0-0.wav  \n",
      "  inflating: urbansound8k/fold1/15564-2-0-1.wav  \n",
      "  inflating: urbansound8k/fold1/15564-2-0-2.wav  \n",
      "  inflating: urbansound8k/fold1/156194-1-0-0.wav  \n",
      "  inflating: urbansound8k/fold1/157867-8-0-0.wav  \n",
      "  inflating: urbansound8k/fold1/157867-8-0-1.wav  \n",
      "  inflating: urbansound8k/fold1/157867-8-0-10.wav  \n",
      "  inflating: urbansound8k/fold1/157867-8-0-11.wav  \n",
      "  inflating: urbansound8k/fold1/157867-8-0-12.wav  \n",
      "  inflating: urbansound8k/fold1/157867-8-0-13.wav  \n",
      "  inflating: urbansound8k/fold1/157867-8-0-14.wav  \n",
      "  inflating: urbansound8k/fold1/157867-8-0-15.wav  \n",
      "  inflating: urbansound8k/fold1/157867-8-0-16.wav  \n",
      "  inflating: urbansound8k/fold1/157867-8-0-17.wav  \n",
      "  inflating: urbansound8k/fold1/157867-8-0-18.wav  \n",
      "  inflating: urbansound8k/fold1/157867-8-0-19.wav  \n",
      "  inflating: urbansound8k/fold1/157867-8-0-2.wav  \n",
      "  inflating: urbansound8k/fold1/157867-8-0-20.wav  \n",
      "  inflating: urbansound8k/fold1/157867-8-0-21.wav  \n",
      "  inflating: urbansound8k/fold1/157867-8-0-22.wav  \n",
      "  inflating: urbansound8k/fold1/157867-8-0-23.wav  \n",
      "  inflating: urbansound8k/fold1/157867-8-0-24.wav  \n",
      "  inflating: urbansound8k/fold1/157867-8-0-25.wav  \n",
      "  inflating: urbansound8k/fold1/157867-8-0-26.wav  \n",
      "  inflating: urbansound8k/fold1/157867-8-0-27.wav  \n",
      "  inflating: urbansound8k/fold1/157867-8-0-28.wav  \n",
      "  inflating: urbansound8k/fold1/157867-8-0-3.wav  \n",
      "  inflating: urbansound8k/fold1/157867-8-0-4.wav  \n",
      "  inflating: urbansound8k/fold1/157867-8-0-5.wav  \n",
      "  inflating: urbansound8k/fold1/157867-8-0-6.wav  \n",
      "  inflating: urbansound8k/fold1/157867-8-0-7.wav  \n",
      "  inflating: urbansound8k/fold1/157867-8-0-8.wav  \n",
      "  inflating: urbansound8k/fold1/157867-8-0-9.wav  \n",
      "  inflating: urbansound8k/fold1/159738-8-0-0.wav  \n",
      "  inflating: urbansound8k/fold1/159738-8-0-1.wav  \n",
      "  inflating: urbansound8k/fold1/159738-8-0-10.wav  \n",
      "  inflating: urbansound8k/fold1/159738-8-0-11.wav  \n",
      "  inflating: urbansound8k/fold1/159738-8-0-12.wav  \n",
      "  inflating: urbansound8k/fold1/159738-8-0-13.wav  \n",
      "  inflating: urbansound8k/fold1/159738-8-0-14.wav  \n",
      "  inflating: urbansound8k/fold1/159738-8-0-15.wav  \n",
      "  inflating: urbansound8k/fold1/159738-8-0-16.wav  \n",
      "  inflating: urbansound8k/fold1/159738-8-0-17.wav  \n",
      "  inflating: urbansound8k/fold1/159738-8-0-18.wav  \n",
      "  inflating: urbansound8k/fold1/159738-8-0-19.wav  \n",
      "  inflating: urbansound8k/fold1/159738-8-0-2.wav  \n",
      "  inflating: urbansound8k/fold1/159738-8-0-3.wav  \n",
      "  inflating: urbansound8k/fold1/159738-8-0-4.wav  \n",
      "  inflating: urbansound8k/fold1/159738-8-0-5.wav  \n",
      "  inflating: urbansound8k/fold1/159738-8-0-6.wav  \n",
      "  inflating: urbansound8k/fold1/159738-8-0-7.wav  \n",
      "  inflating: urbansound8k/fold1/159738-8-0-8.wav  \n",
      "  inflating: urbansound8k/fold1/159738-8-0-9.wav  \n",
      "  inflating: urbansound8k/fold1/160009-2-0-1.wav  \n",
      "  inflating: urbansound8k/fold1/160009-2-0-11.wav  \n",
      "  inflating: urbansound8k/fold1/160009-2-0-22.wav  \n",
      "  inflating: urbansound8k/fold1/160009-2-0-30.wav  \n",
      "  inflating: urbansound8k/fold1/160009-2-0-31.wav  \n",
      "  inflating: urbansound8k/fold1/160009-2-0-47.wav  \n",
      "  inflating: urbansound8k/fold1/160009-2-0-5.wav  \n",
      "  inflating: urbansound8k/fold1/160009-2-0-50.wav  \n",
      "  inflating: urbansound8k/fold1/160094-3-0-0.wav  \n",
      "  inflating: urbansound8k/fold1/161702-9-0-26.wav  \n",
      "  inflating: urbansound8k/fold1/161702-9-0-30.wav  \n",
      "  inflating: urbansound8k/fold1/161702-9-0-37.wav  \n",
      "  inflating: urbansound8k/fold1/161702-9-0-45.wav  \n",
      "  inflating: urbansound8k/fold1/161702-9-0-6.wav  \n",
      "  inflating: urbansound8k/fold1/161702-9-0-8.wav  \n",
      "  inflating: urbansound8k/fold1/162540-1-0-0.wav  \n",
      "  inflating: urbansound8k/fold1/162540-1-1-0.wav  \n",
      "  inflating: urbansound8k/fold1/162540-1-2-0.wav  \n",
      "  inflating: urbansound8k/fold1/162703-1-0-0.wav  \n",
      "  inflating: urbansound8k/fold1/164053-8-0-0.wav  \n",
      "  inflating: urbansound8k/fold1/164053-8-1-0.wav  \n",
      "  inflating: urbansound8k/fold1/164053-8-2-0.wav  \n",
      "  inflating: urbansound8k/fold1/164053-8-2-1.wav  \n",
      "  inflating: urbansound8k/fold1/164053-8-2-2.wav  \n",
      "  inflating: urbansound8k/fold1/164053-8-2-3.wav  \n",
      "  inflating: urbansound8k/fold1/164053-8-3-0.wav  \n",
      "  inflating: urbansound8k/fold1/164312-3-0-0.wav  \n",
      "  inflating: urbansound8k/fold1/164312-3-1-0.wav  \n",
      "  inflating: urbansound8k/fold1/164312-3-3-0.wav  \n",
      "  inflating: urbansound8k/fold1/164312-3-4-0.wav  \n",
      "  inflating: urbansound8k/fold1/165067-2-0-111.wav  \n",
      "  inflating: urbansound8k/fold1/165067-2-0-112.wav  \n",
      "  inflating: urbansound8k/fold1/165067-2-0-35.wav  \n",
      "  inflating: urbansound8k/fold1/165067-2-0-56.wav  \n",
      "  inflating: urbansound8k/fold1/165067-2-0-72.wav  \n",
      "  inflating: urbansound8k/fold1/165067-2-0-9.wav  \n",
      "  inflating: urbansound8k/fold1/165067-2-0-91.wav  \n",
      "  inflating: urbansound8k/fold1/165642-4-0-0.wav  \n",
      "  inflating: urbansound8k/fold1/165645-4-0-0.wav  \n",
      "  inflating: urbansound8k/fold1/165645-4-1-0.wav  \n",
      "  inflating: urbansound8k/fold1/165645-4-2-0.wav  \n",
      "  inflating: urbansound8k/fold1/165645-4-3-0.wav  \n",
      "  inflating: urbansound8k/fold1/165645-4-4-0.wav  \n",
      "  inflating: urbansound8k/fold1/165645-4-5-0.wav  \n",
      "  inflating: urbansound8k/fold1/166268-3-0-0.wav  \n",
      "  inflating: urbansound8k/fold1/166268-3-1-0.wav  \n",
      "  inflating: urbansound8k/fold1/166268-3-2-0.wav  \n",
      "  inflating: urbansound8k/fold1/172314-9-0-22.wav  \n",
      "  inflating: urbansound8k/fold1/172314-9-0-40.wav  \n",
      "  inflating: urbansound8k/fold1/172314-9-0-51.wav  \n",
      "  inflating: urbansound8k/fold1/172314-9-0-52.wav  \n",
      "  inflating: urbansound8k/fold1/172314-9-0-72.wav  \n",
      "  inflating: urbansound8k/fold1/172314-9-0-80.wav  \n",
      "  inflating: urbansound8k/fold1/174276-7-0-0.wav  \n",
      "  inflating: urbansound8k/fold1/174276-7-1-0.wav  \n",
      "  inflating: urbansound8k/fold1/174276-7-2-0.wav  \n",
      "  inflating: urbansound8k/fold1/174276-7-3-0.wav  \n",
      "  inflating: urbansound8k/fold1/174276-7-4-0.wav  \n",
      "  inflating: urbansound8k/fold1/174276-7-5-0.wav  \n",
      "  inflating: urbansound8k/fold1/174276-7-6-0.wav  \n",
      "  inflating: urbansound8k/fold1/174290-6-0-0.wav  \n",
      "  inflating: urbansound8k/fold1/174290-6-1-0.wav  \n",
      "  inflating: urbansound8k/fold1/174290-6-2-0.wav  \n",
      "  inflating: urbansound8k/fold1/174290-6-3-0.wav  \n",
      "  inflating: urbansound8k/fold1/174294-6-0-0.wav  \n",
      "  inflating: urbansound8k/fold1/174294-6-1-0.wav  \n",
      "  inflating: urbansound8k/fold1/174294-6-2-0.wav  \n",
      "  inflating: urbansound8k/fold1/175845-1-0-0.wav  \n",
      "  inflating: urbansound8k/fold1/175851-1-0-0.wav  \n",
      "  inflating: urbansound8k/fold1/17592-5-0-0.wav  \n",
      "  inflating: urbansound8k/fold1/17592-5-1-0.wav  \n",
      "  inflating: urbansound8k/fold1/17592-5-1-1.wav  \n",
      "  inflating: urbansound8k/fold1/17592-5-1-2.wav  \n",
      "  inflating: urbansound8k/fold1/17592-5-1-3.wav  \n",
      "  inflating: urbansound8k/fold1/176257-3-0-0.wav  \n",
      "  inflating: urbansound8k/fold1/176258-3-1-12.wav  \n",
      "  inflating: urbansound8k/fold1/176258-3-1-13.wav  \n",
      "  inflating: urbansound8k/fold1/176258-3-1-18.wav  \n",
      "  inflating: urbansound8k/fold1/176258-3-1-2.wav  \n",
      "  inflating: urbansound8k/fold1/176638-1-0-0.wav  \n",
      "  inflating: urbansound8k/fold1/176638-1-1-0.wav  \n",
      "  inflating: urbansound8k/fold1/176714-2-0-18.wav  \n",
      "  inflating: urbansound8k/fold1/176714-2-0-23.wav  \n",
      "  inflating: urbansound8k/fold1/176714-2-0-26.wav  \n",
      "  inflating: urbansound8k/fold1/176714-2-0-33.wav  \n",
      "  inflating: urbansound8k/fold1/176714-2-0-40.wav  \n",
      "  inflating: urbansound8k/fold1/176714-2-0-51.wav  \n",
      "  inflating: urbansound8k/fold1/176714-2-0-55.wav  \n",
      "  inflating: urbansound8k/fold1/176714-2-0-77.wav  \n",
      "  inflating: urbansound8k/fold1/176787-5-0-0.wav  \n",
      "  inflating: urbansound8k/fold1/176787-5-0-1.wav  \n",
      "  inflating: urbansound8k/fold1/176787-5-0-10.wav  \n",
      "  inflating: urbansound8k/fold1/176787-5-0-11.wav  \n",
      "  inflating: urbansound8k/fold1/176787-5-0-12.wav  \n",
      "  inflating: urbansound8k/fold1/176787-5-0-13.wav  \n",
      "  inflating: urbansound8k/fold1/176787-5-0-14.wav  \n",
      "  inflating: urbansound8k/fold1/176787-5-0-15.wav  \n",
      "  inflating: urbansound8k/fold1/176787-5-0-16.wav  \n",
      "  inflating: urbansound8k/fold1/176787-5-0-17.wav  \n",
      "  inflating: urbansound8k/fold1/176787-5-0-18.wav  \n",
      "  inflating: urbansound8k/fold1/176787-5-0-19.wav  \n",
      "  inflating: urbansound8k/fold1/176787-5-0-2.wav  \n",
      "  inflating: urbansound8k/fold1/176787-5-0-20.wav  \n",
      "  inflating: urbansound8k/fold1/176787-5-0-21.wav  \n",
      "  inflating: urbansound8k/fold1/176787-5-0-22.wav  \n",
      "  inflating: urbansound8k/fold1/176787-5-0-23.wav  \n",
      "  inflating: urbansound8k/fold1/176787-5-0-24.wav  \n",
      "  inflating: urbansound8k/fold1/176787-5-0-25.wav  \n",
      "  inflating: urbansound8k/fold1/176787-5-0-26.wav  \n",
      "  inflating: urbansound8k/fold1/176787-5-0-27.wav  \n",
      "  inflating: urbansound8k/fold1/176787-5-0-28.wav  \n",
      "  inflating: urbansound8k/fold1/176787-5-0-29.wav  \n",
      "  inflating: urbansound8k/fold1/176787-5-0-3.wav  \n",
      "  inflating: urbansound8k/fold1/176787-5-0-30.wav  \n",
      "  inflating: urbansound8k/fold1/176787-5-0-4.wav  \n",
      "  inflating: urbansound8k/fold1/176787-5-0-5.wav  \n",
      "  inflating: urbansound8k/fold1/176787-5-0-6.wav  \n",
      "  inflating: urbansound8k/fold1/176787-5-0-7.wav  \n",
      "  inflating: urbansound8k/fold1/176787-5-0-8.wav  \n",
      "  inflating: urbansound8k/fold1/176787-5-0-9.wav  \n",
      "  inflating: urbansound8k/fold1/177621-0-0-0.wav  \n",
      "  inflating: urbansound8k/fold1/177621-0-0-100.wav  \n",
      "  inflating: urbansound8k/fold1/177621-0-0-104.wav  \n",
      "  inflating: urbansound8k/fold1/177621-0-0-105.wav  \n",
      "  inflating: urbansound8k/fold1/177621-0-0-109.wav  \n",
      "  inflating: urbansound8k/fold1/177621-0-0-117.wav  \n",
      "  inflating: urbansound8k/fold1/177621-0-0-120.wav  \n",
      "  inflating: urbansound8k/fold1/177621-0-0-126.wav  \n",
      "  inflating: urbansound8k/fold1/177621-0-0-127.wav  \n",
      "  inflating: urbansound8k/fold1/177621-0-0-128.wav  \n",
      "  inflating: urbansound8k/fold1/177621-0-0-145.wav  \n",
      "  inflating: urbansound8k/fold1/177621-0-0-147.wav  \n",
      "  inflating: urbansound8k/fold1/177621-0-0-2.wav  \n",
      "  inflating: urbansound8k/fold1/177621-0-0-27.wav  \n",
      "  inflating: urbansound8k/fold1/177621-0-0-31.wav  \n",
      "  inflating: urbansound8k/fold1/177621-0-0-35.wav  \n",
      "  inflating: urbansound8k/fold1/177621-0-0-46.wav  \n",
      "  inflating: urbansound8k/fold1/177621-0-0-47.wav  \n",
      "  inflating: urbansound8k/fold1/177621-0-0-48.wav  \n",
      "  inflating: urbansound8k/fold1/177621-0-0-54.wav  \n",
      "  inflating: urbansound8k/fold1/177621-0-0-57.wav  \n",
      "  inflating: urbansound8k/fold1/177621-0-0-80.wav  \n",
      "  inflating: urbansound8k/fold1/177621-0-0-88.wav  \n",
      "  inflating: urbansound8k/fold1/177621-0-0-91.wav  \n",
      "  inflating: urbansound8k/fold1/177621-0-0-93.wav  \n",
      "  inflating: urbansound8k/fold1/17913-4-0-0.wav  \n",
      "  inflating: urbansound8k/fold1/17913-4-0-1.wav  \n",
      "  inflating: urbansound8k/fold1/17913-4-0-2.wav  \n",
      "  inflating: urbansound8k/fold1/17913-4-1-0.wav  \n",
      "  inflating: urbansound8k/fold1/17913-4-2-0.wav  \n",
      "  inflating: urbansound8k/fold1/179858-1-0-0.wav  \n",
      "  inflating: urbansound8k/fold1/179867-1-0-0.wav  \n",
      "  inflating: urbansound8k/fold1/180256-3-0-0.wav  \n",
      "  inflating: urbansound8k/fold1/180256-3-0-1.wav  \n",
      "  inflating: urbansound8k/fold1/180256-3-0-2.wav  \n",
      "  inflating: urbansound8k/fold1/180256-3-0-3.wav  \n",
      "  inflating: urbansound8k/fold1/180937-7-0-0.wav  \n",
      "  inflating: urbansound8k/fold1/180937-7-0-1.wav  \n",
      "  inflating: urbansound8k/fold1/180937-7-0-2.wav  \n",
      "  inflating: urbansound8k/fold1/180937-7-0-4.wav  \n",
      "  inflating: urbansound8k/fold1/180937-7-0-5.wav  \n",
      "  inflating: urbansound8k/fold1/180937-7-0-6.wav  \n",
      "  inflating: urbansound8k/fold1/180937-7-1-0.wav  \n",
      "  inflating: urbansound8k/fold1/180937-7-1-1.wav  \n",
      "  inflating: urbansound8k/fold1/180937-7-1-10.wav  \n",
      "  inflating: urbansound8k/fold1/180937-7-1-11.wav  \n",
      "  inflating: urbansound8k/fold1/180937-7-1-12.wav  \n",
      "  inflating: urbansound8k/fold1/180937-7-1-13.wav  \n",
      "  inflating: urbansound8k/fold1/180937-7-1-14.wav  \n",
      "  inflating: urbansound8k/fold1/180937-7-1-15.wav  \n",
      "  inflating: urbansound8k/fold1/180937-7-1-2.wav  \n",
      "  inflating: urbansound8k/fold1/180937-7-1-3.wav  \n",
      "  inflating: urbansound8k/fold1/180937-7-1-4.wav  \n",
      "  inflating: urbansound8k/fold1/180937-7-1-5.wav  \n",
      "  inflating: urbansound8k/fold1/180937-7-1-6.wav  \n",
      "  inflating: urbansound8k/fold1/180937-7-1-7.wav  \n",
      "  inflating: urbansound8k/fold1/180937-7-1-8.wav  \n",
      "  inflating: urbansound8k/fold1/180937-7-1-9.wav  \n",
      "  inflating: urbansound8k/fold1/180937-7-2-0.wav  \n",
      "  inflating: urbansound8k/fold1/180937-7-2-1.wav  \n",
      "  inflating: urbansound8k/fold1/180937-7-2-10.wav  \n",
      "  inflating: urbansound8k/fold1/180937-7-2-2.wav  \n",
      "  inflating: urbansound8k/fold1/180937-7-2-3.wav  \n",
      "  inflating: urbansound8k/fold1/180937-7-2-4.wav  \n",
      "  inflating: urbansound8k/fold1/180937-7-2-5.wav  \n",
      "  inflating: urbansound8k/fold1/180937-7-2-6.wav  \n",
      "  inflating: urbansound8k/fold1/180937-7-2-7.wav  \n",
      "  inflating: urbansound8k/fold1/180937-7-2-8.wav  \n",
      "  inflating: urbansound8k/fold1/180937-7-2-9.wav  \n",
      "  inflating: urbansound8k/fold1/180937-7-3-0.wav  \n",
      "  inflating: urbansound8k/fold1/180937-7-3-1.wav  \n",
      "  inflating: urbansound8k/fold1/180937-7-3-10.wav  \n",
      "  inflating: urbansound8k/fold1/180937-7-3-11.wav  \n",
      "  inflating: urbansound8k/fold1/180937-7-3-12.wav  \n",
      "  inflating: urbansound8k/fold1/180937-7-3-13.wav  \n",
      "  inflating: urbansound8k/fold1/180937-7-3-14.wav  \n",
      "  inflating: urbansound8k/fold1/180937-7-3-15.wav  \n",
      "  inflating: urbansound8k/fold1/180937-7-3-17.wav  \n",
      "  inflating: urbansound8k/fold1/180937-7-3-18.wav  \n",
      "  inflating: urbansound8k/fold1/180937-7-3-19.wav  \n",
      "  inflating: urbansound8k/fold1/180937-7-3-2.wav  \n",
      "  inflating: urbansound8k/fold1/180937-7-3-20.wav  \n",
      "  inflating: urbansound8k/fold1/180937-7-3-21.wav  \n",
      "  inflating: urbansound8k/fold1/180937-7-3-22.wav  \n",
      "  inflating: urbansound8k/fold1/180937-7-3-23.wav  \n",
      "  inflating: urbansound8k/fold1/180937-7-3-24.wav  \n",
      "  inflating: urbansound8k/fold1/180937-7-3-26.wav  \n",
      "  inflating: urbansound8k/fold1/180937-7-3-27.wav  \n",
      "  inflating: urbansound8k/fold1/180937-7-3-28.wav  \n",
      "  inflating: urbansound8k/fold1/180937-7-3-29.wav  \n",
      "  inflating: urbansound8k/fold1/180937-7-3-3.wav  \n",
      "  inflating: urbansound8k/fold1/180937-7-3-30.wav  \n",
      "  inflating: urbansound8k/fold1/180937-7-3-31.wav  \n",
      "  inflating: urbansound8k/fold1/180937-7-3-32.wav  \n",
      "  inflating: urbansound8k/fold1/180937-7-3-33.wav  \n",
      "  inflating: urbansound8k/fold1/180937-7-3-4.wav  \n",
      "  inflating: urbansound8k/fold1/180937-7-3-5.wav  \n",
      "  inflating: urbansound8k/fold1/180937-7-3-6.wav  \n",
      "  inflating: urbansound8k/fold1/180937-7-3-7.wav  \n",
      "  inflating: urbansound8k/fold1/180937-7-3-8.wav  \n",
      "  inflating: urbansound8k/fold1/180937-7-3-9.wav  \n",
      "  inflating: urbansound8k/fold1/180937-7-4-0.wav  \n",
      "  inflating: urbansound8k/fold1/180937-7-4-10.wav  \n",
      "  inflating: urbansound8k/fold1/180937-7-4-11.wav  \n",
      "  inflating: urbansound8k/fold1/180937-7-4-12.wav  \n",
      "  inflating: urbansound8k/fold1/180937-7-4-13.wav  \n",
      "  inflating: urbansound8k/fold1/180937-7-4-14.wav  \n",
      "  inflating: urbansound8k/fold1/180937-7-4-2.wav  \n",
      "  inflating: urbansound8k/fold1/180937-7-4-3.wav  \n",
      "  inflating: urbansound8k/fold1/180937-7-4-4.wav  \n",
      "  inflating: urbansound8k/fold1/180937-7-4-5.wav  \n",
      "  inflating: urbansound8k/fold1/180937-7-4-6.wav  \n",
      "  inflating: urbansound8k/fold1/180937-7-4-7.wav  \n",
      "  inflating: urbansound8k/fold1/180937-7-4-8.wav  \n",
      "  inflating: urbansound8k/fold1/180937-7-4-9.wav  \n",
      "  inflating: urbansound8k/fold1/182800-2-0-0.wav  \n",
      "  inflating: urbansound8k/fold1/182800-2-1-0.wav  \n",
      "  inflating: urbansound8k/fold1/182800-2-2-0.wav  \n",
      "  inflating: urbansound8k/fold1/182800-2-2-1.wav  \n",
      "  inflating: urbansound8k/fold1/182800-2-2-2.wav  \n",
      "  inflating: urbansound8k/fold1/182800-2-2-3.wav  \n",
      "  inflating: urbansound8k/fold1/182800-2-3-0.wav  \n",
      "  inflating: urbansound8k/fold1/182800-2-3-1.wav  \n",
      "  inflating: urbansound8k/fold1/184355-1-0-0.wav  \n",
      "  inflating: urbansound8k/fold1/19026-1-0-0.wav  \n",
      "  inflating: urbansound8k/fold1/191431-9-0-26.wav  \n",
      "  inflating: urbansound8k/fold1/191431-9-0-30.wav  \n",
      "  inflating: urbansound8k/fold1/191431-9-0-61.wav  \n",
      "  inflating: urbansound8k/fold1/191431-9-0-66.wav  \n",
      "  inflating: urbansound8k/fold1/191431-9-0-73.wav  \n",
      "  inflating: urbansound8k/fold1/191431-9-0-8.wav  \n",
      "  inflating: urbansound8k/fold1/192124-2-0-0.wav  \n",
      "  inflating: urbansound8k/fold1/192124-2-0-11.wav  \n",
      "  inflating: urbansound8k/fold1/192124-2-0-12.wav  \n",
      "  inflating: urbansound8k/fold1/192124-2-0-15.wav  \n",
      "  inflating: urbansound8k/fold1/192124-2-0-3.wav  \n",
      "  inflating: urbansound8k/fold1/192124-2-0-4.wav  \n",
      "  inflating: urbansound8k/fold1/192124-2-0-5.wav  \n",
      "  inflating: urbansound8k/fold1/192124-2-0-7.wav  \n",
      "  inflating: urbansound8k/fold1/193394-3-0-10.wav  \n",
      "  inflating: urbansound8k/fold1/193394-3-0-11.wav  \n",
      "  inflating: urbansound8k/fold1/193394-3-0-4.wav  \n",
      "  inflating: urbansound8k/fold1/193394-3-0-7.wav  \n",
      "  inflating: urbansound8k/fold1/193698-2-0-112.wav  \n",
      "  inflating: urbansound8k/fold1/193698-2-0-113.wav  \n",
      "  inflating: urbansound8k/fold1/193698-2-0-114.wav  \n",
      "  inflating: urbansound8k/fold1/193698-2-0-140.wav  \n",
      "  inflating: urbansound8k/fold1/193698-2-0-42.wav  \n",
      "  inflating: urbansound8k/fold1/193698-2-0-58.wav  \n",
      "  inflating: urbansound8k/fold1/193698-2-0-64.wav  \n",
      "  inflating: urbansound8k/fold1/193698-2-0-89.wav  \n",
      "  inflating: urbansound8k/fold1/194732-9-0-126.wav  \n",
      "  inflating: urbansound8k/fold1/194732-9-0-163.wav  \n",
      "  inflating: urbansound8k/fold1/194732-9-0-171.wav  \n",
      "  inflating: urbansound8k/fold1/194732-9-0-175.wav  \n",
      "  inflating: urbansound8k/fold1/194732-9-0-191.wav  \n",
      "  inflating: urbansound8k/fold1/194732-9-0-41.wav  \n",
      "  inflating: urbansound8k/fold1/194732-9-0-95.wav  \n",
      "  inflating: urbansound8k/fold1/196065-2-0-0.wav  \n",
      "  inflating: urbansound8k/fold1/196079-2-0-0.wav  \n",
      "  inflating: urbansound8k/fold1/196087-2-0-0.wav  \n",
      "  inflating: urbansound8k/fold1/196400-6-0-0.wav  \n",
      "  inflating: urbansound8k/fold1/197073-3-0-0.wav  \n",
      "  inflating: urbansound8k/fold1/197073-3-3-0.wav  \n",
      "  inflating: urbansound8k/fold1/197073-3-4-3.wav  \n",
      "  inflating: urbansound8k/fold1/197073-3-7-0.wav  \n",
      "  inflating: urbansound8k/fold1/197318-6-0-0.wav  \n",
      "  inflating: urbansound8k/fold1/197318-6-1-0.wav  \n",
      "  inflating: urbansound8k/fold1/197318-6-10-0.wav  \n",
      "  inflating: urbansound8k/fold1/197318-6-11-0.wav  \n",
      "  inflating: urbansound8k/fold1/197318-6-12-0.wav  \n",
      "  inflating: urbansound8k/fold1/197318-6-2-0.wav  \n",
      "  inflating: urbansound8k/fold1/197318-6-3-0.wav  \n",
      "  inflating: urbansound8k/fold1/197318-6-4-0.wav  \n",
      "  inflating: urbansound8k/fold1/197318-6-5-0.wav  \n",
      "  inflating: urbansound8k/fold1/197318-6-6-0.wav  \n",
      "  inflating: urbansound8k/fold1/197318-6-7-0.wav  \n",
      "  inflating: urbansound8k/fold1/197318-6-8-0.wav  \n",
      "  inflating: urbansound8k/fold1/197318-6-9-0.wav  \n",
      "  inflating: urbansound8k/fold1/203356-3-0-0.wav  \n",
      "  inflating: urbansound8k/fold1/203356-3-0-1.wav  \n",
      "  inflating: urbansound8k/fold1/203356-3-0-2.wav  \n",
      "  inflating: urbansound8k/fold1/203356-3-0-3.wav  \n",
      "  inflating: urbansound8k/fold1/203440-3-0-0.wav  \n",
      "  inflating: urbansound8k/fold1/203440-3-0-1.wav  \n",
      "  inflating: urbansound8k/fold1/203440-3-0-5.wav  \n",
      "  inflating: urbansound8k/fold1/203440-3-0-6.wav  \n",
      "  inflating: urbansound8k/fold1/21684-9-0-12.wav  \n",
      "  inflating: urbansound8k/fold1/21684-9-0-25.wav  \n",
      "  inflating: urbansound8k/fold1/21684-9-0-30.wav  \n",
      "  inflating: urbansound8k/fold1/21684-9-0-39.wav  \n",
      "  inflating: urbansound8k/fold1/21684-9-0-5.wav  \n",
      "  inflating: urbansound8k/fold1/21684-9-0-50.wav  \n",
      "  inflating: urbansound8k/fold1/21684-9-0-7.wav  \n",
      "  inflating: urbansound8k/fold1/22962-4-0-0.wav  \n",
      "  inflating: urbansound8k/fold1/22962-4-0-1.wav  \n",
      "  inflating: urbansound8k/fold1/22962-4-0-2.wav  \n",
      "  inflating: urbansound8k/fold1/24074-1-0-0.wav  \n",
      "  inflating: urbansound8k/fold1/24074-1-0-1.wav  \n",
      "  inflating: urbansound8k/fold1/24074-1-0-10.wav  \n",
      "  inflating: urbansound8k/fold1/24074-1-0-11.wav  \n",
      "  inflating: urbansound8k/fold1/24074-1-0-12.wav  \n",
      "  inflating: urbansound8k/fold1/24074-1-0-13.wav  \n",
      "  inflating: urbansound8k/fold1/24074-1-0-2.wav  \n",
      "  inflating: urbansound8k/fold1/24074-1-0-3.wav  \n",
      "  inflating: urbansound8k/fold1/24074-1-0-4.wav  \n",
      "  inflating: urbansound8k/fold1/24074-1-0-5.wav  \n",
      "  inflating: urbansound8k/fold1/24074-1-0-6.wav  \n",
      "  inflating: urbansound8k/fold1/24074-1-0-7.wav  \n",
      "  inflating: urbansound8k/fold1/24074-1-0-8.wav  \n",
      "  inflating: urbansound8k/fold1/24074-1-0-9.wav  \n",
      "  inflating: urbansound8k/fold1/26270-9-0-19.wav  \n",
      "  inflating: urbansound8k/fold1/26270-9-0-23.wav  \n",
      "  inflating: urbansound8k/fold1/26270-9-0-3.wav  \n",
      "  inflating: urbansound8k/fold1/26270-9-0-30.wav  \n",
      "  inflating: urbansound8k/fold1/26270-9-0-32.wav  \n",
      "  inflating: urbansound8k/fold1/26270-9-0-35.wav  \n",
      "  inflating: urbansound8k/fold1/30823-8-0-0.wav  \n",
      "  inflating: urbansound8k/fold1/31323-3-0-1.wav  \n",
      "  inflating: urbansound8k/fold1/31323-3-0-2.wav  \n",
      "  inflating: urbansound8k/fold1/31323-3-0-20.wav  \n",
      "  inflating: urbansound8k/fold1/31323-3-0-22.wav  \n",
      "  inflating: urbansound8k/fold1/31840-3-0-0.wav  \n",
      "  inflating: urbansound8k/fold1/31840-3-1-0.wav  \n",
      "  inflating: urbansound8k/fold1/40722-8-0-0.wav  \n",
      "  inflating: urbansound8k/fold1/40722-8-0-1.wav  \n",
      "  inflating: urbansound8k/fold1/40722-8-0-2.wav  \n",
      "  inflating: urbansound8k/fold1/40722-8-0-3.wav  \n",
      "  inflating: urbansound8k/fold1/40722-8-0-4.wav  \n",
      "  inflating: urbansound8k/fold1/40722-8-0-5.wav  \n",
      "  inflating: urbansound8k/fold1/40722-8-0-6.wav  \n",
      "  inflating: urbansound8k/fold1/40722-8-0-7.wav  \n",
      "  inflating: urbansound8k/fold1/40722-8-0-8.wav  \n",
      "  inflating: urbansound8k/fold1/43786-3-0-0.wav  \n",
      "  inflating: urbansound8k/fold1/43786-3-1-0.wav  \n",
      "  inflating: urbansound8k/fold1/43806-8-0-0.wav  \n",
      "  inflating: urbansound8k/fold1/44736-5-0-0.wav  \n",
      "  inflating: urbansound8k/fold1/44736-5-0-1.wav  \n",
      "  inflating: urbansound8k/fold1/46654-6-0-0.wav  \n",
      "  inflating: urbansound8k/fold1/46656-6-0-0.wav  \n",
      "  inflating: urbansound8k/fold1/46656-6-1-0.wav  \n",
      "  inflating: urbansound8k/fold1/46656-6-2-0.wav  \n",
      "  inflating: urbansound8k/fold1/46656-6-3-0.wav  \n",
      "  inflating: urbansound8k/fold1/46656-6-4-0.wav  \n",
      "  inflating: urbansound8k/fold1/46656-6-5-0.wav  \n",
      "  inflating: urbansound8k/fold1/46669-4-0-0.wav  \n",
      "  inflating: urbansound8k/fold1/46669-4-0-10.wav  \n",
      "  inflating: urbansound8k/fold1/46669-4-0-2.wav  \n",
      "  inflating: urbansound8k/fold1/46669-4-0-24.wav  \n",
      "  inflating: urbansound8k/fold1/46669-4-0-26.wav  \n",
      "  inflating: urbansound8k/fold1/46669-4-0-3.wav  \n",
      "  inflating: urbansound8k/fold1/46669-4-0-30.wav  \n",
      "  inflating: urbansound8k/fold1/46669-4-0-31.wav  \n",
      "  inflating: urbansound8k/fold1/46669-4-0-32.wav  \n",
      "  inflating: urbansound8k/fold1/46669-4-0-33.wav  \n",
      "  inflating: urbansound8k/fold1/46669-4-0-35.wav  \n",
      "  inflating: urbansound8k/fold1/46669-4-0-36.wav  \n",
      "  inflating: urbansound8k/fold1/46669-4-0-37.wav  \n",
      "  inflating: urbansound8k/fold1/46669-4-0-39.wav  \n",
      "  inflating: urbansound8k/fold1/46669-4-0-4.wav  \n",
      "  inflating: urbansound8k/fold1/46669-4-0-45.wav  \n",
      "  inflating: urbansound8k/fold1/46669-4-0-48.wav  \n",
      "  inflating: urbansound8k/fold1/46669-4-0-49.wav  \n",
      "  inflating: urbansound8k/fold1/46669-4-0-54.wav  \n",
      "  inflating: urbansound8k/fold1/46669-4-0-61.wav  \n",
      "  inflating: urbansound8k/fold1/46669-4-0-63.wav  \n",
      "  inflating: urbansound8k/fold1/46669-4-0-8.wav  \n",
      "  inflating: urbansound8k/fold1/46669-4-0-9.wav  \n",
      "  inflating: urbansound8k/fold1/46918-5-0-0.wav  \n",
      "  inflating: urbansound8k/fold1/46918-5-0-1.wav  \n",
      "  inflating: urbansound8k/fold1/46918-5-0-2.wav  \n",
      "  inflating: urbansound8k/fold1/50901-0-0-0.wav  \n",
      "  inflating: urbansound8k/fold1/50901-0-1-0.wav  \n",
      "  inflating: urbansound8k/fold1/50901-0-1-1.wav  \n",
      "  inflating: urbansound8k/fold1/51022-3-13-0.wav  \n",
      "  inflating: urbansound8k/fold1/51022-3-29-0.wav  \n",
      "  inflating: urbansound8k/fold1/51022-3-30-4.wav  \n",
      "  inflating: urbansound8k/fold1/51022-3-7-0.wav  \n",
      "  inflating: urbansound8k/fold1/54858-3-0-0.wav  \n",
      "  inflating: urbansound8k/fold1/54858-3-1-2.wav  \n",
      "  inflating: urbansound8k/fold1/54858-3-2-0.wav  \n",
      "  inflating: urbansound8k/fold1/55020-4-0-0.wav  \n",
      "  inflating: urbansound8k/fold1/55020-4-0-1.wav  \n",
      "  inflating: urbansound8k/fold1/55020-4-0-10.wav  \n",
      "  inflating: urbansound8k/fold1/55020-4-0-11.wav  \n",
      "  inflating: urbansound8k/fold1/55020-4-0-12.wav  \n",
      "  inflating: urbansound8k/fold1/55020-4-0-13.wav  \n",
      "  inflating: urbansound8k/fold1/55020-4-0-14.wav  \n",
      "  inflating: urbansound8k/fold1/55020-4-0-2.wav  \n",
      "  inflating: urbansound8k/fold1/55020-4-0-3.wav  \n",
      "  inflating: urbansound8k/fold1/55020-4-0-4.wav  \n",
      "  inflating: urbansound8k/fold1/55020-4-0-5.wav  \n",
      "  inflating: urbansound8k/fold1/55020-4-0-6.wav  \n",
      "  inflating: urbansound8k/fold1/55020-4-0-7.wav  \n",
      "  inflating: urbansound8k/fold1/55020-4-0-8.wav  \n",
      "  inflating: urbansound8k/fold1/55020-4-0-9.wav  \n",
      "  inflating: urbansound8k/fold1/57320-0-0-0.wav  \n",
      "  inflating: urbansound8k/fold1/57320-0-0-10.wav  \n",
      "  inflating: urbansound8k/fold1/57320-0-0-11.wav  \n",
      "  inflating: urbansound8k/fold1/57320-0-0-13.wav  \n",
      "  inflating: urbansound8k/fold1/57320-0-0-15.wav  \n",
      "  inflating: urbansound8k/fold1/57320-0-0-21.wav  \n",
      "  inflating: urbansound8k/fold1/57320-0-0-22.wav  \n",
      "  inflating: urbansound8k/fold1/57320-0-0-24.wav  \n",
      "  inflating: urbansound8k/fold1/57320-0-0-27.wav  \n",
      "  inflating: urbansound8k/fold1/57320-0-0-31.wav  \n",
      "  inflating: urbansound8k/fold1/57320-0-0-32.wav  \n",
      "  inflating: urbansound8k/fold1/57320-0-0-33.wav  \n",
      "  inflating: urbansound8k/fold1/57320-0-0-34.wav  \n",
      "  inflating: urbansound8k/fold1/57320-0-0-36.wav  \n",
      "  inflating: urbansound8k/fold1/57320-0-0-37.wav  \n",
      "  inflating: urbansound8k/fold1/57320-0-0-38.wav  \n",
      "  inflating: urbansound8k/fold1/57320-0-0-39.wav  \n",
      "  inflating: urbansound8k/fold1/57320-0-0-4.wav  \n",
      "  inflating: urbansound8k/fold1/57320-0-0-42.wav  \n",
      "  inflating: urbansound8k/fold1/57320-0-0-45.wav  \n",
      "  inflating: urbansound8k/fold1/57320-0-0-5.wav  \n",
      "  inflating: urbansound8k/fold1/57320-0-0-6.wav  \n",
      "  inflating: urbansound8k/fold1/57320-0-0-7.wav  \n",
      "  inflating: urbansound8k/fold1/57320-0-0-9.wav  \n",
      "  inflating: urbansound8k/fold1/57553-3-0-0.wav  \n",
      "  inflating: urbansound8k/fold1/57553-3-1-0.wav  \n",
      "  inflating: urbansound8k/fold1/57553-3-2-0.wav  \n",
      "  inflating: urbansound8k/fold1/57584-4-0-0.wav  \n",
      "  inflating: urbansound8k/fold1/57584-4-0-1.wav  \n",
      "  inflating: urbansound8k/fold1/57584-4-0-2.wav  \n",
      "  inflating: urbansound8k/fold1/57584-4-0-3.wav  \n",
      "  inflating: urbansound8k/fold1/57584-4-0-4.wav  \n",
      "  inflating: urbansound8k/fold1/57584-4-0-5.wav  \n",
      "  inflating: urbansound8k/fold1/57584-4-0-6.wav  \n",
      "  inflating: urbansound8k/fold1/57584-4-0-7.wav  \n",
      "  inflating: urbansound8k/fold1/57584-4-0-8.wav  \n",
      "  inflating: urbansound8k/fold1/59277-0-0-0.wav  \n",
      "  inflating: urbansound8k/fold1/59277-0-0-1.wav  \n",
      "  inflating: urbansound8k/fold1/59277-0-0-2.wav  \n",
      "  inflating: urbansound8k/fold1/59277-0-0-3.wav  \n",
      "  inflating: urbansound8k/fold1/59277-0-0-4.wav  \n",
      "  inflating: urbansound8k/fold1/59277-0-0-5.wav  \n",
      "  inflating: urbansound8k/fold1/59277-0-0-6.wav  \n",
      "  inflating: urbansound8k/fold1/59277-0-0-7.wav  \n",
      "  inflating: urbansound8k/fold1/65749-3-1-12.wav  \n",
      "  inflating: urbansound8k/fold1/65749-3-1-14.wav  \n",
      "  inflating: urbansound8k/fold1/65749-3-1-24.wav  \n",
      "  inflating: urbansound8k/fold1/65749-3-1-9.wav  \n",
      "  inflating: urbansound8k/fold1/69304-9-0-0.wav  \n",
      "  inflating: urbansound8k/fold1/69304-9-0-12.wav  \n",
      "  inflating: urbansound8k/fold1/69304-9-0-14.wav  \n",
      "  inflating: urbansound8k/fold1/69304-9-0-15.wav  \n",
      "  inflating: urbansound8k/fold1/69304-9-0-6.wav  \n",
      "  inflating: urbansound8k/fold1/69304-9-0-7.wav  \n",
      "  inflating: urbansound8k/fold1/7061-6-0-0.wav  \n",
      "  inflating: urbansound8k/fold1/71087-4-0-0.wav  \n",
      "  inflating: urbansound8k/fold1/71087-4-1-0.wav  \n",
      "  inflating: urbansound8k/fold1/72261-3-0-17.wav  \n",
      "  inflating: urbansound8k/fold1/72261-3-0-23.wav  \n",
      "  inflating: urbansound8k/fold1/72261-3-0-27.wav  \n",
      "  inflating: urbansound8k/fold1/72261-3-0-6.wav  \n",
      "  inflating: urbansound8k/fold1/72579-3-0-0.wav  \n",
      "  inflating: urbansound8k/fold1/72579-3-0-2.wav  \n",
      "  inflating: urbansound8k/fold1/72579-3-0-3.wav  \n",
      "  inflating: urbansound8k/fold1/72579-3-0-4.wav  \n",
      "  inflating: urbansound8k/fold1/73277-9-0-0.wav  \n",
      "  inflating: urbansound8k/fold1/73277-9-0-16.wav  \n",
      "  inflating: urbansound8k/fold1/73277-9-0-17.wav  \n",
      "  inflating: urbansound8k/fold1/73277-9-0-19.wav  \n",
      "  inflating: urbansound8k/fold1/73277-9-0-24.wav  \n",
      "  inflating: urbansound8k/fold1/73277-9-0-28.wav  \n",
      "  inflating: urbansound8k/fold1/7383-3-0-0.wav  \n",
      "  inflating: urbansound8k/fold1/7383-3-0-1.wav  \n",
      "  inflating: urbansound8k/fold1/7383-3-1-0.wav  \n",
      "  inflating: urbansound8k/fold1/76093-6-0-0.wav  \n",
      "  inflating: urbansound8k/fold1/76093-6-1-0.wav  \n",
      "  inflating: urbansound8k/fold1/77246-6-0-0.wav  \n",
      "  inflating: urbansound8k/fold1/77766-9-0-0.wav  \n",
      "  inflating: urbansound8k/fold1/77766-9-0-3.wav  \n",
      "  inflating: urbansound8k/fold1/77766-9-0-4.wav  \n",
      "  inflating: urbansound8k/fold1/77766-9-0-5.wav  \n",
      "  inflating: urbansound8k/fold1/77766-9-0-6.wav  \n",
      "  inflating: urbansound8k/fold1/77766-9-0-7.wav  \n",
      "  inflating: urbansound8k/fold1/78360-4-0-0.wav  \n",
      "  inflating: urbansound8k/fold1/78360-4-0-1.wav  \n",
      "  inflating: urbansound8k/fold1/78360-4-0-11.wav  \n",
      "  inflating: urbansound8k/fold1/78360-4-0-12.wav  \n",
      "  inflating: urbansound8k/fold1/78360-4-0-14.wav  \n",
      "  inflating: urbansound8k/fold1/78360-4-0-15.wav  \n",
      "  inflating: urbansound8k/fold1/78360-4-0-16.wav  \n",
      "  inflating: urbansound8k/fold1/78360-4-0-17.wav  \n",
      "  inflating: urbansound8k/fold1/78360-4-0-18.wav  \n",
      "  inflating: urbansound8k/fold1/78360-4-0-19.wav  \n",
      "  inflating: urbansound8k/fold1/78360-4-0-2.wav  \n",
      "  inflating: urbansound8k/fold1/78360-4-0-20.wav  \n",
      "  inflating: urbansound8k/fold1/78360-4-0-21.wav  \n",
      "  inflating: urbansound8k/fold1/78360-4-0-22.wav  \n",
      "  inflating: urbansound8k/fold1/78360-4-0-23.wav  \n",
      "  inflating: urbansound8k/fold1/78360-4-0-3.wav  \n",
      "  inflating: urbansound8k/fold1/78360-4-0-4.wav  \n",
      "  inflating: urbansound8k/fold1/78360-4-0-5.wav  \n",
      "  inflating: urbansound8k/fold1/78360-4-0-6.wav  \n",
      "  inflating: urbansound8k/fold1/78360-4-0-7.wav  \n",
      "  inflating: urbansound8k/fold1/78360-4-0-8.wav  \n",
      "  inflating: urbansound8k/fold1/78360-4-0-9.wav  \n",
      "  inflating: urbansound8k/fold1/83199-9-0-0.wav  \n",
      "  inflating: urbansound8k/fold1/86278-6-0-0.wav  \n",
      "  inflating: urbansound8k/fold1/86279-3-0-0.wav  \n",
      "  inflating: urbansound8k/fold1/87275-1-0-0.wav  \n",
      "  inflating: urbansound8k/fold1/87275-1-1-0.wav  \n",
      "  inflating: urbansound8k/fold1/87275-1-2-0.wav  \n",
      "  inflating: urbansound8k/fold1/87275-1-3-0.wav  \n",
      "  inflating: urbansound8k/fold1/87275-1-4-0.wav  \n",
      "  inflating: urbansound8k/fold1/87275-1-5-0.wav  \n",
      "  inflating: urbansound8k/fold1/88466-7-0-0.wav  \n",
      "  inflating: urbansound8k/fold1/89212-3-0-0.wav  \n",
      "  inflating: urbansound8k/fold1/89948-5-0-0.wav  \n",
      "  inflating: urbansound8k/fold1/9031-3-1-0.wav  \n",
      "  inflating: urbansound8k/fold1/9031-3-2-0.wav  \n",
      "  inflating: urbansound8k/fold1/9031-3-3-0.wav  \n",
      "  inflating: urbansound8k/fold1/9031-3-4-0.wav  \n",
      "  inflating: urbansound8k/fold1/94868-1-0-0.wav  \n",
      "  inflating: urbansound8k/fold1/94868-1-1-0.wav  \n",
      "  inflating: urbansound8k/fold1/94868-1-2-0.wav  \n",
      "  inflating: urbansound8k/fold1/96158-4-0-0.wav  \n",
      "  inflating: urbansound8k/fold1/97317-2-0-22.wav  \n",
      "  inflating: urbansound8k/fold1/97317-2-0-23.wav  \n",
      "  inflating: urbansound8k/fold1/97317-2-0-25.wav  \n",
      "  inflating: urbansound8k/fold1/97317-2-0-28.wav  \n",
      "  inflating: urbansound8k/fold1/97317-2-0-34.wav  \n",
      "  inflating: urbansound8k/fold1/97317-2-0-36.wav  \n",
      "  inflating: urbansound8k/fold1/97317-2-0-5.wav  \n",
      "  inflating: urbansound8k/fold1/98223-7-0-0.wav  \n",
      "  inflating: urbansound8k/fold1/98223-7-1-0.wav  \n",
      "  inflating: urbansound8k/fold1/98223-7-10-0.wav  \n",
      "  inflating: urbansound8k/fold1/98223-7-2-0.wav  \n",
      "  inflating: urbansound8k/fold1/98223-7-3-0.wav  \n",
      "  inflating: urbansound8k/fold1/98223-7-4-0.wav  \n",
      "  inflating: urbansound8k/fold1/98223-7-5-0.wav  \n",
      "  inflating: urbansound8k/fold1/98223-7-6-0.wav  \n",
      "  inflating: urbansound8k/fold1/98223-7-7-0.wav  \n",
      "  inflating: urbansound8k/fold1/98223-7-8-0.wav  \n",
      "  inflating: urbansound8k/fold1/98223-7-9-0.wav  \n",
      "  inflating: urbansound8k/fold1/99180-9-0-0.wav  \n",
      "  inflating: urbansound8k/fold1/99180-9-0-2.wav  \n",
      "  inflating: urbansound8k/fold1/99180-9-0-36.wav  \n",
      "  inflating: urbansound8k/fold1/99180-9-0-48.wav  \n",
      "  inflating: urbansound8k/fold1/99180-9-0-49.wav  \n",
      "  inflating: urbansound8k/fold1/99180-9-0-7.wav  \n",
      "  inflating: urbansound8k/fold10/100648-1-0-0.wav  \n",
      "  inflating: urbansound8k/fold10/100648-1-1-0.wav  \n",
      "  inflating: urbansound8k/fold10/100648-1-2-0.wav  \n",
      "  inflating: urbansound8k/fold10/100648-1-3-0.wav  \n",
      "  inflating: urbansound8k/fold10/100648-1-4-0.wav  \n",
      "  inflating: urbansound8k/fold10/100795-3-0-0.wav  \n",
      "  inflating: urbansound8k/fold10/100795-3-1-0.wav  \n",
      "  inflating: urbansound8k/fold10/100795-3-1-1.wav  \n",
      "  inflating: urbansound8k/fold10/100795-3-1-2.wav  \n",
      "  inflating: urbansound8k/fold10/101382-2-0-10.wav  \n",
      "  inflating: urbansound8k/fold10/101382-2-0-12.wav  \n",
      "  inflating: urbansound8k/fold10/101382-2-0-20.wav  \n",
      "  inflating: urbansound8k/fold10/101382-2-0-21.wav  \n",
      "  inflating: urbansound8k/fold10/101382-2-0-29.wav  \n",
      "  inflating: urbansound8k/fold10/101382-2-0-33.wav  \n",
      "  inflating: urbansound8k/fold10/101382-2-0-42.wav  \n",
      "  inflating: urbansound8k/fold10/101382-2-0-45.wav  \n",
      "  inflating: urbansound8k/fold10/102103-3-0-0.wav  \n",
      "  inflating: urbansound8k/fold10/102103-3-1-0.wav  \n",
      "  inflating: urbansound8k/fold10/102857-5-0-0.wav  \n",
      "  inflating: urbansound8k/fold10/102857-5-0-1.wav  \n",
      "  inflating: urbansound8k/fold10/102857-5-0-10.wav  \n",
      "  inflating: urbansound8k/fold10/102857-5-0-11.wav  \n",
      "  inflating: urbansound8k/fold10/102857-5-0-12.wav  \n",
      "  inflating: urbansound8k/fold10/102857-5-0-13.wav  \n",
      "  inflating: urbansound8k/fold10/102857-5-0-14.wav  \n",
      "  inflating: urbansound8k/fold10/102857-5-0-15.wav  \n",
      "  inflating: urbansound8k/fold10/102857-5-0-16.wav  \n",
      "  inflating: urbansound8k/fold10/102857-5-0-17.wav  \n",
      "  inflating: urbansound8k/fold10/102857-5-0-18.wav  \n",
      "  inflating: urbansound8k/fold10/102857-5-0-19.wav  \n",
      "  inflating: urbansound8k/fold10/102857-5-0-2.wav  \n",
      "  inflating: urbansound8k/fold10/102857-5-0-20.wav  \n",
      "  inflating: urbansound8k/fold10/102857-5-0-21.wav  \n",
      "  inflating: urbansound8k/fold10/102857-5-0-22.wav  \n",
      "  inflating: urbansound8k/fold10/102857-5-0-23.wav  \n",
      "  inflating: urbansound8k/fold10/102857-5-0-24.wav  \n",
      "  inflating: urbansound8k/fold10/102857-5-0-25.wav  \n",
      "  inflating: urbansound8k/fold10/102857-5-0-26.wav  \n",
      "  inflating: urbansound8k/fold10/102857-5-0-27.wav  \n",
      "  inflating: urbansound8k/fold10/102857-5-0-28.wav  \n",
      "  inflating: urbansound8k/fold10/102857-5-0-29.wav  \n",
      "  inflating: urbansound8k/fold10/102857-5-0-3.wav  \n",
      "  inflating: urbansound8k/fold10/102857-5-0-30.wav  \n",
      "  inflating: urbansound8k/fold10/102857-5-0-4.wav  \n",
      "  inflating: urbansound8k/fold10/102857-5-0-5.wav  \n",
      "  inflating: urbansound8k/fold10/102857-5-0-6.wav  \n",
      "  inflating: urbansound8k/fold10/102857-5-0-7.wav  \n",
      "  inflating: urbansound8k/fold10/102857-5-0-8.wav  \n",
      "  inflating: urbansound8k/fold10/102857-5-0-9.wav  \n",
      "  inflating: urbansound8k/fold10/103438-5-0-0.wav  \n",
      "  inflating: urbansound8k/fold10/103438-5-0-1.wav  \n",
      "  inflating: urbansound8k/fold10/103438-5-0-2.wav  \n",
      "  inflating: urbansound8k/fold10/106014-5-0-0.wav  \n",
      "  inflating: urbansound8k/fold10/106014-5-0-1.wav  \n",
      "  inflating: urbansound8k/fold10/106014-5-0-2.wav  \n",
      "  inflating: urbansound8k/fold10/106014-5-0-3.wav  \n",
      "  inflating: urbansound8k/fold10/106014-5-0-4.wav  \n",
      "  inflating: urbansound8k/fold10/115241-9-0-1.wav  \n",
      "  inflating: urbansound8k/fold10/115241-9-0-14.wav  \n",
      "  inflating: urbansound8k/fold10/115241-9-0-2.wav  \n",
      "  inflating: urbansound8k/fold10/115241-9-0-20.wav  \n",
      "  inflating: urbansound8k/fold10/115241-9-0-6.wav  \n",
      "  inflating: urbansound8k/fold10/115241-9-0-8.wav  \n",
      "  inflating: urbansound8k/fold10/115241-9-0-9.wav  \n",
      "  inflating: urbansound8k/fold10/115418-9-0-11.wav  \n",
      "  inflating: urbansound8k/fold10/115418-9-0-12.wav  \n",
      "  inflating: urbansound8k/fold10/115418-9-0-15.wav  \n",
      "  inflating: urbansound8k/fold10/115418-9-0-20.wav  \n",
      "  inflating: urbansound8k/fold10/115418-9-0-29.wav  \n",
      "  inflating: urbansound8k/fold10/115418-9-0-6.wav  \n",
      "  inflating: urbansound8k/fold10/11722-3-0-0.wav  \n",
      "  inflating: urbansound8k/fold10/11722-3-1-0.wav  \n",
      "  inflating: urbansound8k/fold10/117889-9-0-12.wav  \n",
      "  inflating: urbansound8k/fold10/117889-9-0-20.wav  \n",
      "  inflating: urbansound8k/fold10/117889-9-0-30.wav  \n",
      "  inflating: urbansound8k/fold10/117889-9-0-36.wav  \n",
      "  inflating: urbansound8k/fold10/117889-9-0-39.wav  \n",
      "  inflating: urbansound8k/fold10/117889-9-0-40.wav  \n",
      "  inflating: urbansound8k/fold10/118278-4-0-0.wav  \n",
      "  inflating: urbansound8k/fold10/118278-4-0-1.wav  \n",
      "  inflating: urbansound8k/fold10/118278-4-0-10.wav  \n",
      "  inflating: urbansound8k/fold10/118278-4-0-11.wav  \n",
      "  inflating: urbansound8k/fold10/118278-4-0-12.wav  \n",
      "  inflating: urbansound8k/fold10/118278-4-0-13.wav  \n",
      "  inflating: urbansound8k/fold10/118278-4-0-2.wav  \n",
      "  inflating: urbansound8k/fold10/118278-4-0-3.wav  \n",
      "  inflating: urbansound8k/fold10/118278-4-0-4.wav  \n",
      "  inflating: urbansound8k/fold10/118278-4-0-5.wav  \n",
      "  inflating: urbansound8k/fold10/118278-4-0-6.wav  \n",
      "  inflating: urbansound8k/fold10/118278-4-0-7.wav  \n",
      "  inflating: urbansound8k/fold10/118278-4-0-8.wav  \n",
      "  inflating: urbansound8k/fold10/118278-4-0-9.wav  \n",
      "  inflating: urbansound8k/fold10/118558-5-0-0.wav  \n",
      "  inflating: urbansound8k/fold10/118558-5-0-1.wav  \n",
      "  inflating: urbansound8k/fold10/118558-5-0-2.wav  \n",
      "  inflating: urbansound8k/fold10/118558-5-1-0.wav  \n",
      "  inflating: urbansound8k/fold10/118558-5-1-1.wav  \n",
      "  inflating: urbansound8k/fold10/118558-5-1-2.wav  \n",
      "  inflating: urbansound8k/fold10/118558-5-2-0.wav  \n",
      "  inflating: urbansound8k/fold10/118558-5-2-1.wav  \n",
      "  inflating: urbansound8k/fold10/118558-5-2-2.wav  \n",
      "  inflating: urbansound8k/fold10/118558-5-2-3.wav  \n",
      "  inflating: urbansound8k/fold10/119067-0-0-0.wav  \n",
      "  inflating: urbansound8k/fold10/119067-0-0-1.wav  \n",
      "  inflating: urbansound8k/fold10/119067-0-0-2.wav  \n",
      "  inflating: urbansound8k/fold10/128240-3-0-1.wav  \n",
      "  inflating: urbansound8k/fold10/128240-3-0-20.wav  \n",
      "  inflating: urbansound8k/fold10/128240-3-0-39.wav  \n",
      "  inflating: urbansound8k/fold10/128240-3-0-42.wav  \n",
      "  inflating: urbansound8k/fold10/128470-3-0-0.wav  \n",
      "  inflating: urbansound8k/fold10/128470-3-0-1.wav  \n",
      "  inflating: urbansound8k/fold10/128470-3-0-5.wav  \n",
      "  inflating: urbansound8k/fold10/128470-3-0-8.wav  \n",
      "  inflating: urbansound8k/fold10/129750-2-0-3.wav  \n",
      "  inflating: urbansound8k/fold10/129750-2-0-34.wav  \n",
      "  inflating: urbansound8k/fold10/129750-2-0-36.wav  \n",
      "  inflating: urbansound8k/fold10/129750-2-0-37.wav  \n",
      "  inflating: urbansound8k/fold10/129750-2-0-4.wav  \n",
      "  inflating: urbansound8k/fold10/129750-2-0-45.wav  \n",
      "  inflating: urbansound8k/fold10/129750-2-0-46.wav  \n",
      "  inflating: urbansound8k/fold10/129750-2-0-48.wav  \n",
      "  inflating: urbansound8k/fold10/136558-9-0-1.wav  \n",
      "  inflating: urbansound8k/fold10/136558-9-0-2.wav  \n",
      "  inflating: urbansound8k/fold10/136558-9-1-10.wav  \n",
      "  inflating: urbansound8k/fold10/136558-9-1-21.wav  \n",
      "  inflating: urbansound8k/fold10/136558-9-1-26.wav  \n",
      "  inflating: urbansound8k/fold10/136558-9-1-39.wav  \n",
      "  inflating: urbansound8k/fold10/138017-9-0-2.wav  \n",
      "  inflating: urbansound8k/fold10/138017-9-0-9.wav  \n",
      "  inflating: urbansound8k/fold10/138017-9-1-10.wav  \n",
      "  inflating: urbansound8k/fold10/138017-9-1-16.wav  \n",
      "  inflating: urbansound8k/fold10/138017-9-1-4.wav  \n",
      "  inflating: urbansound8k/fold10/138017-9-1-6.wav  \n",
      "  inflating: urbansound8k/fold10/141240-5-0-0.wav  \n",
      "  inflating: urbansound8k/fold10/141240-5-1-0.wav  \n",
      "  inflating: urbansound8k/fold10/142641-3-0-0.wav  \n",
      "  inflating: urbansound8k/fold10/14468-3-0-2.wav  \n",
      "  inflating: urbansound8k/fold10/14468-3-0-3.wav  \n",
      "  inflating: urbansound8k/fold10/14468-3-1-0.wav  \n",
      "  inflating: urbansound8k/fold10/14468-3-5-0.wav  \n",
      "  inflating: urbansound8k/fold10/14470-2-0-10.wav  \n",
      "  inflating: urbansound8k/fold10/14470-2-0-14.wav  \n",
      "  inflating: urbansound8k/fold10/14470-2-0-21.wav  \n",
      "  inflating: urbansound8k/fold10/14470-2-0-4.wav  \n",
      "  inflating: urbansound8k/fold10/14470-2-0-56.wav  \n",
      "  inflating: urbansound8k/fold10/14470-2-0-65.wav  \n",
      "  inflating: urbansound8k/fold10/14470-2-0-70.wav  \n",
      "  inflating: urbansound8k/fold10/14470-2-0-72.wav  \n",
      "  inflating: urbansound8k/fold10/146244-4-0-0.wav  \n",
      "  inflating: urbansound8k/fold10/147491-9-0-0.wav  \n",
      "  inflating: urbansound8k/fold10/147491-9-0-5.wav  \n",
      "  inflating: urbansound8k/fold10/147491-9-2-10.wav  \n",
      "  inflating: urbansound8k/fold10/147491-9-2-25.wav  \n",
      "  inflating: urbansound8k/fold10/147491-9-2-32.wav  \n",
      "  inflating: urbansound8k/fold10/147491-9-2-6.wav  \n",
      "  inflating: urbansound8k/fold10/155241-9-0-50.wav  \n",
      "  inflating: urbansound8k/fold10/155241-9-0-56.wav  \n",
      "  inflating: urbansound8k/fold10/155241-9-0-69.wav  \n",
      "  inflating: urbansound8k/fold10/155241-9-0-79.wav  \n",
      "  inflating: urbansound8k/fold10/155241-9-0-8.wav  \n",
      "  inflating: urbansound8k/fold10/155241-9-0-88.wav  \n",
      "  inflating: urbansound8k/fold10/155262-2-0-101.wav  \n",
      "  inflating: urbansound8k/fold10/155262-2-0-11.wav  \n",
      "  inflating: urbansound8k/fold10/155262-2-0-15.wav  \n",
      "  inflating: urbansound8k/fold10/155262-2-0-2.wav  \n",
      "  inflating: urbansound8k/fold10/155262-2-0-21.wav  \n",
      "  inflating: urbansound8k/fold10/155262-2-0-48.wav  \n",
      "  inflating: urbansound8k/fold10/155262-2-0-58.wav  \n",
      "  inflating: urbansound8k/fold10/155262-2-0-63.wav  \n",
      "  inflating: urbansound8k/fold10/155280-2-0-10.wav  \n",
      "  inflating: urbansound8k/fold10/155280-2-0-11.wav  \n",
      "  inflating: urbansound8k/fold10/155280-2-0-13.wav  \n",
      "  inflating: urbansound8k/fold10/155280-2-0-15.wav  \n",
      "  inflating: urbansound8k/fold10/155280-2-0-3.wav  \n",
      "  inflating: urbansound8k/fold10/155280-2-0-5.wav  \n",
      "  inflating: urbansound8k/fold10/155280-2-0-6.wav  \n",
      "  inflating: urbansound8k/fold10/155280-2-0-7.wav  \n",
      "  inflating: urbansound8k/fold10/155311-3-0-0.wav  \n",
      "  inflating: urbansound8k/fold10/15544-5-0-0.wav  \n",
      "  inflating: urbansound8k/fold10/15544-5-0-1.wav  \n",
      "  inflating: urbansound8k/fold10/15544-5-0-10.wav  \n",
      "  inflating: urbansound8k/fold10/15544-5-0-11.wav  \n",
      "  inflating: urbansound8k/fold10/15544-5-0-12.wav  \n",
      "  inflating: urbansound8k/fold10/15544-5-0-13.wav  \n",
      "  inflating: urbansound8k/fold10/15544-5-0-14.wav  \n",
      "  inflating: urbansound8k/fold10/15544-5-0-15.wav  \n",
      "  inflating: urbansound8k/fold10/15544-5-0-16.wav  \n",
      "  inflating: urbansound8k/fold10/15544-5-0-17.wav  \n",
      "  inflating: urbansound8k/fold10/15544-5-0-18.wav  \n",
      "  inflating: urbansound8k/fold10/15544-5-0-19.wav  \n",
      "  inflating: urbansound8k/fold10/15544-5-0-2.wav  \n",
      "  inflating: urbansound8k/fold10/15544-5-0-3.wav  \n",
      "  inflating: urbansound8k/fold10/15544-5-0-4.wav  \n",
      "  inflating: urbansound8k/fold10/15544-5-0-5.wav  \n",
      "  inflating: urbansound8k/fold10/15544-5-0-6.wav  \n",
      "  inflating: urbansound8k/fold10/15544-5-0-7.wav  \n",
      "  inflating: urbansound8k/fold10/15544-5-0-8.wav  \n",
      "  inflating: urbansound8k/fold10/15544-5-0-9.wav  \n",
      "  inflating: urbansound8k/fold10/157207-6-0-0.wav  \n",
      "  inflating: urbansound8k/fold10/157207-6-1-0.wav  \n",
      "  inflating: urbansound8k/fold10/157207-6-10-0.wav  \n",
      "  inflating: urbansound8k/fold10/157207-6-2-0.wav  \n",
      "  inflating: urbansound8k/fold10/157207-6-3-0.wav  \n",
      "  inflating: urbansound8k/fold10/157207-6-4-0.wav  \n",
      "  inflating: urbansound8k/fold10/157207-6-5-0.wav  \n",
      "  inflating: urbansound8k/fold10/157207-6-6-0.wav  \n",
      "  inflating: urbansound8k/fold10/157207-6-7-0.wav  \n",
      "  inflating: urbansound8k/fold10/157207-6-8-0.wav  \n",
      "  inflating: urbansound8k/fold10/157207-6-9-0.wav  \n",
      "  inflating: urbansound8k/fold10/157800-6-0-0.wav  \n",
      "  inflating: urbansound8k/fold10/159709-6-0-0.wav  \n",
      "  inflating: urbansound8k/fold10/159742-8-0-0.wav  \n",
      "  inflating: urbansound8k/fold10/159742-8-0-1.wav  \n",
      "  inflating: urbansound8k/fold10/159742-8-0-10.wav  \n",
      "  inflating: urbansound8k/fold10/159742-8-0-11.wav  \n",
      "  inflating: urbansound8k/fold10/159742-8-0-12.wav  \n",
      "  inflating: urbansound8k/fold10/159742-8-0-13.wav  \n",
      "  inflating: urbansound8k/fold10/159742-8-0-14.wav  \n",
      "  inflating: urbansound8k/fold10/159742-8-0-2.wav  \n",
      "  inflating: urbansound8k/fold10/159742-8-0-3.wav  \n",
      "  inflating: urbansound8k/fold10/159742-8-0-4.wav  \n",
      "  inflating: urbansound8k/fold10/159742-8-0-5.wav  \n",
      "  inflating: urbansound8k/fold10/159742-8-0-6.wav  \n",
      "  inflating: urbansound8k/fold10/159742-8-0-7.wav  \n",
      "  inflating: urbansound8k/fold10/159742-8-0-8.wav  \n",
      "  inflating: urbansound8k/fold10/159742-8-0-9.wav  \n",
      "  inflating: urbansound8k/fold10/162134-7-0-0.wav  \n",
      "  inflating: urbansound8k/fold10/162134-7-0-1.wav  \n",
      "  inflating: urbansound8k/fold10/162134-7-0-2.wav  \n",
      "  inflating: urbansound8k/fold10/162134-7-1-0.wav  \n",
      "  inflating: urbansound8k/fold10/162134-7-10-0.wav  \n",
      "  inflating: urbansound8k/fold10/162134-7-10-1.wav  \n",
      "  inflating: urbansound8k/fold10/162134-7-10-2.wav  \n",
      "  inflating: urbansound8k/fold10/162134-7-10-3.wav  \n",
      "  inflating: urbansound8k/fold10/162134-7-11-0.wav  \n",
      "  inflating: urbansound8k/fold10/162134-7-11-1.wav  \n",
      "  inflating: urbansound8k/fold10/162134-7-11-2.wav  \n",
      "  inflating: urbansound8k/fold10/162134-7-11-3.wav  \n",
      "  inflating: urbansound8k/fold10/162134-7-11-4.wav  \n",
      "  inflating: urbansound8k/fold10/162134-7-11-5.wav  \n",
      "  inflating: urbansound8k/fold10/162134-7-11-6.wav  \n",
      "  inflating: urbansound8k/fold10/162134-7-11-7.wav  \n",
      "  inflating: urbansound8k/fold10/162134-7-12-0.wav  \n",
      "  inflating: urbansound8k/fold10/162134-7-12-1.wav  \n",
      "  inflating: urbansound8k/fold10/162134-7-12-2.wav  \n",
      "  inflating: urbansound8k/fold10/162134-7-12-3.wav  \n",
      "  inflating: urbansound8k/fold10/162134-7-12-4.wav  \n",
      "  inflating: urbansound8k/fold10/162134-7-13-0.wav  \n",
      "  inflating: urbansound8k/fold10/162134-7-13-1.wav  \n",
      "  inflating: urbansound8k/fold10/162134-7-13-2.wav  \n",
      "  inflating: urbansound8k/fold10/162134-7-13-3.wav  \n",
      "  inflating: urbansound8k/fold10/162134-7-13-4.wav  \n",
      "  inflating: urbansound8k/fold10/162134-7-14-0.wav  \n",
      "  inflating: urbansound8k/fold10/162134-7-14-1.wav  \n",
      "  inflating: urbansound8k/fold10/162134-7-14-2.wav  \n",
      "  inflating: urbansound8k/fold10/162134-7-15-0.wav  \n",
      "  inflating: urbansound8k/fold10/162134-7-15-1.wav  \n",
      "  inflating: urbansound8k/fold10/162134-7-15-2.wav  \n",
      "  inflating: urbansound8k/fold10/162134-7-15-3.wav  \n",
      "  inflating: urbansound8k/fold10/162134-7-15-4.wav  \n",
      "  inflating: urbansound8k/fold10/162134-7-16-0.wav  \n",
      "  inflating: urbansound8k/fold10/162134-7-16-1.wav  \n",
      "  inflating: urbansound8k/fold10/162134-7-17-0.wav  \n",
      "  inflating: urbansound8k/fold10/162134-7-17-1.wav  \n",
      "  inflating: urbansound8k/fold10/162134-7-17-2.wav  \n",
      "  inflating: urbansound8k/fold10/162134-7-17-3.wav  \n",
      "  inflating: urbansound8k/fold10/162134-7-17-4.wav  \n",
      "  inflating: urbansound8k/fold10/162134-7-2-0.wav  \n",
      "  inflating: urbansound8k/fold10/162134-7-3-0.wav  \n",
      "  inflating: urbansound8k/fold10/162134-7-4-0.wav  \n",
      "  inflating: urbansound8k/fold10/162134-7-5-0.wav  \n",
      "  inflating: urbansound8k/fold10/162134-7-6-0.wav  \n",
      "  inflating: urbansound8k/fold10/162134-7-7-0.wav  \n",
      "  inflating: urbansound8k/fold10/162134-7-7-1.wav  \n",
      "  inflating: urbansound8k/fold10/162134-7-8-0.wav  \n",
      "  inflating: urbansound8k/fold10/162134-7-8-1.wav  \n",
      "  inflating: urbansound8k/fold10/162134-7-8-2.wav  \n",
      "  inflating: urbansound8k/fold10/162134-7-8-3.wav  \n",
      "  inflating: urbansound8k/fold10/162134-7-8-4.wav  \n",
      "  inflating: urbansound8k/fold10/162134-7-8-5.wav  \n",
      "  inflating: urbansound8k/fold10/162134-7-8-6.wav  \n",
      "  inflating: urbansound8k/fold10/162134-7-8-7.wav  \n",
      "  inflating: urbansound8k/fold10/162134-7-9-0.wav  \n",
      "  inflating: urbansound8k/fold10/162134-7-9-1.wav  \n",
      "  inflating: urbansound8k/fold10/162134-7-9-2.wav  \n",
      "  inflating: urbansound8k/fold10/162134-7-9-3.wav  \n",
      "  inflating: urbansound8k/fold10/162134-7-9-4.wav  \n",
      "  inflating: urbansound8k/fold10/162148-3-0-0.wav  \n",
      "  inflating: urbansound8k/fold10/163459-3-0-0.wav  \n",
      "  inflating: urbansound8k/fold10/164194-2-0-10.wav  \n",
      "  inflating: urbansound8k/fold10/164194-2-0-11.wav  \n",
      "  inflating: urbansound8k/fold10/164194-2-0-14.wav  \n",
      "  inflating: urbansound8k/fold10/164194-2-0-18.wav  \n",
      "  inflating: urbansound8k/fold10/164194-2-0-24.wav  \n",
      "  inflating: urbansound8k/fold10/164194-2-0-26.wav  \n",
      "  inflating: urbansound8k/fold10/164194-2-0-29.wav  \n",
      "  inflating: urbansound8k/fold10/164194-2-0-7.wav  \n",
      "  inflating: urbansound8k/fold10/164377-9-0-16.wav  \n",
      "  inflating: urbansound8k/fold10/164377-9-1-15.wav  \n",
      "  inflating: urbansound8k/fold10/164377-9-1-3.wav  \n",
      "  inflating: urbansound8k/fold10/164377-9-1-36.wav  \n",
      "  inflating: urbansound8k/fold10/164377-9-1-43.wav  \n",
      "  inflating: urbansound8k/fold10/164377-9-1-50.wav  \n",
      "  inflating: urbansound8k/fold10/164377-9-1-92.wav  \n",
      "  inflating: urbansound8k/fold10/164646-6-0-0.wav  \n",
      "  inflating: urbansound8k/fold10/165166-8-0-0.wav  \n",
      "  inflating: urbansound8k/fold10/165166-8-0-1.wav  \n",
      "  inflating: urbansound8k/fold10/165166-8-0-2.wav  \n",
      "  inflating: urbansound8k/fold10/165166-8-0-3.wav  \n",
      "  inflating: urbansound8k/fold10/165166-8-0-4.wav  \n",
      "  inflating: urbansound8k/fold10/165166-8-0-5.wav  \n",
      "  inflating: urbansound8k/fold10/165166-8-0-6.wav  \n",
      "  inflating: urbansound8k/fold10/165166-8-0-7.wav  \n",
      "  inflating: urbansound8k/fold10/165166-8-0-8.wav  \n",
      "  inflating: urbansound8k/fold10/165640-4-0-0.wav  \n",
      "  inflating: urbansound8k/fold10/165640-4-0-1.wav  \n",
      "  inflating: urbansound8k/fold10/165640-4-0-2.wav  \n",
      "  inflating: urbansound8k/fold10/167464-0-0-0.wav  \n",
      "  inflating: urbansound8k/fold10/167464-0-0-1.wav  \n",
      "  inflating: urbansound8k/fold10/167464-0-0-10.wav  \n",
      "  inflating: urbansound8k/fold10/167464-0-0-11.wav  \n",
      "  inflating: urbansound8k/fold10/167464-0-0-12.wav  \n",
      "  inflating: urbansound8k/fold10/167464-0-0-13.wav  \n",
      "  inflating: urbansound8k/fold10/167464-0-0-14.wav  \n",
      "  inflating: urbansound8k/fold10/167464-0-0-15.wav  \n",
      "  inflating: urbansound8k/fold10/167464-0-0-16.wav  \n",
      "  inflating: urbansound8k/fold10/167464-0-0-17.wav  \n",
      "  inflating: urbansound8k/fold10/167464-0-0-18.wav  \n",
      "  inflating: urbansound8k/fold10/167464-0-0-19.wav  \n",
      "  inflating: urbansound8k/fold10/167464-0-0-2.wav  \n",
      "  inflating: urbansound8k/fold10/167464-0-0-20.wav  \n",
      "  inflating: urbansound8k/fold10/167464-0-0-21.wav  \n",
      "  inflating: urbansound8k/fold10/167464-0-0-22.wav  \n",
      "  inflating: urbansound8k/fold10/167464-0-0-23.wav  \n",
      "  inflating: urbansound8k/fold10/167464-0-0-24.wav  \n",
      "  inflating: urbansound8k/fold10/167464-0-0-3.wav  \n",
      "  inflating: urbansound8k/fold10/167464-0-0-4.wav  \n",
      "  inflating: urbansound8k/fold10/167464-0-0-5.wav  \n",
      "  inflating: urbansound8k/fold10/167464-0-0-6.wav  \n",
      "  inflating: urbansound8k/fold10/167464-0-0-7.wav  \n",
      "  inflating: urbansound8k/fold10/167464-0-0-8.wav  \n",
      "  inflating: urbansound8k/fold10/167464-0-0-9.wav  \n",
      "  inflating: urbansound8k/fold10/167750-4-0-0.wav  \n",
      "  inflating: urbansound8k/fold10/167750-4-1-0.wav  \n",
      "  inflating: urbansound8k/fold10/167750-4-2-0.wav  \n",
      "  inflating: urbansound8k/fold10/167750-4-3-0.wav  \n",
      "  inflating: urbansound8k/fold10/169261-6-0-0.wav  \n",
      "  inflating: urbansound8k/fold10/17074-1-0-0.wav  \n",
      "  inflating: urbansound8k/fold10/17124-1-0-0.wav  \n",
      "  inflating: urbansound8k/fold10/171478-9-0-26.wav  \n",
      "  inflating: urbansound8k/fold10/171478-9-0-28.wav  \n",
      "  inflating: urbansound8k/fold10/171478-9-0-38.wav  \n",
      "  inflating: urbansound8k/fold10/171478-9-0-4.wav  \n",
      "  inflating: urbansound8k/fold10/171478-9-0-55.wav  \n",
      "  inflating: urbansound8k/fold10/171478-9-0-57.wav  \n",
      "  inflating: urbansound8k/fold10/171478-9-0-58.wav  \n",
      "  inflating: urbansound8k/fold10/172519-9-0-10.wav  \n",
      "  inflating: urbansound8k/fold10/172519-9-0-13.wav  \n",
      "  inflating: urbansound8k/fold10/172519-9-0-49.wav  \n",
      "  inflating: urbansound8k/fold10/172519-9-0-53.wav  \n",
      "  inflating: urbansound8k/fold10/172519-9-0-67.wav  \n",
      "  inflating: urbansound8k/fold10/172519-9-0-8.wav  \n",
      "  inflating: urbansound8k/fold10/174289-6-0-0.wav  \n",
      "  inflating: urbansound8k/fold10/174289-6-1-0.wav  \n",
      "  inflating: urbansound8k/fold10/174289-6-2-0.wav  \n",
      "  inflating: urbansound8k/fold10/174289-6-3-0.wav  \n",
      "  inflating: urbansound8k/fold10/174292-6-0-0.wav  \n",
      "  inflating: urbansound8k/fold10/174292-6-1-0.wav  \n",
      "  inflating: urbansound8k/fold10/174292-6-2-0.wav  \n",
      "  inflating: urbansound8k/fold10/17486-3-0-0.wav  \n",
      "  inflating: urbansound8k/fold10/17486-3-1-0.wav  \n",
      "  inflating: urbansound8k/fold10/17486-3-2-0.wav  \n",
      "  inflating: urbansound8k/fold10/175842-1-0-0.wav  \n",
      "  inflating: urbansound8k/fold10/175850-1-0-0.wav  \n",
      "  inflating: urbansound8k/fold10/178261-7-0-0.wav  \n",
      "  inflating: urbansound8k/fold10/178261-7-1-0.wav  \n",
      "  inflating: urbansound8k/fold10/178261-7-2-0.wav  \n",
      "  inflating: urbansound8k/fold10/178261-7-3-0.wav  \n",
      "  inflating: urbansound8k/fold10/178261-7-3-1.wav  \n",
      "  inflating: urbansound8k/fold10/178261-7-3-2.wav  \n",
      "  inflating: urbansound8k/fold10/178261-7-3-3.wav  \n",
      "  inflating: urbansound8k/fold10/178261-7-3-4.wav  \n",
      "  inflating: urbansound8k/fold10/178261-7-3-5.wav  \n",
      "  inflating: urbansound8k/fold10/178261-7-3-6.wav  \n",
      "  inflating: urbansound8k/fold10/178402-1-0-0.wav  \n",
      "  inflating: urbansound8k/fold10/178826-2-0-10.wav  \n",
      "  inflating: urbansound8k/fold10/178826-2-0-12.wav  \n",
      "  inflating: urbansound8k/fold10/178826-2-0-14.wav  \n",
      "  inflating: urbansound8k/fold10/178826-2-0-16.wav  \n",
      "  inflating: urbansound8k/fold10/178826-2-0-17.wav  \n",
      "  inflating: urbansound8k/fold10/178826-2-0-20.wav  \n",
      "  inflating: urbansound8k/fold10/178826-2-0-28.wav  \n",
      "  inflating: urbansound8k/fold10/178826-2-0-39.wav  \n",
      "  inflating: urbansound8k/fold10/179868-1-0-0.wav  \n",
      "  inflating: urbansound8k/fold10/180127-4-0-0.wav  \n",
      "  inflating: urbansound8k/fold10/180127-4-0-1.wav  \n",
      "  inflating: urbansound8k/fold10/180127-4-0-10.wav  \n",
      "  inflating: urbansound8k/fold10/180127-4-0-11.wav  \n",
      "  inflating: urbansound8k/fold10/180127-4-0-12.wav  \n",
      "  inflating: urbansound8k/fold10/180127-4-0-13.wav  \n",
      "  inflating: urbansound8k/fold10/180127-4-0-14.wav  \n",
      "  inflating: urbansound8k/fold10/180127-4-0-15.wav  \n",
      "  inflating: urbansound8k/fold10/180127-4-0-16.wav  \n",
      "  inflating: urbansound8k/fold10/180127-4-0-17.wav  \n",
      "  inflating: urbansound8k/fold10/180127-4-0-18.wav  \n",
      "  inflating: urbansound8k/fold10/180127-4-0-19.wav  \n",
      "  inflating: urbansound8k/fold10/180127-4-0-2.wav  \n",
      "  inflating: urbansound8k/fold10/180127-4-0-20.wav  \n",
      "  inflating: urbansound8k/fold10/180127-4-0-21.wav  \n",
      "  inflating: urbansound8k/fold10/180127-4-0-3.wav  \n",
      "  inflating: urbansound8k/fold10/180127-4-0-4.wav  \n",
      "  inflating: urbansound8k/fold10/180127-4-0-5.wav  \n",
      "  inflating: urbansound8k/fold10/180127-4-0-6.wav  \n",
      "  inflating: urbansound8k/fold10/180127-4-0-7.wav  \n",
      "  inflating: urbansound8k/fold10/180127-4-0-8.wav  \n",
      "  inflating: urbansound8k/fold10/180127-4-0-9.wav  \n",
      "  inflating: urbansound8k/fold10/181624-4-0-0.wav  \n",
      "  inflating: urbansound8k/fold10/181624-4-1-0.wav  \n",
      "  inflating: urbansound8k/fold10/181624-4-10-0.wav  \n",
      "  inflating: urbansound8k/fold10/181624-4-2-0.wav  \n",
      "  inflating: urbansound8k/fold10/181624-4-3-0.wav  \n",
      "  inflating: urbansound8k/fold10/181624-4-4-0.wav  \n",
      "  inflating: urbansound8k/fold10/181624-4-5-0.wav  \n",
      "  inflating: urbansound8k/fold10/181624-4-6-0.wav  \n",
      "  inflating: urbansound8k/fold10/181624-4-7-0.wav  \n",
      "  inflating: urbansound8k/fold10/181624-4-8-0.wav  \n",
      "  inflating: urbansound8k/fold10/181624-4-9-0.wav  \n",
      "  inflating: urbansound8k/fold10/187110-2-0-1.wav  \n",
      "  inflating: urbansound8k/fold10/187110-2-0-10.wav  \n",
      "  inflating: urbansound8k/fold10/187110-2-0-12.wav  \n",
      "  inflating: urbansound8k/fold10/187110-2-0-27.wav  \n",
      "  inflating: urbansound8k/fold10/187110-2-0-30.wav  \n",
      "  inflating: urbansound8k/fold10/187110-2-0-34.wav  \n",
      "  inflating: urbansound8k/fold10/187110-2-0-6.wav  \n",
      "  inflating: urbansound8k/fold10/187110-2-0-8.wav  \n",
      "  inflating: urbansound8k/fold10/187863-4-0-0.wav  \n",
      "  inflating: urbansound8k/fold10/187863-4-0-1.wav  \n",
      "  inflating: urbansound8k/fold10/187863-4-0-2.wav  \n",
      "  inflating: urbansound8k/fold10/187863-4-0-3.wav  \n",
      "  inflating: urbansound8k/fold10/187863-4-0-4.wav  \n",
      "  inflating: urbansound8k/fold10/187863-4-0-5.wav  \n",
      "  inflating: urbansound8k/fold10/188497-2-0-0.wav  \n",
      "  inflating: urbansound8k/fold10/188497-2-0-1.wav  \n",
      "  inflating: urbansound8k/fold10/188497-2-0-11.wav  \n",
      "  inflating: urbansound8k/fold10/188497-2-0-17.wav  \n",
      "  inflating: urbansound8k/fold10/188497-2-0-19.wav  \n",
      "  inflating: urbansound8k/fold10/188497-2-0-2.wav  \n",
      "  inflating: urbansound8k/fold10/188497-2-0-23.wav  \n",
      "  inflating: urbansound8k/fold10/188497-2-0-8.wav  \n",
      "  inflating: urbansound8k/fold10/188813-7-0-0.wav  \n",
      "  inflating: urbansound8k/fold10/188813-7-1-0.wav  \n",
      "  inflating: urbansound8k/fold10/188813-7-10-0.wav  \n",
      "  inflating: urbansound8k/fold10/188813-7-10-1.wav  \n",
      "  inflating: urbansound8k/fold10/188813-7-10-2.wav  \n",
      "  inflating: urbansound8k/fold10/188813-7-10-3.wav  \n",
      "  inflating: urbansound8k/fold10/188813-7-11-0.wav  \n",
      "  inflating: urbansound8k/fold10/188813-7-11-1.wav  \n",
      "  inflating: urbansound8k/fold10/188813-7-12-0.wav  \n",
      "  inflating: urbansound8k/fold10/188813-7-13-0.wav  \n",
      "  inflating: urbansound8k/fold10/188813-7-2-0.wav  \n",
      "  inflating: urbansound8k/fold10/188813-7-3-0.wav  \n",
      "  inflating: urbansound8k/fold10/188813-7-4-0.wav  \n",
      "  inflating: urbansound8k/fold10/188813-7-5-0.wav  \n",
      "  inflating: urbansound8k/fold10/188813-7-6-0.wav  \n",
      "  inflating: urbansound8k/fold10/188813-7-7-0.wav  \n",
      "  inflating: urbansound8k/fold10/188813-7-8-0.wav  \n",
      "  inflating: urbansound8k/fold10/188813-7-9-0.wav  \n",
      "  inflating: urbansound8k/fold10/189982-0-0-11.wav  \n",
      "  inflating: urbansound8k/fold10/189982-0-0-13.wav  \n",
      "  inflating: urbansound8k/fold10/189982-0-0-16.wav  \n",
      "  inflating: urbansound8k/fold10/189982-0-0-17.wav  \n",
      "  inflating: urbansound8k/fold10/189982-0-0-18.wav  \n",
      "  inflating: urbansound8k/fold10/189982-0-0-19.wav  \n",
      "  inflating: urbansound8k/fold10/189982-0-0-2.wav  \n",
      "  inflating: urbansound8k/fold10/189982-0-0-20.wav  \n",
      "  inflating: urbansound8k/fold10/189982-0-0-23.wav  \n",
      "  inflating: urbansound8k/fold10/189982-0-0-27.wav  \n",
      "  inflating: urbansound8k/fold10/189982-0-0-28.wav  \n",
      "  inflating: urbansound8k/fold10/189982-0-0-3.wav  \n",
      "  inflating: urbansound8k/fold10/189982-0-0-30.wav  \n",
      "  inflating: urbansound8k/fold10/189982-0-0-33.wav  \n",
      "  inflating: urbansound8k/fold10/189982-0-0-35.wav  \n",
      "  inflating: urbansound8k/fold10/189982-0-0-36.wav  \n",
      "  inflating: urbansound8k/fold10/189982-0-0-38.wav  \n",
      "  inflating: urbansound8k/fold10/189982-0-0-39.wav  \n",
      "  inflating: urbansound8k/fold10/189982-0-0-4.wav  \n",
      "  inflating: urbansound8k/fold10/189982-0-0-42.wav  \n",
      "  inflating: urbansound8k/fold10/189982-0-0-43.wav  \n",
      "  inflating: urbansound8k/fold10/189982-0-0-44.wav  \n",
      "  inflating: urbansound8k/fold10/189982-0-0-45.wav  \n",
      "  inflating: urbansound8k/fold10/189982-0-0-6.wav  \n",
      "  inflating: urbansound8k/fold10/189982-0-0-7.wav  \n",
      "  inflating: urbansound8k/fold10/189985-0-0-0.wav  \n",
      "  inflating: urbansound8k/fold10/189985-0-0-1.wav  \n",
      "  inflating: urbansound8k/fold10/189985-0-0-2.wav  \n",
      "  inflating: urbansound8k/fold10/189985-0-0-3.wav  \n",
      "  inflating: urbansound8k/fold10/189985-0-0-4.wav  \n",
      "  inflating: urbansound8k/fold10/189985-0-0-5.wav  \n",
      "  inflating: urbansound8k/fold10/189985-0-0-6.wav  \n",
      "  inflating: urbansound8k/fold10/195063-4-0-0.wav  \n",
      "  inflating: urbansound8k/fold10/195063-4-1-0.wav  \n",
      "  inflating: urbansound8k/fold10/196069-2-0-0.wav  \n",
      "  inflating: urbansound8k/fold10/196084-2-0-0.wav  \n",
      "  inflating: urbansound8k/fold10/196084-2-0-1.wav  \n",
      "  inflating: urbansound8k/fold10/196084-2-0-2.wav  \n",
      "  inflating: urbansound8k/fold10/196086-2-0-0.wav  \n",
      "  inflating: urbansound8k/fold10/196127-3-0-0.wav  \n",
      "  inflating: urbansound8k/fold10/196127-3-0-1.wav  \n",
      "  inflating: urbansound8k/fold10/196127-3-0-3.wav  \n",
      "  inflating: urbansound8k/fold10/196127-3-0-4.wav  \n",
      "  inflating: urbansound8k/fold10/197554-2-0-23.wav  \n",
      "  inflating: urbansound8k/fold10/197554-2-0-26.wav  \n",
      "  inflating: urbansound8k/fold10/197554-2-0-28.wav  \n",
      "  inflating: urbansound8k/fold10/197554-2-0-3.wav  \n",
      "  inflating: urbansound8k/fold10/197554-2-0-60.wav  \n",
      "  inflating: urbansound8k/fold10/197554-2-0-69.wav  \n",
      "  inflating: urbansound8k/fold10/197554-2-0-74.wav  \n",
      "  inflating: urbansound8k/fold10/197554-2-0-82.wav  \n",
      "  inflating: urbansound8k/fold10/199261-3-0-0.wav  \n",
      "  inflating: urbansound8k/fold10/199261-3-0-1.wav  \n",
      "  inflating: urbansound8k/fold10/199261-3-0-2.wav  \n",
      "  inflating: urbansound8k/fold10/199261-3-0-4.wav  \n",
      "  inflating: urbansound8k/fold10/200460-6-0-0.wav  \n",
      "  inflating: urbansound8k/fold10/200460-6-1-0.wav  \n",
      "  inflating: urbansound8k/fold10/200460-6-2-0.wav  \n",
      "  inflating: urbansound8k/fold10/200460-6-3-0.wav  \n",
      "  inflating: urbansound8k/fold10/200460-6-4-0.wav  \n",
      "  inflating: urbansound8k/fold10/200460-6-5-0.wav  \n",
      "  inflating: urbansound8k/fold10/200786-5-0-0.wav  \n",
      "  inflating: urbansound8k/fold10/200786-5-1-0.wav  \n",
      "  inflating: urbansound8k/fold10/200786-5-1-1.wav  \n",
      "  inflating: urbansound8k/fold10/200786-5-1-2.wav  \n",
      "  inflating: urbansound8k/fold10/200786-5-1-3.wav  \n",
      "  inflating: urbansound8k/fold10/200786-5-1-4.wav  \n",
      "  inflating: urbansound8k/fold10/200786-5-1-5.wav  \n",
      "  inflating: urbansound8k/fold10/202334-9-0-105.wav  \n",
      "  inflating: urbansound8k/fold10/202334-9-0-106.wav  \n",
      "  inflating: urbansound8k/fold10/202334-9-0-137.wav  \n",
      "  inflating: urbansound8k/fold10/202334-9-0-202.wav  \n",
      "  inflating: urbansound8k/fold10/202334-9-0-63.wav  \n",
      "  inflating: urbansound8k/fold10/202334-9-0-88.wav  \n",
      "  inflating: urbansound8k/fold10/203424-9-0-15.wav  \n",
      "  inflating: urbansound8k/fold10/203424-9-0-18.wav  \n",
      "  inflating: urbansound8k/fold10/203424-9-0-26.wav  \n",
      "  inflating: urbansound8k/fold10/203424-9-0-34.wav  \n",
      "  inflating: urbansound8k/fold10/203424-9-0-4.wav  \n",
      "  inflating: urbansound8k/fold10/203424-9-0-46.wav  \n",
      "  inflating: urbansound8k/fold10/205013-6-0-0.wav  \n",
      "  inflating: urbansound8k/fold10/20571-3-0-0.wav  \n",
      "  inflating: urbansound8k/fold10/20571-3-1-0.wav  \n",
      "  inflating: urbansound8k/fold10/207213-2-0-109.wav  \n",
      "  inflating: urbansound8k/fold10/207213-2-0-130.wav  \n",
      "  inflating: urbansound8k/fold10/207213-2-0-134.wav  \n",
      "  inflating: urbansound8k/fold10/207213-2-0-41.wav  \n",
      "  inflating: urbansound8k/fold10/207213-2-0-52.wav  \n",
      "  inflating: urbansound8k/fold10/207213-2-0-73.wav  \n",
      "  inflating: urbansound8k/fold10/207213-2-0-81.wav  \n",
      "  inflating: urbansound8k/fold10/207213-2-0-85.wav  \n",
      "  inflating: urbansound8k/fold10/208652-8-0-0.wav  \n",
      "  inflating: urbansound8k/fold10/208652-8-2-0.wav  \n",
      "  inflating: urbansound8k/fold10/208652-8-4-0.wav  \n",
      "  inflating: urbansound8k/fold10/208652-8-6-0.wav  \n",
      "  inflating: urbansound8k/fold10/209672-3-0-0.wav  \n",
      "  inflating: urbansound8k/fold10/209672-3-3-0.wav  \n",
      "  inflating: urbansound8k/fold10/209672-3-6-0.wav  \n",
      "  inflating: urbansound8k/fold10/209672-3-8-0.wav  \n",
      "  inflating: urbansound8k/fold10/22973-3-0-0.wav  \n",
      "  inflating: urbansound8k/fold10/22973-3-0-1.wav  \n",
      "  inflating: urbansound8k/fold10/22973-3-0-2.wav  \n",
      "  inflating: urbansound8k/fold10/23218-5-0-0.wav  \n",
      "  inflating: urbansound8k/fold10/24076-1-0-0.wav  \n",
      "  inflating: urbansound8k/fold10/24076-1-1-0.wav  \n",
      "  inflating: urbansound8k/fold10/25037-6-0-0.wav  \n",
      "  inflating: urbansound8k/fold10/25037-6-1-0.wav  \n",
      "  inflating: urbansound8k/fold10/26173-8-0-0.wav  \n",
      "  inflating: urbansound8k/fold10/26255-3-0-0.wav  \n",
      "  inflating: urbansound8k/fold10/26255-3-13-1.wav  \n",
      "  inflating: urbansound8k/fold10/26255-3-6-0.wav  \n",
      "  inflating: urbansound8k/fold10/26255-3-8-0.wav  \n",
      "  inflating: urbansound8k/fold10/26344-4-0-0.wav  \n",
      "  inflating: urbansound8k/fold10/26344-4-1-0.wav  \n",
      "  inflating: urbansound8k/fold10/27070-2-0-0.wav  \n",
      "  inflating: urbansound8k/fold10/27070-2-0-2.wav  \n",
      "  inflating: urbansound8k/fold10/27070-2-0-3.wav  \n",
      "  inflating: urbansound8k/fold10/27070-2-0-4.wav  \n",
      "  inflating: urbansound8k/fold10/27070-2-0-5.wav  \n",
      "  inflating: urbansound8k/fold10/27070-2-0-7.wav  \n",
      "  inflating: urbansound8k/fold10/27070-2-0-8.wav  \n",
      "  inflating: urbansound8k/fold10/28808-1-0-0.wav  \n",
      "  inflating: urbansound8k/fold10/28808-1-0-1.wav  \n",
      "  inflating: urbansound8k/fold10/28808-1-0-10.wav  \n",
      "  inflating: urbansound8k/fold10/28808-1-0-11.wav  \n",
      "  inflating: urbansound8k/fold10/28808-1-0-2.wav  \n",
      "  inflating: urbansound8k/fold10/28808-1-0-3.wav  \n",
      "  inflating: urbansound8k/fold10/28808-1-0-4.wav  \n",
      "  inflating: urbansound8k/fold10/28808-1-0-5.wav  \n",
      "  inflating: urbansound8k/fold10/28808-1-0-6.wav  \n",
      "  inflating: urbansound8k/fold10/28808-1-0-7.wav  \n",
      "  inflating: urbansound8k/fold10/28808-1-0-8.wav  \n",
      "  inflating: urbansound8k/fold10/28808-1-0-9.wav  \n",
      "  inflating: urbansound8k/fold10/28808-1-1-0.wav  \n",
      "  inflating: urbansound8k/fold10/28808-1-1-1.wav  \n",
      "  inflating: urbansound8k/fold10/2937-1-0-0.wav  \n",
      "  inflating: urbansound8k/fold10/30344-3-0-0.wav  \n",
      "  inflating: urbansound8k/fold10/30344-3-0-1.wav  \n",
      "  inflating: urbansound8k/fold10/30344-3-0-3.wav  \n",
      "  inflating: urbansound8k/fold10/30344-3-0-4.wav  \n",
      "  inflating: urbansound8k/fold10/34050-7-0-0.wav  \n",
      "  inflating: urbansound8k/fold10/34050-7-1-0.wav  \n",
      "  inflating: urbansound8k/fold10/34050-7-2-0.wav  \n",
      "  inflating: urbansound8k/fold10/34050-7-3-0.wav  \n",
      "  inflating: urbansound8k/fold10/34050-7-4-0.wav  \n",
      "  inflating: urbansound8k/fold10/34050-7-5-0.wav  \n",
      "  inflating: urbansound8k/fold10/34050-7-6-0.wav  \n",
      "  inflating: urbansound8k/fold10/35628-3-0-0.wav  \n",
      "  inflating: urbansound8k/fold10/39847-5-0-0.wav  \n",
      "  inflating: urbansound8k/fold10/39847-5-0-1.wav  \n",
      "  inflating: urbansound8k/fold10/39847-5-0-10.wav  \n",
      "  inflating: urbansound8k/fold10/39847-5-0-11.wav  \n",
      "  inflating: urbansound8k/fold10/39847-5-0-12.wav  \n",
      "  inflating: urbansound8k/fold10/39847-5-0-2.wav  \n",
      "  inflating: urbansound8k/fold10/39847-5-0-3.wav  \n",
      "  inflating: urbansound8k/fold10/39847-5-0-4.wav  \n",
      "  inflating: urbansound8k/fold10/39847-5-0-5.wav  \n",
      "  inflating: urbansound8k/fold10/39847-5-0-6.wav  \n",
      "  inflating: urbansound8k/fold10/39847-5-0-7.wav  \n",
      "  inflating: urbansound8k/fold10/39847-5-0-8.wav  \n",
      "  inflating: urbansound8k/fold10/39847-5-0-9.wav  \n",
      "  inflating: urbansound8k/fold10/39847-5-1-0.wav  \n",
      "  inflating: urbansound8k/fold10/41306-3-0-10.wav  \n",
      "  inflating: urbansound8k/fold10/41306-3-0-13.wav  \n",
      "  inflating: urbansound8k/fold10/41306-3-0-4.wav  \n",
      "  inflating: urbansound8k/fold10/51024-3-0-16.wav  \n",
      "  inflating: urbansound8k/fold10/51024-3-0-2.wav  \n",
      "  inflating: urbansound8k/fold10/51024-3-0-23.wav  \n",
      "  inflating: urbansound8k/fold10/51024-3-0-3.wav  \n",
      "  inflating: urbansound8k/fold10/54086-1-0-0.wav  \n",
      "  inflating: urbansound8k/fold10/54086-1-1-0.wav  \n",
      "  inflating: urbansound8k/fold10/54086-1-2-0.wav  \n",
      "  inflating: urbansound8k/fold10/59513-3-0-0.wav  \n",
      "  inflating: urbansound8k/fold10/59513-3-0-1.wav  \n",
      "  inflating: urbansound8k/fold10/59513-3-0-3.wav  \n",
      "  inflating: urbansound8k/fold10/59513-3-0-4.wav  \n",
      "  inflating: urbansound8k/fold10/66115-1-0-0.wav  \n",
      "  inflating: urbansound8k/fold10/66115-1-0-1.wav  \n",
      "  inflating: urbansound8k/fold10/69661-3-0-14.wav  \n",
      "  inflating: urbansound8k/fold10/69661-3-0-23.wav  \n",
      "  inflating: urbansound8k/fold10/69661-3-0-29.wav  \n",
      "  inflating: urbansound8k/fold10/7062-6-0-0.wav  \n",
      "  inflating: urbansound8k/fold10/71312-3-0-1.wav  \n",
      "  inflating: urbansound8k/fold10/71312-3-0-2.wav  \n",
      "  inflating: urbansound8k/fold10/71312-3-0-4.wav  \n",
      "  inflating: urbansound8k/fold10/71312-3-0-5.wav  \n",
      "  inflating: urbansound8k/fold10/72220-3-0-0.wav  \n",
      "  inflating: urbansound8k/fold10/72220-3-2-2.wav  \n",
      "  inflating: urbansound8k/fold10/72220-3-2-3.wav  \n",
      "  inflating: urbansound8k/fold10/72220-3-2-4.wav  \n",
      "  inflating: urbansound8k/fold10/72538-3-0-0.wav  \n",
      "  inflating: urbansound8k/fold10/72538-3-0-1.wav  \n",
      "  inflating: urbansound8k/fold10/72538-3-0-3.wav  \n",
      "  inflating: urbansound8k/fold10/72538-3-0-4.wav  \n",
      "  inflating: urbansound8k/fold10/73524-0-0-0.wav  \n",
      "  inflating: urbansound8k/fold10/73524-0-0-101.wav  \n",
      "  inflating: urbansound8k/fold10/73524-0-0-105.wav  \n",
      "  inflating: urbansound8k/fold10/73524-0-0-113.wav  \n",
      "  inflating: urbansound8k/fold10/73524-0-0-114.wav  \n",
      "  inflating: urbansound8k/fold10/73524-0-0-126.wav  \n",
      "  inflating: urbansound8k/fold10/73524-0-0-127.wav  \n",
      "  inflating: urbansound8k/fold10/73524-0-0-128.wav  \n",
      "  inflating: urbansound8k/fold10/73524-0-0-133.wav  \n",
      "  inflating: urbansound8k/fold10/73524-0-0-137.wav  \n",
      "  inflating: urbansound8k/fold10/73524-0-0-2.wav  \n",
      "  inflating: urbansound8k/fold10/73524-0-0-23.wav  \n",
      "  inflating: urbansound8k/fold10/73524-0-0-30.wav  \n",
      "  inflating: urbansound8k/fold10/73524-0-0-31.wav  \n",
      "  inflating: urbansound8k/fold10/73524-0-0-32.wav  \n",
      "  inflating: urbansound8k/fold10/73524-0-0-5.wav  \n",
      "  inflating: urbansound8k/fold10/73524-0-0-52.wav  \n",
      "  inflating: urbansound8k/fold10/73524-0-0-54.wav  \n",
      "  inflating: urbansound8k/fold10/73524-0-0-6.wav  \n",
      "  inflating: urbansound8k/fold10/73524-0-0-63.wav  \n",
      "  inflating: urbansound8k/fold10/73524-0-0-73.wav  \n",
      "  inflating: urbansound8k/fold10/73524-0-0-74.wav  \n",
      "  inflating: urbansound8k/fold10/73524-0-0-8.wav  \n",
      "  inflating: urbansound8k/fold10/73524-0-0-92.wav  \n",
      "  inflating: urbansound8k/fold10/73524-0-0-98.wav  \n",
      "  inflating: urbansound8k/fold10/73524-0-0-99.wav  \n",
      "  inflating: urbansound8k/fold10/74364-8-1-0.wav  \n",
      "  inflating: urbansound8k/fold10/74364-8-1-1.wav  \n",
      "  inflating: urbansound8k/fold10/74364-8-1-10.wav  \n",
      "  inflating: urbansound8k/fold10/74364-8-1-11.wav  \n",
      "  inflating: urbansound8k/fold10/74364-8-1-12.wav  \n",
      "  inflating: urbansound8k/fold10/74364-8-1-13.wav  \n",
      "  inflating: urbansound8k/fold10/74364-8-1-14.wav  \n",
      "  inflating: urbansound8k/fold10/74364-8-1-15.wav  \n",
      "  inflating: urbansound8k/fold10/74364-8-1-16.wav  \n",
      "  inflating: urbansound8k/fold10/74364-8-1-17.wav  \n",
      "  inflating: urbansound8k/fold10/74364-8-1-18.wav  \n",
      "  inflating: urbansound8k/fold10/74364-8-1-19.wav  \n",
      "  inflating: urbansound8k/fold10/74364-8-1-2.wav  \n",
      "  inflating: urbansound8k/fold10/74364-8-1-20.wav  \n",
      "  inflating: urbansound8k/fold10/74364-8-1-21.wav  \n",
      "  inflating: urbansound8k/fold10/74364-8-1-22.wav  \n",
      "  inflating: urbansound8k/fold10/74364-8-1-23.wav  \n",
      "  inflating: urbansound8k/fold10/74364-8-1-24.wav  \n",
      "  inflating: urbansound8k/fold10/74364-8-1-25.wav  \n",
      "  inflating: urbansound8k/fold10/74364-8-1-26.wav  \n",
      "  inflating: urbansound8k/fold10/74364-8-1-27.wav  \n",
      "  inflating: urbansound8k/fold10/74364-8-1-3.wav  \n",
      "  inflating: urbansound8k/fold10/74364-8-1-4.wav  \n",
      "  inflating: urbansound8k/fold10/74364-8-1-5.wav  \n",
      "  inflating: urbansound8k/fold10/74364-8-1-6.wav  \n",
      "  inflating: urbansound8k/fold10/74364-8-1-7.wav  \n",
      "  inflating: urbansound8k/fold10/74364-8-1-8.wav  \n",
      "  inflating: urbansound8k/fold10/74364-8-1-9.wav  \n",
      "  inflating: urbansound8k/fold10/74922-4-0-0.wav  \n",
      "  inflating: urbansound8k/fold10/74922-4-0-1.wav  \n",
      "  inflating: urbansound8k/fold10/74922-4-0-2.wav  \n",
      "  inflating: urbansound8k/fold10/74922-4-0-3.wav  \n",
      "  inflating: urbansound8k/fold10/74922-4-0-4.wav  \n",
      "  inflating: urbansound8k/fold10/74922-4-0-5.wav  \n",
      "  inflating: urbansound8k/fold10/74922-4-0-6.wav  \n",
      "  inflating: urbansound8k/fold10/74922-4-0-7.wav  \n",
      "  inflating: urbansound8k/fold10/77901-9-0-0.wav  \n",
      "  inflating: urbansound8k/fold10/77901-9-0-1.wav  \n",
      "  inflating: urbansound8k/fold10/77901-9-0-2.wav  \n",
      "  inflating: urbansound8k/fold10/77901-9-0-3.wav  \n",
      "  inflating: urbansound8k/fold10/77901-9-0-4.wav  \n",
      "  inflating: urbansound8k/fold10/77901-9-0-6.wav  \n",
      "  inflating: urbansound8k/fold10/77901-9-0-7.wav  \n",
      "  inflating: urbansound8k/fold10/77927-3-0-0.wav  \n",
      "  inflating: urbansound8k/fold10/77927-3-0-1.wav  \n",
      "  inflating: urbansound8k/fold10/77927-3-0-2.wav  \n",
      "  inflating: urbansound8k/fold10/77927-3-1-1.wav  \n",
      "  inflating: urbansound8k/fold10/7913-3-0-0.wav  \n",
      "  inflating: urbansound8k/fold10/7913-3-1-0.wav  \n",
      "  inflating: urbansound8k/fold10/7913-3-2-0.wav  \n",
      "  inflating: urbansound8k/fold10/7913-3-3-0.wav  \n",
      "  inflating: urbansound8k/fold10/7965-3-11-0.wav  \n",
      "  inflating: urbansound8k/fold10/7965-3-16-0.wav  \n",
      "  inflating: urbansound8k/fold10/7965-3-22-0.wav  \n",
      "  inflating: urbansound8k/fold10/7965-3-3-0.wav  \n",
      "  inflating: urbansound8k/fold10/81791-3-0-0.wav  \n",
      "  inflating: urbansound8k/fold10/81791-3-0-1.wav  \n",
      "  inflating: urbansound8k/fold10/81791-3-1-0.wav  \n",
      "  inflating: urbansound8k/fold10/83191-9-0-0.wav  \n",
      "  inflating: urbansound8k/fold10/83191-9-0-11.wav  \n",
      "  inflating: urbansound8k/fold10/83191-9-0-13.wav  \n",
      "  inflating: urbansound8k/fold10/83191-9-0-17.wav  \n",
      "  inflating: urbansound8k/fold10/83191-9-0-4.wav  \n",
      "  inflating: urbansound8k/fold10/83191-9-0-6.wav  \n",
      "  inflating: urbansound8k/fold10/83195-9-0-11.wav  \n",
      "  inflating: urbansound8k/fold10/83195-9-0-14.wav  \n",
      "  inflating: urbansound8k/fold10/83195-9-0-2.wav  \n",
      "  inflating: urbansound8k/fold10/83195-9-0-3.wav  \n",
      "  inflating: urbansound8k/fold10/83195-9-0-6.wav  \n",
      "  inflating: urbansound8k/fold10/83195-9-0-7.wav  \n",
      "  inflating: urbansound8k/fold10/83502-0-0-0.wav  \n",
      "  inflating: urbansound8k/fold10/83502-0-0-1.wav  \n",
      "  inflating: urbansound8k/fold10/83502-0-0-10.wav  \n",
      "  inflating: urbansound8k/fold10/83502-0-0-11.wav  \n",
      "  inflating: urbansound8k/fold10/83502-0-0-12.wav  \n",
      "  inflating: urbansound8k/fold10/83502-0-0-13.wav  \n",
      "  inflating: urbansound8k/fold10/83502-0-0-2.wav  \n",
      "  inflating: urbansound8k/fold10/83502-0-0-3.wav  \n",
      "  inflating: urbansound8k/fold10/83502-0-0-4.wav  \n",
      "  inflating: urbansound8k/fold10/83502-0-0-5.wav  \n",
      "  inflating: urbansound8k/fold10/83502-0-0-6.wav  \n",
      "  inflating: urbansound8k/fold10/83502-0-0-7.wav  \n",
      "  inflating: urbansound8k/fold10/83502-0-0-8.wav  \n",
      "  inflating: urbansound8k/fold10/83502-0-0-9.wav  \n",
      "  inflating: urbansound8k/fold10/84249-9-0-10.wav  \n",
      "  inflating: urbansound8k/fold10/84249-9-0-11.wav  \n",
      "  inflating: urbansound8k/fold10/84249-9-0-3.wav  \n",
      "  inflating: urbansound8k/fold10/84249-9-0-6.wav  \n",
      "  inflating: urbansound8k/fold10/84249-9-0-7.wav  \n",
      "  inflating: urbansound8k/fold10/84249-9-0-8.wav  \n",
      "  inflating: urbansound8k/fold10/85574-3-0-0.wav  \n",
      "  inflating: urbansound8k/fold10/85574-3-0-12.wav  \n",
      "  inflating: urbansound8k/fold10/85574-3-0-2.wav  \n",
      "  inflating: urbansound8k/fold10/85574-3-0-8.wav  \n",
      "  inflating: urbansound8k/fold10/85665-3-0-0.wav  \n",
      "  inflating: urbansound8k/fold10/88121-8-0-0.wav  \n",
      "  inflating: urbansound8k/fold10/88121-8-0-1.wav  \n",
      "  inflating: urbansound8k/fold10/88121-8-0-2.wav  \n",
      "  inflating: urbansound8k/fold10/88121-8-0-3.wav  \n",
      "  inflating: urbansound8k/fold10/88121-8-1-0.wav  \n",
      "  inflating: urbansound8k/fold10/88121-8-2-0.wav  \n",
      "  inflating: urbansound8k/fold10/93567-8-0-0.wav  \n",
      "  inflating: urbansound8k/fold10/93567-8-0-1.wav  \n",
      "  inflating: urbansound8k/fold10/93567-8-0-10.wav  \n",
      "  inflating: urbansound8k/fold10/93567-8-0-11.wav  \n",
      "  inflating: urbansound8k/fold10/93567-8-0-12.wav  \n",
      "  inflating: urbansound8k/fold10/93567-8-0-13.wav  \n",
      "  inflating: urbansound8k/fold10/93567-8-0-14.wav  \n",
      "  inflating: urbansound8k/fold10/93567-8-0-15.wav  \n",
      "  inflating: urbansound8k/fold10/93567-8-0-16.wav  \n",
      "  inflating: urbansound8k/fold10/93567-8-0-17.wav  \n",
      "  inflating: urbansound8k/fold10/93567-8-0-18.wav  \n",
      "  inflating: urbansound8k/fold10/93567-8-0-19.wav  \n",
      "  inflating: urbansound8k/fold10/93567-8-0-2.wav  \n",
      "  inflating: urbansound8k/fold10/93567-8-0-3.wav  \n",
      "  inflating: urbansound8k/fold10/93567-8-0-4.wav  \n",
      "  inflating: urbansound8k/fold10/93567-8-0-5.wav  \n",
      "  inflating: urbansound8k/fold10/93567-8-0-6.wav  \n",
      "  inflating: urbansound8k/fold10/93567-8-0-7.wav  \n",
      "  inflating: urbansound8k/fold10/93567-8-0-8.wav  \n",
      "  inflating: urbansound8k/fold10/93567-8-0-9.wav  \n",
      "  inflating: urbansound8k/fold10/97756-3-0-0.wav  \n",
      "  inflating: urbansound8k/fold10/99192-4-0-0.wav  \n",
      "  inflating: urbansound8k/fold10/99192-4-0-1.wav  \n",
      "  inflating: urbansound8k/fold10/99192-4-0-12.wav  \n",
      "  inflating: urbansound8k/fold10/99192-4-0-15.wav  \n",
      "  inflating: urbansound8k/fold10/99192-4-0-17.wav  \n",
      "  inflating: urbansound8k/fold10/99192-4-0-18.wav  \n",
      "  inflating: urbansound8k/fold10/99192-4-0-20.wav  \n",
      "  inflating: urbansound8k/fold10/99192-4-0-24.wav  \n",
      "  inflating: urbansound8k/fold10/99192-4-0-26.wav  \n",
      "  inflating: urbansound8k/fold10/99192-4-0-27.wav  \n",
      "  inflating: urbansound8k/fold10/99192-4-0-28.wav  \n",
      "  inflating: urbansound8k/fold10/99192-4-0-3.wav  \n",
      "  inflating: urbansound8k/fold10/99192-4-0-30.wav  \n",
      "  inflating: urbansound8k/fold10/99192-4-0-32.wav  \n",
      "  inflating: urbansound8k/fold10/99192-4-0-33.wav  \n",
      "  inflating: urbansound8k/fold10/99192-4-0-38.wav  \n",
      "  inflating: urbansound8k/fold10/99192-4-0-40.wav  \n",
      "  inflating: urbansound8k/fold10/99192-4-0-41.wav  \n",
      "  inflating: urbansound8k/fold10/99192-4-0-43.wav  \n",
      "  inflating: urbansound8k/fold10/99192-4-0-47.wav  \n",
      "  inflating: urbansound8k/fold10/99192-4-0-48.wav  \n",
      "  inflating: urbansound8k/fold10/99192-4-0-49.wav  \n",
      "  inflating: urbansound8k/fold10/99192-4-0-52.wav  \n",
      "  inflating: urbansound8k/fold10/99192-4-0-53.wav  \n",
      "  inflating: urbansound8k/fold10/99192-4-0-54.wav  \n",
      "  inflating: urbansound8k/fold10/99192-4-0-55.wav  \n",
      "  inflating: urbansound8k/fold10/99192-4-0-7.wav  \n",
      "  inflating: urbansound8k/fold2/100652-3-0-0.wav  \n",
      "  inflating: urbansound8k/fold2/100652-3-0-1.wav  \n",
      "  inflating: urbansound8k/fold2/100652-3-0-2.wav  \n",
      "  inflating: urbansound8k/fold2/100652-3-0-3.wav  \n",
      "  inflating: urbansound8k/fold2/102104-3-0-0.wav  \n",
      "  inflating: urbansound8k/fold2/102858-5-0-0.wav  \n",
      "  inflating: urbansound8k/fold2/102858-5-0-1.wav  \n",
      "  inflating: urbansound8k/fold2/102871-8-0-0.wav  \n",
      "  inflating: urbansound8k/fold2/102871-8-0-1.wav  \n",
      "  inflating: urbansound8k/fold2/102871-8-0-10.wav  \n",
      "  inflating: urbansound8k/fold2/102871-8-0-11.wav  \n",
      "  inflating: urbansound8k/fold2/102871-8-0-12.wav  \n",
      "  inflating: urbansound8k/fold2/102871-8-0-13.wav  \n",
      "  inflating: urbansound8k/fold2/102871-8-0-14.wav  \n",
      "  inflating: urbansound8k/fold2/102871-8-0-15.wav  \n",
      "  inflating: urbansound8k/fold2/102871-8-0-2.wav  \n",
      "  inflating: urbansound8k/fold2/102871-8-0-3.wav  \n",
      "  inflating: urbansound8k/fold2/102871-8-0-4.wav  \n",
      "  inflating: urbansound8k/fold2/102871-8-0-5.wav  \n",
      "  inflating: urbansound8k/fold2/102871-8-0-6.wav  \n",
      "  inflating: urbansound8k/fold2/102871-8-0-7.wav  \n",
      "  inflating: urbansound8k/fold2/102871-8-0-8.wav  \n",
      "  inflating: urbansound8k/fold2/102871-8-0-9.wav  \n",
      "  inflating: urbansound8k/fold2/104817-4-0-0.wav  \n",
      "  inflating: urbansound8k/fold2/104817-4-0-1.wav  \n",
      "  inflating: urbansound8k/fold2/104817-4-0-10.wav  \n",
      "  inflating: urbansound8k/fold2/104817-4-0-11.wav  \n",
      "  inflating: urbansound8k/fold2/104817-4-0-2.wav  \n",
      "  inflating: urbansound8k/fold2/104817-4-0-3.wav  \n",
      "  inflating: urbansound8k/fold2/104817-4-0-4.wav  \n",
      "  inflating: urbansound8k/fold2/104817-4-0-5.wav  \n",
      "  inflating: urbansound8k/fold2/104817-4-0-6.wav  \n",
      "  inflating: urbansound8k/fold2/104817-4-0-7.wav  \n",
      "  inflating: urbansound8k/fold2/104817-4-0-8.wav  \n",
      "  inflating: urbansound8k/fold2/104817-4-0-9.wav  \n",
      "  inflating: urbansound8k/fold2/106015-5-0-0.wav  \n",
      "  inflating: urbansound8k/fold2/106015-5-0-1.wav  \n",
      "  inflating: urbansound8k/fold2/106015-5-0-10.wav  \n",
      "  inflating: urbansound8k/fold2/106015-5-0-11.wav  \n",
      "  inflating: urbansound8k/fold2/106015-5-0-12.wav  \n",
      "  inflating: urbansound8k/fold2/106015-5-0-13.wav  \n",
      "  inflating: urbansound8k/fold2/106015-5-0-14.wav  \n",
      "  inflating: urbansound8k/fold2/106015-5-0-15.wav  \n",
      "  inflating: urbansound8k/fold2/106015-5-0-16.wav  \n",
      "  inflating: urbansound8k/fold2/106015-5-0-17.wav  \n",
      "  inflating: urbansound8k/fold2/106015-5-0-18.wav  \n",
      "  inflating: urbansound8k/fold2/106015-5-0-19.wav  \n",
      "  inflating: urbansound8k/fold2/106015-5-0-2.wav  \n",
      "  inflating: urbansound8k/fold2/106015-5-0-20.wav  \n",
      "  inflating: urbansound8k/fold2/106015-5-0-3.wav  \n",
      "  inflating: urbansound8k/fold2/106015-5-0-4.wav  \n",
      "  inflating: urbansound8k/fold2/106015-5-0-5.wav  \n",
      "  inflating: urbansound8k/fold2/106015-5-0-6.wav  \n",
      "  inflating: urbansound8k/fold2/106015-5-0-7.wav  \n",
      "  inflating: urbansound8k/fold2/106015-5-0-8.wav  \n",
      "  inflating: urbansound8k/fold2/106015-5-0-9.wav  \n",
      "  inflating: urbansound8k/fold2/108187-3-2-0.wav  \n",
      "  inflating: urbansound8k/fold2/108187-3-3-0.wav  \n",
      "  inflating: urbansound8k/fold2/108187-3-4-0.wav  \n",
      "  inflating: urbansound8k/fold2/108187-3-6-0.wav  \n",
      "  inflating: urbansound8k/fold2/109703-2-0-134.wav  \n",
      "  inflating: urbansound8k/fold2/109703-2-0-14.wav  \n",
      "  inflating: urbansound8k/fold2/109703-2-0-153.wav  \n",
      "  inflating: urbansound8k/fold2/109703-2-0-29.wav  \n",
      "  inflating: urbansound8k/fold2/109703-2-0-32.wav  \n",
      "  inflating: urbansound8k/fold2/109703-2-0-48.wav  \n",
      "  inflating: urbansound8k/fold2/109703-2-0-50.wav  \n",
      "  inflating: urbansound8k/fold2/112195-3-0-38.wav  \n",
      "  inflating: urbansound8k/fold2/112195-3-0-48.wav  \n",
      "  inflating: urbansound8k/fold2/112195-3-0-57.wav  \n",
      "  inflating: urbansound8k/fold2/112195-3-0-80.wav  \n",
      "  inflating: urbansound8k/fold2/113201-5-0-0.wav  \n",
      "  inflating: urbansound8k/fold2/113201-5-0-1.wav  \n",
      "  inflating: urbansound8k/fold2/113201-5-0-2.wav  \n",
      "  inflating: urbansound8k/fold2/113201-5-0-3.wav  \n",
      "  inflating: urbansound8k/fold2/113201-5-0-4.wav  \n",
      "  inflating: urbansound8k/fold2/113201-5-0-5.wav  \n",
      "  inflating: urbansound8k/fold2/113201-5-0-6.wav  \n",
      "  inflating: urbansound8k/fold2/113201-5-0-7.wav  \n",
      "  inflating: urbansound8k/fold2/113785-3-0-0.wav  \n",
      "  inflating: urbansound8k/fold2/113785-3-1-0.wav  \n",
      "  inflating: urbansound8k/fold2/115537-3-0-0.wav  \n",
      "  inflating: urbansound8k/fold2/118723-4-0-0.wav  \n",
      "  inflating: urbansound8k/fold2/118962-3-0-0.wav  \n",
      "  inflating: urbansound8k/fold2/123688-8-0-0.wav  \n",
      "  inflating: urbansound8k/fold2/123688-8-0-1.wav  \n",
      "  inflating: urbansound8k/fold2/123688-8-0-10.wav  \n",
      "  inflating: urbansound8k/fold2/123688-8-0-11.wav  \n",
      "  inflating: urbansound8k/fold2/123688-8-0-12.wav  \n",
      "  inflating: urbansound8k/fold2/123688-8-0-13.wav  \n",
      "  inflating: urbansound8k/fold2/123688-8-0-14.wav  \n",
      "  inflating: urbansound8k/fold2/123688-8-0-15.wav  \n",
      "  inflating: urbansound8k/fold2/123688-8-0-16.wav  \n",
      "  inflating: urbansound8k/fold2/123688-8-0-17.wav  \n",
      "  inflating: urbansound8k/fold2/123688-8-0-18.wav  \n",
      "  inflating: urbansound8k/fold2/123688-8-0-2.wav  \n",
      "  inflating: urbansound8k/fold2/123688-8-0-3.wav  \n",
      "  inflating: urbansound8k/fold2/123688-8-0-4.wav  \n",
      "  inflating: urbansound8k/fold2/123688-8-0-5.wav  \n",
      "  inflating: urbansound8k/fold2/123688-8-0-6.wav  \n",
      "  inflating: urbansound8k/fold2/123688-8-0-7.wav  \n",
      "  inflating: urbansound8k/fold2/123688-8-0-8.wav  \n",
      "  inflating: urbansound8k/fold2/123688-8-0-9.wav  \n",
      "  inflating: urbansound8k/fold2/123688-8-1-0.wav  \n",
      "  inflating: urbansound8k/fold2/123688-8-1-1.wav  \n",
      "  inflating: urbansound8k/fold2/123688-8-1-2.wav  \n",
      "  inflating: urbansound8k/fold2/123688-8-1-3.wav  \n",
      "  inflating: urbansound8k/fold2/123688-8-1-4.wav  \n",
      "  inflating: urbansound8k/fold2/123688-8-1-5.wav  \n",
      "  inflating: urbansound8k/fold2/123688-8-2-0.wav  \n",
      "  inflating: urbansound8k/fold2/123688-8-2-1.wav  \n",
      "  inflating: urbansound8k/fold2/123688-8-2-2.wav  \n",
      "  inflating: urbansound8k/fold2/123688-8-2-3.wav  \n",
      "  inflating: urbansound8k/fold2/123688-8-2-4.wav  \n",
      "  inflating: urbansound8k/fold2/127872-0-0-0.wav  \n",
      "  inflating: urbansound8k/fold2/132073-1-0-0.wav  \n",
      "  inflating: urbansound8k/fold2/132073-1-1-0.wav  \n",
      "  inflating: urbansound8k/fold2/132073-1-2-0.wav  \n",
      "  inflating: urbansound8k/fold2/132073-1-3-0.wav  \n",
      "  inflating: urbansound8k/fold2/132073-1-4-0.wav  \n",
      "  inflating: urbansound8k/fold2/132073-1-5-0.wav  \n",
      "  inflating: urbansound8k/fold2/132073-1-6-0.wav  \n",
      "  inflating: urbansound8k/fold2/14387-9-0-11.wav  \n",
      "  inflating: urbansound8k/fold2/14387-9-0-12.wav  \n",
      "  inflating: urbansound8k/fold2/14387-9-0-15.wav  \n",
      "  inflating: urbansound8k/fold2/14387-9-0-16.wav  \n",
      "  inflating: urbansound8k/fold2/14387-9-0-19.wav  \n",
      "  inflating: urbansound8k/fold2/14387-9-0-7.wav  \n",
      "  inflating: urbansound8k/fold2/143970-5-0-0.wav  \n",
      "  inflating: urbansound8k/fold2/143970-5-0-1.wav  \n",
      "  inflating: urbansound8k/fold2/143970-5-0-2.wav  \n",
      "  inflating: urbansound8k/fold2/143970-5-0-3.wav  \n",
      "  inflating: urbansound8k/fold2/145577-1-0-0.wav  \n",
      "  inflating: urbansound8k/fold2/145608-6-0-0.wav  \n",
      "  inflating: urbansound8k/fold2/145608-6-1-0.wav  \n",
      "  inflating: urbansound8k/fold2/145608-6-2-0.wav  \n",
      "  inflating: urbansound8k/fold2/145608-6-3-0.wav  \n",
      "  inflating: urbansound8k/fold2/146690-0-0-100.wav  \n",
      "  inflating: urbansound8k/fold2/146690-0-0-112.wav  \n",
      "  inflating: urbansound8k/fold2/146690-0-0-115.wav  \n",
      "  inflating: urbansound8k/fold2/146690-0-0-116.wav  \n",
      "  inflating: urbansound8k/fold2/146690-0-0-117.wav  \n",
      "  inflating: urbansound8k/fold2/146690-0-0-125.wav  \n",
      "  inflating: urbansound8k/fold2/146690-0-0-137.wav  \n",
      "  inflating: urbansound8k/fold2/146690-0-0-140.wav  \n",
      "  inflating: urbansound8k/fold2/146690-0-0-151.wav  \n",
      "  inflating: urbansound8k/fold2/146690-0-0-154.wav  \n",
      "  inflating: urbansound8k/fold2/146690-0-0-155.wav  \n",
      "  inflating: urbansound8k/fold2/146690-0-0-165.wav  \n",
      "  inflating: urbansound8k/fold2/146690-0-0-17.wav  \n",
      "  inflating: urbansound8k/fold2/146690-0-0-18.wav  \n",
      "  inflating: urbansound8k/fold2/146690-0-0-25.wav  \n",
      "  inflating: urbansound8k/fold2/146690-0-0-35.wav  \n",
      "  inflating: urbansound8k/fold2/146690-0-0-38.wav  \n",
      "  inflating: urbansound8k/fold2/146690-0-0-43.wav  \n",
      "  inflating: urbansound8k/fold2/146690-0-0-47.wav  \n",
      "  inflating: urbansound8k/fold2/146690-0-0-64.wav  \n",
      "  inflating: urbansound8k/fold2/146690-0-0-8.wav  \n",
      "  inflating: urbansound8k/fold2/146690-0-0-80.wav  \n",
      "  inflating: urbansound8k/fold2/146690-0-0-86.wav  \n",
      "  inflating: urbansound8k/fold2/146690-0-0-87.wav  \n",
      "  inflating: urbansound8k/fold2/146690-0-0-93.wav  \n",
      "  inflating: urbansound8k/fold2/147672-3-0-0.wav  \n",
      "  inflating: urbansound8k/fold2/147672-3-1-0.wav  \n",
      "  inflating: urbansound8k/fold2/147672-3-2-0.wav  \n",
      "  inflating: urbansound8k/fold2/14780-9-0-0.wav  \n",
      "  inflating: urbansound8k/fold2/14780-9-0-1.wav  \n",
      "  inflating: urbansound8k/fold2/14780-9-0-2.wav  \n",
      "  inflating: urbansound8k/fold2/147926-0-0-10.wav  \n",
      "  inflating: urbansound8k/fold2/147926-0-0-11.wav  \n",
      "  inflating: urbansound8k/fold2/147926-0-0-12.wav  \n",
      "  inflating: urbansound8k/fold2/147926-0-0-16.wav  \n",
      "  inflating: urbansound8k/fold2/147926-0-0-17.wav  \n",
      "  inflating: urbansound8k/fold2/147926-0-0-2.wav  \n",
      "  inflating: urbansound8k/fold2/147926-0-0-20.wav  \n",
      "  inflating: urbansound8k/fold2/147926-0-0-21.wav  \n",
      "  inflating: urbansound8k/fold2/147926-0-0-27.wav  \n",
      "  inflating: urbansound8k/fold2/147926-0-0-28.wav  \n",
      "  inflating: urbansound8k/fold2/147926-0-0-34.wav  \n",
      "  inflating: urbansound8k/fold2/147926-0-0-35.wav  \n",
      "  inflating: urbansound8k/fold2/147926-0-0-36.wav  \n",
      "  inflating: urbansound8k/fold2/147926-0-0-37.wav  \n",
      "  inflating: urbansound8k/fold2/147926-0-0-39.wav  \n",
      "  inflating: urbansound8k/fold2/147926-0-0-4.wav  \n",
      "  inflating: urbansound8k/fold2/147926-0-0-41.wav  \n",
      "  inflating: urbansound8k/fold2/147926-0-0-42.wav  \n",
      "  inflating: urbansound8k/fold2/147926-0-0-44.wav  \n",
      "  inflating: urbansound8k/fold2/147926-0-0-5.wav  \n",
      "  inflating: urbansound8k/fold2/147926-0-0-50.wav  \n",
      "  inflating: urbansound8k/fold2/147926-0-0-52.wav  \n",
      "  inflating: urbansound8k/fold2/147926-0-0-54.wav  \n",
      "  inflating: urbansound8k/fold2/147926-0-0-7.wav  \n",
      "  inflating: urbansound8k/fold2/149177-6-0-0.wav  \n",
      "  inflating: urbansound8k/fold2/149254-9-0-25.wav  \n",
      "  inflating: urbansound8k/fold2/149254-9-0-29.wav  \n",
      "  inflating: urbansound8k/fold2/149254-9-0-30.wav  \n",
      "  inflating: urbansound8k/fold2/149254-9-0-42.wav  \n",
      "  inflating: urbansound8k/fold2/149254-9-0-51.wav  \n",
      "  inflating: urbansound8k/fold2/149254-9-0-56.wav  \n",
      "  inflating: urbansound8k/fold2/149370-9-0-15.wav  \n",
      "  inflating: urbansound8k/fold2/149370-9-0-19.wav  \n",
      "  inflating: urbansound8k/fold2/149370-9-0-21.wav  \n",
      "  inflating: urbansound8k/fold2/149370-9-0-22.wav  \n",
      "  inflating: urbansound8k/fold2/149370-9-0-32.wav  \n",
      "  inflating: urbansound8k/fold2/149370-9-0-37.wav  \n",
      "  inflating: urbansound8k/fold2/152908-5-0-0.wav  \n",
      "  inflating: urbansound8k/fold2/152908-5-0-1.wav  \n",
      "  inflating: urbansound8k/fold2/152908-5-0-10.wav  \n",
      "  inflating: urbansound8k/fold2/152908-5-0-11.wav  \n",
      "  inflating: urbansound8k/fold2/152908-5-0-12.wav  \n",
      "  inflating: urbansound8k/fold2/152908-5-0-13.wav  \n",
      "  inflating: urbansound8k/fold2/152908-5-0-2.wav  \n",
      "  inflating: urbansound8k/fold2/152908-5-0-3.wav  \n",
      "  inflating: urbansound8k/fold2/152908-5-0-4.wav  \n",
      "  inflating: urbansound8k/fold2/152908-5-0-5.wav  \n",
      "  inflating: urbansound8k/fold2/152908-5-0-6.wav  \n",
      "  inflating: urbansound8k/fold2/152908-5-0-7.wav  \n",
      "  inflating: urbansound8k/fold2/152908-5-0-8.wav  \n",
      "  inflating: urbansound8k/fold2/152908-5-0-9.wav  \n",
      "  inflating: urbansound8k/fold2/155129-1-0-0.wav  \n",
      "  inflating: urbansound8k/fold2/155129-1-1-0.wav  \n",
      "  inflating: urbansound8k/fold2/155129-1-2-0.wav  \n",
      "  inflating: urbansound8k/fold2/155219-2-0-0.wav  \n",
      "  inflating: urbansound8k/fold2/155219-2-0-1.wav  \n",
      "  inflating: urbansound8k/fold2/155219-2-0-22.wav  \n",
      "  inflating: urbansound8k/fold2/155219-2-0-24.wav  \n",
      "  inflating: urbansound8k/fold2/155219-2-0-25.wav  \n",
      "  inflating: urbansound8k/fold2/155219-2-0-26.wav  \n",
      "  inflating: urbansound8k/fold2/155219-2-0-51.wav  \n",
      "  inflating: urbansound8k/fold2/155219-2-0-57.wav  \n",
      "  inflating: urbansound8k/fold2/155234-1-0-0.wav  \n",
      "  inflating: urbansound8k/fold2/156893-7-0-0.wav  \n",
      "  inflating: urbansound8k/fold2/156893-7-1-0.wav  \n",
      "  inflating: urbansound8k/fold2/156893-7-10-0.wav  \n",
      "  inflating: urbansound8k/fold2/156893-7-11-0.wav  \n",
      "  inflating: urbansound8k/fold2/156893-7-2-0.wav  \n",
      "  inflating: urbansound8k/fold2/156893-7-3-0.wav  \n",
      "  inflating: urbansound8k/fold2/156893-7-4-0.wav  \n",
      "  inflating: urbansound8k/fold2/156893-7-5-0.wav  \n",
      "  inflating: urbansound8k/fold2/156893-7-6-0.wav  \n",
      "  inflating: urbansound8k/fold2/156893-7-7-0.wav  \n",
      "  inflating: urbansound8k/fold2/156893-7-8-0.wav  \n",
      "  inflating: urbansound8k/fold2/156893-7-9-0.wav  \n",
      "  inflating: urbansound8k/fold2/158597-2-0-16.wav  \n",
      "  inflating: urbansound8k/fold2/158597-2-0-2.wav  \n",
      "  inflating: urbansound8k/fold2/158597-2-0-3.wav  \n",
      "  inflating: urbansound8k/fold2/158597-2-0-30.wav  \n",
      "  inflating: urbansound8k/fold2/158597-2-0-33.wav  \n",
      "  inflating: urbansound8k/fold2/158597-2-0-41.wav  \n",
      "  inflating: urbansound8k/fold2/158597-2-0-57.wav  \n",
      "  inflating: urbansound8k/fold2/158597-2-0-85.wav  \n",
      "  inflating: urbansound8k/fold2/158607-3-0-0.wav  \n",
      "  inflating: urbansound8k/fold2/158607-3-1-0.wav  \n",
      "  inflating: urbansound8k/fold2/158607-3-2-0.wav  \n",
      "  inflating: urbansound8k/fold2/159710-6-0-0.wav  \n",
      "  inflating: urbansound8k/fold2/159743-8-0-0.wav  \n",
      "  inflating: urbansound8k/fold2/159747-8-0-0.wav  \n",
      "  inflating: urbansound8k/fold2/159747-8-0-1.wav  \n",
      "  inflating: urbansound8k/fold2/159747-8-0-10.wav  \n",
      "  inflating: urbansound8k/fold2/159747-8-0-11.wav  \n",
      "  inflating: urbansound8k/fold2/159747-8-0-12.wav  \n",
      "  inflating: urbansound8k/fold2/159747-8-0-13.wav  \n",
      "  inflating: urbansound8k/fold2/159747-8-0-14.wav  \n",
      "  inflating: urbansound8k/fold2/159747-8-0-15.wav  \n",
      "  inflating: urbansound8k/fold2/159747-8-0-16.wav  \n",
      "  inflating: urbansound8k/fold2/159747-8-0-17.wav  \n",
      "  inflating: urbansound8k/fold2/159747-8-0-18.wav  \n",
      "  inflating: urbansound8k/fold2/159747-8-0-19.wav  \n",
      "  inflating: urbansound8k/fold2/159747-8-0-2.wav  \n",
      "  inflating: urbansound8k/fold2/159747-8-0-20.wav  \n",
      "  inflating: urbansound8k/fold2/159747-8-0-21.wav  \n",
      "  inflating: urbansound8k/fold2/159747-8-0-3.wav  \n",
      "  inflating: urbansound8k/fold2/159747-8-0-4.wav  \n",
      "  inflating: urbansound8k/fold2/159747-8-0-5.wav  \n",
      "  inflating: urbansound8k/fold2/159747-8-0-6.wav  \n",
      "  inflating: urbansound8k/fold2/159747-8-0-7.wav  \n",
      "  inflating: urbansound8k/fold2/159747-8-0-8.wav  \n",
      "  inflating: urbansound8k/fold2/159747-8-0-9.wav  \n",
      "  inflating: urbansound8k/fold2/159750-8-0-0.wav  \n",
      "  inflating: urbansound8k/fold2/159750-8-0-1.wav  \n",
      "  inflating: urbansound8k/fold2/159750-8-0-2.wav  \n",
      "  inflating: urbansound8k/fold2/159750-8-0-3.wav  \n",
      "  inflating: urbansound8k/fold2/159750-8-0-4.wav  \n",
      "  inflating: urbansound8k/fold2/159750-8-0-5.wav  \n",
      "  inflating: urbansound8k/fold2/159750-8-0-6.wav  \n",
      "  inflating: urbansound8k/fold2/159750-8-0-7.wav  \n",
      "  inflating: urbansound8k/fold2/159750-8-0-8.wav  \n",
      "  inflating: urbansound8k/fold2/160011-2-0-0.wav  \n",
      "  inflating: urbansound8k/fold2/160011-2-0-1.wav  \n",
      "  inflating: urbansound8k/fold2/160011-2-0-12.wav  \n",
      "  inflating: urbansound8k/fold2/160011-2-0-3.wav  \n",
      "  inflating: urbansound8k/fold2/160011-2-0-34.wav  \n",
      "  inflating: urbansound8k/fold2/160011-2-0-5.wav  \n",
      "  inflating: urbansound8k/fold2/160011-2-0-7.wav  \n",
      "  inflating: urbansound8k/fold2/160011-2-0-9.wav  \n",
      "  inflating: urbansound8k/fold2/160092-3-0-0.wav  \n",
      "  inflating: urbansound8k/fold2/160366-3-0-13.wav  \n",
      "  inflating: urbansound8k/fold2/160366-3-0-4.wav  \n",
      "  inflating: urbansound8k/fold2/160366-3-0-7.wav  \n",
      "  inflating: urbansound8k/fold2/160366-3-0-8.wav  \n",
      "  inflating: urbansound8k/fold2/162541-1-0-0.wav  \n",
      "  inflating: urbansound8k/fold2/162541-1-1-0.wav  \n",
      "  inflating: urbansound8k/fold2/162541-1-2-0.wav  \n",
      "  inflating: urbansound8k/fold2/163460-6-0-0.wav  \n",
      "  inflating: urbansound8k/fold2/165643-4-0-0.wav  \n",
      "  inflating: urbansound8k/fold2/165775-7-0-0.wav  \n",
      "  inflating: urbansound8k/fold2/165775-7-1-0.wav  \n",
      "  inflating: urbansound8k/fold2/166421-3-0-29.wav  \n",
      "  inflating: urbansound8k/fold2/166421-3-0-31.wav  \n",
      "  inflating: urbansound8k/fold2/166421-3-0-5.wav  \n",
      "  inflating: urbansound8k/fold2/168713-9-0-32.wav  \n",
      "  inflating: urbansound8k/fold2/168713-9-0-33.wav  \n",
      "  inflating: urbansound8k/fold2/168713-9-0-38.wav  \n",
      "  inflating: urbansound8k/fold2/168713-9-0-46.wav  \n",
      "  inflating: urbansound8k/fold2/168713-9-0-62.wav  \n",
      "  inflating: urbansound8k/fold2/168713-9-0-82.wav  \n",
      "  inflating: urbansound8k/fold2/169098-7-0-0.wav  \n",
      "  inflating: urbansound8k/fold2/169098-7-0-1.wav  \n",
      "  inflating: urbansound8k/fold2/169098-7-0-2.wav  \n",
      "  inflating: urbansound8k/fold2/169098-7-0-3.wav  \n",
      "  inflating: urbansound8k/fold2/169098-7-0-4.wav  \n",
      "  inflating: urbansound8k/fold2/169098-7-0-5.wav  \n",
      "  inflating: urbansound8k/fold2/169098-7-0-6.wav  \n",
      "  inflating: urbansound8k/fold2/169098-7-0-7.wav  \n",
      "  inflating: urbansound8k/fold2/169098-7-0-8.wav  \n",
      "  inflating: urbansound8k/fold2/169098-7-0-9.wav  \n",
      "  inflating: urbansound8k/fold2/169098-7-1-0.wav  \n",
      "  inflating: urbansound8k/fold2/169098-7-2-0.wav  \n",
      "  inflating: urbansound8k/fold2/169098-7-3-0.wav  \n",
      "  inflating: urbansound8k/fold2/169098-7-3-1.wav  \n",
      "  inflating: urbansound8k/fold2/169098-7-4-0.wav  \n",
      "  inflating: urbansound8k/fold2/169098-7-4-1.wav  \n",
      "  inflating: urbansound8k/fold2/169098-7-4-10.wav  \n",
      "  inflating: urbansound8k/fold2/169098-7-4-11.wav  \n",
      "  inflating: urbansound8k/fold2/169098-7-4-2.wav  \n",
      "  inflating: urbansound8k/fold2/169098-7-4-3.wav  \n",
      "  inflating: urbansound8k/fold2/169098-7-4-4.wav  \n",
      "  inflating: urbansound8k/fold2/169098-7-4-5.wav  \n",
      "  inflating: urbansound8k/fold2/169098-7-4-6.wav  \n",
      "  inflating: urbansound8k/fold2/169098-7-4-7.wav  \n",
      "  inflating: urbansound8k/fold2/169098-7-4-8.wav  \n",
      "  inflating: urbansound8k/fold2/169098-7-4-9.wav  \n",
      "  inflating: urbansound8k/fold2/172593-2-0-10.wav  \n",
      "  inflating: urbansound8k/fold2/172593-2-0-13.wav  \n",
      "  inflating: urbansound8k/fold2/172593-2-0-14.wav  \n",
      "  inflating: urbansound8k/fold2/172593-2-0-18.wav  \n",
      "  inflating: urbansound8k/fold2/172593-2-0-22.wav  \n",
      "  inflating: urbansound8k/fold2/172593-2-0-27.wav  \n",
      "  inflating: urbansound8k/fold2/172593-2-0-28.wav  \n",
      "  inflating: urbansound8k/fold2/172593-2-0-29.wav  \n",
      "  inflating: urbansound8k/fold2/17307-1-0-0.wav  \n",
      "  inflating: urbansound8k/fold2/173995-3-0-0.wav  \n",
      "  inflating: urbansound8k/fold2/173995-3-0-11.wav  \n",
      "  inflating: urbansound8k/fold2/173995-3-0-27.wav  \n",
      "  inflating: urbansound8k/fold2/173995-3-0-3.wav  \n",
      "  inflating: urbansound8k/fold2/174293-6-0-0.wav  \n",
      "  inflating: urbansound8k/fold2/174293-6-1-0.wav  \n",
      "  inflating: urbansound8k/fold2/174293-6-2-0.wav  \n",
      "  inflating: urbansound8k/fold2/174906-2-0-10.wav  \n",
      "  inflating: urbansound8k/fold2/174906-2-0-11.wav  \n",
      "  inflating: urbansound8k/fold2/174906-2-0-14.wav  \n",
      "  inflating: urbansound8k/fold2/174906-2-0-18.wav  \n",
      "  inflating: urbansound8k/fold2/174906-2-0-20.wav  \n",
      "  inflating: urbansound8k/fold2/174906-2-0-21.wav  \n",
      "  inflating: urbansound8k/fold2/174906-2-0-6.wav  \n",
      "  inflating: urbansound8k/fold2/174906-2-0-8.wav  \n",
      "  inflating: urbansound8k/fold2/174994-3-0-0.wav  \n",
      "  inflating: urbansound8k/fold2/174994-3-0-1.wav  \n",
      "  inflating: urbansound8k/fold2/174994-3-0-2.wav  \n",
      "  inflating: urbansound8k/fold2/174994-3-0-4.wav  \n",
      "  inflating: urbansound8k/fold2/175844-1-0-0.wav  \n",
      "  inflating: urbansound8k/fold2/176634-1-0-0.wav  \n",
      "  inflating: urbansound8k/fold2/177592-5-0-0.wav  \n",
      "  inflating: urbansound8k/fold2/177592-5-0-1.wav  \n",
      "  inflating: urbansound8k/fold2/177592-5-0-10.wav  \n",
      "  inflating: urbansound8k/fold2/177592-5-0-2.wav  \n",
      "  inflating: urbansound8k/fold2/177592-5-0-3.wav  \n",
      "  inflating: urbansound8k/fold2/177592-5-0-4.wav  \n",
      "  inflating: urbansound8k/fold2/177592-5-0-5.wav  \n",
      "  inflating: urbansound8k/fold2/177592-5-0-6.wav  \n",
      "  inflating: urbansound8k/fold2/177592-5-0-7.wav  \n",
      "  inflating: urbansound8k/fold2/177592-5-0-8.wav  \n",
      "  inflating: urbansound8k/fold2/177592-5-0-9.wav  \n",
      "  inflating: urbansound8k/fold2/178520-2-0-11.wav  \n",
      "  inflating: urbansound8k/fold2/178520-2-0-23.wav  \n",
      "  inflating: urbansound8k/fold2/178520-2-0-27.wav  \n",
      "  inflating: urbansound8k/fold2/178520-2-0-28.wav  \n",
      "  inflating: urbansound8k/fold2/178520-2-0-29.wav  \n",
      "  inflating: urbansound8k/fold2/178520-2-0-38.wav  \n",
      "  inflating: urbansound8k/fold2/178520-2-0-39.wav  \n",
      "  inflating: urbansound8k/fold2/178520-2-0-42.wav  \n",
      "  inflating: urbansound8k/fold2/178521-2-0-18.wav  \n",
      "  inflating: urbansound8k/fold2/178521-2-0-2.wav  \n",
      "  inflating: urbansound8k/fold2/178521-2-0-22.wav  \n",
      "  inflating: urbansound8k/fold2/178521-2-0-69.wav  \n",
      "  inflating: urbansound8k/fold2/178521-2-0-7.wav  \n",
      "  inflating: urbansound8k/fold2/178521-2-0-70.wav  \n",
      "  inflating: urbansound8k/fold2/178521-2-0-86.wav  \n",
      "  inflating: urbansound8k/fold2/178521-2-0-93.wav  \n",
      "  inflating: urbansound8k/fold2/179096-3-0-1.wav  \n",
      "  inflating: urbansound8k/fold2/179096-3-0-10.wav  \n",
      "  inflating: urbansound8k/fold2/179096-3-0-5.wav  \n",
      "  inflating: urbansound8k/fold2/179096-3-0-9.wav  \n",
      "  inflating: urbansound8k/fold2/179864-1-0-0.wav  \n",
      "  inflating: urbansound8k/fold2/179866-1-0-0.wav  \n",
      "  inflating: urbansound8k/fold2/179866-1-1-0.wav  \n",
      "  inflating: urbansound8k/fold2/180126-4-0-0.wav  \n",
      "  inflating: urbansound8k/fold2/180126-4-1-0.wav  \n",
      "  inflating: urbansound8k/fold2/180126-4-1-1.wav  \n",
      "  inflating: urbansound8k/fold2/180126-4-1-2.wav  \n",
      "  inflating: urbansound8k/fold2/180126-4-2-0.wav  \n",
      "  inflating: urbansound8k/fold2/180126-4-3-0.wav  \n",
      "  inflating: urbansound8k/fold2/180126-4-4-0.wav  \n",
      "  inflating: urbansound8k/fold2/180126-4-4-1.wav  \n",
      "  inflating: urbansound8k/fold2/180126-4-4-2.wav  \n",
      "  inflating: urbansound8k/fold2/182739-2-0-13.wav  \n",
      "  inflating: urbansound8k/fold2/182739-2-0-17.wav  \n",
      "  inflating: urbansound8k/fold2/182739-2-0-24.wav  \n",
      "  inflating: urbansound8k/fold2/182739-2-0-35.wav  \n",
      "  inflating: urbansound8k/fold2/182739-2-0-56.wav  \n",
      "  inflating: urbansound8k/fold2/182739-2-0-62.wav  \n",
      "  inflating: urbansound8k/fold2/182739-2-0-78.wav  \n",
      "  inflating: urbansound8k/fold2/182739-2-0-85.wav  \n",
      "  inflating: urbansound8k/fold2/18453-3-0-0.wav  \n",
      "  inflating: urbansound8k/fold2/185800-4-0-0.wav  \n",
      "  inflating: urbansound8k/fold2/185800-4-0-1.wav  \n",
      "  inflating: urbansound8k/fold2/185800-4-1-0.wav  \n",
      "  inflating: urbansound8k/fold2/185800-4-2-0.wav  \n",
      "  inflating: urbansound8k/fold2/185800-4-2-1.wav  \n",
      "  inflating: urbansound8k/fold2/185800-4-2-2.wav  \n",
      "  inflating: urbansound8k/fold2/18581-3-0-0.wav  \n",
      "  inflating: urbansound8k/fold2/18581-3-0-5.wav  \n",
      "  inflating: urbansound8k/fold2/18581-3-1-1.wav  \n",
      "  inflating: urbansound8k/fold2/18581-3-1-3.wav  \n",
      "  inflating: urbansound8k/fold2/189023-0-0-0.wav  \n",
      "  inflating: urbansound8k/fold2/189023-0-0-1.wav  \n",
      "  inflating: urbansound8k/fold2/189023-0-0-10.wav  \n",
      "  inflating: urbansound8k/fold2/189023-0-0-11.wav  \n",
      "  inflating: urbansound8k/fold2/189023-0-0-12.wav  \n",
      "  inflating: urbansound8k/fold2/189023-0-0-13.wav  \n",
      "  inflating: urbansound8k/fold2/189023-0-0-2.wav  \n",
      "  inflating: urbansound8k/fold2/189023-0-0-3.wav  \n",
      "  inflating: urbansound8k/fold2/189023-0-0-4.wav  \n",
      "  inflating: urbansound8k/fold2/189023-0-0-5.wav  \n",
      "  inflating: urbansound8k/fold2/189023-0-0-6.wav  \n",
      "  inflating: urbansound8k/fold2/189023-0-0-7.wav  \n",
      "  inflating: urbansound8k/fold2/189023-0-0-8.wav  \n",
      "  inflating: urbansound8k/fold2/189023-0-0-9.wav  \n",
      "  inflating: urbansound8k/fold2/189991-0-0-0.wav  \n",
      "  inflating: urbansound8k/fold2/189991-0-0-1.wav  \n",
      "  inflating: urbansound8k/fold2/189991-0-0-2.wav  \n",
      "  inflating: urbansound8k/fold2/189991-0-0-3.wav  \n",
      "  inflating: urbansound8k/fold2/189991-0-0-4.wav  \n",
      "  inflating: urbansound8k/fold2/189991-0-0-5.wav  \n",
      "  inflating: urbansound8k/fold2/189991-0-0-6.wav  \n",
      "  inflating: urbansound8k/fold2/189991-0-0-7.wav  \n",
      "  inflating: urbansound8k/fold2/19218-3-0-0.wav  \n",
      "  inflating: urbansound8k/fold2/192269-2-0-1.wav  \n",
      "  inflating: urbansound8k/fold2/192269-2-0-11.wav  \n",
      "  inflating: urbansound8k/fold2/192269-2-0-18.wav  \n",
      "  inflating: urbansound8k/fold2/192269-2-0-24.wav  \n",
      "  inflating: urbansound8k/fold2/192269-2-0-35.wav  \n",
      "  inflating: urbansound8k/fold2/192269-2-0-37.wav  \n",
      "  inflating: urbansound8k/fold2/192269-2-0-54.wav  \n",
      "  inflating: urbansound8k/fold2/192269-2-0-56.wav  \n",
      "  inflating: urbansound8k/fold2/194841-9-0-130.wav  \n",
      "  inflating: urbansound8k/fold2/194841-9-0-144.wav  \n",
      "  inflating: urbansound8k/fold2/194841-9-0-164.wav  \n",
      "  inflating: urbansound8k/fold2/194841-9-0-178.wav  \n",
      "  inflating: urbansound8k/fold2/194841-9-0-222.wav  \n",
      "  inflating: urbansound8k/fold2/194841-9-0-48.wav  \n",
      "  inflating: urbansound8k/fold2/196063-2-0-0.wav  \n",
      "  inflating: urbansound8k/fold2/196063-2-0-1.wav  \n",
      "  inflating: urbansound8k/fold2/196063-2-0-2.wav  \n",
      "  inflating: urbansound8k/fold2/196067-2-0-0.wav  \n",
      "  inflating: urbansound8k/fold2/196078-2-0-0.wav  \n",
      "  inflating: urbansound8k/fold2/196082-2-0-0.wav  \n",
      "  inflating: urbansound8k/fold2/196384-9-0-11.wav  \n",
      "  inflating: urbansound8k/fold2/196384-9-0-15.wav  \n",
      "  inflating: urbansound8k/fold2/196384-9-0-16.wav  \n",
      "  inflating: urbansound8k/fold2/196384-9-0-18.wav  \n",
      "  inflating: urbansound8k/fold2/196384-9-0-2.wav  \n",
      "  inflating: urbansound8k/fold2/196384-9-0-27.wav  \n",
      "  inflating: urbansound8k/fold2/197320-6-0-0.wav  \n",
      "  inflating: urbansound8k/fold2/197320-6-1-0.wav  \n",
      "  inflating: urbansound8k/fold2/197320-6-10-0.wav  \n",
      "  inflating: urbansound8k/fold2/197320-6-11-0.wav  \n",
      "  inflating: urbansound8k/fold2/197320-6-12-0.wav  \n",
      "  inflating: urbansound8k/fold2/197320-6-2-0.wav  \n",
      "  inflating: urbansound8k/fold2/197320-6-3-0.wav  \n",
      "  inflating: urbansound8k/fold2/197320-6-4-0.wav  \n",
      "  inflating: urbansound8k/fold2/197320-6-5-0.wav  \n",
      "  inflating: urbansound8k/fold2/197320-6-6-0.wav  \n",
      "  inflating: urbansound8k/fold2/197320-6-7-0.wav  \n",
      "  inflating: urbansound8k/fold2/197320-6-8-0.wav  \n",
      "  inflating: urbansound8k/fold2/197320-6-9-0.wav  \n",
      "  inflating: urbansound8k/fold2/201652-5-0-0.wav  \n",
      "  inflating: urbansound8k/fold2/201652-5-0-1.wav  \n",
      "  inflating: urbansound8k/fold2/201652-5-0-2.wav  \n",
      "  inflating: urbansound8k/fold2/201652-5-0-3.wav  \n",
      "  inflating: urbansound8k/fold2/201652-5-1-0.wav  \n",
      "  inflating: urbansound8k/fold2/201652-5-2-0.wav  \n",
      "  inflating: urbansound8k/fold2/201652-5-2-1.wav  \n",
      "  inflating: urbansound8k/fold2/201652-5-2-2.wav  \n",
      "  inflating: urbansound8k/fold2/201652-5-2-3.wav  \n",
      "  inflating: urbansound8k/fold2/201652-5-2-4.wav  \n",
      "  inflating: urbansound8k/fold2/201652-5-2-5.wav  \n",
      "  inflating: urbansound8k/fold2/201652-5-3-0.wav  \n",
      "  inflating: urbansound8k/fold2/201652-5-3-1.wav  \n",
      "  inflating: urbansound8k/fold2/201652-5-3-2.wav  \n",
      "  inflating: urbansound8k/fold2/201652-5-3-3.wav  \n",
      "  inflating: urbansound8k/fold2/201652-5-3-4.wav  \n",
      "  inflating: urbansound8k/fold2/201652-5-4-0.wav  \n",
      "  inflating: urbansound8k/fold2/201652-5-4-1.wav  \n",
      "  inflating: urbansound8k/fold2/201652-5-4-2.wav  \n",
      "  inflating: urbansound8k/fold2/201652-5-4-3.wav  \n",
      "  inflating: urbansound8k/fold2/201652-5-4-4.wav  \n",
      "  inflating: urbansound8k/fold2/201652-5-4-5.wav  \n",
      "  inflating: urbansound8k/fold2/201652-5-4-6.wav  \n",
      "  inflating: urbansound8k/fold2/201652-5-4-7.wav  \n",
      "  inflating: urbansound8k/fold2/201652-5-4-8.wav  \n",
      "  inflating: urbansound8k/fold2/201652-5-4-9.wav  \n",
      "  inflating: urbansound8k/fold2/201652-5-5-0.wav  \n",
      "  inflating: urbansound8k/fold2/201652-5-5-1.wav  \n",
      "  inflating: urbansound8k/fold2/201652-5-5-2.wav  \n",
      "  inflating: urbansound8k/fold2/201652-5-5-3.wav  \n",
      "  inflating: urbansound8k/fold2/201652-5-5-4.wav  \n",
      "  inflating: urbansound8k/fold2/201652-5-5-5.wav  \n",
      "  inflating: urbansound8k/fold2/203128-3-1-0.wav  \n",
      "  inflating: urbansound8k/fold2/203128-3-3-0.wav  \n",
      "  inflating: urbansound8k/fold2/203128-3-6-0.wav  \n",
      "  inflating: urbansound8k/fold2/203128-3-9-0.wav  \n",
      "  inflating: urbansound8k/fold2/203929-7-1-0.wav  \n",
      "  inflating: urbansound8k/fold2/203929-7-1-1.wav  \n",
      "  inflating: urbansound8k/fold2/203929-7-1-2.wav  \n",
      "  inflating: urbansound8k/fold2/203929-7-1-3.wav  \n",
      "  inflating: urbansound8k/fold2/203929-7-1-6.wav  \n",
      "  inflating: urbansound8k/fold2/203929-7-1-7.wav  \n",
      "  inflating: urbansound8k/fold2/203929-7-1-8.wav  \n",
      "  inflating: urbansound8k/fold2/203929-7-10-0.wav  \n",
      "  inflating: urbansound8k/fold2/203929-7-10-1.wav  \n",
      "  inflating: urbansound8k/fold2/203929-7-10-2.wav  \n",
      "  inflating: urbansound8k/fold2/203929-7-2-0.wav  \n",
      "  inflating: urbansound8k/fold2/203929-7-2-11.wav  \n",
      "  inflating: urbansound8k/fold2/203929-7-2-2.wav  \n",
      "  inflating: urbansound8k/fold2/203929-7-2-3.wav  \n",
      "  inflating: urbansound8k/fold2/203929-7-2-5.wav  \n",
      "  inflating: urbansound8k/fold2/203929-7-2-6.wav  \n",
      "  inflating: urbansound8k/fold2/203929-7-2-8.wav  \n",
      "  inflating: urbansound8k/fold2/203929-7-2-9.wav  \n",
      "  inflating: urbansound8k/fold2/203929-7-3-1.wav  \n",
      "  inflating: urbansound8k/fold2/203929-7-3-10.wav  \n",
      "  inflating: urbansound8k/fold2/203929-7-3-2.wav  \n",
      "  inflating: urbansound8k/fold2/203929-7-3-3.wav  \n",
      "  inflating: urbansound8k/fold2/203929-7-3-5.wav  \n",
      "  inflating: urbansound8k/fold2/203929-7-3-9.wav  \n",
      "  inflating: urbansound8k/fold2/203929-7-4-0.wav  \n",
      "  inflating: urbansound8k/fold2/203929-7-4-1.wav  \n",
      "  inflating: urbansound8k/fold2/203929-7-4-10.wav  \n",
      "  inflating: urbansound8k/fold2/203929-7-4-11.wav  \n",
      "  inflating: urbansound8k/fold2/203929-7-4-12.wav  \n",
      "  inflating: urbansound8k/fold2/203929-7-4-2.wav  \n",
      "  inflating: urbansound8k/fold2/203929-7-4-4.wav  \n",
      "  inflating: urbansound8k/fold2/203929-7-4-6.wav  \n",
      "  inflating: urbansound8k/fold2/203929-7-4-7.wav  \n",
      "  inflating: urbansound8k/fold2/203929-7-4-8.wav  \n",
      "  inflating: urbansound8k/fold2/203929-7-5-0.wav  \n",
      "  inflating: urbansound8k/fold2/203929-7-5-1.wav  \n",
      "  inflating: urbansound8k/fold2/203929-7-5-10.wav  \n",
      "  inflating: urbansound8k/fold2/203929-7-5-11.wav  \n",
      "  inflating: urbansound8k/fold2/203929-7-5-6.wav  \n",
      "  inflating: urbansound8k/fold2/203929-7-5-7.wav  \n",
      "  inflating: urbansound8k/fold2/203929-7-6-1.wav  \n",
      "  inflating: urbansound8k/fold2/203929-7-6-10.wav  \n",
      "  inflating: urbansound8k/fold2/203929-7-6-11.wav  \n",
      "  inflating: urbansound8k/fold2/203929-7-6-2.wav  \n",
      "  inflating: urbansound8k/fold2/203929-7-6-3.wav  \n",
      "  inflating: urbansound8k/fold2/203929-7-6-8.wav  \n",
      "  inflating: urbansound8k/fold2/203929-7-6-9.wav  \n",
      "  inflating: urbansound8k/fold2/203929-7-7-0.wav  \n",
      "  inflating: urbansound8k/fold2/203929-7-7-10.wav  \n",
      "  inflating: urbansound8k/fold2/203929-7-7-12.wav  \n",
      "  inflating: urbansound8k/fold2/203929-7-7-13.wav  \n",
      "  inflating: urbansound8k/fold2/203929-7-7-14.wav  \n",
      "  inflating: urbansound8k/fold2/203929-7-7-15.wav  \n",
      "  inflating: urbansound8k/fold2/203929-7-7-16.wav  \n",
      "  inflating: urbansound8k/fold2/203929-7-7-2.wav  \n",
      "  inflating: urbansound8k/fold2/203929-7-7-3.wav  \n",
      "  inflating: urbansound8k/fold2/203929-7-7-4.wav  \n",
      "  inflating: urbansound8k/fold2/203929-7-7-9.wav  \n",
      "  inflating: urbansound8k/fold2/203929-7-8-0.wav  \n",
      "  inflating: urbansound8k/fold2/203929-7-9-0.wav  \n",
      "  inflating: urbansound8k/fold2/203929-7-9-11.wav  \n",
      "  inflating: urbansound8k/fold2/203929-7-9-12.wav  \n",
      "  inflating: urbansound8k/fold2/203929-7-9-15.wav  \n",
      "  inflating: urbansound8k/fold2/203929-7-9-17.wav  \n",
      "  inflating: urbansound8k/fold2/203929-7-9-18.wav  \n",
      "  inflating: urbansound8k/fold2/203929-7-9-19.wav  \n",
      "  inflating: urbansound8k/fold2/203929-7-9-20.wav  \n",
      "  inflating: urbansound8k/fold2/203929-7-9-24.wav  \n",
      "  inflating: urbansound8k/fold2/203929-7-9-4.wav  \n",
      "  inflating: urbansound8k/fold2/203929-7-9-6.wav  \n",
      "  inflating: urbansound8k/fold2/203929-7-9-8.wav  \n",
      "  inflating: urbansound8k/fold2/203929-7-9-9.wav  \n",
      "  inflating: urbansound8k/fold2/204773-3-7-1.wav  \n",
      "  inflating: urbansound8k/fold2/204773-3-8-0.wav  \n",
      "  inflating: urbansound8k/fold2/204773-3-9-0.wav  \n",
      "  inflating: urbansound8k/fold2/204773-3-9-1.wav  \n",
      "  inflating: urbansound8k/fold2/22347-3-0-0.wav  \n",
      "  inflating: urbansound8k/fold2/22347-3-1-1.wav  \n",
      "  inflating: urbansound8k/fold2/22347-3-1-2.wav  \n",
      "  inflating: urbansound8k/fold2/22347-3-3-0.wav  \n",
      "  inflating: urbansound8k/fold2/23131-3-0-0.wav  \n",
      "  inflating: urbansound8k/fold2/23131-3-2-0.wav  \n",
      "  inflating: urbansound8k/fold2/23131-3-4-0.wav  \n",
      "  inflating: urbansound8k/fold2/23131-3-5-0.wav  \n",
      "  inflating: urbansound8k/fold2/27349-3-0-2.wav  \n",
      "  inflating: urbansound8k/fold2/27349-3-0-6.wav  \n",
      "  inflating: urbansound8k/fold2/27349-3-1-2.wav  \n",
      "  inflating: urbansound8k/fold2/27349-3-2-1.wav  \n",
      "  inflating: urbansound8k/fold2/33849-3-0-0.wav  \n",
      "  inflating: urbansound8k/fold2/33849-3-2-0.wav  \n",
      "  inflating: urbansound8k/fold2/33849-3-3-0.wav  \n",
      "  inflating: urbansound8k/fold2/33849-3-4-0.wav  \n",
      "  inflating: urbansound8k/fold2/34621-4-0-0.wav  \n",
      "  inflating: urbansound8k/fold2/34621-4-1-0.wav  \n",
      "  inflating: urbansound8k/fold2/34621-4-11-0.wav  \n",
      "  inflating: urbansound8k/fold2/34621-4-12-0.wav  \n",
      "  inflating: urbansound8k/fold2/34621-4-13-0.wav  \n",
      "  inflating: urbansound8k/fold2/34621-4-14-0.wav  \n",
      "  inflating: urbansound8k/fold2/34621-4-15-0.wav  \n",
      "  inflating: urbansound8k/fold2/34621-4-16-0.wav  \n",
      "  inflating: urbansound8k/fold2/34621-4-17-0.wav  \n",
      "  inflating: urbansound8k/fold2/34621-4-18-0.wav  \n",
      "  inflating: urbansound8k/fold2/34621-4-2-0.wav  \n",
      "  inflating: urbansound8k/fold2/34621-4-20-0.wav  \n",
      "  inflating: urbansound8k/fold2/34621-4-21-0.wav  \n",
      "  inflating: urbansound8k/fold2/34621-4-22-0.wav  \n",
      "  inflating: urbansound8k/fold2/34621-4-24-0.wav  \n",
      "  inflating: urbansound8k/fold2/34621-4-25-0.wav  \n",
      "  inflating: urbansound8k/fold2/34621-4-26-0.wav  \n",
      "  inflating: urbansound8k/fold2/34621-4-27-0.wav  \n",
      "  inflating: urbansound8k/fold2/34621-4-4-0.wav  \n",
      "  inflating: urbansound8k/fold2/34621-4-5-0.wav  \n",
      "  inflating: urbansound8k/fold2/34621-4-7-0.wav  \n",
      "  inflating: urbansound8k/fold2/34621-4-8-0.wav  \n",
      "  inflating: urbansound8k/fold2/35800-6-0-0.wav  \n",
      "  inflating: urbansound8k/fold2/37236-6-0-0.wav  \n",
      "  inflating: urbansound8k/fold2/39970-9-0-108.wav  \n",
      "  inflating: urbansound8k/fold2/39970-9-0-142.wav  \n",
      "  inflating: urbansound8k/fold2/39970-9-0-41.wav  \n",
      "  inflating: urbansound8k/fold2/39970-9-0-46.wav  \n",
      "  inflating: urbansound8k/fold2/39970-9-0-54.wav  \n",
      "  inflating: urbansound8k/fold2/39970-9-0-98.wav  \n",
      "  inflating: urbansound8k/fold2/40717-8-0-0.wav  \n",
      "  inflating: urbansound8k/fold2/40717-8-0-1.wav  \n",
      "  inflating: urbansound8k/fold2/40717-8-0-2.wav  \n",
      "  inflating: urbansound8k/fold2/40717-8-0-3.wav  \n",
      "  inflating: urbansound8k/fold2/40717-8-0-4.wav  \n",
      "  inflating: urbansound8k/fold2/40717-8-0-5.wav  \n",
      "  inflating: urbansound8k/fold2/40717-8-0-6.wav  \n",
      "  inflating: urbansound8k/fold2/4201-3-0-0.wav  \n",
      "  inflating: urbansound8k/fold2/4201-3-1-0.wav  \n",
      "  inflating: urbansound8k/fold2/4201-3-2-0.wav  \n",
      "  inflating: urbansound8k/fold2/4201-3-3-0.wav  \n",
      "  inflating: urbansound8k/fold2/44735-5-0-0.wav  \n",
      "  inflating: urbansound8k/fold2/44735-5-0-1.wav  \n",
      "  inflating: urbansound8k/fold2/46655-6-0-0.wav  \n",
      "  inflating: urbansound8k/fold2/46668-4-0-0.wav  \n",
      "  inflating: urbansound8k/fold2/46668-4-0-1.wav  \n",
      "  inflating: urbansound8k/fold2/46668-4-0-2.wav  \n",
      "  inflating: urbansound8k/fold2/4911-3-0-0.wav  \n",
      "  inflating: urbansound8k/fold2/49808-3-0-6.wav  \n",
      "  inflating: urbansound8k/fold2/49808-3-1-22.wav  \n",
      "  inflating: urbansound8k/fold2/49808-3-1-8.wav  \n",
      "  inflating: urbansound8k/fold2/50416-4-0-0.wav  \n",
      "  inflating: urbansound8k/fold2/50416-4-0-1.wav  \n",
      "  inflating: urbansound8k/fold2/50416-4-0-2.wav  \n",
      "  inflating: urbansound8k/fold2/50898-5-0-0.wav  \n",
      "  inflating: urbansound8k/fold2/54545-3-0-0.wav  \n",
      "  inflating: urbansound8k/fold2/54545-3-0-1.wav  \n",
      "  inflating: urbansound8k/fold2/54545-3-0-2.wav  \n",
      "  inflating: urbansound8k/fold2/56385-0-0-0.wav  \n",
      "  inflating: urbansound8k/fold2/56385-0-0-1.wav  \n",
      "  inflating: urbansound8k/fold2/56385-0-0-2.wav  \n",
      "  inflating: urbansound8k/fold2/58202-1-0-0.wav  \n",
      "  inflating: urbansound8k/fold2/59594-4-0-0.wav  \n",
      "  inflating: urbansound8k/fold2/59594-4-0-1.wav  \n",
      "  inflating: urbansound8k/fold2/59594-4-0-2.wav  \n",
      "  inflating: urbansound8k/fold2/59594-4-0-3.wav  \n",
      "  inflating: urbansound8k/fold2/59594-4-0-4.wav  \n",
      "  inflating: urbansound8k/fold2/60591-2-0-11.wav  \n",
      "  inflating: urbansound8k/fold2/60591-2-0-12.wav  \n",
      "  inflating: urbansound8k/fold2/60591-2-0-15.wav  \n",
      "  inflating: urbansound8k/fold2/60591-2-0-16.wav  \n",
      "  inflating: urbansound8k/fold2/60591-2-0-2.wav  \n",
      "  inflating: urbansound8k/fold2/60591-2-0-4.wav  \n",
      "  inflating: urbansound8k/fold2/60591-2-0-7.wav  \n",
      "  inflating: urbansound8k/fold2/60591-2-0-8.wav  \n",
      "  inflating: urbansound8k/fold2/60605-9-0-34.wav  \n",
      "  inflating: urbansound8k/fold2/60605-9-0-52.wav  \n",
      "  inflating: urbansound8k/fold2/60605-9-0-64.wav  \n",
      "  inflating: urbansound8k/fold2/60605-9-0-73.wav  \n",
      "  inflating: urbansound8k/fold2/60605-9-0-90.wav  \n",
      "  inflating: urbansound8k/fold2/60605-9-0-95.wav  \n",
      "  inflating: urbansound8k/fold2/63261-3-0-0.wav  \n",
      "  inflating: urbansound8k/fold2/63261-3-0-1.wav  \n",
      "  inflating: urbansound8k/fold2/66996-8-1-0.wav  \n",
      "  inflating: urbansound8k/fold2/66996-8-3-0.wav  \n",
      "  inflating: urbansound8k/fold2/69883-3-0-20.wav  \n",
      "  inflating: urbansound8k/fold2/69883-3-0-5.wav  \n",
      "  inflating: urbansound8k/fold2/69883-3-0-9.wav  \n",
      "  inflating: urbansound8k/fold2/71080-4-0-0.wav  \n",
      "  inflating: urbansound8k/fold2/71080-4-1-0.wav  \n",
      "  inflating: urbansound8k/fold2/72539-3-0-1.wav  \n",
      "  inflating: urbansound8k/fold2/72539-3-0-5.wav  \n",
      "  inflating: urbansound8k/fold2/72539-3-0-6.wav  \n",
      "  inflating: urbansound8k/fold2/72539-3-0-8.wav  \n",
      "  inflating: urbansound8k/fold2/72567-1-0-0.wav  \n",
      "  inflating: urbansound8k/fold2/72567-1-0-1.wav  \n",
      "  inflating: urbansound8k/fold2/72567-1-1-0.wav  \n",
      "  inflating: urbansound8k/fold2/72567-1-2-0.wav  \n",
      "  inflating: urbansound8k/fold2/72567-1-2-1.wav  \n",
      "  inflating: urbansound8k/fold2/72567-1-2-2.wav  \n",
      "  inflating: urbansound8k/fold2/72567-1-2-3.wav  \n",
      "  inflating: urbansound8k/fold2/72567-1-2-4.wav  \n",
      "  inflating: urbansound8k/fold2/72567-1-2-5.wav  \n",
      "  inflating: urbansound8k/fold2/72567-1-3-0.wav  \n",
      "  inflating: urbansound8k/fold2/72567-1-4-0.wav  \n",
      "  inflating: urbansound8k/fold2/72567-1-4-1.wav  \n",
      "  inflating: urbansound8k/fold2/72567-1-4-2.wav  \n",
      "  inflating: urbansound8k/fold2/72567-1-4-3.wav  \n",
      "  inflating: urbansound8k/fold2/72567-1-4-4.wav  \n",
      "  inflating: urbansound8k/fold2/72567-1-4-5.wav  \n",
      "  inflating: urbansound8k/fold2/72567-1-4-6.wav  \n",
      "  inflating: urbansound8k/fold2/72567-1-4-7.wav  \n",
      "  inflating: urbansound8k/fold2/72567-1-5-0.wav  \n",
      "  inflating: urbansound8k/fold2/73623-7-0-0.wav  \n",
      "  inflating: urbansound8k/fold2/73623-7-1-0.wav  \n",
      "  inflating: urbansound8k/fold2/73623-7-1-1.wav  \n",
      "  inflating: urbansound8k/fold2/73623-7-2-0.wav  \n",
      "  inflating: urbansound8k/fold2/73623-7-3-0.wav  \n",
      "  inflating: urbansound8k/fold2/73623-7-4-0.wav  \n",
      "  inflating: urbansound8k/fold2/73623-7-5-0.wav  \n",
      "  inflating: urbansound8k/fold2/73623-7-6-0.wav  \n",
      "  inflating: urbansound8k/fold2/74226-9-0-0.wav  \n",
      "  inflating: urbansound8k/fold2/74226-9-0-10.wav  \n",
      "  inflating: urbansound8k/fold2/74226-9-0-13.wav  \n",
      "  inflating: urbansound8k/fold2/74226-9-0-14.wav  \n",
      "  inflating: urbansound8k/fold2/74226-9-0-21.wav  \n",
      "  inflating: urbansound8k/fold2/74226-9-0-6.wav  \n",
      "  inflating: urbansound8k/fold2/74226-9-0-7.wav  \n",
      "  inflating: urbansound8k/fold2/74458-9-0-5.wav  \n",
      "  inflating: urbansound8k/fold2/74458-9-0-7.wav  \n",
      "  inflating: urbansound8k/fold2/74458-9-1-12.wav  \n",
      "  inflating: urbansound8k/fold2/74458-9-1-13.wav  \n",
      "  inflating: urbansound8k/fold2/74458-9-1-5.wav  \n",
      "  inflating: urbansound8k/fold2/74458-9-2-18.wav  \n",
      "  inflating: urbansound8k/fold2/74495-3-0-0.wav  \n",
      "  inflating: urbansound8k/fold2/74495-3-0-1.wav  \n",
      "  inflating: urbansound8k/fold2/74507-0-0-0.wav  \n",
      "  inflating: urbansound8k/fold2/74507-0-0-1.wav  \n",
      "  inflating: urbansound8k/fold2/74507-0-0-10.wav  \n",
      "  inflating: urbansound8k/fold2/74507-0-0-11.wav  \n",
      "  inflating: urbansound8k/fold2/74507-0-0-12.wav  \n",
      "  inflating: urbansound8k/fold2/74507-0-0-13.wav  \n",
      "  inflating: urbansound8k/fold2/74507-0-0-14.wav  \n",
      "  inflating: urbansound8k/fold2/74507-0-0-15.wav  \n",
      "  inflating: urbansound8k/fold2/74507-0-0-16.wav  \n",
      "  inflating: urbansound8k/fold2/74507-0-0-17.wav  \n",
      "  inflating: urbansound8k/fold2/74507-0-0-18.wav  \n",
      "  inflating: urbansound8k/fold2/74507-0-0-2.wav  \n",
      "  inflating: urbansound8k/fold2/74507-0-0-20.wav  \n",
      "  inflating: urbansound8k/fold2/74507-0-0-22.wav  \n",
      "  inflating: urbansound8k/fold2/74507-0-0-23.wav  \n",
      "  inflating: urbansound8k/fold2/74507-0-0-24.wav  \n",
      "  inflating: urbansound8k/fold2/74507-0-0-25.wav  \n",
      "  inflating: urbansound8k/fold2/74507-0-0-27.wav  \n",
      "  inflating: urbansound8k/fold2/74507-0-0-28.wav  \n",
      "  inflating: urbansound8k/fold2/74507-0-0-3.wav  \n",
      "  inflating: urbansound8k/fold2/74507-0-0-4.wav  \n",
      "  inflating: urbansound8k/fold2/74507-0-0-5.wav  \n",
      "  inflating: urbansound8k/fold2/74507-0-0-6.wav  \n",
      "  inflating: urbansound8k/fold2/74507-0-0-8.wav  \n",
      "  inflating: urbansound8k/fold2/74507-0-0-9.wav  \n",
      "  inflating: urbansound8k/fold2/76086-4-0-12.wav  \n",
      "  inflating: urbansound8k/fold2/76086-4-0-14.wav  \n",
      "  inflating: urbansound8k/fold2/76086-4-0-17.wav  \n",
      "  inflating: urbansound8k/fold2/76086-4-0-18.wav  \n",
      "  inflating: urbansound8k/fold2/76086-4-0-19.wav  \n",
      "  inflating: urbansound8k/fold2/76086-4-0-2.wav  \n",
      "  inflating: urbansound8k/fold2/76086-4-0-22.wav  \n",
      "  inflating: urbansound8k/fold2/76086-4-0-23.wav  \n",
      "  inflating: urbansound8k/fold2/76086-4-0-24.wav  \n",
      "  inflating: urbansound8k/fold2/76086-4-0-27.wav  \n",
      "  inflating: urbansound8k/fold2/76086-4-0-29.wav  \n",
      "  inflating: urbansound8k/fold2/76086-4-0-3.wav  \n",
      "  inflating: urbansound8k/fold2/76086-4-0-32.wav  \n",
      "  inflating: urbansound8k/fold2/76086-4-0-36.wav  \n",
      "  inflating: urbansound8k/fold2/76086-4-0-38.wav  \n",
      "  inflating: urbansound8k/fold2/76086-4-0-43.wav  \n",
      "  inflating: urbansound8k/fold2/76086-4-0-50.wav  \n",
      "  inflating: urbansound8k/fold2/76086-4-0-53.wav  \n",
      "  inflating: urbansound8k/fold2/76086-4-0-55.wav  \n",
      "  inflating: urbansound8k/fold2/76086-4-0-56.wav  \n",
      "  inflating: urbansound8k/fold2/76086-4-0-58.wav  \n",
      "  inflating: urbansound8k/fold2/76089-6-0-0.wav  \n",
      "  inflating: urbansound8k/fold2/76090-6-0-0.wav  \n",
      "  inflating: urbansound8k/fold2/76090-6-1-0.wav  \n",
      "  inflating: urbansound8k/fold2/76091-6-0-0.wav  \n",
      "  inflating: urbansound8k/fold2/76091-6-1-0.wav  \n",
      "  inflating: urbansound8k/fold2/76091-6-2-0.wav  \n",
      "  inflating: urbansound8k/fold2/76091-6-3-0.wav  \n",
      "  inflating: urbansound8k/fold2/76091-6-4-0.wav  \n",
      "  inflating: urbansound8k/fold2/76091-6-5-0.wav  \n",
      "  inflating: urbansound8k/fold2/77751-4-0-0.wav  \n",
      "  inflating: urbansound8k/fold2/77751-4-0-1.wav  \n",
      "  inflating: urbansound8k/fold2/77751-4-1-0.wav  \n",
      "  inflating: urbansound8k/fold2/77751-4-1-1.wav  \n",
      "  inflating: urbansound8k/fold2/77751-4-2-0.wav  \n",
      "  inflating: urbansound8k/fold2/77751-4-3-0.wav  \n",
      "  inflating: urbansound8k/fold2/77751-4-4-0.wav  \n",
      "  inflating: urbansound8k/fold2/77751-4-5-0.wav  \n",
      "  inflating: urbansound8k/fold2/77751-4-6-0.wav  \n",
      "  inflating: urbansound8k/fold2/77751-4-7-0.wav  \n",
      "  inflating: urbansound8k/fold2/77751-4-8-0.wav  \n",
      "  inflating: urbansound8k/fold2/77751-4-9-0.wav  \n",
      "  inflating: urbansound8k/fold2/77751-4-9-1.wav  \n",
      "  inflating: urbansound8k/fold2/77751-4-9-2.wav  \n",
      "  inflating: urbansound8k/fold2/77751-4-9-3.wav  \n",
      "  inflating: urbansound8k/fold2/79377-9-0-10.wav  \n",
      "  inflating: urbansound8k/fold2/79377-9-0-12.wav  \n",
      "  inflating: urbansound8k/fold2/79377-9-0-13.wav  \n",
      "  inflating: urbansound8k/fold2/79377-9-0-2.wav  \n",
      "  inflating: urbansound8k/fold2/79377-9-0-4.wav  \n",
      "  inflating: urbansound8k/fold2/79377-9-0-8.wav  \n",
      "  inflating: urbansound8k/fold2/84359-2-0-0.wav  \n",
      "  inflating: urbansound8k/fold2/84359-2-0-1.wav  \n",
      "  inflating: urbansound8k/fold2/84359-2-0-2.wav  \n",
      "  inflating: urbansound8k/fold2/84359-2-0-5.wav  \n",
      "  inflating: urbansound8k/fold2/84359-2-0-6.wav  \n",
      "  inflating: urbansound8k/fold2/84359-2-0-8.wav  \n",
      "  inflating: urbansound8k/fold2/84359-2-0-9.wav  \n",
      "  inflating: urbansound8k/fold2/89211-3-0-0.wav  \n",
      "  inflating: urbansound8k/fold2/91396-8-0-0.wav  \n",
      "  inflating: urbansound8k/fold2/91396-8-0-1.wav  \n",
      "  inflating: urbansound8k/fold2/91396-8-0-2.wav  \n",
      "  inflating: urbansound8k/fold2/91396-8-0-3.wav  \n",
      "  inflating: urbansound8k/fold2/93193-9-0-4.wav  \n",
      "  inflating: urbansound8k/fold2/93193-9-1-11.wav  \n",
      "  inflating: urbansound8k/fold2/93193-9-1-18.wav  \n",
      "  inflating: urbansound8k/fold2/93193-9-1-19.wav  \n",
      "  inflating: urbansound8k/fold2/93193-9-1-22.wav  \n",
      "  inflating: urbansound8k/fold2/93193-9-1-6.wav  \n",
      "  inflating: urbansound8k/fold2/94401-1-0-0.wav  \n",
      "  inflating: urbansound8k/fold2/94710-5-0-0.wav  \n",
      "  inflating: urbansound8k/fold2/94710-5-0-1.wav  \n",
      "  inflating: urbansound8k/fold2/94710-5-0-2.wav  \n",
      "  inflating: urbansound8k/fold2/94710-5-0-3.wav  \n",
      "  inflating: urbansound8k/fold2/94710-5-1-0.wav  \n",
      "  inflating: urbansound8k/fold2/96169-9-1-10.wav  \n",
      "  inflating: urbansound8k/fold2/96169-9-1-3.wav  \n",
      "  inflating: urbansound8k/fold2/96169-9-1-49.wav  \n",
      "  inflating: urbansound8k/fold2/96169-9-1-55.wav  \n",
      "  inflating: urbansound8k/fold2/96169-9-1-61.wav  \n",
      "  inflating: urbansound8k/fold2/96169-9-1-74.wav  \n",
      "  inflating: urbansound8k/fold2/96475-9-0-0.wav  \n",
      "  inflating: urbansound8k/fold2/96475-9-0-3.wav  \n",
      "  inflating: urbansound8k/fold2/96475-9-0-4.wav  \n",
      "  inflating: urbansound8k/fold2/96475-9-0-5.wav  \n",
      "  inflating: urbansound8k/fold2/96475-9-0-6.wav  \n",
      "  inflating: urbansound8k/fold2/96475-9-0-9.wav  \n",
      "  inflating: urbansound8k/fold2/96920-9-0-0.wav  \n",
      "  inflating: urbansound8k/fold2/96920-9-0-11.wav  \n",
      "  inflating: urbansound8k/fold2/96920-9-0-13.wav  \n",
      "  inflating: urbansound8k/fold2/96920-9-0-2.wav  \n",
      "  inflating: urbansound8k/fold2/96920-9-0-3.wav  \n",
      "  inflating: urbansound8k/fold2/96920-9-0-8.wav  \n",
      "  inflating: urbansound8k/fold2/97193-3-0-0.wav  \n",
      "  inflating: urbansound8k/fold2/97193-3-0-1.wav  \n",
      "  inflating: urbansound8k/fold2/97193-3-0-4.wav  \n",
      "  inflating: urbansound8k/fold2/97193-3-0-6.wav  \n",
      "  inflating: urbansound8k/fold2/98202-9-0-10.wav  \n",
      "  inflating: urbansound8k/fold2/98202-9-0-4.wav  \n",
      "  inflating: urbansound8k/fold2/98202-9-0-7.wav  \n",
      "  inflating: urbansound8k/fold2/98202-9-1-20.wav  \n",
      "  inflating: urbansound8k/fold2/98202-9-1-27.wav  \n",
      "  inflating: urbansound8k/fold2/98202-9-1-5.wav  \n",
      "  inflating: urbansound8k/fold3/102105-3-0-0.wav  \n",
      "  inflating: urbansound8k/fold3/103199-4-0-0.wav  \n",
      "  inflating: urbansound8k/fold3/103199-4-0-3.wav  \n",
      "  inflating: urbansound8k/fold3/103199-4-0-4.wav  \n",
      "  inflating: urbansound8k/fold3/103199-4-0-5.wav  \n",
      "  inflating: urbansound8k/fold3/103199-4-0-6.wav  \n",
      "  inflating: urbansound8k/fold3/103199-4-1-0.wav  \n",
      "  inflating: urbansound8k/fold3/103199-4-2-0.wav  \n",
      "  inflating: urbansound8k/fold3/103199-4-2-1.wav  \n",
      "  inflating: urbansound8k/fold3/103199-4-2-10.wav  \n",
      "  inflating: urbansound8k/fold3/103199-4-2-11.wav  \n",
      "  inflating: urbansound8k/fold3/103199-4-2-2.wav  \n",
      "  inflating: urbansound8k/fold3/103199-4-2-3.wav  \n",
      "  inflating: urbansound8k/fold3/103199-4-2-4.wav  \n",
      "  inflating: urbansound8k/fold3/103199-4-2-5.wav  \n",
      "  inflating: urbansound8k/fold3/103199-4-2-6.wav  \n",
      "  inflating: urbansound8k/fold3/103199-4-2-7.wav  \n",
      "  inflating: urbansound8k/fold3/103199-4-2-8.wav  \n",
      "  inflating: urbansound8k/fold3/103199-4-2-9.wav  \n",
      "  inflating: urbansound8k/fold3/103199-4-4-0.wav  \n",
      "  inflating: urbansound8k/fold3/103199-4-6-0.wav  \n",
      "  inflating: urbansound8k/fold3/103199-4-7-2.wav  \n",
      "  inflating: urbansound8k/fold3/103357-4-0-0.wav  \n",
      "  inflating: urbansound8k/fold3/103357-4-0-1.wav  \n",
      "  inflating: urbansound8k/fold3/107228-5-0-0.wav  \n",
      "  inflating: urbansound8k/fold3/107228-5-0-1.wav  \n",
      "  inflating: urbansound8k/fold3/107228-5-0-2.wav  \n",
      "  inflating: urbansound8k/fold3/107228-5-0-3.wav  \n",
      "  inflating: urbansound8k/fold3/107228-5-0-4.wav  \n",
      "  inflating: urbansound8k/fold3/107228-5-0-5.wav  \n",
      "  inflating: urbansound8k/fold3/107228-5-0-6.wav  \n",
      "  inflating: urbansound8k/fold3/107228-5-0-7.wav  \n",
      "  inflating: urbansound8k/fold3/110622-6-0-0.wav  \n",
      "  inflating: urbansound8k/fold3/112075-5-0-0.wav  \n",
      "  inflating: urbansound8k/fold3/112075-5-0-1.wav  \n",
      "  inflating: urbansound8k/fold3/112075-5-0-2.wav  \n",
      "  inflating: urbansound8k/fold3/115536-3-0-0.wav  \n",
      "  inflating: urbansound8k/fold3/116400-3-0-2.wav  \n",
      "  inflating: urbansound8k/fold3/116400-3-1-0.wav  \n",
      "  inflating: urbansound8k/fold3/116400-3-1-1.wav  \n",
      "  inflating: urbansound8k/fold3/116400-3-1-2.wav  \n",
      "  inflating: urbansound8k/fold3/117048-3-0-17.wav  \n",
      "  inflating: urbansound8k/fold3/117048-3-0-23.wav  \n",
      "  inflating: urbansound8k/fold3/117048-3-0-25.wav  \n",
      "  inflating: urbansound8k/fold3/117048-3-0-35.wav  \n",
      "  inflating: urbansound8k/fold3/117072-3-0-11.wav  \n",
      "  inflating: urbansound8k/fold3/117072-3-0-14.wav  \n",
      "  inflating: urbansound8k/fold3/117072-3-0-19.wav  \n",
      "  inflating: urbansound8k/fold3/117072-3-0-8.wav  \n",
      "  inflating: urbansound8k/fold3/118070-1-0-0.wav  \n",
      "  inflating: urbansound8k/fold3/118496-1-0-0.wav  \n",
      "  inflating: urbansound8k/fold3/118496-1-1-0.wav  \n",
      "  inflating: urbansound8k/fold3/118961-3-0-0.wav  \n",
      "  inflating: urbansound8k/fold3/121528-8-1-0.wav  \n",
      "  inflating: urbansound8k/fold3/121528-8-1-1.wav  \n",
      "  inflating: urbansound8k/fold3/123399-2-0-13.wav  \n",
      "  inflating: urbansound8k/fold3/123399-2-0-19.wav  \n",
      "  inflating: urbansound8k/fold3/123399-2-0-22.wav  \n",
      "  inflating: urbansound8k/fold3/123399-2-0-5.wav  \n",
      "  inflating: urbansound8k/fold3/123399-2-0-54.wav  \n",
      "  inflating: urbansound8k/fold3/123399-2-0-74.wav  \n",
      "  inflating: urbansound8k/fold3/123399-2-0-83.wav  \n",
      "  inflating: urbansound8k/fold3/123399-2-0-91.wav  \n",
      "  inflating: urbansound8k/fold3/125523-3-0-1.wav  \n",
      "  inflating: urbansound8k/fold3/125523-3-0-11.wav  \n",
      "  inflating: urbansound8k/fold3/125523-3-0-3.wav  \n",
      "  inflating: urbansound8k/fold3/12647-3-0-0.wav  \n",
      "  inflating: urbansound8k/fold3/12647-3-1-0.wav  \n",
      "  inflating: urbansound8k/fold3/12647-3-2-0.wav  \n",
      "  inflating: urbansound8k/fold3/12647-3-3-0.wav  \n",
      "  inflating: urbansound8k/fold3/128030-3-0-0.wav  \n",
      "  inflating: urbansound8k/fold3/128030-3-1-0.wav  \n",
      "  inflating: urbansound8k/fold3/128030-3-2-0.wav  \n",
      "  inflating: urbansound8k/fold3/13230-0-0-1.wav  \n",
      "  inflating: urbansound8k/fold3/13230-0-0-10.wav  \n",
      "  inflating: urbansound8k/fold3/13230-0-0-11.wav  \n",
      "  inflating: urbansound8k/fold3/13230-0-0-12.wav  \n",
      "  inflating: urbansound8k/fold3/13230-0-0-13.wav  \n",
      "  inflating: urbansound8k/fold3/13230-0-0-14.wav  \n",
      "  inflating: urbansound8k/fold3/13230-0-0-16.wav  \n",
      "  inflating: urbansound8k/fold3/13230-0-0-17.wav  \n",
      "  inflating: urbansound8k/fold3/13230-0-0-18.wav  \n",
      "  inflating: urbansound8k/fold3/13230-0-0-19.wav  \n",
      "  inflating: urbansound8k/fold3/13230-0-0-20.wav  \n",
      "  inflating: urbansound8k/fold3/13230-0-0-22.wav  \n",
      "  inflating: urbansound8k/fold3/13230-0-0-23.wav  \n",
      "  inflating: urbansound8k/fold3/13230-0-0-24.wav  \n",
      "  inflating: urbansound8k/fold3/13230-0-0-25.wav  \n",
      "  inflating: urbansound8k/fold3/13230-0-0-26.wav  \n",
      "  inflating: urbansound8k/fold3/13230-0-0-27.wav  \n",
      "  inflating: urbansound8k/fold3/13230-0-0-28.wav  \n",
      "  inflating: urbansound8k/fold3/13230-0-0-3.wav  \n",
      "  inflating: urbansound8k/fold3/13230-0-0-5.wav  \n",
      "  inflating: urbansound8k/fold3/13230-0-0-6.wav  \n",
      "  inflating: urbansound8k/fold3/13230-0-0-7.wav  \n",
      "  inflating: urbansound8k/fold3/13230-0-0-8.wav  \n",
      "  inflating: urbansound8k/fold3/13230-0-0-9.wav  \n",
      "  inflating: urbansound8k/fold3/132855-2-0-113.wav  \n",
      "  inflating: urbansound8k/fold3/132855-2-0-41.wav  \n",
      "  inflating: urbansound8k/fold3/132855-2-0-58.wav  \n",
      "  inflating: urbansound8k/fold3/132855-2-0-70.wav  \n",
      "  inflating: urbansound8k/fold3/132855-2-0-77.wav  \n",
      "  inflating: urbansound8k/fold3/132855-2-0-88.wav  \n",
      "  inflating: urbansound8k/fold3/132855-2-0-90.wav  \n",
      "  inflating: urbansound8k/fold3/132855-2-0-99.wav  \n",
      "  inflating: urbansound8k/fold3/135526-6-0-0.wav  \n",
      "  inflating: urbansound8k/fold3/135526-6-1-0.wav  \n",
      "  inflating: urbansound8k/fold3/135526-6-10-0.wav  \n",
      "  inflating: urbansound8k/fold3/135526-6-11-0.wav  \n",
      "  inflating: urbansound8k/fold3/135526-6-12-0.wav  \n",
      "  inflating: urbansound8k/fold3/135526-6-13-0.wav  \n",
      "  inflating: urbansound8k/fold3/135526-6-2-0.wav  \n",
      "  inflating: urbansound8k/fold3/135526-6-3-0.wav  \n",
      "  inflating: urbansound8k/fold3/135526-6-4-0.wav  \n",
      "  inflating: urbansound8k/fold3/135526-6-5-0.wav  \n",
      "  inflating: urbansound8k/fold3/135526-6-6-0.wav  \n",
      "  inflating: urbansound8k/fold3/135526-6-7-0.wav  \n",
      "  inflating: urbansound8k/fold3/135526-6-8-0.wav  \n",
      "  inflating: urbansound8k/fold3/135526-6-9-0.wav  \n",
      "  inflating: urbansound8k/fold3/138473-9-0-12.wav  \n",
      "  inflating: urbansound8k/fold3/138473-9-0-29.wav  \n",
      "  inflating: urbansound8k/fold3/138473-9-0-35.wav  \n",
      "  inflating: urbansound8k/fold3/138473-9-0-38.wav  \n",
      "  inflating: urbansound8k/fold3/138473-9-0-5.wav  \n",
      "  inflating: urbansound8k/fold3/138473-9-0-6.wav  \n",
      "  inflating: urbansound8k/fold3/14115-4-0-0.wav  \n",
      "  inflating: urbansound8k/fold3/144068-5-0-0.wav  \n",
      "  inflating: urbansound8k/fold3/144068-5-0-1.wav  \n",
      "  inflating: urbansound8k/fold3/144068-5-0-10.wav  \n",
      "  inflating: urbansound8k/fold3/144068-5-0-11.wav  \n",
      "  inflating: urbansound8k/fold3/144068-5-0-12.wav  \n",
      "  inflating: urbansound8k/fold3/144068-5-0-13.wav  \n",
      "  inflating: urbansound8k/fold3/144068-5-0-14.wav  \n",
      "  inflating: urbansound8k/fold3/144068-5-0-15.wav  \n",
      "  inflating: urbansound8k/fold3/144068-5-0-16.wav  \n",
      "  inflating: urbansound8k/fold3/144068-5-0-17.wav  \n",
      "  inflating: urbansound8k/fold3/144068-5-0-18.wav  \n",
      "  inflating: urbansound8k/fold3/144068-5-0-2.wav  \n",
      "  inflating: urbansound8k/fold3/144068-5-0-3.wav  \n",
      "  inflating: urbansound8k/fold3/144068-5-0-4.wav  \n",
      "  inflating: urbansound8k/fold3/144068-5-0-5.wav  \n",
      "  inflating: urbansound8k/fold3/144068-5-0-6.wav  \n",
      "  inflating: urbansound8k/fold3/144068-5-0-7.wav  \n",
      "  inflating: urbansound8k/fold3/144068-5-0-8.wav  \n",
      "  inflating: urbansound8k/fold3/144068-5-0-9.wav  \n",
      "  inflating: urbansound8k/fold3/144068-5-1-0.wav  \n",
      "  inflating: urbansound8k/fold3/144068-5-2-0.wav  \n",
      "  inflating: urbansound8k/fold3/144068-5-3-0.wav  \n",
      "  inflating: urbansound8k/fold3/144068-5-4-0.wav  \n",
      "  inflating: urbansound8k/fold3/144068-5-4-1.wav  \n",
      "  inflating: urbansound8k/fold3/144068-5-4-2.wav  \n",
      "  inflating: urbansound8k/fold3/144068-5-4-3.wav  \n",
      "  inflating: urbansound8k/fold3/144068-5-4-4.wav  \n",
      "  inflating: urbansound8k/fold3/144068-5-4-5.wav  \n",
      "  inflating: urbansound8k/fold3/144068-5-4-6.wav  \n",
      "  inflating: urbansound8k/fold3/144068-5-4-7.wav  \n",
      "  inflating: urbansound8k/fold3/144068-5-4-8.wav  \n",
      "  inflating: urbansound8k/fold3/144068-5-5-0.wav  \n",
      "  inflating: urbansound8k/fold3/144068-5-5-1.wav  \n",
      "  inflating: urbansound8k/fold3/144068-5-5-2.wav  \n",
      "  inflating: urbansound8k/fold3/144885-3-0-0.wav  \n",
      "  inflating: urbansound8k/fold3/146714-0-0-0.wav  \n",
      "  inflating: urbansound8k/fold3/146714-0-0-12.wav  \n",
      "  inflating: urbansound8k/fold3/146714-0-0-13.wav  \n",
      "  inflating: urbansound8k/fold3/146714-0-0-17.wav  \n",
      "  inflating: urbansound8k/fold3/146714-0-0-18.wav  \n",
      "  inflating: urbansound8k/fold3/146714-0-0-2.wav  \n",
      "  inflating: urbansound8k/fold3/146714-0-0-21.wav  \n",
      "  inflating: urbansound8k/fold3/146714-0-0-22.wav  \n",
      "  inflating: urbansound8k/fold3/146714-0-0-27.wav  \n",
      "  inflating: urbansound8k/fold3/146714-0-0-33.wav  \n",
      "  inflating: urbansound8k/fold3/146714-0-0-35.wav  \n",
      "  inflating: urbansound8k/fold3/146714-0-0-36.wav  \n",
      "  inflating: urbansound8k/fold3/146714-0-0-38.wav  \n",
      "  inflating: urbansound8k/fold3/146714-0-0-41.wav  \n",
      "  inflating: urbansound8k/fold3/146714-0-0-43.wav  \n",
      "  inflating: urbansound8k/fold3/146714-0-0-45.wav  \n",
      "  inflating: urbansound8k/fold3/146714-0-0-47.wav  \n",
      "  inflating: urbansound8k/fold3/146714-0-0-49.wav  \n",
      "  inflating: urbansound8k/fold3/146714-0-0-50.wav  \n",
      "  inflating: urbansound8k/fold3/146714-0-0-53.wav  \n",
      "  inflating: urbansound8k/fold3/146714-0-0-55.wav  \n",
      "  inflating: urbansound8k/fold3/146714-0-0-56.wav  \n",
      "  inflating: urbansound8k/fold3/146714-0-0-58.wav  \n",
      "  inflating: urbansound8k/fold3/146714-0-0-6.wav  \n",
      "  inflating: urbansound8k/fold3/148838-6-0-0.wav  \n",
      "  inflating: urbansound8k/fold3/148838-6-1-0.wav  \n",
      "  inflating: urbansound8k/fold3/148838-6-2-0.wav  \n",
      "  inflating: urbansound8k/fold3/151071-6-0-0.wav  \n",
      "  inflating: urbansound8k/fold3/151149-2-0-11.wav  \n",
      "  inflating: urbansound8k/fold3/151149-2-0-12.wav  \n",
      "  inflating: urbansound8k/fold3/151149-2-0-15.wav  \n",
      "  inflating: urbansound8k/fold3/151149-2-0-22.wav  \n",
      "  inflating: urbansound8k/fold3/151149-2-0-3.wav  \n",
      "  inflating: urbansound8k/fold3/151149-2-0-4.wav  \n",
      "  inflating: urbansound8k/fold3/151149-2-0-54.wav  \n",
      "  inflating: urbansound8k/fold3/151149-2-0-56.wav  \n",
      "  inflating: urbansound8k/fold3/151359-1-0-0.wav  \n",
      "  inflating: urbansound8k/fold3/151359-1-1-0.wav  \n",
      "  inflating: urbansound8k/fold3/151359-1-2-0.wav  \n",
      "  inflating: urbansound8k/fold3/151359-1-3-0.wav  \n",
      "  inflating: urbansound8k/fold3/153261-0-0-0.wav  \n",
      "  inflating: urbansound8k/fold3/153261-0-0-1.wav  \n",
      "  inflating: urbansound8k/fold3/153261-0-0-2.wav  \n",
      "  inflating: urbansound8k/fold3/153261-0-0-3.wav  \n",
      "  inflating: urbansound8k/fold3/15356-2-0-0.wav  \n",
      "  inflating: urbansound8k/fold3/15356-2-0-1.wav  \n",
      "  inflating: urbansound8k/fold3/15356-2-0-2.wav  \n",
      "  inflating: urbansound8k/fold3/15356-2-0-3.wav  \n",
      "  inflating: urbansound8k/fold3/15356-2-0-4.wav  \n",
      "  inflating: urbansound8k/fold3/155227-9-0-2.wav  \n",
      "  inflating: urbansound8k/fold3/155227-9-0-20.wav  \n",
      "  inflating: urbansound8k/fold3/155227-9-0-23.wav  \n",
      "  inflating: urbansound8k/fold3/155227-9-0-24.wav  \n",
      "  inflating: urbansound8k/fold3/155227-9-0-27.wav  \n",
      "  inflating: urbansound8k/fold3/155227-9-0-3.wav  \n",
      "  inflating: urbansound8k/fold3/155263-2-0-12.wav  \n",
      "  inflating: urbansound8k/fold3/155263-2-0-22.wav  \n",
      "  inflating: urbansound8k/fold3/155263-2-0-23.wav  \n",
      "  inflating: urbansound8k/fold3/155263-2-0-34.wav  \n",
      "  inflating: urbansound8k/fold3/155263-2-0-43.wav  \n",
      "  inflating: urbansound8k/fold3/155263-2-0-50.wav  \n",
      "  inflating: urbansound8k/fold3/155263-2-0-57.wav  \n",
      "  inflating: urbansound8k/fold3/155263-2-0-61.wav  \n",
      "  inflating: urbansound8k/fold3/155309-3-0-0.wav  \n",
      "  inflating: urbansound8k/fold3/156418-3-0-0.wav  \n",
      "  inflating: urbansound8k/fold3/156418-3-0-1.wav  \n",
      "  inflating: urbansound8k/fold3/156418-3-1-0.wav  \n",
      "  inflating: urbansound8k/fold3/156418-3-2-0.wav  \n",
      "  inflating: urbansound8k/fold3/159761-0-0-0.wav  \n",
      "  inflating: urbansound8k/fold3/159761-0-0-1.wav  \n",
      "  inflating: urbansound8k/fold3/159761-0-0-2.wav  \n",
      "  inflating: urbansound8k/fold3/159761-0-0-3.wav  \n",
      "  inflating: urbansound8k/fold3/159761-0-0-4.wav  \n",
      "  inflating: urbansound8k/fold3/159761-0-0-5.wav  \n",
      "  inflating: urbansound8k/fold3/159761-0-0-6.wav  \n",
      "  inflating: urbansound8k/fold3/159761-0-0-7.wav  \n",
      "  inflating: urbansound8k/fold3/159761-0-0-8.wav  \n",
      "  inflating: urbansound8k/fold3/160093-3-0-0.wav  \n",
      "  inflating: urbansound8k/fold3/161195-6-0-0.wav  \n",
      "  inflating: urbansound8k/fold3/162431-6-0-0.wav  \n",
      "  inflating: urbansound8k/fold3/162431-6-1-0.wav  \n",
      "  inflating: urbansound8k/fold3/162431-6-2-0.wav  \n",
      "  inflating: urbansound8k/fold3/162431-6-3-0.wav  \n",
      "  inflating: urbansound8k/fold3/162436-6-0-0.wav  \n",
      "  inflating: urbansound8k/fold3/165039-7-0-0.wav  \n",
      "  inflating: urbansound8k/fold3/165039-7-1-0.wav  \n",
      "  inflating: urbansound8k/fold3/165039-7-10-0.wav  \n",
      "  inflating: urbansound8k/fold3/165039-7-10-1.wav  \n",
      "  inflating: urbansound8k/fold3/165039-7-11-0.wav  \n",
      "  inflating: urbansound8k/fold3/165039-7-12-0.wav  \n",
      "  inflating: urbansound8k/fold3/165039-7-12-1.wav  \n",
      "  inflating: urbansound8k/fold3/165039-7-13-0.wav  \n",
      "  inflating: urbansound8k/fold3/165039-7-14-0.wav  \n",
      "  inflating: urbansound8k/fold3/165039-7-15-0.wav  \n",
      "  inflating: urbansound8k/fold3/165039-7-15-1.wav  \n",
      "  inflating: urbansound8k/fold3/165039-7-16-0.wav  \n",
      "  inflating: urbansound8k/fold3/165039-7-17-0.wav  \n",
      "  inflating: urbansound8k/fold3/165039-7-17-1.wav  \n",
      "  inflating: urbansound8k/fold3/165039-7-2-0.wav  \n",
      "  inflating: urbansound8k/fold3/165039-7-2-1.wav  \n",
      "  inflating: urbansound8k/fold3/165039-7-3-0.wav  \n",
      "  inflating: urbansound8k/fold3/165039-7-4-0.wav  \n",
      "  inflating: urbansound8k/fold3/165039-7-4-1.wav  \n",
      "  inflating: urbansound8k/fold3/165039-7-4-2.wav  \n",
      "  inflating: urbansound8k/fold3/165039-7-5-0.wav  \n",
      "  inflating: urbansound8k/fold3/165039-7-5-1.wav  \n",
      "  inflating: urbansound8k/fold3/165039-7-6-0.wav  \n",
      "  inflating: urbansound8k/fold3/165039-7-6-1.wav  \n",
      "  inflating: urbansound8k/fold3/165039-7-7-0.wav  \n",
      "  inflating: urbansound8k/fold3/165039-7-8-0.wav  \n",
      "  inflating: urbansound8k/fold3/165039-7-8-1.wav  \n",
      "  inflating: urbansound8k/fold3/165039-7-8-2.wav  \n",
      "  inflating: urbansound8k/fold3/165039-7-9-0.wav  \n",
      "  inflating: urbansound8k/fold3/165786-4-0-0.wav  \n",
      "  inflating: urbansound8k/fold3/166101-5-0-0.wav  \n",
      "  inflating: urbansound8k/fold3/166101-5-0-1.wav  \n",
      "  inflating: urbansound8k/fold3/166101-5-0-2.wav  \n",
      "  inflating: urbansound8k/fold3/166101-5-0-3.wav  \n",
      "  inflating: urbansound8k/fold3/166101-5-1-0.wav  \n",
      "  inflating: urbansound8k/fold3/166101-5-2-0.wav  \n",
      "  inflating: urbansound8k/fold3/166101-5-2-1.wav  \n",
      "  inflating: urbansound8k/fold3/166101-5-2-2.wav  \n",
      "  inflating: urbansound8k/fold3/166101-5-2-3.wav  \n",
      "  inflating: urbansound8k/fold3/166101-5-2-4.wav  \n",
      "  inflating: urbansound8k/fold3/166101-5-3-0.wav  \n",
      "  inflating: urbansound8k/fold3/169044-2-0-10.wav  \n",
      "  inflating: urbansound8k/fold3/169044-2-0-13.wav  \n",
      "  inflating: urbansound8k/fold3/169044-2-0-18.wav  \n",
      "  inflating: urbansound8k/fold3/169044-2-0-21.wav  \n",
      "  inflating: urbansound8k/fold3/169044-2-0-25.wav  \n",
      "  inflating: urbansound8k/fold3/169044-2-0-3.wav  \n",
      "  inflating: urbansound8k/fold3/169044-2-0-5.wav  \n",
      "  inflating: urbansound8k/fold3/170015-3-0-0.wav  \n",
      "  inflating: urbansound8k/fold3/172315-9-0-105.wav  \n",
      "  inflating: urbansound8k/fold3/172315-9-0-113.wav  \n",
      "  inflating: urbansound8k/fold3/172315-9-0-203.wav  \n",
      "  inflating: urbansound8k/fold3/172315-9-0-211.wav  \n",
      "  inflating: urbansound8k/fold3/172315-9-0-212.wav  \n",
      "  inflating: urbansound8k/fold3/172315-9-0-224.wav  \n",
      "  inflating: urbansound8k/fold3/174840-1-0-0.wav  \n",
      "  inflating: urbansound8k/fold3/175847-1-0-0.wav  \n",
      "  inflating: urbansound8k/fold3/175854-1-0-0.wav  \n",
      "  inflating: urbansound8k/fold3/17615-3-0-0.wav  \n",
      "  inflating: urbansound8k/fold3/17615-3-0-3.wav  \n",
      "  inflating: urbansound8k/fold3/17615-3-0-4.wav  \n",
      "  inflating: urbansound8k/fold3/17615-3-0-6.wav  \n",
      "  inflating: urbansound8k/fold3/176631-1-0-0.wav  \n",
      "  inflating: urbansound8k/fold3/176783-3-0-11.wav  \n",
      "  inflating: urbansound8k/fold3/176783-3-0-3.wav  \n",
      "  inflating: urbansound8k/fold3/176783-3-0-5.wav  \n",
      "  inflating: urbansound8k/fold3/176783-3-1-0.wav  \n",
      "  inflating: urbansound8k/fold3/177742-0-0-10.wav  \n",
      "  inflating: urbansound8k/fold3/177742-0-0-102.wav  \n",
      "  inflating: urbansound8k/fold3/177742-0-0-111.wav  \n",
      "  inflating: urbansound8k/fold3/177742-0-0-149.wav  \n",
      "  inflating: urbansound8k/fold3/177742-0-0-161.wav  \n",
      "  inflating: urbansound8k/fold3/177742-0-0-164.wav  \n",
      "  inflating: urbansound8k/fold3/177742-0-0-165.wav  \n",
      "  inflating: urbansound8k/fold3/177742-0-0-17.wav  \n",
      "  inflating: urbansound8k/fold3/177742-0-0-178.wav  \n",
      "  inflating: urbansound8k/fold3/177742-0-0-196.wav  \n",
      "  inflating: urbansound8k/fold3/177742-0-0-202.wav  \n",
      "  inflating: urbansound8k/fold3/177742-0-0-203.wav  \n",
      "  inflating: urbansound8k/fold3/177742-0-0-204.wav  \n",
      "  inflating: urbansound8k/fold3/177742-0-0-205.wav  \n",
      "  inflating: urbansound8k/fold3/177742-0-0-211.wav  \n",
      "  inflating: urbansound8k/fold3/177742-0-0-214.wav  \n",
      "  inflating: urbansound8k/fold3/177742-0-0-3.wav  \n",
      "  inflating: urbansound8k/fold3/177742-0-0-36.wav  \n",
      "  inflating: urbansound8k/fold3/177742-0-0-49.wav  \n",
      "  inflating: urbansound8k/fold3/177742-0-0-58.wav  \n",
      "  inflating: urbansound8k/fold3/177742-0-0-67.wav  \n",
      "  inflating: urbansound8k/fold3/177742-0-0-73.wav  \n",
      "  inflating: urbansound8k/fold3/177742-0-0-84.wav  \n",
      "  inflating: urbansound8k/fold3/177742-0-0-99.wav  \n",
      "  inflating: urbansound8k/fold3/17853-5-0-0.wav  \n",
      "  inflating: urbansound8k/fold3/17853-5-0-1.wav  \n",
      "  inflating: urbansound8k/fold3/17853-5-0-10.wav  \n",
      "  inflating: urbansound8k/fold3/17853-5-0-11.wav  \n",
      "  inflating: urbansound8k/fold3/17853-5-0-12.wav  \n",
      "  inflating: urbansound8k/fold3/17853-5-0-13.wav  \n",
      "  inflating: urbansound8k/fold3/17853-5-0-14.wav  \n",
      "  inflating: urbansound8k/fold3/17853-5-0-15.wav  \n",
      "  inflating: urbansound8k/fold3/17853-5-0-2.wav  \n",
      "  inflating: urbansound8k/fold3/17853-5-0-3.wav  \n",
      "  inflating: urbansound8k/fold3/17853-5-0-4.wav  \n",
      "  inflating: urbansound8k/fold3/17853-5-0-5.wav  \n",
      "  inflating: urbansound8k/fold3/17853-5-0-6.wav  \n",
      "  inflating: urbansound8k/fold3/17853-5-0-7.wav  \n",
      "  inflating: urbansound8k/fold3/17853-5-0-8.wav  \n",
      "  inflating: urbansound8k/fold3/17853-5-0-9.wav  \n",
      "  inflating: urbansound8k/fold3/179386-3-0-0.wav  \n",
      "  inflating: urbansound8k/fold3/179386-3-0-1.wav  \n",
      "  inflating: urbansound8k/fold3/179386-3-0-2.wav  \n",
      "  inflating: urbansound8k/fold3/179386-3-0-3.wav  \n",
      "  inflating: urbansound8k/fold3/17973-2-0-17.wav  \n",
      "  inflating: urbansound8k/fold3/17973-2-0-21.wav  \n",
      "  inflating: urbansound8k/fold3/17973-2-0-22.wav  \n",
      "  inflating: urbansound8k/fold3/17973-2-0-29.wav  \n",
      "  inflating: urbansound8k/fold3/17973-2-0-31.wav  \n",
      "  inflating: urbansound8k/fold3/17973-2-0-32.wav  \n",
      "  inflating: urbansound8k/fold3/17973-2-0-8.wav  \n",
      "  inflating: urbansound8k/fold3/17973-2-0-9.wav  \n",
      "  inflating: urbansound8k/fold3/179863-1-0-0.wav  \n",
      "  inflating: urbansound8k/fold3/179865-1-0-0.wav  \n",
      "  inflating: urbansound8k/fold3/180057-9-0-11.wav  \n",
      "  inflating: urbansound8k/fold3/180057-9-0-20.wav  \n",
      "  inflating: urbansound8k/fold3/180057-9-0-34.wav  \n",
      "  inflating: urbansound8k/fold3/180057-9-0-36.wav  \n",
      "  inflating: urbansound8k/fold3/180057-9-0-5.wav  \n",
      "  inflating: urbansound8k/fold3/180057-9-0-7.wav  \n",
      "  inflating: urbansound8k/fold3/180960-6-0-0.wav  \n",
      "  inflating: urbansound8k/fold3/182103-9-0-0.wav  \n",
      "  inflating: urbansound8k/fold3/182103-9-0-22.wav  \n",
      "  inflating: urbansound8k/fold3/182103-9-0-26.wav  \n",
      "  inflating: urbansound8k/fold3/182103-9-0-47.wav  \n",
      "  inflating: urbansound8k/fold3/182103-9-0-53.wav  \n",
      "  inflating: urbansound8k/fold3/182103-9-0-8.wav  \n",
      "  inflating: urbansound8k/fold3/184623-8-0-0.wav  \n",
      "  inflating: urbansound8k/fold3/184623-8-0-1.wav  \n",
      "  inflating: urbansound8k/fold3/184623-8-0-2.wav  \n",
      "  inflating: urbansound8k/fold3/184623-8-0-3.wav  \n",
      "  inflating: urbansound8k/fold3/184623-8-1-0.wav  \n",
      "  inflating: urbansound8k/fold3/184725-3-0-1.wav  \n",
      "  inflating: urbansound8k/fold3/184725-3-0-2.wav  \n",
      "  inflating: urbansound8k/fold3/184725-3-0-4.wav  \n",
      "  inflating: urbansound8k/fold3/184725-3-0-5.wav  \n",
      "  inflating: urbansound8k/fold3/185373-9-0-21.wav  \n",
      "  inflating: urbansound8k/fold3/185373-9-0-6.wav  \n",
      "  inflating: urbansound8k/fold3/185373-9-1-17.wav  \n",
      "  inflating: urbansound8k/fold3/185373-9-1-46.wav  \n",
      "  inflating: urbansound8k/fold3/185373-9-1-7.wav  \n",
      "  inflating: urbansound8k/fold3/185373-9-1-70.wav  \n",
      "  inflating: urbansound8k/fold3/185375-9-0-23.wav  \n",
      "  inflating: urbansound8k/fold3/185375-9-0-26.wav  \n",
      "  inflating: urbansound8k/fold3/185375-9-0-33.wav  \n",
      "  inflating: urbansound8k/fold3/185375-9-0-60.wav  \n",
      "  inflating: urbansound8k/fold3/185375-9-0-61.wav  \n",
      "  inflating: urbansound8k/fold3/185375-9-0-84.wav  \n",
      "  inflating: urbansound8k/fold3/185801-4-0-0.wav  \n",
      "  inflating: urbansound8k/fold3/185801-4-0-1.wav  \n",
      "  inflating: urbansound8k/fold3/185801-4-0-2.wav  \n",
      "  inflating: urbansound8k/fold3/18594-1-0-0.wav  \n",
      "  inflating: urbansound8k/fold3/18594-1-1-0.wav  \n",
      "  inflating: urbansound8k/fold3/18594-1-2-0.wav  \n",
      "  inflating: urbansound8k/fold3/18594-1-3-0.wav  \n",
      "  inflating: urbansound8k/fold3/18594-1-4-0.wav  \n",
      "  inflating: urbansound8k/fold3/18594-1-5-0.wav  \n",
      "  inflating: urbansound8k/fold3/18594-1-6-0.wav  \n",
      "  inflating: urbansound8k/fold3/186334-2-0-1.wav  \n",
      "  inflating: urbansound8k/fold3/186334-2-0-11.wav  \n",
      "  inflating: urbansound8k/fold3/186334-2-0-20.wav  \n",
      "  inflating: urbansound8k/fold3/186334-2-0-33.wav  \n",
      "  inflating: urbansound8k/fold3/186334-2-0-35.wav  \n",
      "  inflating: urbansound8k/fold3/186334-2-0-36.wav  \n",
      "  inflating: urbansound8k/fold3/186334-2-0-37.wav  \n",
      "  inflating: urbansound8k/fold3/186334-2-0-44.wav  \n",
      "  inflating: urbansound8k/fold3/186336-9-0-0.wav  \n",
      "  inflating: urbansound8k/fold3/186336-9-0-1.wav  \n",
      "  inflating: urbansound8k/fold3/186336-9-0-2.wav  \n",
      "  inflating: urbansound8k/fold3/186336-9-0-3.wav  \n",
      "  inflating: urbansound8k/fold3/186336-9-0-4.wav  \n",
      "  inflating: urbansound8k/fold3/186339-9-0-1.wav  \n",
      "  inflating: urbansound8k/fold3/186339-9-0-12.wav  \n",
      "  inflating: urbansound8k/fold3/186339-9-0-17.wav  \n",
      "  inflating: urbansound8k/fold3/186339-9-0-18.wav  \n",
      "  inflating: urbansound8k/fold3/186339-9-0-3.wav  \n",
      "  inflating: urbansound8k/fold3/186339-9-0-7.wav  \n",
      "  inflating: urbansound8k/fold3/188824-7-0-0.wav  \n",
      "  inflating: urbansound8k/fold3/188824-7-1-0.wav  \n",
      "  inflating: urbansound8k/fold3/188824-7-10-0.wav  \n",
      "  inflating: urbansound8k/fold3/188824-7-11-0.wav  \n",
      "  inflating: urbansound8k/fold3/188824-7-12-0.wav  \n",
      "  inflating: urbansound8k/fold3/188824-7-2-0.wav  \n",
      "  inflating: urbansound8k/fold3/188824-7-3-0.wav  \n",
      "  inflating: urbansound8k/fold3/188824-7-4-0.wav  \n",
      "  inflating: urbansound8k/fold3/188824-7-5-0.wav  \n",
      "  inflating: urbansound8k/fold3/188824-7-6-0.wav  \n",
      "  inflating: urbansound8k/fold3/188824-7-7-0.wav  \n",
      "  inflating: urbansound8k/fold3/188824-7-8-0.wav  \n",
      "  inflating: urbansound8k/fold3/188824-7-9-0.wav  \n",
      "  inflating: urbansound8k/fold3/19338-5-0-0.wav  \n",
      "  inflating: urbansound8k/fold3/19338-5-1-0.wav  \n",
      "  inflating: urbansound8k/fold3/19338-5-2-0.wav  \n",
      "  inflating: urbansound8k/fold3/19338-5-3-0.wav  \n",
      "  inflating: urbansound8k/fold3/19496-3-0-0.wav  \n",
      "  inflating: urbansound8k/fold3/19496-3-1-0.wav  \n",
      "  inflating: urbansound8k/fold3/19496-3-1-1.wav  \n",
      "  inflating: urbansound8k/fold3/195451-5-0-0.wav  \n",
      "  inflating: urbansound8k/fold3/195451-5-0-1.wav  \n",
      "  inflating: urbansound8k/fold3/195451-5-0-10.wav  \n",
      "  inflating: urbansound8k/fold3/195451-5-0-11.wav  \n",
      "  inflating: urbansound8k/fold3/195451-5-0-12.wav  \n",
      "  inflating: urbansound8k/fold3/195451-5-0-13.wav  \n",
      "  inflating: urbansound8k/fold3/195451-5-0-14.wav  \n",
      "  inflating: urbansound8k/fold3/195451-5-0-15.wav  \n",
      "  inflating: urbansound8k/fold3/195451-5-0-16.wav  \n",
      "  inflating: urbansound8k/fold3/195451-5-0-17.wav  \n",
      "  inflating: urbansound8k/fold3/195451-5-0-18.wav  \n",
      "  inflating: urbansound8k/fold3/195451-5-0-19.wav  \n",
      "  inflating: urbansound8k/fold3/195451-5-0-2.wav  \n",
      "  inflating: urbansound8k/fold3/195451-5-0-20.wav  \n",
      "  inflating: urbansound8k/fold3/195451-5-0-21.wav  \n",
      "  inflating: urbansound8k/fold3/195451-5-0-3.wav  \n",
      "  inflating: urbansound8k/fold3/195451-5-0-4.wav  \n",
      "  inflating: urbansound8k/fold3/195451-5-0-5.wav  \n",
      "  inflating: urbansound8k/fold3/195451-5-0-6.wav  \n",
      "  inflating: urbansound8k/fold3/195451-5-0-7.wav  \n",
      "  inflating: urbansound8k/fold3/195451-5-0-8.wav  \n",
      "  inflating: urbansound8k/fold3/195451-5-0-9.wav  \n",
      "  inflating: urbansound8k/fold3/196060-2-0-0.wav  \n",
      "  inflating: urbansound8k/fold3/196073-2-0-0.wav  \n",
      "  inflating: urbansound8k/fold3/196083-2-0-0.wav  \n",
      "  inflating: urbansound8k/fold3/197074-3-0-4.wav  \n",
      "  inflating: urbansound8k/fold3/197074-3-0-5.wav  \n",
      "  inflating: urbansound8k/fold3/197074-3-0-6.wav  \n",
      "  inflating: urbansound8k/fold3/199769-1-0-0.wav  \n",
      "  inflating: urbansound8k/fold3/199769-1-0-1.wav  \n",
      "  inflating: urbansound8k/fold3/199769-1-0-10.wav  \n",
      "  inflating: urbansound8k/fold3/199769-1-0-11.wav  \n",
      "  inflating: urbansound8k/fold3/199769-1-0-12.wav  \n",
      "  inflating: urbansound8k/fold3/199769-1-0-13.wav  \n",
      "  inflating: urbansound8k/fold3/199769-1-0-14.wav  \n",
      "  inflating: urbansound8k/fold3/199769-1-0-15.wav  \n",
      "  inflating: urbansound8k/fold3/199769-1-0-16.wav  \n",
      "  inflating: urbansound8k/fold3/199769-1-0-17.wav  \n",
      "  inflating: urbansound8k/fold3/199769-1-0-18.wav  \n",
      "  inflating: urbansound8k/fold3/199769-1-0-2.wav  \n",
      "  inflating: urbansound8k/fold3/199769-1-0-3.wav  \n",
      "  inflating: urbansound8k/fold3/199769-1-0-4.wav  \n",
      "  inflating: urbansound8k/fold3/199769-1-0-5.wav  \n",
      "  inflating: urbansound8k/fold3/199769-1-0-6.wav  \n",
      "  inflating: urbansound8k/fold3/199769-1-0-7.wav  \n",
      "  inflating: urbansound8k/fold3/199769-1-0-8.wav  \n",
      "  inflating: urbansound8k/fold3/199769-1-0-9.wav  \n",
      "  inflating: urbansound8k/fold3/200161-3-6-0.wav  \n",
      "  inflating: urbansound8k/fold3/200161-3-6-3.wav  \n",
      "  inflating: urbansound8k/fold3/200161-3-6-4.wav  \n",
      "  inflating: urbansound8k/fold3/200161-3-7-0.wav  \n",
      "  inflating: urbansound8k/fold3/207124-3-0-0.wav  \n",
      "  inflating: urbansound8k/fold3/207124-3-1-0.wav  \n",
      "  inflating: urbansound8k/fold3/207124-3-2-0.wav  \n",
      "  inflating: urbansound8k/fold3/20841-3-2-0.wav  \n",
      "  inflating: urbansound8k/fold3/20841-3-3-0.wav  \n",
      "  inflating: urbansound8k/fold3/20841-3-4-0.wav  \n",
      "  inflating: urbansound8k/fold3/20841-3-6-0.wav  \n",
      "  inflating: urbansound8k/fold3/22601-8-0-0.wav  \n",
      "  inflating: urbansound8k/fold3/22601-8-0-1.wav  \n",
      "  inflating: urbansound8k/fold3/22601-8-0-10.wav  \n",
      "  inflating: urbansound8k/fold3/22601-8-0-11.wav  \n",
      "  inflating: urbansound8k/fold3/22601-8-0-12.wav  \n",
      "  inflating: urbansound8k/fold3/22601-8-0-13.wav  \n",
      "  inflating: urbansound8k/fold3/22601-8-0-14.wav  \n",
      "  inflating: urbansound8k/fold3/22601-8-0-15.wav  \n",
      "  inflating: urbansound8k/fold3/22601-8-0-16.wav  \n",
      "  inflating: urbansound8k/fold3/22601-8-0-17.wav  \n",
      "  inflating: urbansound8k/fold3/22601-8-0-18.wav  \n",
      "  inflating: urbansound8k/fold3/22601-8-0-19.wav  \n",
      "  inflating: urbansound8k/fold3/22601-8-0-2.wav  \n",
      "  inflating: urbansound8k/fold3/22601-8-0-20.wav  \n",
      "  inflating: urbansound8k/fold3/22601-8-0-21.wav  \n",
      "  inflating: urbansound8k/fold3/22601-8-0-22.wav  \n",
      "  inflating: urbansound8k/fold3/22601-8-0-23.wav  \n",
      "  inflating: urbansound8k/fold3/22601-8-0-24.wav  \n",
      "  inflating: urbansound8k/fold3/22601-8-0-25.wav  \n",
      "  inflating: urbansound8k/fold3/22601-8-0-26.wav  \n",
      "  inflating: urbansound8k/fold3/22601-8-0-27.wav  \n",
      "  inflating: urbansound8k/fold3/22601-8-0-28.wav  \n",
      "  inflating: urbansound8k/fold3/22601-8-0-29.wav  \n",
      "  inflating: urbansound8k/fold3/22601-8-0-3.wav  \n",
      "  inflating: urbansound8k/fold3/22601-8-0-30.wav  \n",
      "  inflating: urbansound8k/fold3/22601-8-0-31.wav  \n",
      "  inflating: urbansound8k/fold3/22601-8-0-32.wav  \n",
      "  inflating: urbansound8k/fold3/22601-8-0-33.wav  \n",
      "  inflating: urbansound8k/fold3/22601-8-0-34.wav  \n",
      "  inflating: urbansound8k/fold3/22601-8-0-35.wav  \n",
      "  inflating: urbansound8k/fold3/22601-8-0-36.wav  \n",
      "  inflating: urbansound8k/fold3/22601-8-0-37.wav  \n",
      "  inflating: urbansound8k/fold3/22601-8-0-38.wav  \n",
      "  inflating: urbansound8k/fold3/22601-8-0-39.wav  \n",
      "  inflating: urbansound8k/fold3/22601-8-0-4.wav  \n",
      "  inflating: urbansound8k/fold3/22601-8-0-40.wav  \n",
      "  inflating: urbansound8k/fold3/22601-8-0-41.wav  \n",
      "  inflating: urbansound8k/fold3/22601-8-0-42.wav  \n",
      "  inflating: urbansound8k/fold3/22601-8-0-43.wav  \n",
      "  inflating: urbansound8k/fold3/22601-8-0-44.wav  \n",
      "  inflating: urbansound8k/fold3/22601-8-0-45.wav  \n",
      "  inflating: urbansound8k/fold3/22601-8-0-46.wav  \n",
      "  inflating: urbansound8k/fold3/22601-8-0-47.wav  \n",
      "  inflating: urbansound8k/fold3/22601-8-0-48.wav  \n",
      "  inflating: urbansound8k/fold3/22601-8-0-49.wav  \n",
      "  inflating: urbansound8k/fold3/22601-8-0-5.wav  \n",
      "  inflating: urbansound8k/fold3/22601-8-0-50.wav  \n",
      "  inflating: urbansound8k/fold3/22601-8-0-51.wav  \n",
      "  inflating: urbansound8k/fold3/22601-8-0-52.wav  \n",
      "  inflating: urbansound8k/fold3/22601-8-0-53.wav  \n",
      "  inflating: urbansound8k/fold3/22601-8-0-54.wav  \n",
      "  inflating: urbansound8k/fold3/22601-8-0-6.wav  \n",
      "  inflating: urbansound8k/fold3/22601-8-0-7.wav  \n",
      "  inflating: urbansound8k/fold3/22601-8-0-8.wav  \n",
      "  inflating: urbansound8k/fold3/22601-8-0-9.wav  \n",
      "  inflating: urbansound8k/fold3/29721-4-0-0.wav  \n",
      "  inflating: urbansound8k/fold3/29721-4-0-1.wav  \n",
      "  inflating: urbansound8k/fold3/29721-4-0-10.wav  \n",
      "  inflating: urbansound8k/fold3/29721-4-0-11.wav  \n",
      "  inflating: urbansound8k/fold3/29721-4-0-12.wav  \n",
      "  inflating: urbansound8k/fold3/29721-4-0-13.wav  \n",
      "  inflating: urbansound8k/fold3/29721-4-0-14.wav  \n",
      "  inflating: urbansound8k/fold3/29721-4-0-2.wav  \n",
      "  inflating: urbansound8k/fold3/29721-4-0-3.wav  \n",
      "  inflating: urbansound8k/fold3/29721-4-0-4.wav  \n",
      "  inflating: urbansound8k/fold3/29721-4-0-5.wav  \n",
      "  inflating: urbansound8k/fold3/29721-4-0-6.wav  \n",
      "  inflating: urbansound8k/fold3/29721-4-0-7.wav  \n",
      "  inflating: urbansound8k/fold3/29721-4-0-8.wav  \n",
      "  inflating: urbansound8k/fold3/29721-4-0-9.wav  \n",
      "  inflating: urbansound8k/fold3/30204-0-0-0.wav  \n",
      "  inflating: urbansound8k/fold3/30204-0-0-1.wav  \n",
      "  inflating: urbansound8k/fold3/30204-0-0-10.wav  \n",
      "  inflating: urbansound8k/fold3/30204-0-0-11.wav  \n",
      "  inflating: urbansound8k/fold3/30204-0-0-12.wav  \n",
      "  inflating: urbansound8k/fold3/30204-0-0-13.wav  \n",
      "  inflating: urbansound8k/fold3/30204-0-0-2.wav  \n",
      "  inflating: urbansound8k/fold3/30204-0-0-3.wav  \n",
      "  inflating: urbansound8k/fold3/30204-0-0-4.wav  \n",
      "  inflating: urbansound8k/fold3/30204-0-0-5.wav  \n",
      "  inflating: urbansound8k/fold3/30204-0-0-6.wav  \n",
      "  inflating: urbansound8k/fold3/30204-0-0-7.wav  \n",
      "  inflating: urbansound8k/fold3/30204-0-0-8.wav  \n",
      "  inflating: urbansound8k/fold3/30204-0-0-9.wav  \n",
      "  inflating: urbansound8k/fold3/31884-7-0-0.wav  \n",
      "  inflating: urbansound8k/fold3/31884-7-0-1.wav  \n",
      "  inflating: urbansound8k/fold3/31884-7-0-2.wav  \n",
      "  inflating: urbansound8k/fold3/31884-7-0-3.wav  \n",
      "  inflating: urbansound8k/fold3/31884-7-1-0.wav  \n",
      "  inflating: urbansound8k/fold3/31884-7-1-1.wav  \n",
      "  inflating: urbansound8k/fold3/31884-7-1-2.wav  \n",
      "  inflating: urbansound8k/fold3/31884-7-1-3.wav  \n",
      "  inflating: urbansound8k/fold3/31884-7-1-4.wav  \n",
      "  inflating: urbansound8k/fold3/32318-3-0-0.wav  \n",
      "  inflating: urbansound8k/fold3/32318-3-0-1.wav  \n",
      "  inflating: urbansound8k/fold3/32417-1-0-0.wav  \n",
      "  inflating: urbansound8k/fold3/33696-3-0-0.wav  \n",
      "  inflating: urbansound8k/fold3/33696-3-4-0.wav  \n",
      "  inflating: urbansound8k/fold3/33696-3-4-1.wav  \n",
      "  inflating: urbansound8k/fold3/33696-3-6-1.wav  \n",
      "  inflating: urbansound8k/fold3/34708-6-0-0.wav  \n",
      "  inflating: urbansound8k/fold3/34708-6-1-0.wav  \n",
      "  inflating: urbansound8k/fold3/34708-6-2-0.wav  \n",
      "  inflating: urbansound8k/fold3/34708-6-3-0.wav  \n",
      "  inflating: urbansound8k/fold3/34708-6-4-0.wav  \n",
      "  inflating: urbansound8k/fold3/34708-6-5-0.wav  \n",
      "  inflating: urbansound8k/fold3/37560-4-0-0.wav  \n",
      "  inflating: urbansound8k/fold3/37560-4-0-1.wav  \n",
      "  inflating: urbansound8k/fold3/37560-4-0-2.wav  \n",
      "  inflating: urbansound8k/fold3/37560-4-0-3.wav  \n",
      "  inflating: urbansound8k/fold3/37560-4-0-4.wav  \n",
      "  inflating: urbansound8k/fold3/37560-4-0-5.wav  \n",
      "  inflating: urbansound8k/fold3/41372-3-0-25.wav  \n",
      "  inflating: urbansound8k/fold3/41372-3-0-36.wav  \n",
      "  inflating: urbansound8k/fold3/41372-3-0-39.wav  \n",
      "  inflating: urbansound8k/fold3/41372-3-0-51.wav  \n",
      "  inflating: urbansound8k/fold3/42097-7-0-0.wav  \n",
      "  inflating: urbansound8k/fold3/42097-7-0-1.wav  \n",
      "  inflating: urbansound8k/fold3/42097-7-0-2.wav  \n",
      "  inflating: urbansound8k/fold3/42117-8-0-0.wav  \n",
      "  inflating: urbansound8k/fold3/42117-8-0-1.wav  \n",
      "  inflating: urbansound8k/fold3/42117-8-0-10.wav  \n",
      "  inflating: urbansound8k/fold3/42117-8-0-11.wav  \n",
      "  inflating: urbansound8k/fold3/42117-8-0-12.wav  \n",
      "  inflating: urbansound8k/fold3/42117-8-0-13.wav  \n",
      "  inflating: urbansound8k/fold3/42117-8-0-14.wav  \n",
      "  inflating: urbansound8k/fold3/42117-8-0-2.wav  \n",
      "  inflating: urbansound8k/fold3/42117-8-0-3.wav  \n",
      "  inflating: urbansound8k/fold3/42117-8-0-4.wav  \n",
      "  inflating: urbansound8k/fold3/42117-8-0-5.wav  \n",
      "  inflating: urbansound8k/fold3/42117-8-0-6.wav  \n",
      "  inflating: urbansound8k/fold3/42117-8-0-7.wav  \n",
      "  inflating: urbansound8k/fold3/42117-8-0-8.wav  \n",
      "  inflating: urbansound8k/fold3/42117-8-0-9.wav  \n",
      "  inflating: urbansound8k/fold3/42117-8-1-0.wav  \n",
      "  inflating: urbansound8k/fold3/42937-4-0-0.wav  \n",
      "  inflating: urbansound8k/fold3/42937-4-0-1.wav  \n",
      "  inflating: urbansound8k/fold3/42937-4-0-2.wav  \n",
      "  inflating: urbansound8k/fold3/44831-3-0-0.wav  \n",
      "  inflating: urbansound8k/fold3/44831-3-1-0.wav  \n",
      "  inflating: urbansound8k/fold3/44831-3-2-0.wav  \n",
      "  inflating: urbansound8k/fold3/49485-9-0-138.wav  \n",
      "  inflating: urbansound8k/fold3/49485-9-0-142.wav  \n",
      "  inflating: urbansound8k/fold3/49485-9-0-154.wav  \n",
      "  inflating: urbansound8k/fold3/49485-9-0-24.wav  \n",
      "  inflating: urbansound8k/fold3/49485-9-0-28.wav  \n",
      "  inflating: urbansound8k/fold3/49485-9-0-91.wav  \n",
      "  inflating: urbansound8k/fold3/49769-5-0-0.wav  \n",
      "  inflating: urbansound8k/fold3/49769-5-1-0.wav  \n",
      "  inflating: urbansound8k/fold3/49809-3-0-0.wav  \n",
      "  inflating: urbansound8k/fold3/49809-3-3-0.wav  \n",
      "  inflating: urbansound8k/fold3/49809-3-4-0.wav  \n",
      "  inflating: urbansound8k/fold3/52077-3-0-13.wav  \n",
      "  inflating: urbansound8k/fold3/52077-3-0-17.wav  \n",
      "  inflating: urbansound8k/fold3/52077-3-0-3.wav  \n",
      "  inflating: urbansound8k/fold3/52077-3-0-8.wav  \n",
      "  inflating: urbansound8k/fold3/52357-6-0-0.wav  \n",
      "  inflating: urbansound8k/fold3/54067-2-0-23.wav  \n",
      "  inflating: urbansound8k/fold3/54067-2-0-33.wav  \n",
      "  inflating: urbansound8k/fold3/54067-2-0-48.wav  \n",
      "  inflating: urbansound8k/fold3/54067-2-0-60.wav  \n",
      "  inflating: urbansound8k/fold3/54067-2-0-70.wav  \n",
      "  inflating: urbansound8k/fold3/54067-2-0-71.wav  \n",
      "  inflating: urbansound8k/fold3/54067-2-0-80.wav  \n",
      "  inflating: urbansound8k/fold3/54898-8-0-0.wav  \n",
      "  inflating: urbansound8k/fold3/54898-8-0-1.wav  \n",
      "  inflating: urbansound8k/fold3/54898-8-0-10.wav  \n",
      "  inflating: urbansound8k/fold3/54898-8-0-2.wav  \n",
      "  inflating: urbansound8k/fold3/54898-8-0-3.wav  \n",
      "  inflating: urbansound8k/fold3/54898-8-0-4.wav  \n",
      "  inflating: urbansound8k/fold3/54898-8-0-5.wav  \n",
      "  inflating: urbansound8k/fold3/54898-8-0-6.wav  \n",
      "  inflating: urbansound8k/fold3/54898-8-0-7.wav  \n",
      "  inflating: urbansound8k/fold3/54898-8-0-8.wav  \n",
      "  inflating: urbansound8k/fold3/54898-8-0-9.wav  \n",
      "  inflating: urbansound8k/fold3/58806-0-0-0.wav  \n",
      "  inflating: urbansound8k/fold3/58857-2-0-10.wav  \n",
      "  inflating: urbansound8k/fold3/58857-2-0-12.wav  \n",
      "  inflating: urbansound8k/fold3/58857-2-0-13.wav  \n",
      "  inflating: urbansound8k/fold3/58857-2-0-14.wav  \n",
      "  inflating: urbansound8k/fold3/58857-2-0-16.wav  \n",
      "  inflating: urbansound8k/fold3/58857-2-0-25.wav  \n",
      "  inflating: urbansound8k/fold3/58857-2-0-7.wav  \n",
      "  inflating: urbansound8k/fold3/58857-2-0-8.wav  \n",
      "  inflating: urbansound8k/fold3/61791-9-1-1.wav  \n",
      "  inflating: urbansound8k/fold3/61791-9-1-40.wav  \n",
      "  inflating: urbansound8k/fold3/61791-9-1-41.wav  \n",
      "  inflating: urbansound8k/fold3/61791-9-1-42.wav  \n",
      "  inflating: urbansound8k/fold3/61791-9-1-44.wav  \n",
      "  inflating: urbansound8k/fold3/61791-9-1-46.wav  \n",
      "  inflating: urbansound8k/fold3/62837-7-0-12.wav  \n",
      "  inflating: urbansound8k/fold3/62837-7-0-15.wav  \n",
      "  inflating: urbansound8k/fold3/62837-7-0-16.wav  \n",
      "  inflating: urbansound8k/fold3/62837-7-0-17.wav  \n",
      "  inflating: urbansound8k/fold3/62837-7-0-18.wav  \n",
      "  inflating: urbansound8k/fold3/62837-7-0-2.wav  \n",
      "  inflating: urbansound8k/fold3/62837-7-0-20.wav  \n",
      "  inflating: urbansound8k/fold3/62837-7-0-21.wav  \n",
      "  inflating: urbansound8k/fold3/62837-7-0-22.wav  \n",
      "  inflating: urbansound8k/fold3/62837-7-0-24.wav  \n",
      "  inflating: urbansound8k/fold3/62837-7-0-27.wav  \n",
      "  inflating: urbansound8k/fold3/62837-7-0-28.wav  \n",
      "  inflating: urbansound8k/fold3/62837-7-0-3.wav  \n",
      "  inflating: urbansound8k/fold3/62837-7-0-30.wav  \n",
      "  inflating: urbansound8k/fold3/62837-7-0-31.wav  \n",
      "  inflating: urbansound8k/fold3/62837-7-0-34.wav  \n",
      "  inflating: urbansound8k/fold3/62837-7-0-37.wav  \n",
      "  inflating: urbansound8k/fold3/62837-7-0-4.wav  \n",
      "  inflating: urbansound8k/fold3/62837-7-0-7.wav  \n",
      "  inflating: urbansound8k/fold3/62837-7-0-8.wav  \n",
      "  inflating: urbansound8k/fold3/62837-7-0-9.wav  \n",
      "  inflating: urbansound8k/fold3/62837-7-1-1.wav  \n",
      "  inflating: urbansound8k/fold3/62837-7-1-11.wav  \n",
      "  inflating: urbansound8k/fold3/62837-7-1-14.wav  \n",
      "  inflating: urbansound8k/fold3/62837-7-1-15.wav  \n",
      "  inflating: urbansound8k/fold3/62837-7-1-18.wav  \n",
      "  inflating: urbansound8k/fold3/62837-7-1-2.wav  \n",
      "  inflating: urbansound8k/fold3/62837-7-1-21.wav  \n",
      "  inflating: urbansound8k/fold3/62837-7-1-22.wav  \n",
      "  inflating: urbansound8k/fold3/62837-7-1-24.wav  \n",
      "  inflating: urbansound8k/fold3/62837-7-1-26.wav  \n",
      "  inflating: urbansound8k/fold3/62837-7-1-27.wav  \n",
      "  inflating: urbansound8k/fold3/62837-7-1-28.wav  \n",
      "  inflating: urbansound8k/fold3/62837-7-1-29.wav  \n",
      "  inflating: urbansound8k/fold3/62837-7-1-3.wav  \n",
      "  inflating: urbansound8k/fold3/62837-7-1-31.wav  \n",
      "  inflating: urbansound8k/fold3/62837-7-1-32.wav  \n",
      "  inflating: urbansound8k/fold3/62837-7-1-33.wav  \n",
      "  inflating: urbansound8k/fold3/62837-7-1-35.wav  \n",
      "  inflating: urbansound8k/fold3/62837-7-1-39.wav  \n",
      "  inflating: urbansound8k/fold3/62837-7-1-4.wav  \n",
      "  inflating: urbansound8k/fold3/62837-7-1-41.wav  \n",
      "  inflating: urbansound8k/fold3/62837-7-1-44.wav  \n",
      "  inflating: urbansound8k/fold3/62837-7-1-45.wav  \n",
      "  inflating: urbansound8k/fold3/62837-7-1-46.wav  \n",
      "  inflating: urbansound8k/fold3/62837-7-1-49.wav  \n",
      "  inflating: urbansound8k/fold3/62837-7-1-5.wav  \n",
      "  inflating: urbansound8k/fold3/62837-7-1-51.wav  \n",
      "  inflating: urbansound8k/fold3/62837-7-1-53.wav  \n",
      "  inflating: urbansound8k/fold3/62837-7-1-54.wav  \n",
      "  inflating: urbansound8k/fold3/62837-7-1-55.wav  \n",
      "  inflating: urbansound8k/fold3/62837-7-1-56.wav  \n",
      "  inflating: urbansound8k/fold3/62837-7-1-6.wav  \n",
      "  inflating: urbansound8k/fold3/62837-7-1-61.wav  \n",
      "  inflating: urbansound8k/fold3/62837-7-1-62.wav  \n",
      "  inflating: urbansound8k/fold3/62837-7-1-63.wav  \n",
      "  inflating: urbansound8k/fold3/62837-7-1-64.wav  \n",
      "  inflating: urbansound8k/fold3/62837-7-1-65.wav  \n",
      "  inflating: urbansound8k/fold3/62837-7-1-69.wav  \n",
      "  inflating: urbansound8k/fold3/62837-7-1-72.wav  \n",
      "  inflating: urbansound8k/fold3/62837-7-1-73.wav  \n",
      "  inflating: urbansound8k/fold3/62837-7-1-79.wav  \n",
      "  inflating: urbansound8k/fold3/62837-7-1-80.wav  \n",
      "  inflating: urbansound8k/fold3/62837-7-1-81.wav  \n",
      "  inflating: urbansound8k/fold3/62837-7-1-84.wav  \n",
      "  inflating: urbansound8k/fold3/62837-7-1-9.wav  \n",
      "  inflating: urbansound8k/fold3/63095-4-0-1.wav  \n",
      "  inflating: urbansound8k/fold3/63095-4-0-10.wav  \n",
      "  inflating: urbansound8k/fold3/63095-4-0-14.wav  \n",
      "  inflating: urbansound8k/fold3/63095-4-0-16.wav  \n",
      "  inflating: urbansound8k/fold3/63095-4-0-20.wav  \n",
      "  inflating: urbansound8k/fold3/63095-4-0-21.wav  \n",
      "  inflating: urbansound8k/fold3/63095-4-0-26.wav  \n",
      "  inflating: urbansound8k/fold3/63095-4-0-28.wav  \n",
      "  inflating: urbansound8k/fold3/63095-4-0-29.wav  \n",
      "  inflating: urbansound8k/fold3/63095-4-0-4.wav  \n",
      "  inflating: urbansound8k/fold3/63095-4-0-6.wav  \n",
      "  inflating: urbansound8k/fold3/63095-4-0-8.wav  \n",
      "  inflating: urbansound8k/fold3/63095-4-1-10.wav  \n",
      "  inflating: urbansound8k/fold3/63095-4-1-18.wav  \n",
      "  inflating: urbansound8k/fold3/63095-4-1-19.wav  \n",
      "  inflating: urbansound8k/fold3/63095-4-1-20.wav  \n",
      "  inflating: urbansound8k/fold3/63095-4-1-23.wav  \n",
      "  inflating: urbansound8k/fold3/63095-4-1-27.wav  \n",
      "  inflating: urbansound8k/fold3/63095-4-1-33.wav  \n",
      "  inflating: urbansound8k/fold3/63095-4-1-4.wav  \n",
      "  inflating: urbansound8k/fold3/63095-4-1-6.wav  \n",
      "  inflating: urbansound8k/fold3/63095-4-1-7.wav  \n",
      "  inflating: urbansound8k/fold3/63292-3-0-0.wav  \n",
      "  inflating: urbansound8k/fold3/63292-3-0-1.wav  \n",
      "  inflating: urbansound8k/fold3/65750-3-0-5.wav  \n",
      "  inflating: urbansound8k/fold3/65750-3-3-48.wav  \n",
      "  inflating: urbansound8k/fold3/65750-3-3-68.wav  \n",
      "  inflating: urbansound8k/fold3/65750-3-3-74.wav  \n",
      "  inflating: urbansound8k/fold3/66622-4-0-0.wav  \n",
      "  inflating: urbansound8k/fold3/66622-4-0-1.wav  \n",
      "  inflating: urbansound8k/fold3/66622-4-0-2.wav  \n",
      "  inflating: urbansound8k/fold3/66622-4-0-3.wav  \n",
      "  inflating: urbansound8k/fold3/66622-4-0-4.wav  \n",
      "  inflating: urbansound8k/fold3/66622-4-0-5.wav  \n",
      "  inflating: urbansound8k/fold3/66622-4-0-6.wav  \n",
      "  inflating: urbansound8k/fold3/66622-4-0-7.wav  \n",
      "  inflating: urbansound8k/fold3/66622-4-0-8.wav  \n",
      "  inflating: urbansound8k/fold3/69598-4-0-0.wav  \n",
      "  inflating: urbansound8k/fold3/69598-4-1-0.wav  \n",
      "  inflating: urbansound8k/fold3/69598-4-2-0.wav  \n",
      "  inflating: urbansound8k/fold3/69598-4-2-1.wav  \n",
      "  inflating: urbansound8k/fold3/69598-4-3-0.wav  \n",
      "  inflating: urbansound8k/fold3/69598-4-4-0.wav  \n",
      "  inflating: urbansound8k/fold3/69598-4-5-0.wav  \n",
      "  inflating: urbansound8k/fold3/69598-4-6-0.wav  \n",
      "  inflating: urbansound8k/fold3/69598-4-6-1.wav  \n",
      "  inflating: urbansound8k/fold3/69598-4-7-0.wav  \n",
      "  inflating: urbansound8k/fold3/69598-4-8-0.wav  \n",
      "  inflating: urbansound8k/fold3/69598-4-9-0.wav  \n",
      "  inflating: urbansound8k/fold3/6988-5-0-0.wav  \n",
      "  inflating: urbansound8k/fold3/6988-5-0-1.wav  \n",
      "  inflating: urbansound8k/fold3/6988-5-0-2.wav  \n",
      "  inflating: urbansound8k/fold3/6988-5-0-3.wav  \n",
      "  inflating: urbansound8k/fold3/6988-5-0-4.wav  \n",
      "  inflating: urbansound8k/fold3/6988-5-0-5.wav  \n",
      "  inflating: urbansound8k/fold3/72537-3-0-2.wav  \n",
      "  inflating: urbansound8k/fold3/72537-3-0-6.wav  \n",
      "  inflating: urbansound8k/fold3/72537-3-0-8.wav  \n",
      "  inflating: urbansound8k/fold3/73373-3-0-0.wav  \n",
      "  inflating: urbansound8k/fold3/74810-9-0-27.wav  \n",
      "  inflating: urbansound8k/fold3/74810-9-0-32.wav  \n",
      "  inflating: urbansound8k/fold3/74810-9-0-5.wav  \n",
      "  inflating: urbansound8k/fold3/74810-9-1-12.wav  \n",
      "  inflating: urbansound8k/fold3/74810-9-1-5.wav  \n",
      "  inflating: urbansound8k/fold3/76094-6-0-0.wav  \n",
      "  inflating: urbansound8k/fold3/76094-6-1-0.wav  \n",
      "  inflating: urbansound8k/fold3/76221-2-0-0.wav  \n",
      "  inflating: urbansound8k/fold3/76221-2-0-1.wav  \n",
      "  inflating: urbansound8k/fold3/76221-2-0-10.wav  \n",
      "  inflating: urbansound8k/fold3/76221-2-0-2.wav  \n",
      "  inflating: urbansound8k/fold3/76221-2-0-3.wav  \n",
      "  inflating: urbansound8k/fold3/76221-2-0-4.wav  \n",
      "  inflating: urbansound8k/fold3/76221-2-0-5.wav  \n",
      "  inflating: urbansound8k/fold3/76221-2-0-6.wav  \n",
      "  inflating: urbansound8k/fold3/77769-9-0-0.wav  \n",
      "  inflating: urbansound8k/fold3/77769-9-0-12.wav  \n",
      "  inflating: urbansound8k/fold3/77769-9-0-17.wav  \n",
      "  inflating: urbansound8k/fold3/77769-9-0-2.wav  \n",
      "  inflating: urbansound8k/fold3/77769-9-0-4.wav  \n",
      "  inflating: urbansound8k/fold3/77769-9-0-8.wav  \n",
      "  inflating: urbansound8k/fold3/78326-9-0-0.wav  \n",
      "  inflating: urbansound8k/fold3/78326-9-0-1.wav  \n",
      "  inflating: urbansound8k/fold3/78326-9-0-3.wav  \n",
      "  inflating: urbansound8k/fold3/78326-9-0-5.wav  \n",
      "  inflating: urbansound8k/fold3/78326-9-0-6.wav  \n",
      "  inflating: urbansound8k/fold3/78326-9-0-7.wav  \n",
      "  inflating: urbansound8k/fold3/78776-6-0-0.wav  \n",
      "  inflating: urbansound8k/fold3/82811-3-0-1.wav  \n",
      "  inflating: urbansound8k/fold3/82811-3-0-2.wav  \n",
      "  inflating: urbansound8k/fold3/82811-3-3-0.wav  \n",
      "  inflating: urbansound8k/fold3/82811-3-4-0.wav  \n",
      "  inflating: urbansound8k/fold3/88569-2-0-14.wav  \n",
      "  inflating: urbansound8k/fold3/88569-2-0-21.wav  \n",
      "  inflating: urbansound8k/fold3/88569-2-0-36.wav  \n",
      "  inflating: urbansound8k/fold3/88569-2-0-54.wav  \n",
      "  inflating: urbansound8k/fold3/88569-2-0-67.wav  \n",
      "  inflating: urbansound8k/fold3/88569-2-0-77.wav  \n",
      "  inflating: urbansound8k/fold3/88569-2-0-85.wav  \n",
      "  inflating: urbansound8k/fold3/90014-8-0-0.wav  \n",
      "  inflating: urbansound8k/fold3/90014-8-0-1.wav  \n",
      "  inflating: urbansound8k/fold3/90014-8-0-2.wav  \n",
      "  inflating: urbansound8k/fold3/90014-8-0-3.wav  \n",
      "  inflating: urbansound8k/fold3/90014-8-0-4.wav  \n",
      "  inflating: urbansound8k/fold3/90014-8-0-5.wav  \n",
      "  inflating: urbansound8k/fold3/90014-8-0-6.wav  \n",
      "  inflating: urbansound8k/fold3/90846-8-0-0.wav  \n",
      "  inflating: urbansound8k/fold3/9223-2-0-10.wav  \n",
      "  inflating: urbansound8k/fold3/9223-2-0-15.wav  \n",
      "  inflating: urbansound8k/fold3/9223-2-0-17.wav  \n",
      "  inflating: urbansound8k/fold3/9223-2-0-2.wav  \n",
      "  inflating: urbansound8k/fold3/9223-2-0-4.wav  \n",
      "  inflating: urbansound8k/fold3/9223-2-0-5.wav  \n",
      "  inflating: urbansound8k/fold3/9223-2-0-9.wav  \n",
      "  inflating: urbansound8k/fold3/93065-9-0-12.wav  \n",
      "  inflating: urbansound8k/fold3/93065-9-0-14.wav  \n",
      "  inflating: urbansound8k/fold3/93065-9-0-17.wav  \n",
      "  inflating: urbansound8k/fold3/93065-9-0-2.wav  \n",
      "  inflating: urbansound8k/fold3/93065-9-0-4.wav  \n",
      "  inflating: urbansound8k/fold3/93065-9-0-7.wav  \n",
      "  inflating: urbansound8k/fold3/94631-9-0-12.wav  \n",
      "  inflating: urbansound8k/fold3/94631-9-0-16.wav  \n",
      "  inflating: urbansound8k/fold3/94631-9-1-16.wav  \n",
      "  inflating: urbansound8k/fold3/94631-9-1-2.wav  \n",
      "  inflating: urbansound8k/fold3/94631-9-1-25.wav  \n",
      "  inflating: urbansound8k/fold3/94631-9-1-3.wav  \n",
      "  inflating: urbansound8k/fold3/94636-8-0-0.wav  \n",
      "  inflating: urbansound8k/fold3/94636-8-0-1.wav  \n",
      "  inflating: urbansound8k/fold3/94636-8-0-10.wav  \n",
      "  inflating: urbansound8k/fold3/94636-8-0-11.wav  \n",
      "  inflating: urbansound8k/fold3/94636-8-0-12.wav  \n",
      "  inflating: urbansound8k/fold3/94636-8-0-13.wav  \n",
      "  inflating: urbansound8k/fold3/94636-8-0-14.wav  \n",
      "  inflating: urbansound8k/fold3/94636-8-0-15.wav  \n",
      "  inflating: urbansound8k/fold3/94636-8-0-16.wav  \n",
      "  inflating: urbansound8k/fold3/94636-8-0-17.wav  \n",
      "  inflating: urbansound8k/fold3/94636-8-0-18.wav  \n",
      "  inflating: urbansound8k/fold3/94636-8-0-19.wav  \n",
      "  inflating: urbansound8k/fold3/94636-8-0-2.wav  \n",
      "  inflating: urbansound8k/fold3/94636-8-0-20.wav  \n",
      "  inflating: urbansound8k/fold3/94636-8-0-21.wav  \n",
      "  inflating: urbansound8k/fold3/94636-8-0-3.wav  \n",
      "  inflating: urbansound8k/fold3/94636-8-0-4.wav  \n",
      "  inflating: urbansound8k/fold3/94636-8-0-5.wav  \n",
      "  inflating: urbansound8k/fold3/94636-8-0-6.wav  \n",
      "  inflating: urbansound8k/fold3/94636-8-0-7.wav  \n",
      "  inflating: urbansound8k/fold3/94636-8-0-8.wav  \n",
      "  inflating: urbansound8k/fold3/94636-8-0-9.wav  \n",
      "  inflating: urbansound8k/fold3/95077-5-0-0.wav  \n",
      "  inflating: urbansound8k/fold3/95562-4-0-0.wav  \n",
      "  inflating: urbansound8k/fold3/95562-4-1-0.wav  \n",
      "  inflating: urbansound8k/fold3/95562-4-2-0.wav  \n",
      "  inflating: urbansound8k/fold3/95562-4-3-0.wav  \n",
      "  inflating: urbansound8k/fold3/95562-4-3-1.wav  \n",
      "  inflating: urbansound8k/fold3/9674-1-0-0.wav  \n",
      "  inflating: urbansound8k/fold3/9674-1-0-1.wav  \n",
      "  inflating: urbansound8k/fold3/9674-1-0-2.wav  \n",
      "  inflating: urbansound8k/fold3/98681-9-0-0.wav  \n",
      "  inflating: urbansound8k/fold3/98681-9-0-11.wav  \n",
      "  inflating: urbansound8k/fold3/98681-9-0-12.wav  \n",
      "  inflating: urbansound8k/fold3/98681-9-0-5.wav  \n",
      "  inflating: urbansound8k/fold3/98681-9-0-6.wav  \n",
      "  inflating: urbansound8k/fold3/98681-9-0-7.wav  \n",
      "  inflating: urbansound8k/fold4/102102-3-0-0.wav  \n",
      "  inflating: urbansound8k/fold4/107653-9-0-12.wav  \n",
      "  inflating: urbansound8k/fold4/107653-9-0-14.wav  \n",
      "  inflating: urbansound8k/fold4/107653-9-0-18.wav  \n",
      "  inflating: urbansound8k/fold4/107653-9-0-3.wav  \n",
      "  inflating: urbansound8k/fold4/107653-9-0-5.wav  \n",
      "  inflating: urbansound8k/fold4/107653-9-0-7.wav  \n",
      "  inflating: urbansound8k/fold4/109711-3-1-0.wav  \n",
      "  inflating: urbansound8k/fold4/109711-3-2-4.wav  \n",
      "  inflating: urbansound8k/fold4/109711-3-2-6.wav  \n",
      "  inflating: urbansound8k/fold4/110621-7-0-0.wav  \n",
      "  inflating: urbansound8k/fold4/110621-7-0-1.wav  \n",
      "  inflating: urbansound8k/fold4/110621-7-0-2.wav  \n",
      "  inflating: urbansound8k/fold4/110621-7-0-3.wav  \n",
      "  inflating: urbansound8k/fold4/113160-8-0-0.wav  \n",
      "  inflating: urbansound8k/fold4/115415-9-0-0.wav  \n",
      "  inflating: urbansound8k/fold4/115415-9-0-1.wav  \n",
      "  inflating: urbansound8k/fold4/115415-9-0-4.wav  \n",
      "  inflating: urbansound8k/fold4/115415-9-0-5.wav  \n",
      "  inflating: urbansound8k/fold4/115415-9-0-6.wav  \n",
      "  inflating: urbansound8k/fold4/115415-9-0-7.wav  \n",
      "  inflating: urbansound8k/fold4/115535-3-0-0.wav  \n",
      "  inflating: urbansound8k/fold4/116484-3-0-12.wav  \n",
      "  inflating: urbansound8k/fold4/116484-3-0-16.wav  \n",
      "  inflating: urbansound8k/fold4/116484-3-0-6.wav  \n",
      "  inflating: urbansound8k/fold4/116484-3-0-8.wav  \n",
      "  inflating: urbansound8k/fold4/117536-1-0-0.wav  \n",
      "  inflating: urbansound8k/fold4/118964-3-0-0.wav  \n",
      "  inflating: urbansound8k/fold4/121888-3-0-0.wav  \n",
      "  inflating: urbansound8k/fold4/128160-5-0-0.wav  \n",
      "  inflating: urbansound8k/fold4/128160-5-0-1.wav  \n",
      "  inflating: urbansound8k/fold4/128160-5-0-10.wav  \n",
      "  inflating: urbansound8k/fold4/128160-5-0-11.wav  \n",
      "  inflating: urbansound8k/fold4/128160-5-0-12.wav  \n",
      "  inflating: urbansound8k/fold4/128160-5-0-13.wav  \n",
      "  inflating: urbansound8k/fold4/128160-5-0-14.wav  \n",
      "  inflating: urbansound8k/fold4/128160-5-0-15.wav  \n",
      "  inflating: urbansound8k/fold4/128160-5-0-2.wav  \n",
      "  inflating: urbansound8k/fold4/128160-5-0-3.wav  \n",
      "  inflating: urbansound8k/fold4/128160-5-0-4.wav  \n",
      "  inflating: urbansound8k/fold4/128160-5-0-5.wav  \n",
      "  inflating: urbansound8k/fold4/128160-5-0-6.wav  \n",
      "  inflating: urbansound8k/fold4/128160-5-0-7.wav  \n",
      "  inflating: urbansound8k/fold4/128160-5-0-8.wav  \n",
      "  inflating: urbansound8k/fold4/128160-5-0-9.wav  \n",
      "  inflating: urbansound8k/fold4/128607-4-0-0.wav  \n",
      "  inflating: urbansound8k/fold4/128607-4-0-1.wav  \n",
      "  inflating: urbansound8k/fold4/128607-4-0-2.wav  \n",
      "  inflating: urbansound8k/fold4/128607-4-0-3.wav  \n",
      "  inflating: urbansound8k/fold4/128607-4-0-4.wav  \n",
      "  inflating: urbansound8k/fold4/128607-4-1-0.wav  \n",
      "  inflating: urbansound8k/fold4/128607-4-1-1.wav  \n",
      "  inflating: urbansound8k/fold4/128607-4-1-2.wav  \n",
      "  inflating: urbansound8k/fold4/128607-4-1-3.wav  \n",
      "  inflating: urbansound8k/fold4/131428-9-0-3.wav  \n",
      "  inflating: urbansound8k/fold4/131428-9-0-5.wav  \n",
      "  inflating: urbansound8k/fold4/131428-9-1-0.wav  \n",
      "  inflating: urbansound8k/fold4/131428-9-1-19.wav  \n",
      "  inflating: urbansound8k/fold4/131428-9-1-8.wav  \n",
      "  inflating: urbansound8k/fold4/131428-9-1-9.wav  \n",
      "  inflating: urbansound8k/fold4/132016-7-0-0.wav  \n",
      "  inflating: urbansound8k/fold4/132016-7-0-1.wav  \n",
      "  inflating: urbansound8k/fold4/132016-7-0-2.wav  \n",
      "  inflating: urbansound8k/fold4/132016-7-0-3.wav  \n",
      "  inflating: urbansound8k/fold4/132016-7-0-4.wav  \n",
      "  inflating: urbansound8k/fold4/132016-7-0-5.wav  \n",
      "  inflating: urbansound8k/fold4/132016-7-0-6.wav  \n",
      "  inflating: urbansound8k/fold4/132016-7-0-7.wav  \n",
      "  inflating: urbansound8k/fold4/132016-7-0-8.wav  \n",
      "  inflating: urbansound8k/fold4/132108-9-0-12.wav  \n",
      "  inflating: urbansound8k/fold4/132108-9-0-21.wav  \n",
      "  inflating: urbansound8k/fold4/132108-9-1-1.wav  \n",
      "  inflating: urbansound8k/fold4/132108-9-1-24.wav  \n",
      "  inflating: urbansound8k/fold4/132108-9-1-26.wav  \n",
      "  inflating: urbansound8k/fold4/132108-9-1-27.wav  \n",
      "  inflating: urbansound8k/fold4/135528-6-0-0.wav  \n",
      "  inflating: urbansound8k/fold4/135528-6-1-0.wav  \n",
      "  inflating: urbansound8k/fold4/135528-6-10-0.wav  \n",
      "  inflating: urbansound8k/fold4/135528-6-11-0.wav  \n",
      "  inflating: urbansound8k/fold4/135528-6-12-0.wav  \n",
      "  inflating: urbansound8k/fold4/135528-6-2-0.wav  \n",
      "  inflating: urbansound8k/fold4/135528-6-3-0.wav  \n",
      "  inflating: urbansound8k/fold4/135528-6-4-0.wav  \n",
      "  inflating: urbansound8k/fold4/135528-6-4-1.wav  \n",
      "  inflating: urbansound8k/fold4/135528-6-4-2.wav  \n",
      "  inflating: urbansound8k/fold4/135528-6-5-0.wav  \n",
      "  inflating: urbansound8k/fold4/135528-6-6-0.wav  \n",
      "  inflating: urbansound8k/fold4/135528-6-7-0.wav  \n",
      "  inflating: urbansound8k/fold4/135528-6-8-0.wav  \n",
      "  inflating: urbansound8k/fold4/135528-6-9-0.wav  \n",
      "  inflating: urbansound8k/fold4/137971-2-0-0.wav  \n",
      "  inflating: urbansound8k/fold4/137971-2-0-2.wav  \n",
      "  inflating: urbansound8k/fold4/137971-2-0-3.wav  \n",
      "  inflating: urbansound8k/fold4/137971-2-0-4.wav  \n",
      "  inflating: urbansound8k/fold4/137971-2-0-5.wav  \n",
      "  inflating: urbansound8k/fold4/137971-2-0-6.wav  \n",
      "  inflating: urbansound8k/fold4/137971-2-0-8.wav  \n",
      "  inflating: urbansound8k/fold4/140824-4-0-0.wav  \n",
      "  inflating: urbansound8k/fold4/14110-4-0-0.wav  \n",
      "  inflating: urbansound8k/fold4/14110-4-0-1.wav  \n",
      "  inflating: urbansound8k/fold4/14110-4-0-2.wav  \n",
      "  inflating: urbansound8k/fold4/144007-5-0-0.wav  \n",
      "  inflating: urbansound8k/fold4/144007-5-0-1.wav  \n",
      "  inflating: urbansound8k/fold4/144007-5-0-10.wav  \n",
      "  inflating: urbansound8k/fold4/144007-5-0-11.wav  \n",
      "  inflating: urbansound8k/fold4/144007-5-0-12.wav  \n",
      "  inflating: urbansound8k/fold4/144007-5-0-13.wav  \n",
      "  inflating: urbansound8k/fold4/144007-5-0-14.wav  \n",
      "  inflating: urbansound8k/fold4/144007-5-0-15.wav  \n",
      "  inflating: urbansound8k/fold4/144007-5-0-16.wav  \n",
      "  inflating: urbansound8k/fold4/144007-5-0-17.wav  \n",
      "  inflating: urbansound8k/fold4/144007-5-0-18.wav  \n",
      "  inflating: urbansound8k/fold4/144007-5-0-19.wav  \n",
      "  inflating: urbansound8k/fold4/144007-5-0-2.wav  \n",
      "  inflating: urbansound8k/fold4/144007-5-0-20.wav  \n",
      "  inflating: urbansound8k/fold4/144007-5-0-21.wav  \n",
      "  inflating: urbansound8k/fold4/144007-5-0-3.wav  \n",
      "  inflating: urbansound8k/fold4/144007-5-0-4.wav  \n",
      "  inflating: urbansound8k/fold4/144007-5-0-5.wav  \n",
      "  inflating: urbansound8k/fold4/144007-5-0-6.wav  \n",
      "  inflating: urbansound8k/fold4/144007-5-0-7.wav  \n",
      "  inflating: urbansound8k/fold4/144007-5-0-8.wav  \n",
      "  inflating: urbansound8k/fold4/144007-5-0-9.wav  \n",
      "  inflating: urbansound8k/fold4/144007-5-1-0.wav  \n",
      "  inflating: urbansound8k/fold4/144007-5-1-1.wav  \n",
      "  inflating: urbansound8k/fold4/144007-5-1-10.wav  \n",
      "  inflating: urbansound8k/fold4/144007-5-1-11.wav  \n",
      "  inflating: urbansound8k/fold4/144007-5-1-2.wav  \n",
      "  inflating: urbansound8k/fold4/144007-5-1-3.wav  \n",
      "  inflating: urbansound8k/fold4/144007-5-1-4.wav  \n",
      "  inflating: urbansound8k/fold4/144007-5-1-5.wav  \n",
      "  inflating: urbansound8k/fold4/144007-5-1-6.wav  \n",
      "  inflating: urbansound8k/fold4/144007-5-1-7.wav  \n",
      "  inflating: urbansound8k/fold4/144007-5-1-8.wav  \n",
      "  inflating: urbansound8k/fold4/144007-5-1-9.wav  \n",
      "  inflating: urbansound8k/fold4/144351-4-0-0.wav  \n",
      "  inflating: urbansound8k/fold4/144351-4-0-1.wav  \n",
      "  inflating: urbansound8k/fold4/144351-4-0-2.wav  \n",
      "  inflating: urbansound8k/fold4/144351-4-1-1.wav  \n",
      "  inflating: urbansound8k/fold4/144351-4-2-0.wav  \n",
      "  inflating: urbansound8k/fold4/144351-4-2-2.wav  \n",
      "  inflating: urbansound8k/fold4/144351-4-2-4.wav  \n",
      "  inflating: urbansound8k/fold4/144351-4-2-5.wav  \n",
      "  inflating: urbansound8k/fold4/144351-4-2-6.wav  \n",
      "  inflating: urbansound8k/fold4/144351-4-3-1.wav  \n",
      "  inflating: urbansound8k/fold4/144351-4-3-10.wav  \n",
      "  inflating: urbansound8k/fold4/144351-4-3-11.wav  \n",
      "  inflating: urbansound8k/fold4/144351-4-3-12.wav  \n",
      "  inflating: urbansound8k/fold4/144351-4-3-14.wav  \n",
      "  inflating: urbansound8k/fold4/144351-4-3-15.wav  \n",
      "  inflating: urbansound8k/fold4/144351-4-3-2.wav  \n",
      "  inflating: urbansound8k/fold4/144351-4-3-3.wav  \n",
      "  inflating: urbansound8k/fold4/144351-4-3-4.wav  \n",
      "  inflating: urbansound8k/fold4/144351-4-3-5.wav  \n",
      "  inflating: urbansound8k/fold4/144351-4-3-7.wav  \n",
      "  inflating: urbansound8k/fold4/146709-0-0-1.wav  \n",
      "  inflating: urbansound8k/fold4/146709-0-0-11.wav  \n",
      "  inflating: urbansound8k/fold4/146709-0-0-12.wav  \n",
      "  inflating: urbansound8k/fold4/146709-0-0-17.wav  \n",
      "  inflating: urbansound8k/fold4/146709-0-0-18.wav  \n",
      "  inflating: urbansound8k/fold4/146709-0-0-19.wav  \n",
      "  inflating: urbansound8k/fold4/146709-0-0-20.wav  \n",
      "  inflating: urbansound8k/fold4/146709-0-0-22.wav  \n",
      "  inflating: urbansound8k/fold4/146709-0-0-25.wav  \n",
      "  inflating: urbansound8k/fold4/146709-0-0-26.wav  \n",
      "  inflating: urbansound8k/fold4/146709-0-0-3.wav  \n",
      "  inflating: urbansound8k/fold4/146709-0-0-30.wav  \n",
      "  inflating: urbansound8k/fold4/146709-0-0-33.wav  \n",
      "  inflating: urbansound8k/fold4/146709-0-0-34.wav  \n",
      "  inflating: urbansound8k/fold4/146709-0-0-37.wav  \n",
      "  inflating: urbansound8k/fold4/146709-0-0-44.wav  \n",
      "  inflating: urbansound8k/fold4/146709-0-0-48.wav  \n",
      "  inflating: urbansound8k/fold4/146709-0-0-53.wav  \n",
      "  inflating: urbansound8k/fold4/146709-0-0-59.wav  \n",
      "  inflating: urbansound8k/fold4/146709-0-0-63.wav  \n",
      "  inflating: urbansound8k/fold4/146709-0-0-65.wav  \n",
      "  inflating: urbansound8k/fold4/146709-0-0-66.wav  \n",
      "  inflating: urbansound8k/fold4/146709-0-0-68.wav  \n",
      "  inflating: urbansound8k/fold4/146709-0-0-7.wav  \n",
      "  inflating: urbansound8k/fold4/148463-7-2-0.wav  \n",
      "  inflating: urbansound8k/fold4/148463-7-2-1.wav  \n",
      "  inflating: urbansound8k/fold4/148463-7-2-2.wav  \n",
      "  inflating: urbansound8k/fold4/148463-7-3-0.wav  \n",
      "  inflating: urbansound8k/fold4/148463-7-3-1.wav  \n",
      "  inflating: urbansound8k/fold4/148463-7-3-10.wav  \n",
      "  inflating: urbansound8k/fold4/148463-7-3-2.wav  \n",
      "  inflating: urbansound8k/fold4/148463-7-3-3.wav  \n",
      "  inflating: urbansound8k/fold4/148463-7-3-4.wav  \n",
      "  inflating: urbansound8k/fold4/148463-7-3-5.wav  \n",
      "  inflating: urbansound8k/fold4/148463-7-3-6.wav  \n",
      "  inflating: urbansound8k/fold4/148463-7-3-7.wav  \n",
      "  inflating: urbansound8k/fold4/148463-7-3-8.wav  \n",
      "  inflating: urbansound8k/fold4/148463-7-3-9.wav  \n",
      "  inflating: urbansound8k/fold4/148837-6-0-0.wav  \n",
      "  inflating: urbansound8k/fold4/148837-6-1-0.wav  \n",
      "  inflating: urbansound8k/fold4/148837-6-2-0.wav  \n",
      "  inflating: urbansound8k/fold4/151005-4-0-0.wav  \n",
      "  inflating: urbansound8k/fold4/151005-4-0-1.wav  \n",
      "  inflating: urbansound8k/fold4/151005-4-0-2.wav  \n",
      "  inflating: urbansound8k/fold4/151005-4-0-3.wav  \n",
      "  inflating: urbansound8k/fold4/151005-4-1-0.wav  \n",
      "  inflating: urbansound8k/fold4/151005-4-1-1.wav  \n",
      "  inflating: urbansound8k/fold4/151005-4-1-2.wav  \n",
      "  inflating: urbansound8k/fold4/151005-4-2-0.wav  \n",
      "  inflating: urbansound8k/fold4/151005-4-2-1.wav  \n",
      "  inflating: urbansound8k/fold4/151005-4-3-0.wav  \n",
      "  inflating: urbansound8k/fold4/151005-4-3-1.wav  \n",
      "  inflating: urbansound8k/fold4/151005-4-3-2.wav  \n",
      "  inflating: urbansound8k/fold4/151877-5-0-0.wav  \n",
      "  inflating: urbansound8k/fold4/151877-5-1-0.wav  \n",
      "  inflating: urbansound8k/fold4/154758-5-0-0.wav  \n",
      "  inflating: urbansound8k/fold4/154758-5-0-1.wav  \n",
      "  inflating: urbansound8k/fold4/154758-5-0-10.wav  \n",
      "  inflating: urbansound8k/fold4/154758-5-0-11.wav  \n",
      "  inflating: urbansound8k/fold4/154758-5-0-12.wav  \n",
      "  inflating: urbansound8k/fold4/154758-5-0-13.wav  \n",
      "  inflating: urbansound8k/fold4/154758-5-0-14.wav  \n",
      "  inflating: urbansound8k/fold4/154758-5-0-15.wav  \n",
      "  inflating: urbansound8k/fold4/154758-5-0-16.wav  \n",
      "  inflating: urbansound8k/fold4/154758-5-0-17.wav  \n",
      "  inflating: urbansound8k/fold4/154758-5-0-18.wav  \n",
      "  inflating: urbansound8k/fold4/154758-5-0-19.wav  \n",
      "  inflating: urbansound8k/fold4/154758-5-0-2.wav  \n",
      "  inflating: urbansound8k/fold4/154758-5-0-20.wav  \n",
      "  inflating: urbansound8k/fold4/154758-5-0-21.wav  \n",
      "  inflating: urbansound8k/fold4/154758-5-0-3.wav  \n",
      "  inflating: urbansound8k/fold4/154758-5-0-4.wav  \n",
      "  inflating: urbansound8k/fold4/154758-5-0-5.wav  \n",
      "  inflating: urbansound8k/fold4/154758-5-0-6.wav  \n",
      "  inflating: urbansound8k/fold4/154758-5-0-7.wav  \n",
      "  inflating: urbansound8k/fold4/154758-5-0-8.wav  \n",
      "  inflating: urbansound8k/fold4/154758-5-0-9.wav  \n",
      "  inflating: urbansound8k/fold4/155320-3-0-0.wav  \n",
      "  inflating: urbansound8k/fold4/156362-4-0-0.wav  \n",
      "  inflating: urbansound8k/fold4/156362-4-0-1.wav  \n",
      "  inflating: urbansound8k/fold4/156362-4-0-2.wav  \n",
      "  inflating: urbansound8k/fold4/156362-4-0-3.wav  \n",
      "  inflating: urbansound8k/fold4/156362-4-1-0.wav  \n",
      "  inflating: urbansound8k/fold4/156362-4-2-0.wav  \n",
      "  inflating: urbansound8k/fold4/156362-4-2-1.wav  \n",
      "  inflating: urbansound8k/fold4/156362-4-3-0.wav  \n",
      "  inflating: urbansound8k/fold4/156362-4-3-1.wav  \n",
      "  inflating: urbansound8k/fold4/156362-4-3-2.wav  \n",
      "  inflating: urbansound8k/fold4/156362-4-3-3.wav  \n",
      "  inflating: urbansound8k/fold4/156362-4-3-4.wav  \n",
      "  inflating: urbansound8k/fold4/156362-4-3-5.wav  \n",
      "  inflating: urbansound8k/fold4/156362-4-3-6.wav  \n",
      "  inflating: urbansound8k/fold4/156362-4-3-7.wav  \n",
      "  inflating: urbansound8k/fold4/156362-4-3-8.wav  \n",
      "  inflating: urbansound8k/fold4/156868-8-0-0.wav  \n",
      "  inflating: urbansound8k/fold4/156868-8-1-0.wav  \n",
      "  inflating: urbansound8k/fold4/156868-8-2-0.wav  \n",
      "  inflating: urbansound8k/fold4/156868-8-3-0.wav  \n",
      "  inflating: urbansound8k/fold4/156868-8-4-0.wav  \n",
      "  inflating: urbansound8k/fold4/156897-6-0-0.wav  \n",
      "  inflating: urbansound8k/fold4/157695-3-0-19.wav  \n",
      "  inflating: urbansound8k/fold4/157695-3-0-2.wav  \n",
      "  inflating: urbansound8k/fold4/157695-3-0-27.wav  \n",
      "  inflating: urbansound8k/fold4/157695-3-0-8.wav  \n",
      "  inflating: urbansound8k/fold4/157799-6-0-0.wav  \n",
      "  inflating: urbansound8k/fold4/158608-8-0-0.wav  \n",
      "  inflating: urbansound8k/fold4/158608-8-0-1.wav  \n",
      "  inflating: urbansound8k/fold4/158608-8-0-10.wav  \n",
      "  inflating: urbansound8k/fold4/158608-8-0-2.wav  \n",
      "  inflating: urbansound8k/fold4/158608-8-0-3.wav  \n",
      "  inflating: urbansound8k/fold4/158608-8-0-4.wav  \n",
      "  inflating: urbansound8k/fold4/158608-8-0-5.wav  \n",
      "  inflating: urbansound8k/fold4/158608-8-0-6.wav  \n",
      "  inflating: urbansound8k/fold4/158608-8-0-7.wav  \n",
      "  inflating: urbansound8k/fold4/158608-8-0-8.wav  \n",
      "  inflating: urbansound8k/fold4/158608-8-0-9.wav  \n",
      "  inflating: urbansound8k/fold4/158977-6-0-0.wav  \n",
      "  inflating: urbansound8k/fold4/159176-3-0-0.wav  \n",
      "  inflating: urbansound8k/fold4/159751-8-0-0.wav  \n",
      "  inflating: urbansound8k/fold4/159751-8-0-1.wav  \n",
      "  inflating: urbansound8k/fold4/159751-8-0-10.wav  \n",
      "  inflating: urbansound8k/fold4/159751-8-0-11.wav  \n",
      "  inflating: urbansound8k/fold4/159751-8-0-12.wav  \n",
      "  inflating: urbansound8k/fold4/159751-8-0-13.wav  \n",
      "  inflating: urbansound8k/fold4/159751-8-0-14.wav  \n",
      "  inflating: urbansound8k/fold4/159751-8-0-15.wav  \n",
      "  inflating: urbansound8k/fold4/159751-8-0-16.wav  \n",
      "  inflating: urbansound8k/fold4/159751-8-0-17.wav  \n",
      "  inflating: urbansound8k/fold4/159751-8-0-18.wav  \n",
      "  inflating: urbansound8k/fold4/159751-8-0-19.wav  \n",
      "  inflating: urbansound8k/fold4/159751-8-0-2.wav  \n",
      "  inflating: urbansound8k/fold4/159751-8-0-20.wav  \n",
      "  inflating: urbansound8k/fold4/159751-8-0-21.wav  \n",
      "  inflating: urbansound8k/fold4/159751-8-0-3.wav  \n",
      "  inflating: urbansound8k/fold4/159751-8-0-4.wav  \n",
      "  inflating: urbansound8k/fold4/159751-8-0-5.wav  \n",
      "  inflating: urbansound8k/fold4/159751-8-0-6.wav  \n",
      "  inflating: urbansound8k/fold4/159751-8-0-7.wav  \n",
      "  inflating: urbansound8k/fold4/159751-8-0-8.wav  \n",
      "  inflating: urbansound8k/fold4/159751-8-0-9.wav  \n",
      "  inflating: urbansound8k/fold4/159752-8-0-0.wav  \n",
      "  inflating: urbansound8k/fold4/159752-8-0-1.wav  \n",
      "  inflating: urbansound8k/fold4/159752-8-0-10.wav  \n",
      "  inflating: urbansound8k/fold4/159752-8-0-11.wav  \n",
      "  inflating: urbansound8k/fold4/159752-8-0-12.wav  \n",
      "  inflating: urbansound8k/fold4/159752-8-0-2.wav  \n",
      "  inflating: urbansound8k/fold4/159752-8-0-3.wav  \n",
      "  inflating: urbansound8k/fold4/159752-8-0-4.wav  \n",
      "  inflating: urbansound8k/fold4/159752-8-0-5.wav  \n",
      "  inflating: urbansound8k/fold4/159752-8-0-6.wav  \n",
      "  inflating: urbansound8k/fold4/159752-8-0-7.wav  \n",
      "  inflating: urbansound8k/fold4/159752-8-0-8.wav  \n",
      "  inflating: urbansound8k/fold4/159752-8-0-9.wav  \n",
      "  inflating: urbansound8k/fold4/159752-8-1-0.wav  \n",
      "  inflating: urbansound8k/fold4/159752-8-2-0.wav  \n",
      "  inflating: urbansound8k/fold4/159752-8-2-1.wav  \n",
      "  inflating: urbansound8k/fold4/159752-8-2-2.wav  \n",
      "  inflating: urbansound8k/fold4/159752-8-2-3.wav  \n",
      "  inflating: urbansound8k/fold4/159753-8-0-0.wav  \n",
      "  inflating: urbansound8k/fold4/159753-8-0-1.wav  \n",
      "  inflating: urbansound8k/fold4/159753-8-0-2.wav  \n",
      "  inflating: urbansound8k/fold4/159753-8-0-3.wav  \n",
      "  inflating: urbansound8k/fold4/159753-8-0-4.wav  \n",
      "  inflating: urbansound8k/fold4/159753-8-0-5.wav  \n",
      "  inflating: urbansound8k/fold4/159753-8-0-6.wav  \n",
      "  inflating: urbansound8k/fold4/161010-1-0-0.wav  \n",
      "  inflating: urbansound8k/fold4/161010-1-1-0.wav  \n",
      "  inflating: urbansound8k/fold4/161010-1-2-0.wav  \n",
      "  inflating: urbansound8k/fold4/161010-1-3-0.wav  \n",
      "  inflating: urbansound8k/fold4/162435-6-0-0.wav  \n",
      "  inflating: urbansound8k/fold4/162435-6-1-0.wav  \n",
      "  inflating: urbansound8k/fold4/162435-6-2-0.wav  \n",
      "  inflating: urbansound8k/fold4/162435-6-3-0.wav  \n",
      "  inflating: urbansound8k/fold4/165785-4-0-0.wav  \n",
      "  inflating: urbansound8k/fold4/165785-4-1-0.wav  \n",
      "  inflating: urbansound8k/fold4/165785-4-2-0.wav  \n",
      "  inflating: urbansound8k/fold4/165785-4-3-0.wav  \n",
      "  inflating: urbansound8k/fold4/165785-4-4-0.wav  \n",
      "  inflating: urbansound8k/fold4/16692-5-0-0.wav  \n",
      "  inflating: urbansound8k/fold4/16692-5-0-1.wav  \n",
      "  inflating: urbansound8k/fold4/16692-5-0-10.wav  \n",
      "  inflating: urbansound8k/fold4/16692-5-0-2.wav  \n",
      "  inflating: urbansound8k/fold4/16692-5-0-3.wav  \n",
      "  inflating: urbansound8k/fold4/16692-5-0-4.wav  \n",
      "  inflating: urbansound8k/fold4/16692-5-0-5.wav  \n",
      "  inflating: urbansound8k/fold4/16692-5-0-6.wav  \n",
      "  inflating: urbansound8k/fold4/16692-5-0-7.wav  \n",
      "  inflating: urbansound8k/fold4/16692-5-0-8.wav  \n",
      "  inflating: urbansound8k/fold4/16692-5-0-9.wav  \n",
      "  inflating: urbansound8k/fold4/166942-0-0-0.wav  \n",
      "  inflating: urbansound8k/fold4/166942-0-0-1.wav  \n",
      "  inflating: urbansound8k/fold4/166942-0-0-10.wav  \n",
      "  inflating: urbansound8k/fold4/166942-0-0-11.wav  \n",
      "  inflating: urbansound8k/fold4/166942-0-0-12.wav  \n",
      "  inflating: urbansound8k/fold4/166942-0-0-13.wav  \n",
      "  inflating: urbansound8k/fold4/166942-0-0-14.wav  \n",
      "  inflating: urbansound8k/fold4/166942-0-0-15.wav  \n",
      "  inflating: urbansound8k/fold4/166942-0-0-2.wav  \n",
      "  inflating: urbansound8k/fold4/166942-0-0-3.wav  \n",
      "  inflating: urbansound8k/fold4/166942-0-0-4.wav  \n",
      "  inflating: urbansound8k/fold4/166942-0-0-5.wav  \n",
      "  inflating: urbansound8k/fold4/166942-0-0-6.wav  \n",
      "  inflating: urbansound8k/fold4/166942-0-0-7.wav  \n",
      "  inflating: urbansound8k/fold4/166942-0-0-8.wav  \n",
      "  inflating: urbansound8k/fold4/166942-0-0-9.wav  \n",
      "  inflating: urbansound8k/fold4/169466-4-0-12.wav  \n",
      "  inflating: urbansound8k/fold4/169466-4-0-7.wav  \n",
      "  inflating: urbansound8k/fold4/169466-4-0-8.wav  \n",
      "  inflating: urbansound8k/fold4/169466-4-1-3.wav  \n",
      "  inflating: urbansound8k/fold4/169466-4-1-5.wav  \n",
      "  inflating: urbansound8k/fold4/169466-4-1-8.wav  \n",
      "  inflating: urbansound8k/fold4/169466-4-2-17.wav  \n",
      "  inflating: urbansound8k/fold4/169466-4-2-18.wav  \n",
      "  inflating: urbansound8k/fold4/169466-4-2-2.wav  \n",
      "  inflating: urbansound8k/fold4/169466-4-2-21.wav  \n",
      "  inflating: urbansound8k/fold4/169466-4-2-4.wav  \n",
      "  inflating: urbansound8k/fold4/169466-4-2-6.wav  \n",
      "  inflating: urbansound8k/fold4/169466-4-2-8.wav  \n",
      "  inflating: urbansound8k/fold4/169466-4-3-1.wav  \n",
      "  inflating: urbansound8k/fold4/169466-4-3-10.wav  \n",
      "  inflating: urbansound8k/fold4/169466-4-3-12.wav  \n",
      "  inflating: urbansound8k/fold4/169466-4-3-14.wav  \n",
      "  inflating: urbansound8k/fold4/169466-4-3-3.wav  \n",
      "  inflating: urbansound8k/fold4/169466-4-3-7.wav  \n",
      "  inflating: urbansound8k/fold4/169466-4-3-8.wav  \n",
      "  inflating: urbansound8k/fold4/169466-4-3-9.wav  \n",
      "  inflating: urbansound8k/fold4/170564-2-0-0.wav  \n",
      "  inflating: urbansound8k/fold4/170564-2-0-3.wav  \n",
      "  inflating: urbansound8k/fold4/170564-2-1-22.wav  \n",
      "  inflating: urbansound8k/fold4/170564-2-1-27.wav  \n",
      "  inflating: urbansound8k/fold4/170564-2-1-31.wav  \n",
      "  inflating: urbansound8k/fold4/170564-2-1-32.wav  \n",
      "  inflating: urbansound8k/fold4/170564-2-1-34.wav  \n",
      "  inflating: urbansound8k/fold4/170564-2-1-9.wav  \n",
      "  inflating: urbansound8k/fold4/171249-1-0-0.wav  \n",
      "  inflating: urbansound8k/fold4/171249-1-1-0.wav  \n",
      "  inflating: urbansound8k/fold4/171249-1-2-0.wav  \n",
      "  inflating: urbansound8k/fold4/171305-7-0-0.wav  \n",
      "  inflating: urbansound8k/fold4/171305-7-1-0.wav  \n",
      "  inflating: urbansound8k/fold4/171305-7-10-0.wav  \n",
      "  inflating: urbansound8k/fold4/171305-7-11-0.wav  \n",
      "  inflating: urbansound8k/fold4/171305-7-12-0.wav  \n",
      "  inflating: urbansound8k/fold4/171305-7-13-0.wav  \n",
      "  inflating: urbansound8k/fold4/171305-7-14-0.wav  \n",
      "  inflating: urbansound8k/fold4/171305-7-15-0.wav  \n",
      "  inflating: urbansound8k/fold4/171305-7-16-0.wav  \n",
      "  inflating: urbansound8k/fold4/171305-7-17-0.wav  \n",
      "  inflating: urbansound8k/fold4/171305-7-18-0.wav  \n",
      "  inflating: urbansound8k/fold4/171305-7-19-0.wav  \n",
      "  inflating: urbansound8k/fold4/171305-7-2-0.wav  \n",
      "  inflating: urbansound8k/fold4/171305-7-20-0.wav  \n",
      "  inflating: urbansound8k/fold4/171305-7-21-0.wav  \n",
      "  inflating: urbansound8k/fold4/171305-7-22-0.wav  \n",
      "  inflating: urbansound8k/fold4/171305-7-23-0.wav  \n",
      "  inflating: urbansound8k/fold4/171305-7-24-0.wav  \n",
      "  inflating: urbansound8k/fold4/171305-7-25-0.wav  \n",
      "  inflating: urbansound8k/fold4/171305-7-26-0.wav  \n",
      "  inflating: urbansound8k/fold4/171305-7-27-0.wav  \n",
      "  inflating: urbansound8k/fold4/171305-7-28-0.wav  \n",
      "  inflating: urbansound8k/fold4/171305-7-29-0.wav  \n",
      "  inflating: urbansound8k/fold4/171305-7-3-0.wav  \n",
      "  inflating: urbansound8k/fold4/171305-7-4-0.wav  \n",
      "  inflating: urbansound8k/fold4/171305-7-5-0.wav  \n",
      "  inflating: urbansound8k/fold4/171305-7-6-0.wav  \n",
      "  inflating: urbansound8k/fold4/171305-7-7-0.wav  \n",
      "  inflating: urbansound8k/fold4/171305-7-8-0.wav  \n",
      "  inflating: urbansound8k/fold4/171305-7-8-1.wav  \n",
      "  inflating: urbansound8k/fold4/171305-7-9-0.wav  \n",
      "  inflating: urbansound8k/fold4/172338-9-0-1.wav  \n",
      "  inflating: urbansound8k/fold4/172338-9-0-20.wav  \n",
      "  inflating: urbansound8k/fold4/172338-9-0-21.wav  \n",
      "  inflating: urbansound8k/fold4/172338-9-0-39.wav  \n",
      "  inflating: urbansound8k/fold4/172338-9-0-6.wav  \n",
      "  inflating: urbansound8k/fold4/172338-9-0-7.wav  \n",
      "  inflating: urbansound8k/fold4/173994-3-0-14.wav  \n",
      "  inflating: urbansound8k/fold4/173994-3-0-3.wav  \n",
      "  inflating: urbansound8k/fold4/173994-3-0-44.wav  \n",
      "  inflating: urbansound8k/fold4/173994-3-0-45.wav  \n",
      "  inflating: urbansound8k/fold4/174026-3-1-0.wav  \n",
      "  inflating: urbansound8k/fold4/174026-3-1-1.wav  \n",
      "  inflating: urbansound8k/fold4/174026-3-1-5.wav  \n",
      "  inflating: urbansound8k/fold4/174026-3-2-2.wav  \n",
      "  inflating: urbansound8k/fold4/174032-2-0-1.wav  \n",
      "  inflating: urbansound8k/fold4/174032-2-0-11.wav  \n",
      "  inflating: urbansound8k/fold4/174032-2-0-17.wav  \n",
      "  inflating: urbansound8k/fold4/174032-2-0-18.wav  \n",
      "  inflating: urbansound8k/fold4/174032-2-0-22.wav  \n",
      "  inflating: urbansound8k/fold4/174032-2-0-26.wav  \n",
      "  inflating: urbansound8k/fold4/174032-2-0-4.wav  \n",
      "  inflating: urbansound8k/fold4/17480-2-0-11.wav  \n",
      "  inflating: urbansound8k/fold4/17480-2-0-24.wav  \n",
      "  inflating: urbansound8k/fold4/17480-2-0-25.wav  \n",
      "  inflating: urbansound8k/fold4/17480-2-0-30.wav  \n",
      "  inflating: urbansound8k/fold4/17480-2-0-35.wav  \n",
      "  inflating: urbansound8k/fold4/17480-2-0-5.wav  \n",
      "  inflating: urbansound8k/fold4/17480-2-0-6.wav  \n",
      "  inflating: urbansound8k/fold4/17480-2-0-9.wav  \n",
      "  inflating: urbansound8k/fold4/174841-1-0-0.wav  \n",
      "  inflating: urbansound8k/fold4/175846-1-0-0.wav  \n",
      "  inflating: urbansound8k/fold4/175855-1-0-0.wav  \n",
      "  inflating: urbansound8k/fold4/175904-2-0-11.wav  \n",
      "  inflating: urbansound8k/fold4/175904-2-0-12.wav  \n",
      "  inflating: urbansound8k/fold4/175904-2-0-124.wav  \n",
      "  inflating: urbansound8k/fold4/175904-2-0-24.wav  \n",
      "  inflating: urbansound8k/fold4/175904-2-0-41.wav  \n",
      "  inflating: urbansound8k/fold4/175904-2-0-64.wav  \n",
      "  inflating: urbansound8k/fold4/175904-2-0-76.wav  \n",
      "  inflating: urbansound8k/fold4/175904-2-0-98.wav  \n",
      "  inflating: urbansound8k/fold4/176003-1-0-0.wav  \n",
      "  inflating: urbansound8k/fold4/176638-5-0-0.wav  \n",
      "  inflating: urbansound8k/fold4/176638-5-0-1.wav  \n",
      "  inflating: urbansound8k/fold4/176638-5-0-2.wav  \n",
      "  inflating: urbansound8k/fold4/177756-2-0-10.wav  \n",
      "  inflating: urbansound8k/fold4/177756-2-0-12.wav  \n",
      "  inflating: urbansound8k/fold4/177756-2-0-16.wav  \n",
      "  inflating: urbansound8k/fold4/177756-2-0-17.wav  \n",
      "  inflating: urbansound8k/fold4/177756-2-0-19.wav  \n",
      "  inflating: urbansound8k/fold4/177756-2-0-4.wav  \n",
      "  inflating: urbansound8k/fold4/177756-2-0-5.wav  \n",
      "  inflating: urbansound8k/fold4/177756-2-0-7.wav  \n",
      "  inflating: urbansound8k/fold4/179212-4-0-0.wav  \n",
      "  inflating: urbansound8k/fold4/179862-1-0-0.wav  \n",
      "  inflating: urbansound8k/fold4/180977-3-1-0.wav  \n",
      "  inflating: urbansound8k/fold4/180977-3-1-1.wav  \n",
      "  inflating: urbansound8k/fold4/180977-3-1-5.wav  \n",
      "  inflating: urbansound8k/fold4/183989-3-1-18.wav  \n",
      "  inflating: urbansound8k/fold4/183989-3-1-21.wav  \n",
      "  inflating: urbansound8k/fold4/183989-3-1-23.wav  \n",
      "  inflating: urbansound8k/fold4/183989-3-1-25.wav  \n",
      "  inflating: urbansound8k/fold4/185709-0-0-0.wav  \n",
      "  inflating: urbansound8k/fold4/185709-0-0-1.wav  \n",
      "  inflating: urbansound8k/fold4/185709-0-0-2.wav  \n",
      "  inflating: urbansound8k/fold4/185709-0-0-3.wav  \n",
      "  inflating: urbansound8k/fold4/185709-0-0-4.wav  \n",
      "  inflating: urbansound8k/fold4/185709-0-0-5.wav  \n",
      "  inflating: urbansound8k/fold4/185709-0-0-6.wav  \n",
      "  inflating: urbansound8k/fold4/185709-0-0-7.wav  \n",
      "  inflating: urbansound8k/fold4/185709-0-0-8.wav  \n",
      "  inflating: urbansound8k/fold4/185909-2-0-102.wav  \n",
      "  inflating: urbansound8k/fold4/185909-2-0-116.wav  \n",
      "  inflating: urbansound8k/fold4/185909-2-0-13.wav  \n",
      "  inflating: urbansound8k/fold4/185909-2-0-17.wav  \n",
      "  inflating: urbansound8k/fold4/185909-2-0-22.wav  \n",
      "  inflating: urbansound8k/fold4/185909-2-0-34.wav  \n",
      "  inflating: urbansound8k/fold4/185909-2-0-86.wav  \n",
      "  inflating: urbansound8k/fold4/185909-2-0-87.wav  \n",
      "  inflating: urbansound8k/fold4/186938-5-0-0.wav  \n",
      "  inflating: urbansound8k/fold4/187356-1-0-0.wav  \n",
      "  inflating: urbansound8k/fold4/187356-1-1-0.wav  \n",
      "  inflating: urbansound8k/fold4/187356-1-2-0.wav  \n",
      "  inflating: urbansound8k/fold4/187356-1-3-0.wav  \n",
      "  inflating: urbansound8k/fold4/187356-1-4-0.wav  \n",
      "  inflating: urbansound8k/fold4/187356-1-5-0.wav  \n",
      "  inflating: urbansound8k/fold4/187356-1-6-0.wav  \n",
      "  inflating: urbansound8k/fold4/187377-4-0-0.wav  \n",
      "  inflating: urbansound8k/fold4/187377-4-0-1.wav  \n",
      "  inflating: urbansound8k/fold4/192382-2-0-105.wav  \n",
      "  inflating: urbansound8k/fold4/192382-2-0-12.wav  \n",
      "  inflating: urbansound8k/fold4/192382-2-0-18.wav  \n",
      "  inflating: urbansound8k/fold4/192382-2-0-36.wav  \n",
      "  inflating: urbansound8k/fold4/192382-2-0-66.wav  \n",
      "  inflating: urbansound8k/fold4/192382-2-0-67.wav  \n",
      "  inflating: urbansound8k/fold4/192382-2-0-8.wav  \n",
      "  inflating: urbansound8k/fold4/192382-2-0-9.wav  \n",
      "  inflating: urbansound8k/fold4/194458-9-0-2.wav  \n",
      "  inflating: urbansound8k/fold4/194458-9-0-34.wav  \n",
      "  inflating: urbansound8k/fold4/194458-9-1-122.wav  \n",
      "  inflating: urbansound8k/fold4/194458-9-1-75.wav  \n",
      "  inflating: urbansound8k/fold4/194458-9-1-91.wav  \n",
      "  inflating: urbansound8k/fold4/195969-0-0-1.wav  \n",
      "  inflating: urbansound8k/fold4/195969-0-0-10.wav  \n",
      "  inflating: urbansound8k/fold4/195969-0-0-12.wav  \n",
      "  inflating: urbansound8k/fold4/195969-0-0-13.wav  \n",
      "  inflating: urbansound8k/fold4/195969-0-0-14.wav  \n",
      "  inflating: urbansound8k/fold4/195969-0-0-15.wav  \n",
      "  inflating: urbansound8k/fold4/195969-0-0-17.wav  \n",
      "  inflating: urbansound8k/fold4/195969-0-0-18.wav  \n",
      "  inflating: urbansound8k/fold4/195969-0-0-19.wav  \n",
      "  inflating: urbansound8k/fold4/195969-0-0-2.wav  \n",
      "  inflating: urbansound8k/fold4/195969-0-0-20.wav  \n",
      "  inflating: urbansound8k/fold4/195969-0-0-21.wav  \n",
      "  inflating: urbansound8k/fold4/195969-0-0-22.wav  \n",
      "  inflating: urbansound8k/fold4/195969-0-0-24.wav  \n",
      "  inflating: urbansound8k/fold4/195969-0-0-25.wav  \n",
      "  inflating: urbansound8k/fold4/195969-0-0-26.wav  \n",
      "  inflating: urbansound8k/fold4/195969-0-0-28.wav  \n",
      "  inflating: urbansound8k/fold4/195969-0-0-4.wav  \n",
      "  inflating: urbansound8k/fold4/195969-0-0-5.wav  \n",
      "  inflating: urbansound8k/fold4/195969-0-0-6.wav  \n",
      "  inflating: urbansound8k/fold4/195969-0-0-7.wav  \n",
      "  inflating: urbansound8k/fold4/195969-0-0-8.wav  \n",
      "  inflating: urbansound8k/fold4/195969-0-0-9.wav  \n",
      "  inflating: urbansound8k/fold4/196061-2-0-0.wav  \n",
      "  inflating: urbansound8k/fold4/196072-2-0-0.wav  \n",
      "  inflating: urbansound8k/fold4/196080-2-0-0.wav  \n",
      "  inflating: urbansound8k/fold4/199929-4-0-0.wav  \n",
      "  inflating: urbansound8k/fold4/199929-4-1-0.wav  \n",
      "  inflating: urbansound8k/fold4/199929-4-2-0.wav  \n",
      "  inflating: urbansound8k/fold4/201207-3-0-0.wav  \n",
      "  inflating: urbansound8k/fold4/201207-3-13-0.wav  \n",
      "  inflating: urbansound8k/fold4/201207-3-21-0.wav  \n",
      "  inflating: urbansound8k/fold4/201207-3-29-0.wav  \n",
      "  inflating: urbansound8k/fold4/202517-0-0-0.wav  \n",
      "  inflating: urbansound8k/fold4/203956-1-0-0.wav  \n",
      "  inflating: urbansound8k/fold4/204765-1-0-0.wav  \n",
      "  inflating: urbansound8k/fold4/206037-2-0-11.wav  \n",
      "  inflating: urbansound8k/fold4/206037-2-0-21.wav  \n",
      "  inflating: urbansound8k/fold4/206037-2-0-22.wav  \n",
      "  inflating: urbansound8k/fold4/206037-2-0-25.wav  \n",
      "  inflating: urbansound8k/fold4/206037-2-0-3.wav  \n",
      "  inflating: urbansound8k/fold4/206037-2-0-38.wav  \n",
      "  inflating: urbansound8k/fold4/206037-2-0-4.wav  \n",
      "  inflating: urbansound8k/fold4/206037-2-0-40.wav  \n",
      "  inflating: urbansound8k/fold4/20688-2-0-0.wav  \n",
      "  inflating: urbansound8k/fold4/20688-2-0-1.wav  \n",
      "  inflating: urbansound8k/fold4/20688-2-0-2.wav  \n",
      "  inflating: urbansound8k/fold4/20688-2-0-3.wav  \n",
      "  inflating: urbansound8k/fold4/20688-2-0-4.wav  \n",
      "  inflating: urbansound8k/fold4/209864-5-0-0.wav  \n",
      "  inflating: urbansound8k/fold4/209864-5-0-1.wav  \n",
      "  inflating: urbansound8k/fold4/209864-5-0-2.wav  \n",
      "  inflating: urbansound8k/fold4/209864-5-0-3.wav  \n",
      "  inflating: urbansound8k/fold4/22883-7-1-0.wav  \n",
      "  inflating: urbansound8k/fold4/22883-7-10-0.wav  \n",
      "  inflating: urbansound8k/fold4/22883-7-100-0.wav  \n",
      "  inflating: urbansound8k/fold4/22883-7-11-0.wav  \n",
      "  inflating: urbansound8k/fold4/22883-7-110-1.wav  \n",
      "  inflating: urbansound8k/fold4/22883-7-17-2.wav  \n",
      "  inflating: urbansound8k/fold4/22883-7-17-4.wav  \n",
      "  inflating: urbansound8k/fold4/22883-7-17-5.wav  \n",
      "  inflating: urbansound8k/fold4/22883-7-18-0.wav  \n",
      "  inflating: urbansound8k/fold4/22883-7-19-0.wav  \n",
      "  inflating: urbansound8k/fold4/22883-7-21-0.wav  \n",
      "  inflating: urbansound8k/fold4/22883-7-23-0.wav  \n",
      "  inflating: urbansound8k/fold4/22883-7-24-0.wav  \n",
      "  inflating: urbansound8k/fold4/22883-7-27-0.wav  \n",
      "  inflating: urbansound8k/fold4/22883-7-28-0.wav  \n",
      "  inflating: urbansound8k/fold4/22883-7-29-2.wav  \n",
      "  inflating: urbansound8k/fold4/22883-7-3-0.wav  \n",
      "  inflating: urbansound8k/fold4/22883-7-33-0.wav  \n",
      "  inflating: urbansound8k/fold4/22883-7-34-0.wav  \n",
      "  inflating: urbansound8k/fold4/22883-7-35-2.wav  \n",
      "  inflating: urbansound8k/fold4/22883-7-35-3.wav  \n",
      "  inflating: urbansound8k/fold4/22883-7-36-0.wav  \n",
      "  inflating: urbansound8k/fold4/22883-7-36-1.wav  \n",
      "  inflating: urbansound8k/fold4/22883-7-36-2.wav  \n",
      "  inflating: urbansound8k/fold4/22883-7-37-0.wav  \n",
      "  inflating: urbansound8k/fold4/22883-7-39-0.wav  \n",
      "  inflating: urbansound8k/fold4/22883-7-39-1.wav  \n",
      "  inflating: urbansound8k/fold4/22883-7-40-0.wav  \n",
      "  inflating: urbansound8k/fold4/22883-7-43-2.wav  \n",
      "  inflating: urbansound8k/fold4/22883-7-44-0.wav  \n",
      "  inflating: urbansound8k/fold4/22883-7-47-2.wav  \n",
      "  inflating: urbansound8k/fold4/22883-7-48-0.wav  \n",
      "  inflating: urbansound8k/fold4/22883-7-49-1.wav  \n",
      "  inflating: urbansound8k/fold4/22883-7-49-3.wav  \n",
      "  inflating: urbansound8k/fold4/22883-7-51-0.wav  \n",
      "  inflating: urbansound8k/fold4/22883-7-53-0.wav  \n",
      "  inflating: urbansound8k/fold4/22883-7-54-0.wav  \n",
      "  inflating: urbansound8k/fold4/22883-7-58-0.wav  \n",
      "  inflating: urbansound8k/fold4/22883-7-61-0.wav  \n",
      "  inflating: urbansound8k/fold4/22883-7-61-1.wav  \n",
      "  inflating: urbansound8k/fold4/22883-7-62-0.wav  \n",
      "  inflating: urbansound8k/fold4/22883-7-63-0.wav  \n",
      "  inflating: urbansound8k/fold4/22883-7-64-0.wav  \n",
      "  inflating: urbansound8k/fold4/22883-7-67-0.wav  \n",
      "  inflating: urbansound8k/fold4/22883-7-69-0.wav  \n",
      "  inflating: urbansound8k/fold4/22883-7-7-0.wav  \n",
      "  inflating: urbansound8k/fold4/22883-7-71-0.wav  \n",
      "  inflating: urbansound8k/fold4/22883-7-72-0.wav  \n",
      "  inflating: urbansound8k/fold4/22883-7-74-0.wav  \n",
      "  inflating: urbansound8k/fold4/22883-7-77-0.wav  \n",
      "  inflating: urbansound8k/fold4/22883-7-78-2.wav  \n",
      "  inflating: urbansound8k/fold4/22883-7-81-0.wav  \n",
      "  inflating: urbansound8k/fold4/22883-7-83-0.wav  \n",
      "  inflating: urbansound8k/fold4/22883-7-86-0.wav  \n",
      "  inflating: urbansound8k/fold4/22883-7-87-0.wav  \n",
      "  inflating: urbansound8k/fold4/22883-7-9-0.wav  \n",
      "  inflating: urbansound8k/fold4/22883-7-91-0.wav  \n",
      "  inflating: urbansound8k/fold4/22883-7-92-0.wav  \n",
      "  inflating: urbansound8k/fold4/22883-7-93-0.wav  \n",
      "  inflating: urbansound8k/fold4/22883-7-98-1.wav  \n",
      "  inflating: urbansound8k/fold4/22883-7-99-2.wav  \n",
      "  inflating: urbansound8k/fold4/22883-7-99-3.wav  \n",
      "  inflating: urbansound8k/fold4/23161-6-0-0.wav  \n",
      "  inflating: urbansound8k/fold4/23161-6-1-0.wav  \n",
      "  inflating: urbansound8k/fold4/24347-8-0-0.wav  \n",
      "  inflating: urbansound8k/fold4/24347-8-0-1.wav  \n",
      "  inflating: urbansound8k/fold4/24347-8-0-10.wav  \n",
      "  inflating: urbansound8k/fold4/24347-8-0-11.wav  \n",
      "  inflating: urbansound8k/fold4/24347-8-0-12.wav  \n",
      "  inflating: urbansound8k/fold4/24347-8-0-13.wav  \n",
      "  inflating: urbansound8k/fold4/24347-8-0-14.wav  \n",
      "  inflating: urbansound8k/fold4/24347-8-0-15.wav  \n",
      "  inflating: urbansound8k/fold4/24347-8-0-16.wav  \n",
      "  inflating: urbansound8k/fold4/24347-8-0-17.wav  \n",
      "  inflating: urbansound8k/fold4/24347-8-0-18.wav  \n",
      "  inflating: urbansound8k/fold4/24347-8-0-19.wav  \n",
      "  inflating: urbansound8k/fold4/24347-8-0-2.wav  \n",
      "  inflating: urbansound8k/fold4/24347-8-0-20.wav  \n",
      "  inflating: urbansound8k/fold4/24347-8-0-21.wav  \n",
      "  inflating: urbansound8k/fold4/24347-8-0-22.wav  \n",
      "  inflating: urbansound8k/fold4/24347-8-0-23.wav  \n",
      "  inflating: urbansound8k/fold4/24347-8-0-24.wav  \n",
      "  inflating: urbansound8k/fold4/24347-8-0-25.wav  \n",
      "  inflating: urbansound8k/fold4/24347-8-0-26.wav  \n",
      "  inflating: urbansound8k/fold4/24347-8-0-27.wav  \n",
      "  inflating: urbansound8k/fold4/24347-8-0-28.wav  \n",
      "  inflating: urbansound8k/fold4/24347-8-0-29.wav  \n",
      "  inflating: urbansound8k/fold4/24347-8-0-3.wav  \n",
      "  inflating: urbansound8k/fold4/24347-8-0-30.wav  \n",
      "  inflating: urbansound8k/fold4/24347-8-0-31.wav  \n",
      "  inflating: urbansound8k/fold4/24347-8-0-32.wav  \n",
      "  inflating: urbansound8k/fold4/24347-8-0-33.wav  \n",
      "  inflating: urbansound8k/fold4/24347-8-0-34.wav  \n",
      "  inflating: urbansound8k/fold4/24347-8-0-35.wav  \n",
      "  inflating: urbansound8k/fold4/24347-8-0-36.wav  \n",
      "  inflating: urbansound8k/fold4/24347-8-0-37.wav  \n",
      "  inflating: urbansound8k/fold4/24347-8-0-38.wav  \n",
      "  inflating: urbansound8k/fold4/24347-8-0-39.wav  \n",
      "  inflating: urbansound8k/fold4/24347-8-0-4.wav  \n",
      "  inflating: urbansound8k/fold4/24347-8-0-40.wav  \n",
      "  inflating: urbansound8k/fold4/24347-8-0-41.wav  \n",
      "  inflating: urbansound8k/fold4/24347-8-0-42.wav  \n",
      "  inflating: urbansound8k/fold4/24347-8-0-43.wav  \n",
      "  inflating: urbansound8k/fold4/24347-8-0-44.wav  \n",
      "  inflating: urbansound8k/fold4/24347-8-0-45.wav  \n",
      "  inflating: urbansound8k/fold4/24347-8-0-46.wav  \n",
      "  inflating: urbansound8k/fold4/24347-8-0-47.wav  \n",
      "  inflating: urbansound8k/fold4/24347-8-0-48.wav  \n",
      "  inflating: urbansound8k/fold4/24347-8-0-49.wav  \n",
      "  inflating: urbansound8k/fold4/24347-8-0-5.wav  \n",
      "  inflating: urbansound8k/fold4/24347-8-0-50.wav  \n",
      "  inflating: urbansound8k/fold4/24347-8-0-51.wav  \n",
      "  inflating: urbansound8k/fold4/24347-8-0-52.wav  \n",
      "  inflating: urbansound8k/fold4/24347-8-0-53.wav  \n",
      "  inflating: urbansound8k/fold4/24347-8-0-54.wav  \n",
      "  inflating: urbansound8k/fold4/24347-8-0-55.wav  \n",
      "  inflating: urbansound8k/fold4/24347-8-0-56.wav  \n",
      "  inflating: urbansound8k/fold4/24347-8-0-57.wav  \n",
      "  inflating: urbansound8k/fold4/24347-8-0-58.wav  \n",
      "  inflating: urbansound8k/fold4/24347-8-0-59.wav  \n",
      "  inflating: urbansound8k/fold4/24347-8-0-6.wav  \n",
      "  inflating: urbansound8k/fold4/24347-8-0-60.wav  \n",
      "  inflating: urbansound8k/fold4/24347-8-0-61.wav  \n",
      "  inflating: urbansound8k/fold4/24347-8-0-62.wav  \n",
      "  inflating: urbansound8k/fold4/24347-8-0-63.wav  \n",
      "  inflating: urbansound8k/fold4/24347-8-0-64.wav  \n",
      "  inflating: urbansound8k/fold4/24347-8-0-65.wav  \n",
      "  inflating: urbansound8k/fold4/24347-8-0-66.wav  \n",
      "  inflating: urbansound8k/fold4/24347-8-0-67.wav  \n",
      "  inflating: urbansound8k/fold4/24347-8-0-68.wav  \n",
      "  inflating: urbansound8k/fold4/24347-8-0-69.wav  \n",
      "  inflating: urbansound8k/fold4/24347-8-0-7.wav  \n",
      "  inflating: urbansound8k/fold4/24347-8-0-70.wav  \n",
      "  inflating: urbansound8k/fold4/24347-8-0-71.wav  \n",
      "  inflating: urbansound8k/fold4/24347-8-0-72.wav  \n",
      "  inflating: urbansound8k/fold4/24347-8-0-73.wav  \n",
      "  inflating: urbansound8k/fold4/24347-8-0-74.wav  \n",
      "  inflating: urbansound8k/fold4/24347-8-0-75.wav  \n",
      "  inflating: urbansound8k/fold4/24347-8-0-76.wav  \n",
      "  inflating: urbansound8k/fold4/24347-8-0-77.wav  \n",
      "  inflating: urbansound8k/fold4/24347-8-0-78.wav  \n",
      "  inflating: urbansound8k/fold4/24347-8-0-79.wav  \n",
      "  inflating: urbansound8k/fold4/24347-8-0-8.wav  \n",
      "  inflating: urbansound8k/fold4/24347-8-0-80.wav  \n",
      "  inflating: urbansound8k/fold4/24347-8-0-81.wav  \n",
      "  inflating: urbansound8k/fold4/24347-8-0-82.wav  \n",
      "  inflating: urbansound8k/fold4/24347-8-0-83.wav  \n",
      "  inflating: urbansound8k/fold4/24347-8-0-84.wav  \n",
      "  inflating: urbansound8k/fold4/24347-8-0-85.wav  \n",
      "  inflating: urbansound8k/fold4/24347-8-0-86.wav  \n",
      "  inflating: urbansound8k/fold4/24347-8-0-87.wav  \n",
      "  inflating: urbansound8k/fold4/24347-8-0-88.wav  \n",
      "  inflating: urbansound8k/fold4/24347-8-0-89.wav  \n",
      "  inflating: urbansound8k/fold4/24347-8-0-9.wav  \n",
      "  inflating: urbansound8k/fold4/24347-8-0-90.wav  \n",
      "  inflating: urbansound8k/fold4/24347-8-0-91.wav  \n",
      "  inflating: urbansound8k/fold4/24347-8-0-92.wav  \n",
      "  inflating: urbansound8k/fold4/24347-8-0-93.wav  \n",
      "  inflating: urbansound8k/fold4/24347-8-0-94.wav  \n",
      "  inflating: urbansound8k/fold4/24347-8-0-95.wav  \n",
      "  inflating: urbansound8k/fold4/24347-8-0-96.wav  \n",
      "  inflating: urbansound8k/fold4/24347-8-0-97.wav  \n",
      "  inflating: urbansound8k/fold4/24347-8-0-98.wav  \n",
      "  inflating: urbansound8k/fold4/24347-8-0-99.wav  \n",
      "  inflating: urbansound8k/fold4/24632-6-0-0.wav  \n",
      "  inflating: urbansound8k/fold4/24632-6-1-0.wav  \n",
      "  inflating: urbansound8k/fold4/24652-6-0-0.wav  \n",
      "  inflating: urbansound8k/fold4/26256-3-4-0.wav  \n",
      "  inflating: urbansound8k/fold4/26256-3-5-22.wav  \n",
      "  inflating: urbansound8k/fold4/26256-3-6-6.wav  \n",
      "  inflating: urbansound8k/fold4/26256-3-7-36.wav  \n",
      "  inflating: urbansound8k/fold4/29722-4-0-0.wav  \n",
      "  inflating: urbansound8k/fold4/29722-4-0-1.wav  \n",
      "  inflating: urbansound8k/fold4/29722-4-0-2.wav  \n",
      "  inflating: urbansound8k/fold4/29722-4-0-3.wav  \n",
      "  inflating: urbansound8k/fold4/29722-4-0-4.wav  \n",
      "  inflating: urbansound8k/fold4/29722-4-0-5.wav  \n",
      "  inflating: urbansound8k/fold4/29722-4-0-6.wav  \n",
      "  inflating: urbansound8k/fold4/30832-3-1-0.wav  \n",
      "  inflating: urbansound8k/fold4/30832-3-12-0.wav  \n",
      "  inflating: urbansound8k/fold4/30832-3-5-1.wav  \n",
      "  inflating: urbansound8k/fold4/30832-3-7-0.wav  \n",
      "  inflating: urbansound8k/fold4/34056-2-0-2.wav  \n",
      "  inflating: urbansound8k/fold4/34056-2-0-22.wav  \n",
      "  inflating: urbansound8k/fold4/34056-2-0-40.wav  \n",
      "  inflating: urbansound8k/fold4/34056-2-0-42.wav  \n",
      "  inflating: urbansound8k/fold4/34056-2-0-48.wav  \n",
      "  inflating: urbansound8k/fold4/34056-2-0-61.wav  \n",
      "  inflating: urbansound8k/fold4/34056-2-0-80.wav  \n",
      "  inflating: urbansound8k/fold4/344-3-0-0.wav  \n",
      "  inflating: urbansound8k/fold4/344-3-1-0.wav  \n",
      "  inflating: urbansound8k/fold4/344-3-4-0.wav  \n",
      "  inflating: urbansound8k/fold4/344-3-5-0.wav  \n",
      "  inflating: urbansound8k/fold4/34931-3-0-0.wav  \n",
      "  inflating: urbansound8k/fold4/35296-3-0-0.wav  \n",
      "  inflating: urbansound8k/fold4/35296-3-1-0.wav  \n",
      "  inflating: urbansound8k/fold4/35296-3-2-0.wav  \n",
      "  inflating: urbansound8k/fold4/35549-9-0-14.wav  \n",
      "  inflating: urbansound8k/fold4/35549-9-0-2.wav  \n",
      "  inflating: urbansound8k/fold4/35549-9-0-28.wav  \n",
      "  inflating: urbansound8k/fold4/35549-9-0-47.wav  \n",
      "  inflating: urbansound8k/fold4/35549-9-0-51.wav  \n",
      "  inflating: urbansound8k/fold4/35549-9-0-58.wav  \n",
      "  inflating: urbansound8k/fold4/35629-3-0-0.wav  \n",
      "  inflating: urbansound8k/fold4/35629-3-1-0.wav  \n",
      "  inflating: urbansound8k/fold4/35629-3-2-0.wav  \n",
      "  inflating: urbansound8k/fold4/35629-3-3-0.wav  \n",
      "  inflating: urbansound8k/fold4/35799-6-0-0.wav  \n",
      "  inflating: urbansound8k/fold4/38231-3-0-0.wav  \n",
      "  inflating: urbansound8k/fold4/38231-3-2-0.wav  \n",
      "  inflating: urbansound8k/fold4/38231-3-3-0.wav  \n",
      "  inflating: urbansound8k/fold4/38231-3-4-0.wav  \n",
      "  inflating: urbansound8k/fold4/39968-9-0-144.wav  \n",
      "  inflating: urbansound8k/fold4/39968-9-0-173.wav  \n",
      "  inflating: urbansound8k/fold4/39968-9-0-181.wav  \n",
      "  inflating: urbansound8k/fold4/39968-9-0-227.wav  \n",
      "  inflating: urbansound8k/fold4/39968-9-0-69.wav  \n",
      "  inflating: urbansound8k/fold4/39968-9-0-81.wav  \n",
      "  inflating: urbansound8k/fold4/41918-3-0-0.wav  \n",
      "  inflating: urbansound8k/fold4/41918-3-0-1.wav  \n",
      "  inflating: urbansound8k/fold4/42954-9-0-12.wav  \n",
      "  inflating: urbansound8k/fold4/42954-9-0-18.wav  \n",
      "  inflating: urbansound8k/fold4/42954-9-0-2.wav  \n",
      "  inflating: urbansound8k/fold4/42954-9-0-20.wav  \n",
      "  inflating: urbansound8k/fold4/42954-9-0-22.wav  \n",
      "  inflating: urbansound8k/fold4/42954-9-0-5.wav  \n",
      "  inflating: urbansound8k/fold4/44278-1-0-0.wav  \n",
      "  inflating: urbansound8k/fold4/44278-1-1-0.wav  \n",
      "  inflating: urbansound8k/fold4/47019-2-0-42.wav  \n",
      "  inflating: urbansound8k/fold4/47019-2-0-44.wav  \n",
      "  inflating: urbansound8k/fold4/47019-2-0-55.wav  \n",
      "  inflating: urbansound8k/fold4/47019-2-0-65.wav  \n",
      "  inflating: urbansound8k/fold4/47019-2-0-66.wav  \n",
      "  inflating: urbansound8k/fold4/47019-2-0-69.wav  \n",
      "  inflating: urbansound8k/fold4/47019-2-0-73.wav  \n",
      "  inflating: urbansound8k/fold4/47926-3-0-0.wav  \n",
      "  inflating: urbansound8k/fold4/47926-3-1-0.wav  \n",
      "  inflating: urbansound8k/fold4/47926-3-2-0.wav  \n",
      "  inflating: urbansound8k/fold4/47926-3-3-0.wav  \n",
      "  inflating: urbansound8k/fold4/50618-6-0-0.wav  \n",
      "  inflating: urbansound8k/fold4/50661-5-0-0.wav  \n",
      "  inflating: urbansound8k/fold4/50661-5-0-1.wav  \n",
      "  inflating: urbansound8k/fold4/50661-5-0-2.wav  \n",
      "  inflating: urbansound8k/fold4/50661-5-0-3.wav  \n",
      "  inflating: urbansound8k/fold4/50661-5-0-4.wav  \n",
      "  inflating: urbansound8k/fold4/50661-5-0-5.wav  \n",
      "  inflating: urbansound8k/fold4/52441-3-0-0.wav  \n",
      "  inflating: urbansound8k/fold4/52441-3-0-13.wav  \n",
      "  inflating: urbansound8k/fold4/52441-3-0-8.wav  \n",
      "  inflating: urbansound8k/fold4/52441-3-1-2.wav  \n",
      "  inflating: urbansound8k/fold4/54081-9-0-24.wav  \n",
      "  inflating: urbansound8k/fold4/54081-9-0-47.wav  \n",
      "  inflating: urbansound8k/fold4/54081-9-0-56.wav  \n",
      "  inflating: urbansound8k/fold4/54081-9-0-87.wav  \n",
      "  inflating: urbansound8k/fold4/54081-9-0-93.wav  \n",
      "  inflating: urbansound8k/fold4/54173-2-0-18.wav  \n",
      "  inflating: urbansound8k/fold4/54173-2-0-2.wav  \n",
      "  inflating: urbansound8k/fold4/54173-2-0-21.wav  \n",
      "  inflating: urbansound8k/fold4/54173-2-0-26.wav  \n",
      "  inflating: urbansound8k/fold4/54173-2-0-28.wav  \n",
      "  inflating: urbansound8k/fold4/54173-2-0-4.wav  \n",
      "  inflating: urbansound8k/fold4/54173-2-0-5.wav  \n",
      "  inflating: urbansound8k/fold4/54173-2-0-9.wav  \n",
      "  inflating: urbansound8k/fold4/55018-0-0-102.wav  \n",
      "  inflating: urbansound8k/fold4/55018-0-0-106.wav  \n",
      "  inflating: urbansound8k/fold4/55018-0-0-110.wav  \n",
      "  inflating: urbansound8k/fold4/55018-0-0-116.wav  \n",
      "  inflating: urbansound8k/fold4/55018-0-0-121.wav  \n",
      "  inflating: urbansound8k/fold4/55018-0-0-145.wav  \n",
      "  inflating: urbansound8k/fold4/55018-0-0-146.wav  \n",
      "  inflating: urbansound8k/fold4/55018-0-0-148.wav  \n",
      "  inflating: urbansound8k/fold4/55018-0-0-162.wav  \n",
      "  inflating: urbansound8k/fold4/55018-0-0-194.wav  \n",
      "  inflating: urbansound8k/fold4/55018-0-0-2.wav  \n",
      "  inflating: urbansound8k/fold4/55018-0-0-209.wav  \n",
      "  inflating: urbansound8k/fold4/55018-0-0-246.wav  \n",
      "  inflating: urbansound8k/fold4/55018-0-0-248.wav  \n",
      "  inflating: urbansound8k/fold4/55018-0-0-26.wav  \n",
      "  inflating: urbansound8k/fold4/55018-0-0-37.wav  \n",
      "  inflating: urbansound8k/fold4/55018-0-0-44.wav  \n",
      "  inflating: urbansound8k/fold4/55018-0-0-49.wav  \n",
      "  inflating: urbansound8k/fold4/55018-0-0-8.wav  \n",
      "  inflating: urbansound8k/fold4/55018-0-0-84.wav  \n",
      "  inflating: urbansound8k/fold4/55018-0-0-87.wav  \n",
      "  inflating: urbansound8k/fold4/55018-0-0-92.wav  \n",
      "  inflating: urbansound8k/fold4/55018-0-0-93.wav  \n",
      "  inflating: urbansound8k/fold4/55728-9-0-14.wav  \n",
      "  inflating: urbansound8k/fold4/55728-9-0-28.wav  \n",
      "  inflating: urbansound8k/fold4/55728-9-0-30.wav  \n",
      "  inflating: urbansound8k/fold4/55728-9-0-34.wav  \n",
      "  inflating: urbansound8k/fold4/55728-9-0-67.wav  \n",
      "  inflating: urbansound8k/fold4/55728-9-0-8.wav  \n",
      "  inflating: urbansound8k/fold4/60608-9-0-0.wav  \n",
      "  inflating: urbansound8k/fold4/60608-9-0-1.wav  \n",
      "  inflating: urbansound8k/fold4/60608-9-0-2.wav  \n",
      "  inflating: urbansound8k/fold4/60608-9-0-3.wav  \n",
      "  inflating: urbansound8k/fold4/60608-9-0-4.wav  \n",
      "  inflating: urbansound8k/fold4/60608-9-0-5.wav  \n",
      "  inflating: urbansound8k/fold4/61626-9-0-10.wav  \n",
      "  inflating: urbansound8k/fold4/61626-9-0-12.wav  \n",
      "  inflating: urbansound8k/fold4/61626-9-0-2.wav  \n",
      "  inflating: urbansound8k/fold4/61626-9-0-3.wav  \n",
      "  inflating: urbansound8k/fold4/61626-9-0-6.wav  \n",
      "  inflating: urbansound8k/fold4/61626-9-0-7.wav  \n",
      "  inflating: urbansound8k/fold4/61790-9-0-10.wav  \n",
      "  inflating: urbansound8k/fold4/61790-9-0-15.wav  \n",
      "  inflating: urbansound8k/fold4/61790-9-0-16.wav  \n",
      "  inflating: urbansound8k/fold4/61790-9-0-20.wav  \n",
      "  inflating: urbansound8k/fold4/61790-9-1-1.wav  \n",
      "  inflating: urbansound8k/fold4/61790-9-1-20.wav  \n",
      "  inflating: urbansound8k/fold4/62461-0-0-0.wav  \n",
      "  inflating: urbansound8k/fold4/62461-0-0-1.wav  \n",
      "  inflating: urbansound8k/fold4/62461-0-0-2.wav  \n",
      "  inflating: urbansound8k/fold4/62461-0-0-3.wav  \n",
      "  inflating: urbansound8k/fold4/63932-3-0-1.wav  \n",
      "  inflating: urbansound8k/fold4/63932-3-0-2.wav  \n",
      "  inflating: urbansound8k/fold4/63932-3-1-0.wav  \n",
      "  inflating: urbansound8k/fold4/63932-3-1-1.wav  \n",
      "  inflating: urbansound8k/fold4/68389-3-0-0.wav  \n",
      "  inflating: urbansound8k/fold4/68389-3-1-0.wav  \n",
      "  inflating: urbansound8k/fold4/68389-3-2-0.wav  \n",
      "  inflating: urbansound8k/fold4/7064-6-0-0.wav  \n",
      "  inflating: urbansound8k/fold4/7064-6-1-0.wav  \n",
      "  inflating: urbansound8k/fold4/7064-6-2-0.wav  \n",
      "  inflating: urbansound8k/fold4/7064-6-3-0.wav  \n",
      "  inflating: urbansound8k/fold4/7064-6-4-0.wav  \n",
      "  inflating: urbansound8k/fold4/7064-6-5-0.wav  \n",
      "  inflating: urbansound8k/fold4/72724-3-1-0.wav  \n",
      "  inflating: urbansound8k/fold4/72724-3-2-7.wav  \n",
      "  inflating: urbansound8k/fold4/72724-3-2-8.wav  \n",
      "  inflating: urbansound8k/fold4/72724-3-2-9.wav  \n",
      "  inflating: urbansound8k/fold4/72829-3-0-0.wav  \n",
      "  inflating: urbansound8k/fold4/72829-3-0-1.wav  \n",
      "  inflating: urbansound8k/fold4/72829-3-0-2.wav  \n",
      "  inflating: urbansound8k/fold4/7389-1-0-0.wav  \n",
      "  inflating: urbansound8k/fold4/7389-1-0-1.wav  \n",
      "  inflating: urbansound8k/fold4/7389-1-0-2.wav  \n",
      "  inflating: urbansound8k/fold4/7389-1-0-3.wav  \n",
      "  inflating: urbansound8k/fold4/7389-1-0-4.wav  \n",
      "  inflating: urbansound8k/fold4/7389-1-0-5.wav  \n",
      "  inflating: urbansound8k/fold4/7389-1-0-6.wav  \n",
      "  inflating: urbansound8k/fold4/7389-1-0-7.wav  \n",
      "  inflating: urbansound8k/fold4/7389-1-1-0.wav  \n",
      "  inflating: urbansound8k/fold4/7389-1-2-0.wav  \n",
      "  inflating: urbansound8k/fold4/7389-1-2-1.wav  \n",
      "  inflating: urbansound8k/fold4/7389-1-2-2.wav  \n",
      "  inflating: urbansound8k/fold4/7389-1-2-3.wav  \n",
      "  inflating: urbansound8k/fold4/7389-1-3-0.wav  \n",
      "  inflating: urbansound8k/fold4/7389-1-3-1.wav  \n",
      "  inflating: urbansound8k/fold4/7389-1-3-2.wav  \n",
      "  inflating: urbansound8k/fold4/7389-1-3-3.wav  \n",
      "  inflating: urbansound8k/fold4/7389-1-3-4.wav  \n",
      "  inflating: urbansound8k/fold4/7389-1-3-5.wav  \n",
      "  inflating: urbansound8k/fold4/7389-1-4-0.wav  \n",
      "  inflating: urbansound8k/fold4/7389-1-4-1.wav  \n",
      "  inflating: urbansound8k/fold4/7389-1-4-10.wav  \n",
      "  inflating: urbansound8k/fold4/7389-1-4-11.wav  \n",
      "  inflating: urbansound8k/fold4/7389-1-4-12.wav  \n",
      "  inflating: urbansound8k/fold4/7389-1-4-13.wav  \n",
      "  inflating: urbansound8k/fold4/7389-1-4-14.wav  \n",
      "  inflating: urbansound8k/fold4/7389-1-4-15.wav  \n",
      "  inflating: urbansound8k/fold4/7389-1-4-2.wav  \n",
      "  inflating: urbansound8k/fold4/7389-1-4-3.wav  \n",
      "  inflating: urbansound8k/fold4/7389-1-4-4.wav  \n",
      "  inflating: urbansound8k/fold4/7389-1-4-5.wav  \n",
      "  inflating: urbansound8k/fold4/7389-1-4-6.wav  \n",
      "  inflating: urbansound8k/fold4/7389-1-4-7.wav  \n",
      "  inflating: urbansound8k/fold4/7389-1-4-8.wav  \n",
      "  inflating: urbansound8k/fold4/7389-1-4-9.wav  \n",
      "  inflating: urbansound8k/fold4/74723-3-0-0.wav  \n",
      "  inflating: urbansound8k/fold4/74723-3-0-1.wav  \n",
      "  inflating: urbansound8k/fold4/74723-3-0-2.wav  \n",
      "  inflating: urbansound8k/fold4/74725-3-0-0.wav  \n",
      "  inflating: urbansound8k/fold4/74725-3-0-1.wav  \n",
      "  inflating: urbansound8k/fold4/74950-3-0-0.wav  \n",
      "  inflating: urbansound8k/fold4/74950-3-2-4.wav  \n",
      "  inflating: urbansound8k/fold4/74950-3-2-5.wav  \n",
      "  inflating: urbansound8k/fold4/76568-9-0-10.wav  \n",
      "  inflating: urbansound8k/fold4/76568-9-0-11.wav  \n",
      "  inflating: urbansound8k/fold4/76568-9-0-12.wav  \n",
      "  inflating: urbansound8k/fold4/76568-9-0-13.wav  \n",
      "  inflating: urbansound8k/fold4/76568-9-0-14.wav  \n",
      "  inflating: urbansound8k/fold4/76568-9-0-2.wav  \n",
      "  inflating: urbansound8k/fold4/76585-9-0-10.wav  \n",
      "  inflating: urbansound8k/fold4/76585-9-0-38.wav  \n",
      "  inflating: urbansound8k/fold4/76585-9-0-5.wav  \n",
      "  inflating: urbansound8k/fold4/76585-9-0-57.wav  \n",
      "  inflating: urbansound8k/fold4/76585-9-0-60.wav  \n",
      "  inflating: urbansound8k/fold4/76585-9-0-69.wav  \n",
      "  inflating: urbansound8k/fold4/81068-5-0-0.wav  \n",
      "  inflating: urbansound8k/fold4/81068-5-0-1.wav  \n",
      "  inflating: urbansound8k/fold4/81068-5-0-2.wav  \n",
      "  inflating: urbansound8k/fold4/81068-5-0-3.wav  \n",
      "  inflating: urbansound8k/fold4/81068-5-0-4.wav  \n",
      "  inflating: urbansound8k/fold4/81068-5-0-5.wav  \n",
      "  inflating: urbansound8k/fold4/81068-5-1-0.wav  \n",
      "  inflating: urbansound8k/fold4/81068-5-2-0.wav  \n",
      "  inflating: urbansound8k/fold4/84317-3-0-0.wav  \n",
      "  inflating: urbansound8k/fold4/85544-3-5-0.wav  \n",
      "  inflating: urbansound8k/fold4/85544-3-6-0.wav  \n",
      "  inflating: urbansound8k/fold4/85544-3-7-0.wav  \n",
      "  inflating: urbansound8k/fold4/94020-8-0-0.wav  \n",
      "  inflating: urbansound8k/fold4/94020-8-1-0.wav  \n",
      "  inflating: urbansound8k/fold4/95404-3-0-0.wav  \n",
      "  inflating: urbansound8k/fold4/95404-3-0-1.wav  \n",
      "  inflating: urbansound8k/fold4/95404-3-0-4.wav  \n",
      "  inflating: urbansound8k/fold4/95404-3-0-5.wav  \n",
      "  inflating: urbansound8k/fold4/99157-9-0-10.wav  \n",
      "  inflating: urbansound8k/fold4/99157-9-0-15.wav  \n",
      "  inflating: urbansound8k/fold4/99157-9-0-16.wav  \n",
      "  inflating: urbansound8k/fold4/99157-9-0-22.wav  \n",
      "  inflating: urbansound8k/fold4/99157-9-0-24.wav  \n",
      "  inflating: urbansound8k/fold4/99157-9-0-31.wav  \n",
      "  inflating: urbansound8k/fold5/100032-3-0-0.wav  \n",
      "  inflating: urbansound8k/fold5/100263-2-0-117.wav  \n",
      "  inflating: urbansound8k/fold5/100263-2-0-121.wav  \n",
      "  inflating: urbansound8k/fold5/100263-2-0-126.wav  \n",
      "  inflating: urbansound8k/fold5/100263-2-0-137.wav  \n",
      "  inflating: urbansound8k/fold5/100263-2-0-143.wav  \n",
      "  inflating: urbansound8k/fold5/100263-2-0-161.wav  \n",
      "  inflating: urbansound8k/fold5/100263-2-0-3.wav  \n",
      "  inflating: urbansound8k/fold5/100263-2-0-36.wav  \n",
      "  inflating: urbansound8k/fold5/100852-0-0-0.wav  \n",
      "  inflating: urbansound8k/fold5/100852-0-0-1.wav  \n",
      "  inflating: urbansound8k/fold5/100852-0-0-10.wav  \n",
      "  inflating: urbansound8k/fold5/100852-0-0-11.wav  \n",
      "  inflating: urbansound8k/fold5/100852-0-0-12.wav  \n",
      "  inflating: urbansound8k/fold5/100852-0-0-13.wav  \n",
      "  inflating: urbansound8k/fold5/100852-0-0-14.wav  \n",
      "  inflating: urbansound8k/fold5/100852-0-0-15.wav  \n",
      "  inflating: urbansound8k/fold5/100852-0-0-16.wav  \n",
      "  inflating: urbansound8k/fold5/100852-0-0-17.wav  \n",
      "  inflating: urbansound8k/fold5/100852-0-0-18.wav  \n",
      "  inflating: urbansound8k/fold5/100852-0-0-19.wav  \n",
      "  inflating: urbansound8k/fold5/100852-0-0-2.wav  \n",
      "  inflating: urbansound8k/fold5/100852-0-0-20.wav  \n",
      "  inflating: urbansound8k/fold5/100852-0-0-21.wav  \n",
      "  inflating: urbansound8k/fold5/100852-0-0-22.wav  \n",
      "  inflating: urbansound8k/fold5/100852-0-0-23.wav  \n",
      "  inflating: urbansound8k/fold5/100852-0-0-24.wav  \n",
      "  inflating: urbansound8k/fold5/100852-0-0-25.wav  \n",
      "  inflating: urbansound8k/fold5/100852-0-0-26.wav  \n",
      "  inflating: urbansound8k/fold5/100852-0-0-27.wav  \n",
      "  inflating: urbansound8k/fold5/100852-0-0-28.wav  \n",
      "  inflating: urbansound8k/fold5/100852-0-0-29.wav  \n",
      "  inflating: urbansound8k/fold5/100852-0-0-3.wav  \n",
      "  inflating: urbansound8k/fold5/100852-0-0-30.wav  \n",
      "  inflating: urbansound8k/fold5/100852-0-0-4.wav  \n",
      "  inflating: urbansound8k/fold5/100852-0-0-5.wav  \n",
      "  inflating: urbansound8k/fold5/100852-0-0-6.wav  \n",
      "  inflating: urbansound8k/fold5/100852-0-0-7.wav  \n",
      "  inflating: urbansound8k/fold5/100852-0-0-8.wav  \n",
      "  inflating: urbansound8k/fold5/100852-0-0-9.wav  \n",
      "  inflating: urbansound8k/fold5/102547-3-0-2.wav  \n",
      "  inflating: urbansound8k/fold5/102547-3-0-7.wav  \n",
      "  inflating: urbansound8k/fold5/102547-3-0-8.wav  \n",
      "  inflating: urbansound8k/fold5/104421-2-0-1.wav  \n",
      "  inflating: urbansound8k/fold5/104421-2-0-15.wav  \n",
      "  inflating: urbansound8k/fold5/104421-2-0-20.wav  \n",
      "  inflating: urbansound8k/fold5/104421-2-0-29.wav  \n",
      "  inflating: urbansound8k/fold5/104421-2-0-3.wav  \n",
      "  inflating: urbansound8k/fold5/104421-2-0-5.wav  \n",
      "  inflating: urbansound8k/fold5/104421-2-0-7.wav  \n",
      "  inflating: urbansound8k/fold5/104421-2-1-3.wav  \n",
      "  inflating: urbansound8k/fold5/104998-7-0-5.wav  \n",
      "  inflating: urbansound8k/fold5/104998-7-10-1.wav  \n",
      "  inflating: urbansound8k/fold5/104998-7-10-10.wav  \n",
      "  inflating: urbansound8k/fold5/104998-7-10-13.wav  \n",
      "  inflating: urbansound8k/fold5/104998-7-10-15.wav  \n",
      "  inflating: urbansound8k/fold5/104998-7-10-8.wav  \n",
      "  inflating: urbansound8k/fold5/104998-7-10-9.wav  \n",
      "  inflating: urbansound8k/fold5/104998-7-11-0.wav  \n",
      "  inflating: urbansound8k/fold5/104998-7-11-2.wav  \n",
      "  inflating: urbansound8k/fold5/104998-7-12-2.wav  \n",
      "  inflating: urbansound8k/fold5/104998-7-14-1.wav  \n",
      "  inflating: urbansound8k/fold5/104998-7-14-5.wav  \n",
      "  inflating: urbansound8k/fold5/104998-7-14-6.wav  \n",
      "  inflating: urbansound8k/fold5/104998-7-15-1.wav  \n",
      "  inflating: urbansound8k/fold5/104998-7-15-3.wav  \n",
      "  inflating: urbansound8k/fold5/104998-7-15-5.wav  \n",
      "  inflating: urbansound8k/fold5/104998-7-15-9.wav  \n",
      "  inflating: urbansound8k/fold5/104998-7-16-0.wav  \n",
      "  inflating: urbansound8k/fold5/104998-7-16-10.wav  \n",
      "  inflating: urbansound8k/fold5/104998-7-16-11.wav  \n",
      "  inflating: urbansound8k/fold5/104998-7-16-5.wav  \n",
      "  inflating: urbansound8k/fold5/104998-7-16-6.wav  \n",
      "  inflating: urbansound8k/fold5/104998-7-16-7.wav  \n",
      "  inflating: urbansound8k/fold5/104998-7-17-0.wav  \n",
      "  inflating: urbansound8k/fold5/104998-7-17-1.wav  \n",
      "  inflating: urbansound8k/fold5/104998-7-17-12.wav  \n",
      "  inflating: urbansound8k/fold5/104998-7-17-14.wav  \n",
      "  inflating: urbansound8k/fold5/104998-7-17-4.wav  \n",
      "  inflating: urbansound8k/fold5/104998-7-17-7.wav  \n",
      "  inflating: urbansound8k/fold5/104998-7-17-8.wav  \n",
      "  inflating: urbansound8k/fold5/104998-7-18-12.wav  \n",
      "  inflating: urbansound8k/fold5/104998-7-18-13.wav  \n",
      "  inflating: urbansound8k/fold5/104998-7-18-3.wav  \n",
      "  inflating: urbansound8k/fold5/104998-7-18-9.wav  \n",
      "  inflating: urbansound8k/fold5/104998-7-19-0.wav  \n",
      "  inflating: urbansound8k/fold5/104998-7-19-3.wav  \n",
      "  inflating: urbansound8k/fold5/104998-7-19-6.wav  \n",
      "  inflating: urbansound8k/fold5/104998-7-19-7.wav  \n",
      "  inflating: urbansound8k/fold5/104998-7-19-8.wav  \n",
      "  inflating: urbansound8k/fold5/104998-7-19-9.wav  \n",
      "  inflating: urbansound8k/fold5/104998-7-2-4.wav  \n",
      "  inflating: urbansound8k/fold5/104998-7-2-5.wav  \n",
      "  inflating: urbansound8k/fold5/104998-7-2-6.wav  \n",
      "  inflating: urbansound8k/fold5/104998-7-3-1.wav  \n",
      "  inflating: urbansound8k/fold5/104998-7-7-0.wav  \n",
      "  inflating: urbansound8k/fold5/104998-7-7-1.wav  \n",
      "  inflating: urbansound8k/fold5/104998-7-7-4.wav  \n",
      "  inflating: urbansound8k/fold5/104998-7-7-7.wav  \n",
      "  inflating: urbansound8k/fold5/104998-7-7-9.wav  \n",
      "  inflating: urbansound8k/fold5/104998-7-8-13.wav  \n",
      "  inflating: urbansound8k/fold5/104998-7-8-14.wav  \n",
      "  inflating: urbansound8k/fold5/104998-7-8-15.wav  \n",
      "  inflating: urbansound8k/fold5/104998-7-8-17.wav  \n",
      "  inflating: urbansound8k/fold5/104998-7-8-4.wav  \n",
      "  inflating: urbansound8k/fold5/104998-7-8-6.wav  \n",
      "  inflating: urbansound8k/fold5/104998-7-8-7.wav  \n",
      "  inflating: urbansound8k/fold5/104998-7-9-0.wav  \n",
      "  inflating: urbansound8k/fold5/104998-7-9-13.wav  \n",
      "  inflating: urbansound8k/fold5/104998-7-9-9.wav  \n",
      "  inflating: urbansound8k/fold5/105425-9-0-1.wav  \n",
      "  inflating: urbansound8k/fold5/105425-9-0-10.wav  \n",
      "  inflating: urbansound8k/fold5/105425-9-0-12.wav  \n",
      "  inflating: urbansound8k/fold5/105425-9-0-13.wav  \n",
      "  inflating: urbansound8k/fold5/105425-9-0-14.wav  \n",
      "  inflating: urbansound8k/fold5/105425-9-0-23.wav  \n",
      "  inflating: urbansound8k/fold5/106487-5-0-0.wav  \n",
      "  inflating: urbansound8k/fold5/106487-5-0-1.wav  \n",
      "  inflating: urbansound8k/fold5/106487-5-0-2.wav  \n",
      "  inflating: urbansound8k/fold5/108357-9-0-15.wav  \n",
      "  inflating: urbansound8k/fold5/108357-9-0-2.wav  \n",
      "  inflating: urbansound8k/fold5/108357-9-0-27.wav  \n",
      "  inflating: urbansound8k/fold5/108357-9-0-30.wav  \n",
      "  inflating: urbansound8k/fold5/108357-9-0-44.wav  \n",
      "  inflating: urbansound8k/fold5/108357-9-0-49.wav  \n",
      "  inflating: urbansound8k/fold5/109263-9-0-34.wav  \n",
      "  inflating: urbansound8k/fold5/109263-9-0-39.wav  \n",
      "  inflating: urbansound8k/fold5/109263-9-0-54.wav  \n",
      "  inflating: urbansound8k/fold5/109263-9-0-61.wav  \n",
      "  inflating: urbansound8k/fold5/109263-9-0-78.wav  \n",
      "  inflating: urbansound8k/fold5/110371-3-0-1.wav  \n",
      "  inflating: urbansound8k/fold5/110371-3-1-0.wav  \n",
      "  inflating: urbansound8k/fold5/110371-3-1-1.wav  \n",
      "  inflating: urbansound8k/fold5/111671-8-0-0.wav  \n",
      "  inflating: urbansound8k/fold5/111671-8-0-1.wav  \n",
      "  inflating: urbansound8k/fold5/111671-8-0-10.wav  \n",
      "  inflating: urbansound8k/fold5/111671-8-0-11.wav  \n",
      "  inflating: urbansound8k/fold5/111671-8-0-12.wav  \n",
      "  inflating: urbansound8k/fold5/111671-8-0-13.wav  \n",
      "  inflating: urbansound8k/fold5/111671-8-0-14.wav  \n",
      "  inflating: urbansound8k/fold5/111671-8-0-15.wav  \n",
      "  inflating: urbansound8k/fold5/111671-8-0-16.wav  \n",
      "  inflating: urbansound8k/fold5/111671-8-0-17.wav  \n",
      "  inflating: urbansound8k/fold5/111671-8-0-18.wav  \n",
      "  inflating: urbansound8k/fold5/111671-8-0-19.wav  \n",
      "  inflating: urbansound8k/fold5/111671-8-0-2.wav  \n",
      "  inflating: urbansound8k/fold5/111671-8-0-20.wav  \n",
      "  inflating: urbansound8k/fold5/111671-8-0-21.wav  \n",
      "  inflating: urbansound8k/fold5/111671-8-0-22.wav  \n",
      "  inflating: urbansound8k/fold5/111671-8-0-3.wav  \n",
      "  inflating: urbansound8k/fold5/111671-8-0-4.wav  \n",
      "  inflating: urbansound8k/fold5/111671-8-0-5.wav  \n",
      "  inflating: urbansound8k/fold5/111671-8-0-6.wav  \n",
      "  inflating: urbansound8k/fold5/111671-8-0-7.wav  \n",
      "  inflating: urbansound8k/fold5/111671-8-0-8.wav  \n",
      "  inflating: urbansound8k/fold5/111671-8-0-9.wav  \n",
      "  inflating: urbansound8k/fold5/113601-9-0-22.wav  \n",
      "  inflating: urbansound8k/fold5/113601-9-0-3.wav  \n",
      "  inflating: urbansound8k/fold5/113601-9-0-33.wav  \n",
      "  inflating: urbansound8k/fold5/113601-9-0-34.wav  \n",
      "  inflating: urbansound8k/fold5/113601-9-0-35.wav  \n",
      "  inflating: urbansound8k/fold5/113601-9-0-42.wav  \n",
      "  inflating: urbansound8k/fold5/115239-9-0-0.wav  \n",
      "  inflating: urbansound8k/fold5/115239-9-0-1.wav  \n",
      "  inflating: urbansound8k/fold5/115239-9-0-2.wav  \n",
      "  inflating: urbansound8k/fold5/115239-9-0-3.wav  \n",
      "  inflating: urbansound8k/fold5/115239-9-0-4.wav  \n",
      "  inflating: urbansound8k/fold5/115239-9-0-5.wav  \n",
      "  inflating: urbansound8k/fold5/116163-3-0-0.wav  \n",
      "  inflating: urbansound8k/fold5/116163-3-1-0.wav  \n",
      "  inflating: urbansound8k/fold5/116163-3-2-0.wav  \n",
      "  inflating: urbansound8k/fold5/118440-4-0-0.wav  \n",
      "  inflating: urbansound8k/fold5/118440-4-1-0.wav  \n",
      "  inflating: urbansound8k/fold5/118440-4-2-0.wav  \n",
      "  inflating: urbansound8k/fold5/118440-4-3-0.wav  \n",
      "  inflating: urbansound8k/fold5/118440-4-4-0.wav  \n",
      "  inflating: urbansound8k/fold5/118440-4-5-0.wav  \n",
      "  inflating: urbansound8k/fold5/118440-4-6-0.wav  \n",
      "  inflating: urbansound8k/fold5/118440-4-7-0.wav  \n",
      "  inflating: urbansound8k/fold5/118440-4-8-0.wav  \n",
      "  inflating: urbansound8k/fold5/121286-0-0-0.wav  \n",
      "  inflating: urbansound8k/fold5/121286-0-0-1.wav  \n",
      "  inflating: urbansound8k/fold5/121286-0-0-10.wav  \n",
      "  inflating: urbansound8k/fold5/121286-0-0-11.wav  \n",
      "  inflating: urbansound8k/fold5/121286-0-0-12.wav  \n",
      "  inflating: urbansound8k/fold5/121286-0-0-13.wav  \n",
      "  inflating: urbansound8k/fold5/121286-0-0-14.wav  \n",
      "  inflating: urbansound8k/fold5/121286-0-0-15.wav  \n",
      "  inflating: urbansound8k/fold5/121286-0-0-2.wav  \n",
      "  inflating: urbansound8k/fold5/121286-0-0-3.wav  \n",
      "  inflating: urbansound8k/fold5/121286-0-0-4.wav  \n",
      "  inflating: urbansound8k/fold5/121286-0-0-5.wav  \n",
      "  inflating: urbansound8k/fold5/121286-0-0-6.wav  \n",
      "  inflating: urbansound8k/fold5/121286-0-0-7.wav  \n",
      "  inflating: urbansound8k/fold5/121286-0-0-8.wav  \n",
      "  inflating: urbansound8k/fold5/121286-0-0-9.wav  \n",
      "  inflating: urbansound8k/fold5/121299-1-0-0.wav  \n",
      "  inflating: urbansound8k/fold5/126521-3-0-12.wav  \n",
      "  inflating: urbansound8k/fold5/126521-3-0-17.wav  \n",
      "  inflating: urbansound8k/fold5/126521-3-0-18.wav  \n",
      "  inflating: urbansound8k/fold5/126521-3-0-2.wav  \n",
      "  inflating: urbansound8k/fold5/128152-9-0-10.wav  \n",
      "  inflating: urbansound8k/fold5/128152-9-0-126.wav  \n",
      "  inflating: urbansound8k/fold5/128152-9-0-167.wav  \n",
      "  inflating: urbansound8k/fold5/128152-9-0-48.wav  \n",
      "  inflating: urbansound8k/fold5/128152-9-0-49.wav  \n",
      "  inflating: urbansound8k/fold5/128152-9-0-67.wav  \n",
      "  inflating: urbansound8k/fold5/131199-3-0-0.wav  \n",
      "  inflating: urbansound8k/fold5/13577-3-0-0.wav  \n",
      "  inflating: urbansound8k/fold5/13577-3-0-2.wav  \n",
      "  inflating: urbansound8k/fold5/13577-3-5-0.wav  \n",
      "  inflating: urbansound8k/fold5/139665-9-0-19.wav  \n",
      "  inflating: urbansound8k/fold5/139665-9-0-23.wav  \n",
      "  inflating: urbansound8k/fold5/139665-9-0-25.wav  \n",
      "  inflating: urbansound8k/fold5/139665-9-0-32.wav  \n",
      "  inflating: urbansound8k/fold5/139665-9-0-8.wav  \n",
      "  inflating: urbansound8k/fold5/139665-9-0-9.wav  \n",
      "  inflating: urbansound8k/fold5/139948-3-0-0.wav  \n",
      "  inflating: urbansound8k/fold5/139948-3-1-0.wav  \n",
      "  inflating: urbansound8k/fold5/139948-3-2-0.wav  \n",
      "  inflating: urbansound8k/fold5/139948-3-4-0.wav  \n",
      "  inflating: urbansound8k/fold5/145609-6-0-0.wav  \n",
      "  inflating: urbansound8k/fold5/145609-6-1-0.wav  \n",
      "  inflating: urbansound8k/fold5/145611-6-0-0.wav  \n",
      "  inflating: urbansound8k/fold5/145611-6-1-0.wav  \n",
      "  inflating: urbansound8k/fold5/145611-6-2-0.wav  \n",
      "  inflating: urbansound8k/fold5/145611-6-3-0.wav  \n",
      "  inflating: urbansound8k/fold5/145611-6-4-0.wav  \n",
      "  inflating: urbansound8k/fold5/148841-6-0-0.wav  \n",
      "  inflating: urbansound8k/fold5/148841-6-1-0.wav  \n",
      "  inflating: urbansound8k/fold5/148841-6-2-0.wav  \n",
      "  inflating: urbansound8k/fold5/155243-9-0-18.wav  \n",
      "  inflating: urbansound8k/fold5/155243-9-0-24.wav  \n",
      "  inflating: urbansound8k/fold5/155243-9-0-32.wav  \n",
      "  inflating: urbansound8k/fold5/155243-9-0-42.wav  \n",
      "  inflating: urbansound8k/fold5/155243-9-0-53.wav  \n",
      "  inflating: urbansound8k/fold5/155243-9-0-55.wav  \n",
      "  inflating: urbansound8k/fold5/156634-5-0-0.wav  \n",
      "  inflating: urbansound8k/fold5/156634-5-0-1.wav  \n",
      "  inflating: urbansound8k/fold5/156634-5-0-10.wav  \n",
      "  inflating: urbansound8k/fold5/156634-5-0-11.wav  \n",
      "  inflating: urbansound8k/fold5/156634-5-0-12.wav  \n",
      "  inflating: urbansound8k/fold5/156634-5-0-2.wav  \n",
      "  inflating: urbansound8k/fold5/156634-5-0-3.wav  \n",
      "  inflating: urbansound8k/fold5/156634-5-0-4.wav  \n",
      "  inflating: urbansound8k/fold5/156634-5-0-5.wav  \n",
      "  inflating: urbansound8k/fold5/156634-5-0-6.wav  \n",
      "  inflating: urbansound8k/fold5/156634-5-0-7.wav  \n",
      "  inflating: urbansound8k/fold5/156634-5-0-8.wav  \n",
      "  inflating: urbansound8k/fold5/156634-5-0-9.wav  \n",
      "  inflating: urbansound8k/fold5/156634-5-1-0.wav  \n",
      "  inflating: urbansound8k/fold5/156634-5-2-0.wav  \n",
      "  inflating: urbansound8k/fold5/156634-5-2-1.wav  \n",
      "  inflating: urbansound8k/fold5/156634-5-2-2.wav  \n",
      "  inflating: urbansound8k/fold5/156634-5-2-3.wav  \n",
      "  inflating: urbansound8k/fold5/156634-5-2-4.wav  \n",
      "  inflating: urbansound8k/fold5/156634-5-2-5.wav  \n",
      "  inflating: urbansound8k/fold5/156634-5-2-6.wav  \n",
      "  inflating: urbansound8k/fold5/156634-5-2-7.wav  \n",
      "  inflating: urbansound8k/fold5/156634-5-2-8.wav  \n",
      "  inflating: urbansound8k/fold5/156869-8-0-0.wav  \n",
      "  inflating: urbansound8k/fold5/156869-8-0-1.wav  \n",
      "  inflating: urbansound8k/fold5/156869-8-0-10.wav  \n",
      "  inflating: urbansound8k/fold5/156869-8-0-11.wav  \n",
      "  inflating: urbansound8k/fold5/156869-8-0-2.wav  \n",
      "  inflating: urbansound8k/fold5/156869-8-0-3.wav  \n",
      "  inflating: urbansound8k/fold5/156869-8-0-4.wav  \n",
      "  inflating: urbansound8k/fold5/156869-8-0-5.wav  \n",
      "  inflating: urbansound8k/fold5/156869-8-0-6.wav  \n",
      "  inflating: urbansound8k/fold5/156869-8-0-7.wav  \n",
      "  inflating: urbansound8k/fold5/156869-8-0-8.wav  \n",
      "  inflating: urbansound8k/fold5/156869-8-0-9.wav  \n",
      "  inflating: urbansound8k/fold5/157648-8-0-0.wav  \n",
      "  inflating: urbansound8k/fold5/159439-2-0-0.wav  \n",
      "  inflating: urbansound8k/fold5/159439-2-0-10.wav  \n",
      "  inflating: urbansound8k/fold5/159439-2-0-11.wav  \n",
      "  inflating: urbansound8k/fold5/159439-2-0-19.wav  \n",
      "  inflating: urbansound8k/fold5/159439-2-0-21.wav  \n",
      "  inflating: urbansound8k/fold5/159439-2-0-29.wav  \n",
      "  inflating: urbansound8k/fold5/159439-2-0-30.wav  \n",
      "  inflating: urbansound8k/fold5/159701-6-0-0.wav  \n",
      "  inflating: urbansound8k/fold5/159701-6-1-0.wav  \n",
      "  inflating: urbansound8k/fold5/159701-6-2-0.wav  \n",
      "  inflating: urbansound8k/fold5/159701-6-3-0.wav  \n",
      "  inflating: urbansound8k/fold5/159701-6-4-0.wav  \n",
      "  inflating: urbansound8k/fold5/159701-6-5-0.wav  \n",
      "  inflating: urbansound8k/fold5/159701-6-6-0.wav  \n",
      "  inflating: urbansound8k/fold5/159703-6-0-0.wav  \n",
      "  inflating: urbansound8k/fold5/159754-8-0-0.wav  \n",
      "  inflating: urbansound8k/fold5/159754-8-1-0.wav  \n",
      "  inflating: urbansound8k/fold5/159754-8-2-0.wav  \n",
      "  inflating: urbansound8k/fold5/159754-8-3-0.wav  \n",
      "  inflating: urbansound8k/fold5/159754-8-4-0.wav  \n",
      "  inflating: urbansound8k/fold5/160010-2-0-19.wav  \n",
      "  inflating: urbansound8k/fold5/160010-2-0-21.wav  \n",
      "  inflating: urbansound8k/fold5/160010-2-0-30.wav  \n",
      "  inflating: urbansound8k/fold5/160010-2-0-32.wav  \n",
      "  inflating: urbansound8k/fold5/160010-2-0-33.wav  \n",
      "  inflating: urbansound8k/fold5/160010-2-0-37.wav  \n",
      "  inflating: urbansound8k/fold5/160010-2-0-38.wav  \n",
      "  inflating: urbansound8k/fold5/160010-2-0-49.wav  \n",
      "  inflating: urbansound8k/fold5/162318-2-0-17.wav  \n",
      "  inflating: urbansound8k/fold5/162318-2-0-25.wav  \n",
      "  inflating: urbansound8k/fold5/162318-2-0-34.wav  \n",
      "  inflating: urbansound8k/fold5/162318-2-0-38.wav  \n",
      "  inflating: urbansound8k/fold5/162318-2-0-39.wav  \n",
      "  inflating: urbansound8k/fold5/162318-2-0-40.wav  \n",
      "  inflating: urbansound8k/fold5/162318-2-0-55.wav  \n",
      "  inflating: urbansound8k/fold5/162318-2-0-7.wav  \n",
      "  inflating: urbansound8k/fold5/162432-6-0-0.wav  \n",
      "  inflating: urbansound8k/fold5/162432-6-1-0.wav  \n",
      "  inflating: urbansound8k/fold5/162432-6-10-0.wav  \n",
      "  inflating: urbansound8k/fold5/162432-6-11-0.wav  \n",
      "  inflating: urbansound8k/fold5/162432-6-12-0.wav  \n",
      "  inflating: urbansound8k/fold5/162432-6-13-0.wav  \n",
      "  inflating: urbansound8k/fold5/162432-6-14-0.wav  \n",
      "  inflating: urbansound8k/fold5/162432-6-2-0.wav  \n",
      "  inflating: urbansound8k/fold5/162432-6-3-0.wav  \n",
      "  inflating: urbansound8k/fold5/162432-6-4-0.wav  \n",
      "  inflating: urbansound8k/fold5/162432-6-5-0.wav  \n",
      "  inflating: urbansound8k/fold5/162432-6-6-0.wav  \n",
      "  inflating: urbansound8k/fold5/162432-6-7-0.wav  \n",
      "  inflating: urbansound8k/fold5/162432-6-8-0.wav  \n",
      "  inflating: urbansound8k/fold5/162432-6-9-0.wav  \n",
      "  inflating: urbansound8k/fold5/164344-9-0-0.wav  \n",
      "  inflating: urbansound8k/fold5/164344-9-0-26.wav  \n",
      "  inflating: urbansound8k/fold5/164344-9-0-38.wav  \n",
      "  inflating: urbansound8k/fold5/164344-9-0-39.wav  \n",
      "  inflating: urbansound8k/fold5/164344-9-0-40.wav  \n",
      "  inflating: urbansound8k/fold5/164344-9-0-44.wav  \n",
      "  inflating: urbansound8k/fold5/164667-6-0-0.wav  \n",
      "  inflating: urbansound8k/fold5/164782-8-0-0.wav  \n",
      "  inflating: urbansound8k/fold5/164782-8-0-1.wav  \n",
      "  inflating: urbansound8k/fold5/164782-8-0-2.wav  \n",
      "  inflating: urbansound8k/fold5/164782-8-0-3.wav  \n",
      "  inflating: urbansound8k/fold5/164782-8-0-4.wav  \n",
      "  inflating: urbansound8k/fold5/164782-8-0-5.wav  \n",
      "  inflating: urbansound8k/fold5/164782-8-0-6.wav  \n",
      "  inflating: urbansound8k/fold5/164782-8-0-7.wav  \n",
      "  inflating: urbansound8k/fold5/165774-7-0-0.wav  \n",
      "  inflating: urbansound8k/fold5/165774-7-1-0.wav  \n",
      "  inflating: urbansound8k/fold5/165774-7-2-0.wav  \n",
      "  inflating: urbansound8k/fold5/165774-7-3-0.wav  \n",
      "  inflating: urbansound8k/fold5/165774-7-4-0.wav  \n",
      "  inflating: urbansound8k/fold5/165774-7-5-0.wav  \n",
      "  inflating: urbansound8k/fold5/165774-7-6-0.wav  \n",
      "  inflating: urbansound8k/fold5/165774-7-7-0.wav  \n",
      "  inflating: urbansound8k/fold5/165774-7-8-0.wav  \n",
      "  inflating: urbansound8k/fold5/170245-0-0-0.wav  \n",
      "  inflating: urbansound8k/fold5/171388-9-0-202.wav  \n",
      "  inflating: urbansound8k/fold5/171388-9-0-225.wav  \n",
      "  inflating: urbansound8k/fold5/171388-9-0-246.wav  \n",
      "  inflating: urbansound8k/fold5/171388-9-0-253.wav  \n",
      "  inflating: urbansound8k/fold5/171388-9-0-43.wav  \n",
      "  inflating: urbansound8k/fold5/171388-9-0-88.wav  \n",
      "  inflating: urbansound8k/fold5/172460-9-0-100.wav  \n",
      "  inflating: urbansound8k/fold5/172460-9-0-101.wav  \n",
      "  inflating: urbansound8k/fold5/172460-9-0-24.wav  \n",
      "  inflating: urbansound8k/fold5/172460-9-0-31.wav  \n",
      "  inflating: urbansound8k/fold5/172460-9-0-91.wav  \n",
      "  inflating: urbansound8k/fold5/172460-9-0-94.wav  \n",
      "  inflating: urbansound8k/fold5/173993-3-0-25.wav  \n",
      "  inflating: urbansound8k/fold5/173993-3-0-39.wav  \n",
      "  inflating: urbansound8k/fold5/173993-3-0-51.wav  \n",
      "  inflating: urbansound8k/fold5/173993-3-0-52.wav  \n",
      "  inflating: urbansound8k/fold5/17578-5-0-0.wav  \n",
      "  inflating: urbansound8k/fold5/17578-5-0-1.wav  \n",
      "  inflating: urbansound8k/fold5/17578-5-0-10.wav  \n",
      "  inflating: urbansound8k/fold5/17578-5-0-11.wav  \n",
      "  inflating: urbansound8k/fold5/17578-5-0-12.wav  \n",
      "  inflating: urbansound8k/fold5/17578-5-0-14.wav  \n",
      "  inflating: urbansound8k/fold5/17578-5-0-15.wav  \n",
      "  inflating: urbansound8k/fold5/17578-5-0-16.wav  \n",
      "  inflating: urbansound8k/fold5/17578-5-0-18.wav  \n",
      "  inflating: urbansound8k/fold5/17578-5-0-2.wav  \n",
      "  inflating: urbansound8k/fold5/17578-5-0-21.wav  \n",
      "  inflating: urbansound8k/fold5/17578-5-0-22.wav  \n",
      "  inflating: urbansound8k/fold5/17578-5-0-23.wav  \n",
      "  inflating: urbansound8k/fold5/17578-5-0-24.wav  \n",
      "  inflating: urbansound8k/fold5/17578-5-0-25.wav  \n",
      "  inflating: urbansound8k/fold5/17578-5-0-26.wav  \n",
      "  inflating: urbansound8k/fold5/17578-5-0-27.wav  \n",
      "  inflating: urbansound8k/fold5/17578-5-0-28.wav  \n",
      "  inflating: urbansound8k/fold5/17578-5-0-29.wav  \n",
      "  inflating: urbansound8k/fold5/17578-5-0-3.wav  \n",
      "  inflating: urbansound8k/fold5/17578-5-0-30.wav  \n",
      "  inflating: urbansound8k/fold5/17578-5-0-31.wav  \n",
      "  inflating: urbansound8k/fold5/17578-5-0-32.wav  \n",
      "  inflating: urbansound8k/fold5/17578-5-0-33.wav  \n",
      "  inflating: urbansound8k/fold5/17578-5-0-34.wav  \n",
      "  inflating: urbansound8k/fold5/17578-5-0-35.wav  \n",
      "  inflating: urbansound8k/fold5/17578-5-0-4.wav  \n",
      "  inflating: urbansound8k/fold5/17578-5-0-5.wav  \n",
      "  inflating: urbansound8k/fold5/17578-5-0-6.wav  \n",
      "  inflating: urbansound8k/fold5/17578-5-0-7.wav  \n",
      "  inflating: urbansound8k/fold5/17578-5-0-8.wav  \n",
      "  inflating: urbansound8k/fold5/17578-5-0-9.wav  \n",
      "  inflating: urbansound8k/fold5/175849-1-0-0.wav  \n",
      "  inflating: urbansound8k/fold5/178099-9-0-0.wav  \n",
      "  inflating: urbansound8k/fold5/178099-9-0-1.wav  \n",
      "  inflating: urbansound8k/fold5/178099-9-0-10.wav  \n",
      "  inflating: urbansound8k/fold5/178099-9-0-12.wav  \n",
      "  inflating: urbansound8k/fold5/178099-9-0-6.wav  \n",
      "  inflating: urbansound8k/fold5/178099-9-0-7.wav  \n",
      "  inflating: urbansound8k/fold5/178260-7-0-0.wav  \n",
      "  inflating: urbansound8k/fold5/178260-7-1-0.wav  \n",
      "  inflating: urbansound8k/fold5/178260-7-1-1.wav  \n",
      "  inflating: urbansound8k/fold5/178260-7-1-10.wav  \n",
      "  inflating: urbansound8k/fold5/178260-7-1-2.wav  \n",
      "  inflating: urbansound8k/fold5/178260-7-1-3.wav  \n",
      "  inflating: urbansound8k/fold5/178260-7-1-4.wav  \n",
      "  inflating: urbansound8k/fold5/178260-7-1-5.wav  \n",
      "  inflating: urbansound8k/fold5/178260-7-1-6.wav  \n",
      "  inflating: urbansound8k/fold5/178260-7-1-7.wav  \n",
      "  inflating: urbansound8k/fold5/178260-7-1-8.wav  \n",
      "  inflating: urbansound8k/fold5/178260-7-1-9.wav  \n",
      "  inflating: urbansound8k/fold5/178260-7-2-0.wav  \n",
      "  inflating: urbansound8k/fold5/178260-7-2-1.wav  \n",
      "  inflating: urbansound8k/fold5/178260-7-2-2.wav  \n",
      "  inflating: urbansound8k/fold5/178260-7-3-0.wav  \n",
      "  inflating: urbansound8k/fold5/178260-7-3-1.wav  \n",
      "  inflating: urbansound8k/fold5/178260-7-3-10.wav  \n",
      "  inflating: urbansound8k/fold5/178260-7-3-11.wav  \n",
      "  inflating: urbansound8k/fold5/178260-7-3-12.wav  \n",
      "  inflating: urbansound8k/fold5/178260-7-3-2.wav  \n",
      "  inflating: urbansound8k/fold5/178260-7-3-3.wav  \n",
      "  inflating: urbansound8k/fold5/178260-7-3-4.wav  \n",
      "  inflating: urbansound8k/fold5/178260-7-3-5.wav  \n",
      "  inflating: urbansound8k/fold5/178260-7-3-6.wav  \n",
      "  inflating: urbansound8k/fold5/178260-7-3-7.wav  \n",
      "  inflating: urbansound8k/fold5/178260-7-3-8.wav  \n",
      "  inflating: urbansound8k/fold5/178260-7-3-9.wav  \n",
      "  inflating: urbansound8k/fold5/178260-7-4-0.wav  \n",
      "  inflating: urbansound8k/fold5/178260-7-4-1.wav  \n",
      "  inflating: urbansound8k/fold5/178260-7-5-0.wav  \n",
      "  inflating: urbansound8k/fold5/178260-7-6-0.wav  \n",
      "  inflating: urbansound8k/fold5/178260-7-7-0.wav  \n",
      "  inflating: urbansound8k/fold5/178497-3-0-1.wav  \n",
      "  inflating: urbansound8k/fold5/178497-3-0-3.wav  \n",
      "  inflating: urbansound8k/fold5/178497-3-0-4.wav  \n",
      "  inflating: urbansound8k/fold5/178497-3-0-6.wav  \n",
      "  inflating: urbansound8k/fold5/178686-0-0-1.wav  \n",
      "  inflating: urbansound8k/fold5/178686-0-0-11.wav  \n",
      "  inflating: urbansound8k/fold5/178686-0-0-12.wav  \n",
      "  inflating: urbansound8k/fold5/178686-0-0-14.wav  \n",
      "  inflating: urbansound8k/fold5/178686-0-0-15.wav  \n",
      "  inflating: urbansound8k/fold5/178686-0-0-16.wav  \n",
      "  inflating: urbansound8k/fold5/178686-0-0-17.wav  \n",
      "  inflating: urbansound8k/fold5/178686-0-0-18.wav  \n",
      "  inflating: urbansound8k/fold5/178686-0-0-19.wav  \n",
      "  inflating: urbansound8k/fold5/178686-0-0-2.wav  \n",
      "  inflating: urbansound8k/fold5/178686-0-0-21.wav  \n",
      "  inflating: urbansound8k/fold5/178686-0-0-23.wav  \n",
      "  inflating: urbansound8k/fold5/178686-0-0-3.wav  \n",
      "  inflating: urbansound8k/fold5/178686-0-0-31.wav  \n",
      "  inflating: urbansound8k/fold5/178686-0-0-33.wav  \n",
      "  inflating: urbansound8k/fold5/178686-0-0-34.wav  \n",
      "  inflating: urbansound8k/fold5/178686-0-0-38.wav  \n",
      "  inflating: urbansound8k/fold5/178686-0-0-39.wav  \n",
      "  inflating: urbansound8k/fold5/178686-0-0-42.wav  \n",
      "  inflating: urbansound8k/fold5/178686-0-0-43.wav  \n",
      "  inflating: urbansound8k/fold5/178686-0-0-44.wav  \n",
      "  inflating: urbansound8k/fold5/178686-0-0-45.wav  \n",
      "  inflating: urbansound8k/fold5/178686-0-0-46.wav  \n",
      "  inflating: urbansound8k/fold5/178686-0-0-53.wav  \n",
      "  inflating: urbansound8k/fold5/178686-0-0-55.wav  \n",
      "  inflating: urbansound8k/fold5/178686-0-0-57.wav  \n",
      "  inflating: urbansound8k/fold5/178686-0-0-6.wav  \n",
      "  inflating: urbansound8k/fold5/178686-0-0-60.wav  \n",
      "  inflating: urbansound8k/fold5/178686-0-0-63.wav  \n",
      "  inflating: urbansound8k/fold5/178686-0-0-64.wav  \n",
      "  inflating: urbansound8k/fold5/178686-0-0-65.wav  \n",
      "  inflating: urbansound8k/fold5/178686-0-0-66.wav  \n",
      "  inflating: urbansound8k/fold5/178686-0-0-67.wav  \n",
      "  inflating: urbansound8k/fold5/178686-0-0-68.wav  \n",
      "  inflating: urbansound8k/fold5/178686-0-0-7.wav  \n",
      "  inflating: urbansound8k/fold5/178686-0-0-72.wav  \n",
      "  inflating: urbansound8k/fold5/178686-0-0-8.wav  \n",
      "  inflating: urbansound8k/fold5/178686-0-0-9.wav  \n",
      "  inflating: urbansound8k/fold5/178825-2-0-4.wav  \n",
      "  inflating: urbansound8k/fold5/178825-2-0-53.wav  \n",
      "  inflating: urbansound8k/fold5/178825-2-0-62.wav  \n",
      "  inflating: urbansound8k/fold5/178825-2-0-70.wav  \n",
      "  inflating: urbansound8k/fold5/178825-2-0-74.wav  \n",
      "  inflating: urbansound8k/fold5/178825-2-0-9.wav  \n",
      "  inflating: urbansound8k/fold5/178825-2-0-95.wav  \n",
      "  inflating: urbansound8k/fold5/179861-1-0-0.wav  \n",
      "  inflating: urbansound8k/fold5/180052-3-0-0.wav  \n",
      "  inflating: urbansound8k/fold5/180052-3-0-1.wav  \n",
      "  inflating: urbansound8k/fold5/180052-3-0-3.wav  \n",
      "  inflating: urbansound8k/fold5/180052-3-0-4.wav  \n",
      "  inflating: urbansound8k/fold5/180125-4-0-16.wav  \n",
      "  inflating: urbansound8k/fold5/180125-4-0-17.wav  \n",
      "  inflating: urbansound8k/fold5/180125-4-1-3.wav  \n",
      "  inflating: urbansound8k/fold5/180125-4-1-5.wav  \n",
      "  inflating: urbansound8k/fold5/180125-4-1-7.wav  \n",
      "  inflating: urbansound8k/fold5/180125-4-1-8.wav  \n",
      "  inflating: urbansound8k/fold5/180125-4-2-1.wav  \n",
      "  inflating: urbansound8k/fold5/180125-4-2-13.wav  \n",
      "  inflating: urbansound8k/fold5/180125-4-2-14.wav  \n",
      "  inflating: urbansound8k/fold5/180125-4-2-15.wav  \n",
      "  inflating: urbansound8k/fold5/180125-4-2-17.wav  \n",
      "  inflating: urbansound8k/fold5/180125-4-3-0.wav  \n",
      "  inflating: urbansound8k/fold5/180125-4-3-1.wav  \n",
      "  inflating: urbansound8k/fold5/180125-4-3-10.wav  \n",
      "  inflating: urbansound8k/fold5/180125-4-3-2.wav  \n",
      "  inflating: urbansound8k/fold5/180125-4-3-22.wav  \n",
      "  inflating: urbansound8k/fold5/180125-4-3-24.wav  \n",
      "  inflating: urbansound8k/fold5/180125-4-3-4.wav  \n",
      "  inflating: urbansound8k/fold5/180128-4-0-0.wav  \n",
      "  inflating: urbansound8k/fold5/180128-4-11-0.wav  \n",
      "  inflating: urbansound8k/fold5/180128-4-11-1.wav  \n",
      "  inflating: urbansound8k/fold5/180128-4-12-0.wav  \n",
      "  inflating: urbansound8k/fold5/180128-4-13-0.wav  \n",
      "  inflating: urbansound8k/fold5/180128-4-14-0.wav  \n",
      "  inflating: urbansound8k/fold5/180128-4-16-1.wav  \n",
      "  inflating: urbansound8k/fold5/180128-4-17-0.wav  \n",
      "  inflating: urbansound8k/fold5/180128-4-4-0.wav  \n",
      "  inflating: urbansound8k/fold5/180128-4-5-0.wav  \n",
      "  inflating: urbansound8k/fold5/180128-4-6-0.wav  \n",
      "  inflating: urbansound8k/fold5/180128-4-6-1.wav  \n",
      "  inflating: urbansound8k/fold5/180128-4-6-2.wav  \n",
      "  inflating: urbansound8k/fold5/180128-4-7-0.wav  \n",
      "  inflating: urbansound8k/fold5/180128-4-7-2.wav  \n",
      "  inflating: urbansound8k/fold5/180128-4-7-3.wav  \n",
      "  inflating: urbansound8k/fold5/180128-4-7-4.wav  \n",
      "  inflating: urbansound8k/fold5/180128-4-7-5.wav  \n",
      "  inflating: urbansound8k/fold5/180128-4-9-0.wav  \n",
      "  inflating: urbansound8k/fold5/181725-3-0-16.wav  \n",
      "  inflating: urbansound8k/fold5/181725-3-0-22.wav  \n",
      "  inflating: urbansound8k/fold5/181725-3-0-37.wav  \n",
      "  inflating: urbansound8k/fold5/185436-1-0-0.wav  \n",
      "  inflating: urbansound8k/fold5/185436-1-1-0.wav  \n",
      "  inflating: urbansound8k/fold5/185436-1-2-0.wav  \n",
      "  inflating: urbansound8k/fold5/185436-1-3-0.wav  \n",
      "  inflating: urbansound8k/fold5/185436-1-4-0.wav  \n",
      "  inflating: urbansound8k/fold5/185436-1-5-0.wav  \n",
      "  inflating: urbansound8k/fold5/185436-1-6-0.wav  \n",
      "  inflating: urbansound8k/fold5/185436-1-7-0.wav  \n",
      "  inflating: urbansound8k/fold5/187920-7-0-0.wav  \n",
      "  inflating: urbansound8k/fold5/187920-7-1-0.wav  \n",
      "  inflating: urbansound8k/fold5/187920-7-1-1.wav  \n",
      "  inflating: urbansound8k/fold5/187920-7-1-2.wav  \n",
      "  inflating: urbansound8k/fold5/187920-7-2-0.wav  \n",
      "  inflating: urbansound8k/fold5/189895-3-0-0.wav  \n",
      "  inflating: urbansound8k/fold5/19007-4-0-0.wav  \n",
      "  inflating: urbansound8k/fold5/190893-2-0-10.wav  \n",
      "  inflating: urbansound8k/fold5/190893-2-0-11.wav  \n",
      "  inflating: urbansound8k/fold5/190893-2-0-12.wav  \n",
      "  inflating: urbansound8k/fold5/190893-2-0-21.wav  \n",
      "  inflating: urbansound8k/fold5/190893-2-0-23.wav  \n",
      "  inflating: urbansound8k/fold5/190893-2-0-27.wav  \n",
      "  inflating: urbansound8k/fold5/190893-2-0-28.wav  \n",
      "  inflating: urbansound8k/fold5/190893-2-0-7.wav  \n",
      "  inflating: urbansound8k/fold5/191382-3-0-0.wav  \n",
      "  inflating: urbansound8k/fold5/191382-3-0-5.wav  \n",
      "  inflating: urbansound8k/fold5/191382-3-1-0.wav  \n",
      "  inflating: urbansound8k/fold5/191382-3-1-1.wav  \n",
      "  inflating: urbansound8k/fold5/191449-6-0-0.wav  \n",
      "  inflating: urbansound8k/fold5/194910-9-0-108.wav  \n",
      "  inflating: urbansound8k/fold5/194910-9-0-26.wav  \n",
      "  inflating: urbansound8k/fold5/194910-9-0-5.wav  \n",
      "  inflating: urbansound8k/fold5/194910-9-0-63.wav  \n",
      "  inflating: urbansound8k/fold5/194910-9-0-65.wav  \n",
      "  inflating: urbansound8k/fold5/19503-3-0-0.wav  \n",
      "  inflating: urbansound8k/fold5/19503-3-1-0.wav  \n",
      "  inflating: urbansound8k/fold5/19503-3-2-0.wav  \n",
      "  inflating: urbansound8k/fold5/196062-2-0-0.wav  \n",
      "  inflating: urbansound8k/fold5/196071-2-0-0.wav  \n",
      "  inflating: urbansound8k/fold5/196081-2-0-0.wav  \n",
      "  inflating: urbansound8k/fold5/196085-2-0-0.wav  \n",
      "  inflating: urbansound8k/fold5/196085-2-0-1.wav  \n",
      "  inflating: urbansound8k/fold5/196085-2-0-2.wav  \n",
      "  inflating: urbansound8k/fold5/196085-2-0-3.wav  \n",
      "  inflating: urbansound8k/fold5/196085-2-0-4.wav  \n",
      "  inflating: urbansound8k/fold5/197243-3-0-0.wav  \n",
      "  inflating: urbansound8k/fold5/197243-3-1-0.wav  \n",
      "  inflating: urbansound8k/fold5/20015-3-0-12.wav  \n",
      "  inflating: urbansound8k/fold5/20015-3-0-14.wav  \n",
      "  inflating: urbansound8k/fold5/20015-3-0-19.wav  \n",
      "  inflating: urbansound8k/fold5/20015-3-0-4.wav  \n",
      "  inflating: urbansound8k/fold5/20285-3-0-0.wav  \n",
      "  inflating: urbansound8k/fold5/20285-3-1-0.wav  \n",
      "  inflating: urbansound8k/fold5/20285-3-1-1.wav  \n",
      "  inflating: urbansound8k/fold5/20285-3-2-0.wav  \n",
      "  inflating: urbansound8k/fold5/203516-3-0-0.wav  \n",
      "  inflating: urbansound8k/fold5/203654-9-0-15.wav  \n",
      "  inflating: urbansound8k/fold5/203654-9-0-28.wav  \n",
      "  inflating: urbansound8k/fold5/203654-9-0-39.wav  \n",
      "  inflating: urbansound8k/fold5/203654-9-0-42.wav  \n",
      "  inflating: urbansound8k/fold5/203654-9-0-60.wav  \n",
      "  inflating: urbansound8k/fold5/203654-9-0-8.wav  \n",
      "  inflating: urbansound8k/fold5/203913-8-0-0.wav  \n",
      "  inflating: urbansound8k/fold5/203913-8-0-1.wav  \n",
      "  inflating: urbansound8k/fold5/203913-8-0-10.wav  \n",
      "  inflating: urbansound8k/fold5/203913-8-0-11.wav  \n",
      "  inflating: urbansound8k/fold5/203913-8-0-12.wav  \n",
      "  inflating: urbansound8k/fold5/203913-8-0-2.wav  \n",
      "  inflating: urbansound8k/fold5/203913-8-0-3.wav  \n",
      "  inflating: urbansound8k/fold5/203913-8-0-4.wav  \n",
      "  inflating: urbansound8k/fold5/203913-8-0-5.wav  \n",
      "  inflating: urbansound8k/fold5/203913-8-0-6.wav  \n",
      "  inflating: urbansound8k/fold5/203913-8-0-7.wav  \n",
      "  inflating: urbansound8k/fold5/203913-8-0-8.wav  \n",
      "  inflating: urbansound8k/fold5/203913-8-0-9.wav  \n",
      "  inflating: urbansound8k/fold5/203913-8-1-0.wav  \n",
      "  inflating: urbansound8k/fold5/203913-8-1-1.wav  \n",
      "  inflating: urbansound8k/fold5/203913-8-1-2.wav  \n",
      "  inflating: urbansound8k/fold5/203913-8-1-3.wav  \n",
      "  inflating: urbansound8k/fold5/203913-8-1-4.wav  \n",
      "  inflating: urbansound8k/fold5/203913-8-1-5.wav  \n",
      "  inflating: urbansound8k/fold5/203962-5-0-0.wav  \n",
      "  inflating: urbansound8k/fold5/203962-5-0-1.wav  \n",
      "  inflating: urbansound8k/fold5/204408-2-0-19.wav  \n",
      "  inflating: urbansound8k/fold5/204408-2-0-2.wav  \n",
      "  inflating: urbansound8k/fold5/204408-2-0-21.wav  \n",
      "  inflating: urbansound8k/fold5/204408-2-0-36.wav  \n",
      "  inflating: urbansound8k/fold5/204408-2-0-54.wav  \n",
      "  inflating: urbansound8k/fold5/204408-2-0-8.wav  \n",
      "  inflating: urbansound8k/fold5/204408-2-0-83.wav  \n",
      "  inflating: urbansound8k/fold5/204408-2-0-9.wav  \n",
      "  inflating: urbansound8k/fold5/205874-4-0-0.wav  \n",
      "  inflating: urbansound8k/fold5/205874-4-1-0.wav  \n",
      "  inflating: urbansound8k/fold5/205874-4-10-0.wav  \n",
      "  inflating: urbansound8k/fold5/205874-4-11-0.wav  \n",
      "  inflating: urbansound8k/fold5/205874-4-2-0.wav  \n",
      "  inflating: urbansound8k/fold5/205874-4-3-0.wav  \n",
      "  inflating: urbansound8k/fold5/205874-4-4-0.wav  \n",
      "  inflating: urbansound8k/fold5/205874-4-5-0.wav  \n",
      "  inflating: urbansound8k/fold5/205874-4-6-0.wav  \n",
      "  inflating: urbansound8k/fold5/205874-4-7-0.wav  \n",
      "  inflating: urbansound8k/fold5/205874-4-8-0.wav  \n",
      "  inflating: urbansound8k/fold5/205874-4-9-0.wav  \n",
      "  inflating: urbansound8k/fold5/205878-4-0-0.wav  \n",
      "  inflating: urbansound8k/fold5/21187-5-0-0.wav  \n",
      "  inflating: urbansound8k/fold5/23219-5-0-0.wav  \n",
      "  inflating: urbansound8k/fold5/23219-5-0-1.wav  \n",
      "  inflating: urbansound8k/fold5/23219-5-0-10.wav  \n",
      "  inflating: urbansound8k/fold5/23219-5-0-11.wav  \n",
      "  inflating: urbansound8k/fold5/23219-5-0-12.wav  \n",
      "  inflating: urbansound8k/fold5/23219-5-0-13.wav  \n",
      "  inflating: urbansound8k/fold5/23219-5-0-2.wav  \n",
      "  inflating: urbansound8k/fold5/23219-5-0-3.wav  \n",
      "  inflating: urbansound8k/fold5/23219-5-0-4.wav  \n",
      "  inflating: urbansound8k/fold5/23219-5-0-5.wav  \n",
      "  inflating: urbansound8k/fold5/23219-5-0-6.wav  \n",
      "  inflating: urbansound8k/fold5/23219-5-0-7.wav  \n",
      "  inflating: urbansound8k/fold5/23219-5-0-8.wav  \n",
      "  inflating: urbansound8k/fold5/23219-5-0-9.wav  \n",
      "  inflating: urbansound8k/fold5/23219-5-1-0.wav  \n",
      "  inflating: urbansound8k/fold5/23219-5-1-1.wav  \n",
      "  inflating: urbansound8k/fold5/23219-5-1-2.wav  \n",
      "  inflating: urbansound8k/fold5/26177-1-0-0.wav  \n",
      "  inflating: urbansound8k/fold5/26177-1-1-0.wav  \n",
      "  inflating: urbansound8k/fold5/26177-1-2-0.wav  \n",
      "  inflating: urbansound8k/fold5/26184-5-0-0.wav  \n",
      "  inflating: urbansound8k/fold5/26184-5-1-0.wav  \n",
      "  inflating: urbansound8k/fold5/26184-5-2-0.wav  \n",
      "  inflating: urbansound8k/fold5/26184-5-3-0.wav  \n",
      "  inflating: urbansound8k/fold5/26184-5-4-0.wav  \n",
      "  inflating: urbansound8k/fold5/26184-5-4-1.wav  \n",
      "  inflating: urbansound8k/fold5/26184-5-4-2.wav  \n",
      "  inflating: urbansound8k/fold5/26184-5-4-3.wav  \n",
      "  inflating: urbansound8k/fold5/28426-8-0-0.wav  \n",
      "  inflating: urbansound8k/fold5/28426-8-1-0.wav  \n",
      "  inflating: urbansound8k/fold5/28426-8-2-0.wav  \n",
      "  inflating: urbansound8k/fold5/29937-3-0-14.wav  \n",
      "  inflating: urbansound8k/fold5/29937-3-0-4.wav  \n",
      "  inflating: urbansound8k/fold5/29937-3-0-6.wav  \n",
      "  inflating: urbansound8k/fold5/29937-3-0-8.wav  \n",
      "  inflating: urbansound8k/fold5/31150-2-0-1.wav  \n",
      "  inflating: urbansound8k/fold5/31150-2-0-14.wav  \n",
      "  inflating: urbansound8k/fold5/31150-2-0-17.wav  \n",
      "  inflating: urbansound8k/fold5/31150-2-0-2.wav  \n",
      "  inflating: urbansound8k/fold5/31150-2-0-24.wav  \n",
      "  inflating: urbansound8k/fold5/31150-2-0-34.wav  \n",
      "  inflating: urbansound8k/fold5/31150-2-0-6.wav  \n",
      "  inflating: urbansound8k/fold5/34771-3-0-10.wav  \n",
      "  inflating: urbansound8k/fold5/34771-3-0-14.wav  \n",
      "  inflating: urbansound8k/fold5/34771-3-0-4.wav  \n",
      "  inflating: urbansound8k/fold5/34771-3-0-5.wav  \n",
      "  inflating: urbansound8k/fold5/34872-3-0-0.wav  \n",
      "  inflating: urbansound8k/fold5/34872-3-0-1.wav  \n",
      "  inflating: urbansound8k/fold5/34872-3-0-2.wav  \n",
      "  inflating: urbansound8k/fold5/36263-9-0-12.wav  \n",
      "  inflating: urbansound8k/fold5/36263-9-0-13.wav  \n",
      "  inflating: urbansound8k/fold5/36263-9-0-17.wav  \n",
      "  inflating: urbansound8k/fold5/36263-9-0-2.wav  \n",
      "  inflating: urbansound8k/fold5/36263-9-0-3.wav  \n",
      "  inflating: urbansound8k/fold5/36263-9-0-5.wav  \n",
      "  inflating: urbansound8k/fold5/37869-3-0-0.wav  \n",
      "  inflating: urbansound8k/fold5/37869-3-1-0.wav  \n",
      "  inflating: urbansound8k/fold5/37869-3-3-0.wav  \n",
      "  inflating: urbansound8k/fold5/37869-3-5-0.wav  \n",
      "  inflating: urbansound8k/fold5/39533-4-0-0.wav  \n",
      "  inflating: urbansound8k/fold5/39533-4-1-0.wav  \n",
      "  inflating: urbansound8k/fold5/43787-3-0-0.wav  \n",
      "  inflating: urbansound8k/fold5/43787-3-1-0.wav  \n",
      "  inflating: urbansound8k/fold5/43787-3-2-0.wav  \n",
      "  inflating: urbansound8k/fold5/43787-3-3-0.wav  \n",
      "  inflating: urbansound8k/fold5/43803-1-0-0.wav  \n",
      "  inflating: urbansound8k/fold5/45256-1-0-0.wav  \n",
      "  inflating: urbansound8k/fold5/46391-1-0-0.wav  \n",
      "  inflating: urbansound8k/fold5/46391-1-1-0.wav  \n",
      "  inflating: urbansound8k/fold5/49312-2-0-1.wav  \n",
      "  inflating: urbansound8k/fold5/49312-2-0-10.wav  \n",
      "  inflating: urbansound8k/fold5/49312-2-0-16.wav  \n",
      "  inflating: urbansound8k/fold5/49312-2-0-17.wav  \n",
      "  inflating: urbansound8k/fold5/49312-2-0-2.wav  \n",
      "  inflating: urbansound8k/fold5/49312-2-0-5.wav  \n",
      "  inflating: urbansound8k/fold5/49312-2-0-7.wav  \n",
      "  inflating: urbansound8k/fold5/50413-4-0-0.wav  \n",
      "  inflating: urbansound8k/fold5/50413-4-0-1.wav  \n",
      "  inflating: urbansound8k/fold5/50413-4-0-2.wav  \n",
      "  inflating: urbansound8k/fold5/50413-4-0-3.wav  \n",
      "  inflating: urbansound8k/fold5/50885-3-0-2.wav  \n",
      "  inflating: urbansound8k/fold5/50885-3-0-3.wav  \n",
      "  inflating: urbansound8k/fold5/50885-3-0-4.wav  \n",
      "  inflating: urbansound8k/fold5/50885-3-0-5.wav  \n",
      "  inflating: urbansound8k/fold5/52102-1-0-0.wav  \n",
      "  inflating: urbansound8k/fold5/58382-3-0-0.wav  \n",
      "  inflating: urbansound8k/fold5/60846-0-0-0.wav  \n",
      "  inflating: urbansound8k/fold5/60846-0-0-1.wav  \n",
      "  inflating: urbansound8k/fold5/60846-0-0-2.wav  \n",
      "  inflating: urbansound8k/fold5/60846-0-0-3.wav  \n",
      "  inflating: urbansound8k/fold5/62566-5-0-0.wav  \n",
      "  inflating: urbansound8k/fold5/62566-5-0-1.wav  \n",
      "  inflating: urbansound8k/fold5/62566-5-0-2.wav  \n",
      "  inflating: urbansound8k/fold5/62566-5-0-3.wav  \n",
      "  inflating: urbansound8k/fold5/62566-5-0-4.wav  \n",
      "  inflating: urbansound8k/fold5/62566-5-0-5.wav  \n",
      "  inflating: urbansound8k/fold5/62566-5-0-6.wav  \n",
      "  inflating: urbansound8k/fold5/62566-5-0-7.wav  \n",
      "  inflating: urbansound8k/fold5/62566-5-1-0.wav  \n",
      "  inflating: urbansound8k/fold5/62566-5-1-1.wav  \n",
      "  inflating: urbansound8k/fold5/62566-5-2-0.wav  \n",
      "  inflating: urbansound8k/fold5/6508-9-0-1.wav  \n",
      "  inflating: urbansound8k/fold5/6508-9-0-2.wav  \n",
      "  inflating: urbansound8k/fold5/6508-9-0-3.wav  \n",
      "  inflating: urbansound8k/fold5/6508-9-0-4.wav  \n",
      "  inflating: urbansound8k/fold5/6508-9-0-6.wav  \n",
      "  inflating: urbansound8k/fold5/6508-9-1-0.wav  \n",
      "  inflating: urbansound8k/fold5/65381-3-0-3.wav  \n",
      "  inflating: urbansound8k/fold5/65381-3-0-6.wav  \n",
      "  inflating: urbansound8k/fold5/65381-3-0-7.wav  \n",
      "  inflating: urbansound8k/fold5/65472-1-0-0.wav  \n",
      "  inflating: urbansound8k/fold5/66587-3-0-0.wav  \n",
      "  inflating: urbansound8k/fold5/66587-3-1-0.wav  \n",
      "  inflating: urbansound8k/fold5/66587-3-2-0.wav  \n",
      "  inflating: urbansound8k/fold5/66587-3-3-0.wav  \n",
      "  inflating: urbansound8k/fold5/7066-6-0-0.wav  \n",
      "  inflating: urbansound8k/fold5/7066-6-1-0.wav  \n",
      "  inflating: urbansound8k/fold5/71086-4-0-0.wav  \n",
      "  inflating: urbansound8k/fold5/71086-4-1-0.wav  \n",
      "  inflating: urbansound8k/fold5/71086-4-2-0.wav  \n",
      "  inflating: urbansound8k/fold5/71171-4-0-0.wav  \n",
      "  inflating: urbansound8k/fold5/71171-4-0-1.wav  \n",
      "  inflating: urbansound8k/fold5/71171-4-0-2.wav  \n",
      "  inflating: urbansound8k/fold5/71171-4-0-3.wav  \n",
      "  inflating: urbansound8k/fold5/71171-4-0-4.wav  \n",
      "  inflating: urbansound8k/fold5/71171-4-1-0.wav  \n",
      "  inflating: urbansound8k/fold5/71171-4-1-1.wav  \n",
      "  inflating: urbansound8k/fold5/71171-4-1-2.wav  \n",
      "  inflating: urbansound8k/fold5/71171-4-1-3.wav  \n",
      "  inflating: urbansound8k/fold5/71171-4-1-4.wav  \n",
      "  inflating: urbansound8k/fold5/71171-4-1-5.wav  \n",
      "  inflating: urbansound8k/fold5/71171-4-2-0.wav  \n",
      "  inflating: urbansound8k/fold5/71171-4-2-1.wav  \n",
      "  inflating: urbansound8k/fold5/71171-4-3-0.wav  \n",
      "  inflating: urbansound8k/fold5/71171-4-3-1.wav  \n",
      "  inflating: urbansound8k/fold5/71171-4-3-2.wav  \n",
      "  inflating: urbansound8k/fold5/71171-4-4-0.wav  \n",
      "  inflating: urbansound8k/fold5/71171-4-5-0.wav  \n",
      "  inflating: urbansound8k/fold5/71173-2-0-103.wav  \n",
      "  inflating: urbansound8k/fold5/71173-2-0-13.wav  \n",
      "  inflating: urbansound8k/fold5/71173-2-0-17.wav  \n",
      "  inflating: urbansound8k/fold5/71173-2-0-21.wav  \n",
      "  inflating: urbansound8k/fold5/71173-2-0-24.wav  \n",
      "  inflating: urbansound8k/fold5/71173-2-0-69.wav  \n",
      "  inflating: urbansound8k/fold5/71173-2-0-71.wav  \n",
      "  inflating: urbansound8k/fold5/71173-2-0-88.wav  \n",
      "  inflating: urbansound8k/fold5/71439-1-0-0.wav  \n",
      "  inflating: urbansound8k/fold5/71439-1-1-0.wav  \n",
      "  inflating: urbansound8k/fold5/71439-1-2-0.wav  \n",
      "  inflating: urbansound8k/fold5/71439-1-3-0.wav  \n",
      "  inflating: urbansound8k/fold5/72259-1-0-0.wav  \n",
      "  inflating: urbansound8k/fold5/72259-1-0-1.wav  \n",
      "  inflating: urbansound8k/fold5/72259-1-0-2.wav  \n",
      "  inflating: urbansound8k/fold5/72259-1-0-3.wav  \n",
      "  inflating: urbansound8k/fold5/72259-1-0-4.wav  \n",
      "  inflating: urbansound8k/fold5/72259-1-0-5.wav  \n",
      "  inflating: urbansound8k/fold5/72259-1-1-0.wav  \n",
      "  inflating: urbansound8k/fold5/72259-1-10-0.wav  \n",
      "  inflating: urbansound8k/fold5/72259-1-10-1.wav  \n",
      "  inflating: urbansound8k/fold5/72259-1-10-10.wav  \n",
      "  inflating: urbansound8k/fold5/72259-1-10-11.wav  \n",
      "  inflating: urbansound8k/fold5/72259-1-10-12.wav  \n",
      "  inflating: urbansound8k/fold5/72259-1-10-13.wav  \n",
      "  inflating: urbansound8k/fold5/72259-1-10-14.wav  \n",
      "  inflating: urbansound8k/fold5/72259-1-10-2.wav  \n",
      "  inflating: urbansound8k/fold5/72259-1-10-3.wav  \n",
      "  inflating: urbansound8k/fold5/72259-1-10-4.wav  \n",
      "  inflating: urbansound8k/fold5/72259-1-10-5.wav  \n",
      "  inflating: urbansound8k/fold5/72259-1-10-6.wav  \n",
      "  inflating: urbansound8k/fold5/72259-1-10-7.wav  \n",
      "  inflating: urbansound8k/fold5/72259-1-10-8.wav  \n",
      "  inflating: urbansound8k/fold5/72259-1-10-9.wav  \n",
      "  inflating: urbansound8k/fold5/72259-1-2-0.wav  \n",
      "  inflating: urbansound8k/fold5/72259-1-3-0.wav  \n",
      "  inflating: urbansound8k/fold5/72259-1-5-0.wav  \n",
      "  inflating: urbansound8k/fold5/72259-1-5-1.wav  \n",
      "  inflating: urbansound8k/fold5/72259-1-5-2.wav  \n",
      "  inflating: urbansound8k/fold5/72259-1-5-3.wav  \n",
      "  inflating: urbansound8k/fold5/72259-1-5-4.wav  \n",
      "  inflating: urbansound8k/fold5/72259-1-6-0.wav  \n",
      "  inflating: urbansound8k/fold5/72259-1-6-1.wav  \n",
      "  inflating: urbansound8k/fold5/72259-1-7-0.wav  \n",
      "  inflating: urbansound8k/fold5/72259-1-7-1.wav  \n",
      "  inflating: urbansound8k/fold5/72259-1-7-10.wav  \n",
      "  inflating: urbansound8k/fold5/72259-1-7-11.wav  \n",
      "  inflating: urbansound8k/fold5/72259-1-7-12.wav  \n",
      "  inflating: urbansound8k/fold5/72259-1-7-13.wav  \n",
      "  inflating: urbansound8k/fold5/72259-1-7-14.wav  \n",
      "  inflating: urbansound8k/fold5/72259-1-7-15.wav  \n",
      "  inflating: urbansound8k/fold5/72259-1-7-16.wav  \n",
      "  inflating: urbansound8k/fold5/72259-1-7-17.wav  \n",
      "  inflating: urbansound8k/fold5/72259-1-7-18.wav  \n",
      "  inflating: urbansound8k/fold5/72259-1-7-19.wav  \n",
      "  inflating: urbansound8k/fold5/72259-1-7-2.wav  \n",
      "  inflating: urbansound8k/fold5/72259-1-7-20.wav  \n",
      "  inflating: urbansound8k/fold5/72259-1-7-21.wav  \n",
      "  inflating: urbansound8k/fold5/72259-1-7-22.wav  \n",
      "  inflating: urbansound8k/fold5/72259-1-7-3.wav  \n",
      "  inflating: urbansound8k/fold5/72259-1-7-4.wav  \n",
      "  inflating: urbansound8k/fold5/72259-1-7-5.wav  \n",
      "  inflating: urbansound8k/fold5/72259-1-7-6.wav  \n",
      "  inflating: urbansound8k/fold5/72259-1-7-7.wav  \n",
      "  inflating: urbansound8k/fold5/72259-1-7-8.wav  \n",
      "  inflating: urbansound8k/fold5/72259-1-7-9.wav  \n",
      "  inflating: urbansound8k/fold5/72259-1-8-0.wav  \n",
      "  inflating: urbansound8k/fold5/72259-1-9-0.wav  \n",
      "  inflating: urbansound8k/fold5/72259-1-9-1.wav  \n",
      "  inflating: urbansound8k/fold5/72259-1-9-10.wav  \n",
      "  inflating: urbansound8k/fold5/72259-1-9-11.wav  \n",
      "  inflating: urbansound8k/fold5/72259-1-9-12.wav  \n",
      "  inflating: urbansound8k/fold5/72259-1-9-13.wav  \n",
      "  inflating: urbansound8k/fold5/72259-1-9-14.wav  \n",
      "  inflating: urbansound8k/fold5/72259-1-9-15.wav  \n",
      "  inflating: urbansound8k/fold5/72259-1-9-16.wav  \n",
      "  inflating: urbansound8k/fold5/72259-1-9-17.wav  \n",
      "  inflating: urbansound8k/fold5/72259-1-9-2.wav  \n",
      "  inflating: urbansound8k/fold5/72259-1-9-3.wav  \n",
      "  inflating: urbansound8k/fold5/72259-1-9-4.wav  \n",
      "  inflating: urbansound8k/fold5/72259-1-9-5.wav  \n",
      "  inflating: urbansound8k/fold5/72259-1-9-6.wav  \n",
      "  inflating: urbansound8k/fold5/72259-1-9-7.wav  \n",
      "  inflating: urbansound8k/fold5/72259-1-9-8.wav  \n",
      "  inflating: urbansound8k/fold5/72259-1-9-9.wav  \n",
      "  inflating: urbansound8k/fold5/76566-3-0-11.wav  \n",
      "  inflating: urbansound8k/fold5/76566-3-0-3.wav  \n",
      "  inflating: urbansound8k/fold5/76566-3-0-6.wav  \n",
      "  inflating: urbansound8k/fold5/76566-3-0-8.wav  \n",
      "  inflating: urbansound8k/fold5/77233-3-0-105.wav  \n",
      "  inflating: urbansound8k/fold5/77233-3-0-67.wav  \n",
      "  inflating: urbansound8k/fold5/77233-3-0-7.wav  \n",
      "  inflating: urbansound8k/fold5/77233-3-0-79.wav  \n",
      "  inflating: urbansound8k/fold5/77247-6-0-0.wav  \n",
      "  inflating: urbansound8k/fold5/77509-1-0-0.wav  \n",
      "  inflating: urbansound8k/fold5/77774-4-0-0.wav  \n",
      "  inflating: urbansound8k/fold5/77774-4-0-1.wav  \n",
      "  inflating: urbansound8k/fold5/77774-4-0-2.wav  \n",
      "  inflating: urbansound8k/fold5/77774-4-0-3.wav  \n",
      "  inflating: urbansound8k/fold5/77774-4-1-0.wav  \n",
      "  inflating: urbansound8k/fold5/77774-4-1-1.wav  \n",
      "  inflating: urbansound8k/fold5/80806-2-0-0.wav  \n",
      "  inflating: urbansound8k/fold5/80806-2-0-1.wav  \n",
      "  inflating: urbansound8k/fold5/80806-2-0-10.wav  \n",
      "  inflating: urbansound8k/fold5/80806-2-0-2.wav  \n",
      "  inflating: urbansound8k/fold5/80806-2-0-3.wav  \n",
      "  inflating: urbansound8k/fold5/80806-2-0-4.wav  \n",
      "  inflating: urbansound8k/fold5/80806-2-0-5.wav  \n",
      "  inflating: urbansound8k/fold5/80806-2-0-7.wav  \n",
      "  inflating: urbansound8k/fold5/83196-9-0-10.wav  \n",
      "  inflating: urbansound8k/fold5/83196-9-0-13.wav  \n",
      "  inflating: urbansound8k/fold5/83196-9-0-14.wav  \n",
      "  inflating: urbansound8k/fold5/83196-9-0-15.wav  \n",
      "  inflating: urbansound8k/fold5/83196-9-0-3.wav  \n",
      "  inflating: urbansound8k/fold5/83196-9-0-9.wav  \n",
      "  inflating: urbansound8k/fold5/84254-6-0-0.wav  \n",
      "  inflating: urbansound8k/fold5/84699-4-0-0.wav  \n",
      "  inflating: urbansound8k/fold5/84699-4-1-0.wav  \n",
      "  inflating: urbansound8k/fold5/84699-4-2-0.wav  \n",
      "  inflating: urbansound8k/fold5/84699-4-3-0.wav  \n",
      "  inflating: urbansound8k/fold5/84699-4-4-0.wav  \n",
      "  inflating: urbansound8k/fold5/84699-4-5-0.wav  \n",
      "  inflating: urbansound8k/fold5/84699-4-6-0.wav  \n",
      "  inflating: urbansound8k/fold5/85569-0-0-0.wav  \n",
      "  inflating: urbansound8k/fold5/85569-0-0-1.wav  \n",
      "  inflating: urbansound8k/fold5/85569-0-0-2.wav  \n",
      "  inflating: urbansound8k/fold5/85569-0-0-3.wav  \n",
      "  inflating: urbansound8k/fold5/85569-0-0-4.wav  \n",
      "  inflating: urbansound8k/fold5/85569-0-0-5.wav  \n",
      "  inflating: urbansound8k/fold5/85569-0-0-6.wav  \n",
      "  inflating: urbansound8k/fold5/85569-0-0-7.wav  \n",
      "  inflating: urbansound8k/fold5/85569-0-0-8.wav  \n",
      "  inflating: urbansound8k/fold5/85569-0-0-9.wav  \n",
      "  inflating: urbansound8k/fold5/85663-3-0-0.wav  \n",
      "  inflating: urbansound8k/fold5/86284-3-0-0.wav  \n",
      "  inflating: urbansound8k/fold5/86284-3-1-0.wav  \n",
      "  inflating: urbansound8k/fold5/89213-3-0-0.wav  \n",
      "  inflating: urbansound8k/fold5/89724-5-0-0.wav  \n",
      "  inflating: urbansound8k/fold5/89724-5-0-1.wav  \n",
      "  inflating: urbansound8k/fold5/89724-5-0-2.wav  \n",
      "  inflating: urbansound8k/fold5/89724-5-0-3.wav  \n",
      "  inflating: urbansound8k/fold5/89724-5-0-4.wav  \n",
      "  inflating: urbansound8k/fold5/89724-5-0-5.wav  \n",
      "  inflating: urbansound8k/fold5/90013-7-0-0.wav  \n",
      "  inflating: urbansound8k/fold5/90013-7-0-1.wav  \n",
      "  inflating: urbansound8k/fold5/90013-7-0-2.wav  \n",
      "  inflating: urbansound8k/fold5/90013-7-0-3.wav  \n",
      "  inflating: urbansound8k/fold5/90013-7-0-4.wav  \n",
      "  inflating: urbansound8k/fold5/90013-7-0-5.wav  \n",
      "  inflating: urbansound8k/fold5/90013-7-0-6.wav  \n",
      "  inflating: urbansound8k/fold5/90013-7-0-7.wav  \n",
      "  inflating: urbansound8k/fold5/90013-7-1-0.wav  \n",
      "  inflating: urbansound8k/fold5/90013-7-1-1.wav  \n",
      "  inflating: urbansound8k/fold5/90013-7-1-2.wav  \n",
      "  inflating: urbansound8k/fold5/90013-7-1-3.wav  \n",
      "  inflating: urbansound8k/fold5/90013-7-1-4.wav  \n",
      "  inflating: urbansound8k/fold5/90013-7-1-5.wav  \n",
      "  inflating: urbansound8k/fold5/91533-5-0-0.wav  \n",
      "  inflating: urbansound8k/fold5/91533-5-0-1.wav  \n",
      "  inflating: urbansound8k/fold5/91533-5-0-2.wav  \n",
      "  inflating: urbansound8k/fold5/91533-5-0-3.wav  \n",
      "  inflating: urbansound8k/fold5/93139-6-0-0.wav  \n",
      "  inflating: urbansound8k/fold5/99185-3-0-0.wav  \n",
      "  inflating: urbansound8k/fold6/101281-3-0-0.wav  \n",
      "  inflating: urbansound8k/fold6/101281-3-0-14.wav  \n",
      "  inflating: urbansound8k/fold6/101281-3-0-5.wav  \n",
      "  inflating: urbansound8k/fold6/104327-2-0-15.wav  \n",
      "  inflating: urbansound8k/fold6/104327-2-0-19.wav  \n",
      "  inflating: urbansound8k/fold6/104327-2-0-26.wav  \n",
      "  inflating: urbansound8k/fold6/104327-2-0-28.wav  \n",
      "  inflating: urbansound8k/fold6/104327-2-0-3.wav  \n",
      "  inflating: urbansound8k/fold6/104327-2-0-30.wav  \n",
      "  inflating: urbansound8k/fold6/104327-2-0-34.wav  \n",
      "  inflating: urbansound8k/fold6/104327-2-0-4.wav  \n",
      "  inflating: urbansound8k/fold6/105319-3-0-22.wav  \n",
      "  inflating: urbansound8k/fold6/105319-3-0-29.wav  \n",
      "  inflating: urbansound8k/fold6/105319-3-0-39.wav  \n",
      "  inflating: urbansound8k/fold6/106486-5-0-0.wav  \n",
      "  inflating: urbansound8k/fold6/106486-5-0-1.wav  \n",
      "  inflating: urbansound8k/fold6/106486-5-0-2.wav  \n",
      "  inflating: urbansound8k/fold6/107842-4-0-0.wav  \n",
      "  inflating: urbansound8k/fold6/107842-4-0-1.wav  \n",
      "  inflating: urbansound8k/fold6/107842-4-0-2.wav  \n",
      "  inflating: urbansound8k/fold6/107842-4-1-0.wav  \n",
      "  inflating: urbansound8k/fold6/107842-4-2-0.wav  \n",
      "  inflating: urbansound8k/fold6/107842-4-2-1.wav  \n",
      "  inflating: urbansound8k/fold6/107842-4-2-2.wav  \n",
      "  inflating: urbansound8k/fold6/107842-4-2-3.wav  \n",
      "  inflating: urbansound8k/fold6/107842-4-2-4.wav  \n",
      "  inflating: urbansound8k/fold6/107842-4-3-0.wav  \n",
      "  inflating: urbansound8k/fold6/108638-9-0-0.wav  \n",
      "  inflating: urbansound8k/fold6/108638-9-0-1.wav  \n",
      "  inflating: urbansound8k/fold6/108638-9-0-2.wav  \n",
      "  inflating: urbansound8k/fold6/108638-9-0-4.wav  \n",
      "  inflating: urbansound8k/fold6/108638-9-0-5.wav  \n",
      "  inflating: urbansound8k/fold6/108638-9-0-6.wav  \n",
      "  inflating: urbansound8k/fold6/109233-3-0-3.wav  \n",
      "  inflating: urbansound8k/fold6/109233-3-0-4.wav  \n",
      "  inflating: urbansound8k/fold6/109233-3-0-5.wav  \n",
      "  inflating: urbansound8k/fold6/109233-3-0-6.wav  \n",
      "  inflating: urbansound8k/fold6/110868-9-0-11.wav  \n",
      "  inflating: urbansound8k/fold6/110868-9-0-13.wav  \n",
      "  inflating: urbansound8k/fold6/110868-9-0-14.wav  \n",
      "  inflating: urbansound8k/fold6/110868-9-0-15.wav  \n",
      "  inflating: urbansound8k/fold6/110868-9-0-6.wav  \n",
      "  inflating: urbansound8k/fold6/110868-9-0-8.wav  \n",
      "  inflating: urbansound8k/fold6/111048-6-0-0.wav  \n",
      "  inflating: urbansound8k/fold6/111386-5-0-0.wav  \n",
      "  inflating: urbansound8k/fold6/111386-5-0-1.wav  \n",
      "  inflating: urbansound8k/fold6/111386-5-0-2.wav  \n",
      "  inflating: urbansound8k/fold6/111386-5-0-3.wav  \n",
      "  inflating: urbansound8k/fold6/111386-5-0-4.wav  \n",
      "  inflating: urbansound8k/fold6/111386-5-0-5.wav  \n",
      "  inflating: urbansound8k/fold6/111386-5-0-6.wav  \n",
      "  inflating: urbansound8k/fold6/111386-5-0-7.wav  \n",
      "  inflating: urbansound8k/fold6/111386-5-1-0.wav  \n",
      "  inflating: urbansound8k/fold6/111386-5-1-1.wav  \n",
      "  inflating: urbansound8k/fold6/111386-5-1-10.wav  \n",
      "  inflating: urbansound8k/fold6/111386-5-1-11.wav  \n",
      "  inflating: urbansound8k/fold6/111386-5-1-12.wav  \n",
      "  inflating: urbansound8k/fold6/111386-5-1-13.wav  \n",
      "  inflating: urbansound8k/fold6/111386-5-1-14.wav  \n",
      "  inflating: urbansound8k/fold6/111386-5-1-2.wav  \n",
      "  inflating: urbansound8k/fold6/111386-5-1-3.wav  \n",
      "  inflating: urbansound8k/fold6/111386-5-1-4.wav  \n",
      "  inflating: urbansound8k/fold6/111386-5-1-5.wav  \n",
      "  inflating: urbansound8k/fold6/111386-5-1-6.wav  \n",
      "  inflating: urbansound8k/fold6/111386-5-1-7.wav  \n",
      "  inflating: urbansound8k/fold6/111386-5-1-8.wav  \n",
      "  inflating: urbansound8k/fold6/111386-5-1-9.wav  \n",
      "  inflating: urbansound8k/fold6/115243-9-0-0.wav  \n",
      "  inflating: urbansound8k/fold6/115243-9-0-16.wav  \n",
      "  inflating: urbansound8k/fold6/115243-9-0-4.wav  \n",
      "  inflating: urbansound8k/fold6/115243-9-0-46.wav  \n",
      "  inflating: urbansound8k/fold6/115243-9-0-81.wav  \n",
      "  inflating: urbansound8k/fold6/115243-9-0-94.wav  \n",
      "  inflating: urbansound8k/fold6/116423-2-0-0.wav  \n",
      "  inflating: urbansound8k/fold6/116423-2-0-1.wav  \n",
      "  inflating: urbansound8k/fold6/116423-2-0-2.wav  \n",
      "  inflating: urbansound8k/fold6/116423-2-0-3.wav  \n",
      "  inflating: urbansound8k/fold6/116423-2-0-4.wav  \n",
      "  inflating: urbansound8k/fold6/117271-3-0-0.wav  \n",
      "  inflating: urbansound8k/fold6/117271-3-0-1.wav  \n",
      "  inflating: urbansound8k/fold6/117271-3-0-2.wav  \n",
      "  inflating: urbansound8k/fold6/117271-3-0-3.wav  \n",
      "  inflating: urbansound8k/fold6/118072-3-0-0.wav  \n",
      "  inflating: urbansound8k/fold6/121285-0-0-0.wav  \n",
      "  inflating: urbansound8k/fold6/121285-0-0-1.wav  \n",
      "  inflating: urbansound8k/fold6/121285-0-0-2.wav  \n",
      "  inflating: urbansound8k/fold6/121285-0-0-3.wav  \n",
      "  inflating: urbansound8k/fold6/121285-0-0-4.wav  \n",
      "  inflating: urbansound8k/fold6/121285-0-0-5.wav  \n",
      "  inflating: urbansound8k/fold6/121285-0-0-6.wav  \n",
      "  inflating: urbansound8k/fold6/121285-0-0-7.wav  \n",
      "  inflating: urbansound8k/fold6/121285-0-0-8.wav  \n",
      "  inflating: urbansound8k/fold6/121285-0-0-9.wav  \n",
      "  inflating: urbansound8k/fold6/122738-9-0-11.wav  \n",
      "  inflating: urbansound8k/fold6/122738-9-0-12.wav  \n",
      "  inflating: urbansound8k/fold6/122738-9-0-2.wav  \n",
      "  inflating: urbansound8k/fold6/122738-9-0-3.wav  \n",
      "  inflating: urbansound8k/fold6/122738-9-0-5.wav  \n",
      "  inflating: urbansound8k/fold6/122738-9-0-9.wav  \n",
      "  inflating: urbansound8k/fold6/124389-8-1-0.wav  \n",
      "  inflating: urbansound8k/fold6/124389-8-1-1.wav  \n",
      "  inflating: urbansound8k/fold6/124389-8-1-10.wav  \n",
      "  inflating: urbansound8k/fold6/124389-8-1-11.wav  \n",
      "  inflating: urbansound8k/fold6/124389-8-1-12.wav  \n",
      "  inflating: urbansound8k/fold6/124389-8-1-13.wav  \n",
      "  inflating: urbansound8k/fold6/124389-8-1-14.wav  \n",
      "  inflating: urbansound8k/fold6/124389-8-1-15.wav  \n",
      "  inflating: urbansound8k/fold6/124389-8-1-16.wav  \n",
      "  inflating: urbansound8k/fold6/124389-8-1-17.wav  \n",
      "  inflating: urbansound8k/fold6/124389-8-1-18.wav  \n",
      "  inflating: urbansound8k/fold6/124389-8-1-2.wav  \n",
      "  inflating: urbansound8k/fold6/124389-8-1-3.wav  \n",
      "  inflating: urbansound8k/fold6/124389-8-1-4.wav  \n",
      "  inflating: urbansound8k/fold6/124389-8-1-5.wav  \n",
      "  inflating: urbansound8k/fold6/124389-8-1-6.wav  \n",
      "  inflating: urbansound8k/fold6/124389-8-1-7.wav  \n",
      "  inflating: urbansound8k/fold6/124389-8-1-8.wav  \n",
      "  inflating: urbansound8k/fold6/124389-8-1-9.wav  \n",
      "  inflating: urbansound8k/fold6/125554-3-0-0.wav  \n",
      "  inflating: urbansound8k/fold6/125574-3-0-0.wav  \n",
      "  inflating: urbansound8k/fold6/128465-1-0-0.wav  \n",
      "  inflating: urbansound8k/fold6/128465-1-0-1.wav  \n",
      "  inflating: urbansound8k/fold6/128465-1-0-2.wav  \n",
      "  inflating: urbansound8k/fold6/128465-1-0-3.wav  \n",
      "  inflating: urbansound8k/fold6/128465-1-0-4.wav  \n",
      "  inflating: urbansound8k/fold6/128465-1-0-5.wav  \n",
      "  inflating: urbansound8k/fold6/128465-1-0-6.wav  \n",
      "  inflating: urbansound8k/fold6/128465-1-0-7.wav  \n",
      "  inflating: urbansound8k/fold6/128465-1-0-8.wav  \n",
      "  inflating: urbansound8k/fold6/128891-3-0-2.wav  \n",
      "  inflating: urbansound8k/fold6/128891-3-0-4.wav  \n",
      "  inflating: urbansound8k/fold6/128891-3-0-5.wav  \n",
      "  inflating: urbansound8k/fold6/129356-2-0-101.wav  \n",
      "  inflating: urbansound8k/fold6/129356-2-0-115.wav  \n",
      "  inflating: urbansound8k/fold6/129356-2-0-118.wav  \n",
      "  inflating: urbansound8k/fold6/129356-2-0-129.wav  \n",
      "  inflating: urbansound8k/fold6/129356-2-0-199.wav  \n",
      "  inflating: urbansound8k/fold6/129356-2-0-48.wav  \n",
      "  inflating: urbansound8k/fold6/129356-2-0-98.wav  \n",
      "  inflating: urbansound8k/fold6/131918-7-0-0.wav  \n",
      "  inflating: urbansound8k/fold6/131918-7-0-1.wav  \n",
      "  inflating: urbansound8k/fold6/131918-7-0-2.wav  \n",
      "  inflating: urbansound8k/fold6/131918-7-0-3.wav  \n",
      "  inflating: urbansound8k/fold6/131918-7-0-4.wav  \n",
      "  inflating: urbansound8k/fold6/131918-7-0-5.wav  \n",
      "  inflating: urbansound8k/fold6/131918-7-0-6.wav  \n",
      "  inflating: urbansound8k/fold6/131918-7-0-7.wav  \n",
      "  inflating: urbansound8k/fold6/131918-7-0-8.wav  \n",
      "  inflating: urbansound8k/fold6/132021-7-0-0.wav  \n",
      "  inflating: urbansound8k/fold6/132021-7-0-1.wav  \n",
      "  inflating: urbansound8k/fold6/132021-7-0-10.wav  \n",
      "  inflating: urbansound8k/fold6/132021-7-0-11.wav  \n",
      "  inflating: urbansound8k/fold6/132021-7-0-12.wav  \n",
      "  inflating: urbansound8k/fold6/132021-7-0-2.wav  \n",
      "  inflating: urbansound8k/fold6/132021-7-0-3.wav  \n",
      "  inflating: urbansound8k/fold6/132021-7-0-4.wav  \n",
      "  inflating: urbansound8k/fold6/132021-7-0-5.wav  \n",
      "  inflating: urbansound8k/fold6/132021-7-0-6.wav  \n",
      "  inflating: urbansound8k/fold6/132021-7-0-7.wav  \n",
      "  inflating: urbansound8k/fold6/132021-7-0-8.wav  \n",
      "  inflating: urbansound8k/fold6/132021-7-0-9.wav  \n",
      "  inflating: urbansound8k/fold6/132021-7-1-0.wav  \n",
      "  inflating: urbansound8k/fold6/132162-9-1-3.wav  \n",
      "  inflating: urbansound8k/fold6/132162-9-1-58.wav  \n",
      "  inflating: urbansound8k/fold6/132162-9-1-63.wav  \n",
      "  inflating: urbansound8k/fold6/132162-9-1-67.wav  \n",
      "  inflating: urbansound8k/fold6/132162-9-1-68.wav  \n",
      "  inflating: urbansound8k/fold6/132162-9-1-73.wav  \n",
      "  inflating: urbansound8k/fold6/133494-2-0-18.wav  \n",
      "  inflating: urbansound8k/fold6/133494-2-0-19.wav  \n",
      "  inflating: urbansound8k/fold6/133494-2-0-22.wav  \n",
      "  inflating: urbansound8k/fold6/133494-2-0-25.wav  \n",
      "  inflating: urbansound8k/fold6/133494-2-0-26.wav  \n",
      "  inflating: urbansound8k/fold6/133494-2-0-31.wav  \n",
      "  inflating: urbansound8k/fold6/133494-2-0-37.wav  \n",
      "  inflating: urbansound8k/fold6/133494-2-0-45.wav  \n",
      "  inflating: urbansound8k/fold6/133797-6-0-0.wav  \n",
      "  inflating: urbansound8k/fold6/133797-6-1-0.wav  \n",
      "  inflating: urbansound8k/fold6/133797-6-2-0.wav  \n",
      "  inflating: urbansound8k/fold6/135160-8-0-0.wav  \n",
      "  inflating: urbansound8k/fold6/135160-8-0-1.wav  \n",
      "  inflating: urbansound8k/fold6/135160-8-0-10.wav  \n",
      "  inflating: urbansound8k/fold6/135160-8-0-11.wav  \n",
      "  inflating: urbansound8k/fold6/135160-8-0-2.wav  \n",
      "  inflating: urbansound8k/fold6/135160-8-0-3.wav  \n",
      "  inflating: urbansound8k/fold6/135160-8-0-4.wav  \n",
      "  inflating: urbansound8k/fold6/135160-8-0-5.wav  \n",
      "  inflating: urbansound8k/fold6/135160-8-0-6.wav  \n",
      "  inflating: urbansound8k/fold6/135160-8-0-7.wav  \n",
      "  inflating: urbansound8k/fold6/135160-8-0-8.wav  \n",
      "  inflating: urbansound8k/fold6/135160-8-0-9.wav  \n",
      "  inflating: urbansound8k/fold6/135544-6-0-0.wav  \n",
      "  inflating: urbansound8k/fold6/135544-6-1-0.wav  \n",
      "  inflating: urbansound8k/fold6/135544-6-10-0.wav  \n",
      "  inflating: urbansound8k/fold6/135544-6-11-0.wav  \n",
      "  inflating: urbansound8k/fold6/135544-6-12-0.wav  \n",
      "  inflating: urbansound8k/fold6/135544-6-13-0.wav  \n",
      "  inflating: urbansound8k/fold6/135544-6-14-0.wav  \n",
      "  inflating: urbansound8k/fold6/135544-6-15-0.wav  \n",
      "  inflating: urbansound8k/fold6/135544-6-16-0.wav  \n",
      "  inflating: urbansound8k/fold6/135544-6-17-0.wav  \n",
      "  inflating: urbansound8k/fold6/135544-6-18-0.wav  \n",
      "  inflating: urbansound8k/fold6/135544-6-19-0.wav  \n",
      "  inflating: urbansound8k/fold6/135544-6-2-0.wav  \n",
      "  inflating: urbansound8k/fold6/135544-6-3-0.wav  \n",
      "  inflating: urbansound8k/fold6/135544-6-4-0.wav  \n",
      "  inflating: urbansound8k/fold6/135544-6-5-0.wav  \n",
      "  inflating: urbansound8k/fold6/135544-6-6-0.wav  \n",
      "  inflating: urbansound8k/fold6/135544-6-7-0.wav  \n",
      "  inflating: urbansound8k/fold6/135544-6-8-0.wav  \n",
      "  inflating: urbansound8k/fold6/135544-6-9-0.wav  \n",
      "  inflating: urbansound8k/fold6/137969-2-0-18.wav  \n",
      "  inflating: urbansound8k/fold6/137969-2-0-20.wav  \n",
      "  inflating: urbansound8k/fold6/137969-2-0-37.wav  \n",
      "  inflating: urbansound8k/fold6/137969-2-0-4.wav  \n",
      "  inflating: urbansound8k/fold6/137969-2-0-41.wav  \n",
      "  inflating: urbansound8k/fold6/137969-2-0-55.wav  \n",
      "  inflating: urbansound8k/fold6/137969-2-0-56.wav  \n",
      "  inflating: urbansound8k/fold6/14114-4-0-0.wav  \n",
      "  inflating: urbansound8k/fold6/14114-4-0-1.wav  \n",
      "  inflating: urbansound8k/fold6/14114-4-0-2.wav  \n",
      "  inflating: urbansound8k/fold6/14114-4-0-3.wav  \n",
      "  inflating: urbansound8k/fold6/143115-1-0-0.wav  \n",
      "  inflating: urbansound8k/fold6/143115-1-1-0.wav  \n",
      "  inflating: urbansound8k/fold6/143115-1-2-0.wav  \n",
      "  inflating: urbansound8k/fold6/143115-1-3-0.wav  \n",
      "  inflating: urbansound8k/fold6/143115-1-4-0.wav  \n",
      "  inflating: urbansound8k/fold6/14358-3-0-26.wav  \n",
      "  inflating: urbansound8k/fold6/14358-3-0-7.wav  \n",
      "  inflating: urbansound8k/fold6/14358-3-0-85.wav  \n",
      "  inflating: urbansound8k/fold6/14358-3-0-90.wav  \n",
      "  inflating: urbansound8k/fold6/148833-6-0-0.wav  \n",
      "  inflating: urbansound8k/fold6/148833-6-1-0.wav  \n",
      "  inflating: urbansound8k/fold6/148834-6-0-0.wav  \n",
      "  inflating: urbansound8k/fold6/148835-6-0-0.wav  \n",
      "  inflating: urbansound8k/fold6/148835-6-1-0.wav  \n",
      "  inflating: urbansound8k/fold6/148835-6-2-0.wav  \n",
      "  inflating: urbansound8k/fold6/148835-6-3-0.wav  \n",
      "  inflating: urbansound8k/fold6/148835-6-4-0.wav  \n",
      "  inflating: urbansound8k/fold6/155127-9-0-2.wav  \n",
      "  inflating: urbansound8k/fold6/155127-9-1-2.wav  \n",
      "  inflating: urbansound8k/fold6/155127-9-1-23.wav  \n",
      "  inflating: urbansound8k/fold6/155127-9-1-24.wav  \n",
      "  inflating: urbansound8k/fold6/155127-9-1-25.wav  \n",
      "  inflating: urbansound8k/fold6/155127-9-1-27.wav  \n",
      "  inflating: urbansound8k/fold6/155212-9-0-13.wav  \n",
      "  inflating: urbansound8k/fold6/155212-9-1-14.wav  \n",
      "  inflating: urbansound8k/fold6/155212-9-1-49.wav  \n",
      "  inflating: urbansound8k/fold6/155212-9-1-75.wav  \n",
      "  inflating: urbansound8k/fold6/155212-9-1-85.wav  \n",
      "  inflating: urbansound8k/fold6/155212-9-1-88.wav  \n",
      "  inflating: urbansound8k/fold6/155317-3-0-0.wav  \n",
      "  inflating: urbansound8k/fold6/155488-3-0-6.wav  \n",
      "  inflating: urbansound8k/fold6/155488-3-2-0.wav  \n",
      "  inflating: urbansound8k/fold6/155488-3-3-0.wav  \n",
      "  inflating: urbansound8k/fold6/155488-3-3-1.wav  \n",
      "  inflating: urbansound8k/fold6/157322-3-0-3.wav  \n",
      "  inflating: urbansound8k/fold6/157322-3-0-4.wav  \n",
      "  inflating: urbansound8k/fold6/157322-3-0-5.wav  \n",
      "  inflating: urbansound8k/fold6/157322-3-0-6.wav  \n",
      "  inflating: urbansound8k/fold6/158979-6-0-0.wav  \n",
      "  inflating: urbansound8k/fold6/159702-6-0-0.wav  \n",
      "  inflating: urbansound8k/fold6/159702-6-1-0.wav  \n",
      "  inflating: urbansound8k/fold6/159702-6-2-0.wav  \n",
      "  inflating: urbansound8k/fold6/159702-6-3-0.wav  \n",
      "  inflating: urbansound8k/fold6/159702-6-4-0.wav  \n",
      "  inflating: urbansound8k/fold6/159702-6-5-0.wav  \n",
      "  inflating: urbansound8k/fold6/159702-6-6-0.wav  \n",
      "  inflating: urbansound8k/fold6/159704-6-0-0.wav  \n",
      "  inflating: urbansound8k/fold6/160575-3-0-0.wav  \n",
      "  inflating: urbansound8k/fold6/160575-3-1-0.wav  \n",
      "  inflating: urbansound8k/fold6/160575-3-4-0.wav  \n",
      "  inflating: urbansound8k/fold6/160575-3-7-0.wav  \n",
      "  inflating: urbansound8k/fold6/161922-3-1-4.wav  \n",
      "  inflating: urbansound8k/fold6/161922-3-1-5.wav  \n",
      "  inflating: urbansound8k/fold6/161922-3-1-6.wav  \n",
      "  inflating: urbansound8k/fold6/161922-3-2-0.wav  \n",
      "  inflating: urbansound8k/fold6/161923-3-0-0.wav  \n",
      "  inflating: urbansound8k/fold6/161923-3-0-12.wav  \n",
      "  inflating: urbansound8k/fold6/161923-3-0-19.wav  \n",
      "  inflating: urbansound8k/fold6/161923-3-0-5.wav  \n",
      "  inflating: urbansound8k/fold6/162434-6-0-0.wav  \n",
      "  inflating: urbansound8k/fold6/162434-6-1-0.wav  \n",
      "  inflating: urbansound8k/fold6/162434-6-2-0.wav  \n",
      "  inflating: urbansound8k/fold6/162702-1-0-0.wav  \n",
      "  inflating: urbansound8k/fold6/162702-1-1-0.wav  \n",
      "  inflating: urbansound8k/fold6/164311-3-0-0.wav  \n",
      "  inflating: urbansound8k/fold6/164311-3-1-0.wav  \n",
      "  inflating: urbansound8k/fold6/165641-4-0-0.wav  \n",
      "  inflating: urbansound8k/fold6/165641-4-0-1.wav  \n",
      "  inflating: urbansound8k/fold6/166489-3-0-1.wav  \n",
      "  inflating: urbansound8k/fold6/166489-3-0-2.wav  \n",
      "  inflating: urbansound8k/fold6/166489-3-0-4.wav  \n",
      "  inflating: urbansound8k/fold6/166931-4-0-0.wav  \n",
      "  inflating: urbansound8k/fold6/166931-4-0-1.wav  \n",
      "  inflating: urbansound8k/fold6/166931-4-1-2.wav  \n",
      "  inflating: urbansound8k/fold6/166931-4-1-4.wav  \n",
      "  inflating: urbansound8k/fold6/166931-4-1-5.wav  \n",
      "  inflating: urbansound8k/fold6/166931-4-1-6.wav  \n",
      "  inflating: urbansound8k/fold6/166931-4-2-0.wav  \n",
      "  inflating: urbansound8k/fold6/166931-4-2-12.wav  \n",
      "  inflating: urbansound8k/fold6/166931-4-2-13.wav  \n",
      "  inflating: urbansound8k/fold6/166931-4-2-3.wav  \n",
      "  inflating: urbansound8k/fold6/166931-4-2-7.wav  \n",
      "  inflating: urbansound8k/fold6/166931-4-2-8.wav  \n",
      "  inflating: urbansound8k/fold6/166931-4-3-1.wav  \n",
      "  inflating: urbansound8k/fold6/166931-4-3-2.wav  \n",
      "  inflating: urbansound8k/fold6/166931-4-4-0.wav  \n",
      "  inflating: urbansound8k/fold6/166931-4-4-2.wav  \n",
      "  inflating: urbansound8k/fold6/166931-4-4-3.wav  \n",
      "  inflating: urbansound8k/fold6/167701-4-0-0.wav  \n",
      "  inflating: urbansound8k/fold6/167701-4-1-0.wav  \n",
      "  inflating: urbansound8k/fold6/167701-4-10-0.wav  \n",
      "  inflating: urbansound8k/fold6/167701-4-11-0.wav  \n",
      "  inflating: urbansound8k/fold6/167701-4-12-0.wav  \n",
      "  inflating: urbansound8k/fold6/167701-4-2-0.wav  \n",
      "  inflating: urbansound8k/fold6/167701-4-3-0.wav  \n",
      "  inflating: urbansound8k/fold6/167701-4-4-0.wav  \n",
      "  inflating: urbansound8k/fold6/167701-4-5-0.wav  \n",
      "  inflating: urbansound8k/fold6/167701-4-6-0.wav  \n",
      "  inflating: urbansound8k/fold6/167701-4-6-1.wav  \n",
      "  inflating: urbansound8k/fold6/167701-4-6-2.wav  \n",
      "  inflating: urbansound8k/fold6/167701-4-6-3.wav  \n",
      "  inflating: urbansound8k/fold6/167701-4-6-4.wav  \n",
      "  inflating: urbansound8k/fold6/167701-4-7-0.wav  \n",
      "  inflating: urbansound8k/fold6/167701-4-9-0.wav  \n",
      "  inflating: urbansound8k/fold6/167701-4-9-1.wav  \n",
      "  inflating: urbansound8k/fold6/169045-2-0-0.wav  \n",
      "  inflating: urbansound8k/fold6/169045-2-0-1.wav  \n",
      "  inflating: urbansound8k/fold6/169045-2-0-14.wav  \n",
      "  inflating: urbansound8k/fold6/169045-2-0-16.wav  \n",
      "  inflating: urbansound8k/fold6/169045-2-0-20.wav  \n",
      "  inflating: urbansound8k/fold6/169045-2-0-3.wav  \n",
      "  inflating: urbansound8k/fold6/169045-2-0-8.wav  \n",
      "  inflating: urbansound8k/fold6/175848-1-0-0.wav  \n",
      "  inflating: urbansound8k/fold6/175917-3-0-3.wav  \n",
      "  inflating: urbansound8k/fold6/175917-3-1-1.wav  \n",
      "  inflating: urbansound8k/fold6/175917-3-2-2.wav  \n",
      "  inflating: urbansound8k/fold6/175917-3-4-1.wav  \n",
      "  inflating: urbansound8k/fold6/179725-4-0-0.wav  \n",
      "  inflating: urbansound8k/fold6/179860-1-0-0.wav  \n",
      "  inflating: urbansound8k/fold6/182474-1-0-0.wav  \n",
      "  inflating: urbansound8k/fold6/184805-0-0-101.wav  \n",
      "  inflating: urbansound8k/fold6/184805-0-0-103.wav  \n",
      "  inflating: urbansound8k/fold6/184805-0-0-104.wav  \n",
      "  inflating: urbansound8k/fold6/184805-0-0-112.wav  \n",
      "  inflating: urbansound8k/fold6/184805-0-0-121.wav  \n",
      "  inflating: urbansound8k/fold6/184805-0-0-13.wav  \n",
      "  inflating: urbansound8k/fold6/184805-0-0-16.wav  \n",
      "  inflating: urbansound8k/fold6/184805-0-0-2.wav  \n",
      "  inflating: urbansound8k/fold6/184805-0-0-27.wav  \n",
      "  inflating: urbansound8k/fold6/184805-0-0-32.wav  \n",
      "  inflating: urbansound8k/fold6/184805-0-0-34.wav  \n",
      "  inflating: urbansound8k/fold6/184805-0-0-4.wav  \n",
      "  inflating: urbansound8k/fold6/184805-0-0-40.wav  \n",
      "  inflating: urbansound8k/fold6/184805-0-0-45.wav  \n",
      "  inflating: urbansound8k/fold6/184805-0-0-47.wav  \n",
      "  inflating: urbansound8k/fold6/184805-0-0-48.wav  \n",
      "  inflating: urbansound8k/fold6/184805-0-0-49.wav  \n",
      "  inflating: urbansound8k/fold6/184805-0-0-5.wav  \n",
      "  inflating: urbansound8k/fold6/184805-0-0-51.wav  \n",
      "  inflating: urbansound8k/fold6/184805-0-0-54.wav  \n",
      "  inflating: urbansound8k/fold6/184805-0-0-57.wav  \n",
      "  inflating: urbansound8k/fold6/184805-0-0-58.wav  \n",
      "  inflating: urbansound8k/fold6/184805-0-0-61.wav  \n",
      "  inflating: urbansound8k/fold6/184805-0-0-63.wav  \n",
      "  inflating: urbansound8k/fold6/184805-0-0-64.wav  \n",
      "  inflating: urbansound8k/fold6/184805-0-0-74.wav  \n",
      "  inflating: urbansound8k/fold6/184805-0-0-75.wav  \n",
      "  inflating: urbansound8k/fold6/184805-0-0-77.wav  \n",
      "  inflating: urbansound8k/fold6/184805-0-0-81.wav  \n",
      "  inflating: urbansound8k/fold6/184805-0-0-82.wav  \n",
      "  inflating: urbansound8k/fold6/184805-0-0-88.wav  \n",
      "  inflating: urbansound8k/fold6/184805-0-0-90.wav  \n",
      "  inflating: urbansound8k/fold6/184805-0-0-99.wav  \n",
      "  inflating: urbansound8k/fold6/188004-8-0-0.wav  \n",
      "  inflating: urbansound8k/fold6/188004-8-0-1.wav  \n",
      "  inflating: urbansound8k/fold6/188004-8-0-2.wav  \n",
      "  inflating: urbansound8k/fold6/18933-1-0-0.wav  \n",
      "  inflating: urbansound8k/fold6/189986-0-0-0.wav  \n",
      "  inflating: urbansound8k/fold6/190680-3-1-0.wav  \n",
      "  inflating: urbansound8k/fold6/190680-3-4-0.wav  \n",
      "  inflating: urbansound8k/fold6/190680-3-6-0.wav  \n",
      "  inflating: urbansound8k/fold6/193697-2-0-103.wav  \n",
      "  inflating: urbansound8k/fold6/193697-2-0-107.wav  \n",
      "  inflating: urbansound8k/fold6/193697-2-0-110.wav  \n",
      "  inflating: urbansound8k/fold6/193697-2-0-135.wav  \n",
      "  inflating: urbansound8k/fold6/193697-2-0-5.wav  \n",
      "  inflating: urbansound8k/fold6/193697-2-0-90.wav  \n",
      "  inflating: urbansound8k/fold6/193697-2-0-99.wav  \n",
      "  inflating: urbansound8k/fold6/194321-9-0-100.wav  \n",
      "  inflating: urbansound8k/fold6/194321-9-0-126.wav  \n",
      "  inflating: urbansound8k/fold6/194321-9-0-150.wav  \n",
      "  inflating: urbansound8k/fold6/194321-9-0-241.wav  \n",
      "  inflating: urbansound8k/fold6/194321-9-0-6.wav  \n",
      "  inflating: urbansound8k/fold6/194321-9-0-61.wav  \n",
      "  inflating: urbansound8k/fold6/194753-3-0-0.wav  \n",
      "  inflating: urbansound8k/fold6/194753-3-1-0.wav  \n",
      "  inflating: urbansound8k/fold6/194753-3-2-0.wav  \n",
      "  inflating: urbansound8k/fold6/194753-3-3-0.wav  \n",
      "  inflating: urbansound8k/fold6/196076-2-0-0.wav  \n",
      "  inflating: urbansound8k/fold6/196077-2-0-0.wav  \n",
      "  inflating: urbansound8k/fold6/196077-2-0-1.wav  \n",
      "  inflating: urbansound8k/fold6/196088-2-0-0.wav  \n",
      "  inflating: urbansound8k/fold6/197075-3-1-1.wav  \n",
      "  inflating: urbansound8k/fold6/197075-3-4-1.wav  \n",
      "  inflating: urbansound8k/fold6/197075-3-6-0.wav  \n",
      "  inflating: urbansound8k/fold6/197075-3-7-5.wav  \n",
      "  inflating: urbansound8k/fold6/203355-3-0-0.wav  \n",
      "  inflating: urbansound8k/fold6/203355-3-1-0.wav  \n",
      "  inflating: urbansound8k/fold6/204240-0-0-0.wav  \n",
      "  inflating: urbansound8k/fold6/204240-0-0-1.wav  \n",
      "  inflating: urbansound8k/fold6/204240-0-0-10.wav  \n",
      "  inflating: urbansound8k/fold6/204240-0-0-11.wav  \n",
      "  inflating: urbansound8k/fold6/204240-0-0-12.wav  \n",
      "  inflating: urbansound8k/fold6/204240-0-0-13.wav  \n",
      "  inflating: urbansound8k/fold6/204240-0-0-14.wav  \n",
      "  inflating: urbansound8k/fold6/204240-0-0-15.wav  \n",
      "  inflating: urbansound8k/fold6/204240-0-0-16.wav  \n",
      "  inflating: urbansound8k/fold6/204240-0-0-17.wav  \n",
      "  inflating: urbansound8k/fold6/204240-0-0-18.wav  \n",
      "  inflating: urbansound8k/fold6/204240-0-0-19.wav  \n",
      "  inflating: urbansound8k/fold6/204240-0-0-2.wav  \n",
      "  inflating: urbansound8k/fold6/204240-0-0-20.wav  \n",
      "  inflating: urbansound8k/fold6/204240-0-0-21.wav  \n",
      "  inflating: urbansound8k/fold6/204240-0-0-22.wav  \n",
      "  inflating: urbansound8k/fold6/204240-0-0-23.wav  \n",
      "  inflating: urbansound8k/fold6/204240-0-0-25.wav  \n",
      "  inflating: urbansound8k/fold6/204240-0-0-26.wav  \n",
      "  inflating: urbansound8k/fold6/204240-0-0-27.wav  \n",
      "  inflating: urbansound8k/fold6/204240-0-0-28.wav  \n",
      "  inflating: urbansound8k/fold6/204240-0-0-29.wav  \n",
      "  inflating: urbansound8k/fold6/204240-0-0-3.wav  \n",
      "  inflating: urbansound8k/fold6/204240-0-0-30.wav  \n",
      "  inflating: urbansound8k/fold6/204240-0-0-31.wav  \n",
      "  inflating: urbansound8k/fold6/204240-0-0-32.wav  \n",
      "  inflating: urbansound8k/fold6/204240-0-0-33.wav  \n",
      "  inflating: urbansound8k/fold6/204240-0-0-34.wav  \n",
      "  inflating: urbansound8k/fold6/204240-0-0-35.wav  \n",
      "  inflating: urbansound8k/fold6/204240-0-0-5.wav  \n",
      "  inflating: urbansound8k/fold6/204240-0-0-6.wav  \n",
      "  inflating: urbansound8k/fold6/204240-0-0-7.wav  \n",
      "  inflating: urbansound8k/fold6/204240-0-0-8.wav  \n",
      "  inflating: urbansound8k/fold6/204240-0-0-9.wav  \n",
      "  inflating: urbansound8k/fold6/204919-3-0-0.wav  \n",
      "  inflating: urbansound8k/fold6/204919-3-1-0.wav  \n",
      "  inflating: urbansound8k/fold6/204919-3-3-0.wav  \n",
      "  inflating: urbansound8k/fold6/204919-3-4-0.wav  \n",
      "  inflating: urbansound8k/fold6/208030-3-0-0.wav  \n",
      "  inflating: urbansound8k/fold6/208030-3-1-0.wav  \n",
      "  inflating: urbansound8k/fold6/208030-3-2-0.wav  \n",
      "  inflating: urbansound8k/fold6/208030-3-4-0.wav  \n",
      "  inflating: urbansound8k/fold6/24364-4-0-0.wav  \n",
      "  inflating: urbansound8k/fold6/24364-4-0-1.wav  \n",
      "  inflating: urbansound8k/fold6/24364-4-0-10.wav  \n",
      "  inflating: urbansound8k/fold6/24364-4-0-11.wav  \n",
      "  inflating: urbansound8k/fold6/24364-4-0-12.wav  \n",
      "  inflating: urbansound8k/fold6/24364-4-0-2.wav  \n",
      "  inflating: urbansound8k/fold6/24364-4-0-3.wav  \n",
      "  inflating: urbansound8k/fold6/24364-4-0-4.wav  \n",
      "  inflating: urbansound8k/fold6/24364-4-0-5.wav  \n",
      "  inflating: urbansound8k/fold6/24364-4-0-6.wav  \n",
      "  inflating: urbansound8k/fold6/24364-4-0-7.wav  \n",
      "  inflating: urbansound8k/fold6/24364-4-0-8.wav  \n",
      "  inflating: urbansound8k/fold6/24364-4-0-9.wav  \n",
      "  inflating: urbansound8k/fold6/28284-3-0-0.wav  \n",
      "  inflating: urbansound8k/fold6/28284-3-0-1.wav  \n",
      "  inflating: urbansound8k/fold6/28284-3-1-0.wav  \n",
      "  inflating: urbansound8k/fold6/29932-1-0-0.wav  \n",
      "  inflating: urbansound8k/fold6/29932-1-1-0.wav  \n",
      "  inflating: urbansound8k/fold6/30206-7-0-0.wav  \n",
      "  inflating: urbansound8k/fold6/30206-7-0-1.wav  \n",
      "  inflating: urbansound8k/fold6/30206-7-0-10.wav  \n",
      "  inflating: urbansound8k/fold6/30206-7-0-11.wav  \n",
      "  inflating: urbansound8k/fold6/30206-7-0-12.wav  \n",
      "  inflating: urbansound8k/fold6/30206-7-0-13.wav  \n",
      "  inflating: urbansound8k/fold6/30206-7-0-14.wav  \n",
      "  inflating: urbansound8k/fold6/30206-7-0-15.wav  \n",
      "  inflating: urbansound8k/fold6/30206-7-0-16.wav  \n",
      "  inflating: urbansound8k/fold6/30206-7-0-17.wav  \n",
      "  inflating: urbansound8k/fold6/30206-7-0-18.wav  \n",
      "  inflating: urbansound8k/fold6/30206-7-0-19.wav  \n",
      "  inflating: urbansound8k/fold6/30206-7-0-2.wav  \n",
      "  inflating: urbansound8k/fold6/30206-7-0-20.wav  \n",
      "  inflating: urbansound8k/fold6/30206-7-0-21.wav  \n",
      "  inflating: urbansound8k/fold6/30206-7-0-22.wav  \n",
      "  inflating: urbansound8k/fold6/30206-7-0-23.wav  \n",
      "  inflating: urbansound8k/fold6/30206-7-0-24.wav  \n",
      "  inflating: urbansound8k/fold6/30206-7-0-25.wav  \n",
      "  inflating: urbansound8k/fold6/30206-7-0-26.wav  \n",
      "  inflating: urbansound8k/fold6/30206-7-0-27.wav  \n",
      "  inflating: urbansound8k/fold6/30206-7-0-28.wav  \n",
      "  inflating: urbansound8k/fold6/30206-7-0-29.wav  \n",
      "  inflating: urbansound8k/fold6/30206-7-0-3.wav  \n",
      "  inflating: urbansound8k/fold6/30206-7-0-30.wav  \n",
      "  inflating: urbansound8k/fold6/30206-7-0-31.wav  \n",
      "  inflating: urbansound8k/fold6/30206-7-0-32.wav  \n",
      "  inflating: urbansound8k/fold6/30206-7-0-33.wav  \n",
      "  inflating: urbansound8k/fold6/30206-7-0-34.wav  \n",
      "  inflating: urbansound8k/fold6/30206-7-0-35.wav  \n",
      "  inflating: urbansound8k/fold6/30206-7-0-36.wav  \n",
      "  inflating: urbansound8k/fold6/30206-7-0-37.wav  \n",
      "  inflating: urbansound8k/fold6/30206-7-0-38.wav  \n",
      "  inflating: urbansound8k/fold6/30206-7-0-39.wav  \n",
      "  inflating: urbansound8k/fold6/30206-7-0-4.wav  \n",
      "  inflating: urbansound8k/fold6/30206-7-0-5.wav  \n",
      "  inflating: urbansound8k/fold6/30206-7-0-6.wav  \n",
      "  inflating: urbansound8k/fold6/30206-7-0-7.wav  \n",
      "  inflating: urbansound8k/fold6/30206-7-0-8.wav  \n",
      "  inflating: urbansound8k/fold6/30206-7-0-9.wav  \n",
      "  inflating: urbansound8k/fold6/31973-9-0-43.wav  \n",
      "  inflating: urbansound8k/fold6/31973-9-0-51.wav  \n",
      "  inflating: urbansound8k/fold6/31973-9-0-56.wav  \n",
      "  inflating: urbansound8k/fold6/31973-9-0-57.wav  \n",
      "  inflating: urbansound8k/fold6/31973-9-0-64.wav  \n",
      "  inflating: urbansound8k/fold6/31973-9-0-71.wav  \n",
      "  inflating: urbansound8k/fold6/34643-4-0-0.wav  \n",
      "  inflating: urbansound8k/fold6/34643-4-1-0.wav  \n",
      "  inflating: urbansound8k/fold6/34643-4-1-1.wav  \n",
      "  inflating: urbansound8k/fold6/34643-4-2-0.wav  \n",
      "  inflating: urbansound8k/fold6/34643-4-2-1.wav  \n",
      "  inflating: urbansound8k/fold6/34643-4-2-2.wav  \n",
      "  inflating: urbansound8k/fold6/34952-8-0-0.wav  \n",
      "  inflating: urbansound8k/fold6/34952-8-0-1.wav  \n",
      "  inflating: urbansound8k/fold6/34952-8-0-2.wav  \n",
      "  inflating: urbansound8k/fold6/34952-8-0-3.wav  \n",
      "  inflating: urbansound8k/fold6/34952-8-0-4.wav  \n",
      "  inflating: urbansound8k/fold6/34952-8-0-5.wav  \n",
      "  inflating: urbansound8k/fold6/34952-8-0-6.wav  \n",
      "  inflating: urbansound8k/fold6/34952-8-0-7.wav  \n",
      "  inflating: urbansound8k/fold6/35548-9-0-10.wav  \n",
      "  inflating: urbansound8k/fold6/35548-9-0-21.wav  \n",
      "  inflating: urbansound8k/fold6/35548-9-0-23.wav  \n",
      "  inflating: urbansound8k/fold6/35548-9-1-14.wav  \n",
      "  inflating: urbansound8k/fold6/35548-9-2-7.wav  \n",
      "  inflating: urbansound8k/fold6/35548-9-2-9.wav  \n",
      "  inflating: urbansound8k/fold6/36403-6-0-0.wav  \n",
      "  inflating: urbansound8k/fold6/36902-3-0-0.wav  \n",
      "  inflating: urbansound8k/fold6/36902-3-1-0.wav  \n",
      "  inflating: urbansound8k/fold6/36902-3-2-0.wav  \n",
      "  inflating: urbansound8k/fold6/38121-3-0-0.wav  \n",
      "  inflating: urbansound8k/fold6/39852-5-0-0.wav  \n",
      "  inflating: urbansound8k/fold6/39852-5-0-1.wav  \n",
      "  inflating: urbansound8k/fold6/39854-5-0-0.wav  \n",
      "  inflating: urbansound8k/fold6/39854-5-1-0.wav  \n",
      "  inflating: urbansound8k/fold6/39854-5-1-1.wav  \n",
      "  inflating: urbansound8k/fold6/39854-5-1-2.wav  \n",
      "  inflating: urbansound8k/fold6/39854-5-1-3.wav  \n",
      "  inflating: urbansound8k/fold6/39854-5-1-4.wav  \n",
      "  inflating: urbansound8k/fold6/39884-5-0-0.wav  \n",
      "  inflating: urbansound8k/fold6/39884-5-0-1.wav  \n",
      "  inflating: urbansound8k/fold6/39884-5-0-2.wav  \n",
      "  inflating: urbansound8k/fold6/39884-5-0-3.wav  \n",
      "  inflating: urbansound8k/fold6/39884-5-0-4.wav  \n",
      "  inflating: urbansound8k/fold6/39884-5-0-5.wav  \n",
      "  inflating: urbansound8k/fold6/39884-5-0-6.wav  \n",
      "  inflating: urbansound8k/fold6/39884-5-0-7.wav  \n",
      "  inflating: urbansound8k/fold6/42955-9-0-12.wav  \n",
      "  inflating: urbansound8k/fold6/42955-9-0-14.wav  \n",
      "  inflating: urbansound8k/fold6/42955-9-0-18.wav  \n",
      "  inflating: urbansound8k/fold6/42955-9-0-19.wav  \n",
      "  inflating: urbansound8k/fold6/42955-9-0-22.wav  \n",
      "  inflating: urbansound8k/fold6/43802-1-0-0.wav  \n",
      "  inflating: urbansound8k/fold6/43802-1-1-0.wav  \n",
      "  inflating: urbansound8k/fold6/43802-1-2-0.wav  \n",
      "  inflating: urbansound8k/fold6/44325-9-0-18.wav  \n",
      "  inflating: urbansound8k/fold6/44325-9-0-21.wav  \n",
      "  inflating: urbansound8k/fold6/44325-9-0-35.wav  \n",
      "  inflating: urbansound8k/fold6/44325-9-0-67.wav  \n",
      "  inflating: urbansound8k/fold6/44325-9-0-72.wav  \n",
      "  inflating: urbansound8k/fold6/44325-9-0-78.wav  \n",
      "  inflating: urbansound8k/fold6/46299-2-0-0.wav  \n",
      "  inflating: urbansound8k/fold6/46299-2-0-16.wav  \n",
      "  inflating: urbansound8k/fold6/46299-2-0-21.wav  \n",
      "  inflating: urbansound8k/fold6/46299-2-0-22.wav  \n",
      "  inflating: urbansound8k/fold6/46299-2-0-36.wav  \n",
      "  inflating: urbansound8k/fold6/46299-2-0-48.wav  \n",
      "  inflating: urbansound8k/fold6/46299-2-0-8.wav  \n",
      "  inflating: urbansound8k/fold6/46299-2-0-9.wav  \n",
      "  inflating: urbansound8k/fold6/47160-0-0-0.wav  \n",
      "  inflating: urbansound8k/fold6/47160-0-0-1.wav  \n",
      "  inflating: urbansound8k/fold6/47160-0-0-2.wav  \n",
      "  inflating: urbansound8k/fold6/47160-0-0-3.wav  \n",
      "  inflating: urbansound8k/fold6/47160-0-0-4.wav  \n",
      "  inflating: urbansound8k/fold6/4910-3-0-0.wav  \n",
      "  inflating: urbansound8k/fold6/4912-3-0-0.wav  \n",
      "  inflating: urbansound8k/fold6/4912-3-1-0.wav  \n",
      "  inflating: urbansound8k/fold6/4912-3-2-0.wav  \n",
      "  inflating: urbansound8k/fold6/4912-3-3-0.wav  \n",
      "  inflating: urbansound8k/fold6/50455-5-0-0.wav  \n",
      "  inflating: urbansound8k/fold6/51027-3-0-7.wav  \n",
      "  inflating: urbansound8k/fold6/51027-3-0-9.wav  \n",
      "  inflating: urbansound8k/fold6/51027-3-1-1.wav  \n",
      "  inflating: urbansound8k/fold6/51027-3-1-4.wav  \n",
      "  inflating: urbansound8k/fold6/52882-2-0-0.wav  \n",
      "  inflating: urbansound8k/fold6/52882-2-0-11.wav  \n",
      "  inflating: urbansound8k/fold6/52882-2-0-3.wav  \n",
      "  inflating: urbansound8k/fold6/52882-2-0-4.wav  \n",
      "  inflating: urbansound8k/fold6/52882-2-0-6.wav  \n",
      "  inflating: urbansound8k/fold6/52882-2-0-7.wav  \n",
      "  inflating: urbansound8k/fold6/52882-2-0-8.wav  \n",
      "  inflating: urbansound8k/fold6/54697-7-0-0.wav  \n",
      "  inflating: urbansound8k/fold6/54697-7-0-1.wav  \n",
      "  inflating: urbansound8k/fold6/54697-7-0-2.wav  \n",
      "  inflating: urbansound8k/fold6/54697-7-0-3.wav  \n",
      "  inflating: urbansound8k/fold6/54697-7-0-4.wav  \n",
      "  inflating: urbansound8k/fold6/57607-1-0-0.wav  \n",
      "  inflating: urbansound8k/fold6/58005-4-0-13.wav  \n",
      "  inflating: urbansound8k/fold6/58005-4-0-17.wav  \n",
      "  inflating: urbansound8k/fold6/58005-4-0-23.wav  \n",
      "  inflating: urbansound8k/fold6/58005-4-0-24.wav  \n",
      "  inflating: urbansound8k/fold6/58005-4-0-26.wav  \n",
      "  inflating: urbansound8k/fold6/58005-4-0-30.wav  \n",
      "  inflating: urbansound8k/fold6/58005-4-0-32.wav  \n",
      "  inflating: urbansound8k/fold6/58005-4-0-34.wav  \n",
      "  inflating: urbansound8k/fold6/58005-4-0-40.wav  \n",
      "  inflating: urbansound8k/fold6/58005-4-0-41.wav  \n",
      "  inflating: urbansound8k/fold6/58005-4-0-44.wav  \n",
      "  inflating: urbansound8k/fold6/58005-4-0-45.wav  \n",
      "  inflating: urbansound8k/fold6/58005-4-0-51.wav  \n",
      "  inflating: urbansound8k/fold6/58005-4-0-55.wav  \n",
      "  inflating: urbansound8k/fold6/58005-4-0-63.wav  \n",
      "  inflating: urbansound8k/fold6/58005-4-0-68.wav  \n",
      "  inflating: urbansound8k/fold6/58005-4-0-70.wav  \n",
      "  inflating: urbansound8k/fold6/58005-4-0-76.wav  \n",
      "  inflating: urbansound8k/fold6/62564-5-0-0.wav  \n",
      "  inflating: urbansound8k/fold6/62564-5-0-1.wav  \n",
      "  inflating: urbansound8k/fold6/62564-5-0-10.wav  \n",
      "  inflating: urbansound8k/fold6/62564-5-0-2.wav  \n",
      "  inflating: urbansound8k/fold6/62564-5-0-3.wav  \n",
      "  inflating: urbansound8k/fold6/62564-5-0-4.wav  \n",
      "  inflating: urbansound8k/fold6/62564-5-0-5.wav  \n",
      "  inflating: urbansound8k/fold6/62564-5-0-6.wav  \n",
      "  inflating: urbansound8k/fold6/62564-5-0-7.wav  \n",
      "  inflating: urbansound8k/fold6/62564-5-0-8.wav  \n",
      "  inflating: urbansound8k/fold6/62564-5-0-9.wav  \n",
      "  inflating: urbansound8k/fold6/63724-0-0-0.wav  \n",
      "  inflating: urbansound8k/fold6/63724-0-0-1.wav  \n",
      "  inflating: urbansound8k/fold6/63724-0-0-10.wav  \n",
      "  inflating: urbansound8k/fold6/63724-0-0-11.wav  \n",
      "  inflating: urbansound8k/fold6/63724-0-0-12.wav  \n",
      "  inflating: urbansound8k/fold6/63724-0-0-13.wav  \n",
      "  inflating: urbansound8k/fold6/63724-0-0-14.wav  \n",
      "  inflating: urbansound8k/fold6/63724-0-0-15.wav  \n",
      "  inflating: urbansound8k/fold6/63724-0-0-16.wav  \n",
      "  inflating: urbansound8k/fold6/63724-0-0-2.wav  \n",
      "  inflating: urbansound8k/fold6/63724-0-0-3.wav  \n",
      "  inflating: urbansound8k/fold6/63724-0-0-4.wav  \n",
      "  inflating: urbansound8k/fold6/63724-0-0-5.wav  \n",
      "  inflating: urbansound8k/fold6/63724-0-0-6.wav  \n",
      "  inflating: urbansound8k/fold6/63724-0-0-7.wav  \n",
      "  inflating: urbansound8k/fold6/63724-0-0-8.wav  \n",
      "  inflating: urbansound8k/fold6/63724-0-0-9.wav  \n",
      "  inflating: urbansound8k/fold6/64346-6-0-0.wav  \n",
      "  inflating: urbansound8k/fold6/66000-9-0-0.wav  \n",
      "  inflating: urbansound8k/fold6/66000-9-0-1.wav  \n",
      "  inflating: urbansound8k/fold6/66000-9-0-2.wav  \n",
      "  inflating: urbansound8k/fold6/66000-9-0-3.wav  \n",
      "  inflating: urbansound8k/fold6/66000-9-0-6.wav  \n",
      "  inflating: urbansound8k/fold6/66000-9-0-8.wav  \n",
      "  inflating: urbansound8k/fold6/66623-4-0-0.wav  \n",
      "  inflating: urbansound8k/fold6/66623-4-0-1.wav  \n",
      "  inflating: urbansound8k/fold6/66623-4-0-2.wav  \n",
      "  inflating: urbansound8k/fold6/66623-4-0-3.wav  \n",
      "  inflating: urbansound8k/fold6/66623-4-0-4.wav  \n",
      "  inflating: urbansound8k/fold6/66623-4-0-5.wav  \n",
      "  inflating: urbansound8k/fold6/66623-4-0-6.wav  \n",
      "  inflating: urbansound8k/fold6/68657-1-0-0.wav  \n",
      "  inflating: urbansound8k/fold6/69962-2-0-11.wav  \n",
      "  inflating: urbansound8k/fold6/69962-2-0-15.wav  \n",
      "  inflating: urbansound8k/fold6/69962-2-0-16.wav  \n",
      "  inflating: urbansound8k/fold6/69962-2-0-17.wav  \n",
      "  inflating: urbansound8k/fold6/69962-2-0-2.wav  \n",
      "  inflating: urbansound8k/fold6/69962-2-0-20.wav  \n",
      "  inflating: urbansound8k/fold6/69962-2-0-22.wav  \n",
      "  inflating: urbansound8k/fold6/69962-2-0-25.wav  \n",
      "  inflating: urbansound8k/fold6/70740-8-0-0.wav  \n",
      "  inflating: urbansound8k/fold6/71079-4-0-0.wav  \n",
      "  inflating: urbansound8k/fold6/71079-4-1-0.wav  \n",
      "  inflating: urbansound8k/fold6/71088-4-0-0.wav  \n",
      "  inflating: urbansound8k/fold6/71088-4-1-0.wav  \n",
      "  inflating: urbansound8k/fold6/71088-4-2-0.wav  \n",
      "  inflating: urbansound8k/fold6/74726-8-0-0.wav  \n",
      "  inflating: urbansound8k/fold6/74726-8-0-1.wav  \n",
      "  inflating: urbansound8k/fold6/74726-8-0-10.wav  \n",
      "  inflating: urbansound8k/fold6/74726-8-0-11.wav  \n",
      "  inflating: urbansound8k/fold6/74726-8-0-12.wav  \n",
      "  inflating: urbansound8k/fold6/74726-8-0-13.wav  \n",
      "  inflating: urbansound8k/fold6/74726-8-0-14.wav  \n",
      "  inflating: urbansound8k/fold6/74726-8-0-15.wav  \n",
      "  inflating: urbansound8k/fold6/74726-8-0-16.wav  \n",
      "  inflating: urbansound8k/fold6/74726-8-0-2.wav  \n",
      "  inflating: urbansound8k/fold6/74726-8-0-3.wav  \n",
      "  inflating: urbansound8k/fold6/74726-8-0-4.wav  \n",
      "  inflating: urbansound8k/fold6/74726-8-0-5.wav  \n",
      "  inflating: urbansound8k/fold6/74726-8-0-6.wav  \n",
      "  inflating: urbansound8k/fold6/74726-8-0-7.wav  \n",
      "  inflating: urbansound8k/fold6/74726-8-0-8.wav  \n",
      "  inflating: urbansound8k/fold6/74726-8-0-9.wav  \n",
      "  inflating: urbansound8k/fold6/74726-8-1-0.wav  \n",
      "  inflating: urbansound8k/fold6/74726-8-1-1.wav  \n",
      "  inflating: urbansound8k/fold6/74726-8-1-2.wav  \n",
      "  inflating: urbansound8k/fold6/74726-8-2-0.wav  \n",
      "  inflating: urbansound8k/fold6/74726-8-2-1.wav  \n",
      "  inflating: urbansound8k/fold6/74726-8-2-2.wav  \n",
      "  inflating: urbansound8k/fold6/74726-8-2-3.wav  \n",
      "  inflating: urbansound8k/fold6/74726-8-2-4.wav  \n",
      "  inflating: urbansound8k/fold6/74726-8-2-5.wav  \n",
      "  inflating: urbansound8k/fold6/75490-8-0-0.wav  \n",
      "  inflating: urbansound8k/fold6/75490-8-0-1.wav  \n",
      "  inflating: urbansound8k/fold6/75490-8-0-2.wav  \n",
      "  inflating: urbansound8k/fold6/75490-8-1-0.wav  \n",
      "  inflating: urbansound8k/fold6/75490-8-1-1.wav  \n",
      "  inflating: urbansound8k/fold6/78651-5-0-0.wav  \n",
      "  inflating: urbansound8k/fold6/78651-5-0-1.wav  \n",
      "  inflating: urbansound8k/fold6/78651-5-0-10.wav  \n",
      "  inflating: urbansound8k/fold6/78651-5-0-11.wav  \n",
      "  inflating: urbansound8k/fold6/78651-5-0-12.wav  \n",
      "  inflating: urbansound8k/fold6/78651-5-0-13.wav  \n",
      "  inflating: urbansound8k/fold6/78651-5-0-14.wav  \n",
      "  inflating: urbansound8k/fold6/78651-5-0-15.wav  \n",
      "  inflating: urbansound8k/fold6/78651-5-0-16.wav  \n",
      "  inflating: urbansound8k/fold6/78651-5-0-17.wav  \n",
      "  inflating: urbansound8k/fold6/78651-5-0-2.wav  \n",
      "  inflating: urbansound8k/fold6/78651-5-0-3.wav  \n",
      "  inflating: urbansound8k/fold6/78651-5-0-4.wav  \n",
      "  inflating: urbansound8k/fold6/78651-5-0-5.wav  \n",
      "  inflating: urbansound8k/fold6/78651-5-0-6.wav  \n",
      "  inflating: urbansound8k/fold6/78651-5-0-7.wav  \n",
      "  inflating: urbansound8k/fold6/78651-5-0-8.wav  \n",
      "  inflating: urbansound8k/fold6/78651-5-0-9.wav  \n",
      "  inflating: urbansound8k/fold6/82317-1-0-0.wav  \n",
      "  inflating: urbansound8k/fold6/82368-2-0-0.wav  \n",
      "  inflating: urbansound8k/fold6/82368-2-0-1.wav  \n",
      "  inflating: urbansound8k/fold6/82368-2-0-10.wav  \n",
      "  inflating: urbansound8k/fold6/82368-2-0-17.wav  \n",
      "  inflating: urbansound8k/fold6/82368-2-0-23.wav  \n",
      "  inflating: urbansound8k/fold6/82368-2-0-25.wav  \n",
      "  inflating: urbansound8k/fold6/82368-2-0-30.wav  \n",
      "  inflating: urbansound8k/fold6/82368-2-0-7.wav  \n",
      "  inflating: urbansound8k/fold6/83680-5-0-0.wav  \n",
      "  inflating: urbansound8k/fold6/83680-5-0-1.wav  \n",
      "  inflating: urbansound8k/fold6/83680-5-0-2.wav  \n",
      "  inflating: urbansound8k/fold6/83680-5-0-3.wav  \n",
      "  inflating: urbansound8k/fold6/85249-2-0-10.wav  \n",
      "  inflating: urbansound8k/fold6/85249-2-0-14.wav  \n",
      "  inflating: urbansound8k/fold6/85249-2-0-25.wav  \n",
      "  inflating: urbansound8k/fold6/85249-2-0-29.wav  \n",
      "  inflating: urbansound8k/fold6/85249-2-0-61.wav  \n",
      "  inflating: urbansound8k/fold6/85249-2-0-62.wav  \n",
      "  inflating: urbansound8k/fold6/85249-2-0-68.wav  \n",
      "  inflating: urbansound8k/fold6/85249-2-0-79.wav  \n",
      "  inflating: urbansound8k/fold6/89442-9-0-14.wav  \n",
      "  inflating: urbansound8k/fold6/89442-9-0-17.wav  \n",
      "  inflating: urbansound8k/fold6/89442-9-0-34.wav  \n",
      "  inflating: urbansound8k/fold6/89442-9-0-5.wav  \n",
      "  inflating: urbansound8k/fold6/89442-9-0-6.wav  \n",
      "  inflating: urbansound8k/fold6/89442-9-0-7.wav  \n",
      "  inflating: urbansound8k/fold6/9032-3-0-0.wav  \n",
      "  inflating: urbansound8k/fold6/9032-3-1-0.wav  \n",
      "  inflating: urbansound8k/fold6/9032-3-2-0.wav  \n",
      "  inflating: urbansound8k/fold6/94632-5-0-0.wav  \n",
      "  inflating: urbansound8k/fold6/94632-5-0-10.wav  \n",
      "  inflating: urbansound8k/fold6/94632-5-0-13.wav  \n",
      "  inflating: urbansound8k/fold6/94632-5-0-14.wav  \n",
      "  inflating: urbansound8k/fold6/94632-5-0-15.wav  \n",
      "  inflating: urbansound8k/fold6/94632-5-0-2.wav  \n",
      "  inflating: urbansound8k/fold6/94632-5-0-21.wav  \n",
      "  inflating: urbansound8k/fold6/94632-5-0-22.wav  \n",
      "  inflating: urbansound8k/fold6/94632-5-0-25.wav  \n",
      "  inflating: urbansound8k/fold6/94632-5-0-27.wav  \n",
      "  inflating: urbansound8k/fold6/94632-5-0-28.wav  \n",
      "  inflating: urbansound8k/fold6/94632-5-0-29.wav  \n",
      "  inflating: urbansound8k/fold6/94632-5-0-31.wav  \n",
      "  inflating: urbansound8k/fold6/94632-5-0-33.wav  \n",
      "  inflating: urbansound8k/fold6/94632-5-0-34.wav  \n",
      "  inflating: urbansound8k/fold6/94632-5-0-6.wav  \n",
      "  inflating: urbansound8k/fold6/94632-5-0-8.wav  \n",
      "  inflating: urbansound8k/fold6/94632-5-0-9.wav  \n",
      "  inflating: urbansound8k/fold6/94632-5-1-11.wav  \n",
      "  inflating: urbansound8k/fold6/94632-5-1-13.wav  \n",
      "  inflating: urbansound8k/fold6/94632-5-1-14.wav  \n",
      "  inflating: urbansound8k/fold6/94632-5-1-17.wav  \n",
      "  inflating: urbansound8k/fold6/94632-5-1-18.wav  \n",
      "  inflating: urbansound8k/fold6/94632-5-1-19.wav  \n",
      "  inflating: urbansound8k/fold6/94632-5-1-2.wav  \n",
      "  inflating: urbansound8k/fold6/94632-5-1-23.wav  \n",
      "  inflating: urbansound8k/fold6/94632-5-1-26.wav  \n",
      "  inflating: urbansound8k/fold6/94632-5-1-28.wav  \n",
      "  inflating: urbansound8k/fold6/94632-5-1-30.wav  \n",
      "  inflating: urbansound8k/fold6/94632-5-1-7.wav  \n",
      "  inflating: urbansound8k/fold6/94632-5-1-9.wav  \n",
      "  inflating: urbansound8k/fold6/95532-3-0-0.wav  \n",
      "  inflating: urbansound8k/fold6/95536-3-0-1.wav  \n",
      "  inflating: urbansound8k/fold6/95536-3-0-2.wav  \n",
      "  inflating: urbansound8k/fold6/95536-3-0-4.wav  \n",
      "  inflating: urbansound8k/fold6/95536-3-0-5.wav  \n",
      "  inflating: urbansound8k/fold6/97331-2-0-13.wav  \n",
      "  inflating: urbansound8k/fold6/97331-2-0-17.wav  \n",
      "  inflating: urbansound8k/fold6/97331-2-0-20.wav  \n",
      "  inflating: urbansound8k/fold6/97331-2-0-35.wav  \n",
      "  inflating: urbansound8k/fold6/97331-2-0-50.wav  \n",
      "  inflating: urbansound8k/fold6/97331-2-0-55.wav  \n",
      "  inflating: urbansound8k/fold6/97331-2-0-59.wav  \n",
      "  inflating: urbansound8k/fold6/97331-2-0-98.wav  \n",
      "  inflating: urbansound8k/fold6/97392-3-0-0.wav  \n",
      "  inflating: urbansound8k/fold6/98263-9-0-1.wav  \n",
      "  inflating: urbansound8k/fold6/98263-9-0-10.wav  \n",
      "  inflating: urbansound8k/fold6/98263-9-0-22.wav  \n",
      "  inflating: urbansound8k/fold6/98263-9-0-24.wav  \n",
      "  inflating: urbansound8k/fold6/98263-9-0-33.wav  \n",
      "  inflating: urbansound8k/fold6/98263-9-0-35.wav  \n",
      "  inflating: urbansound8k/fold6/98680-9-0-11.wav  \n",
      "  inflating: urbansound8k/fold6/98680-9-0-14.wav  \n",
      "  inflating: urbansound8k/fold6/98680-9-0-2.wav  \n",
      "  inflating: urbansound8k/fold6/98680-9-0-3.wav  \n",
      "  inflating: urbansound8k/fold6/98680-9-0-5.wav  \n",
      "  inflating: urbansound8k/fold6/99710-9-0-11.wav  \n",
      "  inflating: urbansound8k/fold6/99710-9-0-12.wav  \n",
      "  inflating: urbansound8k/fold6/99710-9-0-16.wav  \n",
      "  inflating: urbansound8k/fold6/99710-9-0-2.wav  \n",
      "  inflating: urbansound8k/fold6/99710-9-0-5.wav  \n",
      "  inflating: urbansound8k/fold6/99710-9-0-6.wav  \n",
      "  inflating: urbansound8k/fold7/101848-9-0-0.wav  \n",
      "  inflating: urbansound8k/fold7/101848-9-0-1.wav  \n",
      "  inflating: urbansound8k/fold7/101848-9-0-2.wav  \n",
      "  inflating: urbansound8k/fold7/101848-9-0-3.wav  \n",
      "  inflating: urbansound8k/fold7/101848-9-0-8.wav  \n",
      "  inflating: urbansound8k/fold7/101848-9-0-9.wav  \n",
      "  inflating: urbansound8k/fold7/102853-8-0-0.wav  \n",
      "  inflating: urbansound8k/fold7/102853-8-0-1.wav  \n",
      "  inflating: urbansound8k/fold7/102853-8-0-2.wav  \n",
      "  inflating: urbansound8k/fold7/102853-8-0-3.wav  \n",
      "  inflating: urbansound8k/fold7/102853-8-0-4.wav  \n",
      "  inflating: urbansound8k/fold7/102853-8-0-5.wav  \n",
      "  inflating: urbansound8k/fold7/102853-8-0-6.wav  \n",
      "  inflating: urbansound8k/fold7/102853-8-1-0.wav  \n",
      "  inflating: urbansound8k/fold7/104625-4-0-15.wav  \n",
      "  inflating: urbansound8k/fold7/104625-4-0-21.wav  \n",
      "  inflating: urbansound8k/fold7/104625-4-0-27.wav  \n",
      "  inflating: urbansound8k/fold7/104625-4-0-29.wav  \n",
      "  inflating: urbansound8k/fold7/104625-4-0-3.wav  \n",
      "  inflating: urbansound8k/fold7/104625-4-0-35.wav  \n",
      "  inflating: urbansound8k/fold7/104625-4-0-40.wav  \n",
      "  inflating: urbansound8k/fold7/104625-4-0-41.wav  \n",
      "  inflating: urbansound8k/fold7/104625-4-0-45.wav  \n",
      "  inflating: urbansound8k/fold7/104625-4-0-48.wav  \n",
      "  inflating: urbansound8k/fold7/104625-4-0-51.wav  \n",
      "  inflating: urbansound8k/fold7/104625-4-0-52.wav  \n",
      "  inflating: urbansound8k/fold7/104625-4-0-53.wav  \n",
      "  inflating: urbansound8k/fold7/104625-4-0-55.wav  \n",
      "  inflating: urbansound8k/fold7/104625-4-0-57.wav  \n",
      "  inflating: urbansound8k/fold7/104625-4-0-66.wav  \n",
      "  inflating: urbansound8k/fold7/104625-4-1-20.wav  \n",
      "  inflating: urbansound8k/fold7/104625-4-1-8.wav  \n",
      "  inflating: urbansound8k/fold7/105289-8-0-0.wav  \n",
      "  inflating: urbansound8k/fold7/105289-8-0-1.wav  \n",
      "  inflating: urbansound8k/fold7/105289-8-0-2.wav  \n",
      "  inflating: urbansound8k/fold7/105289-8-0-3.wav  \n",
      "  inflating: urbansound8k/fold7/105289-8-0-4.wav  \n",
      "  inflating: urbansound8k/fold7/105289-8-0-5.wav  \n",
      "  inflating: urbansound8k/fold7/105289-8-1-0.wav  \n",
      "  inflating: urbansound8k/fold7/105289-8-1-1.wav  \n",
      "  inflating: urbansound8k/fold7/105289-8-1-2.wav  \n",
      "  inflating: urbansound8k/fold7/105289-8-1-3.wav  \n",
      "  inflating: urbansound8k/fold7/105289-8-1-4.wav  \n",
      "  inflating: urbansound8k/fold7/105289-8-2-0.wav  \n",
      "  inflating: urbansound8k/fold7/105289-8-2-1.wav  \n",
      "  inflating: urbansound8k/fold7/105289-8-2-2.wav  \n",
      "  inflating: urbansound8k/fold7/105289-8-2-3.wav  \n",
      "  inflating: urbansound8k/fold7/105289-8-2-4.wav  \n",
      "  inflating: urbansound8k/fold7/105289-8-2-5.wav  \n",
      "  inflating: urbansound8k/fold7/105289-8-2-6.wav  \n",
      "  inflating: urbansound8k/fold7/105289-8-2-7.wav  \n",
      "  inflating: urbansound8k/fold7/107357-8-0-0.wav  \n",
      "  inflating: urbansound8k/fold7/107357-8-0-1.wav  \n",
      "  inflating: urbansound8k/fold7/107357-8-0-2.wav  \n",
      "  inflating: urbansound8k/fold7/107357-8-0-3.wav  \n",
      "  inflating: urbansound8k/fold7/107357-8-0-4.wav  \n",
      "  inflating: urbansound8k/fold7/107357-8-0-5.wav  \n",
      "  inflating: urbansound8k/fold7/107357-8-0-6.wav  \n",
      "  inflating: urbansound8k/fold7/107357-8-0-7.wav  \n",
      "  inflating: urbansound8k/fold7/107357-8-0-8.wav  \n",
      "  inflating: urbansound8k/fold7/107357-8-1-0.wav  \n",
      "  inflating: urbansound8k/fold7/107357-8-1-1.wav  \n",
      "  inflating: urbansound8k/fold7/107357-8-1-10.wav  \n",
      "  inflating: urbansound8k/fold7/107357-8-1-11.wav  \n",
      "  inflating: urbansound8k/fold7/107357-8-1-12.wav  \n",
      "  inflating: urbansound8k/fold7/107357-8-1-13.wav  \n",
      "  inflating: urbansound8k/fold7/107357-8-1-14.wav  \n",
      "  inflating: urbansound8k/fold7/107357-8-1-15.wav  \n",
      "  inflating: urbansound8k/fold7/107357-8-1-16.wav  \n",
      "  inflating: urbansound8k/fold7/107357-8-1-17.wav  \n",
      "  inflating: urbansound8k/fold7/107357-8-1-18.wav  \n",
      "  inflating: urbansound8k/fold7/107357-8-1-2.wav  \n",
      "  inflating: urbansound8k/fold7/107357-8-1-3.wav  \n",
      "  inflating: urbansound8k/fold7/107357-8-1-4.wav  \n",
      "  inflating: urbansound8k/fold7/107357-8-1-5.wav  \n",
      "  inflating: urbansound8k/fold7/107357-8-1-6.wav  \n",
      "  inflating: urbansound8k/fold7/107357-8-1-7.wav  \n",
      "  inflating: urbansound8k/fold7/107357-8-1-8.wav  \n",
      "  inflating: urbansound8k/fold7/107357-8-1-9.wav  \n",
      "  inflating: urbansound8k/fold7/110918-3-0-1.wav  \n",
      "  inflating: urbansound8k/fold7/110918-3-0-26.wav  \n",
      "  inflating: urbansound8k/fold7/110918-3-0-40.wav  \n",
      "  inflating: urbansound8k/fold7/110918-3-0-9.wav  \n",
      "  inflating: urbansound8k/fold7/115242-9-0-14.wav  \n",
      "  inflating: urbansound8k/fold7/115242-9-0-44.wav  \n",
      "  inflating: urbansound8k/fold7/115242-9-0-55.wav  \n",
      "  inflating: urbansound8k/fold7/115242-9-0-68.wav  \n",
      "  inflating: urbansound8k/fold7/115242-9-0-70.wav  \n",
      "  inflating: urbansound8k/fold7/115242-9-0-83.wav  \n",
      "  inflating: urbansound8k/fold7/115411-3-0-0.wav  \n",
      "  inflating: urbansound8k/fold7/115411-3-2-0.wav  \n",
      "  inflating: urbansound8k/fold7/115411-3-3-0.wav  \n",
      "  inflating: urbansound8k/fold7/116485-3-0-4.wav  \n",
      "  inflating: urbansound8k/fold7/116485-3-0-6.wav  \n",
      "  inflating: urbansound8k/fold7/116485-3-2-0.wav  \n",
      "  inflating: urbansound8k/fold7/116485-3-2-4.wav  \n",
      "  inflating: urbansound8k/fold7/118587-3-0-2.wav  \n",
      "  inflating: urbansound8k/fold7/118587-3-0-21.wav  \n",
      "  inflating: urbansound8k/fold7/118587-3-0-6.wav  \n",
      "  inflating: urbansound8k/fold7/123685-5-0-0.wav  \n",
      "  inflating: urbansound8k/fold7/123685-5-0-1.wav  \n",
      "  inflating: urbansound8k/fold7/123685-5-0-2.wav  \n",
      "  inflating: urbansound8k/fold7/123685-5-0-3.wav  \n",
      "  inflating: urbansound8k/fold7/123685-5-0-4.wav  \n",
      "  inflating: urbansound8k/fold7/123685-5-0-5.wav  \n",
      "  inflating: urbansound8k/fold7/123685-5-0-6.wav  \n",
      "  inflating: urbansound8k/fold7/123685-5-0-7.wav  \n",
      "  inflating: urbansound8k/fold7/123685-5-0-8.wav  \n",
      "  inflating: urbansound8k/fold7/127443-4-0-0.wav  \n",
      "  inflating: urbansound8k/fold7/127443-4-0-1.wav  \n",
      "  inflating: urbansound8k/fold7/127443-4-0-10.wav  \n",
      "  inflating: urbansound8k/fold7/127443-4-0-11.wav  \n",
      "  inflating: urbansound8k/fold7/127443-4-0-12.wav  \n",
      "  inflating: urbansound8k/fold7/127443-4-0-2.wav  \n",
      "  inflating: urbansound8k/fold7/127443-4-0-3.wav  \n",
      "  inflating: urbansound8k/fold7/127443-4-0-4.wav  \n",
      "  inflating: urbansound8k/fold7/127443-4-0-5.wav  \n",
      "  inflating: urbansound8k/fold7/127443-4-0-6.wav  \n",
      "  inflating: urbansound8k/fold7/127443-4-0-7.wav  \n",
      "  inflating: urbansound8k/fold7/127443-4-0-8.wav  \n",
      "  inflating: urbansound8k/fold7/127443-4-0-9.wav  \n",
      "  inflating: urbansound8k/fold7/130961-4-0-0.wav  \n",
      "  inflating: urbansound8k/fold7/130961-4-1-1.wav  \n",
      "  inflating: urbansound8k/fold7/130961-4-1-2.wav  \n",
      "  inflating: urbansound8k/fold7/130961-4-1-3.wav  \n",
      "  inflating: urbansound8k/fold7/130961-4-1-4.wav  \n",
      "  inflating: urbansound8k/fold7/130961-4-2-1.wav  \n",
      "  inflating: urbansound8k/fold7/130961-4-2-2.wav  \n",
      "  inflating: urbansound8k/fold7/130961-4-3-0.wav  \n",
      "  inflating: urbansound8k/fold7/130961-4-3-1.wav  \n",
      "  inflating: urbansound8k/fold7/130961-4-3-2.wav  \n",
      "  inflating: urbansound8k/fold7/130961-4-4-0.wav  \n",
      "  inflating: urbansound8k/fold7/130961-4-5-0.wav  \n",
      "  inflating: urbansound8k/fold7/130961-4-5-1.wav  \n",
      "  inflating: urbansound8k/fold7/130961-4-5-2.wav  \n",
      "  inflating: urbansound8k/fold7/130961-4-5-3.wav  \n",
      "  inflating: urbansound8k/fold7/130961-4-5-4.wav  \n",
      "  inflating: urbansound8k/fold7/130961-4-5-5.wav  \n",
      "  inflating: urbansound8k/fold7/135527-6-0-0.wav  \n",
      "  inflating: urbansound8k/fold7/135527-6-1-0.wav  \n",
      "  inflating: urbansound8k/fold7/135527-6-10-0.wav  \n",
      "  inflating: urbansound8k/fold7/135527-6-11-0.wav  \n",
      "  inflating: urbansound8k/fold7/135527-6-12-0.wav  \n",
      "  inflating: urbansound8k/fold7/135527-6-13-0.wav  \n",
      "  inflating: urbansound8k/fold7/135527-6-14-0.wav  \n",
      "  inflating: urbansound8k/fold7/135527-6-14-1.wav  \n",
      "  inflating: urbansound8k/fold7/135527-6-14-10.wav  \n",
      "  inflating: urbansound8k/fold7/135527-6-14-2.wav  \n",
      "  inflating: urbansound8k/fold7/135527-6-14-3.wav  \n",
      "  inflating: urbansound8k/fold7/135527-6-14-4.wav  \n",
      "  inflating: urbansound8k/fold7/135527-6-14-5.wav  \n",
      "  inflating: urbansound8k/fold7/135527-6-14-6.wav  \n",
      "  inflating: urbansound8k/fold7/135527-6-14-7.wav  \n",
      "  inflating: urbansound8k/fold7/135527-6-14-8.wav  \n",
      "  inflating: urbansound8k/fold7/135527-6-14-9.wav  \n",
      "  inflating: urbansound8k/fold7/135527-6-2-0.wav  \n",
      "  inflating: urbansound8k/fold7/135527-6-3-0.wav  \n",
      "  inflating: urbansound8k/fold7/135527-6-4-0.wav  \n",
      "  inflating: urbansound8k/fold7/135527-6-5-0.wav  \n",
      "  inflating: urbansound8k/fold7/135527-6-6-0.wav  \n",
      "  inflating: urbansound8k/fold7/135527-6-7-0.wav  \n",
      "  inflating: urbansound8k/fold7/135527-6-8-0.wav  \n",
      "  inflating: urbansound8k/fold7/135527-6-9-0.wav  \n",
      "  inflating: urbansound8k/fold7/135849-4-0-0.wav  \n",
      "  inflating: urbansound8k/fold7/14524-1-0-0.wav  \n",
      "  inflating: urbansound8k/fold7/146845-0-0-0.wav  \n",
      "  inflating: urbansound8k/fold7/146845-0-0-1.wav  \n",
      "  inflating: urbansound8k/fold7/146845-0-0-10.wav  \n",
      "  inflating: urbansound8k/fold7/146845-0-0-11.wav  \n",
      "  inflating: urbansound8k/fold7/146845-0-0-12.wav  \n",
      "  inflating: urbansound8k/fold7/146845-0-0-13.wav  \n",
      "  inflating: urbansound8k/fold7/146845-0-0-14.wav  \n",
      "  inflating: urbansound8k/fold7/146845-0-0-15.wav  \n",
      "  inflating: urbansound8k/fold7/146845-0-0-16.wav  \n",
      "  inflating: urbansound8k/fold7/146845-0-0-17.wav  \n",
      "  inflating: urbansound8k/fold7/146845-0-0-18.wav  \n",
      "  inflating: urbansound8k/fold7/146845-0-0-19.wav  \n",
      "  inflating: urbansound8k/fold7/146845-0-0-2.wav  \n",
      "  inflating: urbansound8k/fold7/146845-0-0-20.wav  \n",
      "  inflating: urbansound8k/fold7/146845-0-0-21.wav  \n",
      "  inflating: urbansound8k/fold7/146845-0-0-22.wav  \n",
      "  inflating: urbansound8k/fold7/146845-0-0-24.wav  \n",
      "  inflating: urbansound8k/fold7/146845-0-0-25.wav  \n",
      "  inflating: urbansound8k/fold7/146845-0-0-26.wav  \n",
      "  inflating: urbansound8k/fold7/146845-0-0-27.wav  \n",
      "  inflating: urbansound8k/fold7/146845-0-0-3.wav  \n",
      "  inflating: urbansound8k/fold7/146845-0-0-30.wav  \n",
      "  inflating: urbansound8k/fold7/146845-0-0-31.wav  \n",
      "  inflating: urbansound8k/fold7/146845-0-0-32.wav  \n",
      "  inflating: urbansound8k/fold7/146845-0-0-33.wav  \n",
      "  inflating: urbansound8k/fold7/146845-0-0-35.wav  \n",
      "  inflating: urbansound8k/fold7/146845-0-0-36.wav  \n",
      "  inflating: urbansound8k/fold7/146845-0-0-5.wav  \n",
      "  inflating: urbansound8k/fold7/146845-0-0-6.wav  \n",
      "  inflating: urbansound8k/fold7/146845-0-0-7.wav  \n",
      "  inflating: urbansound8k/fold7/146845-0-0-8.wav  \n",
      "  inflating: urbansound8k/fold7/146845-0-0-9.wav  \n",
      "  inflating: urbansound8k/fold7/147317-6-0-0.wav  \n",
      "  inflating: urbansound8k/fold7/14772-7-0-0.wav  \n",
      "  inflating: urbansound8k/fold7/14772-7-1-0.wav  \n",
      "  inflating: urbansound8k/fold7/14772-7-2-0.wav  \n",
      "  inflating: urbansound8k/fold7/14772-7-3-0.wav  \n",
      "  inflating: urbansound8k/fold7/14772-7-4-0.wav  \n",
      "  inflating: urbansound8k/fold7/14772-7-5-0.wav  \n",
      "  inflating: urbansound8k/fold7/14772-7-6-0.wav  \n",
      "  inflating: urbansound8k/fold7/14772-7-7-0.wav  \n",
      "  inflating: urbansound8k/fold7/14772-7-8-0.wav  \n",
      "  inflating: urbansound8k/fold7/14772-7-9-0.wav  \n",
      "  inflating: urbansound8k/fold7/148827-6-0-0.wav  \n",
      "  inflating: urbansound8k/fold7/148827-6-1-0.wav  \n",
      "  inflating: urbansound8k/fold7/148827-6-2-0.wav  \n",
      "  inflating: urbansound8k/fold7/148827-6-3-0.wav  \n",
      "  inflating: urbansound8k/fold7/148827-6-4-0.wav  \n",
      "  inflating: urbansound8k/fold7/148828-6-0-0.wav  \n",
      "  inflating: urbansound8k/fold7/148828-6-1-0.wav  \n",
      "  inflating: urbansound8k/fold7/149193-5-0-0.wav  \n",
      "  inflating: urbansound8k/fold7/149193-5-0-1.wav  \n",
      "  inflating: urbansound8k/fold7/149193-5-0-2.wav  \n",
      "  inflating: urbansound8k/fold7/149193-5-0-3.wav  \n",
      "  inflating: urbansound8k/fold7/149193-5-0-4.wav  \n",
      "  inflating: urbansound8k/fold7/149193-5-0-5.wav  \n",
      "  inflating: urbansound8k/fold7/151065-6-0-0.wav  \n",
      "  inflating: urbansound8k/fold7/153057-1-0-0.wav  \n",
      "  inflating: urbansound8k/fold7/155238-2-0-17.wav  \n",
      "  inflating: urbansound8k/fold7/155238-2-0-3.wav  \n",
      "  inflating: urbansound8k/fold7/155238-2-0-31.wav  \n",
      "  inflating: urbansound8k/fold7/155238-2-0-36.wav  \n",
      "  inflating: urbansound8k/fold7/155238-2-0-47.wav  \n",
      "  inflating: urbansound8k/fold7/155238-2-0-67.wav  \n",
      "  inflating: urbansound8k/fold7/155238-2-0-75.wav  \n",
      "  inflating: urbansound8k/fold7/155238-2-0-97.wav  \n",
      "  inflating: urbansound8k/fold7/155299-3-0-1.wav  \n",
      "  inflating: urbansound8k/fold7/155299-3-1-0.wav  \n",
      "  inflating: urbansound8k/fold7/155299-3-1-1.wav  \n",
      "  inflating: urbansound8k/fold7/155299-3-1-2.wav  \n",
      "  inflating: urbansound8k/fold7/155314-3-0-1.wav  \n",
      "  inflating: urbansound8k/fold7/155314-3-0-2.wav  \n",
      "  inflating: urbansound8k/fold7/155314-3-0-5.wav  \n",
      "  inflating: urbansound8k/fold7/155315-3-0-0.wav  \n",
      "  inflating: urbansound8k/fold7/156091-1-0-0.wav  \n",
      "  inflating: urbansound8k/fold7/157940-9-0-0.wav  \n",
      "  inflating: urbansound8k/fold7/157940-9-0-2.wav  \n",
      "  inflating: urbansound8k/fold7/157940-9-0-3.wav  \n",
      "  inflating: urbansound8k/fold7/157940-9-0-4.wav  \n",
      "  inflating: urbansound8k/fold7/157940-9-0-5.wav  \n",
      "  inflating: urbansound8k/fold7/157940-9-0-6.wav  \n",
      "  inflating: urbansound8k/fold7/157950-3-0-0.wav  \n",
      "  inflating: urbansound8k/fold7/158593-2-0-0.wav  \n",
      "  inflating: urbansound8k/fold7/158593-2-0-31.wav  \n",
      "  inflating: urbansound8k/fold7/158593-2-0-43.wav  \n",
      "  inflating: urbansound8k/fold7/158593-2-0-47.wav  \n",
      "  inflating: urbansound8k/fold7/158593-2-0-52.wav  \n",
      "  inflating: urbansound8k/fold7/158593-2-0-54.wav  \n",
      "  inflating: urbansound8k/fold7/158593-2-0-8.wav  \n",
      "  inflating: urbansound8k/fold7/158978-6-0-0.wav  \n",
      "  inflating: urbansound8k/fold7/159705-6-0-0.wav  \n",
      "  inflating: urbansound8k/fold7/159708-6-0-0.wav  \n",
      "  inflating: urbansound8k/fold7/159708-6-1-0.wav  \n",
      "  inflating: urbansound8k/fold7/159708-6-2-0.wav  \n",
      "  inflating: urbansound8k/fold7/159708-6-3-0.wav  \n",
      "  inflating: urbansound8k/fold7/159708-6-4-0.wav  \n",
      "  inflating: urbansound8k/fold7/159708-6-5-0.wav  \n",
      "  inflating: urbansound8k/fold7/159708-6-6-0.wav  \n",
      "  inflating: urbansound8k/fold7/162728-1-0-0.wav  \n",
      "  inflating: urbansound8k/fold7/164627-1-0-0.wav  \n",
      "  inflating: urbansound8k/fold7/164797-2-0-16.wav  \n",
      "  inflating: urbansound8k/fold7/164797-2-0-29.wav  \n",
      "  inflating: urbansound8k/fold7/164797-2-0-32.wav  \n",
      "  inflating: urbansound8k/fold7/164797-2-0-44.wav  \n",
      "  inflating: urbansound8k/fold7/164797-2-0-47.wav  \n",
      "  inflating: urbansound8k/fold7/164797-2-0-50.wav  \n",
      "  inflating: urbansound8k/fold7/164797-2-0-8.wav  \n",
      "  inflating: urbansound8k/fold7/165192-9-0-118.wav  \n",
      "  inflating: urbansound8k/fold7/165192-9-0-146.wav  \n",
      "  inflating: urbansound8k/fold7/165192-9-0-160.wav  \n",
      "  inflating: urbansound8k/fold7/165192-9-0-5.wav  \n",
      "  inflating: urbansound8k/fold7/165192-9-0-76.wav  \n",
      "  inflating: urbansound8k/fold7/165192-9-0-87.wav  \n",
      "  inflating: urbansound8k/fold7/165529-2-0-18.wav  \n",
      "  inflating: urbansound8k/fold7/165529-2-0-3.wav  \n",
      "  inflating: urbansound8k/fold7/165529-2-0-6.wav  \n",
      "  inflating: urbansound8k/fold7/165529-2-0-70.wav  \n",
      "  inflating: urbansound8k/fold7/165529-2-0-73.wav  \n",
      "  inflating: urbansound8k/fold7/165529-2-0-8.wav  \n",
      "  inflating: urbansound8k/fold7/165529-2-0-90.wav  \n",
      "  inflating: urbansound8k/fold7/165644-4-0-0.wav  \n",
      "  inflating: urbansound8k/fold7/165644-4-0-1.wav  \n",
      "  inflating: urbansound8k/fold7/168846-5-0-0.wav  \n",
      "  inflating: urbansound8k/fold7/168846-5-0-1.wav  \n",
      "  inflating: urbansound8k/fold7/168846-5-0-2.wav  \n",
      "  inflating: urbansound8k/fold7/168846-5-1-0.wav  \n",
      "  inflating: urbansound8k/fold7/168846-5-1-1.wav  \n",
      "  inflating: urbansound8k/fold7/168846-5-1-10.wav  \n",
      "  inflating: urbansound8k/fold7/168846-5-1-11.wav  \n",
      "  inflating: urbansound8k/fold7/168846-5-1-12.wav  \n",
      "  inflating: urbansound8k/fold7/168846-5-1-13.wav  \n",
      "  inflating: urbansound8k/fold7/168846-5-1-14.wav  \n",
      "  inflating: urbansound8k/fold7/168846-5-1-2.wav  \n",
      "  inflating: urbansound8k/fold7/168846-5-1-3.wav  \n",
      "  inflating: urbansound8k/fold7/168846-5-1-4.wav  \n",
      "  inflating: urbansound8k/fold7/168846-5-1-5.wav  \n",
      "  inflating: urbansound8k/fold7/168846-5-1-6.wav  \n",
      "  inflating: urbansound8k/fold7/168846-5-1-7.wav  \n",
      "  inflating: urbansound8k/fold7/168846-5-1-8.wav  \n",
      "  inflating: urbansound8k/fold7/168846-5-1-9.wav  \n",
      "  inflating: urbansound8k/fold7/170243-1-0-0.wav  \n",
      "  inflating: urbansound8k/fold7/171165-9-0-103.wav  \n",
      "  inflating: urbansound8k/fold7/171165-9-0-15.wav  \n",
      "  inflating: urbansound8k/fold7/171165-9-0-19.wav  \n",
      "  inflating: urbansound8k/fold7/171165-9-0-54.wav  \n",
      "  inflating: urbansound8k/fold7/171165-9-0-70.wav  \n",
      "  inflating: urbansound8k/fold7/171165-9-0-84.wav  \n",
      "  inflating: urbansound8k/fold7/171184-9-0-17.wav  \n",
      "  inflating: urbansound8k/fold7/171184-9-0-18.wav  \n",
      "  inflating: urbansound8k/fold7/171184-9-0-19.wav  \n",
      "  inflating: urbansound8k/fold7/171184-9-0-23.wav  \n",
      "  inflating: urbansound8k/fold7/171184-9-0-6.wav  \n",
      "  inflating: urbansound8k/fold7/171184-9-0-7.wav  \n",
      "  inflating: urbansound8k/fold7/173891-9-0-1.wav  \n",
      "  inflating: urbansound8k/fold7/173891-9-0-10.wav  \n",
      "  inflating: urbansound8k/fold7/173891-9-0-11.wav  \n",
      "  inflating: urbansound8k/fold7/173891-9-0-17.wav  \n",
      "  inflating: urbansound8k/fold7/173891-9-0-2.wav  \n",
      "  inflating: urbansound8k/fold7/173891-9-0-7.wav  \n",
      "  inflating: urbansound8k/fold7/174284-6-0-0.wav  \n",
      "  inflating: urbansound8k/fold7/174284-6-1-0.wav  \n",
      "  inflating: urbansound8k/fold7/174284-6-2-0.wav  \n",
      "  inflating: urbansound8k/fold7/175296-2-0-123.wav  \n",
      "  inflating: urbansound8k/fold7/175296-2-0-128.wav  \n",
      "  inflating: urbansound8k/fold7/175296-2-0-140.wav  \n",
      "  inflating: urbansound8k/fold7/175296-2-0-212.wav  \n",
      "  inflating: urbansound8k/fold7/175296-2-0-3.wav  \n",
      "  inflating: urbansound8k/fold7/175296-2-0-54.wav  \n",
      "  inflating: urbansound8k/fold7/175296-2-0-76.wav  \n",
      "  inflating: urbansound8k/fold7/175296-2-0-86.wav  \n",
      "  inflating: urbansound8k/fold7/177537-7-0-0.wav  \n",
      "  inflating: urbansound8k/fold7/177537-7-0-1.wav  \n",
      "  inflating: urbansound8k/fold7/177537-7-0-10.wav  \n",
      "  inflating: urbansound8k/fold7/177537-7-0-11.wav  \n",
      "  inflating: urbansound8k/fold7/177537-7-0-12.wav  \n",
      "  inflating: urbansound8k/fold7/177537-7-0-13.wav  \n",
      "  inflating: urbansound8k/fold7/177537-7-0-14.wav  \n",
      "  inflating: urbansound8k/fold7/177537-7-0-15.wav  \n",
      "  inflating: urbansound8k/fold7/177537-7-0-16.wav  \n",
      "  inflating: urbansound8k/fold7/177537-7-0-17.wav  \n",
      "  inflating: urbansound8k/fold7/177537-7-0-18.wav  \n",
      "  inflating: urbansound8k/fold7/177537-7-0-19.wav  \n",
      "  inflating: urbansound8k/fold7/177537-7-0-2.wav  \n",
      "  inflating: urbansound8k/fold7/177537-7-0-20.wav  \n",
      "  inflating: urbansound8k/fold7/177537-7-0-21.wav  \n",
      "  inflating: urbansound8k/fold7/177537-7-0-22.wav  \n",
      "  inflating: urbansound8k/fold7/177537-7-0-23.wav  \n",
      "  inflating: urbansound8k/fold7/177537-7-0-24.wav  \n",
      "  inflating: urbansound8k/fold7/177537-7-0-25.wav  \n",
      "  inflating: urbansound8k/fold7/177537-7-0-26.wav  \n",
      "  inflating: urbansound8k/fold7/177537-7-0-27.wav  \n",
      "  inflating: urbansound8k/fold7/177537-7-0-28.wav  \n",
      "  inflating: urbansound8k/fold7/177537-7-0-29.wav  \n",
      "  inflating: urbansound8k/fold7/177537-7-0-3.wav  \n",
      "  inflating: urbansound8k/fold7/177537-7-0-30.wav  \n",
      "  inflating: urbansound8k/fold7/177537-7-0-31.wav  \n",
      "  inflating: urbansound8k/fold7/177537-7-0-4.wav  \n",
      "  inflating: urbansound8k/fold7/177537-7-0-5.wav  \n",
      "  inflating: urbansound8k/fold7/177537-7-0-6.wav  \n",
      "  inflating: urbansound8k/fold7/177537-7-0-7.wav  \n",
      "  inflating: urbansound8k/fold7/177537-7-0-8.wav  \n",
      "  inflating: urbansound8k/fold7/177537-7-0-9.wav  \n",
      "  inflating: urbansound8k/fold7/177537-7-1-0.wav  \n",
      "  inflating: urbansound8k/fold7/177537-7-1-1.wav  \n",
      "  inflating: urbansound8k/fold7/177537-7-1-10.wav  \n",
      "  inflating: urbansound8k/fold7/177537-7-1-2.wav  \n",
      "  inflating: urbansound8k/fold7/177537-7-1-3.wav  \n",
      "  inflating: urbansound8k/fold7/177537-7-1-4.wav  \n",
      "  inflating: urbansound8k/fold7/177537-7-1-5.wav  \n",
      "  inflating: urbansound8k/fold7/177537-7-1-6.wav  \n",
      "  inflating: urbansound8k/fold7/177537-7-1-7.wav  \n",
      "  inflating: urbansound8k/fold7/177537-7-1-8.wav  \n",
      "  inflating: urbansound8k/fold7/177537-7-1-9.wav  \n",
      "  inflating: urbansound8k/fold7/177537-7-2-0.wav  \n",
      "  inflating: urbansound8k/fold7/177537-7-2-1.wav  \n",
      "  inflating: urbansound8k/fold7/177729-0-0-1.wav  \n",
      "  inflating: urbansound8k/fold7/177729-0-0-106.wav  \n",
      "  inflating: urbansound8k/fold7/177729-0-0-108.wav  \n",
      "  inflating: urbansound8k/fold7/177729-0-0-111.wav  \n",
      "  inflating: urbansound8k/fold7/177729-0-0-120.wav  \n",
      "  inflating: urbansound8k/fold7/177729-0-0-128.wav  \n",
      "  inflating: urbansound8k/fold7/177729-0-0-20.wav  \n",
      "  inflating: urbansound8k/fold7/177729-0-0-22.wav  \n",
      "  inflating: urbansound8k/fold7/177729-0-0-27.wav  \n",
      "  inflating: urbansound8k/fold7/177729-0-0-28.wav  \n",
      "  inflating: urbansound8k/fold7/177729-0-0-3.wav  \n",
      "  inflating: urbansound8k/fold7/177729-0-0-38.wav  \n",
      "  inflating: urbansound8k/fold7/177729-0-0-40.wav  \n",
      "  inflating: urbansound8k/fold7/177729-0-0-42.wav  \n",
      "  inflating: urbansound8k/fold7/177729-0-0-50.wav  \n",
      "  inflating: urbansound8k/fold7/177729-0-0-51.wav  \n",
      "  inflating: urbansound8k/fold7/177729-0-0-53.wav  \n",
      "  inflating: urbansound8k/fold7/177729-0-0-58.wav  \n",
      "  inflating: urbansound8k/fold7/177729-0-0-63.wav  \n",
      "  inflating: urbansound8k/fold7/177729-0-0-67.wav  \n",
      "  inflating: urbansound8k/fold7/177729-0-0-68.wav  \n",
      "  inflating: urbansound8k/fold7/177729-0-0-69.wav  \n",
      "  inflating: urbansound8k/fold7/177729-0-0-73.wav  \n",
      "  inflating: urbansound8k/fold7/177729-0-0-74.wav  \n",
      "  inflating: urbansound8k/fold7/177729-0-0-80.wav  \n",
      "  inflating: urbansound8k/fold7/177729-0-0-82.wav  \n",
      "  inflating: urbansound8k/fold7/177729-0-0-83.wav  \n",
      "  inflating: urbansound8k/fold7/177729-0-0-89.wav  \n",
      "  inflating: urbansound8k/fold7/177729-0-0-91.wav  \n",
      "  inflating: urbansound8k/fold7/177729-0-0-97.wav  \n",
      "  inflating: urbansound8k/fold7/177729-0-0-98.wav  \n",
      "  inflating: urbansound8k/fold7/178115-1-0-0.wav  \n",
      "  inflating: urbansound8k/fold7/180257-3-0-1.wav  \n",
      "  inflating: urbansound8k/fold7/180257-3-0-3.wav  \n",
      "  inflating: urbansound8k/fold7/180257-3-0-4.wav  \n",
      "  inflating: urbansound8k/fold7/180257-3-0-5.wav  \n",
      "  inflating: urbansound8k/fold7/181102-9-0-111.wav  \n",
      "  inflating: urbansound8k/fold7/181102-9-0-117.wav  \n",
      "  inflating: urbansound8k/fold7/181102-9-0-23.wav  \n",
      "  inflating: urbansound8k/fold7/181102-9-0-26.wav  \n",
      "  inflating: urbansound8k/fold7/181102-9-0-50.wav  \n",
      "  inflating: urbansound8k/fold7/181102-9-0-97.wav  \n",
      "  inflating: urbansound8k/fold7/183894-1-5-0.wav  \n",
      "  inflating: urbansound8k/fold7/183894-1-6-0.wav  \n",
      "  inflating: urbansound8k/fold7/183894-1-7-0.wav  \n",
      "  inflating: urbansound8k/fold7/183894-1-8-0.wav  \n",
      "  inflating: urbansound8k/fold7/183894-1-9-0.wav  \n",
      "  inflating: urbansound8k/fold7/183992-3-0-10.wav  \n",
      "  inflating: urbansound8k/fold7/183992-3-0-3.wav  \n",
      "  inflating: urbansound8k/fold7/183992-3-0-6.wav  \n",
      "  inflating: urbansound8k/fold7/183992-3-0-9.wav  \n",
      "  inflating: urbansound8k/fold7/186936-5-0-0.wav  \n",
      "  inflating: urbansound8k/fold7/186936-5-0-1.wav  \n",
      "  inflating: urbansound8k/fold7/189981-0-0-0.wav  \n",
      "  inflating: urbansound8k/fold7/189981-0-0-1.wav  \n",
      "  inflating: urbansound8k/fold7/189981-0-0-10.wav  \n",
      "  inflating: urbansound8k/fold7/189981-0-0-11.wav  \n",
      "  inflating: urbansound8k/fold7/189981-0-0-12.wav  \n",
      "  inflating: urbansound8k/fold7/189981-0-0-13.wav  \n",
      "  inflating: urbansound8k/fold7/189981-0-0-14.wav  \n",
      "  inflating: urbansound8k/fold7/189981-0-0-15.wav  \n",
      "  inflating: urbansound8k/fold7/189981-0-0-16.wav  \n",
      "  inflating: urbansound8k/fold7/189981-0-0-17.wav  \n",
      "  inflating: urbansound8k/fold7/189981-0-0-2.wav  \n",
      "  inflating: urbansound8k/fold7/189981-0-0-3.wav  \n",
      "  inflating: urbansound8k/fold7/189981-0-0-4.wav  \n",
      "  inflating: urbansound8k/fold7/189981-0-0-5.wav  \n",
      "  inflating: urbansound8k/fold7/189981-0-0-6.wav  \n",
      "  inflating: urbansound8k/fold7/189981-0-0-7.wav  \n",
      "  inflating: urbansound8k/fold7/189981-0-0-8.wav  \n",
      "  inflating: urbansound8k/fold7/189981-0-0-9.wav  \n",
      "  inflating: urbansound8k/fold7/189987-0-0-0.wav  \n",
      "  inflating: urbansound8k/fold7/189987-0-0-1.wav  \n",
      "  inflating: urbansound8k/fold7/189987-0-0-2.wav  \n",
      "  inflating: urbansound8k/fold7/189987-0-0-3.wav  \n",
      "  inflating: urbansound8k/fold7/189987-0-0-4.wav  \n",
      "  inflating: urbansound8k/fold7/191687-3-0-0.wav  \n",
      "  inflating: urbansound8k/fold7/191687-3-0-11.wav  \n",
      "  inflating: urbansound8k/fold7/191687-3-0-15.wav  \n",
      "  inflating: urbansound8k/fold7/191687-3-0-5.wav  \n",
      "  inflating: urbansound8k/fold7/192236-3-0-2.wav  \n",
      "  inflating: urbansound8k/fold7/192236-3-0-4.wav  \n",
      "  inflating: urbansound8k/fold7/192236-3-0-6.wav  \n",
      "  inflating: urbansound8k/fold7/192236-3-0-8.wav  \n",
      "  inflating: urbansound8k/fold7/194754-3-0-0.wav  \n",
      "  inflating: urbansound8k/fold7/194754-3-0-1.wav  \n",
      "  inflating: urbansound8k/fold7/194754-3-0-2.wav  \n",
      "  inflating: urbansound8k/fold7/194962-5-0-0.wav  \n",
      "  inflating: urbansound8k/fold7/194962-5-0-1.wav  \n",
      "  inflating: urbansound8k/fold7/194962-5-0-2.wav  \n",
      "  inflating: urbansound8k/fold7/196059-2-0-0.wav  \n",
      "  inflating: urbansound8k/fold7/196059-2-0-1.wav  \n",
      "  inflating: urbansound8k/fold7/196064-2-0-0.wav  \n",
      "  inflating: urbansound8k/fold7/196070-2-0-0.wav  \n",
      "  inflating: urbansound8k/fold7/196070-2-0-1.wav  \n",
      "  inflating: urbansound8k/fold7/196070-2-0-2.wav  \n",
      "  inflating: urbansound8k/fold7/196070-2-0-3.wav  \n",
      "  inflating: urbansound8k/fold7/196070-2-0-4.wav  \n",
      "  inflating: urbansound8k/fold7/196070-2-0-5.wav  \n",
      "  inflating: urbansound8k/fold7/196075-2-0-0.wav  \n",
      "  inflating: urbansound8k/fold7/197080-3-0-1.wav  \n",
      "  inflating: urbansound8k/fold7/197080-3-0-6.wav  \n",
      "  inflating: urbansound8k/fold7/197080-3-0-7.wav  \n",
      "  inflating: urbansound8k/fold7/197080-3-1-0.wav  \n",
      "  inflating: urbansound8k/fold7/201988-5-0-0.wav  \n",
      "  inflating: urbansound8k/fold7/201988-5-0-1.wav  \n",
      "  inflating: urbansound8k/fold7/201988-5-0-10.wav  \n",
      "  inflating: urbansound8k/fold7/201988-5-0-11.wav  \n",
      "  inflating: urbansound8k/fold7/201988-5-0-12.wav  \n",
      "  inflating: urbansound8k/fold7/201988-5-0-13.wav  \n",
      "  inflating: urbansound8k/fold7/201988-5-0-14.wav  \n",
      "  inflating: urbansound8k/fold7/201988-5-0-15.wav  \n",
      "  inflating: urbansound8k/fold7/201988-5-0-16.wav  \n",
      "  inflating: urbansound8k/fold7/201988-5-0-17.wav  \n",
      "  inflating: urbansound8k/fold7/201988-5-0-18.wav  \n",
      "  inflating: urbansound8k/fold7/201988-5-0-19.wav  \n",
      "  inflating: urbansound8k/fold7/201988-5-0-2.wav  \n",
      "  inflating: urbansound8k/fold7/201988-5-0-20.wav  \n",
      "  inflating: urbansound8k/fold7/201988-5-0-21.wav  \n",
      "  inflating: urbansound8k/fold7/201988-5-0-22.wav  \n",
      "  inflating: urbansound8k/fold7/201988-5-0-3.wav  \n",
      "  inflating: urbansound8k/fold7/201988-5-0-4.wav  \n",
      "  inflating: urbansound8k/fold7/201988-5-0-5.wav  \n",
      "  inflating: urbansound8k/fold7/201988-5-0-6.wav  \n",
      "  inflating: urbansound8k/fold7/201988-5-0-7.wav  \n",
      "  inflating: urbansound8k/fold7/201988-5-0-8.wav  \n",
      "  inflating: urbansound8k/fold7/201988-5-0-9.wav  \n",
      "  inflating: urbansound8k/fold7/201988-5-1-0.wav  \n",
      "  inflating: urbansound8k/fold7/202516-0-0-0.wav  \n",
      "  inflating: urbansound8k/fold7/202516-0-0-1.wav  \n",
      "  inflating: urbansound8k/fold7/202516-0-0-10.wav  \n",
      "  inflating: urbansound8k/fold7/202516-0-0-11.wav  \n",
      "  inflating: urbansound8k/fold7/202516-0-0-2.wav  \n",
      "  inflating: urbansound8k/fold7/202516-0-0-3.wav  \n",
      "  inflating: urbansound8k/fold7/202516-0-0-4.wav  \n",
      "  inflating: urbansound8k/fold7/202516-0-0-5.wav  \n",
      "  inflating: urbansound8k/fold7/202516-0-0-6.wav  \n",
      "  inflating: urbansound8k/fold7/202516-0-0-7.wav  \n",
      "  inflating: urbansound8k/fold7/202516-0-0-8.wav  \n",
      "  inflating: urbansound8k/fold7/202516-0-0-9.wav  \n",
      "  inflating: urbansound8k/fold7/207216-2-0-112.wav  \n",
      "  inflating: urbansound8k/fold7/207216-2-0-119.wav  \n",
      "  inflating: urbansound8k/fold7/207216-2-0-128.wav  \n",
      "  inflating: urbansound8k/fold7/207216-2-0-130.wav  \n",
      "  inflating: urbansound8k/fold7/207216-2-0-137.wav  \n",
      "  inflating: urbansound8k/fold7/207216-2-0-22.wav  \n",
      "  inflating: urbansound8k/fold7/207216-2-0-43.wav  \n",
      "  inflating: urbansound8k/fold7/207216-2-0-66.wav  \n",
      "  inflating: urbansound8k/fold7/207962-3-0-0.wav  \n",
      "  inflating: urbansound8k/fold7/207962-3-1-0.wav  \n",
      "  inflating: urbansound8k/fold7/207962-3-2-0.wav  \n",
      "  inflating: urbansound8k/fold7/209992-5-0-0.wav  \n",
      "  inflating: urbansound8k/fold7/209992-5-1-4.wav  \n",
      "  inflating: urbansound8k/fold7/209992-5-1-7.wav  \n",
      "  inflating: urbansound8k/fold7/209992-5-2-100.wav  \n",
      "  inflating: urbansound8k/fold7/209992-5-2-114.wav  \n",
      "  inflating: urbansound8k/fold7/209992-5-2-115.wav  \n",
      "  inflating: urbansound8k/fold7/209992-5-2-116.wav  \n",
      "  inflating: urbansound8k/fold7/209992-5-2-131.wav  \n",
      "  inflating: urbansound8k/fold7/209992-5-2-137.wav  \n",
      "  inflating: urbansound8k/fold7/209992-5-2-138.wav  \n",
      "  inflating: urbansound8k/fold7/209992-5-2-26.wav  \n",
      "  inflating: urbansound8k/fold7/209992-5-2-42.wav  \n",
      "  inflating: urbansound8k/fold7/209992-5-2-43.wav  \n",
      "  inflating: urbansound8k/fold7/209992-5-2-77.wav  \n",
      "  inflating: urbansound8k/fold7/209992-5-2-79.wav  \n",
      "  inflating: urbansound8k/fold7/209992-5-2-8.wav  \n",
      "  inflating: urbansound8k/fold7/209992-5-2-81.wav  \n",
      "  inflating: urbansound8k/fold7/209992-5-2-82.wav  \n",
      "  inflating: urbansound8k/fold7/209992-5-2-87.wav  \n",
      "  inflating: urbansound8k/fold7/209992-5-2-91.wav  \n",
      "  inflating: urbansound8k/fold7/209992-5-3-22.wav  \n",
      "  inflating: urbansound8k/fold7/209992-5-3-5.wav  \n",
      "  inflating: urbansound8k/fold7/209992-5-3-6.wav  \n",
      "  inflating: urbansound8k/fold7/209992-5-4-1.wav  \n",
      "  inflating: urbansound8k/fold7/209992-5-4-15.wav  \n",
      "  inflating: urbansound8k/fold7/209992-5-4-17.wav  \n",
      "  inflating: urbansound8k/fold7/209992-5-4-3.wav  \n",
      "  inflating: urbansound8k/fold7/21683-9-0-15.wav  \n",
      "  inflating: urbansound8k/fold7/21683-9-0-18.wav  \n",
      "  inflating: urbansound8k/fold7/21683-9-0-3.wav  \n",
      "  inflating: urbansound8k/fold7/21683-9-0-30.wav  \n",
      "  inflating: urbansound8k/fold7/21683-9-0-34.wav  \n",
      "  inflating: urbansound8k/fold7/21683-9-0-39.wav  \n",
      "  inflating: urbansound8k/fold7/21683-9-0-45.wav  \n",
      "  inflating: urbansound8k/fold7/24631-6-0-0.wav  \n",
      "  inflating: urbansound8k/fold7/24965-3-0-0.wav  \n",
      "  inflating: urbansound8k/fold7/24965-3-1-0.wav  \n",
      "  inflating: urbansound8k/fold7/24965-3-2-0.wav  \n",
      "  inflating: urbansound8k/fold7/24965-3-3-0.wav  \n",
      "  inflating: urbansound8k/fold7/27216-3-0-18.wav  \n",
      "  inflating: urbansound8k/fold7/27216-3-0-21.wav  \n",
      "  inflating: urbansound8k/fold7/27216-3-0-24.wav  \n",
      "  inflating: urbansound8k/fold7/27216-3-0-9.wav  \n",
      "  inflating: urbansound8k/fold7/27217-3-0-13.wav  \n",
      "  inflating: urbansound8k/fold7/27217-3-0-22.wav  \n",
      "  inflating: urbansound8k/fold7/27217-3-0-6.wav  \n",
      "  inflating: urbansound8k/fold7/28385-9-0-32.wav  \n",
      "  inflating: urbansound8k/fold7/28385-9-0-33.wav  \n",
      "  inflating: urbansound8k/fold7/28385-9-0-44.wav  \n",
      "  inflating: urbansound8k/fold7/28385-9-0-46.wav  \n",
      "  inflating: urbansound8k/fold7/28385-9-0-57.wav  \n",
      "  inflating: urbansound8k/fold7/28385-9-0-65.wav  \n",
      "  inflating: urbansound8k/fold7/28385-9-0-9.wav  \n",
      "  inflating: urbansound8k/fold7/34241-1-0-0.wav  \n",
      "  inflating: urbansound8k/fold7/34241-1-1-0.wav  \n",
      "  inflating: urbansound8k/fold7/34241-1-2-0.wav  \n",
      "  inflating: urbansound8k/fold7/34871-3-11-0.wav  \n",
      "  inflating: urbansound8k/fold7/34871-3-6-0.wav  \n",
      "  inflating: urbansound8k/fold7/34871-3-8-0.wav  \n",
      "  inflating: urbansound8k/fold7/34871-3-9-0.wav  \n",
      "  inflating: urbansound8k/fold7/35382-0-0-0.wav  \n",
      "  inflating: urbansound8k/fold7/35382-0-0-1.wav  \n",
      "  inflating: urbansound8k/fold7/36264-9-0-0.wav  \n",
      "  inflating: urbansound8k/fold7/36264-9-0-1.wav  \n",
      "  inflating: urbansound8k/fold7/36264-9-0-10.wav  \n",
      "  inflating: urbansound8k/fold7/36264-9-0-2.wav  \n",
      "  inflating: urbansound8k/fold7/36264-9-0-5.wav  \n",
      "  inflating: urbansound8k/fold7/36264-9-0-7.wav  \n",
      "  inflating: urbansound8k/fold7/38236-3-2-2.wav  \n",
      "  inflating: urbansound8k/fold7/38236-3-2-3.wav  \n",
      "  inflating: urbansound8k/fold7/38236-3-3-0.wav  \n",
      "  inflating: urbansound8k/fold7/39857-5-0-0.wav  \n",
      "  inflating: urbansound8k/fold7/39857-5-0-1.wav  \n",
      "  inflating: urbansound8k/fold7/39857-5-0-2.wav  \n",
      "  inflating: urbansound8k/fold7/39857-5-1-0.wav  \n",
      "  inflating: urbansound8k/fold7/39857-5-1-1.wav  \n",
      "  inflating: urbansound8k/fold7/39857-5-1-2.wav  \n",
      "  inflating: urbansound8k/fold7/39857-5-1-3.wav  \n",
      "  inflating: urbansound8k/fold7/39857-5-2-0.wav  \n",
      "  inflating: urbansound8k/fold7/39857-5-3-0.wav  \n",
      "  inflating: urbansound8k/fold7/39857-5-4-0.wav  \n",
      "  inflating: urbansound8k/fold7/39857-5-5-0.wav  \n",
      "  inflating: urbansound8k/fold7/39857-5-5-1.wav  \n",
      "  inflating: urbansound8k/fold7/43784-3-0-0.wav  \n",
      "  inflating: urbansound8k/fold7/43784-3-1-0.wav  \n",
      "  inflating: urbansound8k/fold7/43805-8-0-0.wav  \n",
      "  inflating: urbansound8k/fold7/43805-8-1-0.wav  \n",
      "  inflating: urbansound8k/fold7/43805-8-2-0.wav  \n",
      "  inflating: urbansound8k/fold7/43805-8-3-0.wav  \n",
      "  inflating: urbansound8k/fold7/43805-8-4-0.wav  \n",
      "  inflating: urbansound8k/fold7/44737-5-0-0.wav  \n",
      "  inflating: urbansound8k/fold7/44737-5-0-1.wav  \n",
      "  inflating: urbansound8k/fold7/44737-5-0-2.wav  \n",
      "  inflating: urbansound8k/fold7/44737-5-0-3.wav  \n",
      "  inflating: urbansound8k/fold7/49313-2-0-1.wav  \n",
      "  inflating: urbansound8k/fold7/49313-2-0-10.wav  \n",
      "  inflating: urbansound8k/fold7/49313-2-0-13.wav  \n",
      "  inflating: urbansound8k/fold7/49313-2-0-20.wav  \n",
      "  inflating: urbansound8k/fold7/49313-2-0-30.wav  \n",
      "  inflating: urbansound8k/fold7/49313-2-0-4.wav  \n",
      "  inflating: urbansound8k/fold7/49313-2-0-9.wav  \n",
      "  inflating: urbansound8k/fold7/50415-4-0-0.wav  \n",
      "  inflating: urbansound8k/fold7/50415-4-0-1.wav  \n",
      "  inflating: urbansound8k/fold7/50454-5-0-0.wav  \n",
      "  inflating: urbansound8k/fold7/50612-3-0-0.wav  \n",
      "  inflating: urbansound8k/fold7/50614-3-0-0.wav  \n",
      "  inflating: urbansound8k/fold7/50629-4-0-0.wav  \n",
      "  inflating: urbansound8k/fold7/50629-4-0-1.wav  \n",
      "  inflating: urbansound8k/fold7/50629-4-1-0.wav  \n",
      "  inflating: urbansound8k/fold7/50629-4-1-1.wav  \n",
      "  inflating: urbansound8k/fold7/50629-4-1-11.wav  \n",
      "  inflating: urbansound8k/fold7/50629-4-1-13.wav  \n",
      "  inflating: urbansound8k/fold7/50629-4-1-2.wav  \n",
      "  inflating: urbansound8k/fold7/50629-4-1-3.wav  \n",
      "  inflating: urbansound8k/fold7/50629-4-1-4.wav  \n",
      "  inflating: urbansound8k/fold7/50629-4-1-8.wav  \n",
      "  inflating: urbansound8k/fold7/50629-4-1-9.wav  \n",
      "  inflating: urbansound8k/fold7/50629-4-2-0.wav  \n",
      "  inflating: urbansound8k/fold7/50629-4-3-0.wav  \n",
      "  inflating: urbansound8k/fold7/50629-4-4-0.wav  \n",
      "  inflating: urbansound8k/fold7/50629-4-4-3.wav  \n",
      "  inflating: urbansound8k/fold7/50629-4-4-8.wav  \n",
      "  inflating: urbansound8k/fold7/50629-4-4-9.wav  \n",
      "  inflating: urbansound8k/fold7/518-4-0-0.wav  \n",
      "  inflating: urbansound8k/fold7/518-4-0-1.wav  \n",
      "  inflating: urbansound8k/fold7/518-4-0-2.wav  \n",
      "  inflating: urbansound8k/fold7/518-4-0-3.wav  \n",
      "  inflating: urbansound8k/fold7/57323-8-0-0.wav  \n",
      "  inflating: urbansound8k/fold7/57323-8-0-1.wav  \n",
      "  inflating: urbansound8k/fold7/57323-8-0-10.wav  \n",
      "  inflating: urbansound8k/fold7/57323-8-0-11.wav  \n",
      "  inflating: urbansound8k/fold7/57323-8-0-2.wav  \n",
      "  inflating: urbansound8k/fold7/57323-8-0-3.wav  \n",
      "  inflating: urbansound8k/fold7/57323-8-0-4.wav  \n",
      "  inflating: urbansound8k/fold7/57323-8-0-5.wav  \n",
      "  inflating: urbansound8k/fold7/57323-8-0-6.wav  \n",
      "  inflating: urbansound8k/fold7/57323-8-0-7.wav  \n",
      "  inflating: urbansound8k/fold7/57323-8-0-8.wav  \n",
      "  inflating: urbansound8k/fold7/57323-8-0-9.wav  \n",
      "  inflating: urbansound8k/fold7/57323-8-2-0.wav  \n",
      "  inflating: urbansound8k/fold7/57596-3-0-0.wav  \n",
      "  inflating: urbansound8k/fold7/57596-3-1-0.wav  \n",
      "  inflating: urbansound8k/fold7/57696-4-0-0.wav  \n",
      "  inflating: urbansound8k/fold7/57696-4-0-1.wav  \n",
      "  inflating: urbansound8k/fold7/57696-4-0-2.wav  \n",
      "  inflating: urbansound8k/fold7/57696-4-0-3.wav  \n",
      "  inflating: urbansound8k/fold7/57696-4-0-4.wav  \n",
      "  inflating: urbansound8k/fold7/57696-4-0-5.wav  \n",
      "  inflating: urbansound8k/fold7/61503-2-0-0.wav  \n",
      "  inflating: urbansound8k/fold7/61503-2-0-2.wav  \n",
      "  inflating: urbansound8k/fold7/61503-2-0-3.wav  \n",
      "  inflating: urbansound8k/fold7/61503-2-0-5.wav  \n",
      "  inflating: urbansound8k/fold7/61503-2-0-6.wav  \n",
      "  inflating: urbansound8k/fold7/61503-2-0-7.wav  \n",
      "  inflating: urbansound8k/fold7/61503-2-0-8.wav  \n",
      "  inflating: urbansound8k/fold7/61503-2-0-9.wav  \n",
      "  inflating: urbansound8k/fold7/61789-9-0-10.wav  \n",
      "  inflating: urbansound8k/fold7/61789-9-0-12.wav  \n",
      "  inflating: urbansound8k/fold7/61789-9-0-14.wav  \n",
      "  inflating: urbansound8k/fold7/61789-9-0-16.wav  \n",
      "  inflating: urbansound8k/fold7/61789-9-0-26.wav  \n",
      "  inflating: urbansound8k/fold7/61789-9-0-65.wav  \n",
      "  inflating: urbansound8k/fold7/61789-9-0-69.wav  \n",
      "  inflating: urbansound8k/fold7/62878-8-0-0.wav  \n",
      "  inflating: urbansound8k/fold7/62878-8-0-1.wav  \n",
      "  inflating: urbansound8k/fold7/62878-8-0-2.wav  \n",
      "  inflating: urbansound8k/fold7/65745-3-0-21.wav  \n",
      "  inflating: urbansound8k/fold7/65745-3-0-49.wav  \n",
      "  inflating: urbansound8k/fold7/65745-3-0-61.wav  \n",
      "  inflating: urbansound8k/fold7/65745-3-0-88.wav  \n",
      "  inflating: urbansound8k/fold7/66619-2-0-0.wav  \n",
      "  inflating: urbansound8k/fold7/66619-2-0-1.wav  \n",
      "  inflating: urbansound8k/fold7/66619-2-0-11.wav  \n",
      "  inflating: urbansound8k/fold7/66619-2-0-18.wav  \n",
      "  inflating: urbansound8k/fold7/66619-2-0-22.wav  \n",
      "  inflating: urbansound8k/fold7/66619-2-0-5.wav  \n",
      "  inflating: urbansound8k/fold7/66619-2-0-6.wav  \n",
      "  inflating: urbansound8k/fold7/66619-2-0-7.wav  \n",
      "  inflating: urbansound8k/fold7/67049-3-0-0.wav  \n",
      "  inflating: urbansound8k/fold7/67049-3-0-1.wav  \n",
      "  inflating: urbansound8k/fold7/67049-3-0-2.wav  \n",
      "  inflating: urbansound8k/fold7/6902-2-0-12.wav  \n",
      "  inflating: urbansound8k/fold7/6902-2-0-18.wav  \n",
      "  inflating: urbansound8k/fold7/6902-2-0-26.wav  \n",
      "  inflating: urbansound8k/fold7/6902-2-0-4.wav  \n",
      "  inflating: urbansound8k/fold7/6902-2-0-5.wav  \n",
      "  inflating: urbansound8k/fold7/6902-2-0-7.wav  \n",
      "  inflating: urbansound8k/fold7/6902-2-0-9.wav  \n",
      "  inflating: urbansound8k/fold7/7060-6-0-0.wav  \n",
      "  inflating: urbansound8k/fold7/7060-6-1-0.wav  \n",
      "  inflating: urbansound8k/fold7/7060-6-2-0.wav  \n",
      "  inflating: urbansound8k/fold7/7067-6-0-0.wav  \n",
      "  inflating: urbansound8k/fold7/71529-4-0-0.wav  \n",
      "  inflating: urbansound8k/fold7/71529-4-0-1.wav  \n",
      "  inflating: urbansound8k/fold7/71529-4-0-2.wav  \n",
      "  inflating: urbansound8k/fold7/71529-4-1-0.wav  \n",
      "  inflating: urbansound8k/fold7/71529-4-1-1.wav  \n",
      "  inflating: urbansound8k/fold7/71529-4-1-2.wav  \n",
      "  inflating: urbansound8k/fold7/71529-4-1-3.wav  \n",
      "  inflating: urbansound8k/fold7/71529-4-1-4.wav  \n",
      "  inflating: urbansound8k/fold7/71529-4-1-5.wav  \n",
      "  inflating: urbansound8k/fold7/71529-4-1-6.wav  \n",
      "  inflating: urbansound8k/fold7/71866-9-0-14.wav  \n",
      "  inflating: urbansound8k/fold7/71866-9-0-21.wav  \n",
      "  inflating: urbansound8k/fold7/71866-9-0-23.wav  \n",
      "  inflating: urbansound8k/fold7/71866-9-0-3.wav  \n",
      "  inflating: urbansound8k/fold7/71866-9-0-31.wav  \n",
      "  inflating: urbansound8k/fold7/71866-9-0-32.wav  \n",
      "  inflating: urbansound8k/fold7/74513-3-0-0.wav  \n",
      "  inflating: urbansound8k/fold7/74513-3-0-3.wav  \n",
      "  inflating: urbansound8k/fold7/74513-3-0-5.wav  \n",
      "  inflating: urbansound8k/fold7/74513-3-0-6.wav  \n",
      "  inflating: urbansound8k/fold7/74850-9-0-11.wav  \n",
      "  inflating: urbansound8k/fold7/74850-9-0-18.wav  \n",
      "  inflating: urbansound8k/fold7/74850-9-0-22.wav  \n",
      "  inflating: urbansound8k/fold7/74850-9-0-27.wav  \n",
      "  inflating: urbansound8k/fold7/74850-9-0-5.wav  \n",
      "  inflating: urbansound8k/fold7/74850-9-0-6.wav  \n",
      "  inflating: urbansound8k/fold7/74965-4-0-0.wav  \n",
      "  inflating: urbansound8k/fold7/74965-4-0-1.wav  \n",
      "  inflating: urbansound8k/fold7/74965-4-0-2.wav  \n",
      "  inflating: urbansound8k/fold7/74965-4-0-3.wav  \n",
      "  inflating: urbansound8k/fold7/74965-4-1-0.wav  \n",
      "  inflating: urbansound8k/fold7/74965-4-1-1.wav  \n",
      "  inflating: urbansound8k/fold7/74965-4-1-2.wav  \n",
      "  inflating: urbansound8k/fold7/77674-3-0-0.wav  \n",
      "  inflating: urbansound8k/fold7/77751-7-0-0.wav  \n",
      "  inflating: urbansound8k/fold7/77751-7-0-1.wav  \n",
      "  inflating: urbansound8k/fold7/77751-7-1-0.wav  \n",
      "  inflating: urbansound8k/fold7/77751-7-1-1.wav  \n",
      "  inflating: urbansound8k/fold7/77751-7-2-0.wav  \n",
      "  inflating: urbansound8k/fold7/77751-7-3-0.wav  \n",
      "  inflating: urbansound8k/fold7/77751-7-4-0.wav  \n",
      "  inflating: urbansound8k/fold7/77751-7-5-0.wav  \n",
      "  inflating: urbansound8k/fold7/77751-7-6-0.wav  \n",
      "  inflating: urbansound8k/fold7/77751-7-7-0.wav  \n",
      "  inflating: urbansound8k/fold7/77751-7-8-0.wav  \n",
      "  inflating: urbansound8k/fold7/77751-7-9-0.wav  \n",
      "  inflating: urbansound8k/fold7/77751-7-9-1.wav  \n",
      "  inflating: urbansound8k/fold7/77751-7-9-2.wav  \n",
      "  inflating: urbansound8k/fold7/77751-7-9-3.wav  \n",
      "  inflating: urbansound8k/fold7/77770-9-0-1.wav  \n",
      "  inflating: urbansound8k/fold7/77770-9-0-15.wav  \n",
      "  inflating: urbansound8k/fold7/77770-9-0-17.wav  \n",
      "  inflating: urbansound8k/fold7/77770-9-0-20.wav  \n",
      "  inflating: urbansound8k/fold7/77770-9-0-6.wav  \n",
      "  inflating: urbansound8k/fold7/77770-9-0-8.wav  \n",
      "  inflating: urbansound8k/fold7/77770-9-0-9.wav  \n",
      "  inflating: urbansound8k/fold7/81788-2-0-12.wav  \n",
      "  inflating: urbansound8k/fold7/81788-2-0-14.wav  \n",
      "  inflating: urbansound8k/fold7/81788-2-0-16.wav  \n",
      "  inflating: urbansound8k/fold7/81788-2-0-35.wav  \n",
      "  inflating: urbansound8k/fold7/81788-2-0-44.wav  \n",
      "  inflating: urbansound8k/fold7/81788-2-0-51.wav  \n",
      "  inflating: urbansound8k/fold7/81788-2-0-69.wav  \n",
      "  inflating: urbansound8k/fold7/81799-3-0-0.wav  \n",
      "  inflating: urbansound8k/fold7/81799-3-0-1.wav  \n",
      "  inflating: urbansound8k/fold7/81799-3-1-0.wav  \n",
      "  inflating: urbansound8k/fold7/81799-3-1-2.wav  \n",
      "  inflating: urbansound8k/fold7/82024-3-0-4.wav  \n",
      "  inflating: urbansound8k/fold7/82024-3-0-5.wav  \n",
      "  inflating: urbansound8k/fold7/82024-3-0-6.wav  \n",
      "  inflating: urbansound8k/fold7/82024-3-0-8.wav  \n",
      "  inflating: urbansound8k/fold7/83488-1-0-0.wav  \n",
      "  inflating: urbansound8k/fold7/83488-1-1-0.wav  \n",
      "  inflating: urbansound8k/fold7/84143-2-0-10.wav  \n",
      "  inflating: urbansound8k/fold7/84143-2-0-12.wav  \n",
      "  inflating: urbansound8k/fold7/84143-2-0-13.wav  \n",
      "  inflating: urbansound8k/fold7/84143-2-0-14.wav  \n",
      "  inflating: urbansound8k/fold7/84143-2-0-15.wav  \n",
      "  inflating: urbansound8k/fold7/84143-2-0-32.wav  \n",
      "  inflating: urbansound8k/fold7/84143-2-0-38.wav  \n",
      "  inflating: urbansound8k/fold7/84143-2-0-7.wav  \n",
      "  inflating: urbansound8k/fold7/85362-3-0-0.wav  \n",
      "  inflating: urbansound8k/fold7/85362-3-1-0.wav  \n",
      "  inflating: urbansound8k/fold7/85362-3-2-0.wav  \n",
      "  inflating: urbansound8k/fold7/85362-3-3-0.wav  \n",
      "  inflating: urbansound8k/fold7/85662-3-0-0.wav  \n",
      "  inflating: urbansound8k/fold7/89099-4-0-0.wav  \n",
      "  inflating: urbansound8k/fold7/89099-4-0-1.wav  \n",
      "  inflating: urbansound8k/fold7/89099-4-0-2.wav  \n",
      "  inflating: urbansound8k/fold7/89209-3-0-0.wav  \n",
      "  inflating: urbansound8k/fold7/89210-3-0-0.wav  \n",
      "  inflating: urbansound8k/fold7/89443-9-0-1.wav  \n",
      "  inflating: urbansound8k/fold7/89443-9-0-16.wav  \n",
      "  inflating: urbansound8k/fold7/89443-9-0-17.wav  \n",
      "  inflating: urbansound8k/fold7/89443-9-0-2.wav  \n",
      "  inflating: urbansound8k/fold7/89443-9-0-48.wav  \n",
      "  inflating: urbansound8k/fold7/89443-9-0-50.wav  \n",
      "  inflating: urbansound8k/fold7/89679-1-0-0.wav  \n",
      "  inflating: urbansound8k/fold7/89679-1-1-0.wav  \n",
      "  inflating: urbansound8k/fold7/97606-7-0-0.wav  \n",
      "  inflating: urbansound8k/fold7/97606-7-1-0.wav  \n",
      "  inflating: urbansound8k/fold7/97606-7-2-0.wav  \n",
      "  inflating: urbansound8k/fold7/97606-7-3-0.wav  \n",
      "  inflating: urbansound8k/fold7/97606-7-4-0.wav  \n",
      "  inflating: urbansound8k/fold7/97606-7-5-0.wav  \n",
      "  inflating: urbansound8k/fold7/98525-8-0-0.wav  \n",
      "  inflating: urbansound8k/fold7/99812-1-0-0.wav  \n",
      "  inflating: urbansound8k/fold7/99812-1-0-1.wav  \n",
      "  inflating: urbansound8k/fold7/99812-1-0-2.wav  \n",
      "  inflating: urbansound8k/fold7/99812-1-1-0.wav  \n",
      "  inflating: urbansound8k/fold7/99812-1-2-0.wav  \n",
      "  inflating: urbansound8k/fold7/99812-1-3-0.wav  \n",
      "  inflating: urbansound8k/fold7/99812-1-4-0.wav  \n",
      "  inflating: urbansound8k/fold7/99812-1-5-0.wav  \n",
      "  inflating: urbansound8k/fold7/99812-1-6-0.wav  \n",
      "  inflating: urbansound8k/fold8/103076-3-0-0.wav  \n",
      "  inflating: urbansound8k/fold8/103076-3-1-0.wav  \n",
      "  inflating: urbansound8k/fold8/103076-3-2-0.wav  \n",
      "  inflating: urbansound8k/fold8/106905-5-0-0.wav  \n",
      "  inflating: urbansound8k/fold8/106905-5-0-1.wav  \n",
      "  inflating: urbansound8k/fold8/106905-5-0-2.wav  \n",
      "  inflating: urbansound8k/fold8/107090-1-0-0.wav  \n",
      "  inflating: urbansound8k/fold8/107090-1-1-0.wav  \n",
      "  inflating: urbansound8k/fold8/107190-3-0-0.wav  \n",
      "  inflating: urbansound8k/fold8/110134-3-0-0.wav  \n",
      "  inflating: urbansound8k/fold8/110688-3-0-11.wav  \n",
      "  inflating: urbansound8k/fold8/110688-3-0-17.wav  \n",
      "  inflating: urbansound8k/fold8/110688-3-0-2.wav  \n",
      "  inflating: urbansound8k/fold8/110688-3-0-32.wav  \n",
      "  inflating: urbansound8k/fold8/113202-5-0-0.wav  \n",
      "  inflating: urbansound8k/fold8/113202-5-0-1.wav  \n",
      "  inflating: urbansound8k/fold8/113202-5-0-10.wav  \n",
      "  inflating: urbansound8k/fold8/113202-5-0-11.wav  \n",
      "  inflating: urbansound8k/fold8/113202-5-0-12.wav  \n",
      "  inflating: urbansound8k/fold8/113202-5-0-13.wav  \n",
      "  inflating: urbansound8k/fold8/113202-5-0-14.wav  \n",
      "  inflating: urbansound8k/fold8/113202-5-0-15.wav  \n",
      "  inflating: urbansound8k/fold8/113202-5-0-16.wav  \n",
      "  inflating: urbansound8k/fold8/113202-5-0-17.wav  \n",
      "  inflating: urbansound8k/fold8/113202-5-0-18.wav  \n",
      "  inflating: urbansound8k/fold8/113202-5-0-19.wav  \n",
      "  inflating: urbansound8k/fold8/113202-5-0-2.wav  \n",
      "  inflating: urbansound8k/fold8/113202-5-0-20.wav  \n",
      "  inflating: urbansound8k/fold8/113202-5-0-21.wav  \n",
      "  inflating: urbansound8k/fold8/113202-5-0-22.wav  \n",
      "  inflating: urbansound8k/fold8/113202-5-0-23.wav  \n",
      "  inflating: urbansound8k/fold8/113202-5-0-24.wav  \n",
      "  inflating: urbansound8k/fold8/113202-5-0-25.wav  \n",
      "  inflating: urbansound8k/fold8/113202-5-0-26.wav  \n",
      "  inflating: urbansound8k/fold8/113202-5-0-27.wav  \n",
      "  inflating: urbansound8k/fold8/113202-5-0-28.wav  \n",
      "  inflating: urbansound8k/fold8/113202-5-0-3.wav  \n",
      "  inflating: urbansound8k/fold8/113202-5-0-4.wav  \n",
      "  inflating: urbansound8k/fold8/113202-5-0-5.wav  \n",
      "  inflating: urbansound8k/fold8/113202-5-0-6.wav  \n",
      "  inflating: urbansound8k/fold8/113202-5-0-7.wav  \n",
      "  inflating: urbansound8k/fold8/113202-5-0-8.wav  \n",
      "  inflating: urbansound8k/fold8/113202-5-0-9.wav  \n",
      "  inflating: urbansound8k/fold8/113203-5-0-0.wav  \n",
      "  inflating: urbansound8k/fold8/113203-5-0-1.wav  \n",
      "  inflating: urbansound8k/fold8/113203-5-0-2.wav  \n",
      "  inflating: urbansound8k/fold8/113203-5-0-3.wav  \n",
      "  inflating: urbansound8k/fold8/113203-5-0-4.wav  \n",
      "  inflating: urbansound8k/fold8/113203-5-0-5.wav  \n",
      "  inflating: urbansound8k/fold8/113203-5-0-6.wav  \n",
      "  inflating: urbansound8k/fold8/113203-5-0-7.wav  \n",
      "  inflating: urbansound8k/fold8/113203-5-0-8.wav  \n",
      "  inflating: urbansound8k/fold8/113203-5-1-0.wav  \n",
      "  inflating: urbansound8k/fold8/113203-5-1-1.wav  \n",
      "  inflating: urbansound8k/fold8/113203-5-1-2.wav  \n",
      "  inflating: urbansound8k/fold8/113203-5-2-0.wav  \n",
      "  inflating: urbansound8k/fold8/113203-5-3-0.wav  \n",
      "  inflating: urbansound8k/fold8/113203-5-3-1.wav  \n",
      "  inflating: urbansound8k/fold8/113203-5-4-0.wav  \n",
      "  inflating: urbansound8k/fold8/113203-5-5-0.wav  \n",
      "  inflating: urbansound8k/fold8/113203-5-6-0.wav  \n",
      "  inflating: urbansound8k/fold8/113203-5-7-0.wav  \n",
      "  inflating: urbansound8k/fold8/113203-5-8-0.wav  \n",
      "  inflating: urbansound8k/fold8/113216-5-0-0.wav  \n",
      "  inflating: urbansound8k/fold8/113216-5-0-1.wav  \n",
      "  inflating: urbansound8k/fold8/113216-5-0-2.wav  \n",
      "  inflating: urbansound8k/fold8/113216-5-0-3.wav  \n",
      "  inflating: urbansound8k/fold8/113216-5-0-4.wav  \n",
      "  inflating: urbansound8k/fold8/114280-3-0-0.wav  \n",
      "  inflating: urbansound8k/fold8/114280-3-0-1.wav  \n",
      "  inflating: urbansound8k/fold8/115240-9-0-1.wav  \n",
      "  inflating: urbansound8k/fold8/115240-9-0-16.wav  \n",
      "  inflating: urbansound8k/fold8/115240-9-0-28.wav  \n",
      "  inflating: urbansound8k/fold8/115240-9-0-34.wav  \n",
      "  inflating: urbansound8k/fold8/115240-9-0-36.wav  \n",
      "  inflating: urbansound8k/fold8/115240-9-0-4.wav  \n",
      "  inflating: urbansound8k/fold8/117181-8-0-0.wav  \n",
      "  inflating: urbansound8k/fold8/117181-8-0-1.wav  \n",
      "  inflating: urbansound8k/fold8/117181-8-0-10.wav  \n",
      "  inflating: urbansound8k/fold8/117181-8-0-11.wav  \n",
      "  inflating: urbansound8k/fold8/117181-8-0-12.wav  \n",
      "  inflating: urbansound8k/fold8/117181-8-0-2.wav  \n",
      "  inflating: urbansound8k/fold8/117181-8-0-3.wav  \n",
      "  inflating: urbansound8k/fold8/117181-8-0-4.wav  \n",
      "  inflating: urbansound8k/fold8/117181-8-0-5.wav  \n",
      "  inflating: urbansound8k/fold8/117181-8-0-6.wav  \n",
      "  inflating: urbansound8k/fold8/117181-8-0-7.wav  \n",
      "  inflating: urbansound8k/fold8/117181-8-0-8.wav  \n",
      "  inflating: urbansound8k/fold8/117181-8-0-9.wav  \n",
      "  inflating: urbansound8k/fold8/122199-3-1-1.wav  \n",
      "  inflating: urbansound8k/fold8/122199-3-1-2.wav  \n",
      "  inflating: urbansound8k/fold8/122199-3-1-3.wav  \n",
      "  inflating: urbansound8k/fold8/122199-3-1-6.wav  \n",
      "  inflating: urbansound8k/fold8/125520-1-0-0.wav  \n",
      "  inflating: urbansound8k/fold8/125520-1-1-0.wav  \n",
      "  inflating: urbansound8k/fold8/125520-1-2-0.wav  \n",
      "  inflating: urbansound8k/fold8/125520-1-3-0.wav  \n",
      "  inflating: urbansound8k/fold8/125520-1-4-0.wav  \n",
      "  inflating: urbansound8k/fold8/125678-7-0-0.wav  \n",
      "  inflating: urbansound8k/fold8/125678-7-0-1.wav  \n",
      "  inflating: urbansound8k/fold8/125678-7-0-2.wav  \n",
      "  inflating: urbansound8k/fold8/125678-7-0-3.wav  \n",
      "  inflating: urbansound8k/fold8/125678-7-0-4.wav  \n",
      "  inflating: urbansound8k/fold8/125678-7-0-5.wav  \n",
      "  inflating: urbansound8k/fold8/125678-7-0-6.wav  \n",
      "  inflating: urbansound8k/fold8/125678-7-0-7.wav  \n",
      "  inflating: urbansound8k/fold8/125678-7-0-8.wav  \n",
      "  inflating: urbansound8k/fold8/125678-7-0-9.wav  \n",
      "  inflating: urbansound8k/fold8/125678-7-1-0.wav  \n",
      "  inflating: urbansound8k/fold8/125678-7-1-1.wav  \n",
      "  inflating: urbansound8k/fold8/125678-7-1-2.wav  \n",
      "  inflating: urbansound8k/fold8/125678-7-1-3.wav  \n",
      "  inflating: urbansound8k/fold8/125678-7-1-4.wav  \n",
      "  inflating: urbansound8k/fold8/125678-7-1-5.wav  \n",
      "  inflating: urbansound8k/fold8/125678-7-1-6.wav  \n",
      "  inflating: urbansound8k/fold8/125678-7-1-7.wav  \n",
      "  inflating: urbansound8k/fold8/125678-7-1-8.wav  \n",
      "  inflating: urbansound8k/fold8/125678-7-2-0.wav  \n",
      "  inflating: urbansound8k/fold8/125678-7-2-1.wav  \n",
      "  inflating: urbansound8k/fold8/125678-7-2-2.wav  \n",
      "  inflating: urbansound8k/fold8/125678-7-2-3.wav  \n",
      "  inflating: urbansound8k/fold8/125678-7-2-4.wav  \n",
      "  inflating: urbansound8k/fold8/125678-7-2-5.wav  \n",
      "  inflating: urbansound8k/fold8/125678-7-2-6.wav  \n",
      "  inflating: urbansound8k/fold8/125678-7-2-7.wav  \n",
      "  inflating: urbansound8k/fold8/125678-7-2-8.wav  \n",
      "  inflating: urbansound8k/fold8/125678-7-3-0.wav  \n",
      "  inflating: urbansound8k/fold8/125678-7-3-1.wav  \n",
      "  inflating: urbansound8k/fold8/125678-7-3-2.wav  \n",
      "  inflating: urbansound8k/fold8/125678-7-3-3.wav  \n",
      "  inflating: urbansound8k/fold8/125678-7-3-4.wav  \n",
      "  inflating: urbansound8k/fold8/125678-7-3-5.wav  \n",
      "  inflating: urbansound8k/fold8/125678-7-3-6.wav  \n",
      "  inflating: urbansound8k/fold8/125678-7-3-7.wav  \n",
      "  inflating: urbansound8k/fold8/125678-7-4-0.wav  \n",
      "  inflating: urbansound8k/fold8/125678-7-4-1.wav  \n",
      "  inflating: urbansound8k/fold8/125678-7-4-2.wav  \n",
      "  inflating: urbansound8k/fold8/125678-7-4-3.wav  \n",
      "  inflating: urbansound8k/fold8/125678-7-4-4.wav  \n",
      "  inflating: urbansound8k/fold8/125678-7-4-5.wav  \n",
      "  inflating: urbansound8k/fold8/125678-7-4-6.wav  \n",
      "  inflating: urbansound8k/fold8/125678-7-4-7.wav  \n",
      "  inflating: urbansound8k/fold8/125678-7-4-8.wav  \n",
      "  inflating: urbansound8k/fold8/126153-9-0-0.wav  \n",
      "  inflating: urbansound8k/fold8/126153-9-0-1.wav  \n",
      "  inflating: urbansound8k/fold8/126153-9-0-11.wav  \n",
      "  inflating: urbansound8k/fold8/126153-9-0-4.wav  \n",
      "  inflating: urbansound8k/fold8/126153-9-0-5.wav  \n",
      "  inflating: urbansound8k/fold8/126153-9-0-6.wav  \n",
      "  inflating: urbansound8k/fold8/126153-9-0-8.wav  \n",
      "  inflating: urbansound8k/fold8/131571-6-0-0.wav  \n",
      "  inflating: urbansound8k/fold8/133090-2-0-14.wav  \n",
      "  inflating: urbansound8k/fold8/133090-2-0-20.wav  \n",
      "  inflating: urbansound8k/fold8/133090-2-0-28.wav  \n",
      "  inflating: urbansound8k/fold8/133090-2-0-37.wav  \n",
      "  inflating: urbansound8k/fold8/133090-2-0-38.wav  \n",
      "  inflating: urbansound8k/fold8/133090-2-0-64.wav  \n",
      "  inflating: urbansound8k/fold8/133090-2-0-70.wav  \n",
      "  inflating: urbansound8k/fold8/133090-2-0-76.wav  \n",
      "  inflating: urbansound8k/fold8/133473-8-0-0.wav  \n",
      "  inflating: urbansound8k/fold8/133473-8-0-1.wav  \n",
      "  inflating: urbansound8k/fold8/133473-8-0-2.wav  \n",
      "  inflating: urbansound8k/fold8/133473-8-0-3.wav  \n",
      "  inflating: urbansound8k/fold8/133473-8-0-4.wav  \n",
      "  inflating: urbansound8k/fold8/133473-8-0-5.wav  \n",
      "  inflating: urbansound8k/fold8/138465-1-0-0.wav  \n",
      "  inflating: urbansound8k/fold8/139000-4-0-0.wav  \n",
      "  inflating: urbansound8k/fold8/139000-4-0-1.wav  \n",
      "  inflating: urbansound8k/fold8/139000-4-0-2.wav  \n",
      "  inflating: urbansound8k/fold8/142003-2-0-0.wav  \n",
      "  inflating: urbansound8k/fold8/142003-2-0-1.wav  \n",
      "  inflating: urbansound8k/fold8/142003-2-0-19.wav  \n",
      "  inflating: urbansound8k/fold8/142003-2-0-20.wav  \n",
      "  inflating: urbansound8k/fold8/142003-2-0-21.wav  \n",
      "  inflating: urbansound8k/fold8/142003-2-0-24.wav  \n",
      "  inflating: urbansound8k/fold8/142003-2-0-30.wav  \n",
      "  inflating: urbansound8k/fold8/142003-2-0-8.wav  \n",
      "  inflating: urbansound8k/fold8/14386-9-0-11.wav  \n",
      "  inflating: urbansound8k/fold8/14386-9-0-16.wav  \n",
      "  inflating: urbansound8k/fold8/14386-9-0-17.wav  \n",
      "  inflating: urbansound8k/fold8/14386-9-0-2.wav  \n",
      "  inflating: urbansound8k/fold8/14386-9-0-20.wav  \n",
      "  inflating: urbansound8k/fold8/14386-9-0-6.wav  \n",
      "  inflating: urbansound8k/fold8/144028-3-0-0.wav  \n",
      "  inflating: urbansound8k/fold8/144028-3-1-0.wav  \n",
      "  inflating: urbansound8k/fold8/144028-3-1-1.wav  \n",
      "  inflating: urbansound8k/fold8/145206-6-0-0.wav  \n",
      "  inflating: urbansound8k/fold8/145206-6-1-0.wav  \n",
      "  inflating: urbansound8k/fold8/145206-6-2-0.wav  \n",
      "  inflating: urbansound8k/fold8/145206-6-3-0.wav  \n",
      "  inflating: urbansound8k/fold8/145206-6-4-0.wav  \n",
      "  inflating: urbansound8k/fold8/145206-6-5-0.wav  \n",
      "  inflating: urbansound8k/fold8/145612-6-0-0.wav  \n",
      "  inflating: urbansound8k/fold8/145612-6-1-0.wav  \n",
      "  inflating: urbansound8k/fold8/145612-6-2-0.wav  \n",
      "  inflating: urbansound8k/fold8/145612-6-3-0.wav  \n",
      "  inflating: urbansound8k/fold8/146343-3-0-0.wav  \n",
      "  inflating: urbansound8k/fold8/147019-4-0-0.wav  \n",
      "  inflating: urbansound8k/fold8/148632-8-0-0.wav  \n",
      "  inflating: urbansound8k/fold8/148632-8-0-1.wav  \n",
      "  inflating: urbansound8k/fold8/148632-8-0-10.wav  \n",
      "  inflating: urbansound8k/fold8/148632-8-0-11.wav  \n",
      "  inflating: urbansound8k/fold8/148632-8-0-12.wav  \n",
      "  inflating: urbansound8k/fold8/148632-8-0-13.wav  \n",
      "  inflating: urbansound8k/fold8/148632-8-0-14.wav  \n",
      "  inflating: urbansound8k/fold8/148632-8-0-15.wav  \n",
      "  inflating: urbansound8k/fold8/148632-8-0-16.wav  \n",
      "  inflating: urbansound8k/fold8/148632-8-0-17.wav  \n",
      "  inflating: urbansound8k/fold8/148632-8-0-18.wav  \n",
      "  inflating: urbansound8k/fold8/148632-8-0-2.wav  \n",
      "  inflating: urbansound8k/fold8/148632-8-0-3.wav  \n",
      "  inflating: urbansound8k/fold8/148632-8-0-4.wav  \n",
      "  inflating: urbansound8k/fold8/148632-8-0-5.wav  \n",
      "  inflating: urbansound8k/fold8/148632-8-0-6.wav  \n",
      "  inflating: urbansound8k/fold8/148632-8-0-7.wav  \n",
      "  inflating: urbansound8k/fold8/148632-8-0-8.wav  \n",
      "  inflating: urbansound8k/fold8/148632-8-0-9.wav  \n",
      "  inflating: urbansound8k/fold8/151069-6-0-0.wav  \n",
      "  inflating: urbansound8k/fold8/155217-9-0-27.wav  \n",
      "  inflating: urbansound8k/fold8/155217-9-0-39.wav  \n",
      "  inflating: urbansound8k/fold8/155217-9-0-57.wav  \n",
      "  inflating: urbansound8k/fold8/155217-9-0-85.wav  \n",
      "  inflating: urbansound8k/fold8/155217-9-1-24.wav  \n",
      "  inflating: urbansound8k/fold8/155217-9-1-58.wav  \n",
      "  inflating: urbansound8k/fold8/155283-1-0-0.wav  \n",
      "  inflating: urbansound8k/fold8/155283-1-1-0.wav  \n",
      "  inflating: urbansound8k/fold8/155294-3-0-0.wav  \n",
      "  inflating: urbansound8k/fold8/155313-3-0-0.wav  \n",
      "  inflating: urbansound8k/fold8/156358-5-0-0.wav  \n",
      "  inflating: urbansound8k/fold8/156358-5-0-1.wav  \n",
      "  inflating: urbansound8k/fold8/156358-5-0-2.wav  \n",
      "  inflating: urbansound8k/fold8/156358-5-0-3.wav  \n",
      "  inflating: urbansound8k/fold8/156358-5-0-4.wav  \n",
      "  inflating: urbansound8k/fold8/156358-5-0-5.wav  \n",
      "  inflating: urbansound8k/fold8/156358-5-0-6.wav  \n",
      "  inflating: urbansound8k/fold8/157649-3-0-0.wav  \n",
      "  inflating: urbansound8k/fold8/157649-3-0-1.wav  \n",
      "  inflating: urbansound8k/fold8/157649-3-1-1.wav  \n",
      "  inflating: urbansound8k/fold8/157649-3-2-0.wav  \n",
      "  inflating: urbansound8k/fold8/157868-8-0-0.wav  \n",
      "  inflating: urbansound8k/fold8/157868-8-0-1.wav  \n",
      "  inflating: urbansound8k/fold8/157868-8-0-10.wav  \n",
      "  inflating: urbansound8k/fold8/157868-8-0-11.wav  \n",
      "  inflating: urbansound8k/fold8/157868-8-0-12.wav  \n",
      "  inflating: urbansound8k/fold8/157868-8-0-13.wav  \n",
      "  inflating: urbansound8k/fold8/157868-8-0-14.wav  \n",
      "  inflating: urbansound8k/fold8/157868-8-0-15.wav  \n",
      "  inflating: urbansound8k/fold8/157868-8-0-16.wav  \n",
      "  inflating: urbansound8k/fold8/157868-8-0-17.wav  \n",
      "  inflating: urbansound8k/fold8/157868-8-0-18.wav  \n",
      "  inflating: urbansound8k/fold8/157868-8-0-19.wav  \n",
      "  inflating: urbansound8k/fold8/157868-8-0-2.wav  \n",
      "  inflating: urbansound8k/fold8/157868-8-0-20.wav  \n",
      "  inflating: urbansound8k/fold8/157868-8-0-21.wav  \n",
      "  inflating: urbansound8k/fold8/157868-8-0-22.wav  \n",
      "  inflating: urbansound8k/fold8/157868-8-0-23.wav  \n",
      "  inflating: urbansound8k/fold8/157868-8-0-24.wav  \n",
      "  inflating: urbansound8k/fold8/157868-8-0-25.wav  \n",
      "  inflating: urbansound8k/fold8/157868-8-0-26.wav  \n",
      "  inflating: urbansound8k/fold8/157868-8-0-27.wav  \n",
      "  inflating: urbansound8k/fold8/157868-8-0-3.wav  \n",
      "  inflating: urbansound8k/fold8/157868-8-0-4.wav  \n",
      "  inflating: urbansound8k/fold8/157868-8-0-5.wav  \n",
      "  inflating: urbansound8k/fold8/157868-8-0-6.wav  \n",
      "  inflating: urbansound8k/fold8/157868-8-0-7.wav  \n",
      "  inflating: urbansound8k/fold8/157868-8-0-8.wav  \n",
      "  inflating: urbansound8k/fold8/157868-8-0-9.wav  \n",
      "  inflating: urbansound8k/fold8/159706-6-0-0.wav  \n",
      "  inflating: urbansound8k/fold8/160016-2-0-13.wav  \n",
      "  inflating: urbansound8k/fold8/160016-2-0-25.wav  \n",
      "  inflating: urbansound8k/fold8/160016-2-0-26.wav  \n",
      "  inflating: urbansound8k/fold8/160016-2-0-37.wav  \n",
      "  inflating: urbansound8k/fold8/160016-2-0-40.wav  \n",
      "  inflating: urbansound8k/fold8/160016-2-0-5.wav  \n",
      "  inflating: urbansound8k/fold8/160016-2-0-8.wav  \n",
      "  inflating: urbansound8k/fold8/161129-4-0-1.wav  \n",
      "  inflating: urbansound8k/fold8/161129-4-0-10.wav  \n",
      "  inflating: urbansound8k/fold8/161129-4-0-11.wav  \n",
      "  inflating: urbansound8k/fold8/161129-4-0-12.wav  \n",
      "  inflating: urbansound8k/fold8/161129-4-0-13.wav  \n",
      "  inflating: urbansound8k/fold8/161129-4-0-15.wav  \n",
      "  inflating: urbansound8k/fold8/161129-4-0-16.wav  \n",
      "  inflating: urbansound8k/fold8/161129-4-0-19.wav  \n",
      "  inflating: urbansound8k/fold8/161129-4-0-2.wav  \n",
      "  inflating: urbansound8k/fold8/161129-4-0-20.wav  \n",
      "  inflating: urbansound8k/fold8/161129-4-0-3.wav  \n",
      "  inflating: urbansound8k/fold8/161129-4-0-4.wav  \n",
      "  inflating: urbansound8k/fold8/161129-4-0-5.wav  \n",
      "  inflating: urbansound8k/fold8/161129-4-0-6.wav  \n",
      "  inflating: urbansound8k/fold8/161129-4-0-7.wav  \n",
      "  inflating: urbansound8k/fold8/161129-4-0-8.wav  \n",
      "  inflating: urbansound8k/fold8/161129-4-0-9.wav  \n",
      "  inflating: urbansound8k/fold8/162103-0-0-0.wav  \n",
      "  inflating: urbansound8k/fold8/162103-0-0-1.wav  \n",
      "  inflating: urbansound8k/fold8/162103-0-0-10.wav  \n",
      "  inflating: urbansound8k/fold8/162103-0-0-11.wav  \n",
      "  inflating: urbansound8k/fold8/162103-0-0-12.wav  \n",
      "  inflating: urbansound8k/fold8/162103-0-0-13.wav  \n",
      "  inflating: urbansound8k/fold8/162103-0-0-14.wav  \n",
      "  inflating: urbansound8k/fold8/162103-0-0-15.wav  \n",
      "  inflating: urbansound8k/fold8/162103-0-0-16.wav  \n",
      "  inflating: urbansound8k/fold8/162103-0-0-17.wav  \n",
      "  inflating: urbansound8k/fold8/162103-0-0-2.wav  \n",
      "  inflating: urbansound8k/fold8/162103-0-0-3.wav  \n",
      "  inflating: urbansound8k/fold8/162103-0-0-4.wav  \n",
      "  inflating: urbansound8k/fold8/162103-0-0-5.wav  \n",
      "  inflating: urbansound8k/fold8/162103-0-0-6.wav  \n",
      "  inflating: urbansound8k/fold8/162103-0-0-7.wav  \n",
      "  inflating: urbansound8k/fold8/162103-0-0-8.wav  \n",
      "  inflating: urbansound8k/fold8/162103-0-0-9.wav  \n",
      "  inflating: urbansound8k/fold8/162433-6-0-0.wav  \n",
      "  inflating: urbansound8k/fold8/162433-6-1-0.wav  \n",
      "  inflating: urbansound8k/fold8/162433-6-2-0.wav  \n",
      "  inflating: urbansound8k/fold8/162433-6-3-0.wav  \n",
      "  inflating: urbansound8k/fold8/162433-6-4-0.wav  \n",
      "  inflating: urbansound8k/fold8/162433-6-5-0.wav  \n",
      "  inflating: urbansound8k/fold8/162433-6-6-0.wav  \n",
      "  inflating: urbansound8k/fold8/162433-6-7-0.wav  \n",
      "  inflating: urbansound8k/fold8/162433-6-8-0.wav  \n",
      "  inflating: urbansound8k/fold8/164626-1-0-0.wav  \n",
      "  inflating: urbansound8k/fold8/167702-4-0-0.wav  \n",
      "  inflating: urbansound8k/fold8/167702-4-1-0.wav  \n",
      "  inflating: urbansound8k/fold8/167702-4-2-0.wav  \n",
      "  inflating: urbansound8k/fold8/167702-4-3-0.wav  \n",
      "  inflating: urbansound8k/fold8/167702-4-4-0.wav  \n",
      "  inflating: urbansound8k/fold8/167702-4-5-0.wav  \n",
      "  inflating: urbansound8k/fold8/167702-4-6-0.wav  \n",
      "  inflating: urbansound8k/fold8/167702-4-7-0.wav  \n",
      "  inflating: urbansound8k/fold8/167702-4-7-1.wav  \n",
      "  inflating: urbansound8k/fold8/167702-4-8-0.wav  \n",
      "  inflating: urbansound8k/fold8/167702-4-9-0.wav  \n",
      "  inflating: urbansound8k/fold8/168037-4-0-0.wav  \n",
      "  inflating: urbansound8k/fold8/168037-4-1-0.wav  \n",
      "  inflating: urbansound8k/fold8/168037-4-10-0.wav  \n",
      "  inflating: urbansound8k/fold8/168037-4-11-0.wav  \n",
      "  inflating: urbansound8k/fold8/168037-4-12-0.wav  \n",
      "  inflating: urbansound8k/fold8/168037-4-13-0.wav  \n",
      "  inflating: urbansound8k/fold8/168037-4-2-0.wav  \n",
      "  inflating: urbansound8k/fold8/168037-4-3-0.wav  \n",
      "  inflating: urbansound8k/fold8/168037-4-4-0.wav  \n",
      "  inflating: urbansound8k/fold8/168037-4-5-0.wav  \n",
      "  inflating: urbansound8k/fold8/168037-4-6-0.wav  \n",
      "  inflating: urbansound8k/fold8/168037-4-7-0.wav  \n",
      "  inflating: urbansound8k/fold8/168037-4-8-0.wav  \n",
      "  inflating: urbansound8k/fold8/168037-4-9-0.wav  \n",
      "  inflating: urbansound8k/fold8/16860-9-0-26.wav  \n",
      "  inflating: urbansound8k/fold8/16860-9-0-28.wav  \n",
      "  inflating: urbansound8k/fold8/16860-9-0-30.wav  \n",
      "  inflating: urbansound8k/fold8/16860-9-0-45.wav  \n",
      "  inflating: urbansound8k/fold8/16860-9-0-50.wav  \n",
      "  inflating: urbansound8k/fold8/16860-9-0-8.wav  \n",
      "  inflating: urbansound8k/fold8/169043-2-0-10.wav  \n",
      "  inflating: urbansound8k/fold8/169043-2-0-13.wav  \n",
      "  inflating: urbansound8k/fold8/169043-2-0-15.wav  \n",
      "  inflating: urbansound8k/fold8/169043-2-0-21.wav  \n",
      "  inflating: urbansound8k/fold8/169043-2-0-24.wav  \n",
      "  inflating: urbansound8k/fold8/169043-2-0-28.wav  \n",
      "  inflating: urbansound8k/fold8/169043-2-0-3.wav  \n",
      "  inflating: urbansound8k/fold8/170022-0-0-0.wav  \n",
      "  inflating: urbansound8k/fold8/170022-0-0-1.wav  \n",
      "  inflating: urbansound8k/fold8/17009-2-0-0.wav  \n",
      "  inflating: urbansound8k/fold8/17009-2-0-1.wav  \n",
      "  inflating: urbansound8k/fold8/17009-2-0-10.wav  \n",
      "  inflating: urbansound8k/fold8/17009-2-0-3.wav  \n",
      "  inflating: urbansound8k/fold8/17009-2-0-4.wav  \n",
      "  inflating: urbansound8k/fold8/17009-2-0-6.wav  \n",
      "  inflating: urbansound8k/fold8/17009-2-0-9.wav  \n",
      "  inflating: urbansound8k/fold8/171243-9-0-11.wav  \n",
      "  inflating: urbansound8k/fold8/171243-9-0-123.wav  \n",
      "  inflating: urbansound8k/fold8/171243-9-0-31.wav  \n",
      "  inflating: urbansound8k/fold8/171243-9-0-49.wav  \n",
      "  inflating: urbansound8k/fold8/171243-9-0-81.wav  \n",
      "  inflating: urbansound8k/fold8/171243-9-0-85.wav  \n",
      "  inflating: urbansound8k/fold8/171243-9-0-91.wav  \n",
      "  inflating: urbansound8k/fold8/171464-3-0-0.wav  \n",
      "  inflating: urbansound8k/fold8/171464-3-1-0.wav  \n",
      "  inflating: urbansound8k/fold8/171464-3-2-0.wav  \n",
      "  inflating: urbansound8k/fold8/174285-6-0-0.wav  \n",
      "  inflating: urbansound8k/fold8/174285-6-1-0.wav  \n",
      "  inflating: urbansound8k/fold8/174285-6-2-0.wav  \n",
      "  inflating: urbansound8k/fold8/174873-3-5-1.wav  \n",
      "  inflating: urbansound8k/fold8/174873-3-5-10.wav  \n",
      "  inflating: urbansound8k/fold8/174873-3-5-12.wav  \n",
      "  inflating: urbansound8k/fold8/174873-3-5-13.wav  \n",
      "  inflating: urbansound8k/fold8/175852-1-0-0.wav  \n",
      "  inflating: urbansound8k/fold8/175856-1-0-0.wav  \n",
      "  inflating: urbansound8k/fold8/175856-1-1-0.wav  \n",
      "  inflating: urbansound8k/fold8/175856-1-2-0.wav  \n",
      "  inflating: urbansound8k/fold8/177726-0-0-1.wav  \n",
      "  inflating: urbansound8k/fold8/177726-0-0-10.wav  \n",
      "  inflating: urbansound8k/fold8/177726-0-0-11.wav  \n",
      "  inflating: urbansound8k/fold8/177726-0-0-12.wav  \n",
      "  inflating: urbansound8k/fold8/177726-0-0-13.wav  \n",
      "  inflating: urbansound8k/fold8/177726-0-0-14.wav  \n",
      "  inflating: urbansound8k/fold8/177726-0-0-15.wav  \n",
      "  inflating: urbansound8k/fold8/177726-0-0-17.wav  \n",
      "  inflating: urbansound8k/fold8/177726-0-0-18.wav  \n",
      "  inflating: urbansound8k/fold8/177726-0-0-19.wav  \n",
      "  inflating: urbansound8k/fold8/177726-0-0-2.wav  \n",
      "  inflating: urbansound8k/fold8/177726-0-0-21.wav  \n",
      "  inflating: urbansound8k/fold8/177726-0-0-22.wav  \n",
      "  inflating: urbansound8k/fold8/177726-0-0-23.wav  \n",
      "  inflating: urbansound8k/fold8/177726-0-0-25.wav  \n",
      "  inflating: urbansound8k/fold8/177726-0-0-26.wav  \n",
      "  inflating: urbansound8k/fold8/177726-0-0-27.wav  \n",
      "  inflating: urbansound8k/fold8/177726-0-0-28.wav  \n",
      "  inflating: urbansound8k/fold8/177726-0-0-29.wav  \n",
      "  inflating: urbansound8k/fold8/177726-0-0-3.wav  \n",
      "  inflating: urbansound8k/fold8/177726-0-0-30.wav  \n",
      "  inflating: urbansound8k/fold8/177726-0-0-31.wav  \n",
      "  inflating: urbansound8k/fold8/177726-0-0-32.wav  \n",
      "  inflating: urbansound8k/fold8/177726-0-0-33.wav  \n",
      "  inflating: urbansound8k/fold8/177726-0-0-34.wav  \n",
      "  inflating: urbansound8k/fold8/177726-0-0-36.wav  \n",
      "  inflating: urbansound8k/fold8/177726-0-0-37.wav  \n",
      "  inflating: urbansound8k/fold8/177726-0-0-5.wav  \n",
      "  inflating: urbansound8k/fold8/177726-0-0-6.wav  \n",
      "  inflating: urbansound8k/fold8/177726-0-0-7.wav  \n",
      "  inflating: urbansound8k/fold8/177726-0-0-8.wav  \n",
      "  inflating: urbansound8k/fold8/177726-0-0-9.wav  \n",
      "  inflating: urbansound8k/fold8/17810-3-0-0.wav  \n",
      "  inflating: urbansound8k/fold8/17810-3-1-0.wav  \n",
      "  inflating: urbansound8k/fold8/179039-9-0-22.wav  \n",
      "  inflating: urbansound8k/fold8/179039-9-0-23.wav  \n",
      "  inflating: urbansound8k/fold8/179039-9-0-30.wav  \n",
      "  inflating: urbansound8k/fold8/179039-9-0-38.wav  \n",
      "  inflating: urbansound8k/fold8/179039-9-0-4.wav  \n",
      "  inflating: urbansound8k/fold8/179039-9-0-40.wav  \n",
      "  inflating: urbansound8k/fold8/180132-4-0-0.wav  \n",
      "  inflating: urbansound8k/fold8/180132-4-1-0.wav  \n",
      "  inflating: urbansound8k/fold8/180132-4-2-0.wav  \n",
      "  inflating: urbansound8k/fold8/180132-4-3-0.wav  \n",
      "  inflating: urbansound8k/fold8/180134-4-1-3.wav  \n",
      "  inflating: urbansound8k/fold8/180134-4-1-7.wav  \n",
      "  inflating: urbansound8k/fold8/180134-4-1-8.wav  \n",
      "  inflating: urbansound8k/fold8/180134-4-1-9.wav  \n",
      "  inflating: urbansound8k/fold8/180134-4-2-0.wav  \n",
      "  inflating: urbansound8k/fold8/180134-4-2-1.wav  \n",
      "  inflating: urbansound8k/fold8/180134-4-2-11.wav  \n",
      "  inflating: urbansound8k/fold8/180134-4-2-13.wav  \n",
      "  inflating: urbansound8k/fold8/180134-4-2-15.wav  \n",
      "  inflating: urbansound8k/fold8/180134-4-2-16.wav  \n",
      "  inflating: urbansound8k/fold8/180134-4-2-17.wav  \n",
      "  inflating: urbansound8k/fold8/180134-4-2-19.wav  \n",
      "  inflating: urbansound8k/fold8/180134-4-2-3.wav  \n",
      "  inflating: urbansound8k/fold8/180134-4-2-4.wav  \n",
      "  inflating: urbansound8k/fold8/180134-4-2-5.wav  \n",
      "  inflating: urbansound8k/fold8/180134-4-2-6.wav  \n",
      "  inflating: urbansound8k/fold8/180134-4-2-9.wav  \n",
      "  inflating: urbansound8k/fold8/186935-5-0-0.wav  \n",
      "  inflating: urbansound8k/fold8/186935-5-0-1.wav  \n",
      "  inflating: urbansound8k/fold8/186940-5-0-0.wav  \n",
      "  inflating: urbansound8k/fold8/189825-9-0-0.wav  \n",
      "  inflating: urbansound8k/fold8/189825-9-0-1.wav  \n",
      "  inflating: urbansound8k/fold8/189825-9-0-2.wav  \n",
      "  inflating: urbansound8k/fold8/189825-9-0-3.wav  \n",
      "  inflating: urbansound8k/fold8/189825-9-0-5.wav  \n",
      "  inflating: urbansound8k/fold8/189825-9-0-7.wav  \n",
      "  inflating: urbansound8k/fold8/189846-3-0-0.wav  \n",
      "  inflating: urbansound8k/fold8/189846-3-1-0.wav  \n",
      "  inflating: urbansound8k/fold8/189846-3-3-0.wav  \n",
      "  inflating: urbansound8k/fold8/189846-3-4-0.wav  \n",
      "  inflating: urbansound8k/fold8/190996-3-0-0.wav  \n",
      "  inflating: urbansound8k/fold8/190996-3-0-1.wav  \n",
      "  inflating: urbansound8k/fold8/190996-3-0-8.wav  \n",
      "  inflating: urbansound8k/fold8/193699-2-0-109.wav  \n",
      "  inflating: urbansound8k/fold8/193699-2-0-3.wav  \n",
      "  inflating: urbansound8k/fold8/193699-2-0-32.wav  \n",
      "  inflating: urbansound8k/fold8/193699-2-0-33.wav  \n",
      "  inflating: urbansound8k/fold8/193699-2-0-46.wav  \n",
      "  inflating: urbansound8k/fold8/193699-2-0-54.wav  \n",
      "  inflating: urbansound8k/fold8/193699-2-0-62.wav  \n",
      "  inflating: urbansound8k/fold8/193699-2-0-69.wav  \n",
      "  inflating: urbansound8k/fold8/194733-9-0-1.wav  \n",
      "  inflating: urbansound8k/fold8/194733-9-0-10.wav  \n",
      "  inflating: urbansound8k/fold8/194733-9-0-11.wav  \n",
      "  inflating: urbansound8k/fold8/194733-9-0-12.wav  \n",
      "  inflating: urbansound8k/fold8/194733-9-0-14.wav  \n",
      "  inflating: urbansound8k/fold8/194733-9-0-16.wav  \n",
      "  inflating: urbansound8k/fold8/194733-9-0-7.wav  \n",
      "  inflating: urbansound8k/fold8/196057-2-0-0.wav  \n",
      "  inflating: urbansound8k/fold8/196068-2-0-0.wav  \n",
      "  inflating: urbansound8k/fold8/196068-2-0-1.wav  \n",
      "  inflating: urbansound8k/fold8/196074-2-0-0.wav  \n",
      "  inflating: urbansound8k/fold8/196561-3-0-16.wav  \n",
      "  inflating: urbansound8k/fold8/196561-3-0-29.wav  \n",
      "  inflating: urbansound8k/fold8/196561-3-0-44.wav  \n",
      "  inflating: urbansound8k/fold8/196561-3-0-9.wav  \n",
      "  inflating: urbansound8k/fold8/204526-2-0-121.wav  \n",
      "  inflating: urbansound8k/fold8/204526-2-0-134.wav  \n",
      "  inflating: urbansound8k/fold8/204526-2-0-153.wav  \n",
      "  inflating: urbansound8k/fold8/204526-2-0-160.wav  \n",
      "  inflating: urbansound8k/fold8/204526-2-0-166.wav  \n",
      "  inflating: urbansound8k/fold8/204526-2-0-193.wav  \n",
      "  inflating: urbansound8k/fold8/204526-2-0-71.wav  \n",
      "  inflating: urbansound8k/fold8/205610-4-0-0.wav  \n",
      "  inflating: urbansound8k/fold8/205610-4-0-1.wav  \n",
      "  inflating: urbansound8k/fold8/205610-4-0-2.wav  \n",
      "  inflating: urbansound8k/fold8/205610-4-0-3.wav  \n",
      "  inflating: urbansound8k/fold8/205610-4-0-4.wav  \n",
      "  inflating: urbansound8k/fold8/205610-4-0-5.wav  \n",
      "  inflating: urbansound8k/fold8/207214-2-0-126.wav  \n",
      "  inflating: urbansound8k/fold8/207214-2-0-26.wav  \n",
      "  inflating: urbansound8k/fold8/207214-2-0-3.wav  \n",
      "  inflating: urbansound8k/fold8/207214-2-0-31.wav  \n",
      "  inflating: urbansound8k/fold8/207214-2-0-54.wav  \n",
      "  inflating: urbansound8k/fold8/207214-2-0-62.wav  \n",
      "  inflating: urbansound8k/fold8/207214-2-0-63.wav  \n",
      "  inflating: urbansound8k/fold8/207214-2-0-68.wav  \n",
      "  inflating: urbansound8k/fold8/207369-3-0-0.wav  \n",
      "  inflating: urbansound8k/fold8/24728-7-0-0.wav  \n",
      "  inflating: urbansound8k/fold8/24728-7-1-0.wav  \n",
      "  inflating: urbansound8k/fold8/24728-7-2-0.wav  \n",
      "  inflating: urbansound8k/fold8/24728-7-3-0.wav  \n",
      "  inflating: urbansound8k/fold8/24728-7-4-0.wav  \n",
      "  inflating: urbansound8k/fold8/24728-7-5-0.wav  \n",
      "  inflating: urbansound8k/fold8/25039-6-0-0.wav  \n",
      "  inflating: urbansound8k/fold8/25039-6-1-0.wav  \n",
      "  inflating: urbansound8k/fold8/26176-1-0-0.wav  \n",
      "  inflating: urbansound8k/fold8/29936-3-0-0.wav  \n",
      "  inflating: urbansound8k/fold8/29936-3-1-0.wav  \n",
      "  inflating: urbansound8k/fold8/29936-3-2-0.wav  \n",
      "  inflating: urbansound8k/fold8/29936-3-3-0.wav  \n",
      "  inflating: urbansound8k/fold8/30226-3-1-0.wav  \n",
      "  inflating: urbansound8k/fold8/30226-3-1-1.wav  \n",
      "  inflating: urbansound8k/fold8/30226-3-1-3.wav  \n",
      "  inflating: urbansound8k/fold8/30226-3-1-5.wav  \n",
      "  inflating: urbansound8k/fold8/31325-3-1-0.wav  \n",
      "  inflating: urbansound8k/fold8/31325-3-1-1.wav  \n",
      "  inflating: urbansound8k/fold8/31325-3-3-6.wav  \n",
      "  inflating: urbansound8k/fold8/31325-3-4-0.wav  \n",
      "  inflating: urbansound8k/fold8/33340-7-0-0.wav  \n",
      "  inflating: urbansound8k/fold8/33340-7-1-0.wav  \n",
      "  inflating: urbansound8k/fold8/33340-7-10-0.wav  \n",
      "  inflating: urbansound8k/fold8/33340-7-11-0.wav  \n",
      "  inflating: urbansound8k/fold8/33340-7-12-0.wav  \n",
      "  inflating: urbansound8k/fold8/33340-7-13-0.wav  \n",
      "  inflating: urbansound8k/fold8/33340-7-14-0.wav  \n",
      "  inflating: urbansound8k/fold8/33340-7-15-0.wav  \n",
      "  inflating: urbansound8k/fold8/33340-7-16-0.wav  \n",
      "  inflating: urbansound8k/fold8/33340-7-2-0.wav  \n",
      "  inflating: urbansound8k/fold8/33340-7-3-0.wav  \n",
      "  inflating: urbansound8k/fold8/33340-7-4-0.wav  \n",
      "  inflating: urbansound8k/fold8/33340-7-5-0.wav  \n",
      "  inflating: urbansound8k/fold8/33340-7-6-0.wav  \n",
      "  inflating: urbansound8k/fold8/33340-7-7-0.wav  \n",
      "  inflating: urbansound8k/fold8/33340-7-8-0.wav  \n",
      "  inflating: urbansound8k/fold8/33340-7-9-0.wav  \n",
      "  inflating: urbansound8k/fold8/34866-9-0-10.wav  \n",
      "  inflating: urbansound8k/fold8/34866-9-0-11.wav  \n",
      "  inflating: urbansound8k/fold8/34866-9-0-13.wav  \n",
      "  inflating: urbansound8k/fold8/34866-9-0-3.wav  \n",
      "  inflating: urbansound8k/fold8/34866-9-0-5.wav  \n",
      "  inflating: urbansound8k/fold8/34866-9-0-9.wav  \n",
      "  inflating: urbansound8k/fold8/36429-2-0-13.wav  \n",
      "  inflating: urbansound8k/fold8/36429-2-0-14.wav  \n",
      "  inflating: urbansound8k/fold8/36429-2-0-15.wav  \n",
      "  inflating: urbansound8k/fold8/36429-2-0-18.wav  \n",
      "  inflating: urbansound8k/fold8/36429-2-0-23.wav  \n",
      "  inflating: urbansound8k/fold8/36429-2-0-6.wav  \n",
      "  inflating: urbansound8k/fold8/36429-2-0-7.wav  \n",
      "  inflating: urbansound8k/fold8/39967-9-0-0.wav  \n",
      "  inflating: urbansound8k/fold8/39967-9-0-100.wav  \n",
      "  inflating: urbansound8k/fold8/39967-9-0-44.wav  \n",
      "  inflating: urbansound8k/fold8/39967-9-0-56.wav  \n",
      "  inflating: urbansound8k/fold8/39967-9-0-78.wav  \n",
      "  inflating: urbansound8k/fold8/39967-9-0-99.wav  \n",
      "  inflating: urbansound8k/fold8/41364-9-0-11.wav  \n",
      "  inflating: urbansound8k/fold8/41364-9-0-18.wav  \n",
      "  inflating: urbansound8k/fold8/41364-9-0-22.wav  \n",
      "  inflating: urbansound8k/fold8/41364-9-0-23.wav  \n",
      "  inflating: urbansound8k/fold8/41364-9-0-24.wav  \n",
      "  inflating: urbansound8k/fold8/41364-9-0-27.wav  \n",
      "  inflating: urbansound8k/fold8/42324-4-0-0.wav  \n",
      "  inflating: urbansound8k/fold8/42324-4-1-0.wav  \n",
      "  inflating: urbansound8k/fold8/42324-4-2-0.wav  \n",
      "  inflating: urbansound8k/fold8/42324-4-2-1.wav  \n",
      "  inflating: urbansound8k/fold8/42324-4-2-2.wav  \n",
      "  inflating: urbansound8k/fold8/42324-4-2-3.wav  \n",
      "  inflating: urbansound8k/fold8/42324-4-2-4.wav  \n",
      "  inflating: urbansound8k/fold8/44110-3-0-0.wav  \n",
      "  inflating: urbansound8k/fold8/44110-3-1-0.wav  \n",
      "  inflating: urbansound8k/fold8/44110-3-3-0.wav  \n",
      "  inflating: urbansound8k/fold8/44110-3-4-0.wav  \n",
      "  inflating: urbansound8k/fold8/4918-3-0-0.wav  \n",
      "  inflating: urbansound8k/fold8/4918-3-1-0.wav  \n",
      "  inflating: urbansound8k/fold8/4918-3-3-0.wav  \n",
      "  inflating: urbansound8k/fold8/4918-3-4-0.wav  \n",
      "  inflating: urbansound8k/fold8/49974-1-0-0.wav  \n",
      "  inflating: urbansound8k/fold8/50613-3-0-0.wav  \n",
      "  inflating: urbansound8k/fold8/50668-5-0-0.wav  \n",
      "  inflating: urbansound8k/fold8/50668-5-0-1.wav  \n",
      "  inflating: urbansound8k/fold8/50668-5-0-2.wav  \n",
      "  inflating: urbansound8k/fold8/50668-5-1-0.wav  \n",
      "  inflating: urbansound8k/fold8/50668-5-2-0.wav  \n",
      "  inflating: urbansound8k/fold8/50668-5-3-0.wav  \n",
      "  inflating: urbansound8k/fold8/50668-5-4-0.wav  \n",
      "  inflating: urbansound8k/fold8/50668-5-5-0.wav  \n",
      "  inflating: urbansound8k/fold8/50668-5-5-1.wav  \n",
      "  inflating: urbansound8k/fold8/50668-5-5-2.wav  \n",
      "  inflating: urbansound8k/fold8/50668-5-6-0.wav  \n",
      "  inflating: urbansound8k/fold8/50668-5-7-0.wav  \n",
      "  inflating: urbansound8k/fold8/52284-6-0-0.wav  \n",
      "  inflating: urbansound8k/fold8/52633-3-0-1.wav  \n",
      "  inflating: urbansound8k/fold8/52633-3-0-2.wav  \n",
      "  inflating: urbansound8k/fold8/52633-3-0-8.wav  \n",
      "  inflating: urbansound8k/fold8/52633-3-0-9.wav  \n",
      "  inflating: urbansound8k/fold8/54383-0-0-0.wav  \n",
      "  inflating: urbansound8k/fold8/54383-0-0-1.wav  \n",
      "  inflating: urbansound8k/fold8/54383-0-0-10.wav  \n",
      "  inflating: urbansound8k/fold8/54383-0-0-11.wav  \n",
      "  inflating: urbansound8k/fold8/54383-0-0-2.wav  \n",
      "  inflating: urbansound8k/fold8/54383-0-0-3.wav  \n",
      "  inflating: urbansound8k/fold8/54383-0-0-4.wav  \n",
      "  inflating: urbansound8k/fold8/54383-0-0-5.wav  \n",
      "  inflating: urbansound8k/fold8/54383-0-0-6.wav  \n",
      "  inflating: urbansound8k/fold8/54383-0-0-7.wav  \n",
      "  inflating: urbansound8k/fold8/54383-0-0-8.wav  \n",
      "  inflating: urbansound8k/fold8/54383-0-0-9.wav  \n",
      "  inflating: urbansound8k/fold8/54914-2-0-23.wav  \n",
      "  inflating: urbansound8k/fold8/54914-2-0-26.wav  \n",
      "  inflating: urbansound8k/fold8/54914-2-0-27.wav  \n",
      "  inflating: urbansound8k/fold8/54914-2-0-3.wav  \n",
      "  inflating: urbansound8k/fold8/54914-2-0-34.wav  \n",
      "  inflating: urbansound8k/fold8/54914-2-0-35.wav  \n",
      "  inflating: urbansound8k/fold8/54914-2-0-48.wav  \n",
      "  inflating: urbansound8k/fold8/55013-3-0-1.wav  \n",
      "  inflating: urbansound8k/fold8/55013-3-0-3.wav  \n",
      "  inflating: urbansound8k/fold8/55013-3-0-4.wav  \n",
      "  inflating: urbansound8k/fold8/55013-3-0-7.wav  \n",
      "  inflating: urbansound8k/fold8/59595-4-0-0.wav  \n",
      "  inflating: urbansound8k/fold8/59595-4-0-1.wav  \n",
      "  inflating: urbansound8k/fold8/61077-3-0-0.wav  \n",
      "  inflating: urbansound8k/fold8/61077-3-1-0.wav  \n",
      "  inflating: urbansound8k/fold8/61077-3-2-0.wav  \n",
      "  inflating: urbansound8k/fold8/61077-3-3-0.wav  \n",
      "  inflating: urbansound8k/fold8/62048-3-0-2.wav  \n",
      "  inflating: urbansound8k/fold8/62048-3-0-3.wav  \n",
      "  inflating: urbansound8k/fold8/62048-3-0-4.wav  \n",
      "  inflating: urbansound8k/fold8/62048-3-0-5.wav  \n",
      "  inflating: urbansound8k/fold8/66324-9-0-19.wav  \n",
      "  inflating: urbansound8k/fold8/66324-9-0-30.wav  \n",
      "  inflating: urbansound8k/fold8/66324-9-0-4.wav  \n",
      "  inflating: urbansound8k/fold8/66324-9-0-42.wav  \n",
      "  inflating: urbansound8k/fold8/66324-9-0-53.wav  \n",
      "  inflating: urbansound8k/fold8/66324-9-0-54.wav  \n",
      "  inflating: urbansound8k/fold8/66599-9-0-11.wav  \n",
      "  inflating: urbansound8k/fold8/66599-9-0-17.wav  \n",
      "  inflating: urbansound8k/fold8/66599-9-1-11.wav  \n",
      "  inflating: urbansound8k/fold8/66599-9-1-21.wav  \n",
      "  inflating: urbansound8k/fold8/66599-9-1-23.wav  \n",
      "  inflating: urbansound8k/fold8/66599-9-1-4.wav  \n",
      "  inflating: urbansound8k/fold8/68080-7-0-0.wav  \n",
      "  inflating: urbansound8k/fold8/68080-7-0-1.wav  \n",
      "  inflating: urbansound8k/fold8/68080-7-0-2.wav  \n",
      "  inflating: urbansound8k/fold8/68080-7-0-3.wav  \n",
      "  inflating: urbansound8k/fold8/68080-7-0-4.wav  \n",
      "  inflating: urbansound8k/fold8/68080-7-0-5.wav  \n",
      "  inflating: urbansound8k/fold8/68080-7-0-6.wav  \n",
      "  inflating: urbansound8k/fold8/68080-7-0-7.wav  \n",
      "  inflating: urbansound8k/fold8/68080-7-0-8.wav  \n",
      "  inflating: urbansound8k/fold8/68080-7-0-9.wav  \n",
      "  inflating: urbansound8k/fold8/6984-1-0-0.wav  \n",
      "  inflating: urbansound8k/fold8/70168-3-1-11.wav  \n",
      "  inflating: urbansound8k/fold8/70168-3-1-13.wav  \n",
      "  inflating: urbansound8k/fold8/70168-3-1-20.wav  \n",
      "  inflating: urbansound8k/fold8/70168-3-1-24.wav  \n",
      "  inflating: urbansound8k/fold8/7065-6-0-0.wav  \n",
      "  inflating: urbansound8k/fold8/7068-6-0-0.wav  \n",
      "  inflating: urbansound8k/fold8/71177-8-0-0.wav  \n",
      "  inflating: urbansound8k/fold8/71177-8-0-1.wav  \n",
      "  inflating: urbansound8k/fold8/71177-8-1-0.wav  \n",
      "  inflating: urbansound8k/fold8/71177-8-1-1.wav  \n",
      "  inflating: urbansound8k/fold8/71177-8-1-2.wav  \n",
      "  inflating: urbansound8k/fold8/71177-8-1-3.wav  \n",
      "  inflating: urbansound8k/fold8/71177-8-1-4.wav  \n",
      "  inflating: urbansound8k/fold8/71177-8-2-0.wav  \n",
      "  inflating: urbansound8k/fold8/71177-8-2-1.wav  \n",
      "  inflating: urbansound8k/fold8/71309-1-0-0.wav  \n",
      "  inflating: urbansound8k/fold8/71309-1-0-1.wav  \n",
      "  inflating: urbansound8k/fold8/71309-1-0-2.wav  \n",
      "  inflating: urbansound8k/fold8/71309-1-0-3.wav  \n",
      "  inflating: urbansound8k/fold8/71309-1-0-4.wav  \n",
      "  inflating: urbansound8k/fold8/71309-1-0-5.wav  \n",
      "  inflating: urbansound8k/fold8/71309-1-0-6.wav  \n",
      "  inflating: urbansound8k/fold8/71309-1-0-7.wav  \n",
      "  inflating: urbansound8k/fold8/71309-1-0-8.wav  \n",
      "  inflating: urbansound8k/fold8/71309-1-1-0.wav  \n",
      "  inflating: urbansound8k/fold8/71309-1-2-0.wav  \n",
      "  inflating: urbansound8k/fold8/71700-3-3-2.wav  \n",
      "  inflating: urbansound8k/fold8/71700-3-4-0.wav  \n",
      "  inflating: urbansound8k/fold8/71700-3-4-1.wav  \n",
      "  inflating: urbansound8k/fold8/71700-3-4-3.wav  \n",
      "  inflating: urbansound8k/fold8/72015-2-0-0.wav  \n",
      "  inflating: urbansound8k/fold8/72015-2-0-1.wav  \n",
      "  inflating: urbansound8k/fold8/72015-2-0-2.wav  \n",
      "  inflating: urbansound8k/fold8/72015-2-0-3.wav  \n",
      "  inflating: urbansound8k/fold8/72015-2-0-4.wav  \n",
      "  inflating: urbansound8k/fold8/72015-2-0-5.wav  \n",
      "  inflating: urbansound8k/fold8/72221-3-1-0.wav  \n",
      "  inflating: urbansound8k/fold8/72221-3-4-1.wav  \n",
      "  inflating: urbansound8k/fold8/72221-3-4-5.wav  \n",
      "  inflating: urbansound8k/fold8/72221-3-4-7.wav  \n",
      "  inflating: urbansound8k/fold8/7390-9-0-0.wav  \n",
      "  inflating: urbansound8k/fold8/7390-9-0-3.wav  \n",
      "  inflating: urbansound8k/fold8/7390-9-0-6.wav  \n",
      "  inflating: urbansound8k/fold8/7390-9-0-9.wav  \n",
      "  inflating: urbansound8k/fold8/7390-9-1-11.wav  \n",
      "  inflating: urbansound8k/fold8/7390-9-1-12.wav  \n",
      "  inflating: urbansound8k/fold8/7390-9-1-5.wav  \n",
      "  inflating: urbansound8k/fold8/74677-0-0-0.wav  \n",
      "  inflating: urbansound8k/fold8/74677-0-0-10.wav  \n",
      "  inflating: urbansound8k/fold8/74677-0-0-105.wav  \n",
      "  inflating: urbansound8k/fold8/74677-0-0-116.wav  \n",
      "  inflating: urbansound8k/fold8/74677-0-0-13.wav  \n",
      "  inflating: urbansound8k/fold8/74677-0-0-130.wav  \n",
      "  inflating: urbansound8k/fold8/74677-0-0-134.wav  \n",
      "  inflating: urbansound8k/fold8/74677-0-0-135.wav  \n",
      "  inflating: urbansound8k/fold8/74677-0-0-14.wav  \n",
      "  inflating: urbansound8k/fold8/74677-0-0-19.wav  \n",
      "  inflating: urbansound8k/fold8/74677-0-0-2.wav  \n",
      "  inflating: urbansound8k/fold8/74677-0-0-21.wav  \n",
      "  inflating: urbansound8k/fold8/74677-0-0-28.wav  \n",
      "  inflating: urbansound8k/fold8/74677-0-0-3.wav  \n",
      "  inflating: urbansound8k/fold8/74677-0-0-35.wav  \n",
      "  inflating: urbansound8k/fold8/74677-0-0-36.wav  \n",
      "  inflating: urbansound8k/fold8/74677-0-0-38.wav  \n",
      "  inflating: urbansound8k/fold8/74677-0-0-47.wav  \n",
      "  inflating: urbansound8k/fold8/74677-0-0-56.wav  \n",
      "  inflating: urbansound8k/fold8/74677-0-0-57.wav  \n",
      "  inflating: urbansound8k/fold8/74677-0-0-58.wav  \n",
      "  inflating: urbansound8k/fold8/74677-0-0-6.wav  \n",
      "  inflating: urbansound8k/fold8/74677-0-0-61.wav  \n",
      "  inflating: urbansound8k/fold8/74677-0-0-64.wav  \n",
      "  inflating: urbansound8k/fold8/74677-0-0-66.wav  \n",
      "  inflating: urbansound8k/fold8/74677-0-0-67.wav  \n",
      "  inflating: urbansound8k/fold8/74677-0-0-69.wav  \n",
      "  inflating: urbansound8k/fold8/74677-0-0-75.wav  \n",
      "  inflating: urbansound8k/fold8/74677-0-0-92.wav  \n",
      "  inflating: urbansound8k/fold8/74677-0-0-94.wav  \n",
      "  inflating: urbansound8k/fold8/74677-0-0-95.wav  \n",
      "  inflating: urbansound8k/fold8/76085-4-0-103.wav  \n",
      "  inflating: urbansound8k/fold8/76085-4-0-14.wav  \n",
      "  inflating: urbansound8k/fold8/76085-4-0-24.wav  \n",
      "  inflating: urbansound8k/fold8/76085-4-0-27.wav  \n",
      "  inflating: urbansound8k/fold8/76085-4-0-35.wav  \n",
      "  inflating: urbansound8k/fold8/76085-4-0-37.wav  \n",
      "  inflating: urbansound8k/fold8/76085-4-0-38.wav  \n",
      "  inflating: urbansound8k/fold8/76085-4-0-55.wav  \n",
      "  inflating: urbansound8k/fold8/76085-4-0-6.wav  \n",
      "  inflating: urbansound8k/fold8/76085-4-0-61.wav  \n",
      "  inflating: urbansound8k/fold8/76085-4-0-62.wav  \n",
      "  inflating: urbansound8k/fold8/76085-4-0-66.wav  \n",
      "  inflating: urbansound8k/fold8/76085-4-0-81.wav  \n",
      "  inflating: urbansound8k/fold8/76085-4-0-89.wav  \n",
      "  inflating: urbansound8k/fold8/76085-4-0-93.wav  \n",
      "  inflating: urbansound8k/fold8/76085-4-0-97.wav  \n",
      "  inflating: urbansound8k/fold8/76266-2-0-40.wav  \n",
      "  inflating: urbansound8k/fold8/76266-2-0-46.wav  \n",
      "  inflating: urbansound8k/fold8/76266-2-0-50.wav  \n",
      "  inflating: urbansound8k/fold8/76266-2-0-55.wav  \n",
      "  inflating: urbansound8k/fold8/76266-2-0-7.wav  \n",
      "  inflating: urbansound8k/fold8/76266-2-0-76.wav  \n",
      "  inflating: urbansound8k/fold8/76266-2-0-80.wav  \n",
      "  inflating: urbansound8k/fold8/76266-2-0-91.wav  \n",
      "  inflating: urbansound8k/fold8/80589-0-0-0.wav  \n",
      "  inflating: urbansound8k/fold8/80589-0-0-1.wav  \n",
      "  inflating: urbansound8k/fold8/80589-0-0-2.wav  \n",
      "  inflating: urbansound8k/fold8/80589-0-0-3.wav  \n",
      "  inflating: urbansound8k/fold8/80589-0-0-4.wav  \n",
      "  inflating: urbansound8k/fold8/81787-2-0-0.wav  \n",
      "  inflating: urbansound8k/fold8/81787-2-0-14.wav  \n",
      "  inflating: urbansound8k/fold8/81787-2-0-23.wav  \n",
      "  inflating: urbansound8k/fold8/81787-2-0-35.wav  \n",
      "  inflating: urbansound8k/fold8/81787-2-0-39.wav  \n",
      "  inflating: urbansound8k/fold8/81787-2-0-4.wav  \n",
      "  inflating: urbansound8k/fold8/81787-2-0-48.wav  \n",
      "  inflating: urbansound8k/fold8/81787-2-0-49.wav  \n",
      "  inflating: urbansound8k/fold8/83465-1-0-0.wav  \n",
      "  inflating: urbansound8k/fold8/89207-3-0-0.wav  \n",
      "  inflating: urbansound8k/fold8/91209-5-0-0.wav  \n",
      "  inflating: urbansound8k/fold8/91209-5-0-1.wav  \n",
      "  inflating: urbansound8k/fold8/91209-5-0-2.wav  \n",
      "  inflating: urbansound8k/fold8/91209-5-1-0.wav  \n",
      "  inflating: urbansound8k/fold8/91209-5-1-1.wav  \n",
      "  inflating: urbansound8k/fold8/91209-5-1-2.wav  \n",
      "  inflating: urbansound8k/fold8/91209-5-1-3.wav  \n",
      "  inflating: urbansound8k/fold8/91209-5-1-4.wav  \n",
      "  inflating: urbansound8k/fold8/91209-5-1-5.wav  \n",
      "  inflating: urbansound8k/fold8/95549-3-0-14.wav  \n",
      "  inflating: urbansound8k/fold8/95549-3-0-20.wav  \n",
      "  inflating: urbansound8k/fold8/95549-3-0-6.wav  \n",
      "  inflating: urbansound8k/fold8/95549-3-0-7.wav  \n",
      "  inflating: urbansound8k/fold8/96159-4-0-0.wav  \n",
      "  inflating: urbansound8k/fold8/96159-4-1-0.wav  \n",
      "  inflating: urbansound8k/fold8/96657-8-0-0.wav  \n",
      "  inflating: urbansound8k/fold8/96657-8-0-1.wav  \n",
      "  inflating: urbansound8k/fold8/96657-8-0-2.wav  \n",
      "  inflating: urbansound8k/fold8/96657-8-0-3.wav  \n",
      "  inflating: urbansound8k/fold8/98536-8-0-0.wav  \n",
      "  inflating: urbansound8k/fold8/99179-9-0-12.wav  \n",
      "  inflating: urbansound8k/fold8/99179-9-0-17.wav  \n",
      "  inflating: urbansound8k/fold8/99179-9-0-19.wav  \n",
      "  inflating: urbansound8k/fold8/99179-9-0-38.wav  \n",
      "  inflating: urbansound8k/fold8/99179-9-0-53.wav  \n",
      "  inflating: urbansound8k/fold8/99179-9-0-58.wav  \n",
      "  inflating: urbansound8k/fold9/101729-0-0-1.wav  \n",
      "  inflating: urbansound8k/fold9/101729-0-0-11.wav  \n",
      "  inflating: urbansound8k/fold9/101729-0-0-12.wav  \n",
      "  inflating: urbansound8k/fold9/101729-0-0-13.wav  \n",
      "  inflating: urbansound8k/fold9/101729-0-0-14.wav  \n",
      "  inflating: urbansound8k/fold9/101729-0-0-16.wav  \n",
      "  inflating: urbansound8k/fold9/101729-0-0-17.wav  \n",
      "  inflating: urbansound8k/fold9/101729-0-0-18.wav  \n",
      "  inflating: urbansound8k/fold9/101729-0-0-19.wav  \n",
      "  inflating: urbansound8k/fold9/101729-0-0-21.wav  \n",
      "  inflating: urbansound8k/fold9/101729-0-0-22.wav  \n",
      "  inflating: urbansound8k/fold9/101729-0-0-23.wav  \n",
      "  inflating: urbansound8k/fold9/101729-0-0-24.wav  \n",
      "  inflating: urbansound8k/fold9/101729-0-0-26.wav  \n",
      "  inflating: urbansound8k/fold9/101729-0-0-28.wav  \n",
      "  inflating: urbansound8k/fold9/101729-0-0-29.wav  \n",
      "  inflating: urbansound8k/fold9/101729-0-0-3.wav  \n",
      "  inflating: urbansound8k/fold9/101729-0-0-32.wav  \n",
      "  inflating: urbansound8k/fold9/101729-0-0-33.wav  \n",
      "  inflating: urbansound8k/fold9/101729-0-0-36.wav  \n",
      "  inflating: urbansound8k/fold9/101729-0-0-37.wav  \n",
      "  inflating: urbansound8k/fold9/101729-0-0-38.wav  \n",
      "  inflating: urbansound8k/fold9/101729-0-0-39.wav  \n",
      "  inflating: urbansound8k/fold9/101729-0-0-4.wav  \n",
      "  inflating: urbansound8k/fold9/101729-0-0-40.wav  \n",
      "  inflating: urbansound8k/fold9/101729-0-0-6.wav  \n",
      "  inflating: urbansound8k/fold9/101729-0-0-9.wav  \n",
      "  inflating: urbansound8k/fold9/103249-5-0-0.wav  \n",
      "  inflating: urbansound8k/fold9/103249-5-0-1.wav  \n",
      "  inflating: urbansound8k/fold9/103249-5-0-10.wav  \n",
      "  inflating: urbansound8k/fold9/103249-5-0-11.wav  \n",
      "  inflating: urbansound8k/fold9/103249-5-0-12.wav  \n",
      "  inflating: urbansound8k/fold9/103249-5-0-13.wav  \n",
      "  inflating: urbansound8k/fold9/103249-5-0-14.wav  \n",
      "  inflating: urbansound8k/fold9/103249-5-0-15.wav  \n",
      "  inflating: urbansound8k/fold9/103249-5-0-16.wav  \n",
      "  inflating: urbansound8k/fold9/103249-5-0-17.wav  \n",
      "  inflating: urbansound8k/fold9/103249-5-0-18.wav  \n",
      "  inflating: urbansound8k/fold9/103249-5-0-19.wav  \n",
      "  inflating: urbansound8k/fold9/103249-5-0-2.wav  \n",
      "  inflating: urbansound8k/fold9/103249-5-0-3.wav  \n",
      "  inflating: urbansound8k/fold9/103249-5-0-4.wav  \n",
      "  inflating: urbansound8k/fold9/103249-5-0-5.wav  \n",
      "  inflating: urbansound8k/fold9/103249-5-0-6.wav  \n",
      "  inflating: urbansound8k/fold9/103249-5-0-7.wav  \n",
      "  inflating: urbansound8k/fold9/103249-5-0-8.wav  \n",
      "  inflating: urbansound8k/fold9/103249-5-0-9.wav  \n",
      "  inflating: urbansound8k/fold9/105029-7-0-0.wav  \n",
      "  inflating: urbansound8k/fold9/105029-7-0-1.wav  \n",
      "  inflating: urbansound8k/fold9/105029-7-0-2.wav  \n",
      "  inflating: urbansound8k/fold9/105029-7-0-3.wav  \n",
      "  inflating: urbansound8k/fold9/105029-7-0-4.wav  \n",
      "  inflating: urbansound8k/fold9/105029-7-0-5.wav  \n",
      "  inflating: urbansound8k/fold9/105029-7-0-6.wav  \n",
      "  inflating: urbansound8k/fold9/105029-7-1-0.wav  \n",
      "  inflating: urbansound8k/fold9/105029-7-1-1.wav  \n",
      "  inflating: urbansound8k/fold9/105029-7-1-10.wav  \n",
      "  inflating: urbansound8k/fold9/105029-7-1-11.wav  \n",
      "  inflating: urbansound8k/fold9/105029-7-1-12.wav  \n",
      "  inflating: urbansound8k/fold9/105029-7-1-13.wav  \n",
      "  inflating: urbansound8k/fold9/105029-7-1-2.wav  \n",
      "  inflating: urbansound8k/fold9/105029-7-1-3.wav  \n",
      "  inflating: urbansound8k/fold9/105029-7-1-4.wav  \n",
      "  inflating: urbansound8k/fold9/105029-7-1-5.wav  \n",
      "  inflating: urbansound8k/fold9/105029-7-1-6.wav  \n",
      "  inflating: urbansound8k/fold9/105029-7-1-7.wav  \n",
      "  inflating: urbansound8k/fold9/105029-7-1-8.wav  \n",
      "  inflating: urbansound8k/fold9/105029-7-1-9.wav  \n",
      "  inflating: urbansound8k/fold9/105029-7-2-0.wav  \n",
      "  inflating: urbansound8k/fold9/105029-7-2-1.wav  \n",
      "  inflating: urbansound8k/fold9/105029-7-2-10.wav  \n",
      "  inflating: urbansound8k/fold9/105029-7-2-11.wav  \n",
      "  inflating: urbansound8k/fold9/105029-7-2-12.wav  \n",
      "  inflating: urbansound8k/fold9/105029-7-2-13.wav  \n",
      "  inflating: urbansound8k/fold9/105029-7-2-14.wav  \n",
      "  inflating: urbansound8k/fold9/105029-7-2-15.wav  \n",
      "  inflating: urbansound8k/fold9/105029-7-2-16.wav  \n",
      "  inflating: urbansound8k/fold9/105029-7-2-2.wav  \n",
      "  inflating: urbansound8k/fold9/105029-7-2-3.wav  \n",
      "  inflating: urbansound8k/fold9/105029-7-2-4.wav  \n",
      "  inflating: urbansound8k/fold9/105029-7-2-5.wav  \n",
      "  inflating: urbansound8k/fold9/105029-7-2-6.wav  \n",
      "  inflating: urbansound8k/fold9/105029-7-2-7.wav  \n",
      "  inflating: urbansound8k/fold9/105029-7-2-8.wav  \n",
      "  inflating: urbansound8k/fold9/105029-7-2-9.wav  \n",
      "  inflating: urbansound8k/fold9/105029-7-3-0.wav  \n",
      "  inflating: urbansound8k/fold9/105029-7-3-1.wav  \n",
      "  inflating: urbansound8k/fold9/105029-7-3-2.wav  \n",
      "  inflating: urbansound8k/fold9/105029-7-3-3.wav  \n",
      "  inflating: urbansound8k/fold9/105029-7-3-4.wav  \n",
      "  inflating: urbansound8k/fold9/105029-7-3-5.wav  \n",
      "  inflating: urbansound8k/fold9/105029-7-3-6.wav  \n",
      "  inflating: urbansound8k/fold9/105029-7-3-7.wav  \n",
      "  inflating: urbansound8k/fold9/105029-7-4-0.wav  \n",
      "  inflating: urbansound8k/fold9/105029-7-4-1.wav  \n",
      "  inflating: urbansound8k/fold9/105029-7-4-2.wav  \n",
      "  inflating: urbansound8k/fold9/105029-7-4-3.wav  \n",
      "  inflating: urbansound8k/fold9/105088-3-0-10.wav  \n",
      "  inflating: urbansound8k/fold9/105088-3-0-11.wav  \n",
      "  inflating: urbansound8k/fold9/105088-3-0-19.wav  \n",
      "  inflating: urbansound8k/fold9/105088-3-0-8.wav  \n",
      "  inflating: urbansound8k/fold9/106955-6-0-0.wav  \n",
      "  inflating: urbansound8k/fold9/110389-3-0-0.wav  \n",
      "  inflating: urbansound8k/fold9/116483-3-0-1.wav  \n",
      "  inflating: urbansound8k/fold9/116483-3-0-2.wav  \n",
      "  inflating: urbansound8k/fold9/116483-3-1-0.wav  \n",
      "  inflating: urbansound8k/fold9/116483-3-1-2.wav  \n",
      "  inflating: urbansound8k/fold9/119420-3-0-0.wav  \n",
      "  inflating: urbansound8k/fold9/119420-3-1-0.wav  \n",
      "  inflating: urbansound8k/fold9/119449-5-0-0.wav  \n",
      "  inflating: urbansound8k/fold9/119449-5-0-1.wav  \n",
      "  inflating: urbansound8k/fold9/119449-5-0-2.wav  \n",
      "  inflating: urbansound8k/fold9/119449-5-0-3.wav  \n",
      "  inflating: urbansound8k/fold9/119449-5-0-4.wav  \n",
      "  inflating: urbansound8k/fold9/119449-5-0-5.wav  \n",
      "  inflating: urbansound8k/fold9/119449-5-0-6.wav  \n",
      "  inflating: urbansound8k/fold9/119809-7-0-0.wav  \n",
      "  inflating: urbansound8k/fold9/119809-7-0-1.wav  \n",
      "  inflating: urbansound8k/fold9/119809-7-0-2.wav  \n",
      "  inflating: urbansound8k/fold9/119809-7-0-3.wav  \n",
      "  inflating: urbansound8k/fold9/119809-7-0-4.wav  \n",
      "  inflating: urbansound8k/fold9/119809-7-0-5.wav  \n",
      "  inflating: urbansound8k/fold9/119809-7-0-6.wav  \n",
      "  inflating: urbansound8k/fold9/127538-4-0-0.wav  \n",
      "  inflating: urbansound8k/fold9/127538-4-1-0.wav  \n",
      "  inflating: urbansound8k/fold9/127538-4-2-0.wav  \n",
      "  inflating: urbansound8k/fold9/12812-5-0-0.wav  \n",
      "  inflating: urbansound8k/fold9/12812-5-0-1.wav  \n",
      "  inflating: urbansound8k/fold9/12812-5-0-2.wav  \n",
      "  inflating: urbansound8k/fold9/13579-2-0-15.wav  \n",
      "  inflating: urbansound8k/fold9/13579-2-0-16.wav  \n",
      "  inflating: urbansound8k/fold9/13579-2-0-17.wav  \n",
      "  inflating: urbansound8k/fold9/13579-2-0-2.wav  \n",
      "  inflating: urbansound8k/fold9/13579-2-0-38.wav  \n",
      "  inflating: urbansound8k/fold9/13579-2-0-48.wav  \n",
      "  inflating: urbansound8k/fold9/13579-2-0-53.wav  \n",
      "  inflating: urbansound8k/fold9/13579-2-0-62.wav  \n",
      "  inflating: urbansound8k/fold9/136399-6-0-0.wav  \n",
      "  inflating: urbansound8k/fold9/136399-6-1-0.wav  \n",
      "  inflating: urbansound8k/fold9/136399-6-2-0.wav  \n",
      "  inflating: urbansound8k/fold9/136399-6-3-0.wav  \n",
      "  inflating: urbansound8k/fold9/136399-6-4-0.wav  \n",
      "  inflating: urbansound8k/fold9/136399-6-5-0.wav  \n",
      "  inflating: urbansound8k/fold9/136399-6-6-0.wav  \n",
      "  inflating: urbansound8k/fold9/136399-6-7-0.wav  \n",
      "  inflating: urbansound8k/fold9/136399-6-8-0.wav  \n",
      "  inflating: urbansound8k/fold9/136399-6-9-0.wav  \n",
      "  inflating: urbansound8k/fold9/137803-3-0-0.wav  \n",
      "  inflating: urbansound8k/fold9/137803-3-0-1.wav  \n",
      "  inflating: urbansound8k/fold9/137803-3-0-2.wav  \n",
      "  inflating: urbansound8k/fold9/137815-4-0-0.wav  \n",
      "  inflating: urbansound8k/fold9/137815-4-0-1.wav  \n",
      "  inflating: urbansound8k/fold9/137815-4-0-10.wav  \n",
      "  inflating: urbansound8k/fold9/137815-4-0-2.wav  \n",
      "  inflating: urbansound8k/fold9/137815-4-0-3.wav  \n",
      "  inflating: urbansound8k/fold9/137815-4-0-4.wav  \n",
      "  inflating: urbansound8k/fold9/137815-4-0-5.wav  \n",
      "  inflating: urbansound8k/fold9/137815-4-0-6.wav  \n",
      "  inflating: urbansound8k/fold9/137815-4-0-7.wav  \n",
      "  inflating: urbansound8k/fold9/137815-4-0-8.wav  \n",
      "  inflating: urbansound8k/fold9/137815-4-0-9.wav  \n",
      "  inflating: urbansound8k/fold9/138468-1-0-0.wav  \n",
      "  inflating: urbansound8k/fold9/14111-4-0-0.wav  \n",
      "  inflating: urbansound8k/fold9/14111-4-0-1.wav  \n",
      "  inflating: urbansound8k/fold9/14111-4-0-2.wav  \n",
      "  inflating: urbansound8k/fold9/14111-4-0-3.wav  \n",
      "  inflating: urbansound8k/fold9/14111-4-0-4.wav  \n",
      "  inflating: urbansound8k/fold9/14111-4-0-5.wav  \n",
      "  inflating: urbansound8k/fold9/14111-4-0-6.wav  \n",
      "  inflating: urbansound8k/fold9/14111-4-0-7.wav  \n",
      "  inflating: urbansound8k/fold9/14385-9-0-10.wav  \n",
      "  inflating: urbansound8k/fold9/14385-9-0-11.wav  \n",
      "  inflating: urbansound8k/fold9/14385-9-0-13.wav  \n",
      "  inflating: urbansound8k/fold9/14385-9-0-14.wav  \n",
      "  inflating: urbansound8k/fold9/14385-9-0-17.wav  \n",
      "  inflating: urbansound8k/fold9/14385-9-0-21.wav  \n",
      "  inflating: urbansound8k/fold9/14527-9-0-0.wav  \n",
      "  inflating: urbansound8k/fold9/14527-9-0-2.wav  \n",
      "  inflating: urbansound8k/fold9/14527-9-0-3.wav  \n",
      "  inflating: urbansound8k/fold9/14527-9-0-4.wav  \n",
      "  inflating: urbansound8k/fold9/14527-9-0-5.wav  \n",
      "  inflating: urbansound8k/fold9/14527-9-0-6.wav  \n",
      "  inflating: urbansound8k/fold9/14527-9-0-7.wav  \n",
      "  inflating: urbansound8k/fold9/145390-9-0-13.wav  \n",
      "  inflating: urbansound8k/fold9/145390-9-0-15.wav  \n",
      "  inflating: urbansound8k/fold9/145390-9-0-22.wav  \n",
      "  inflating: urbansound8k/fold9/145390-9-0-26.wav  \n",
      "  inflating: urbansound8k/fold9/145390-9-0-3.wav  \n",
      "  inflating: urbansound8k/fold9/145390-9-0-34.wav  \n",
      "  inflating: urbansound8k/fold9/145390-9-0-7.wav  \n",
      "  inflating: urbansound8k/fold9/145683-6-0-0.wav  \n",
      "  inflating: urbansound8k/fold9/145683-6-1-0.wav  \n",
      "  inflating: urbansound8k/fold9/145683-6-2-0.wav  \n",
      "  inflating: urbansound8k/fold9/145683-6-3-0.wav  \n",
      "  inflating: urbansound8k/fold9/145683-6-4-0.wav  \n",
      "  inflating: urbansound8k/fold9/145683-6-5-0.wav  \n",
      "  inflating: urbansound8k/fold9/146249-4-0-0.wav  \n",
      "  inflating: urbansound8k/fold9/148166-6-0-0.wav  \n",
      "  inflating: urbansound8k/fold9/149255-9-0-0.wav  \n",
      "  inflating: urbansound8k/fold9/149255-9-0-13.wav  \n",
      "  inflating: urbansound8k/fold9/149255-9-0-3.wav  \n",
      "  inflating: urbansound8k/fold9/149255-9-0-4.wav  \n",
      "  inflating: urbansound8k/fold9/149255-9-0-5.wav  \n",
      "  inflating: urbansound8k/fold9/149255-9-0-7.wav  \n",
      "  inflating: urbansound8k/fold9/149929-9-0-0.wav  \n",
      "  inflating: urbansound8k/fold9/149929-9-0-2.wav  \n",
      "  inflating: urbansound8k/fold9/149929-9-0-5.wav  \n",
      "  inflating: urbansound8k/fold9/149929-9-1-0.wav  \n",
      "  inflating: urbansound8k/fold9/149929-9-1-1.wav  \n",
      "  inflating: urbansound8k/fold9/149929-9-1-4.wav  \n",
      "  inflating: urbansound8k/fold9/152570-9-0-0.wav  \n",
      "  inflating: urbansound8k/fold9/152570-9-1-41.wav  \n",
      "  inflating: urbansound8k/fold9/152570-9-1-42.wav  \n",
      "  inflating: urbansound8k/fold9/152570-9-1-61.wav  \n",
      "  inflating: urbansound8k/fold9/152570-9-1-63.wav  \n",
      "  inflating: urbansound8k/fold9/152570-9-1-81.wav  \n",
      "  inflating: urbansound8k/fold9/152588-3-0-0.wav  \n",
      "  inflating: urbansound8k/fold9/152588-3-1-0.wav  \n",
      "  inflating: urbansound8k/fold9/152588-3-2-0.wav  \n",
      "  inflating: urbansound8k/fold9/152588-3-3-0.wav  \n",
      "  inflating: urbansound8k/fold9/155044-9-0-11.wav  \n",
      "  inflating: urbansound8k/fold9/155044-9-0-15.wav  \n",
      "  inflating: urbansound8k/fold9/155044-9-0-19.wav  \n",
      "  inflating: urbansound8k/fold9/155044-9-0-3.wav  \n",
      "  inflating: urbansound8k/fold9/155044-9-0-37.wav  \n",
      "  inflating: urbansound8k/fold9/155044-9-0-38.wav  \n",
      "  inflating: urbansound8k/fold9/155130-1-0-0.wav  \n",
      "  inflating: urbansound8k/fold9/155130-1-1-0.wav  \n",
      "  inflating: urbansound8k/fold9/155242-9-0-12.wav  \n",
      "  inflating: urbansound8k/fold9/155242-9-0-15.wav  \n",
      "  inflating: urbansound8k/fold9/155242-9-0-27.wav  \n",
      "  inflating: urbansound8k/fold9/155242-9-0-35.wav  \n",
      "  inflating: urbansound8k/fold9/155242-9-0-4.wav  \n",
      "  inflating: urbansound8k/fold9/155242-9-0-44.wav  \n",
      "  inflating: urbansound8k/fold9/155312-3-0-0.wav  \n",
      "  inflating: urbansound8k/fold9/156200-2-0-0.wav  \n",
      "  inflating: urbansound8k/fold9/157801-6-0-0.wav  \n",
      "  inflating: urbansound8k/fold9/157866-8-0-0.wav  \n",
      "  inflating: urbansound8k/fold9/157866-8-0-1.wav  \n",
      "  inflating: urbansound8k/fold9/157866-8-0-10.wav  \n",
      "  inflating: urbansound8k/fold9/157866-8-0-11.wav  \n",
      "  inflating: urbansound8k/fold9/157866-8-0-12.wav  \n",
      "  inflating: urbansound8k/fold9/157866-8-0-13.wav  \n",
      "  inflating: urbansound8k/fold9/157866-8-0-14.wav  \n",
      "  inflating: urbansound8k/fold9/157866-8-0-15.wav  \n",
      "  inflating: urbansound8k/fold9/157866-8-0-16.wav  \n",
      "  inflating: urbansound8k/fold9/157866-8-0-17.wav  \n",
      "  inflating: urbansound8k/fold9/157866-8-0-18.wav  \n",
      "  inflating: urbansound8k/fold9/157866-8-0-19.wav  \n",
      "  inflating: urbansound8k/fold9/157866-8-0-2.wav  \n",
      "  inflating: urbansound8k/fold9/157866-8-0-20.wav  \n",
      "  inflating: urbansound8k/fold9/157866-8-0-21.wav  \n",
      "  inflating: urbansound8k/fold9/157866-8-0-22.wav  \n",
      "  inflating: urbansound8k/fold9/157866-8-0-23.wav  \n",
      "  inflating: urbansound8k/fold9/157866-8-0-24.wav  \n",
      "  inflating: urbansound8k/fold9/157866-8-0-25.wav  \n",
      "  inflating: urbansound8k/fold9/157866-8-0-26.wav  \n",
      "  inflating: urbansound8k/fold9/157866-8-0-27.wav  \n",
      "  inflating: urbansound8k/fold9/157866-8-0-3.wav  \n",
      "  inflating: urbansound8k/fold9/157866-8-0-4.wav  \n",
      "  inflating: urbansound8k/fold9/157866-8-0-5.wav  \n",
      "  inflating: urbansound8k/fold9/157866-8-0-6.wav  \n",
      "  inflating: urbansound8k/fold9/157866-8-0-7.wav  \n",
      "  inflating: urbansound8k/fold9/157866-8-0-8.wav  \n",
      "  inflating: urbansound8k/fold9/157866-8-0-9.wav  \n",
      "  inflating: urbansound8k/fold9/159707-6-0-0.wav  \n",
      "  inflating: urbansound8k/fold9/159726-3-0-0.wav  \n",
      "  inflating: urbansound8k/fold9/159726-3-1-0.wav  \n",
      "  inflating: urbansound8k/fold9/159735-2-0-11.wav  \n",
      "  inflating: urbansound8k/fold9/159735-2-0-121.wav  \n",
      "  inflating: urbansound8k/fold9/159735-2-0-17.wav  \n",
      "  inflating: urbansound8k/fold9/159735-2-0-22.wav  \n",
      "  inflating: urbansound8k/fold9/159735-2-0-34.wav  \n",
      "  inflating: urbansound8k/fold9/159735-2-0-80.wav  \n",
      "  inflating: urbansound8k/fold9/159735-2-0-9.wav  \n",
      "  inflating: urbansound8k/fold9/159735-2-0-99.wav  \n",
      "  inflating: urbansound8k/fold9/159744-8-0-0.wav  \n",
      "  inflating: urbansound8k/fold9/159744-8-0-1.wav  \n",
      "  inflating: urbansound8k/fold9/159744-8-0-10.wav  \n",
      "  inflating: urbansound8k/fold9/159744-8-0-11.wav  \n",
      "  inflating: urbansound8k/fold9/159744-8-0-12.wav  \n",
      "  inflating: urbansound8k/fold9/159744-8-0-13.wav  \n",
      "  inflating: urbansound8k/fold9/159744-8-0-2.wav  \n",
      "  inflating: urbansound8k/fold9/159744-8-0-3.wav  \n",
      "  inflating: urbansound8k/fold9/159744-8-0-4.wav  \n",
      "  inflating: urbansound8k/fold9/159744-8-0-5.wav  \n",
      "  inflating: urbansound8k/fold9/159744-8-0-6.wav  \n",
      "  inflating: urbansound8k/fold9/159744-8-0-7.wav  \n",
      "  inflating: urbansound8k/fold9/159744-8-0-8.wav  \n",
      "  inflating: urbansound8k/fold9/159744-8-0-9.wav  \n",
      "  inflating: urbansound8k/fold9/159745-8-0-0.wav  \n",
      "  inflating: urbansound8k/fold9/159745-8-1-0.wav  \n",
      "  inflating: urbansound8k/fold9/159745-8-1-1.wav  \n",
      "  inflating: urbansound8k/fold9/159745-8-1-2.wav  \n",
      "  inflating: urbansound8k/fold9/159745-8-1-3.wav  \n",
      "  inflating: urbansound8k/fold9/159745-8-1-4.wav  \n",
      "  inflating: urbansound8k/fold9/159745-8-1-5.wav  \n",
      "  inflating: urbansound8k/fold9/159745-8-1-6.wav  \n",
      "  inflating: urbansound8k/fold9/159745-8-1-7.wav  \n",
      "  inflating: urbansound8k/fold9/159748-8-0-0.wav  \n",
      "  inflating: urbansound8k/fold9/159748-8-0-1.wav  \n",
      "  inflating: urbansound8k/fold9/159748-8-0-2.wav  \n",
      "  inflating: urbansound8k/fold9/159748-8-0-3.wav  \n",
      "  inflating: urbansound8k/fold9/159748-8-0-4.wav  \n",
      "  inflating: urbansound8k/fold9/159748-8-0-5.wav  \n",
      "  inflating: urbansound8k/fold9/159748-8-0-6.wav  \n",
      "  inflating: urbansound8k/fold9/159748-8-0-7.wav  \n",
      "  inflating: urbansound8k/fold9/159748-8-0-8.wav  \n",
      "  inflating: urbansound8k/fold9/159748-8-0-9.wav  \n",
      "  inflating: urbansound8k/fold9/159748-8-1-0.wav  \n",
      "  inflating: urbansound8k/fold9/159748-8-2-0.wav  \n",
      "  inflating: urbansound8k/fold9/159748-8-2-1.wav  \n",
      "  inflating: urbansound8k/fold9/159748-8-2-2.wav  \n",
      "  inflating: urbansound8k/fold9/159748-8-2-3.wav  \n",
      "  inflating: urbansound8k/fold9/159748-8-2-4.wav  \n",
      "  inflating: urbansound8k/fold9/159748-8-2-5.wav  \n",
      "  inflating: urbansound8k/fold9/159748-8-2-6.wav  \n",
      "  inflating: urbansound8k/fold9/159748-8-2-7.wav  \n",
      "  inflating: urbansound8k/fold9/159748-8-2-8.wav  \n",
      "  inflating: urbansound8k/fold9/159755-8-0-0.wav  \n",
      "  inflating: urbansound8k/fold9/159755-8-0-1.wav  \n",
      "  inflating: urbansound8k/fold9/159755-8-0-2.wav  \n",
      "  inflating: urbansound8k/fold9/159755-8-0-3.wav  \n",
      "  inflating: urbansound8k/fold9/161005-2-0-0.wav  \n",
      "  inflating: urbansound8k/fold9/161005-2-0-12.wav  \n",
      "  inflating: urbansound8k/fold9/161005-2-0-14.wav  \n",
      "  inflating: urbansound8k/fold9/161005-2-0-19.wav  \n",
      "  inflating: urbansound8k/fold9/161005-2-0-27.wav  \n",
      "  inflating: urbansound8k/fold9/161005-2-0-28.wav  \n",
      "  inflating: urbansound8k/fold9/161005-2-0-4.wav  \n",
      "  inflating: urbansound8k/fold9/161005-2-0-6.wav  \n",
      "  inflating: urbansound8k/fold9/164625-1-0-0.wav  \n",
      "  inflating: urbansound8k/fold9/165454-0-0-0.wav  \n",
      "  inflating: urbansound8k/fold9/165454-0-0-1.wav  \n",
      "  inflating: urbansound8k/fold9/165454-0-0-10.wav  \n",
      "  inflating: urbansound8k/fold9/165454-0-0-11.wav  \n",
      "  inflating: urbansound8k/fold9/165454-0-0-12.wav  \n",
      "  inflating: urbansound8k/fold9/165454-0-0-2.wav  \n",
      "  inflating: urbansound8k/fold9/165454-0-0-3.wav  \n",
      "  inflating: urbansound8k/fold9/165454-0-0-4.wav  \n",
      "  inflating: urbansound8k/fold9/165454-0-0-5.wav  \n",
      "  inflating: urbansound8k/fold9/165454-0-0-6.wav  \n",
      "  inflating: urbansound8k/fold9/165454-0-0-7.wav  \n",
      "  inflating: urbansound8k/fold9/165454-0-0-8.wav  \n",
      "  inflating: urbansound8k/fold9/165454-0-0-9.wav  \n",
      "  inflating: urbansound8k/fold9/165567-3-0-0.wav  \n",
      "  inflating: urbansound8k/fold9/165567-3-2-0.wav  \n",
      "  inflating: urbansound8k/fold9/165567-3-3-0.wav  \n",
      "  inflating: urbansound8k/fold9/165567-3-4-0.wav  \n",
      "  inflating: urbansound8k/fold9/16772-8-0-0.wav  \n",
      "  inflating: urbansound8k/fold9/168906-9-0-114.wav  \n",
      "  inflating: urbansound8k/fold9/168906-9-0-128.wav  \n",
      "  inflating: urbansound8k/fold9/168906-9-0-28.wav  \n",
      "  inflating: urbansound8k/fold9/168906-9-0-47.wav  \n",
      "  inflating: urbansound8k/fold9/168906-9-0-73.wav  \n",
      "  inflating: urbansound8k/fold9/168906-9-0-95.wav  \n",
      "  inflating: urbansound8k/fold9/171406-9-0-124.wav  \n",
      "  inflating: urbansound8k/fold9/171406-9-0-183.wav  \n",
      "  inflating: urbansound8k/fold9/171406-9-0-23.wav  \n",
      "  inflating: urbansound8k/fold9/171406-9-0-57.wav  \n",
      "  inflating: urbansound8k/fold9/171406-9-0-7.wav  \n",
      "  inflating: urbansound8k/fold9/171406-9-0-90.wav  \n",
      "  inflating: urbansound8k/fold9/174282-6-0-0.wav  \n",
      "  inflating: urbansound8k/fold9/174282-6-1-0.wav  \n",
      "  inflating: urbansound8k/fold9/174282-6-2-0.wav  \n",
      "  inflating: urbansound8k/fold9/174287-6-0-0.wav  \n",
      "  inflating: urbansound8k/fold9/174287-6-1-0.wav  \n",
      "  inflating: urbansound8k/fold9/174287-6-2-0.wav  \n",
      "  inflating: urbansound8k/fold9/174287-6-3-0.wav  \n",
      "  inflating: urbansound8k/fold9/174786-2-0-18.wav  \n",
      "  inflating: urbansound8k/fold9/174786-2-0-19.wav  \n",
      "  inflating: urbansound8k/fold9/174786-2-0-27.wav  \n",
      "  inflating: urbansound8k/fold9/174786-2-0-30.wav  \n",
      "  inflating: urbansound8k/fold9/174786-2-0-39.wav  \n",
      "  inflating: urbansound8k/fold9/174786-2-0-60.wav  \n",
      "  inflating: urbansound8k/fold9/174786-2-0-75.wav  \n",
      "  inflating: urbansound8k/fold9/174786-2-0-89.wav  \n",
      "  inflating: urbansound8k/fold9/175843-1-0-0.wav  \n",
      "  inflating: urbansound8k/fold9/175853-1-0-0.wav  \n",
      "  inflating: urbansound8k/fold9/175915-3-0-0.wav  \n",
      "  inflating: urbansound8k/fold9/175915-3-0-1.wav  \n",
      "  inflating: urbansound8k/fold9/175915-3-0-3.wav  \n",
      "  inflating: urbansound8k/fold9/175915-3-1-8.wav  \n",
      "  inflating: urbansound8k/fold9/177620-3-0-20.wav  \n",
      "  inflating: urbansound8k/fold9/177620-3-0-21.wav  \n",
      "  inflating: urbansound8k/fold9/177620-3-0-25.wav  \n",
      "  inflating: urbansound8k/fold9/177620-3-0-8.wav  \n",
      "  inflating: urbansound8k/fold9/178118-3-0-0.wav  \n",
      "  inflating: urbansound8k/fold9/178118-3-1-0.wav  \n",
      "  inflating: urbansound8k/fold9/178118-3-2-0.wav  \n",
      "  inflating: urbansound8k/fold9/180029-4-1-0.wav  \n",
      "  inflating: urbansound8k/fold9/180029-4-10-0.wav  \n",
      "  inflating: urbansound8k/fold9/180029-4-11-0.wav  \n",
      "  inflating: urbansound8k/fold9/180029-4-12-0.wav  \n",
      "  inflating: urbansound8k/fold9/180029-4-13-0.wav  \n",
      "  inflating: urbansound8k/fold9/180029-4-14-0.wav  \n",
      "  inflating: urbansound8k/fold9/180029-4-15-0.wav  \n",
      "  inflating: urbansound8k/fold9/180029-4-16-0.wav  \n",
      "  inflating: urbansound8k/fold9/180029-4-19-0.wav  \n",
      "  inflating: urbansound8k/fold9/180029-4-2-0.wav  \n",
      "  inflating: urbansound8k/fold9/180029-4-20-0.wav  \n",
      "  inflating: urbansound8k/fold9/180029-4-4-0.wav  \n",
      "  inflating: urbansound8k/fold9/180029-4-5-0.wav  \n",
      "  inflating: urbansound8k/fold9/180029-4-6-0.wav  \n",
      "  inflating: urbansound8k/fold9/180029-4-7-0.wav  \n",
      "  inflating: urbansound8k/fold9/180029-4-8-0.wav  \n",
      "  inflating: urbansound8k/fold9/180029-4-9-0.wav  \n",
      "  inflating: urbansound8k/fold9/180156-1-0-0.wav  \n",
      "  inflating: urbansound8k/fold9/180156-1-1-0.wav  \n",
      "  inflating: urbansound8k/fold9/180156-1-10-0.wav  \n",
      "  inflating: urbansound8k/fold9/180156-1-11-0.wav  \n",
      "  inflating: urbansound8k/fold9/180156-1-12-0.wav  \n",
      "  inflating: urbansound8k/fold9/180156-1-2-0.wav  \n",
      "  inflating: urbansound8k/fold9/180156-1-3-0.wav  \n",
      "  inflating: urbansound8k/fold9/180156-1-4-0.wav  \n",
      "  inflating: urbansound8k/fold9/180156-1-5-0.wav  \n",
      "  inflating: urbansound8k/fold9/180156-1-6-0.wav  \n",
      "  inflating: urbansound8k/fold9/180156-1-7-0.wav  \n",
      "  inflating: urbansound8k/fold9/180156-1-8-0.wav  \n",
      "  inflating: urbansound8k/fold9/180156-1-9-0.wav  \n",
      "  inflating: urbansound8k/fold9/180937-4-0-11.wav  \n",
      "  inflating: urbansound8k/fold9/180937-4-0-13.wav  \n",
      "  inflating: urbansound8k/fold9/180937-4-0-14.wav  \n",
      "  inflating: urbansound8k/fold9/180937-4-0-19.wav  \n",
      "  inflating: urbansound8k/fold9/180937-4-0-20.wav  \n",
      "  inflating: urbansound8k/fold9/180937-4-1-12.wav  \n",
      "  inflating: urbansound8k/fold9/180937-4-1-20.wav  \n",
      "  inflating: urbansound8k/fold9/180937-4-1-27.wav  \n",
      "  inflating: urbansound8k/fold9/180937-4-1-30.wav  \n",
      "  inflating: urbansound8k/fold9/180937-4-1-46.wav  \n",
      "  inflating: urbansound8k/fold9/180937-4-1-47.wav  \n",
      "  inflating: urbansound8k/fold9/180937-4-1-54.wav  \n",
      "  inflating: urbansound8k/fold9/180937-4-2-1.wav  \n",
      "  inflating: urbansound8k/fold9/180937-4-2-2.wav  \n",
      "  inflating: urbansound8k/fold9/180937-4-3-12.wav  \n",
      "  inflating: urbansound8k/fold9/180937-4-3-9.wav  \n",
      "  inflating: urbansound8k/fold9/184449-2-0-12.wav  \n",
      "  inflating: urbansound8k/fold9/184449-2-0-13.wav  \n",
      "  inflating: urbansound8k/fold9/184449-2-0-15.wav  \n",
      "  inflating: urbansound8k/fold9/184449-2-0-16.wav  \n",
      "  inflating: urbansound8k/fold9/184449-2-0-19.wav  \n",
      "  inflating: urbansound8k/fold9/184449-2-0-24.wav  \n",
      "  inflating: urbansound8k/fold9/184449-2-0-28.wav  \n",
      "  inflating: urbansound8k/fold9/184449-2-0-33.wav  \n",
      "  inflating: urbansound8k/fold9/184575-3-0-0.wav  \n",
      "  inflating: urbansound8k/fold9/184575-3-0-1.wav  \n",
      "  inflating: urbansound8k/fold9/184575-3-0-2.wav  \n",
      "  inflating: urbansound8k/fold9/184575-3-0-3.wav  \n",
      "  inflating: urbansound8k/fold9/185374-9-0-16.wav  \n",
      "  inflating: urbansound8k/fold9/185374-9-0-18.wav  \n",
      "  inflating: urbansound8k/fold9/185374-9-0-23.wav  \n",
      "  inflating: urbansound8k/fold9/185374-9-0-30.wav  \n",
      "  inflating: urbansound8k/fold9/185374-9-0-33.wav  \n",
      "  inflating: urbansound8k/fold9/185374-9-0-35.wav  \n",
      "  inflating: urbansound8k/fold9/185374-9-0-60.wav  \n",
      "  inflating: urbansound8k/fold9/18592-5-0-0.wav  \n",
      "  inflating: urbansound8k/fold9/18592-5-0-1.wav  \n",
      "  inflating: urbansound8k/fold9/18592-5-0-2.wav  \n",
      "  inflating: urbansound8k/fold9/18592-5-0-3.wav  \n",
      "  inflating: urbansound8k/fold9/18592-5-0-4.wav  \n",
      "  inflating: urbansound8k/fold9/187075-5-0-0.wav  \n",
      "  inflating: urbansound8k/fold9/187075-5-0-1.wav  \n",
      "  inflating: urbansound8k/fold9/187075-5-0-2.wav  \n",
      "  inflating: urbansound8k/fold9/187075-5-0-3.wav  \n",
      "  inflating: urbansound8k/fold9/187075-5-0-4.wav  \n",
      "  inflating: urbansound8k/fold9/187075-5-0-5.wav  \n",
      "  inflating: urbansound8k/fold9/187075-5-0-6.wav  \n",
      "  inflating: urbansound8k/fold9/187075-5-0-7.wav  \n",
      "  inflating: urbansound8k/fold9/187075-5-0-8.wav  \n",
      "  inflating: urbansound8k/fold9/187378-3-0-12.wav  \n",
      "  inflating: urbansound8k/fold9/187378-3-0-19.wav  \n",
      "  inflating: urbansound8k/fold9/187378-3-0-30.wav  \n",
      "  inflating: urbansound8k/fold9/187378-3-0-7.wav  \n",
      "  inflating: urbansound8k/fold9/188823-7-0-0.wav  \n",
      "  inflating: urbansound8k/fold9/188823-7-0-1.wav  \n",
      "  inflating: urbansound8k/fold9/188823-7-0-2.wav  \n",
      "  inflating: urbansound8k/fold9/188823-7-0-3.wav  \n",
      "  inflating: urbansound8k/fold9/188823-7-0-4.wav  \n",
      "  inflating: urbansound8k/fold9/188823-7-1-0.wav  \n",
      "  inflating: urbansound8k/fold9/188823-7-1-1.wav  \n",
      "  inflating: urbansound8k/fold9/188823-7-1-2.wav  \n",
      "  inflating: urbansound8k/fold9/188823-7-1-3.wav  \n",
      "  inflating: urbansound8k/fold9/188823-7-2-0.wav  \n",
      "  inflating: urbansound8k/fold9/188823-7-2-1.wav  \n",
      "  inflating: urbansound8k/fold9/188823-7-2-2.wav  \n",
      "  inflating: urbansound8k/fold9/188823-7-2-3.wav  \n",
      "  inflating: urbansound8k/fold9/188823-7-3-0.wav  \n",
      "  inflating: urbansound8k/fold9/188823-7-4-0.wav  \n",
      "  inflating: urbansound8k/fold9/188823-7-5-0.wav  \n",
      "  inflating: urbansound8k/fold9/188823-7-6-0.wav  \n",
      "  inflating: urbansound8k/fold9/189988-0-0-0.wav  \n",
      "  inflating: urbansound8k/fold9/189988-0-0-1.wav  \n",
      "  inflating: urbansound8k/fold9/189988-0-0-2.wav  \n",
      "  inflating: urbansound8k/fold9/189988-0-0-3.wav  \n",
      "  inflating: urbansound8k/fold9/189988-0-0-4.wav  \n",
      "  inflating: urbansound8k/fold9/189988-0-0-5.wav  \n",
      "  inflating: urbansound8k/fold9/189989-0-0-0.wav  \n",
      "  inflating: urbansound8k/fold9/189989-0-0-1.wav  \n",
      "  inflating: urbansound8k/fold9/189989-0-0-2.wav  \n",
      "  inflating: urbansound8k/fold9/190894-2-0-0.wav  \n",
      "  inflating: urbansound8k/fold9/190894-2-0-2.wav  \n",
      "  inflating: urbansound8k/fold9/190894-2-0-3.wav  \n",
      "  inflating: urbansound8k/fold9/190894-2-0-4.wav  \n",
      "  inflating: urbansound8k/fold9/190894-2-0-5.wav  \n",
      "  inflating: urbansound8k/fold9/190894-2-0-6.wav  \n",
      "  inflating: urbansound8k/fold9/190894-2-0-7.wav  \n",
      "  inflating: urbansound8k/fold9/190894-2-0-8.wav  \n",
      "  inflating: urbansound8k/fold9/192123-2-0-0.wav  \n",
      "  inflating: urbansound8k/fold9/192123-2-0-10.wav  \n",
      "  inflating: urbansound8k/fold9/192123-2-0-11.wav  \n",
      "  inflating: urbansound8k/fold9/192123-2-0-17.wav  \n",
      "  inflating: urbansound8k/fold9/192123-2-0-18.wav  \n",
      "  inflating: urbansound8k/fold9/192123-2-0-22.wav  \n",
      "  inflating: urbansound8k/fold9/192123-2-0-23.wav  \n",
      "  inflating: urbansound8k/fold9/192123-2-0-4.wav  \n",
      "  inflating: urbansound8k/fold9/194310-9-0-15.wav  \n",
      "  inflating: urbansound8k/fold9/194310-9-0-3.wav  \n",
      "  inflating: urbansound8k/fold9/194310-9-0-35.wav  \n",
      "  inflating: urbansound8k/fold9/194310-9-0-7.wav  \n",
      "  inflating: urbansound8k/fold9/194310-9-0-73.wav  \n",
      "  inflating: urbansound8k/fold9/194310-9-0-8.wav  \n",
      "  inflating: urbansound8k/fold9/196058-2-0-0.wav  \n",
      "  inflating: urbansound8k/fold9/196066-2-0-0.wav  \n",
      "  inflating: urbansound8k/fold9/196066-2-0-1.wav  \n",
      "  inflating: urbansound8k/fold9/204067-2-0-1.wav  \n",
      "  inflating: urbansound8k/fold9/204067-2-0-20.wav  \n",
      "  inflating: urbansound8k/fold9/204067-2-0-29.wav  \n",
      "  inflating: urbansound8k/fold9/204067-2-0-3.wav  \n",
      "  inflating: urbansound8k/fold9/204067-2-0-30.wav  \n",
      "  inflating: urbansound8k/fold9/204067-2-0-32.wav  \n",
      "  inflating: urbansound8k/fold9/204067-2-0-35.wav  \n",
      "  inflating: urbansound8k/fold9/204067-2-0-39.wav  \n",
      "  inflating: urbansound8k/fold9/207211-2-0-100.wav  \n",
      "  inflating: urbansound8k/fold9/207211-2-0-11.wav  \n",
      "  inflating: urbansound8k/fold9/207211-2-0-141.wav  \n",
      "  inflating: urbansound8k/fold9/207211-2-0-58.wav  \n",
      "  inflating: urbansound8k/fold9/207211-2-0-72.wav  \n",
      "  inflating: urbansound8k/fold9/207211-2-0-82.wav  \n",
      "  inflating: urbansound8k/fold9/207211-2-0-88.wav  \n",
      "  inflating: urbansound8k/fold9/207211-2-0-89.wav  \n",
      "  inflating: urbansound8k/fold9/22882-5-0-0.wav  \n",
      "  inflating: urbansound8k/fold9/22882-5-0-1.wav  \n",
      "  inflating: urbansound8k/fold9/22885-5-0-0.wav  \n",
      "  inflating: urbansound8k/fold9/25038-6-0-0.wav  \n",
      "  inflating: urbansound8k/fold9/25038-6-1-0.wav  \n",
      "  inflating: urbansound8k/fold9/26185-1-0-0.wav  \n",
      "  inflating: urbansound8k/fold9/26185-1-1-0.wav  \n",
      "  inflating: urbansound8k/fold9/26186-1-0-0.wav  \n",
      "  inflating: urbansound8k/fold9/27068-1-0-0.wav  \n",
      "  inflating: urbansound8k/fold9/33641-3-1-0.wav  \n",
      "  inflating: urbansound8k/fold9/33641-3-7-0.wav  \n",
      "  inflating: urbansound8k/fold9/33641-3-8-0.wav  \n",
      "  inflating: urbansound8k/fold9/33641-3-9-0.wav  \n",
      "  inflating: urbansound8k/fold9/39532-4-0-0.wav  \n",
      "  inflating: urbansound8k/fold9/39532-4-1-0.wav  \n",
      "  inflating: urbansound8k/fold9/39532-4-2-0.wav  \n",
      "  inflating: urbansound8k/fold9/39532-4-3-0.wav  \n",
      "  inflating: urbansound8k/fold9/39856-5-0-0.wav  \n",
      "  inflating: urbansound8k/fold9/39856-5-0-1.wav  \n",
      "  inflating: urbansound8k/fold9/39856-5-0-10.wav  \n",
      "  inflating: urbansound8k/fold9/39856-5-0-11.wav  \n",
      "  inflating: urbansound8k/fold9/39856-5-0-12.wav  \n",
      "  inflating: urbansound8k/fold9/39856-5-0-13.wav  \n",
      "  inflating: urbansound8k/fold9/39856-5-0-14.wav  \n",
      "  inflating: urbansound8k/fold9/39856-5-0-15.wav  \n",
      "  inflating: urbansound8k/fold9/39856-5-0-16.wav  \n",
      "  inflating: urbansound8k/fold9/39856-5-0-17.wav  \n",
      "  inflating: urbansound8k/fold9/39856-5-0-18.wav  \n",
      "  inflating: urbansound8k/fold9/39856-5-0-19.wav  \n",
      "  inflating: urbansound8k/fold9/39856-5-0-2.wav  \n",
      "  inflating: urbansound8k/fold9/39856-5-0-20.wav  \n",
      "  inflating: urbansound8k/fold9/39856-5-0-21.wav  \n",
      "  inflating: urbansound8k/fold9/39856-5-0-22.wav  \n",
      "  inflating: urbansound8k/fold9/39856-5-0-23.wav  \n",
      "  inflating: urbansound8k/fold9/39856-5-0-24.wav  \n",
      "  inflating: urbansound8k/fold9/39856-5-0-25.wav  \n",
      "  inflating: urbansound8k/fold9/39856-5-0-26.wav  \n",
      "  inflating: urbansound8k/fold9/39856-5-0-27.wav  \n",
      "  inflating: urbansound8k/fold9/39856-5-0-28.wav  \n",
      "  inflating: urbansound8k/fold9/39856-5-0-3.wav  \n",
      "  inflating: urbansound8k/fold9/39856-5-0-4.wav  \n",
      "  inflating: urbansound8k/fold9/39856-5-0-5.wav  \n",
      "  inflating: urbansound8k/fold9/39856-5-0-6.wav  \n",
      "  inflating: urbansound8k/fold9/39856-5-0-7.wav  \n",
      "  inflating: urbansound8k/fold9/39856-5-0-8.wav  \n",
      "  inflating: urbansound8k/fold9/39856-5-0-9.wav  \n",
      "  inflating: urbansound8k/fold9/42101-1-1-0.wav  \n",
      "  inflating: urbansound8k/fold9/42371-3-0-0.wav  \n",
      "  inflating: urbansound8k/fold9/42953-9-0-16.wav  \n",
      "  inflating: urbansound8k/fold9/42953-9-0-21.wav  \n",
      "  inflating: urbansound8k/fold9/42953-9-0-28.wav  \n",
      "  inflating: urbansound8k/fold9/42953-9-0-37.wav  \n",
      "  inflating: urbansound8k/fold9/42953-9-0-49.wav  \n",
      "  inflating: urbansound8k/fold9/42953-9-0-50.wav  \n",
      "  inflating: urbansound8k/fold9/50223-3-0-1.wav  \n",
      "  inflating: urbansound8k/fold9/50223-3-0-10.wav  \n",
      "  inflating: urbansound8k/fold9/50223-3-0-3.wav  \n",
      "  inflating: urbansound8k/fold9/50223-3-0-6.wav  \n",
      "  inflating: urbansound8k/fold9/50414-4-0-0.wav  \n",
      "  inflating: urbansound8k/fold9/50414-4-0-1.wav  \n",
      "  inflating: urbansound8k/fold9/52171-3-2-0.wav  \n",
      "  inflating: urbansound8k/fold9/52171-3-3-0.wav  \n",
      "  inflating: urbansound8k/fold9/52171-3-6-0.wav  \n",
      "  inflating: urbansound8k/fold9/52171-3-6-1.wav  \n",
      "  inflating: urbansound8k/fold9/52411-9-0-4.wav  \n",
      "  inflating: urbansound8k/fold9/52411-9-0-52.wav  \n",
      "  inflating: urbansound8k/fold9/52411-9-0-6.wav  \n",
      "  inflating: urbansound8k/fold9/52411-9-0-64.wav  \n",
      "  inflating: urbansound8k/fold9/52411-9-0-66.wav  \n",
      "  inflating: urbansound8k/fold9/52411-9-0-79.wav  \n",
      "  inflating: urbansound8k/fold9/52740-3-0-0.wav  \n",
      "  inflating: urbansound8k/fold9/52740-3-0-1.wav  \n",
      "  inflating: urbansound8k/fold9/52740-3-0-2.wav  \n",
      "  inflating: urbansound8k/fold9/52740-3-0-3.wav  \n",
      "  inflating: urbansound8k/fold9/54187-1-0-0.wav  \n",
      "  inflating: urbansound8k/fold9/54187-1-0-1.wav  \n",
      "  inflating: urbansound8k/fold9/54187-1-0-2.wav  \n",
      "  inflating: urbansound8k/fold9/54187-1-0-3.wav  \n",
      "  inflating: urbansound8k/fold9/54187-1-0-4.wav  \n",
      "  inflating: urbansound8k/fold9/54823-3-0-0.wav  \n",
      "  inflating: urbansound8k/fold9/54823-3-1-0.wav  \n",
      "  inflating: urbansound8k/fold9/54823-3-2-1.wav  \n",
      "  inflating: urbansound8k/fold9/54976-4-0-0.wav  \n",
      "  inflating: urbansound8k/fold9/54976-4-0-1.wav  \n",
      "  inflating: urbansound8k/fold9/54976-4-0-2.wav  \n",
      "  inflating: urbansound8k/fold9/54976-4-0-3.wav  \n",
      "  inflating: urbansound8k/fold9/54976-4-0-4.wav  \n",
      "  inflating: urbansound8k/fold9/54976-4-0-5.wav  \n",
      "  inflating: urbansound8k/fold9/54976-4-0-6.wav  \n",
      "  inflating: urbansound8k/fold9/54976-4-0-7.wav  \n",
      "  inflating: urbansound8k/fold9/54976-4-0-8.wav  \n",
      "  inflating: urbansound8k/fold9/54976-4-0-9.wav  \n",
      "  inflating: urbansound8k/fold9/54976-4-1-0.wav  \n",
      "  inflating: urbansound8k/fold9/54976-4-1-1.wav  \n",
      "  inflating: urbansound8k/fold9/54976-4-1-2.wav  \n",
      "  inflating: urbansound8k/fold9/54976-4-1-3.wav  \n",
      "  inflating: urbansound8k/fold9/57105-3-0-1.wav  \n",
      "  inflating: urbansound8k/fold9/57105-3-1-0.wav  \n",
      "  inflating: urbansound8k/fold9/57105-3-4-2.wav  \n",
      "  inflating: urbansound8k/fold9/57105-3-4-4.wav  \n",
      "  inflating: urbansound8k/fold9/58937-4-0-0.wav  \n",
      "  inflating: urbansound8k/fold9/58937-4-0-12.wav  \n",
      "  inflating: urbansound8k/fold9/58937-4-0-13.wav  \n",
      "  inflating: urbansound8k/fold9/58937-4-0-2.wav  \n",
      "  inflating: urbansound8k/fold9/58937-4-0-4.wav  \n",
      "  inflating: urbansound8k/fold9/58937-4-0-7.wav  \n",
      "  inflating: urbansound8k/fold9/58937-4-1-0.wav  \n",
      "  inflating: urbansound8k/fold9/58937-4-1-1.wav  \n",
      "  inflating: urbansound8k/fold9/58937-4-2-10.wav  \n",
      "  inflating: urbansound8k/fold9/58937-4-2-2.wav  \n",
      "  inflating: urbansound8k/fold9/58937-4-2-9.wav  \n",
      "  inflating: urbansound8k/fold9/58937-4-3-6.wav  \n",
      "  inflating: urbansound8k/fold9/58937-4-3-9.wav  \n",
      "  inflating: urbansound8k/fold9/58937-4-4-1.wav  \n",
      "  inflating: urbansound8k/fold9/58937-4-5-2.wav  \n",
      "  inflating: urbansound8k/fold9/58937-4-5-4.wav  \n",
      "  inflating: urbansound8k/fold9/59037-2-0-6.wav  \n",
      "  inflating: urbansound8k/fold9/59037-2-1-2.wav  \n",
      "  inflating: urbansound8k/fold9/59037-2-1-3.wav  \n",
      "  inflating: urbansound8k/fold9/59037-2-2-0.wav  \n",
      "  inflating: urbansound8k/fold9/59037-2-3-0.wav  \n",
      "  inflating: urbansound8k/fold9/59037-2-4-3.wav  \n",
      "  inflating: urbansound8k/fold9/59037-2-4-5.wav  \n",
      "  inflating: urbansound8k/fold9/59037-2-4-8.wav  \n",
      "  inflating: urbansound8k/fold9/59800-3-0-0.wav  \n",
      "  inflating: urbansound8k/fold9/59800-3-1-0.wav  \n",
      "  inflating: urbansound8k/fold9/59800-3-2-0.wav  \n",
      "  inflating: urbansound8k/fold9/59800-3-3-1.wav  \n",
      "  inflating: urbansound8k/fold9/60935-2-0-0.wav  \n",
      "  inflating: urbansound8k/fold9/60935-2-0-11.wav  \n",
      "  inflating: urbansound8k/fold9/60935-2-0-12.wav  \n",
      "  inflating: urbansound8k/fold9/60935-2-0-13.wav  \n",
      "  inflating: urbansound8k/fold9/60935-2-0-14.wav  \n",
      "  inflating: urbansound8k/fold9/60935-2-0-15.wav  \n",
      "  inflating: urbansound8k/fold9/60935-2-0-4.wav  \n",
      "  inflating: urbansound8k/fold9/60935-2-0-9.wav  \n",
      "  inflating: urbansound8k/fold9/61250-3-0-31.wav  \n",
      "  inflating: urbansound8k/fold9/61250-3-0-36.wav  \n",
      "  inflating: urbansound8k/fold9/61250-3-0-47.wav  \n",
      "  inflating: urbansound8k/fold9/61250-3-0-62.wav  \n",
      "  inflating: urbansound8k/fold9/62567-5-0-0.wav  \n",
      "  inflating: urbansound8k/fold9/62567-5-0-1.wav  \n",
      "  inflating: urbansound8k/fold9/62567-5-0-10.wav  \n",
      "  inflating: urbansound8k/fold9/62567-5-0-2.wav  \n",
      "  inflating: urbansound8k/fold9/62567-5-0-3.wav  \n",
      "  inflating: urbansound8k/fold9/62567-5-0-4.wav  \n",
      "  inflating: urbansound8k/fold9/62567-5-0-5.wav  \n",
      "  inflating: urbansound8k/fold9/62567-5-0-6.wav  \n",
      "  inflating: urbansound8k/fold9/62567-5-0-7.wav  \n",
      "  inflating: urbansound8k/fold9/62567-5-0-8.wav  \n",
      "  inflating: urbansound8k/fold9/62567-5-0-9.wav  \n",
      "  inflating: urbansound8k/fold9/62567-5-1-0.wav  \n",
      "  inflating: urbansound8k/fold9/62567-5-1-1.wav  \n",
      "  inflating: urbansound8k/fold9/66601-8-0-0.wav  \n",
      "  inflating: urbansound8k/fold9/66601-8-0-1.wav  \n",
      "  inflating: urbansound8k/fold9/66601-8-0-2.wav  \n",
      "  inflating: urbansound8k/fold9/66601-8-0-3.wav  \n",
      "  inflating: urbansound8k/fold9/66601-8-0-4.wav  \n",
      "  inflating: urbansound8k/fold9/66601-8-0-5.wav  \n",
      "  inflating: urbansound8k/fold9/69777-3-0-0.wav  \n",
      "  inflating: urbansound8k/fold9/69777-3-0-1.wav  \n",
      "  inflating: urbansound8k/fold9/69777-3-0-2.wav  \n",
      "  inflating: urbansound8k/fold9/70098-3-0-0.wav  \n",
      "  inflating: urbansound8k/fold9/70098-3-1-0.wav  \n",
      "  inflating: urbansound8k/fold9/70098-3-2-0.wav  \n",
      "  inflating: urbansound8k/fold9/70098-3-3-0.wav  \n",
      "  inflating: urbansound8k/fold9/7063-6-0-0.wav  \n",
      "  inflating: urbansound8k/fold9/71082-4-0-0.wav  \n",
      "  inflating: urbansound8k/fold9/71082-4-1-0.wav  \n",
      "  inflating: urbansound8k/fold9/72265-3-15-0.wav  \n",
      "  inflating: urbansound8k/fold9/72265-3-4-0.wav  \n",
      "  inflating: urbansound8k/fold9/72265-3-5-0.wav  \n",
      "  inflating: urbansound8k/fold9/72265-3-7-0.wav  \n",
      "  inflating: urbansound8k/fold9/72723-3-0-0.wav  \n",
      "  inflating: urbansound8k/fold9/73168-1-0-0.wav  \n",
      "  inflating: urbansound8k/fold9/73168-1-1-0.wav  \n",
      "  inflating: urbansound8k/fold9/73168-1-2-0.wav  \n",
      "  inflating: urbansound8k/fold9/75743-0-0-0.wav  \n",
      "  inflating: urbansound8k/fold9/75743-0-0-1.wav  \n",
      "  inflating: urbansound8k/fold9/75743-0-0-10.wav  \n",
      "  inflating: urbansound8k/fold9/75743-0-0-11.wav  \n",
      "  inflating: urbansound8k/fold9/75743-0-0-12.wav  \n",
      "  inflating: urbansound8k/fold9/75743-0-0-13.wav  \n",
      "  inflating: urbansound8k/fold9/75743-0-0-14.wav  \n",
      "  inflating: urbansound8k/fold9/75743-0-0-15.wav  \n",
      "  inflating: urbansound8k/fold9/75743-0-0-16.wav  \n",
      "  inflating: urbansound8k/fold9/75743-0-0-17.wav  \n",
      "  inflating: urbansound8k/fold9/75743-0-0-18.wav  \n",
      "  inflating: urbansound8k/fold9/75743-0-0-19.wav  \n",
      "  inflating: urbansound8k/fold9/75743-0-0-2.wav  \n",
      "  inflating: urbansound8k/fold9/75743-0-0-20.wav  \n",
      "  inflating: urbansound8k/fold9/75743-0-0-21.wav  \n",
      "  inflating: urbansound8k/fold9/75743-0-0-22.wav  \n",
      "  inflating: urbansound8k/fold9/75743-0-0-23.wav  \n",
      "  inflating: urbansound8k/fold9/75743-0-0-3.wav  \n",
      "  inflating: urbansound8k/fold9/75743-0-0-4.wav  \n",
      "  inflating: urbansound8k/fold9/75743-0-0-5.wav  \n",
      "  inflating: urbansound8k/fold9/75743-0-0-6.wav  \n",
      "  inflating: urbansound8k/fold9/75743-0-0-7.wav  \n",
      "  inflating: urbansound8k/fold9/75743-0-0-8.wav  \n",
      "  inflating: urbansound8k/fold9/75743-0-0-9.wav  \n",
      "  inflating: urbansound8k/fold9/76640-3-0-0.wav  \n",
      "  inflating: urbansound8k/fold9/79089-0-0-106.wav  \n",
      "  inflating: urbansound8k/fold9/79089-0-0-115.wav  \n",
      "  inflating: urbansound8k/fold9/79089-0-0-12.wav  \n",
      "  inflating: urbansound8k/fold9/79089-0-0-122.wav  \n",
      "  inflating: urbansound8k/fold9/79089-0-0-123.wav  \n",
      "  inflating: urbansound8k/fold9/79089-0-0-134.wav  \n",
      "  inflating: urbansound8k/fold9/79089-0-0-135.wav  \n",
      "  inflating: urbansound8k/fold9/79089-0-0-136.wav  \n",
      "  inflating: urbansound8k/fold9/79089-0-0-138.wav  \n",
      "  inflating: urbansound8k/fold9/79089-0-0-19.wav  \n",
      "  inflating: urbansound8k/fold9/79089-0-0-25.wav  \n",
      "  inflating: urbansound8k/fold9/79089-0-0-28.wav  \n",
      "  inflating: urbansound8k/fold9/79089-0-0-4.wav  \n",
      "  inflating: urbansound8k/fold9/79089-0-0-40.wav  \n",
      "  inflating: urbansound8k/fold9/79089-0-0-41.wav  \n",
      "  inflating: urbansound8k/fold9/79089-0-0-43.wav  \n",
      "  inflating: urbansound8k/fold9/79089-0-0-48.wav  \n",
      "  inflating: urbansound8k/fold9/79089-0-0-51.wav  \n",
      "  inflating: urbansound8k/fold9/79089-0-0-52.wav  \n",
      "  inflating: urbansound8k/fold9/79089-0-0-56.wav  \n",
      "  inflating: urbansound8k/fold9/79089-0-0-6.wav  \n",
      "  inflating: urbansound8k/fold9/79089-0-0-60.wav  \n",
      "  inflating: urbansound8k/fold9/79089-0-0-63.wav  \n",
      "  inflating: urbansound8k/fold9/79089-0-0-70.wav  \n",
      "  inflating: urbansound8k/fold9/79089-0-0-73.wav  \n",
      "  inflating: urbansound8k/fold9/79089-0-0-75.wav  \n",
      "  inflating: urbansound8k/fold9/79089-0-0-92.wav  \n",
      "  inflating: urbansound8k/fold9/79584-3-0-4.wav  \n",
      "  inflating: urbansound8k/fold9/79584-3-0-5.wav  \n",
      "  inflating: urbansound8k/fold9/79584-3-0-8.wav  \n",
      "  inflating: urbansound8k/fold9/79584-3-1-2.wav  \n",
      "  inflating: urbansound8k/fold9/7975-3-0-0.wav  \n",
      "  inflating: urbansound8k/fold9/81117-4-0-0.wav  \n",
      "  inflating: urbansound8k/fold9/81117-4-0-1.wav  \n",
      "  inflating: urbansound8k/fold9/81117-4-0-2.wav  \n",
      "  inflating: urbansound8k/fold9/81117-4-0-3.wav  \n",
      "  inflating: urbansound8k/fold9/81117-4-0-4.wav  \n",
      "  inflating: urbansound8k/fold9/81117-4-0-5.wav  \n",
      "  inflating: urbansound8k/fold9/81722-3-0-21.wav  \n",
      "  inflating: urbansound8k/fold9/81722-3-0-22.wav  \n",
      "  inflating: urbansound8k/fold9/81722-3-0-26.wav  \n",
      "  inflating: urbansound8k/fold9/81722-3-0-28.wav  \n",
      "  inflating: urbansound8k/fold9/85661-3-0-0.wav  \n",
      "  inflating: urbansound8k/fold9/85664-3-0-0.wav  \n",
      "  inflating: urbansound8k/fold9/87562-6-0-0.wav  \n",
      "  inflating: urbansound8k/fold9/94182-9-0-0.wav  \n",
      "  inflating: urbansound8k/fold9/94182-9-0-10.wav  \n",
      "  inflating: urbansound8k/fold9/94182-9-0-16.wav  \n",
      "  inflating: urbansound8k/fold9/94182-9-0-20.wav  \n",
      "  inflating: urbansound8k/fold9/94182-9-0-23.wav  \n",
      "  inflating: urbansound8k/fold9/94182-9-0-25.wav  \n",
      "  inflating: urbansound8k/fold9/94182-9-0-9.wav  \n",
      "  inflating: urbansound8k/fold9/96921-9-0-1.wav  \n",
      "  inflating: urbansound8k/fold9/96921-9-0-11.wav  \n",
      "  inflating: urbansound8k/fold9/96921-9-0-17.wav  \n",
      "  inflating: urbansound8k/fold9/96921-9-0-18.wav  \n",
      "  inflating: urbansound8k/fold9/96921-9-0-4.wav  \n",
      "  inflating: urbansound8k/fold9/96921-9-0-9.wav  \n",
      "  inflating: urbansound8k/fold9/98859-7-0-0.wav  \n",
      "  inflating: urbansound8k/fold9/98859-7-1-0.wav  \n",
      "  inflating: urbansound8k/fold9/98859-7-2-0.wav  \n",
      "  inflating: urbansound8k/fold9/98859-7-2-1.wav  \n",
      "  inflating: urbansound8k/fold9/98859-7-2-2.wav  \n",
      "  inflating: urbansound8k/fold9/98859-7-2-3.wav  \n",
      "  inflating: urbansound8k/fold9/98859-7-2-4.wav  \n",
      "  inflating: urbansound8k/fold9/98859-7-2-5.wav  \n",
      "  inflating: urbansound8k/fold9/99500-2-0-1.wav  \n",
      "  inflating: urbansound8k/fold9/99500-2-0-11.wav  \n",
      "  inflating: urbansound8k/fold9/99500-2-0-2.wav  \n",
      "  inflating: urbansound8k/fold9/99500-2-0-23.wav  \n",
      "  inflating: urbansound8k/fold9/99500-2-0-29.wav  \n",
      "  inflating: urbansound8k/fold9/99500-2-0-39.wav  \n",
      "  inflating: urbansound8k/fold9/99500-2-0-41.wav  \n",
      "  inflating: urbansound8k/fold9/99500-2-0-50.wav  \n"
     ]
    }
   ],
   "source": [
    "!unzip urbansound8k.zip -d urbansound8k"
   ]
  },
  {
   "cell_type": "code",
   "execution_count": 2,
   "metadata": {},
   "outputs": [],
   "source": [
    "torch.cuda.empty_cache()"
   ]
  },
  {
   "cell_type": "code",
   "execution_count": 3,
   "metadata": {},
   "outputs": [
    {
     "name": "stdout",
     "output_type": "stream",
     "text": [
      "cuda:0\n"
     ]
    }
   ],
   "source": [
    "device = 'cuda:0' if torch.cuda.is_available() else 'cpu'\n",
    "print(device)"
   ]
  },
  {
   "cell_type": "code",
   "execution_count": 4,
   "metadata": {},
   "outputs": [
    {
     "data": {
      "text/html": [
       "<div>\n",
       "<style scoped>\n",
       "    .dataframe tbody tr th:only-of-type {\n",
       "        vertical-align: middle;\n",
       "    }\n",
       "\n",
       "    .dataframe tbody tr th {\n",
       "        vertical-align: top;\n",
       "    }\n",
       "\n",
       "    .dataframe thead th {\n",
       "        text-align: right;\n",
       "    }\n",
       "</style>\n",
       "<table border=\"1\" class=\"dataframe\">\n",
       "  <thead>\n",
       "    <tr style=\"text-align: right;\">\n",
       "      <th></th>\n",
       "      <th>slice_file_name</th>\n",
       "      <th>fsID</th>\n",
       "      <th>start</th>\n",
       "      <th>end</th>\n",
       "      <th>salience</th>\n",
       "      <th>fold</th>\n",
       "      <th>classID</th>\n",
       "      <th>class</th>\n",
       "    </tr>\n",
       "  </thead>\n",
       "  <tbody>\n",
       "    <tr>\n",
       "      <th>0</th>\n",
       "      <td>100032-3-0-0.wav</td>\n",
       "      <td>100032</td>\n",
       "      <td>0.0</td>\n",
       "      <td>0.317551</td>\n",
       "      <td>1</td>\n",
       "      <td>5</td>\n",
       "      <td>3</td>\n",
       "      <td>dog_bark</td>\n",
       "    </tr>\n",
       "    <tr>\n",
       "      <th>1</th>\n",
       "      <td>100263-2-0-117.wav</td>\n",
       "      <td>100263</td>\n",
       "      <td>58.5</td>\n",
       "      <td>62.500000</td>\n",
       "      <td>1</td>\n",
       "      <td>5</td>\n",
       "      <td>2</td>\n",
       "      <td>children_playing</td>\n",
       "    </tr>\n",
       "    <tr>\n",
       "      <th>2</th>\n",
       "      <td>100263-2-0-121.wav</td>\n",
       "      <td>100263</td>\n",
       "      <td>60.5</td>\n",
       "      <td>64.500000</td>\n",
       "      <td>1</td>\n",
       "      <td>5</td>\n",
       "      <td>2</td>\n",
       "      <td>children_playing</td>\n",
       "    </tr>\n",
       "    <tr>\n",
       "      <th>3</th>\n",
       "      <td>100263-2-0-126.wav</td>\n",
       "      <td>100263</td>\n",
       "      <td>63.0</td>\n",
       "      <td>67.000000</td>\n",
       "      <td>1</td>\n",
       "      <td>5</td>\n",
       "      <td>2</td>\n",
       "      <td>children_playing</td>\n",
       "    </tr>\n",
       "    <tr>\n",
       "      <th>4</th>\n",
       "      <td>100263-2-0-137.wav</td>\n",
       "      <td>100263</td>\n",
       "      <td>68.5</td>\n",
       "      <td>72.500000</td>\n",
       "      <td>1</td>\n",
       "      <td>5</td>\n",
       "      <td>2</td>\n",
       "      <td>children_playing</td>\n",
       "    </tr>\n",
       "  </tbody>\n",
       "</table>\n",
       "</div>"
      ],
      "text/plain": [
       "      slice_file_name    fsID  start        end  salience  fold  classID  \\\n",
       "0    100032-3-0-0.wav  100032    0.0   0.317551         1     5        3   \n",
       "1  100263-2-0-117.wav  100263   58.5  62.500000         1     5        2   \n",
       "2  100263-2-0-121.wav  100263   60.5  64.500000         1     5        2   \n",
       "3  100263-2-0-126.wav  100263   63.0  67.000000         1     5        2   \n",
       "4  100263-2-0-137.wav  100263   68.5  72.500000         1     5        2   \n",
       "\n",
       "              class  \n",
       "0          dog_bark  \n",
       "1  children_playing  \n",
       "2  children_playing  \n",
       "3  children_playing  \n",
       "4  children_playing  "
      ]
     },
     "execution_count": 4,
     "metadata": {},
     "output_type": "execute_result"
    }
   ],
   "source": [
    "trainPath = 'urbansound8k/'\n",
    "trainData = pd.read_csv(f'{trainPath}/UrbanSound8K.csv')\n",
    "trainData.head()"
   ]
  },
  {
   "cell_type": "code",
   "execution_count": 5,
   "metadata": {},
   "outputs": [],
   "source": [
    "pretext=False\n",
    "if pretext:\n",
    "    for i in range(len(trainData)):\n",
    "        value = trainData['class'][i]\n",
    "        if value == \"jackhammer\" or value == \"engine_idling\" or value == \"gun_shot\" or value == \"drilling\":\n",
    "            trainData.loc[i, 'classID'] = 0\n",
    "        if value == \"air_conditioner\" or value == 'street_music' or value == 'siren' or value == \"car_horn\":\n",
    "            trainData.loc[i, 'classID'] = 1\n",
    "        if value == 'children_playing' or value == 'dog_bark':\n",
    "            trainData.loc[i, 'classID'] = 2\n",
    "\n",
    "#trainData.to_csv('/kaggle/input/urbansound8k/UrbanSound8K.csv', index=False)\n",
    "#trainData[trainData['class'] == \"gun_shot\"]"
   ]
  },
  {
   "cell_type": "code",
   "execution_count": 6,
   "metadata": {},
   "outputs": [
    {
     "data": {
      "text/plain": [
       "10"
      ]
     },
     "execution_count": 6,
     "metadata": {},
     "output_type": "execute_result"
    }
   ],
   "source": [
    "num_classes = len(set(trainData['classID'].values))\n",
    "num_classes"
   ]
  },
  {
   "cell_type": "code",
   "execution_count": 7,
   "metadata": {},
   "outputs": [],
   "source": [
    "class Dataset(Dataset):\n",
    "    def __init__(self, dataframe, fold=None, val=False, test=False):\n",
    "        self.fold = fold  \n",
    "        all_folds = [i for i in range(1, 11)]\n",
    "        test_fold = 10-fold\n",
    "        all_folds.remove(test_fold)\n",
    "        if test==False:\n",
    "            df = dataframe[dataframe['fold'].isin(all_folds)]\n",
    "            train_df, val_df = train_test_split(df, test_size=0.1, random_state=42)\n",
    "            if val ==True:\n",
    "                self.dataframe = val_df\n",
    "            else:\n",
    "                self.dataframe = train_df\n",
    "               \n",
    "        elif test==True:\n",
    "            self.dataframe = dataframe[dataframe['fold'] == test_fold]\n",
    "    def __getitem__(self, index):\n",
    "        path_to_file = self.get_path_to_file(index)\n",
    "        signal = self.preprocess_signal(path_to_file)\n",
    "\n",
    "        x = np.stack([cv2.resize(signal, (224, 224)) for _ in range(3)])\n",
    "\n",
    "        y = self.dataframe.classID.values[index]\n",
    "        return torch.tensor(x, dtype=torch.float), y\n",
    "\n",
    "    def get_path_to_file(self, index):\n",
    "        return f'urbansound8k/fold{self.dataframe.fold.values[index]}/{self.dataframe.slice_file_name.values[index]}'\n",
    "    def preprocess_signal(self, path_to_file):\n",
    "        signal, _ = librosa.load(path_to_file, sr=16000)\n",
    "        signal = librosa.feature.melspectrogram(y=signal)\n",
    "        signal = librosa.power_to_db(signal)\n",
    "        return signal\n",
    "\n",
    "    def __len__(self):\n",
    "        return self.dataframe.shape[0]"
   ]
  },
  {
   "cell_type": "code",
   "execution_count": 8,
   "metadata": {},
   "outputs": [
    {
     "name": "stdout",
     "output_type": "stream",
     "text": [
      "Training set: 7105, Validation set: 790, Test Set: 837\n",
      "Folds of training set: {1, 2, 3, 4, 5, 6, 7, 8, 9}\n",
      "Folds of validation set: {1, 2, 3, 4, 5, 6, 7, 8, 9}\n",
      "Folds of test set: {10}\n"
     ]
    }
   ],
   "source": [
    "batch_size = 32\n",
    "fold = 0\n",
    "trainSet = Dataset(trainData, fold=fold)\n",
    "valSet = Dataset(trainData, fold=fold, val=True)\n",
    "testSet = Dataset(trainData, fold=fold, test=True)\n",
    "trainLoader = DataLoader(trainSet, batch_size=batch_size, shuffle=True, num_workers=2)\n",
    "valLoader = DataLoader(valSet , batch_size=batch_size, num_workers=2)\n",
    "testLoader = DataLoader(testSet , batch_size=batch_size, num_workers=2)\n",
    "\n",
    "print('Training set: {}, Validation set: {}, Test Set: {}'.format(len(trainSet), len(valSet), len(testSet)))\n",
    "\n",
    "print(\"Folds of training set:\", set(list(trainSet.dataframe[\"fold\"].values)))\n",
    "print(\"Folds of validation set:\", set(list(valSet.dataframe[\"fold\"].values)))\n",
    "print(\"Folds of test set:\", set(list(testSet.dataframe[\"fold\"].values)))\n"
   ]
  },
  {
   "cell_type": "code",
   "execution_count": 9,
   "metadata": {},
   "outputs": [
    {
     "name": "stdout",
     "output_type": "stream",
     "text": [
      "torch.Size([3, 224, 224])\n",
      "torch.Size([3, 224, 224])\n",
      "torch.Size([3, 224, 224])\n"
     ]
    }
   ],
   "source": [
    "print(trainSet[0][0].shape)\n",
    "print(valSet[0][0].shape)\n",
    "print(testSet[0][0].shape)"
   ]
  },
  {
   "cell_type": "code",
   "execution_count": 10,
   "metadata": {},
   "outputs": [],
   "source": [
    "class CustomResNet50(nn.Module):\n",
    "    def __init__(self, num_classes=10):\n",
    "        super(CustomResNet50, self).__init__()\n",
    "        # Load a pre-trained ResNet50\n",
    "        self.resnet50 = models.resnet18(pretrained=True)\n",
    "        # Freeze all layers in ResNet50\n",
    "        for param in self.resnet50.parameters():\n",
    "            param.requires_grad = True  # Set true to unfreeze\n",
    "\n",
    "        # Get the input features of the original fully connected layer\n",
    "        in_features = self.resnet50.fc.in_features\n",
    "\n",
    "        # Replace the fully connected layer with custom layers\n",
    "        self.resnet50.fc = nn.Sequential(\n",
    "            nn.Linear(in_features, 512),\n",
    "            nn.ReLU(),\n",
    "            #nn.Dropout(0.2),\n",
    "            nn.Linear(512, 256),\n",
    "            nn.ReLU(),\n",
    "            #nn.Dropout(0.2),\n",
    "            nn.Linear(256, num_classes),\n",
    "        )\n",
    "\n",
    "        # Unfreeze the custom fully connected layers\n",
    "        for param in self.resnet50.fc.parameters():\n",
    "            param.requires_grad = True\n",
    "\n",
    "    def forward(self, x):\n",
    "        return self.resnet50(x)\n",
    "\n",
    "def get_pretext_loaded(model, pretext_path):\n",
    "    backbone_weights = torch.load(pretext_path, map_location='cpu')\n",
    "    model_dict = dict(model.resnet50.state_dict())\n",
    "    #print(backbone_weights[\"model_state\"].keys())\n",
    "    for key, weights in backbone_weights[\"model_state\"].items():\n",
    "        a = key[9:]\n",
    "        if a.find('fc') == -1: #key should not contain fc\n",
    "            model_dict[a] = weights #update all keys except fc\n",
    "    \n",
    "    model.resnet50.load_state_dict(model_dict)\n",
    "    a = model_dict['conv1.weight'][0]\n",
    "    b = backbone_weights[\"model_state\"][\"resnet50.conv1.weight\"][0]\n",
    "    \n",
    "    if np.array_equal(np.array(a), np.array(b)):\n",
    "        print(\"Backbone Loaded\")\n",
    "    else:\n",
    "        print(\"Backbone not loaded\")\n",
    "    return model"
   ]
  },
  {
   "cell_type": "code",
   "execution_count": 11,
   "metadata": {},
   "outputs": [],
   "source": [
    "class CustomEffNet(nn.Module):\n",
    "    def __init__(self, num_classes=10):\n",
    "        super(CustomEffNet, self).__init__()\n",
    "        # Load a pre-trained EfficientNet\n",
    "        self.effnet = models.efficientnet_b1(pretrained=True)\n",
    "        # Freeze all layers in EfficientNet\n",
    "        for param in self.effnet.parameters():\n",
    "            param.requires_grad = True #Set true to unfreeze\n",
    "\n",
    "        # Get the input features of the original classifier\n",
    "        in_features = self.effnet.classifier[1].in_features\n",
    "\n",
    "        # Replace the classifier with custom layers\n",
    "        self.effnet.classifier = nn.Sequential(\n",
    "            nn.Linear(in_features, 512),\n",
    "            nn.ReLU(),\n",
    "            nn.Dropout(0.2),\n",
    "            nn.Linear(512, 256),\n",
    "            nn.ReLU(),\n",
    "            nn.Dropout(0.2),\n",
    "            nn.Linear(256, num_classes),\n",
    "        )\n",
    "\n",
    "        # Unfreeze the classifier layers\n",
    "        for param in self.effnet.classifier.parameters():\n",
    "            param.requires_grad = True\n",
    "\n",
    "    def forward(self, x):\n",
    "        return self.effnet(x)\n",
    "\n",
    "# Create the model\n",
    "#model = CustomEffNet(num_classes=50)\n",
    "#model.to(device)\n",
    "def get_pretext_loaded(model):\n",
    "    backbone_weights = torch.load('./effnetb1_pretext_5_esc50.pth', map_location='cpu')\n",
    "    model_dict = dict(model.effnet.state_dict())\n",
    "    for key, weights in backbone_weights[\"model_state\"].items():\n",
    "        a = key[7:]\n",
    "        if a.find('classifier') == -1:\n",
    "            model_dict[a] = weights\n",
    "    \n",
    "    model.effnet.load_state_dict(model_dict)\n",
    "    a = model_dict['features.0.0.weight'][0]\n",
    "    b = backbone_weights[\"model_state\"][\"effnet.features.0.0.weight\"][0]\n",
    "    if np.array_equal(np.array(a), np.array(b)):\n",
    "        print(\"Backbone Loaded\")\n",
    "    else:\n",
    "        print(\"Backbone not loaded\")\n",
    "    return model\n"
   ]
  },
  {
   "cell_type": "code",
   "execution_count": 12,
   "metadata": {},
   "outputs": [],
   "source": [
    "try:\n",
    "    df = pd.read_csv(\"training_metadata_baseline_resnet18.csv\")\n",
    "except:\n",
    "\n",
    "    df = pd.DataFrame({\"Fold\": [], \"Epoch\": [], \"Train Loss\": [], \"Val Loss\": [], \"Train Acc\": [], \"Val Acc\": [], \"Test Acc\": []})"
   ]
  },
  {
   "cell_type": "code",
   "execution_count": 13,
   "metadata": {},
   "outputs": [
    {
     "data": {
      "text/plain": [
       "10"
      ]
     },
     "execution_count": 13,
     "metadata": {},
     "output_type": "execute_result"
    }
   ],
   "source": [
    "num_classes"
   ]
  },
  {
   "cell_type": "code",
   "execution_count": 14,
   "metadata": {},
   "outputs": [
    {
     "name": "stdout",
     "output_type": "stream",
     "text": [
      "Training set: 7118, Validation set: 791, Test Set: 823\n",
      "Folds of training set: {1, 2, 3, 4, 5, 7, 8, 9, 10}\n",
      "Folds of validation set: {1, 2, 3, 4, 5, 7, 8, 9, 10}\n",
      "Folds of test set: {6}\n",
      "Classfying 10 classes.\n"
     ]
    },
    {
     "name": "stdout",
     "output_type": "stream",
     "text": [
      "Using single GPU or CPU\n",
      "Resuming training from epoch: 7 with best_val_accuracy: 0.9797724399494311\n"
     ]
    },
    {
     "data": {
      "application/vnd.jupyter.widget-view+json": {
       "model_id": "8644bbe7e2c24cdcb151dfe33973d4d1",
       "version_major": 2,
       "version_minor": 0
      },
      "text/plain": [
       "  0%|          | 0/223 [00:00<?, ?it/s]"
      ]
     },
     "metadata": {},
     "output_type": "display_data"
    },
    {
     "data": {
      "application/vnd.jupyter.widget-view+json": {
       "model_id": "76a490c74c584c7f956030336e4d94fa",
       "version_major": 2,
       "version_minor": 0
      },
      "text/plain": [
       "  0%|          | 0/25 [00:00<?, ?it/s]"
      ]
     },
     "metadata": {},
     "output_type": "display_data"
    },
    {
     "name": "stdout",
     "output_type": "stream",
     "text": [
      "Validation loss has improved from 10000 to 0.14805180883035063\n",
      "epoch = 7, train_loss = 0.03869, val_loss = 0.14805, train_accuracy = 0.80486, val_accuracy = 0.96207\n",
      "     Fold  Epoch  Train Loss  Val Loss  Train Acc   Val Acc  Test Acc\n",
      "178   4.0    7.0     0.03869  0.148052   0.804856  0.962073       0.0\n"
     ]
    },
    {
     "data": {
      "application/vnd.jupyter.widget-view+json": {
       "model_id": "eb9c4df8a2784a4fb11f17d31f8eaa84",
       "version_major": 2,
       "version_minor": 0
      },
      "text/plain": [
       "  0%|          | 0/223 [00:00<?, ?it/s]"
      ]
     },
     "metadata": {},
     "output_type": "display_data"
    },
    {
     "data": {
      "application/vnd.jupyter.widget-view+json": {
       "model_id": "18c3121a99fa469db1fbb6a1be975f57",
       "version_major": 2,
       "version_minor": 0
      },
      "text/plain": [
       "  0%|          | 0/25 [00:00<?, ?it/s]"
      ]
     },
     "metadata": {},
     "output_type": "display_data"
    },
    {
     "name": "stdout",
     "output_type": "stream",
     "text": [
      "Validation loss has improved from 0.14805180883035063 to 0.10443036354146898\n",
      "epoch = 8, train_loss = 0.02671, val_loss = 0.10443, train_accuracy = 0.80760, val_accuracy = 0.97598\n",
      "     Fold  Epoch  Train Loss  Val Loss  Train Acc  Val Acc  Test Acc\n",
      "179   4.0    8.0    0.026714   0.10443   0.807604  0.97598       0.0\n"
     ]
    },
    {
     "data": {
      "application/vnd.jupyter.widget-view+json": {
       "model_id": "7db4be07381c47e6a2c74bf57db65ea7",
       "version_major": 2,
       "version_minor": 0
      },
      "text/plain": [
       "  0%|          | 0/223 [00:00<?, ?it/s]"
      ]
     },
     "metadata": {},
     "output_type": "display_data"
    },
    {
     "data": {
      "application/vnd.jupyter.widget-view+json": {
       "model_id": "1591b23a7fd24562857e7e57e26e3d61",
       "version_major": 2,
       "version_minor": 0
      },
      "text/plain": [
       "  0%|          | 0/25 [00:00<?, ?it/s]"
      ]
     },
     "metadata": {},
     "output_type": "display_data"
    },
    {
     "name": "stdout",
     "output_type": "stream",
     "text": [
      "epoch = 9, train_loss = 0.02740, val_loss = 0.13594, train_accuracy = 0.80898, val_accuracy = 0.95828\n",
      "     Fold  Epoch  Train Loss  Val Loss  Train Acc   Val Acc  Test Acc\n",
      "180   4.0    9.0    0.027399  0.135939   0.808978  0.958281       0.0\n"
     ]
    },
    {
     "data": {
      "application/vnd.jupyter.widget-view+json": {
       "model_id": "7fdfb4816a9a48dfb662b4fff0ed8c31",
       "version_major": 2,
       "version_minor": 0
      },
      "text/plain": [
       "  0%|          | 0/223 [00:00<?, ?it/s]"
      ]
     },
     "metadata": {},
     "output_type": "display_data"
    },
    {
     "data": {
      "application/vnd.jupyter.widget-view+json": {
       "model_id": "497fa242745341e197956ff5fac0dcbf",
       "version_major": 2,
       "version_minor": 0
      },
      "text/plain": [
       "  0%|          | 0/25 [00:00<?, ?it/s]"
      ]
     },
     "metadata": {},
     "output_type": "display_data"
    },
    {
     "name": "stdout",
     "output_type": "stream",
     "text": [
      "epoch = 10, train_loss = 0.03605, val_loss = 0.17326, train_accuracy = 0.80634, val_accuracy = 0.96713\n",
      "     Fold  Epoch  Train Loss  Val Loss  Train Acc  Val Acc  Test Acc\n",
      "181   4.0   10.0    0.036054  0.173263   0.806344  0.96713       0.0\n"
     ]
    },
    {
     "data": {
      "application/vnd.jupyter.widget-view+json": {
       "model_id": "36c3554738e04b6d8c8eda82bb37e5fa",
       "version_major": 2,
       "version_minor": 0
      },
      "text/plain": [
       "  0%|          | 0/223 [00:00<?, ?it/s]"
      ]
     },
     "metadata": {},
     "output_type": "display_data"
    },
    {
     "data": {
      "application/vnd.jupyter.widget-view+json": {
       "model_id": "34179d29c49f442a995e1759818c7bd1",
       "version_major": 2,
       "version_minor": 0
      },
      "text/plain": [
       "  0%|          | 0/25 [00:00<?, ?it/s]"
      ]
     },
     "metadata": {},
     "output_type": "display_data"
    },
    {
     "name": "stdout",
     "output_type": "stream",
     "text": [
      "epoch = 11, train_loss = 0.02442, val_loss = 0.14163, train_accuracy = 0.81012, val_accuracy = 0.96713\n",
      "     Fold  Epoch  Train Loss  Val Loss  Train Acc  Val Acc  Test Acc\n",
      "182   4.0   11.0    0.024417  0.141628   0.810124  0.96713       0.0\n"
     ]
    },
    {
     "data": {
      "application/vnd.jupyter.widget-view+json": {
       "model_id": "73a2df9316b74fc5892f3979995304d3",
       "version_major": 2,
       "version_minor": 0
      },
      "text/plain": [
       "  0%|          | 0/223 [00:00<?, ?it/s]"
      ]
     },
     "metadata": {},
     "output_type": "display_data"
    },
    {
     "data": {
      "application/vnd.jupyter.widget-view+json": {
       "model_id": "9443e1f0f84e455eb7bc13979cff91c7",
       "version_major": 2,
       "version_minor": 0
      },
      "text/plain": [
       "  0%|          | 0/25 [00:00<?, ?it/s]"
      ]
     },
     "metadata": {},
     "output_type": "display_data"
    },
    {
     "name": "stdout",
     "output_type": "stream",
     "text": [
      "epoch = 12, train_loss = 0.02702, val_loss = 0.12643, train_accuracy = 0.80875, val_accuracy = 0.97219\n",
      "     Fold  Epoch  Train Loss  Val Loss  Train Acc   Val Acc  Test Acc\n",
      "183   4.0   12.0    0.027021  0.126434   0.808749  0.972187       0.0\n"
     ]
    },
    {
     "data": {
      "application/vnd.jupyter.widget-view+json": {
       "model_id": "f52374cb4a9f45839bd22704b2826581",
       "version_major": 2,
       "version_minor": 0
      },
      "text/plain": [
       "  0%|          | 0/223 [00:00<?, ?it/s]"
      ]
     },
     "metadata": {},
     "output_type": "display_data"
    },
    {
     "data": {
      "application/vnd.jupyter.widget-view+json": {
       "model_id": "b84544e0cbce4a1882837c0066705fec",
       "version_major": 2,
       "version_minor": 0
      },
      "text/plain": [
       "  0%|          | 0/25 [00:00<?, ?it/s]"
      ]
     },
     "metadata": {},
     "output_type": "display_data"
    },
    {
     "name": "stdout",
     "output_type": "stream",
     "text": [
      "epoch = 13, train_loss = 0.02599, val_loss = 0.13881, train_accuracy = 0.80852, val_accuracy = 0.96334\n",
      "     Fold  Epoch  Train Loss  Val Loss  Train Acc   Val Acc  Test Acc\n",
      "184   4.0   13.0    0.025987  0.138812    0.80852  0.963338       0.0\n"
     ]
    },
    {
     "data": {
      "application/vnd.jupyter.widget-view+json": {
       "model_id": "4a1a5c29af81434daf60c05451a5c40d",
       "version_major": 2,
       "version_minor": 0
      },
      "text/plain": [
       "  0%|          | 0/223 [00:00<?, ?it/s]"
      ]
     },
     "metadata": {},
     "output_type": "display_data"
    },
    {
     "data": {
      "application/vnd.jupyter.widget-view+json": {
       "model_id": "657a85cc85b14fd0925c7a7e33f670d7",
       "version_major": 2,
       "version_minor": 0
      },
      "text/plain": [
       "  0%|          | 0/25 [00:00<?, ?it/s]"
      ]
     },
     "metadata": {},
     "output_type": "display_data"
    },
    {
     "name": "stdout",
     "output_type": "stream",
     "text": [
      "epoch = 14, train_loss = 0.02813, val_loss = 0.10670, train_accuracy = 0.80829, val_accuracy = 0.97598\n",
      "     Fold  Epoch  Train Loss  Val Loss  Train Acc  Val Acc  Test Acc\n",
      "185   4.0   14.0    0.028131  0.106696   0.808291  0.97598       0.0\n"
     ]
    },
    {
     "data": {
      "application/vnd.jupyter.widget-view+json": {
       "model_id": "5ab96284fb0b4ddc9c80ce94133aa46f",
       "version_major": 2,
       "version_minor": 0
      },
      "text/plain": [
       "  0%|          | 0/223 [00:00<?, ?it/s]"
      ]
     },
     "metadata": {},
     "output_type": "display_data"
    },
    {
     "data": {
      "application/vnd.jupyter.widget-view+json": {
       "model_id": "111837b89b7048c98a979464c937b11f",
       "version_major": 2,
       "version_minor": 0
      },
      "text/plain": [
       "  0%|          | 0/25 [00:00<?, ?it/s]"
      ]
     },
     "metadata": {},
     "output_type": "display_data"
    },
    {
     "name": "stdout",
     "output_type": "stream",
     "text": [
      "Validation loss has improved from 0.10443036354146898 to 0.09662803713756148\n",
      "epoch = 15, train_loss = 0.02766, val_loss = 0.09663, train_accuracy = 0.80806, val_accuracy = 0.97598\n",
      "     Fold  Epoch  Train Loss  Val Loss  Train Acc  Val Acc  Test Acc\n",
      "186   4.0   15.0    0.027658  0.096628   0.808062  0.97598       0.0\n"
     ]
    },
    {
     "data": {
      "application/vnd.jupyter.widget-view+json": {
       "model_id": "c5b249920fbb4b6f9c255b44dd9ec694",
       "version_major": 2,
       "version_minor": 0
      },
      "text/plain": [
       "  0%|          | 0/223 [00:00<?, ?it/s]"
      ]
     },
     "metadata": {},
     "output_type": "display_data"
    },
    {
     "data": {
      "application/vnd.jupyter.widget-view+json": {
       "model_id": "47154a5525ed405daf62a6bb545c946e",
       "version_major": 2,
       "version_minor": 0
      },
      "text/plain": [
       "  0%|          | 0/25 [00:00<?, ?it/s]"
      ]
     },
     "metadata": {},
     "output_type": "display_data"
    },
    {
     "name": "stdout",
     "output_type": "stream",
     "text": [
      "epoch = 16, train_loss = 0.02466, val_loss = 0.13819, train_accuracy = 0.80898, val_accuracy = 0.97472\n",
      "     Fold  Epoch  Train Loss  Val Loss  Train Acc   Val Acc  Test Acc\n",
      "187   4.0   16.0    0.024656  0.138192   0.808978  0.974716       0.0\n"
     ]
    },
    {
     "data": {
      "application/vnd.jupyter.widget-view+json": {
       "model_id": "ae01ba9e33ce4ed4a02d83a85c7dbc31",
       "version_major": 2,
       "version_minor": 0
      },
      "text/plain": [
       "  0%|          | 0/223 [00:00<?, ?it/s]"
      ]
     },
     "metadata": {},
     "output_type": "display_data"
    },
    {
     "data": {
      "application/vnd.jupyter.widget-view+json": {
       "model_id": "ff77ded7ff2049ac883ce82218b845bb",
       "version_major": 2,
       "version_minor": 0
      },
      "text/plain": [
       "  0%|          | 0/25 [00:00<?, ?it/s]"
      ]
     },
     "metadata": {},
     "output_type": "display_data"
    },
    {
     "name": "stdout",
     "output_type": "stream",
     "text": [
      "epoch = 17, train_loss = 0.01069, val_loss = 0.12138, train_accuracy = 0.81196, val_accuracy = 0.97219\n",
      "     Fold  Epoch  Train Loss  Val Loss  Train Acc   Val Acc  Test Acc\n",
      "188   4.0   17.0    0.010688  0.121384   0.811956  0.972187       0.0\n"
     ]
    },
    {
     "data": {
      "application/vnd.jupyter.widget-view+json": {
       "model_id": "d3195ad6a238459d9f73779eea8bd4f6",
       "version_major": 2,
       "version_minor": 0
      },
      "text/plain": [
       "  0%|          | 0/223 [00:00<?, ?it/s]"
      ]
     },
     "metadata": {},
     "output_type": "display_data"
    },
    {
     "data": {
      "application/vnd.jupyter.widget-view+json": {
       "model_id": "f61e833cb13b4968aa8bc8729dcb0f50",
       "version_major": 2,
       "version_minor": 0
      },
      "text/plain": [
       "  0%|          | 0/25 [00:00<?, ?it/s]"
      ]
     },
     "metadata": {},
     "output_type": "display_data"
    },
    {
     "name": "stdout",
     "output_type": "stream",
     "text": [
      "epoch = 18, train_loss = 0.01587, val_loss = 0.09900, train_accuracy = 0.81150, val_accuracy = 0.97977\n",
      "     Fold  Epoch  Train Loss  Val Loss  Train Acc   Val Acc  Test Acc\n",
      "189   4.0   18.0    0.015865  0.099001   0.811498  0.979772       0.0\n"
     ]
    },
    {
     "data": {
      "application/vnd.jupyter.widget-view+json": {
       "model_id": "75a3121b60ef4a49b26762d5d75e4022",
       "version_major": 2,
       "version_minor": 0
      },
      "text/plain": [
       "  0%|          | 0/223 [00:00<?, ?it/s]"
      ]
     },
     "metadata": {},
     "output_type": "display_data"
    },
    {
     "data": {
      "application/vnd.jupyter.widget-view+json": {
       "model_id": "71515084efb6475789b195127d55f489",
       "version_major": 2,
       "version_minor": 0
      },
      "text/plain": [
       "  0%|          | 0/25 [00:00<?, ?it/s]"
      ]
     },
     "metadata": {},
     "output_type": "display_data"
    },
    {
     "name": "stdout",
     "output_type": "stream",
     "text": [
      "Validation loss has improved from 0.09662803713756148 to 0.07928333852178185\n",
      "epoch = 19, train_loss = 0.00244, val_loss = 0.07928, train_accuracy = 0.81470, val_accuracy = 0.98104\n",
      "Validation Accuracy improved from 0.97977 to 0.98104. Saving checkpoint.\n",
      "     Fold  Epoch  Train Loss  Val Loss  Train Acc   Val Acc  Test Acc\n",
      "190   4.0   19.0     0.00244  0.079283   0.814705  0.981037       0.0\n"
     ]
    },
    {
     "data": {
      "application/vnd.jupyter.widget-view+json": {
       "model_id": "0b5f2b06db0b4c93a45088b36dd145f2",
       "version_major": 2,
       "version_minor": 0
      },
      "text/plain": [
       "  0%|          | 0/223 [00:00<?, ?it/s]"
      ]
     },
     "metadata": {},
     "output_type": "display_data"
    },
    {
     "data": {
      "application/vnd.jupyter.widget-view+json": {
       "model_id": "042f0a52d024445986c0c2bfcf72a0c8",
       "version_major": 2,
       "version_minor": 0
      },
      "text/plain": [
       "  0%|          | 0/25 [00:00<?, ?it/s]"
      ]
     },
     "metadata": {},
     "output_type": "display_data"
    },
    {
     "name": "stdout",
     "output_type": "stream",
     "text": [
      "epoch = 20, train_loss = 0.00308, val_loss = 0.11971, train_accuracy = 0.81425, val_accuracy = 0.97472\n",
      "     Fold  Epoch  Train Loss  Val Loss  Train Acc   Val Acc  Test Acc\n",
      "191   4.0   20.0    0.003081  0.119707   0.814246  0.974716       0.0\n"
     ]
    },
    {
     "data": {
      "application/vnd.jupyter.widget-view+json": {
       "model_id": "b3fe891336a24ee8b8f7990efede13d6",
       "version_major": 2,
       "version_minor": 0
      },
      "text/plain": [
       "  0%|          | 0/223 [00:00<?, ?it/s]"
      ]
     },
     "metadata": {},
     "output_type": "display_data"
    },
    {
     "data": {
      "application/vnd.jupyter.widget-view+json": {
       "model_id": "7c5e3a5ceb7e4b87878c4570ab3ae620",
       "version_major": 2,
       "version_minor": 0
      },
      "text/plain": [
       "  0%|          | 0/25 [00:00<?, ?it/s]"
      ]
     },
     "metadata": {},
     "output_type": "display_data"
    },
    {
     "name": "stdout",
     "output_type": "stream",
     "text": [
      "epoch = 21, train_loss = 0.03223, val_loss = 0.62488, train_accuracy = 0.80692, val_accuracy = 0.85461\n",
      "     Fold  Epoch  Train Loss  Val Loss  Train Acc   Val Acc  Test Acc\n",
      "192   4.0   21.0    0.032232  0.624879   0.806917  0.854614       0.0\n"
     ]
    },
    {
     "data": {
      "application/vnd.jupyter.widget-view+json": {
       "model_id": "c23dcfbebc2149c0a35c31a9421094da",
       "version_major": 2,
       "version_minor": 0
      },
      "text/plain": [
       "  0%|          | 0/223 [00:00<?, ?it/s]"
      ]
     },
     "metadata": {},
     "output_type": "display_data"
    },
    {
     "data": {
      "application/vnd.jupyter.widget-view+json": {
       "model_id": "ee5af04bd47e4d2489bace98cb235f3c",
       "version_major": 2,
       "version_minor": 0
      },
      "text/plain": [
       "  0%|          | 0/25 [00:00<?, ?it/s]"
      ]
     },
     "metadata": {},
     "output_type": "display_data"
    },
    {
     "name": "stdout",
     "output_type": "stream",
     "text": [
      "epoch = 22, train_loss = 0.04881, val_loss = 0.09755, train_accuracy = 0.80325, val_accuracy = 0.97345\n",
      "     Fold  Epoch  Train Loss  Val Loss  Train Acc   Val Acc  Test Acc\n",
      "193   4.0   22.0    0.048807  0.097552   0.803252  0.973451       0.0\n"
     ]
    },
    {
     "data": {
      "application/vnd.jupyter.widget-view+json": {
       "model_id": "a7ef1d781bd041e29d6341e1b835222d",
       "version_major": 2,
       "version_minor": 0
      },
      "text/plain": [
       "  0%|          | 0/223 [00:00<?, ?it/s]"
      ]
     },
     "metadata": {},
     "output_type": "display_data"
    },
    {
     "data": {
      "application/vnd.jupyter.widget-view+json": {
       "model_id": "8c3fdff8a503435485f401074298555a",
       "version_major": 2,
       "version_minor": 0
      },
      "text/plain": [
       "  0%|          | 0/25 [00:00<?, ?it/s]"
      ]
     },
     "metadata": {},
     "output_type": "display_data"
    },
    {
     "name": "stdout",
     "output_type": "stream",
     "text": [
      "Validation loss has improved from 0.07928333852178185 to 0.07793981247552438\n",
      "epoch = 23, train_loss = 0.00565, val_loss = 0.07794, train_accuracy = 0.81402, val_accuracy = 0.98104\n",
      "     Fold  Epoch  Train Loss  Val Loss  Train Acc   Val Acc  Test Acc\n",
      "194   4.0   23.0    0.005648   0.07794   0.814017  0.981037       0.0\n"
     ]
    },
    {
     "data": {
      "application/vnd.jupyter.widget-view+json": {
       "model_id": "af0bd6547c1f4e7782c007984a64c176",
       "version_major": 2,
       "version_minor": 0
      },
      "text/plain": [
       "  0%|          | 0/223 [00:00<?, ?it/s]"
      ]
     },
     "metadata": {},
     "output_type": "display_data"
    },
    {
     "data": {
      "application/vnd.jupyter.widget-view+json": {
       "model_id": "1dd5a8608c734affb70f60ed0c790d3b",
       "version_major": 2,
       "version_minor": 0
      },
      "text/plain": [
       "  0%|          | 0/25 [00:00<?, ?it/s]"
      ]
     },
     "metadata": {},
     "output_type": "display_data"
    },
    {
     "name": "stdout",
     "output_type": "stream",
     "text": [
      "epoch = 24, train_loss = 0.02545, val_loss = 0.14593, train_accuracy = 0.80818, val_accuracy = 0.96587\n",
      "     Fold  Epoch  Train Loss  Val Loss  Train Acc   Val Acc  Test Acc\n",
      "195   4.0   24.0    0.025452  0.145932   0.808177  0.965866       0.0\n"
     ]
    },
    {
     "data": {
      "application/vnd.jupyter.widget-view+json": {
       "model_id": "2b602271263e47ebb15b3e3030e8769b",
       "version_major": 2,
       "version_minor": 0
      },
      "text/plain": [
       "  0%|          | 0/223 [00:00<?, ?it/s]"
      ]
     },
     "metadata": {},
     "output_type": "display_data"
    },
    {
     "data": {
      "application/vnd.jupyter.widget-view+json": {
       "model_id": "2b29373afe974e668ad45366e02203f4",
       "version_major": 2,
       "version_minor": 0
      },
      "text/plain": [
       "  0%|          | 0/25 [00:00<?, ?it/s]"
      ]
     },
     "metadata": {},
     "output_type": "display_data"
    },
    {
     "name": "stdout",
     "output_type": "stream",
     "text": [
      "epoch = 25, train_loss = 0.03736, val_loss = 0.19197, train_accuracy = 0.80600, val_accuracy = 0.95828\n",
      "     Fold  Epoch  Train Loss  Val Loss  Train Acc   Val Acc  Test Acc\n",
      "196   4.0   25.0    0.037356  0.191973   0.806001  0.958281       0.0\n"
     ]
    },
    {
     "data": {
      "application/vnd.jupyter.widget-view+json": {
       "model_id": "6fbc4a8c817442ba91fc126db754d1f0",
       "version_major": 2,
       "version_minor": 0
      },
      "text/plain": [
       "  0%|          | 0/223 [00:00<?, ?it/s]"
      ]
     },
     "metadata": {},
     "output_type": "display_data"
    },
    {
     "data": {
      "application/vnd.jupyter.widget-view+json": {
       "model_id": "11f0d458165f434492b3fa80c4bae593",
       "version_major": 2,
       "version_minor": 0
      },
      "text/plain": [
       "  0%|          | 0/25 [00:00<?, ?it/s]"
      ]
     },
     "metadata": {},
     "output_type": "display_data"
    },
    {
     "name": "stdout",
     "output_type": "stream",
     "text": [
      "epoch = 26, train_loss = 0.01438, val_loss = 0.11889, train_accuracy = 0.81115, val_accuracy = 0.97472\n",
      "     Fold  Epoch  Train Loss  Val Loss  Train Acc   Val Acc  Test Acc\n",
      "197   4.0   26.0    0.014382  0.118894   0.811154  0.974716       0.0\n"
     ]
    },
    {
     "data": {
      "application/vnd.jupyter.widget-view+json": {
       "model_id": "d4ef92cd5680462eb5a3b4e393ffbf24",
       "version_major": 2,
       "version_minor": 0
      },
      "text/plain": [
       "  0%|          | 0/223 [00:00<?, ?it/s]"
      ]
     },
     "metadata": {},
     "output_type": "display_data"
    },
    {
     "data": {
      "application/vnd.jupyter.widget-view+json": {
       "model_id": "f2e333ce27a445e6b008612ad07ad863",
       "version_major": 2,
       "version_minor": 0
      },
      "text/plain": [
       "  0%|          | 0/25 [00:00<?, ?it/s]"
      ]
     },
     "metadata": {},
     "output_type": "display_data"
    },
    {
     "name": "stdout",
     "output_type": "stream",
     "text": [
      "epoch = 27, train_loss = 0.01587, val_loss = 0.12971, train_accuracy = 0.81115, val_accuracy = 0.96966\n",
      "     Fold  Epoch  Train Loss  Val Loss  Train Acc   Val Acc  Test Acc\n",
      "198   4.0   27.0    0.015873  0.129711   0.811154  0.969659       0.0\n"
     ]
    },
    {
     "data": {
      "application/vnd.jupyter.widget-view+json": {
       "model_id": "3c13064fd50d478ba26c4d907a2254fe",
       "version_major": 2,
       "version_minor": 0
      },
      "text/plain": [
       "  0%|          | 0/223 [00:00<?, ?it/s]"
      ]
     },
     "metadata": {},
     "output_type": "display_data"
    },
    {
     "data": {
      "application/vnd.jupyter.widget-view+json": {
       "model_id": "ff5a859cf35d497399aef4334b8814b4",
       "version_major": 2,
       "version_minor": 0
      },
      "text/plain": [
       "  0%|          | 0/25 [00:00<?, ?it/s]"
      ]
     },
     "metadata": {},
     "output_type": "display_data"
    },
    {
     "name": "stdout",
     "output_type": "stream",
     "text": [
      "epoch = 28, train_loss = 0.02149, val_loss = 0.13245, train_accuracy = 0.81058, val_accuracy = 0.97598\n",
      "     Fold  Epoch  Train Loss  Val Loss  Train Acc  Val Acc  Test Acc\n",
      "199   4.0   28.0    0.021495  0.132445   0.810582  0.97598       0.0\n"
     ]
    },
    {
     "data": {
      "application/vnd.jupyter.widget-view+json": {
       "model_id": "ba85a56dc3c0412caa8aa5ce4d82af83",
       "version_major": 2,
       "version_minor": 0
      },
      "text/plain": [
       "  0%|          | 0/223 [00:00<?, ?it/s]"
      ]
     },
     "metadata": {},
     "output_type": "display_data"
    },
    {
     "data": {
      "application/vnd.jupyter.widget-view+json": {
       "model_id": "5bed99448c2b471d8d30fcdce3251739",
       "version_major": 2,
       "version_minor": 0
      },
      "text/plain": [
       "  0%|          | 0/25 [00:00<?, ?it/s]"
      ]
     },
     "metadata": {},
     "output_type": "display_data"
    },
    {
     "name": "stdout",
     "output_type": "stream",
     "text": [
      "epoch = 29, train_loss = 0.00683, val_loss = 0.11804, train_accuracy = 0.81356, val_accuracy = 0.98357\n",
      "Validation Accuracy improved from 0.98104 to 0.98357. Saving checkpoint.\n",
      "     Fold  Epoch  Train Loss  Val Loss  Train Acc   Val Acc  Test Acc\n",
      "200   4.0   29.0    0.006828  0.118036   0.813559  0.983565       0.0\n"
     ]
    },
    {
     "data": {
      "application/vnd.jupyter.widget-view+json": {
       "model_id": "07d8bd1b773a4a48bc9880060f7be242",
       "version_major": 2,
       "version_minor": 0
      },
      "text/plain": [
       "  0%|          | 0/223 [00:00<?, ?it/s]"
      ]
     },
     "metadata": {},
     "output_type": "display_data"
    },
    {
     "data": {
      "application/vnd.jupyter.widget-view+json": {
       "model_id": "31c3814ad9e640cea79725c97656f04e",
       "version_major": 2,
       "version_minor": 0
      },
      "text/plain": [
       "  0%|          | 0/25 [00:00<?, ?it/s]"
      ]
     },
     "metadata": {},
     "output_type": "display_data"
    },
    {
     "name": "stdout",
     "output_type": "stream",
     "text": [
      "epoch = 30, train_loss = 0.00983, val_loss = 0.12488, train_accuracy = 0.81276, val_accuracy = 0.97092\n",
      "     Fold  Epoch  Train Loss  Val Loss  Train Acc   Val Acc  Test Acc\n",
      "201   4.0   30.0    0.009828  0.124884   0.812758  0.970923       0.0\n"
     ]
    },
    {
     "data": {
      "application/vnd.jupyter.widget-view+json": {
       "model_id": "f67075d515a44b3197ec0c44b0874e0e",
       "version_major": 2,
       "version_minor": 0
      },
      "text/plain": [
       "  0%|          | 0/223 [00:00<?, ?it/s]"
      ]
     },
     "metadata": {},
     "output_type": "display_data"
    },
    {
     "data": {
      "application/vnd.jupyter.widget-view+json": {
       "model_id": "7d4ad2a5c0cc4261b720b7ac5abf539d",
       "version_major": 2,
       "version_minor": 0
      },
      "text/plain": [
       "  0%|          | 0/25 [00:00<?, ?it/s]"
      ]
     },
     "metadata": {},
     "output_type": "display_data"
    },
    {
     "name": "stdout",
     "output_type": "stream",
     "text": [
      "epoch = 31, train_loss = 0.03384, val_loss = 0.13379, train_accuracy = 0.80669, val_accuracy = 0.96334\n",
      "     Fold  Epoch  Train Loss  Val Loss  Train Acc   Val Acc  Test Acc\n",
      "202   4.0   31.0    0.033836  0.133789   0.806688  0.963338       0.0\n"
     ]
    },
    {
     "data": {
      "application/vnd.jupyter.widget-view+json": {
       "model_id": "6448a3b3476f401a8e08be984dcfbfc0",
       "version_major": 2,
       "version_minor": 0
      },
      "text/plain": [
       "  0%|          | 0/223 [00:00<?, ?it/s]"
      ]
     },
     "metadata": {},
     "output_type": "display_data"
    },
    {
     "data": {
      "application/vnd.jupyter.widget-view+json": {
       "model_id": "d9781404a8ee40a8883c6b85220bfa90",
       "version_major": 2,
       "version_minor": 0
      },
      "text/plain": [
       "  0%|          | 0/25 [00:00<?, ?it/s]"
      ]
     },
     "metadata": {},
     "output_type": "display_data"
    },
    {
     "name": "stdout",
     "output_type": "stream",
     "text": [
      "epoch = 32, train_loss = 0.01314, val_loss = 0.11854, train_accuracy = 0.81173, val_accuracy = 0.97724\n",
      "     Fold  Epoch  Train Loss  Val Loss  Train Acc   Val Acc  Test Acc\n",
      "203   4.0   32.0    0.013138  0.118541   0.811727  0.977244       0.0\n"
     ]
    },
    {
     "data": {
      "application/vnd.jupyter.widget-view+json": {
       "model_id": "edcd44e2190d4e52bc6d53dff86eea0a",
       "version_major": 2,
       "version_minor": 0
      },
      "text/plain": [
       "  0%|          | 0/223 [00:00<?, ?it/s]"
      ]
     },
     "metadata": {},
     "output_type": "display_data"
    },
    {
     "data": {
      "application/vnd.jupyter.widget-view+json": {
       "model_id": "3a76dde26c59434096fbfe995fe8a363",
       "version_major": 2,
       "version_minor": 0
      },
      "text/plain": [
       "  0%|          | 0/25 [00:00<?, ?it/s]"
      ]
     },
     "metadata": {},
     "output_type": "display_data"
    },
    {
     "name": "stdout",
     "output_type": "stream",
     "text": [
      "epoch = 33, train_loss = 0.00764, val_loss = 0.12690, train_accuracy = 0.81322, val_accuracy = 0.97092\n",
      "     Fold  Epoch  Train Loss  Val Loss  Train Acc   Val Acc  Test Acc\n",
      "204   4.0   33.0     0.00764  0.126895   0.813216  0.970923       0.0\n"
     ]
    },
    {
     "data": {
      "application/vnd.jupyter.widget-view+json": {
       "model_id": "88d667c83577406f84533b67dbf264d0",
       "version_major": 2,
       "version_minor": 0
      },
      "text/plain": [
       "  0%|          | 0/223 [00:00<?, ?it/s]"
      ]
     },
     "metadata": {},
     "output_type": "display_data"
    },
    {
     "data": {
      "application/vnd.jupyter.widget-view+json": {
       "model_id": "bf732a93298c40b281492613abd9ee6e",
       "version_major": 2,
       "version_minor": 0
      },
      "text/plain": [
       "  0%|          | 0/25 [00:00<?, ?it/s]"
      ]
     },
     "metadata": {},
     "output_type": "display_data"
    },
    {
     "name": "stdout",
     "output_type": "stream",
     "text": [
      "epoch = 34, train_loss = 0.01981, val_loss = 0.18506, train_accuracy = 0.81047, val_accuracy = 0.96713\n",
      "     Fold  Epoch  Train Loss  Val Loss  Train Acc  Val Acc  Test Acc\n",
      "205   4.0   34.0    0.019808   0.18506   0.810467  0.96713       0.0\n"
     ]
    },
    {
     "data": {
      "application/vnd.jupyter.widget-view+json": {
       "model_id": "1ee19323199248059705b3eb9f17da46",
       "version_major": 2,
       "version_minor": 0
      },
      "text/plain": [
       "  0%|          | 0/223 [00:00<?, ?it/s]"
      ]
     },
     "metadata": {},
     "output_type": "display_data"
    },
    {
     "data": {
      "application/vnd.jupyter.widget-view+json": {
       "model_id": "d4930ff5f0fc43f1a08f98abe076dbb7",
       "version_major": 2,
       "version_minor": 0
      },
      "text/plain": [
       "  0%|          | 0/25 [00:00<?, ?it/s]"
      ]
     },
     "metadata": {},
     "output_type": "display_data"
    },
    {
     "name": "stdout",
     "output_type": "stream",
     "text": [
      "epoch = 35, train_loss = 0.00989, val_loss = 0.15233, train_accuracy = 0.81287, val_accuracy = 0.97345\n",
      "     Fold  Epoch  Train Loss  Val Loss  Train Acc   Val Acc  Test Acc\n",
      "206   4.0   35.0    0.009893   0.15233   0.812872  0.973451       0.0\n"
     ]
    },
    {
     "data": {
      "application/vnd.jupyter.widget-view+json": {
       "model_id": "fece0c5eb5654438a04a9add8f1d7980",
       "version_major": 2,
       "version_minor": 0
      },
      "text/plain": [
       "  0%|          | 0/223 [00:00<?, ?it/s]"
      ]
     },
     "metadata": {},
     "output_type": "display_data"
    },
    {
     "data": {
      "application/vnd.jupyter.widget-view+json": {
       "model_id": "eaa32821281c4c95b34b97298a90a60c",
       "version_major": 2,
       "version_minor": 0
      },
      "text/plain": [
       "  0%|          | 0/25 [00:00<?, ?it/s]"
      ]
     },
     "metadata": {},
     "output_type": "display_data"
    },
    {
     "name": "stdout",
     "output_type": "stream",
     "text": [
      "epoch = 36, train_loss = 0.01249, val_loss = 0.09420, train_accuracy = 0.81276, val_accuracy = 0.97977\n",
      "     Fold  Epoch  Train Loss  Val Loss  Train Acc   Val Acc  Test Acc\n",
      "207   4.0   36.0    0.012489  0.094203   0.812758  0.979772       0.0\n"
     ]
    },
    {
     "data": {
      "application/vnd.jupyter.widget-view+json": {
       "model_id": "b3c4a5ecec514c1aa0ac283d27223e61",
       "version_major": 2,
       "version_minor": 0
      },
      "text/plain": [
       "  0%|          | 0/223 [00:00<?, ?it/s]"
      ]
     },
     "metadata": {},
     "output_type": "display_data"
    },
    {
     "data": {
      "application/vnd.jupyter.widget-view+json": {
       "model_id": "ae8f3e13788f4cfa9dc0c21cd4edbf7b",
       "version_major": 2,
       "version_minor": 0
      },
      "text/plain": [
       "  0%|          | 0/25 [00:00<?, ?it/s]"
      ]
     },
     "metadata": {},
     "output_type": "display_data"
    },
    {
     "name": "stdout",
     "output_type": "stream",
     "text": [
      "epoch = 37, train_loss = 0.01217, val_loss = 0.12412, train_accuracy = 0.81161, val_accuracy = 0.97219\n",
      "     Fold  Epoch  Train Loss  Val Loss  Train Acc   Val Acc  Test Acc\n",
      "208   4.0   37.0    0.012173  0.124121   0.811612  0.972187       0.0\n"
     ]
    },
    {
     "data": {
      "application/vnd.jupyter.widget-view+json": {
       "model_id": "280f5feb787f44c9973c68fe467859a8",
       "version_major": 2,
       "version_minor": 0
      },
      "text/plain": [
       "  0%|          | 0/223 [00:00<?, ?it/s]"
      ]
     },
     "metadata": {},
     "output_type": "display_data"
    },
    {
     "data": {
      "application/vnd.jupyter.widget-view+json": {
       "model_id": "9617ba69cd734045aaa4548ca1f43fd6",
       "version_major": 2,
       "version_minor": 0
      },
      "text/plain": [
       "  0%|          | 0/25 [00:00<?, ?it/s]"
      ]
     },
     "metadata": {},
     "output_type": "display_data"
    },
    {
     "name": "stdout",
     "output_type": "stream",
     "text": [
      "epoch = 38, train_loss = 0.02794, val_loss = 0.11898, train_accuracy = 0.80841, val_accuracy = 0.97472\n",
      "     Fold  Epoch  Train Loss  Val Loss  Train Acc   Val Acc  Test Acc\n",
      "209   4.0   38.0    0.027938  0.118983   0.808406  0.974716       0.0\n"
     ]
    },
    {
     "data": {
      "application/vnd.jupyter.widget-view+json": {
       "model_id": "4af4a4777601404387eb7b467e7aac92",
       "version_major": 2,
       "version_minor": 0
      },
      "text/plain": [
       "  0%|          | 0/223 [00:00<?, ?it/s]"
      ]
     },
     "metadata": {},
     "output_type": "display_data"
    },
    {
     "data": {
      "application/vnd.jupyter.widget-view+json": {
       "model_id": "6de8f7fa9d174ab89e370b5692f8aee0",
       "version_major": 2,
       "version_minor": 0
      },
      "text/plain": [
       "  0%|          | 0/25 [00:00<?, ?it/s]"
      ]
     },
     "metadata": {},
     "output_type": "display_data"
    },
    {
     "name": "stdout",
     "output_type": "stream",
     "text": [
      "epoch = 39, train_loss = 0.01122, val_loss = 0.11335, train_accuracy = 0.81241, val_accuracy = 0.97977\n",
      "     Fold  Epoch  Train Loss  Val Loss  Train Acc   Val Acc  Test Acc\n",
      "210   4.0   39.0    0.011216  0.113354   0.812414  0.979772       0.0\n"
     ]
    },
    {
     "data": {
      "application/vnd.jupyter.widget-view+json": {
       "model_id": "a6fd47c9f3dc45ad815f090cc4bcbaf9",
       "version_major": 2,
       "version_minor": 0
      },
      "text/plain": [
       "  0%|          | 0/223 [00:00<?, ?it/s]"
      ]
     },
     "metadata": {},
     "output_type": "display_data"
    },
    {
     "data": {
      "application/vnd.jupyter.widget-view+json": {
       "model_id": "153ed476d3ca4aad9fa44409b0e90298",
       "version_major": 2,
       "version_minor": 0
      },
      "text/plain": [
       "  0%|          | 0/25 [00:00<?, ?it/s]"
      ]
     },
     "metadata": {},
     "output_type": "display_data"
    },
    {
     "name": "stdout",
     "output_type": "stream",
     "text": [
      "epoch = 40, train_loss = 0.01558, val_loss = 0.17027, train_accuracy = 0.81127, val_accuracy = 0.96587\n",
      "     Fold  Epoch  Train Loss  Val Loss  Train Acc   Val Acc  Test Acc\n",
      "211   4.0   40.0    0.015579  0.170271   0.811269  0.965866       0.0\n"
     ]
    },
    {
     "data": {
      "application/vnd.jupyter.widget-view+json": {
       "model_id": "dbbf9e51f9dc4d048192975ada1352ec",
       "version_major": 2,
       "version_minor": 0
      },
      "text/plain": [
       "  0%|          | 0/223 [00:00<?, ?it/s]"
      ]
     },
     "metadata": {},
     "output_type": "display_data"
    },
    {
     "data": {
      "application/vnd.jupyter.widget-view+json": {
       "model_id": "26bd36374c0b406b8f63d9da7b6fba8c",
       "version_major": 2,
       "version_minor": 0
      },
      "text/plain": [
       "  0%|          | 0/25 [00:00<?, ?it/s]"
      ]
     },
     "metadata": {},
     "output_type": "display_data"
    },
    {
     "name": "stdout",
     "output_type": "stream",
     "text": [
      "epoch = 41, train_loss = 0.03020, val_loss = 0.12201, train_accuracy = 0.80783, val_accuracy = 0.97345\n",
      "     Fold  Epoch  Train Loss  Val Loss  Train Acc   Val Acc  Test Acc\n",
      "212   4.0   41.0    0.030197  0.122008   0.807833  0.973451       0.0\n"
     ]
    },
    {
     "data": {
      "application/vnd.jupyter.widget-view+json": {
       "model_id": "d87a7b54d45f45ad9244d836e1c1b005",
       "version_major": 2,
       "version_minor": 0
      },
      "text/plain": [
       "  0%|          | 0/223 [00:00<?, ?it/s]"
      ]
     },
     "metadata": {},
     "output_type": "display_data"
    },
    {
     "data": {
      "application/vnd.jupyter.widget-view+json": {
       "model_id": "b022ea29cdf342a1a1869d4d8b547a6d",
       "version_major": 2,
       "version_minor": 0
      },
      "text/plain": [
       "  0%|          | 0/25 [00:00<?, ?it/s]"
      ]
     },
     "metadata": {},
     "output_type": "display_data"
    },
    {
     "name": "stdout",
     "output_type": "stream",
     "text": [
      "epoch = 42, train_loss = 0.00543, val_loss = 0.13216, train_accuracy = 0.81390, val_accuracy = 0.97472\n",
      "     Fold  Epoch  Train Loss  Val Loss  Train Acc   Val Acc  Test Acc\n",
      "213   4.0   42.0    0.005433  0.132164   0.813903  0.974716       0.0\n"
     ]
    },
    {
     "data": {
      "application/vnd.jupyter.widget-view+json": {
       "model_id": "bee1c001681b47ddb8965f9843d761db",
       "version_major": 2,
       "version_minor": 0
      },
      "text/plain": [
       "  0%|          | 0/223 [00:00<?, ?it/s]"
      ]
     },
     "metadata": {},
     "output_type": "display_data"
    },
    {
     "data": {
      "application/vnd.jupyter.widget-view+json": {
       "model_id": "b182cf00bb3442d78874b3d66c6f8963",
       "version_major": 2,
       "version_minor": 0
      },
      "text/plain": [
       "  0%|          | 0/25 [00:00<?, ?it/s]"
      ]
     },
     "metadata": {},
     "output_type": "display_data"
    },
    {
     "name": "stdout",
     "output_type": "stream",
     "text": [
      "epoch = 43, train_loss = 0.00455, val_loss = 0.14602, train_accuracy = 0.81402, val_accuracy = 0.97345\n",
      "     Fold  Epoch  Train Loss  Val Loss  Train Acc   Val Acc  Test Acc\n",
      "214   4.0   43.0    0.004555  0.146016   0.814017  0.973451       0.0\n"
     ]
    },
    {
     "data": {
      "application/vnd.jupyter.widget-view+json": {
       "model_id": "77b7a3cce0394908a447ea6b3b8f2941",
       "version_major": 2,
       "version_minor": 0
      },
      "text/plain": [
       "  0%|          | 0/223 [00:00<?, ?it/s]"
      ]
     },
     "metadata": {},
     "output_type": "display_data"
    },
    {
     "data": {
      "application/vnd.jupyter.widget-view+json": {
       "model_id": "39bf96eb128b4e0b806a7d0b86b7e9e9",
       "version_major": 2,
       "version_minor": 0
      },
      "text/plain": [
       "  0%|          | 0/25 [00:00<?, ?it/s]"
      ]
     },
     "metadata": {},
     "output_type": "display_data"
    },
    {
     "name": "stdout",
     "output_type": "stream",
     "text": [
      "epoch = 44, train_loss = 0.02103, val_loss = 0.11670, train_accuracy = 0.81058, val_accuracy = 0.97724\n",
      "     Fold  Epoch  Train Loss  Val Loss  Train Acc   Val Acc  Test Acc\n",
      "215   4.0   44.0    0.021033  0.116702   0.810582  0.977244       0.0\n"
     ]
    },
    {
     "data": {
      "application/vnd.jupyter.widget-view+json": {
       "model_id": "6a0352412a804926873aa64b7ca6e2f8",
       "version_major": 2,
       "version_minor": 0
      },
      "text/plain": [
       "  0%|          | 0/223 [00:00<?, ?it/s]"
      ]
     },
     "metadata": {},
     "output_type": "display_data"
    },
    {
     "data": {
      "application/vnd.jupyter.widget-view+json": {
       "model_id": "4e8170de1b7645ec87a26fae6e5261c9",
       "version_major": 2,
       "version_minor": 0
      },
      "text/plain": [
       "  0%|          | 0/25 [00:00<?, ?it/s]"
      ]
     },
     "metadata": {},
     "output_type": "display_data"
    },
    {
     "name": "stdout",
     "output_type": "stream",
     "text": [
      "epoch = 45, train_loss = 0.01539, val_loss = 0.14620, train_accuracy = 0.81207, val_accuracy = 0.97472\n",
      "     Fold  Epoch  Train Loss  Val Loss  Train Acc   Val Acc  Test Acc\n",
      "216   4.0   45.0    0.015385  0.146198   0.812071  0.974716       0.0\n"
     ]
    },
    {
     "data": {
      "application/vnd.jupyter.widget-view+json": {
       "model_id": "e48c59131cbc481bb29a4d62778a2bfd",
       "version_major": 2,
       "version_minor": 0
      },
      "text/plain": [
       "  0%|          | 0/223 [00:00<?, ?it/s]"
      ]
     },
     "metadata": {},
     "output_type": "display_data"
    },
    {
     "data": {
      "application/vnd.jupyter.widget-view+json": {
       "model_id": "20837d2f6a7d4482a8006c46cf2fdfc4",
       "version_major": 2,
       "version_minor": 0
      },
      "text/plain": [
       "  0%|          | 0/25 [00:00<?, ?it/s]"
      ]
     },
     "metadata": {},
     "output_type": "display_data"
    },
    {
     "name": "stdout",
     "output_type": "stream",
     "text": [
      "epoch = 46, train_loss = 0.01063, val_loss = 0.16165, train_accuracy = 0.81241, val_accuracy = 0.97472\n",
      "     Fold  Epoch  Train Loss  Val Loss  Train Acc   Val Acc  Test Acc\n",
      "217   4.0   46.0    0.010628  0.161645   0.812414  0.974716       0.0\n"
     ]
    },
    {
     "data": {
      "application/vnd.jupyter.widget-view+json": {
       "model_id": "fca0aaaa489249588c7aa3742e1ed33a",
       "version_major": 2,
       "version_minor": 0
      },
      "text/plain": [
       "  0%|          | 0/223 [00:00<?, ?it/s]"
      ]
     },
     "metadata": {},
     "output_type": "display_data"
    },
    {
     "data": {
      "application/vnd.jupyter.widget-view+json": {
       "model_id": "78a4c42cedba4c6f94e4b079f947be19",
       "version_major": 2,
       "version_minor": 0
      },
      "text/plain": [
       "  0%|          | 0/25 [00:00<?, ?it/s]"
      ]
     },
     "metadata": {},
     "output_type": "display_data"
    },
    {
     "name": "stdout",
     "output_type": "stream",
     "text": [
      "epoch = 47, train_loss = 0.00452, val_loss = 0.12351, train_accuracy = 0.81379, val_accuracy = 0.97977\n",
      "     Fold  Epoch  Train Loss  Val Loss  Train Acc   Val Acc  Test Acc\n",
      "218   4.0   47.0    0.004525  0.123506   0.813788  0.979772       0.0\n"
     ]
    },
    {
     "data": {
      "application/vnd.jupyter.widget-view+json": {
       "model_id": "f1879904976c4a48a044c6fa003a8924",
       "version_major": 2,
       "version_minor": 0
      },
      "text/plain": [
       "  0%|          | 0/223 [00:00<?, ?it/s]"
      ]
     },
     "metadata": {},
     "output_type": "display_data"
    },
    {
     "data": {
      "application/vnd.jupyter.widget-view+json": {
       "model_id": "269dd30db3ae45749490992bdd8e72f4",
       "version_major": 2,
       "version_minor": 0
      },
      "text/plain": [
       "  0%|          | 0/25 [00:00<?, ?it/s]"
      ]
     },
     "metadata": {},
     "output_type": "display_data"
    },
    {
     "name": "stdout",
     "output_type": "stream",
     "text": [
      "epoch = 48, train_loss = 0.02607, val_loss = 0.17852, train_accuracy = 0.80921, val_accuracy = 0.96713\n",
      "     Fold  Epoch  Train Loss  Val Loss  Train Acc  Val Acc  Test Acc\n",
      "219   4.0   48.0    0.026067  0.178522   0.809208  0.96713       0.0\n"
     ]
    },
    {
     "data": {
      "application/vnd.jupyter.widget-view+json": {
       "model_id": "e604379bdc4040df929a1d2599fcf2ee",
       "version_major": 2,
       "version_minor": 0
      },
      "text/plain": [
       "  0%|          | 0/223 [00:00<?, ?it/s]"
      ]
     },
     "metadata": {},
     "output_type": "display_data"
    },
    {
     "data": {
      "application/vnd.jupyter.widget-view+json": {
       "model_id": "222a6975319442d6b4a8ed95bb8d6d31",
       "version_major": 2,
       "version_minor": 0
      },
      "text/plain": [
       "  0%|          | 0/25 [00:00<?, ?it/s]"
      ]
     },
     "metadata": {},
     "output_type": "display_data"
    },
    {
     "name": "stdout",
     "output_type": "stream",
     "text": [
      "epoch = 49, train_loss = 0.00886, val_loss = 0.10368, train_accuracy = 0.81276, val_accuracy = 0.97851\n",
      "     Fold  Epoch  Train Loss  Val Loss  Train Acc   Val Acc  Test Acc\n",
      "220   4.0   49.0    0.008861  0.103678   0.812758  0.978508       0.0\n"
     ]
    },
    {
     "data": {
      "application/vnd.jupyter.widget-view+json": {
       "model_id": "9a830af0cce545639ad8a401072e2311",
       "version_major": 2,
       "version_minor": 0
      },
      "text/plain": [
       "  0%|          | 0/26 [00:00<?, ?it/s]"
      ]
     },
     "metadata": {},
     "output_type": "display_data"
    },
    {
     "name": "stdout",
     "output_type": "stream",
     "text": [
      "Test accuracy for fold: 5 is: 82.13851761846902\n",
      "Training set: 7016, Validation set: 780, Test Set: 936\n",
      "Folds of training set: {1, 2, 3, 4, 6, 7, 8, 9, 10}\n",
      "Folds of validation set: {1, 2, 3, 4, 6, 7, 8, 9, 10}\n",
      "Folds of test set: {5}\n",
      "Classfying 10 classes.\n",
      "Using single GPU or CPU\n"
     ]
    },
    {
     "data": {
      "application/vnd.jupyter.widget-view+json": {
       "model_id": "ba77aef02a0d4cefb843d8c492f13f45",
       "version_major": 2,
       "version_minor": 0
      },
      "text/plain": [
       "  0%|          | 0/220 [00:00<?, ?it/s]"
      ]
     },
     "metadata": {},
     "output_type": "display_data"
    },
    {
     "data": {
      "application/vnd.jupyter.widget-view+json": {
       "model_id": "9f95e12b1794479a818e199d5e2df03b",
       "version_major": 2,
       "version_minor": 0
      },
      "text/plain": [
       "  0%|          | 0/25 [00:00<?, ?it/s]"
      ]
     },
     "metadata": {},
     "output_type": "display_data"
    },
    {
     "name": "stdout",
     "output_type": "stream",
     "text": [
      "Validation loss has improved from 10000 to 0.25561114236712457\n",
      "epoch = 0, train_loss = 0.77942, val_loss = 0.25561, train_accuracy = 0.61635, val_accuracy = 0.91795\n",
      "Validation Accuracy improved from 0.00000 to 0.91795. Saving checkpoint.\n",
      "     Fold  Epoch  Train Loss  Val Loss  Train Acc   Val Acc  Test Acc\n",
      "221   5.0    0.0    0.779416  0.255611   0.616354  0.917949       0.0\n"
     ]
    },
    {
     "data": {
      "application/vnd.jupyter.widget-view+json": {
       "model_id": "1ecafe5481784587bfc8aff5394630ca",
       "version_major": 2,
       "version_minor": 0
      },
      "text/plain": [
       "  0%|          | 0/220 [00:00<?, ?it/s]"
      ]
     },
     "metadata": {},
     "output_type": "display_data"
    },
    {
     "data": {
      "application/vnd.jupyter.widget-view+json": {
       "model_id": "8de78a12dcab4f0a82940d39ae752de5",
       "version_major": 2,
       "version_minor": 0
      },
      "text/plain": [
       "  0%|          | 0/25 [00:00<?, ?it/s]"
      ]
     },
     "metadata": {},
     "output_type": "display_data"
    },
    {
     "name": "stdout",
     "output_type": "stream",
     "text": [
      "Validation loss has improved from 0.25561114236712457 to 0.13992654375731944\n",
      "epoch = 1, train_loss = 0.19251, val_loss = 0.13993, train_accuracy = 0.75687, val_accuracy = 0.95513\n",
      "Validation Accuracy improved from 0.91795 to 0.95513. Saving checkpoint.\n",
      "     Fold  Epoch  Train Loss  Val Loss  Train Acc   Val Acc  Test Acc\n",
      "222   5.0    1.0    0.192514  0.139927   0.756871  0.955128       0.0\n"
     ]
    },
    {
     "data": {
      "application/vnd.jupyter.widget-view+json": {
       "model_id": "e80b367bf34340b5952dc1026af7e60a",
       "version_major": 2,
       "version_minor": 0
      },
      "text/plain": [
       "  0%|          | 0/220 [00:00<?, ?it/s]"
      ]
     },
     "metadata": {},
     "output_type": "display_data"
    },
    {
     "data": {
      "application/vnd.jupyter.widget-view+json": {
       "model_id": "c66f09f0cab34da1afbde37d8f27eb17",
       "version_major": 2,
       "version_minor": 0
      },
      "text/plain": [
       "  0%|          | 0/25 [00:00<?, ?it/s]"
      ]
     },
     "metadata": {},
     "output_type": "display_data"
    },
    {
     "name": "stdout",
     "output_type": "stream",
     "text": [
      "Validation loss has improved from 0.13992654375731944 to 0.09455763246864081\n",
      "epoch = 2, train_loss = 0.10339, val_loss = 0.09456, train_accuracy = 0.77783, val_accuracy = 0.96923\n",
      "Validation Accuracy improved from 0.95513 to 0.96923. Saving checkpoint.\n",
      "     Fold  Epoch  Train Loss  Val Loss  Train Acc   Val Acc  Test Acc\n",
      "223   5.0    2.0    0.103388  0.094558   0.777829  0.969231       0.0\n"
     ]
    },
    {
     "data": {
      "application/vnd.jupyter.widget-view+json": {
       "model_id": "d4b1518e9bc64af4bf317daf3f43d389",
       "version_major": 2,
       "version_minor": 0
      },
      "text/plain": [
       "  0%|          | 0/220 [00:00<?, ?it/s]"
      ]
     },
     "metadata": {},
     "output_type": "display_data"
    },
    {
     "data": {
      "application/vnd.jupyter.widget-view+json": {
       "model_id": "b7bef2010fc1485d9e10587ce32f3476",
       "version_major": 2,
       "version_minor": 0
      },
      "text/plain": [
       "  0%|          | 0/25 [00:00<?, ?it/s]"
      ]
     },
     "metadata": {},
     "output_type": "display_data"
    },
    {
     "name": "stdout",
     "output_type": "stream",
     "text": [
      "Validation loss has improved from 0.09455763246864081 to 0.06873918007593602\n",
      "epoch = 3, train_loss = 0.05738, val_loss = 0.06874, train_accuracy = 0.78814, val_accuracy = 0.97564\n",
      "Validation Accuracy improved from 0.96923 to 0.97564. Saving checkpoint.\n",
      "     Fold  Epoch  Train Loss  Val Loss  Train Acc   Val Acc  Test Acc\n",
      "224   5.0    3.0    0.057383  0.068739   0.788136  0.975641       0.0\n"
     ]
    },
    {
     "data": {
      "application/vnd.jupyter.widget-view+json": {
       "model_id": "034c1bf1bf7145899f352b175a3a5e93",
       "version_major": 2,
       "version_minor": 0
      },
      "text/plain": [
       "  0%|          | 0/220 [00:00<?, ?it/s]"
      ]
     },
     "metadata": {},
     "output_type": "display_data"
    },
    {
     "data": {
      "application/vnd.jupyter.widget-view+json": {
       "model_id": "d5b82d90519349459bdffda6e5e25469",
       "version_major": 2,
       "version_minor": 0
      },
      "text/plain": [
       "  0%|          | 0/25 [00:00<?, ?it/s]"
      ]
     },
     "metadata": {},
     "output_type": "display_data"
    },
    {
     "name": "stdout",
     "output_type": "stream",
     "text": [
      "epoch = 4, train_loss = 0.04019, val_loss = 0.11736, train_accuracy = 0.79375, val_accuracy = 0.95897\n",
      "     Fold  Epoch  Train Loss  Val Loss  Train Acc   Val Acc  Test Acc\n",
      "225   5.0    4.0    0.040194  0.117355   0.793747  0.958974       0.0\n"
     ]
    },
    {
     "data": {
      "application/vnd.jupyter.widget-view+json": {
       "model_id": "cae4cb6dfeed4f2e911da1f08bf8f0f9",
       "version_major": 2,
       "version_minor": 0
      },
      "text/plain": [
       "  0%|          | 0/220 [00:00<?, ?it/s]"
      ]
     },
     "metadata": {},
     "output_type": "display_data"
    },
    {
     "data": {
      "application/vnd.jupyter.widget-view+json": {
       "model_id": "76e144a19c4b4a54830d866c1d922487",
       "version_major": 2,
       "version_minor": 0
      },
      "text/plain": [
       "  0%|          | 0/25 [00:00<?, ?it/s]"
      ]
     },
     "metadata": {},
     "output_type": "display_data"
    },
    {
     "name": "stdout",
     "output_type": "stream",
     "text": [
      "epoch = 5, train_loss = 0.06662, val_loss = 0.09056, train_accuracy = 0.78607, val_accuracy = 0.97051\n",
      "     Fold  Epoch  Train Loss  Val Loss  Train Acc   Val Acc  Test Acc\n",
      "226   5.0    5.0    0.066625  0.090559   0.786074  0.970513       0.0\n"
     ]
    },
    {
     "data": {
      "application/vnd.jupyter.widget-view+json": {
       "model_id": "63715166067e4263a3bec305365d9bfe",
       "version_major": 2,
       "version_minor": 0
      },
      "text/plain": [
       "  0%|          | 0/220 [00:00<?, ?it/s]"
      ]
     },
     "metadata": {},
     "output_type": "display_data"
    },
    {
     "data": {
      "application/vnd.jupyter.widget-view+json": {
       "model_id": "40313cc2bbbe4e3982a7f6e056f7d6a0",
       "version_major": 2,
       "version_minor": 0
      },
      "text/plain": [
       "  0%|          | 0/25 [00:00<?, ?it/s]"
      ]
     },
     "metadata": {},
     "output_type": "display_data"
    },
    {
     "name": "stdout",
     "output_type": "stream",
     "text": [
      "epoch = 6, train_loss = 0.04417, val_loss = 0.12950, train_accuracy = 0.79111, val_accuracy = 0.96154\n",
      "     Fold  Epoch  Train Loss  Val Loss  Train Acc   Val Acc  Test Acc\n",
      "227   5.0    6.0    0.044171  0.129496   0.791113  0.961538       0.0\n"
     ]
    },
    {
     "data": {
      "application/vnd.jupyter.widget-view+json": {
       "model_id": "bdf74312f00f4245829d1279709054b4",
       "version_major": 2,
       "version_minor": 0
      },
      "text/plain": [
       "  0%|          | 0/220 [00:00<?, ?it/s]"
      ]
     },
     "metadata": {},
     "output_type": "display_data"
    },
    {
     "data": {
      "application/vnd.jupyter.widget-view+json": {
       "model_id": "feaf5972d1c847e2b5ba7b40a8484bc9",
       "version_major": 2,
       "version_minor": 0
      },
      "text/plain": [
       "  0%|          | 0/25 [00:00<?, ?it/s]"
      ]
     },
     "metadata": {},
     "output_type": "display_data"
    },
    {
     "name": "stdout",
     "output_type": "stream",
     "text": [
      "epoch = 7, train_loss = 0.04170, val_loss = 0.08889, train_accuracy = 0.79203, val_accuracy = 0.97436\n",
      "     Fold  Epoch  Train Loss  Val Loss  Train Acc   Val Acc  Test Acc\n",
      "228   5.0    7.0    0.041703  0.088886   0.792029  0.974359       0.0\n"
     ]
    },
    {
     "data": {
      "application/vnd.jupyter.widget-view+json": {
       "model_id": "09fe74ca88a343e0ba38b64566b4c3a2",
       "version_major": 2,
       "version_minor": 0
      },
      "text/plain": [
       "  0%|          | 0/220 [00:00<?, ?it/s]"
      ]
     },
     "metadata": {},
     "output_type": "display_data"
    },
    {
     "data": {
      "application/vnd.jupyter.widget-view+json": {
       "model_id": "64608e48cb1c415d8963c234b8772ed8",
       "version_major": 2,
       "version_minor": 0
      },
      "text/plain": [
       "  0%|          | 0/25 [00:00<?, ?it/s]"
      ]
     },
     "metadata": {},
     "output_type": "display_data"
    },
    {
     "name": "stdout",
     "output_type": "stream",
     "text": [
      "epoch = 8, train_loss = 0.06114, val_loss = 0.07765, train_accuracy = 0.78894, val_accuracy = 0.97692\n",
      "Validation Accuracy improved from 0.97564 to 0.97692. Saving checkpoint.\n",
      "     Fold  Epoch  Train Loss  Val Loss  Train Acc   Val Acc  Test Acc\n",
      "229   5.0    8.0     0.06114  0.077655   0.788937  0.976923       0.0\n"
     ]
    },
    {
     "data": {
      "application/vnd.jupyter.widget-view+json": {
       "model_id": "d2ca90ca5f064d64a3e30274d66fa7ae",
       "version_major": 2,
       "version_minor": 0
      },
      "text/plain": [
       "  0%|          | 0/220 [00:00<?, ?it/s]"
      ]
     },
     "metadata": {},
     "output_type": "display_data"
    },
    {
     "data": {
      "application/vnd.jupyter.widget-view+json": {
       "model_id": "42fd4b1ab6b446d98088abb97343d6bd",
       "version_major": 2,
       "version_minor": 0
      },
      "text/plain": [
       "  0%|          | 0/25 [00:00<?, ?it/s]"
      ]
     },
     "metadata": {},
     "output_type": "display_data"
    },
    {
     "name": "stdout",
     "output_type": "stream",
     "text": [
      "epoch = 9, train_loss = 0.02362, val_loss = 0.10669, train_accuracy = 0.79764, val_accuracy = 0.96410\n",
      "     Fold  Epoch  Train Loss  Val Loss  Train Acc   Val Acc  Test Acc\n",
      "230   5.0    9.0     0.02362  0.106694   0.797641  0.964103       0.0\n"
     ]
    },
    {
     "data": {
      "application/vnd.jupyter.widget-view+json": {
       "model_id": "5728f67577134908826c5bb5f0cf17f1",
       "version_major": 2,
       "version_minor": 0
      },
      "text/plain": [
       "  0%|          | 0/220 [00:00<?, ?it/s]"
      ]
     },
     "metadata": {},
     "output_type": "display_data"
    },
    {
     "data": {
      "application/vnd.jupyter.widget-view+json": {
       "model_id": "0c02c624a0e7487b9ca6b1f711937806",
       "version_major": 2,
       "version_minor": 0
      },
      "text/plain": [
       "  0%|          | 0/25 [00:00<?, ?it/s]"
      ]
     },
     "metadata": {},
     "output_type": "display_data"
    },
    {
     "name": "stdout",
     "output_type": "stream",
     "text": [
      "epoch = 10, train_loss = 0.03292, val_loss = 0.11846, train_accuracy = 0.79512, val_accuracy = 0.96667\n",
      "     Fold  Epoch  Train Loss  Val Loss  Train Acc   Val Acc  Test Acc\n",
      "231   5.0   10.0    0.032921  0.118459   0.795121  0.966667       0.0\n"
     ]
    },
    {
     "data": {
      "application/vnd.jupyter.widget-view+json": {
       "model_id": "fdb93857a2e54b0880fad35462ed707e",
       "version_major": 2,
       "version_minor": 0
      },
      "text/plain": [
       "  0%|          | 0/220 [00:00<?, ?it/s]"
      ]
     },
     "metadata": {},
     "output_type": "display_data"
    },
    {
     "data": {
      "application/vnd.jupyter.widget-view+json": {
       "model_id": "84512745ab0e4fb2b437b9996d7f4ab1",
       "version_major": 2,
       "version_minor": 0
      },
      "text/plain": [
       "  0%|          | 0/25 [00:00<?, ?it/s]"
      ]
     },
     "metadata": {},
     "output_type": "display_data"
    },
    {
     "name": "stdout",
     "output_type": "stream",
     "text": [
      "epoch = 11, train_loss = 0.01308, val_loss = 0.09249, train_accuracy = 0.80027, val_accuracy = 0.97308\n",
      "     Fold  Epoch  Train Loss  Val Loss  Train Acc   Val Acc  Test Acc\n",
      "232   5.0   11.0     0.01308  0.092485   0.800275  0.973077       0.0\n"
     ]
    },
    {
     "data": {
      "application/vnd.jupyter.widget-view+json": {
       "model_id": "d4e676e1d21847fc973410463b61d2fc",
       "version_major": 2,
       "version_minor": 0
      },
      "text/plain": [
       "  0%|          | 0/220 [00:00<?, ?it/s]"
      ]
     },
     "metadata": {},
     "output_type": "display_data"
    },
    {
     "data": {
      "application/vnd.jupyter.widget-view+json": {
       "model_id": "1853cb74c2b040d49d450fabe27e642f",
       "version_major": 2,
       "version_minor": 0
      },
      "text/plain": [
       "  0%|          | 0/25 [00:00<?, ?it/s]"
      ]
     },
     "metadata": {},
     "output_type": "display_data"
    },
    {
     "name": "stdout",
     "output_type": "stream",
     "text": [
      "epoch = 12, train_loss = 0.03038, val_loss = 0.20239, train_accuracy = 0.79569, val_accuracy = 0.95513\n",
      "     Fold  Epoch  Train Loss  Val Loss  Train Acc   Val Acc  Test Acc\n",
      "233   5.0   12.0    0.030385  0.202387   0.795694  0.955128       0.0\n"
     ]
    },
    {
     "data": {
      "application/vnd.jupyter.widget-view+json": {
       "model_id": "3580723149314ef5b3b665d70eb0b2bf",
       "version_major": 2,
       "version_minor": 0
      },
      "text/plain": [
       "  0%|          | 0/220 [00:00<?, ?it/s]"
      ]
     },
     "metadata": {},
     "output_type": "display_data"
    },
    {
     "data": {
      "application/vnd.jupyter.widget-view+json": {
       "model_id": "c730be3af84d4b4bba6aad48416498cf",
       "version_major": 2,
       "version_minor": 0
      },
      "text/plain": [
       "  0%|          | 0/25 [00:00<?, ?it/s]"
      ]
     },
     "metadata": {},
     "output_type": "display_data"
    },
    {
     "name": "stdout",
     "output_type": "stream",
     "text": [
      "epoch = 13, train_loss = 0.03006, val_loss = 0.08070, train_accuracy = 0.79695, val_accuracy = 0.97179\n",
      "     Fold  Epoch  Train Loss  Val Loss  Train Acc   Val Acc  Test Acc\n",
      "234   5.0   13.0    0.030062    0.0807   0.796954  0.971795       0.0\n"
     ]
    },
    {
     "data": {
      "application/vnd.jupyter.widget-view+json": {
       "model_id": "b74428033fa84f7bb30da24e00cabaf0",
       "version_major": 2,
       "version_minor": 0
      },
      "text/plain": [
       "  0%|          | 0/220 [00:00<?, ?it/s]"
      ]
     },
     "metadata": {},
     "output_type": "display_data"
    },
    {
     "data": {
      "application/vnd.jupyter.widget-view+json": {
       "model_id": "e229138c7285433a86af2b488ef0d2b0",
       "version_major": 2,
       "version_minor": 0
      },
      "text/plain": [
       "  0%|          | 0/25 [00:00<?, ?it/s]"
      ]
     },
     "metadata": {},
     "output_type": "display_data"
    },
    {
     "name": "stdout",
     "output_type": "stream",
     "text": [
      "Validation loss has improved from 0.06873918007593602 to 0.0651017616596073\n",
      "epoch = 14, train_loss = 0.02224, val_loss = 0.06510, train_accuracy = 0.79776, val_accuracy = 0.98205\n",
      "Validation Accuracy improved from 0.97692 to 0.98205. Saving checkpoint.\n",
      "     Fold  Epoch  Train Loss  Val Loss  Train Acc   Val Acc  Test Acc\n",
      "235   5.0   14.0     0.02224  0.065102   0.797755  0.982051       0.0\n"
     ]
    },
    {
     "data": {
      "application/vnd.jupyter.widget-view+json": {
       "model_id": "e7eeb343400947c39f3e7b20b4e181b4",
       "version_major": 2,
       "version_minor": 0
      },
      "text/plain": [
       "  0%|          | 0/220 [00:00<?, ?it/s]"
      ]
     },
     "metadata": {},
     "output_type": "display_data"
    },
    {
     "data": {
      "application/vnd.jupyter.widget-view+json": {
       "model_id": "d1267e369a2845a9ba8d6108a76fe124",
       "version_major": 2,
       "version_minor": 0
      },
      "text/plain": [
       "  0%|          | 0/25 [00:00<?, ?it/s]"
      ]
     },
     "metadata": {},
     "output_type": "display_data"
    },
    {
     "name": "stdout",
     "output_type": "stream",
     "text": [
      "epoch = 15, train_loss = 0.03594, val_loss = 0.09652, train_accuracy = 0.79455, val_accuracy = 0.97436\n",
      "     Fold  Epoch  Train Loss  Val Loss  Train Acc   Val Acc  Test Acc\n",
      "236   5.0   15.0    0.035938  0.096517   0.794549  0.974359       0.0\n"
     ]
    },
    {
     "data": {
      "application/vnd.jupyter.widget-view+json": {
       "model_id": "36f9691782ee4e18b0b38e48f773dab9",
       "version_major": 2,
       "version_minor": 0
      },
      "text/plain": [
       "  0%|          | 0/220 [00:00<?, ?it/s]"
      ]
     },
     "metadata": {},
     "output_type": "display_data"
    },
    {
     "data": {
      "application/vnd.jupyter.widget-view+json": {
       "model_id": "2d251ad2036442dd84656067807eeb00",
       "version_major": 2,
       "version_minor": 0
      },
      "text/plain": [
       "  0%|          | 0/25 [00:00<?, ?it/s]"
      ]
     },
     "metadata": {},
     "output_type": "display_data"
    },
    {
     "name": "stdout",
     "output_type": "stream",
     "text": [
      "epoch = 16, train_loss = 0.03423, val_loss = 0.10228, train_accuracy = 0.79569, val_accuracy = 0.97821\n",
      "     Fold  Epoch  Train Loss  Val Loss  Train Acc   Val Acc  Test Acc\n",
      "237   5.0   16.0    0.034231  0.102284   0.795694  0.978205       0.0\n"
     ]
    },
    {
     "data": {
      "application/vnd.jupyter.widget-view+json": {
       "model_id": "248df01e2b944eb58385c053f7f2a4d2",
       "version_major": 2,
       "version_minor": 0
      },
      "text/plain": [
       "  0%|          | 0/220 [00:00<?, ?it/s]"
      ]
     },
     "metadata": {},
     "output_type": "display_data"
    },
    {
     "data": {
      "application/vnd.jupyter.widget-view+json": {
       "model_id": "57c2059108504fa482d978609151289d",
       "version_major": 2,
       "version_minor": 0
      },
      "text/plain": [
       "  0%|          | 0/25 [00:00<?, ?it/s]"
      ]
     },
     "metadata": {},
     "output_type": "display_data"
    },
    {
     "name": "stdout",
     "output_type": "stream",
     "text": [
      "epoch = 17, train_loss = 0.01765, val_loss = 0.11110, train_accuracy = 0.79810, val_accuracy = 0.97308\n",
      "     Fold  Epoch  Train Loss  Val Loss  Train Acc   Val Acc  Test Acc\n",
      "238   5.0   17.0    0.017648  0.111101   0.798099  0.973077       0.0\n"
     ]
    },
    {
     "data": {
      "application/vnd.jupyter.widget-view+json": {
       "model_id": "a69c7830ee6a40708fbffb8988a59bda",
       "version_major": 2,
       "version_minor": 0
      },
      "text/plain": [
       "  0%|          | 0/220 [00:00<?, ?it/s]"
      ]
     },
     "metadata": {},
     "output_type": "display_data"
    },
    {
     "data": {
      "application/vnd.jupyter.widget-view+json": {
       "model_id": "32134b469589469495c9be7b2aa64a58",
       "version_major": 2,
       "version_minor": 0
      },
      "text/plain": [
       "  0%|          | 0/25 [00:00<?, ?it/s]"
      ]
     },
     "metadata": {},
     "output_type": "display_data"
    },
    {
     "name": "stdout",
     "output_type": "stream",
     "text": [
      "epoch = 18, train_loss = 0.01299, val_loss = 0.14377, train_accuracy = 0.79947, val_accuracy = 0.96667\n",
      "     Fold  Epoch  Train Loss  Val Loss  Train Acc   Val Acc  Test Acc\n",
      "239   5.0   18.0    0.012986  0.143769   0.799473  0.966667       0.0\n"
     ]
    },
    {
     "data": {
      "application/vnd.jupyter.widget-view+json": {
       "model_id": "f53258413cf34b95a48567b983e1b823",
       "version_major": 2,
       "version_minor": 0
      },
      "text/plain": [
       "  0%|          | 0/220 [00:00<?, ?it/s]"
      ]
     },
     "metadata": {},
     "output_type": "display_data"
    },
    {
     "data": {
      "application/vnd.jupyter.widget-view+json": {
       "model_id": "fa55cf9aba49498c93a3d5558334c97b",
       "version_major": 2,
       "version_minor": 0
      },
      "text/plain": [
       "  0%|          | 0/25 [00:00<?, ?it/s]"
      ]
     },
     "metadata": {},
     "output_type": "display_data"
    },
    {
     "name": "stdout",
     "output_type": "stream",
     "text": [
      "epoch = 19, train_loss = 0.02803, val_loss = 0.08453, train_accuracy = 0.79650, val_accuracy = 0.97051\n",
      "     Fold  Epoch  Train Loss  Val Loss  Train Acc   Val Acc  Test Acc\n",
      "240   5.0   19.0    0.028033  0.084528   0.796496  0.970513       0.0\n"
     ]
    },
    {
     "data": {
      "application/vnd.jupyter.widget-view+json": {
       "model_id": "1ecf78f3dd2040c7b2c856f3c9afe6d4",
       "version_major": 2,
       "version_minor": 0
      },
      "text/plain": [
       "  0%|          | 0/220 [00:00<?, ?it/s]"
      ]
     },
     "metadata": {},
     "output_type": "display_data"
    },
    {
     "data": {
      "application/vnd.jupyter.widget-view+json": {
       "model_id": "42b70264e93c46a7a5ed46737aa917ba",
       "version_major": 2,
       "version_minor": 0
      },
      "text/plain": [
       "  0%|          | 0/25 [00:00<?, ?it/s]"
      ]
     },
     "metadata": {},
     "output_type": "display_data"
    },
    {
     "name": "stdout",
     "output_type": "stream",
     "text": [
      "epoch = 20, train_loss = 0.01735, val_loss = 0.09814, train_accuracy = 0.79913, val_accuracy = 0.97821\n",
      "     Fold  Epoch  Train Loss  Val Loss  Train Acc   Val Acc  Test Acc\n",
      "241   5.0   20.0    0.017352  0.098143    0.79913  0.978205       0.0\n"
     ]
    },
    {
     "data": {
      "application/vnd.jupyter.widget-view+json": {
       "model_id": "2766bde40bd7466e954293e13d6f9e97",
       "version_major": 2,
       "version_minor": 0
      },
      "text/plain": [
       "  0%|          | 0/220 [00:00<?, ?it/s]"
      ]
     },
     "metadata": {},
     "output_type": "display_data"
    },
    {
     "data": {
      "application/vnd.jupyter.widget-view+json": {
       "model_id": "b106ca1e25984235ab5b7ab414dc0d5b",
       "version_major": 2,
       "version_minor": 0
      },
      "text/plain": [
       "  0%|          | 0/25 [00:00<?, ?it/s]"
      ]
     },
     "metadata": {},
     "output_type": "display_data"
    },
    {
     "name": "stdout",
     "output_type": "stream",
     "text": [
      "epoch = 21, train_loss = 0.02921, val_loss = 0.08482, train_accuracy = 0.79546, val_accuracy = 0.98077\n",
      "     Fold  Epoch  Train Loss  Val Loss  Train Acc   Val Acc  Test Acc\n",
      "242   5.0   21.0    0.029208  0.084817   0.795465  0.980769       0.0\n"
     ]
    },
    {
     "data": {
      "application/vnd.jupyter.widget-view+json": {
       "model_id": "5c773733f3404d9b98b5832d7d032f59",
       "version_major": 2,
       "version_minor": 0
      },
      "text/plain": [
       "  0%|          | 0/220 [00:00<?, ?it/s]"
      ]
     },
     "metadata": {},
     "output_type": "display_data"
    },
    {
     "data": {
      "application/vnd.jupyter.widget-view+json": {
       "model_id": "ee1c2771961f4af3a54b068581d59ed3",
       "version_major": 2,
       "version_minor": 0
      },
      "text/plain": [
       "  0%|          | 0/25 [00:00<?, ?it/s]"
      ]
     },
     "metadata": {},
     "output_type": "display_data"
    },
    {
     "name": "stdout",
     "output_type": "stream",
     "text": [
      "epoch = 22, train_loss = 0.01256, val_loss = 0.07202, train_accuracy = 0.80027, val_accuracy = 0.98077\n",
      "     Fold  Epoch  Train Loss  Val Loss  Train Acc   Val Acc  Test Acc\n",
      "243   5.0   22.0    0.012565  0.072018   0.800275  0.980769       0.0\n"
     ]
    },
    {
     "data": {
      "application/vnd.jupyter.widget-view+json": {
       "model_id": "2ad96c1732584f4aa0e176c1ce74cf29",
       "version_major": 2,
       "version_minor": 0
      },
      "text/plain": [
       "  0%|          | 0/220 [00:00<?, ?it/s]"
      ]
     },
     "metadata": {},
     "output_type": "display_data"
    },
    {
     "data": {
      "application/vnd.jupyter.widget-view+json": {
       "model_id": "022c1dbdca8c45f6afe09539e53b6656",
       "version_major": 2,
       "version_minor": 0
      },
      "text/plain": [
       "  0%|          | 0/25 [00:00<?, ?it/s]"
      ]
     },
     "metadata": {},
     "output_type": "display_data"
    },
    {
     "name": "stdout",
     "output_type": "stream",
     "text": [
      "epoch = 23, train_loss = 0.03774, val_loss = 0.11704, train_accuracy = 0.79295, val_accuracy = 0.97179\n",
      "     Fold  Epoch  Train Loss  Val Loss  Train Acc   Val Acc  Test Acc\n",
      "244   5.0   23.0    0.037736  0.117042   0.792945  0.971795       0.0\n"
     ]
    },
    {
     "data": {
      "application/vnd.jupyter.widget-view+json": {
       "model_id": "c09366ef2dbe407e98c1dbc2b21c509e",
       "version_major": 2,
       "version_minor": 0
      },
      "text/plain": [
       "  0%|          | 0/220 [00:00<?, ?it/s]"
      ]
     },
     "metadata": {},
     "output_type": "display_data"
    },
    {
     "data": {
      "application/vnd.jupyter.widget-view+json": {
       "model_id": "a135734b44ac42fe889ef6543a912e48",
       "version_major": 2,
       "version_minor": 0
      },
      "text/plain": [
       "  0%|          | 0/25 [00:00<?, ?it/s]"
      ]
     },
     "metadata": {},
     "output_type": "display_data"
    },
    {
     "name": "stdout",
     "output_type": "stream",
     "text": [
      "epoch = 24, train_loss = 0.01305, val_loss = 0.06794, train_accuracy = 0.79993, val_accuracy = 0.97949\n",
      "     Fold  Epoch  Train Loss  Val Loss  Train Acc   Val Acc  Test Acc\n",
      "245   5.0   24.0    0.013048  0.067938   0.799931  0.979487       0.0\n"
     ]
    },
    {
     "data": {
      "application/vnd.jupyter.widget-view+json": {
       "model_id": "08199719cbf845adb815230a8a3e8a45",
       "version_major": 2,
       "version_minor": 0
      },
      "text/plain": [
       "  0%|          | 0/220 [00:00<?, ?it/s]"
      ]
     },
     "metadata": {},
     "output_type": "display_data"
    },
    {
     "data": {
      "application/vnd.jupyter.widget-view+json": {
       "model_id": "5d3dbb0aeb044a00bc4c82bd89c1fb0d",
       "version_major": 2,
       "version_minor": 0
      },
      "text/plain": [
       "  0%|          | 0/25 [00:00<?, ?it/s]"
      ]
     },
     "metadata": {},
     "output_type": "display_data"
    },
    {
     "name": "stdout",
     "output_type": "stream",
     "text": [
      "epoch = 25, train_loss = 0.00775, val_loss = 0.07527, train_accuracy = 0.80142, val_accuracy = 0.97821\n",
      "     Fold  Epoch  Train Loss  Val Loss  Train Acc   Val Acc  Test Acc\n",
      "246   5.0   25.0    0.007754  0.075267    0.80142  0.978205       0.0\n"
     ]
    },
    {
     "data": {
      "application/vnd.jupyter.widget-view+json": {
       "model_id": "bac1268b473a4687a20ddb4519818589",
       "version_major": 2,
       "version_minor": 0
      },
      "text/plain": [
       "  0%|          | 0/220 [00:00<?, ?it/s]"
      ]
     },
     "metadata": {},
     "output_type": "display_data"
    },
    {
     "data": {
      "application/vnd.jupyter.widget-view+json": {
       "model_id": "e72e5f62115a4a34a891ab6baeb28ba8",
       "version_major": 2,
       "version_minor": 0
      },
      "text/plain": [
       "  0%|          | 0/25 [00:00<?, ?it/s]"
      ]
     },
     "metadata": {},
     "output_type": "display_data"
    },
    {
     "name": "stdout",
     "output_type": "stream",
     "text": [
      "epoch = 26, train_loss = 0.01261, val_loss = 0.11676, train_accuracy = 0.80050, val_accuracy = 0.96923\n",
      "     Fold  Epoch  Train Loss  Val Loss  Train Acc   Val Acc  Test Acc\n",
      "247   5.0   26.0    0.012615  0.116755   0.800504  0.969231       0.0\n"
     ]
    },
    {
     "data": {
      "application/vnd.jupyter.widget-view+json": {
       "model_id": "7d60b159e89d4d1cb8c82a9a13f0920e",
       "version_major": 2,
       "version_minor": 0
      },
      "text/plain": [
       "  0%|          | 0/220 [00:00<?, ?it/s]"
      ]
     },
     "metadata": {},
     "output_type": "display_data"
    },
    {
     "data": {
      "application/vnd.jupyter.widget-view+json": {
       "model_id": "313c3633eb69435ba29f9790255ab151",
       "version_major": 2,
       "version_minor": 0
      },
      "text/plain": [
       "  0%|          | 0/25 [00:00<?, ?it/s]"
      ]
     },
     "metadata": {},
     "output_type": "display_data"
    },
    {
     "name": "stdout",
     "output_type": "stream",
     "text": [
      "epoch = 27, train_loss = 0.02540, val_loss = 0.17298, train_accuracy = 0.79776, val_accuracy = 0.95385\n",
      "     Fold  Epoch  Train Loss  Val Loss  Train Acc   Val Acc  Test Acc\n",
      "248   5.0   27.0    0.025405  0.172981   0.797755  0.953846       0.0\n"
     ]
    },
    {
     "data": {
      "application/vnd.jupyter.widget-view+json": {
       "model_id": "c89bd1ce8ef2487cba4f2203714f964c",
       "version_major": 2,
       "version_minor": 0
      },
      "text/plain": [
       "  0%|          | 0/220 [00:00<?, ?it/s]"
      ]
     },
     "metadata": {},
     "output_type": "display_data"
    },
    {
     "data": {
      "application/vnd.jupyter.widget-view+json": {
       "model_id": "86fc44a4755944aa9bdd400ee30c8cb7",
       "version_major": 2,
       "version_minor": 0
      },
      "text/plain": [
       "  0%|          | 0/25 [00:00<?, ?it/s]"
      ]
     },
     "metadata": {},
     "output_type": "display_data"
    },
    {
     "name": "stdout",
     "output_type": "stream",
     "text": [
      "epoch = 28, train_loss = 0.02251, val_loss = 0.09069, train_accuracy = 0.79741, val_accuracy = 0.97564\n",
      "     Fold  Epoch  Train Loss  Val Loss  Train Acc   Val Acc  Test Acc\n",
      "249   5.0   28.0    0.022507  0.090694   0.797412  0.975641       0.0\n"
     ]
    },
    {
     "data": {
      "application/vnd.jupyter.widget-view+json": {
       "model_id": "58c3d6fc18504c3abcb13a12622ba186",
       "version_major": 2,
       "version_minor": 0
      },
      "text/plain": [
       "  0%|          | 0/220 [00:00<?, ?it/s]"
      ]
     },
     "metadata": {},
     "output_type": "display_data"
    },
    {
     "data": {
      "application/vnd.jupyter.widget-view+json": {
       "model_id": "078cc96cd96b4a37a19e3c6997be9558",
       "version_major": 2,
       "version_minor": 0
      },
      "text/plain": [
       "  0%|          | 0/25 [00:00<?, ?it/s]"
      ]
     },
     "metadata": {},
     "output_type": "display_data"
    },
    {
     "name": "stdout",
     "output_type": "stream",
     "text": [
      "epoch = 29, train_loss = 0.02247, val_loss = 0.08503, train_accuracy = 0.79913, val_accuracy = 0.97949\n",
      "     Fold  Epoch  Train Loss  Val Loss  Train Acc   Val Acc  Test Acc\n",
      "250   5.0   29.0    0.022468  0.085032    0.79913  0.979487       0.0\n"
     ]
    },
    {
     "data": {
      "application/vnd.jupyter.widget-view+json": {
       "model_id": "901dad1c8e9b47c48e308a4e49da3e3a",
       "version_major": 2,
       "version_minor": 0
      },
      "text/plain": [
       "  0%|          | 0/220 [00:00<?, ?it/s]"
      ]
     },
     "metadata": {},
     "output_type": "display_data"
    },
    {
     "data": {
      "application/vnd.jupyter.widget-view+json": {
       "model_id": "8e006881cd344bab8e429ea20bc8d37c",
       "version_major": 2,
       "version_minor": 0
      },
      "text/plain": [
       "  0%|          | 0/25 [00:00<?, ?it/s]"
      ]
     },
     "metadata": {},
     "output_type": "display_data"
    },
    {
     "name": "stdout",
     "output_type": "stream",
     "text": [
      "epoch = 30, train_loss = 0.02372, val_loss = 0.08074, train_accuracy = 0.79787, val_accuracy = 0.97692\n",
      "     Fold  Epoch  Train Loss  Val Loss  Train Acc   Val Acc  Test Acc\n",
      "251   5.0   30.0    0.023725  0.080737    0.79787  0.976923       0.0\n"
     ]
    },
    {
     "data": {
      "application/vnd.jupyter.widget-view+json": {
       "model_id": "03807dd6cef0489ea7a8398c120ca901",
       "version_major": 2,
       "version_minor": 0
      },
      "text/plain": [
       "  0%|          | 0/220 [00:00<?, ?it/s]"
      ]
     },
     "metadata": {},
     "output_type": "display_data"
    },
    {
     "data": {
      "application/vnd.jupyter.widget-view+json": {
       "model_id": "03e54bc00f934d1b9ccc049e1761e931",
       "version_major": 2,
       "version_minor": 0
      },
      "text/plain": [
       "  0%|          | 0/25 [00:00<?, ?it/s]"
      ]
     },
     "metadata": {},
     "output_type": "display_data"
    },
    {
     "name": "stdout",
     "output_type": "stream",
     "text": [
      "epoch = 31, train_loss = 0.01503, val_loss = 0.12984, train_accuracy = 0.79947, val_accuracy = 0.96923\n",
      "     Fold  Epoch  Train Loss  Val Loss  Train Acc   Val Acc  Test Acc\n",
      "252   5.0   31.0    0.015032  0.129835   0.799473  0.969231       0.0\n"
     ]
    },
    {
     "data": {
      "application/vnd.jupyter.widget-view+json": {
       "model_id": "b1cea26c31074f008453afb2094340c8",
       "version_major": 2,
       "version_minor": 0
      },
      "text/plain": [
       "  0%|          | 0/220 [00:00<?, ?it/s]"
      ]
     },
     "metadata": {},
     "output_type": "display_data"
    },
    {
     "data": {
      "application/vnd.jupyter.widget-view+json": {
       "model_id": "741352c323f2456ba73c9055a66a0dcd",
       "version_major": 2,
       "version_minor": 0
      },
      "text/plain": [
       "  0%|          | 0/25 [00:00<?, ?it/s]"
      ]
     },
     "metadata": {},
     "output_type": "display_data"
    },
    {
     "name": "stdout",
     "output_type": "stream",
     "text": [
      "epoch = 32, train_loss = 0.01460, val_loss = 0.07089, train_accuracy = 0.79993, val_accuracy = 0.98205\n",
      "     Fold  Epoch  Train Loss  Val Loss  Train Acc   Val Acc  Test Acc\n",
      "253   5.0   32.0    0.014599   0.07089   0.799931  0.982051       0.0\n"
     ]
    },
    {
     "data": {
      "application/vnd.jupyter.widget-view+json": {
       "model_id": "d521fc4342e7415198ebf8235d11ad06",
       "version_major": 2,
       "version_minor": 0
      },
      "text/plain": [
       "  0%|          | 0/220 [00:00<?, ?it/s]"
      ]
     },
     "metadata": {},
     "output_type": "display_data"
    },
    {
     "data": {
      "application/vnd.jupyter.widget-view+json": {
       "model_id": "e4a08b05d63f48fa837b734b61c50f47",
       "version_major": 2,
       "version_minor": 0
      },
      "text/plain": [
       "  0%|          | 0/25 [00:00<?, ?it/s]"
      ]
     },
     "metadata": {},
     "output_type": "display_data"
    },
    {
     "name": "stdout",
     "output_type": "stream",
     "text": [
      "epoch = 33, train_loss = 0.00928, val_loss = 0.08374, train_accuracy = 0.80131, val_accuracy = 0.97179\n",
      "     Fold  Epoch  Train Loss  Val Loss  Train Acc   Val Acc  Test Acc\n",
      "254   5.0   33.0    0.009279  0.083741   0.801306  0.971795       0.0\n"
     ]
    },
    {
     "data": {
      "application/vnd.jupyter.widget-view+json": {
       "model_id": "1f90ae9e956f44a380b28fe1c5aeaa79",
       "version_major": 2,
       "version_minor": 0
      },
      "text/plain": [
       "  0%|          | 0/220 [00:00<?, ?it/s]"
      ]
     },
     "metadata": {},
     "output_type": "display_data"
    },
    {
     "data": {
      "application/vnd.jupyter.widget-view+json": {
       "model_id": "677319e5745748db8252930779da68e6",
       "version_major": 2,
       "version_minor": 0
      },
      "text/plain": [
       "  0%|          | 0/25 [00:00<?, ?it/s]"
      ]
     },
     "metadata": {},
     "output_type": "display_data"
    },
    {
     "name": "stdout",
     "output_type": "stream",
     "text": [
      "epoch = 34, train_loss = 0.01782, val_loss = 0.16538, train_accuracy = 0.79833, val_accuracy = 0.95897\n",
      "     Fold  Epoch  Train Loss  Val Loss  Train Acc   Val Acc  Test Acc\n",
      "255   5.0   34.0    0.017817  0.165382   0.798328  0.958974       0.0\n"
     ]
    },
    {
     "data": {
      "application/vnd.jupyter.widget-view+json": {
       "model_id": "59daec933c17446dae15e8ddce52bc01",
       "version_major": 2,
       "version_minor": 0
      },
      "text/plain": [
       "  0%|          | 0/220 [00:00<?, ?it/s]"
      ]
     },
     "metadata": {},
     "output_type": "display_data"
    },
    {
     "data": {
      "application/vnd.jupyter.widget-view+json": {
       "model_id": "c35faeaed05b4601a83ab4778f6332f9",
       "version_major": 2,
       "version_minor": 0
      },
      "text/plain": [
       "  0%|          | 0/25 [00:00<?, ?it/s]"
      ]
     },
     "metadata": {},
     "output_type": "display_data"
    },
    {
     "name": "stdout",
     "output_type": "stream",
     "text": [
      "epoch = 35, train_loss = 0.01723, val_loss = 0.21655, train_accuracy = 0.79890, val_accuracy = 0.95000\n",
      "     Fold  Epoch  Train Loss  Val Loss  Train Acc  Val Acc  Test Acc\n",
      "256   5.0   35.0    0.017234  0.216553   0.798901     0.95       0.0\n"
     ]
    },
    {
     "data": {
      "application/vnd.jupyter.widget-view+json": {
       "model_id": "5f7644c26be8494a96454e2d53121571",
       "version_major": 2,
       "version_minor": 0
      },
      "text/plain": [
       "  0%|          | 0/220 [00:00<?, ?it/s]"
      ]
     },
     "metadata": {},
     "output_type": "display_data"
    },
    {
     "data": {
      "application/vnd.jupyter.widget-view+json": {
       "model_id": "42409815ecec44dab1fe78a145c457a1",
       "version_major": 2,
       "version_minor": 0
      },
      "text/plain": [
       "  0%|          | 0/25 [00:00<?, ?it/s]"
      ]
     },
     "metadata": {},
     "output_type": "display_data"
    },
    {
     "name": "stdout",
     "output_type": "stream",
     "text": [
      "epoch = 36, train_loss = 0.01551, val_loss = 0.10748, train_accuracy = 0.79890, val_accuracy = 0.96795\n",
      "     Fold  Epoch  Train Loss  Val Loss  Train Acc   Val Acc  Test Acc\n",
      "257   5.0   36.0    0.015513  0.107481   0.798901  0.967949       0.0\n"
     ]
    },
    {
     "data": {
      "application/vnd.jupyter.widget-view+json": {
       "model_id": "b7b841ff852a4a898b93d6baaa903a59",
       "version_major": 2,
       "version_minor": 0
      },
      "text/plain": [
       "  0%|          | 0/220 [00:00<?, ?it/s]"
      ]
     },
     "metadata": {},
     "output_type": "display_data"
    },
    {
     "data": {
      "application/vnd.jupyter.widget-view+json": {
       "model_id": "af41b406fab54c36829a1325e2ec5861",
       "version_major": 2,
       "version_minor": 0
      },
      "text/plain": [
       "  0%|          | 0/25 [00:00<?, ?it/s]"
      ]
     },
     "metadata": {},
     "output_type": "display_data"
    },
    {
     "name": "stdout",
     "output_type": "stream",
     "text": [
      "epoch = 37, train_loss = 0.01754, val_loss = 0.13148, train_accuracy = 0.79970, val_accuracy = 0.96154\n",
      "     Fold  Epoch  Train Loss  Val Loss  Train Acc   Val Acc  Test Acc\n",
      "258   5.0   37.0    0.017543  0.131482   0.799702  0.961538       0.0\n"
     ]
    },
    {
     "data": {
      "application/vnd.jupyter.widget-view+json": {
       "model_id": "93dbd1f7dff64a7bac17945cfe5297f3",
       "version_major": 2,
       "version_minor": 0
      },
      "text/plain": [
       "  0%|          | 0/220 [00:00<?, ?it/s]"
      ]
     },
     "metadata": {},
     "output_type": "display_data"
    },
    {
     "data": {
      "application/vnd.jupyter.widget-view+json": {
       "model_id": "2da5969c7c364289930280d163166882",
       "version_major": 2,
       "version_minor": 0
      },
      "text/plain": [
       "  0%|          | 0/25 [00:00<?, ?it/s]"
      ]
     },
     "metadata": {},
     "output_type": "display_data"
    },
    {
     "name": "stdout",
     "output_type": "stream",
     "text": [
      "epoch = 38, train_loss = 0.01887, val_loss = 0.12115, train_accuracy = 0.79856, val_accuracy = 0.96538\n",
      "     Fold  Epoch  Train Loss  Val Loss  Train Acc   Val Acc  Test Acc\n",
      "259   5.0   38.0    0.018869  0.121148   0.798557  0.965385       0.0\n"
     ]
    },
    {
     "data": {
      "application/vnd.jupyter.widget-view+json": {
       "model_id": "92501866d4da42fe83a6a4114f991b5b",
       "version_major": 2,
       "version_minor": 0
      },
      "text/plain": [
       "  0%|          | 0/220 [00:00<?, ?it/s]"
      ]
     },
     "metadata": {},
     "output_type": "display_data"
    },
    {
     "data": {
      "application/vnd.jupyter.widget-view+json": {
       "model_id": "4b29db87a2ba406ca9079fe436da468c",
       "version_major": 2,
       "version_minor": 0
      },
      "text/plain": [
       "  0%|          | 0/25 [00:00<?, ?it/s]"
      ]
     },
     "metadata": {},
     "output_type": "display_data"
    },
    {
     "name": "stdout",
     "output_type": "stream",
     "text": [
      "epoch = 39, train_loss = 0.01279, val_loss = 0.09048, train_accuracy = 0.80027, val_accuracy = 0.96923\n",
      "     Fold  Epoch  Train Loss  Val Loss  Train Acc   Val Acc  Test Acc\n",
      "260   5.0   39.0     0.01279  0.090475   0.800275  0.969231       0.0\n"
     ]
    },
    {
     "data": {
      "application/vnd.jupyter.widget-view+json": {
       "model_id": "eaffa943ce7e4522b65142354b0b037e",
       "version_major": 2,
       "version_minor": 0
      },
      "text/plain": [
       "  0%|          | 0/220 [00:00<?, ?it/s]"
      ]
     },
     "metadata": {},
     "output_type": "display_data"
    },
    {
     "data": {
      "application/vnd.jupyter.widget-view+json": {
       "model_id": "e0d79d2910b840ac927903b7864af9c8",
       "version_major": 2,
       "version_minor": 0
      },
      "text/plain": [
       "  0%|          | 0/25 [00:00<?, ?it/s]"
      ]
     },
     "metadata": {},
     "output_type": "display_data"
    },
    {
     "name": "stdout",
     "output_type": "stream",
     "text": [
      "epoch = 40, train_loss = 0.00826, val_loss = 0.08684, train_accuracy = 0.80085, val_accuracy = 0.97692\n",
      "     Fold  Epoch  Train Loss  Val Loss  Train Acc   Val Acc  Test Acc\n",
      "261   5.0   40.0    0.008264  0.086842   0.800847  0.976923       0.0\n"
     ]
    },
    {
     "data": {
      "application/vnd.jupyter.widget-view+json": {
       "model_id": "cebf5a177f6644b39d6edc64ee5f2688",
       "version_major": 2,
       "version_minor": 0
      },
      "text/plain": [
       "  0%|          | 0/220 [00:00<?, ?it/s]"
      ]
     },
     "metadata": {},
     "output_type": "display_data"
    },
    {
     "data": {
      "application/vnd.jupyter.widget-view+json": {
       "model_id": "0b52ba2057554fa59025df9ed8709fdb",
       "version_major": 2,
       "version_minor": 0
      },
      "text/plain": [
       "  0%|          | 0/25 [00:00<?, ?it/s]"
      ]
     },
     "metadata": {},
     "output_type": "display_data"
    },
    {
     "name": "stdout",
     "output_type": "stream",
     "text": [
      "epoch = 41, train_loss = 0.01596, val_loss = 0.15687, train_accuracy = 0.80062, val_accuracy = 0.96410\n",
      "     Fold  Epoch  Train Loss  Val Loss  Train Acc   Val Acc  Test Acc\n",
      "262   5.0   41.0    0.015959  0.156867   0.800618  0.964103       0.0\n"
     ]
    },
    {
     "data": {
      "application/vnd.jupyter.widget-view+json": {
       "model_id": "7c1c7074594f43379e69d9f632c821c9",
       "version_major": 2,
       "version_minor": 0
      },
      "text/plain": [
       "  0%|          | 0/220 [00:00<?, ?it/s]"
      ]
     },
     "metadata": {},
     "output_type": "display_data"
    },
    {
     "data": {
      "application/vnd.jupyter.widget-view+json": {
       "model_id": "96c4514396494c2b8b3e382dfededca3",
       "version_major": 2,
       "version_minor": 0
      },
      "text/plain": [
       "  0%|          | 0/25 [00:00<?, ?it/s]"
      ]
     },
     "metadata": {},
     "output_type": "display_data"
    },
    {
     "name": "stdout",
     "output_type": "stream",
     "text": [
      "epoch = 42, train_loss = 0.02329, val_loss = 0.10980, train_accuracy = 0.79787, val_accuracy = 0.97436\n",
      "     Fold  Epoch  Train Loss  Val Loss  Train Acc   Val Acc  Test Acc\n",
      "263   5.0   42.0    0.023286  0.109795    0.79787  0.974359       0.0\n"
     ]
    },
    {
     "data": {
      "application/vnd.jupyter.widget-view+json": {
       "model_id": "719cf476b18b42bfb4cc7db98deccc53",
       "version_major": 2,
       "version_minor": 0
      },
      "text/plain": [
       "  0%|          | 0/220 [00:00<?, ?it/s]"
      ]
     },
     "metadata": {},
     "output_type": "display_data"
    },
    {
     "data": {
      "application/vnd.jupyter.widget-view+json": {
       "model_id": "e8e9442ff3f54708ad3ae93d35fd4323",
       "version_major": 2,
       "version_minor": 0
      },
      "text/plain": [
       "  0%|          | 0/25 [00:00<?, ?it/s]"
      ]
     },
     "metadata": {},
     "output_type": "display_data"
    },
    {
     "name": "stdout",
     "output_type": "stream",
     "text": [
      "epoch = 43, train_loss = 0.02145, val_loss = 0.09638, train_accuracy = 0.79879, val_accuracy = 0.97179\n",
      "     Fold  Epoch  Train Loss  Val Loss  Train Acc   Val Acc  Test Acc\n",
      "264   5.0   43.0    0.021449  0.096382   0.798786  0.971795       0.0\n"
     ]
    },
    {
     "data": {
      "application/vnd.jupyter.widget-view+json": {
       "model_id": "9a82ef8f57aa49449e50c8fe19324839",
       "version_major": 2,
       "version_minor": 0
      },
      "text/plain": [
       "  0%|          | 0/220 [00:00<?, ?it/s]"
      ]
     },
     "metadata": {},
     "output_type": "display_data"
    },
    {
     "data": {
      "application/vnd.jupyter.widget-view+json": {
       "model_id": "e410d7e92851406ba8a6278ab4e7dbdb",
       "version_major": 2,
       "version_minor": 0
      },
      "text/plain": [
       "  0%|          | 0/25 [00:00<?, ?it/s]"
      ]
     },
     "metadata": {},
     "output_type": "display_data"
    },
    {
     "name": "stdout",
     "output_type": "stream",
     "text": [
      "epoch = 44, train_loss = 0.01796, val_loss = 0.20189, train_accuracy = 0.79867, val_accuracy = 0.95641\n",
      "     Fold  Epoch  Train Loss  Val Loss  Train Acc  Val Acc  Test Acc\n",
      "265   5.0   44.0    0.017957  0.201889   0.798672  0.95641       0.0\n"
     ]
    },
    {
     "data": {
      "application/vnd.jupyter.widget-view+json": {
       "model_id": "b80d61b7ce8845f49a31874aebe97e4d",
       "version_major": 2,
       "version_minor": 0
      },
      "text/plain": [
       "  0%|          | 0/220 [00:00<?, ?it/s]"
      ]
     },
     "metadata": {},
     "output_type": "display_data"
    },
    {
     "data": {
      "application/vnd.jupyter.widget-view+json": {
       "model_id": "66bacba8f28843f593ff45310c615add",
       "version_major": 2,
       "version_minor": 0
      },
      "text/plain": [
       "  0%|          | 0/25 [00:00<?, ?it/s]"
      ]
     },
     "metadata": {},
     "output_type": "display_data"
    },
    {
     "name": "stdout",
     "output_type": "stream",
     "text": [
      "epoch = 45, train_loss = 0.00899, val_loss = 0.08872, train_accuracy = 0.80062, val_accuracy = 0.97692\n",
      "     Fold  Epoch  Train Loss  Val Loss  Train Acc   Val Acc  Test Acc\n",
      "266   5.0   45.0    0.008989  0.088725   0.800618  0.976923       0.0\n"
     ]
    },
    {
     "data": {
      "application/vnd.jupyter.widget-view+json": {
       "model_id": "58a59cf8f89945ea92a77c7bd127bba9",
       "version_major": 2,
       "version_minor": 0
      },
      "text/plain": [
       "  0%|          | 0/220 [00:00<?, ?it/s]"
      ]
     },
     "metadata": {},
     "output_type": "display_data"
    },
    {
     "data": {
      "application/vnd.jupyter.widget-view+json": {
       "model_id": "86da3162c69b4a6ebbfc08c05352f743",
       "version_major": 2,
       "version_minor": 0
      },
      "text/plain": [
       "  0%|          | 0/25 [00:00<?, ?it/s]"
      ]
     },
     "metadata": {},
     "output_type": "display_data"
    },
    {
     "name": "stdout",
     "output_type": "stream",
     "text": [
      "epoch = 46, train_loss = 0.01637, val_loss = 0.09848, train_accuracy = 0.79936, val_accuracy = 0.97564\n",
      "     Fold  Epoch  Train Loss  Val Loss  Train Acc   Val Acc  Test Acc\n",
      "267   5.0   46.0    0.016369  0.098482   0.799359  0.975641       0.0\n"
     ]
    },
    {
     "data": {
      "application/vnd.jupyter.widget-view+json": {
       "model_id": "2071b547a0604281ae2683bdfa5ed70a",
       "version_major": 2,
       "version_minor": 0
      },
      "text/plain": [
       "  0%|          | 0/220 [00:00<?, ?it/s]"
      ]
     },
     "metadata": {},
     "output_type": "display_data"
    },
    {
     "data": {
      "application/vnd.jupyter.widget-view+json": {
       "model_id": "e8d15a851eb54bf49310d281af8003d4",
       "version_major": 2,
       "version_minor": 0
      },
      "text/plain": [
       "  0%|          | 0/25 [00:00<?, ?it/s]"
      ]
     },
     "metadata": {},
     "output_type": "display_data"
    },
    {
     "name": "stdout",
     "output_type": "stream",
     "text": [
      "epoch = 47, train_loss = 0.00753, val_loss = 0.11412, train_accuracy = 0.80142, val_accuracy = 0.97949\n",
      "     Fold  Epoch  Train Loss  Val Loss  Train Acc   Val Acc  Test Acc\n",
      "268   5.0   47.0    0.007527  0.114119    0.80142  0.979487       0.0\n"
     ]
    },
    {
     "data": {
      "application/vnd.jupyter.widget-view+json": {
       "model_id": "4bce4725d4454de0b999d1207d37d72c",
       "version_major": 2,
       "version_minor": 0
      },
      "text/plain": [
       "  0%|          | 0/220 [00:00<?, ?it/s]"
      ]
     },
     "metadata": {},
     "output_type": "display_data"
    },
    {
     "data": {
      "application/vnd.jupyter.widget-view+json": {
       "model_id": "6cb85858928f4a9a90db6dfb96013b1b",
       "version_major": 2,
       "version_minor": 0
      },
      "text/plain": [
       "  0%|          | 0/25 [00:00<?, ?it/s]"
      ]
     },
     "metadata": {},
     "output_type": "display_data"
    },
    {
     "name": "stdout",
     "output_type": "stream",
     "text": [
      "epoch = 48, train_loss = 0.00690, val_loss = 0.07715, train_accuracy = 0.80153, val_accuracy = 0.98333\n",
      "Validation Accuracy improved from 0.98205 to 0.98333. Saving checkpoint.\n",
      "     Fold  Epoch  Train Loss  Val Loss  Train Acc   Val Acc  Test Acc\n",
      "269   5.0   48.0    0.006903  0.077149   0.801535  0.983333       0.0\n"
     ]
    },
    {
     "data": {
      "application/vnd.jupyter.widget-view+json": {
       "model_id": "b117ae80d2ad415ea00d55fea61b79a2",
       "version_major": 2,
       "version_minor": 0
      },
      "text/plain": [
       "  0%|          | 0/220 [00:00<?, ?it/s]"
      ]
     },
     "metadata": {},
     "output_type": "display_data"
    },
    {
     "data": {
      "application/vnd.jupyter.widget-view+json": {
       "model_id": "386ff33ec31643dcb603e982dde4e410",
       "version_major": 2,
       "version_minor": 0
      },
      "text/plain": [
       "  0%|          | 0/25 [00:00<?, ?it/s]"
      ]
     },
     "metadata": {},
     "output_type": "display_data"
    },
    {
     "name": "stdout",
     "output_type": "stream",
     "text": [
      "epoch = 49, train_loss = 0.01216, val_loss = 0.11725, train_accuracy = 0.80039, val_accuracy = 0.97051\n",
      "     Fold  Epoch  Train Loss  Val Loss  Train Acc   Val Acc  Test Acc\n",
      "270   5.0   49.0    0.012164   0.11725   0.800389  0.970513       0.0\n"
     ]
    },
    {
     "data": {
      "application/vnd.jupyter.widget-view+json": {
       "model_id": "5aca02cdb4b1400a9752d57a4d78c374",
       "version_major": 2,
       "version_minor": 0
      },
      "text/plain": [
       "  0%|          | 0/30 [00:00<?, ?it/s]"
      ]
     },
     "metadata": {},
     "output_type": "display_data"
    },
    {
     "name": "stdout",
     "output_type": "stream",
     "text": [
      "Test accuracy for fold: 6 is: 88.67521367521367\n",
      "Training set: 6967, Validation set: 775, Test Set: 990\n",
      "Folds of training set: {1, 2, 3, 5, 6, 7, 8, 9, 10}\n",
      "Folds of validation set: {1, 2, 3, 5, 6, 7, 8, 9, 10}\n",
      "Folds of test set: {4}\n",
      "Classfying 10 classes.\n",
      "Using single GPU or CPU\n"
     ]
    },
    {
     "data": {
      "application/vnd.jupyter.widget-view+json": {
       "model_id": "3a07d8460aad4136ae7a5814c1349afd",
       "version_major": 2,
       "version_minor": 0
      },
      "text/plain": [
       "  0%|          | 0/218 [00:00<?, ?it/s]"
      ]
     },
     "metadata": {},
     "output_type": "display_data"
    },
    {
     "data": {
      "application/vnd.jupyter.widget-view+json": {
       "model_id": "97ab243e43cc40a8985ffa0874c04789",
       "version_major": 2,
       "version_minor": 0
      },
      "text/plain": [
       "  0%|          | 0/25 [00:00<?, ?it/s]"
      ]
     },
     "metadata": {},
     "output_type": "display_data"
    },
    {
     "name": "stdout",
     "output_type": "stream",
     "text": [
      "Validation loss has improved from 10000 to 0.22655229449272155\n",
      "epoch = 0, train_loss = 0.75621, val_loss = 0.22655, train_accuracy = 0.62059, val_accuracy = 0.93935\n",
      "Validation Accuracy improved from 0.00000 to 0.93935. Saving checkpoint.\n",
      "     Fold  Epoch  Train Loss  Val Loss  Train Acc   Val Acc  Test Acc\n",
      "271   6.0    0.0    0.756211  0.226552   0.620591  0.939355       0.0\n"
     ]
    },
    {
     "data": {
      "application/vnd.jupyter.widget-view+json": {
       "model_id": "f579fac3549343d5874802d08af35559",
       "version_major": 2,
       "version_minor": 0
      },
      "text/plain": [
       "  0%|          | 0/218 [00:00<?, ?it/s]"
      ]
     },
     "metadata": {},
     "output_type": "display_data"
    },
    {
     "data": {
      "application/vnd.jupyter.widget-view+json": {
       "model_id": "dabb35d331ef4f1a8e6f665c028589f4",
       "version_major": 2,
       "version_minor": 0
      },
      "text/plain": [
       "  0%|          | 0/25 [00:00<?, ?it/s]"
      ]
     },
     "metadata": {},
     "output_type": "display_data"
    },
    {
     "name": "stdout",
     "output_type": "stream",
     "text": [
      "Validation loss has improved from 0.22655229449272155 to 0.11183221429586411\n",
      "epoch = 1, train_loss = 0.16647, val_loss = 0.11183, train_accuracy = 0.75664, val_accuracy = 0.96645\n",
      "Validation Accuracy improved from 0.93935 to 0.96645. Saving checkpoint.\n",
      "     Fold  Epoch  Train Loss  Val Loss  Train Acc   Val Acc  Test Acc\n",
      "272   6.0    1.0    0.166473  0.111832   0.756642  0.966452       0.0\n"
     ]
    },
    {
     "data": {
      "application/vnd.jupyter.widget-view+json": {
       "model_id": "fa0df444b9694a82a7d4f3bea1b44c14",
       "version_major": 2,
       "version_minor": 0
      },
      "text/plain": [
       "  0%|          | 0/218 [00:00<?, ?it/s]"
      ]
     },
     "metadata": {},
     "output_type": "display_data"
    },
    {
     "data": {
      "application/vnd.jupyter.widget-view+json": {
       "model_id": "bc00ec0b515a4cd19c5d69d9d7c49865",
       "version_major": 2,
       "version_minor": 0
      },
      "text/plain": [
       "  0%|          | 0/25 [00:00<?, ?it/s]"
      ]
     },
     "metadata": {},
     "output_type": "display_data"
    },
    {
     "name": "stdout",
     "output_type": "stream",
     "text": [
      "epoch = 2, train_loss = 0.08846, val_loss = 0.12734, train_accuracy = 0.77634, val_accuracy = 0.95871\n",
      "     Fold  Epoch  Train Loss  Val Loss  Train Acc  Val Acc  Test Acc\n",
      "273   6.0    2.0    0.088456  0.127343    0.77634  0.95871       0.0\n"
     ]
    },
    {
     "data": {
      "application/vnd.jupyter.widget-view+json": {
       "model_id": "65863dfaf35642fd9e08c20eff41b720",
       "version_major": 2,
       "version_minor": 0
      },
      "text/plain": [
       "  0%|          | 0/218 [00:00<?, ?it/s]"
      ]
     },
     "metadata": {},
     "output_type": "display_data"
    },
    {
     "data": {
      "application/vnd.jupyter.widget-view+json": {
       "model_id": "1811005669204d8099cc6e535ace9541",
       "version_major": 2,
       "version_minor": 0
      },
      "text/plain": [
       "  0%|          | 0/25 [00:00<?, ?it/s]"
      ]
     },
     "metadata": {},
     "output_type": "display_data"
    },
    {
     "name": "stdout",
     "output_type": "stream",
     "text": [
      "Validation loss has improved from 0.11183221429586411 to 0.09916494574863463\n",
      "epoch = 3, train_loss = 0.05122, val_loss = 0.09916, train_accuracy = 0.78550, val_accuracy = 0.95871\n",
      "     Fold  Epoch  Train Loss  Val Loss  Train Acc  Val Acc  Test Acc\n",
      "274   6.0    3.0    0.051215  0.099165   0.785502  0.95871       0.0\n"
     ]
    },
    {
     "data": {
      "application/vnd.jupyter.widget-view+json": {
       "model_id": "866f76fc97864ff8a29488317f3b927b",
       "version_major": 2,
       "version_minor": 0
      },
      "text/plain": [
       "  0%|          | 0/218 [00:00<?, ?it/s]"
      ]
     },
     "metadata": {},
     "output_type": "display_data"
    },
    {
     "data": {
      "application/vnd.jupyter.widget-view+json": {
       "model_id": "5e1d7ea3f1b44590af2fbeea958823b2",
       "version_major": 2,
       "version_minor": 0
      },
      "text/plain": [
       "  0%|          | 0/25 [00:00<?, ?it/s]"
      ]
     },
     "metadata": {},
     "output_type": "display_data"
    },
    {
     "name": "stdout",
     "output_type": "stream",
     "text": [
      "epoch = 4, train_loss = 0.05326, val_loss = 0.13187, train_accuracy = 0.78470, val_accuracy = 0.95355\n",
      "     Fold  Epoch  Train Loss  Val Loss  Train Acc   Val Acc  Test Acc\n",
      "275   6.0    4.0    0.053257  0.131871     0.7847  0.953548       0.0\n"
     ]
    },
    {
     "data": {
      "application/vnd.jupyter.widget-view+json": {
       "model_id": "f949ac02d32b4b5594b2ee55b46eca21",
       "version_major": 2,
       "version_minor": 0
      },
      "text/plain": [
       "  0%|          | 0/218 [00:00<?, ?it/s]"
      ]
     },
     "metadata": {},
     "output_type": "display_data"
    },
    {
     "data": {
      "application/vnd.jupyter.widget-view+json": {
       "model_id": "dc520787a8034783a836662f2bbe6bda",
       "version_major": 2,
       "version_minor": 0
      },
      "text/plain": [
       "  0%|          | 0/25 [00:00<?, ?it/s]"
      ]
     },
     "metadata": {},
     "output_type": "display_data"
    },
    {
     "name": "stdout",
     "output_type": "stream",
     "text": [
      "epoch = 5, train_loss = 0.03962, val_loss = 0.10449, train_accuracy = 0.78848, val_accuracy = 0.97161\n",
      "Validation Accuracy improved from 0.96645 to 0.97161. Saving checkpoint.\n",
      "     Fold  Epoch  Train Loss  Val Loss  Train Acc   Val Acc  Test Acc\n",
      "276   6.0    5.0    0.039619  0.104491   0.788479  0.971613       0.0\n"
     ]
    },
    {
     "data": {
      "application/vnd.jupyter.widget-view+json": {
       "model_id": "bfb36dc27956421595fce301a488b324",
       "version_major": 2,
       "version_minor": 0
      },
      "text/plain": [
       "  0%|          | 0/218 [00:00<?, ?it/s]"
      ]
     },
     "metadata": {},
     "output_type": "display_data"
    },
    {
     "data": {
      "application/vnd.jupyter.widget-view+json": {
       "model_id": "6b2a0529894c4c07988f8007ab7bf8a8",
       "version_major": 2,
       "version_minor": 0
      },
      "text/plain": [
       "  0%|          | 0/25 [00:00<?, ?it/s]"
      ]
     },
     "metadata": {},
     "output_type": "display_data"
    },
    {
     "name": "stdout",
     "output_type": "stream",
     "text": [
      "epoch = 6, train_loss = 0.03179, val_loss = 0.11623, train_accuracy = 0.79054, val_accuracy = 0.95613\n",
      "     Fold  Epoch  Train Loss  Val Loss  Train Acc   Val Acc  Test Acc\n",
      "277   6.0    6.0    0.031788  0.116231   0.790541  0.956129       0.0\n"
     ]
    },
    {
     "data": {
      "application/vnd.jupyter.widget-view+json": {
       "model_id": "c65deba78e7e49e0a4df72ed7fd061af",
       "version_major": 2,
       "version_minor": 0
      },
      "text/plain": [
       "  0%|          | 0/218 [00:00<?, ?it/s]"
      ]
     },
     "metadata": {},
     "output_type": "display_data"
    },
    {
     "data": {
      "application/vnd.jupyter.widget-view+json": {
       "model_id": "ac250b603db64ee2b8dff75cc625a2f8",
       "version_major": 2,
       "version_minor": 0
      },
      "text/plain": [
       "  0%|          | 0/25 [00:00<?, ?it/s]"
      ]
     },
     "metadata": {},
     "output_type": "display_data"
    },
    {
     "name": "stdout",
     "output_type": "stream",
     "text": [
      "epoch = 7, train_loss = 0.04011, val_loss = 0.14553, train_accuracy = 0.78722, val_accuracy = 0.95226\n",
      "     Fold  Epoch  Train Loss  Val Loss  Train Acc   Val Acc  Test Acc\n",
      "278   6.0    7.0    0.040114  0.145533   0.787219  0.952258       0.0\n"
     ]
    },
    {
     "data": {
      "application/vnd.jupyter.widget-view+json": {
       "model_id": "551d8721f60445da92e02b4fd60f57d4",
       "version_major": 2,
       "version_minor": 0
      },
      "text/plain": [
       "  0%|          | 0/218 [00:00<?, ?it/s]"
      ]
     },
     "metadata": {},
     "output_type": "display_data"
    },
    {
     "data": {
      "application/vnd.jupyter.widget-view+json": {
       "model_id": "284d029a5aed4a05964461c97a83f61f",
       "version_major": 2,
       "version_minor": 0
      },
      "text/plain": [
       "  0%|          | 0/25 [00:00<?, ?it/s]"
      ]
     },
     "metadata": {},
     "output_type": "display_data"
    },
    {
     "name": "stdout",
     "output_type": "stream",
     "text": [
      "epoch = 8, train_loss = 0.04882, val_loss = 0.12357, train_accuracy = 0.78504, val_accuracy = 0.96387\n",
      "     Fold  Epoch  Train Loss  Val Loss  Train Acc   Val Acc  Test Acc\n",
      "279   6.0    8.0    0.048824  0.123569   0.785044  0.963871       0.0\n"
     ]
    },
    {
     "data": {
      "application/vnd.jupyter.widget-view+json": {
       "model_id": "917361342d9a4570905c78bebcb3c03e",
       "version_major": 2,
       "version_minor": 0
      },
      "text/plain": [
       "  0%|          | 0/218 [00:00<?, ?it/s]"
      ]
     },
     "metadata": {},
     "output_type": "display_data"
    },
    {
     "data": {
      "application/vnd.jupyter.widget-view+json": {
       "model_id": "a5e472fccd314d71ad0d9d0b83146607",
       "version_major": 2,
       "version_minor": 0
      },
      "text/plain": [
       "  0%|          | 0/25 [00:00<?, ?it/s]"
      ]
     },
     "metadata": {},
     "output_type": "display_data"
    },
    {
     "name": "stdout",
     "output_type": "stream",
     "text": [
      "epoch = 9, train_loss = 0.03371, val_loss = 0.15852, train_accuracy = 0.78859, val_accuracy = 0.95226\n",
      "     Fold  Epoch  Train Loss  Val Loss  Train Acc   Val Acc  Test Acc\n",
      "280   6.0    9.0    0.033711   0.15852   0.788594  0.952258       0.0\n"
     ]
    },
    {
     "data": {
      "application/vnd.jupyter.widget-view+json": {
       "model_id": "d641ff124f2342eab059e54bcd50666f",
       "version_major": 2,
       "version_minor": 0
      },
      "text/plain": [
       "  0%|          | 0/218 [00:00<?, ?it/s]"
      ]
     },
     "metadata": {},
     "output_type": "display_data"
    },
    {
     "data": {
      "application/vnd.jupyter.widget-view+json": {
       "model_id": "4c2085c0be584378b182dec6c286c0f1",
       "version_major": 2,
       "version_minor": 0
      },
      "text/plain": [
       "  0%|          | 0/25 [00:00<?, ?it/s]"
      ]
     },
     "metadata": {},
     "output_type": "display_data"
    },
    {
     "name": "stdout",
     "output_type": "stream",
     "text": [
      "epoch = 10, train_loss = 0.02324, val_loss = 0.17002, train_accuracy = 0.79157, val_accuracy = 0.96000\n",
      "     Fold  Epoch  Train Loss  Val Loss  Train Acc  Val Acc  Test Acc\n",
      "281   6.0   10.0    0.023244  0.170019   0.791571     0.96       0.0\n"
     ]
    },
    {
     "data": {
      "application/vnd.jupyter.widget-view+json": {
       "model_id": "2c21368e7cc74ffd9b569e6f8a35c744",
       "version_major": 2,
       "version_minor": 0
      },
      "text/plain": [
       "  0%|          | 0/218 [00:00<?, ?it/s]"
      ]
     },
     "metadata": {},
     "output_type": "display_data"
    },
    {
     "data": {
      "application/vnd.jupyter.widget-view+json": {
       "model_id": "92a3154d61c84730bee1bbd68afc9e0d",
       "version_major": 2,
       "version_minor": 0
      },
      "text/plain": [
       "  0%|          | 0/25 [00:00<?, ?it/s]"
      ]
     },
     "metadata": {},
     "output_type": "display_data"
    },
    {
     "name": "stdout",
     "output_type": "stream",
     "text": [
      "epoch = 11, train_loss = 0.02613, val_loss = 0.12200, train_accuracy = 0.79100, val_accuracy = 0.96645\n",
      "     Fold  Epoch  Train Loss  Val Loss  Train Acc   Val Acc  Test Acc\n",
      "282   6.0   11.0    0.026127  0.121999   0.790999  0.966452       0.0\n"
     ]
    },
    {
     "data": {
      "application/vnd.jupyter.widget-view+json": {
       "model_id": "e5c14c4b16c146c48bfcae176683c842",
       "version_major": 2,
       "version_minor": 0
      },
      "text/plain": [
       "  0%|          | 0/218 [00:00<?, ?it/s]"
      ]
     },
     "metadata": {},
     "output_type": "display_data"
    },
    {
     "data": {
      "application/vnd.jupyter.widget-view+json": {
       "model_id": "52b8b155c7e644de927098027a2af69b",
       "version_major": 2,
       "version_minor": 0
      },
      "text/plain": [
       "  0%|          | 0/25 [00:00<?, ?it/s]"
      ]
     },
     "metadata": {},
     "output_type": "display_data"
    },
    {
     "name": "stdout",
     "output_type": "stream",
     "text": [
      "Validation loss has improved from 0.09916494574863463 to 0.052021677405573424\n",
      "epoch = 12, train_loss = 0.01360, val_loss = 0.05202, train_accuracy = 0.79432, val_accuracy = 0.97935\n",
      "Validation Accuracy improved from 0.97161 to 0.97935. Saving checkpoint.\n",
      "     Fold  Epoch  Train Loss  Val Loss  Train Acc   Val Acc  Test Acc\n",
      "283   6.0   12.0    0.013597  0.052022    0.79432  0.979355       0.0\n"
     ]
    },
    {
     "data": {
      "application/vnd.jupyter.widget-view+json": {
       "model_id": "80cce078871744c2b322b0db62eb226d",
       "version_major": 2,
       "version_minor": 0
      },
      "text/plain": [
       "  0%|          | 0/218 [00:00<?, ?it/s]"
      ]
     },
     "metadata": {},
     "output_type": "display_data"
    },
    {
     "data": {
      "application/vnd.jupyter.widget-view+json": {
       "model_id": "c74b56779c4c4190b898e8d037da70a7",
       "version_major": 2,
       "version_minor": 0
      },
      "text/plain": [
       "  0%|          | 0/25 [00:00<?, ?it/s]"
      ]
     },
     "metadata": {},
     "output_type": "display_data"
    },
    {
     "name": "stdout",
     "output_type": "stream",
     "text": [
      "epoch = 13, train_loss = 0.01987, val_loss = 0.10821, train_accuracy = 0.79272, val_accuracy = 0.96129\n",
      "     Fold  Epoch  Train Loss  Val Loss  Train Acc  Val Acc  Test Acc\n",
      "284   6.0   13.0    0.019872  0.108207   0.792716  0.96129       0.0\n"
     ]
    },
    {
     "data": {
      "application/vnd.jupyter.widget-view+json": {
       "model_id": "d46f1a5311ca45f5889214c4daed1c46",
       "version_major": 2,
       "version_minor": 0
      },
      "text/plain": [
       "  0%|          | 0/218 [00:00<?, ?it/s]"
      ]
     },
     "metadata": {},
     "output_type": "display_data"
    },
    {
     "data": {
      "application/vnd.jupyter.widget-view+json": {
       "model_id": "52b1228310cd494e967c81f66f5856fe",
       "version_major": 2,
       "version_minor": 0
      },
      "text/plain": [
       "  0%|          | 0/25 [00:00<?, ?it/s]"
      ]
     },
     "metadata": {},
     "output_type": "display_data"
    },
    {
     "name": "stdout",
     "output_type": "stream",
     "text": [
      "epoch = 14, train_loss = 0.03157, val_loss = 0.12417, train_accuracy = 0.79020, val_accuracy = 0.96645\n",
      "     Fold  Epoch  Train Loss  Val Loss  Train Acc   Val Acc  Test Acc\n",
      "285   6.0   14.0    0.031565  0.124168   0.790197  0.966452       0.0\n"
     ]
    },
    {
     "data": {
      "application/vnd.jupyter.widget-view+json": {
       "model_id": "4a521269ff664cc688191308d0d5c2fe",
       "version_major": 2,
       "version_minor": 0
      },
      "text/plain": [
       "  0%|          | 0/218 [00:00<?, ?it/s]"
      ]
     },
     "metadata": {},
     "output_type": "display_data"
    },
    {
     "data": {
      "application/vnd.jupyter.widget-view+json": {
       "model_id": "f4d8dcd3ee834373b46f3cb6f4f082be",
       "version_major": 2,
       "version_minor": 0
      },
      "text/plain": [
       "  0%|          | 0/25 [00:00<?, ?it/s]"
      ]
     },
     "metadata": {},
     "output_type": "display_data"
    },
    {
     "name": "stdout",
     "output_type": "stream",
     "text": [
      "epoch = 15, train_loss = 0.03830, val_loss = 0.10834, train_accuracy = 0.78802, val_accuracy = 0.96774\n",
      "     Fold  Epoch  Train Loss  Val Loss  Train Acc   Val Acc  Test Acc\n",
      "286   6.0   15.0    0.038302  0.108343   0.788021  0.967742       0.0\n"
     ]
    },
    {
     "data": {
      "application/vnd.jupyter.widget-view+json": {
       "model_id": "e70cb9dadc514a5d946a49a35c054eee",
       "version_major": 2,
       "version_minor": 0
      },
      "text/plain": [
       "  0%|          | 0/218 [00:00<?, ?it/s]"
      ]
     },
     "metadata": {},
     "output_type": "display_data"
    },
    {
     "data": {
      "application/vnd.jupyter.widget-view+json": {
       "model_id": "7fecd7704db0480d995864d2366772ea",
       "version_major": 2,
       "version_minor": 0
      },
      "text/plain": [
       "  0%|          | 0/25 [00:00<?, ?it/s]"
      ]
     },
     "metadata": {},
     "output_type": "display_data"
    },
    {
     "name": "stdout",
     "output_type": "stream",
     "text": [
      "epoch = 16, train_loss = 0.01508, val_loss = 0.06804, train_accuracy = 0.79363, val_accuracy = 0.98065\n",
      "Validation Accuracy improved from 0.97935 to 0.98065. Saving checkpoint.\n",
      "     Fold  Epoch  Train Loss  Val Loss  Train Acc   Val Acc  Test Acc\n",
      "287   6.0   16.0    0.015083  0.068039   0.793633  0.980645       0.0\n"
     ]
    },
    {
     "data": {
      "application/vnd.jupyter.widget-view+json": {
       "model_id": "7ae98e354b6348b7acbca42d713f2c06",
       "version_major": 2,
       "version_minor": 0
      },
      "text/plain": [
       "  0%|          | 0/218 [00:00<?, ?it/s]"
      ]
     },
     "metadata": {},
     "output_type": "display_data"
    },
    {
     "data": {
      "application/vnd.jupyter.widget-view+json": {
       "model_id": "2731a68c10204fffaec5d132867d28dc",
       "version_major": 2,
       "version_minor": 0
      },
      "text/plain": [
       "  0%|          | 0/25 [00:00<?, ?it/s]"
      ]
     },
     "metadata": {},
     "output_type": "display_data"
    },
    {
     "name": "stdout",
     "output_type": "stream",
     "text": [
      "epoch = 17, train_loss = 0.00962, val_loss = 0.10801, train_accuracy = 0.79432, val_accuracy = 0.96387\n",
      "     Fold  Epoch  Train Loss  Val Loss  Train Acc   Val Acc  Test Acc\n",
      "288   6.0   17.0    0.009619   0.10801    0.79432  0.963871       0.0\n"
     ]
    },
    {
     "data": {
      "application/vnd.jupyter.widget-view+json": {
       "model_id": "fa560a53a5e94363baac4e5e4fe85618",
       "version_major": 2,
       "version_minor": 0
      },
      "text/plain": [
       "  0%|          | 0/218 [00:00<?, ?it/s]"
      ]
     },
     "metadata": {},
     "output_type": "display_data"
    },
    {
     "data": {
      "application/vnd.jupyter.widget-view+json": {
       "model_id": "a620796ad7ba4b949e2a26ad095d7c5e",
       "version_major": 2,
       "version_minor": 0
      },
      "text/plain": [
       "  0%|          | 0/25 [00:00<?, ?it/s]"
      ]
     },
     "metadata": {},
     "output_type": "display_data"
    },
    {
     "name": "stdout",
     "output_type": "stream",
     "text": [
      "epoch = 18, train_loss = 0.03487, val_loss = 0.16501, train_accuracy = 0.78962, val_accuracy = 0.96516\n",
      "     Fold  Epoch  Train Loss  Val Loss  Train Acc   Val Acc  Test Acc\n",
      "289   6.0   18.0     0.03487  0.165014   0.789624  0.965161       0.0\n"
     ]
    },
    {
     "data": {
      "application/vnd.jupyter.widget-view+json": {
       "model_id": "4f1ef680871f4550835f3a71c79bed24",
       "version_major": 2,
       "version_minor": 0
      },
      "text/plain": [
       "  0%|          | 0/218 [00:00<?, ?it/s]"
      ]
     },
     "metadata": {},
     "output_type": "display_data"
    },
    {
     "data": {
      "application/vnd.jupyter.widget-view+json": {
       "model_id": "ed8f110a923349efb694d4aab155fe50",
       "version_major": 2,
       "version_minor": 0
      },
      "text/plain": [
       "  0%|          | 0/25 [00:00<?, ?it/s]"
      ]
     },
     "metadata": {},
     "output_type": "display_data"
    },
    {
     "name": "stdout",
     "output_type": "stream",
     "text": [
      "epoch = 19, train_loss = 0.02126, val_loss = 0.11591, train_accuracy = 0.79340, val_accuracy = 0.96258\n",
      "     Fold  Epoch  Train Loss  Val Loss  Train Acc   Val Acc  Test Acc\n",
      "290   6.0   19.0    0.021263   0.11591   0.793404  0.962581       0.0\n"
     ]
    },
    {
     "data": {
      "application/vnd.jupyter.widget-view+json": {
       "model_id": "d38ca4a5787342d4870da84710389a12",
       "version_major": 2,
       "version_minor": 0
      },
      "text/plain": [
       "  0%|          | 0/218 [00:00<?, ?it/s]"
      ]
     },
     "metadata": {},
     "output_type": "display_data"
    },
    {
     "data": {
      "application/vnd.jupyter.widget-view+json": {
       "model_id": "c9678a68a65141f6b9bc72e1b8cbce95",
       "version_major": 2,
       "version_minor": 0
      },
      "text/plain": [
       "  0%|          | 0/25 [00:00<?, ?it/s]"
      ]
     },
     "metadata": {},
     "output_type": "display_data"
    },
    {
     "name": "stdout",
     "output_type": "stream",
     "text": [
      "epoch = 20, train_loss = 0.01189, val_loss = 0.10267, train_accuracy = 0.79409, val_accuracy = 0.96516\n",
      "     Fold  Epoch  Train Loss  Val Loss  Train Acc   Val Acc  Test Acc\n",
      "291   6.0   20.0    0.011886  0.102669   0.794091  0.965161       0.0\n"
     ]
    },
    {
     "data": {
      "application/vnd.jupyter.widget-view+json": {
       "model_id": "1affd5568f6442419e15c62f805e7baf",
       "version_major": 2,
       "version_minor": 0
      },
      "text/plain": [
       "  0%|          | 0/218 [00:00<?, ?it/s]"
      ]
     },
     "metadata": {},
     "output_type": "display_data"
    },
    {
     "data": {
      "application/vnd.jupyter.widget-view+json": {
       "model_id": "20dfd7ce8a344513acd6d9112fd7b30d",
       "version_major": 2,
       "version_minor": 0
      },
      "text/plain": [
       "  0%|          | 0/25 [00:00<?, ?it/s]"
      ]
     },
     "metadata": {},
     "output_type": "display_data"
    },
    {
     "name": "stdout",
     "output_type": "stream",
     "text": [
      "epoch = 21, train_loss = 0.02120, val_loss = 0.11471, train_accuracy = 0.79260, val_accuracy = 0.96258\n",
      "     Fold  Epoch  Train Loss  Val Loss  Train Acc   Val Acc  Test Acc\n",
      "292   6.0   21.0    0.021202   0.11471   0.792602  0.962581       0.0\n"
     ]
    },
    {
     "data": {
      "application/vnd.jupyter.widget-view+json": {
       "model_id": "de32007c5b4b402bb9b573e6f22ccd41",
       "version_major": 2,
       "version_minor": 0
      },
      "text/plain": [
       "  0%|          | 0/218 [00:00<?, ?it/s]"
      ]
     },
     "metadata": {},
     "output_type": "display_data"
    },
    {
     "data": {
      "application/vnd.jupyter.widget-view+json": {
       "model_id": "f855ad06502e48f983581094397fcd82",
       "version_major": 2,
       "version_minor": 0
      },
      "text/plain": [
       "  0%|          | 0/25 [00:00<?, ?it/s]"
      ]
     },
     "metadata": {},
     "output_type": "display_data"
    },
    {
     "name": "stdout",
     "output_type": "stream",
     "text": [
      "epoch = 22, train_loss = 0.01275, val_loss = 0.07585, train_accuracy = 0.79375, val_accuracy = 0.97935\n",
      "     Fold  Epoch  Train Loss  Val Loss  Train Acc   Val Acc  Test Acc\n",
      "293   6.0   22.0    0.012752  0.075845   0.793747  0.979355       0.0\n"
     ]
    },
    {
     "data": {
      "application/vnd.jupyter.widget-view+json": {
       "model_id": "785b4eda6e694b25ab6c4a947e212f6c",
       "version_major": 2,
       "version_minor": 0
      },
      "text/plain": [
       "  0%|          | 0/218 [00:00<?, ?it/s]"
      ]
     },
     "metadata": {},
     "output_type": "display_data"
    },
    {
     "data": {
      "application/vnd.jupyter.widget-view+json": {
       "model_id": "8fe7d0b07729455ebc3972420eada68b",
       "version_major": 2,
       "version_minor": 0
      },
      "text/plain": [
       "  0%|          | 0/25 [00:00<?, ?it/s]"
      ]
     },
     "metadata": {},
     "output_type": "display_data"
    },
    {
     "name": "stdout",
     "output_type": "stream",
     "text": [
      "epoch = 23, train_loss = 0.02472, val_loss = 0.19773, train_accuracy = 0.79191, val_accuracy = 0.94839\n",
      "     Fold  Epoch  Train Loss  Val Loss  Train Acc   Val Acc  Test Acc\n",
      "294   6.0   23.0    0.024722  0.197726   0.791915  0.948387       0.0\n"
     ]
    },
    {
     "data": {
      "application/vnd.jupyter.widget-view+json": {
       "model_id": "d7cb63af2149497080b11d5fbe37916d",
       "version_major": 2,
       "version_minor": 0
      },
      "text/plain": [
       "  0%|          | 0/218 [00:00<?, ?it/s]"
      ]
     },
     "metadata": {},
     "output_type": "display_data"
    },
    {
     "data": {
      "application/vnd.jupyter.widget-view+json": {
       "model_id": "564975d13d1a4423ac830ba3f7f175cc",
       "version_major": 2,
       "version_minor": 0
      },
      "text/plain": [
       "  0%|          | 0/25 [00:00<?, ?it/s]"
      ]
     },
     "metadata": {},
     "output_type": "display_data"
    },
    {
     "name": "stdout",
     "output_type": "stream",
     "text": [
      "epoch = 24, train_loss = 0.03909, val_loss = 0.10190, train_accuracy = 0.78676, val_accuracy = 0.97161\n",
      "     Fold  Epoch  Train Loss  Val Loss  Train Acc   Val Acc  Test Acc\n",
      "295   6.0   24.0     0.03909    0.1019   0.786761  0.971613       0.0\n"
     ]
    },
    {
     "data": {
      "application/vnd.jupyter.widget-view+json": {
       "model_id": "14d3b063aca643e3a0eea706af4038ff",
       "version_major": 2,
       "version_minor": 0
      },
      "text/plain": [
       "  0%|          | 0/218 [00:00<?, ?it/s]"
      ]
     },
     "metadata": {},
     "output_type": "display_data"
    },
    {
     "data": {
      "application/vnd.jupyter.widget-view+json": {
       "model_id": "777981f025af4190be470b09a8e3f4fd",
       "version_major": 2,
       "version_minor": 0
      },
      "text/plain": [
       "  0%|          | 0/25 [00:00<?, ?it/s]"
      ]
     },
     "metadata": {},
     "output_type": "display_data"
    },
    {
     "name": "stdout",
     "output_type": "stream",
     "text": [
      "epoch = 25, train_loss = 0.02490, val_loss = 0.08093, train_accuracy = 0.79146, val_accuracy = 0.97806\n",
      "     Fold  Epoch  Train Loss  Val Loss  Train Acc   Val Acc  Test Acc\n",
      "296   6.0   25.0    0.024896  0.080933   0.791457  0.978065       0.0\n"
     ]
    },
    {
     "data": {
      "application/vnd.jupyter.widget-view+json": {
       "model_id": "c2bb4b8ef5fe4c07948a11a97081d010",
       "version_major": 2,
       "version_minor": 0
      },
      "text/plain": [
       "  0%|          | 0/218 [00:00<?, ?it/s]"
      ]
     },
     "metadata": {},
     "output_type": "display_data"
    },
    {
     "data": {
      "application/vnd.jupyter.widget-view+json": {
       "model_id": "8e4fa25bdc9844a49730e93ee44ad862",
       "version_major": 2,
       "version_minor": 0
      },
      "text/plain": [
       "  0%|          | 0/25 [00:00<?, ?it/s]"
      ]
     },
     "metadata": {},
     "output_type": "display_data"
    },
    {
     "name": "stdout",
     "output_type": "stream",
     "text": [
      "epoch = 26, train_loss = 0.00665, val_loss = 0.06832, train_accuracy = 0.79627, val_accuracy = 0.98323\n",
      "Validation Accuracy improved from 0.98065 to 0.98323. Saving checkpoint.\n",
      "     Fold  Epoch  Train Loss  Val Loss  Train Acc   Val Acc  Test Acc\n",
      "297   6.0   26.0    0.006647   0.06832   0.796267  0.983226       0.0\n"
     ]
    },
    {
     "data": {
      "application/vnd.jupyter.widget-view+json": {
       "model_id": "838a94eacbe84f119f3314dd5e011e58",
       "version_major": 2,
       "version_minor": 0
      },
      "text/plain": [
       "  0%|          | 0/218 [00:00<?, ?it/s]"
      ]
     },
     "metadata": {},
     "output_type": "display_data"
    },
    {
     "data": {
      "application/vnd.jupyter.widget-view+json": {
       "model_id": "3f9665642bf3401f8e90d31acddfa099",
       "version_major": 2,
       "version_minor": 0
      },
      "text/plain": [
       "  0%|          | 0/25 [00:00<?, ?it/s]"
      ]
     },
     "metadata": {},
     "output_type": "display_data"
    },
    {
     "name": "stdout",
     "output_type": "stream",
     "text": [
      "epoch = 27, train_loss = 0.00534, val_loss = 0.07857, train_accuracy = 0.79638, val_accuracy = 0.97548\n",
      "     Fold  Epoch  Train Loss  Val Loss  Train Acc   Val Acc  Test Acc\n",
      "298   6.0   27.0    0.005339  0.078568   0.796381  0.975484       0.0\n"
     ]
    },
    {
     "data": {
      "application/vnd.jupyter.widget-view+json": {
       "model_id": "1eddbc30557a439a87b2d5eb3ebdf5ad",
       "version_major": 2,
       "version_minor": 0
      },
      "text/plain": [
       "  0%|          | 0/218 [00:00<?, ?it/s]"
      ]
     },
     "metadata": {},
     "output_type": "display_data"
    },
    {
     "data": {
      "application/vnd.jupyter.widget-view+json": {
       "model_id": "d41984cd0f5c4b648d9767caba9610a1",
       "version_major": 2,
       "version_minor": 0
      },
      "text/plain": [
       "  0%|          | 0/25 [00:00<?, ?it/s]"
      ]
     },
     "metadata": {},
     "output_type": "display_data"
    },
    {
     "name": "stdout",
     "output_type": "stream",
     "text": [
      "epoch = 28, train_loss = 0.00444, val_loss = 0.06863, train_accuracy = 0.79684, val_accuracy = 0.97806\n",
      "     Fold  Epoch  Train Loss  Val Loss  Train Acc   Val Acc  Test Acc\n",
      "299   6.0   28.0    0.004436  0.068632   0.796839  0.978065       0.0\n"
     ]
    },
    {
     "data": {
      "application/vnd.jupyter.widget-view+json": {
       "model_id": "e3d082c824f14d599bfc93e7e0d7d023",
       "version_major": 2,
       "version_minor": 0
      },
      "text/plain": [
       "  0%|          | 0/218 [00:00<?, ?it/s]"
      ]
     },
     "metadata": {},
     "output_type": "display_data"
    },
    {
     "data": {
      "application/vnd.jupyter.widget-view+json": {
       "model_id": "5a0ec36cf26d4a608cffd939f6cc68ad",
       "version_major": 2,
       "version_minor": 0
      },
      "text/plain": [
       "  0%|          | 0/25 [00:00<?, ?it/s]"
      ]
     },
     "metadata": {},
     "output_type": "display_data"
    },
    {
     "name": "stdout",
     "output_type": "stream",
     "text": [
      "epoch = 29, train_loss = 0.01895, val_loss = 0.15357, train_accuracy = 0.79375, val_accuracy = 0.96903\n",
      "     Fold  Epoch  Train Loss  Val Loss  Train Acc   Val Acc  Test Acc\n",
      "300   6.0   29.0     0.01895  0.153566   0.793747  0.969032       0.0\n"
     ]
    },
    {
     "data": {
      "application/vnd.jupyter.widget-view+json": {
       "model_id": "f32318711dc540bdbd22e7266c1cb121",
       "version_major": 2,
       "version_minor": 0
      },
      "text/plain": [
       "  0%|          | 0/218 [00:00<?, ?it/s]"
      ]
     },
     "metadata": {},
     "output_type": "display_data"
    },
    {
     "data": {
      "application/vnd.jupyter.widget-view+json": {
       "model_id": "e16e2caaf8cb4ab4aba2078349f4d240",
       "version_major": 2,
       "version_minor": 0
      },
      "text/plain": [
       "  0%|          | 0/25 [00:00<?, ?it/s]"
      ]
     },
     "metadata": {},
     "output_type": "display_data"
    },
    {
     "name": "stdout",
     "output_type": "stream",
     "text": [
      "epoch = 30, train_loss = 0.02925, val_loss = 0.07521, train_accuracy = 0.79031, val_accuracy = 0.97806\n",
      "     Fold  Epoch  Train Loss  Val Loss  Train Acc   Val Acc  Test Acc\n",
      "301   6.0   30.0     0.02925  0.075211   0.790311  0.978065       0.0\n"
     ]
    },
    {
     "data": {
      "application/vnd.jupyter.widget-view+json": {
       "model_id": "e7b24bda12bc4316aab9c39bb7a477a5",
       "version_major": 2,
       "version_minor": 0
      },
      "text/plain": [
       "  0%|          | 0/218 [00:00<?, ?it/s]"
      ]
     },
     "metadata": {},
     "output_type": "display_data"
    },
    {
     "data": {
      "application/vnd.jupyter.widget-view+json": {
       "model_id": "8c2a13460f70483e875b3ad211afa206",
       "version_major": 2,
       "version_minor": 0
      },
      "text/plain": [
       "  0%|          | 0/25 [00:00<?, ?it/s]"
      ]
     },
     "metadata": {},
     "output_type": "display_data"
    },
    {
     "name": "stdout",
     "output_type": "stream",
     "text": [
      "epoch = 31, train_loss = 0.01362, val_loss = 0.10500, train_accuracy = 0.79375, val_accuracy = 0.97032\n",
      "     Fold  Epoch  Train Loss  Val Loss  Train Acc   Val Acc  Test Acc\n",
      "302   6.0   31.0    0.013621  0.105002   0.793747  0.970323       0.0\n"
     ]
    },
    {
     "data": {
      "application/vnd.jupyter.widget-view+json": {
       "model_id": "82f3811259944d61a7ea1c36736c93e0",
       "version_major": 2,
       "version_minor": 0
      },
      "text/plain": [
       "  0%|          | 0/218 [00:00<?, ?it/s]"
      ]
     },
     "metadata": {},
     "output_type": "display_data"
    },
    {
     "data": {
      "application/vnd.jupyter.widget-view+json": {
       "model_id": "2e2638d348cc4abf98ac29dd28c28d16",
       "version_major": 2,
       "version_minor": 0
      },
      "text/plain": [
       "  0%|          | 0/25 [00:00<?, ?it/s]"
      ]
     },
     "metadata": {},
     "output_type": "display_data"
    },
    {
     "name": "stdout",
     "output_type": "stream",
     "text": [
      "epoch = 32, train_loss = 0.02067, val_loss = 0.14882, train_accuracy = 0.79421, val_accuracy = 0.95613\n",
      "     Fold  Epoch  Train Loss  Val Loss  Train Acc   Val Acc  Test Acc\n",
      "303   6.0   32.0    0.020666  0.148824   0.794205  0.956129       0.0\n"
     ]
    },
    {
     "data": {
      "application/vnd.jupyter.widget-view+json": {
       "model_id": "e4c4031aa4d545068324de27ae7a6b0c",
       "version_major": 2,
       "version_minor": 0
      },
      "text/plain": [
       "  0%|          | 0/218 [00:00<?, ?it/s]"
      ]
     },
     "metadata": {},
     "output_type": "display_data"
    },
    {
     "data": {
      "application/vnd.jupyter.widget-view+json": {
       "model_id": "bed37e1129ff4a26812cfe888c5cbbfe",
       "version_major": 2,
       "version_minor": 0
      },
      "text/plain": [
       "  0%|          | 0/25 [00:00<?, ?it/s]"
      ]
     },
     "metadata": {},
     "output_type": "display_data"
    },
    {
     "name": "stdout",
     "output_type": "stream",
     "text": [
      "epoch = 33, train_loss = 0.01491, val_loss = 0.13451, train_accuracy = 0.79443, val_accuracy = 0.96774\n",
      "     Fold  Epoch  Train Loss  Val Loss  Train Acc   Val Acc  Test Acc\n",
      "304   6.0   33.0    0.014912   0.13451   0.794434  0.967742       0.0\n"
     ]
    },
    {
     "data": {
      "application/vnd.jupyter.widget-view+json": {
       "model_id": "5ff796dc667c4f9a946af6c7becdb7e2",
       "version_major": 2,
       "version_minor": 0
      },
      "text/plain": [
       "  0%|          | 0/218 [00:00<?, ?it/s]"
      ]
     },
     "metadata": {},
     "output_type": "display_data"
    },
    {
     "data": {
      "application/vnd.jupyter.widget-view+json": {
       "model_id": "4ce43a8656c6400ea5aba795ff3ce619",
       "version_major": 2,
       "version_minor": 0
      },
      "text/plain": [
       "  0%|          | 0/25 [00:00<?, ?it/s]"
      ]
     },
     "metadata": {},
     "output_type": "display_data"
    },
    {
     "name": "stdout",
     "output_type": "stream",
     "text": [
      "epoch = 34, train_loss = 0.00850, val_loss = 0.07374, train_accuracy = 0.79569, val_accuracy = 0.97677\n",
      "     Fold  Epoch  Train Loss  Val Loss  Train Acc   Val Acc  Test Acc\n",
      "305   6.0   34.0      0.0085  0.073743   0.795694  0.976774       0.0\n"
     ]
    },
    {
     "data": {
      "application/vnd.jupyter.widget-view+json": {
       "model_id": "7658c3b27b2a4278b4ba18c90193897b",
       "version_major": 2,
       "version_minor": 0
      },
      "text/plain": [
       "  0%|          | 0/218 [00:00<?, ?it/s]"
      ]
     },
     "metadata": {},
     "output_type": "display_data"
    },
    {
     "data": {
      "application/vnd.jupyter.widget-view+json": {
       "model_id": "5acce8a207ce44c49a39eb04cbcd574c",
       "version_major": 2,
       "version_minor": 0
      },
      "text/plain": [
       "  0%|          | 0/25 [00:00<?, ?it/s]"
      ]
     },
     "metadata": {},
     "output_type": "display_data"
    },
    {
     "name": "stdout",
     "output_type": "stream",
     "text": [
      "epoch = 35, train_loss = 0.00523, val_loss = 0.07289, train_accuracy = 0.79638, val_accuracy = 0.97806\n",
      "     Fold  Epoch  Train Loss  Val Loss  Train Acc   Val Acc  Test Acc\n",
      "306   6.0   35.0    0.005227  0.072891   0.796381  0.978065       0.0\n"
     ]
    },
    {
     "data": {
      "application/vnd.jupyter.widget-view+json": {
       "model_id": "ee28d9a4f57d44218022f15721158dbd",
       "version_major": 2,
       "version_minor": 0
      },
      "text/plain": [
       "  0%|          | 0/218 [00:00<?, ?it/s]"
      ]
     },
     "metadata": {},
     "output_type": "display_data"
    },
    {
     "data": {
      "application/vnd.jupyter.widget-view+json": {
       "model_id": "93b822242ad44d04970ccb284f6496a8",
       "version_major": 2,
       "version_minor": 0
      },
      "text/plain": [
       "  0%|          | 0/25 [00:00<?, ?it/s]"
      ]
     },
     "metadata": {},
     "output_type": "display_data"
    },
    {
     "name": "stdout",
     "output_type": "stream",
     "text": [
      "epoch = 36, train_loss = 0.00711, val_loss = 0.05575, train_accuracy = 0.79604, val_accuracy = 0.98581\n",
      "Validation Accuracy improved from 0.98323 to 0.98581. Saving checkpoint.\n",
      "     Fold  Epoch  Train Loss  Val Loss  Train Acc   Val Acc  Test Acc\n",
      "307   6.0   36.0     0.00711  0.055753   0.796038  0.985806       0.0\n"
     ]
    },
    {
     "data": {
      "application/vnd.jupyter.widget-view+json": {
       "model_id": "2451931613784e1f839818fa9fe4d542",
       "version_major": 2,
       "version_minor": 0
      },
      "text/plain": [
       "  0%|          | 0/218 [00:00<?, ?it/s]"
      ]
     },
     "metadata": {},
     "output_type": "display_data"
    },
    {
     "data": {
      "application/vnd.jupyter.widget-view+json": {
       "model_id": "02d7bfae272d49348fa791d6c5ed6316",
       "version_major": 2,
       "version_minor": 0
      },
      "text/plain": [
       "  0%|          | 0/25 [00:00<?, ?it/s]"
      ]
     },
     "metadata": {},
     "output_type": "display_data"
    },
    {
     "name": "stdout",
     "output_type": "stream",
     "text": [
      "epoch = 37, train_loss = 0.01608, val_loss = 0.11978, train_accuracy = 0.79340, val_accuracy = 0.96774\n",
      "     Fold  Epoch  Train Loss  Val Loss  Train Acc   Val Acc  Test Acc\n",
      "308   6.0   37.0    0.016077  0.119782   0.793404  0.967742       0.0\n"
     ]
    },
    {
     "data": {
      "application/vnd.jupyter.widget-view+json": {
       "model_id": "17edcdcb3acb40d480c54484344ebb94",
       "version_major": 2,
       "version_minor": 0
      },
      "text/plain": [
       "  0%|          | 0/218 [00:00<?, ?it/s]"
      ]
     },
     "metadata": {},
     "output_type": "display_data"
    },
    {
     "data": {
      "application/vnd.jupyter.widget-view+json": {
       "model_id": "1b9e43cd254d4495b73027da146cd977",
       "version_major": 2,
       "version_minor": 0
      },
      "text/plain": [
       "  0%|          | 0/25 [00:00<?, ?it/s]"
      ]
     },
     "metadata": {},
     "output_type": "display_data"
    },
    {
     "name": "stdout",
     "output_type": "stream",
     "text": [
      "epoch = 38, train_loss = 0.02899, val_loss = 0.15311, train_accuracy = 0.78951, val_accuracy = 0.95742\n",
      "     Fold  Epoch  Train Loss  Val Loss  Train Acc   Val Acc  Test Acc\n",
      "309   6.0   38.0    0.028992  0.153106    0.78951  0.957419       0.0\n"
     ]
    },
    {
     "data": {
      "application/vnd.jupyter.widget-view+json": {
       "model_id": "2b9502c783a34c63a9101ab0db7473de",
       "version_major": 2,
       "version_minor": 0
      },
      "text/plain": [
       "  0%|          | 0/218 [00:00<?, ?it/s]"
      ]
     },
     "metadata": {},
     "output_type": "display_data"
    },
    {
     "data": {
      "application/vnd.jupyter.widget-view+json": {
       "model_id": "95911218e9504143b53be4e5750d0ad1",
       "version_major": 2,
       "version_minor": 0
      },
      "text/plain": [
       "  0%|          | 0/25 [00:00<?, ?it/s]"
      ]
     },
     "metadata": {},
     "output_type": "display_data"
    },
    {
     "name": "stdout",
     "output_type": "stream",
     "text": [
      "epoch = 39, train_loss = 0.01441, val_loss = 0.06627, train_accuracy = 0.79375, val_accuracy = 0.97935\n",
      "     Fold  Epoch  Train Loss  Val Loss  Train Acc   Val Acc  Test Acc\n",
      "310   6.0   39.0    0.014405  0.066268   0.793747  0.979355       0.0\n"
     ]
    },
    {
     "data": {
      "application/vnd.jupyter.widget-view+json": {
       "model_id": "1bf6737a45c5453db41f5ecc3ba80eff",
       "version_major": 2,
       "version_minor": 0
      },
      "text/plain": [
       "  0%|          | 0/218 [00:00<?, ?it/s]"
      ]
     },
     "metadata": {},
     "output_type": "display_data"
    },
    {
     "data": {
      "application/vnd.jupyter.widget-view+json": {
       "model_id": "e84d3773fc1d412bb8fb97b06dbfd0cd",
       "version_major": 2,
       "version_minor": 0
      },
      "text/plain": [
       "  0%|          | 0/25 [00:00<?, ?it/s]"
      ]
     },
     "metadata": {},
     "output_type": "display_data"
    },
    {
     "name": "stdout",
     "output_type": "stream",
     "text": [
      "epoch = 40, train_loss = 0.00550, val_loss = 0.09095, train_accuracy = 0.79615, val_accuracy = 0.97806\n",
      "     Fold  Epoch  Train Loss  Val Loss  Train Acc   Val Acc  Test Acc\n",
      "311   6.0   40.0    0.005495   0.09095   0.796152  0.978065       0.0\n"
     ]
    },
    {
     "data": {
      "application/vnd.jupyter.widget-view+json": {
       "model_id": "1f37d48b37f245e2b5b4b7747fc7b283",
       "version_major": 2,
       "version_minor": 0
      },
      "text/plain": [
       "  0%|          | 0/218 [00:00<?, ?it/s]"
      ]
     },
     "metadata": {},
     "output_type": "display_data"
    },
    {
     "data": {
      "application/vnd.jupyter.widget-view+json": {
       "model_id": "3ff28a66ad8f4c72b3814efbb5454f19",
       "version_major": 2,
       "version_minor": 0
      },
      "text/plain": [
       "  0%|          | 0/25 [00:00<?, ?it/s]"
      ]
     },
     "metadata": {},
     "output_type": "display_data"
    },
    {
     "name": "stdout",
     "output_type": "stream",
     "text": [
      "epoch = 41, train_loss = 0.01449, val_loss = 0.09799, train_accuracy = 0.79352, val_accuracy = 0.97548\n",
      "     Fold  Epoch  Train Loss  Val Loss  Train Acc   Val Acc  Test Acc\n",
      "312   6.0   41.0    0.014494   0.09799   0.793518  0.975484       0.0\n"
     ]
    },
    {
     "data": {
      "application/vnd.jupyter.widget-view+json": {
       "model_id": "837f5dda2d5c4507964021b73a49ade3",
       "version_major": 2,
       "version_minor": 0
      },
      "text/plain": [
       "  0%|          | 0/218 [00:00<?, ?it/s]"
      ]
     },
     "metadata": {},
     "output_type": "display_data"
    },
    {
     "data": {
      "application/vnd.jupyter.widget-view+json": {
       "model_id": "87b6e067f8304456b14035c843058b7a",
       "version_major": 2,
       "version_minor": 0
      },
      "text/plain": [
       "  0%|          | 0/25 [00:00<?, ?it/s]"
      ]
     },
     "metadata": {},
     "output_type": "display_data"
    },
    {
     "name": "stdout",
     "output_type": "stream",
     "text": [
      "epoch = 42, train_loss = 0.02057, val_loss = 0.12552, train_accuracy = 0.79306, val_accuracy = 0.96774\n",
      "     Fold  Epoch  Train Loss  Val Loss  Train Acc   Val Acc  Test Acc\n",
      "313   6.0   42.0    0.020569  0.125518    0.79306  0.967742       0.0\n"
     ]
    },
    {
     "data": {
      "application/vnd.jupyter.widget-view+json": {
       "model_id": "0d216e8e069c4dd49cdd6950d6467dc0",
       "version_major": 2,
       "version_minor": 0
      },
      "text/plain": [
       "  0%|          | 0/218 [00:00<?, ?it/s]"
      ]
     },
     "metadata": {},
     "output_type": "display_data"
    },
    {
     "data": {
      "application/vnd.jupyter.widget-view+json": {
       "model_id": "8d64d8494c5148a784fd885d80832cca",
       "version_major": 2,
       "version_minor": 0
      },
      "text/plain": [
       "  0%|          | 0/25 [00:00<?, ?it/s]"
      ]
     },
     "metadata": {},
     "output_type": "display_data"
    },
    {
     "name": "stdout",
     "output_type": "stream",
     "text": [
      "epoch = 43, train_loss = 0.01954, val_loss = 0.09664, train_accuracy = 0.79375, val_accuracy = 0.97032\n",
      "     Fold  Epoch  Train Loss  Val Loss  Train Acc   Val Acc  Test Acc\n",
      "314   6.0   43.0    0.019539  0.096637   0.793747  0.970323       0.0\n"
     ]
    },
    {
     "data": {
      "application/vnd.jupyter.widget-view+json": {
       "model_id": "3d8a9a75839c49478854f9cbae3307c9",
       "version_major": 2,
       "version_minor": 0
      },
      "text/plain": [
       "  0%|          | 0/218 [00:00<?, ?it/s]"
      ]
     },
     "metadata": {},
     "output_type": "display_data"
    },
    {
     "data": {
      "application/vnd.jupyter.widget-view+json": {
       "model_id": "bb7a5e6b1a9d4b5b8a425dcd93819ac6",
       "version_major": 2,
       "version_minor": 0
      },
      "text/plain": [
       "  0%|          | 0/25 [00:00<?, ?it/s]"
      ]
     },
     "metadata": {},
     "output_type": "display_data"
    },
    {
     "name": "stdout",
     "output_type": "stream",
     "text": [
      "epoch = 44, train_loss = 0.00872, val_loss = 0.10537, train_accuracy = 0.79569, val_accuracy = 0.97032\n",
      "     Fold  Epoch  Train Loss  Val Loss  Train Acc   Val Acc  Test Acc\n",
      "315   6.0   44.0    0.008715  0.105371   0.795694  0.970323       0.0\n"
     ]
    },
    {
     "data": {
      "application/vnd.jupyter.widget-view+json": {
       "model_id": "5f3e055b3f2f425dbdd060360cf4b534",
       "version_major": 2,
       "version_minor": 0
      },
      "text/plain": [
       "  0%|          | 0/218 [00:00<?, ?it/s]"
      ]
     },
     "metadata": {},
     "output_type": "display_data"
    },
    {
     "data": {
      "application/vnd.jupyter.widget-view+json": {
       "model_id": "b07da9b4d64b470bb21bc3670964c233",
       "version_major": 2,
       "version_minor": 0
      },
      "text/plain": [
       "  0%|          | 0/25 [00:00<?, ?it/s]"
      ]
     },
     "metadata": {},
     "output_type": "display_data"
    },
    {
     "name": "stdout",
     "output_type": "stream",
     "text": [
      "epoch = 45, train_loss = 0.00740, val_loss = 0.08264, train_accuracy = 0.79558, val_accuracy = 0.97806\n",
      "     Fold  Epoch  Train Loss  Val Loss  Train Acc   Val Acc  Test Acc\n",
      "316   6.0   45.0    0.007404  0.082643   0.795579  0.978065       0.0\n"
     ]
    },
    {
     "data": {
      "application/vnd.jupyter.widget-view+json": {
       "model_id": "387973f816b442d183eda6898f4b3f29",
       "version_major": 2,
       "version_minor": 0
      },
      "text/plain": [
       "  0%|          | 0/218 [00:00<?, ?it/s]"
      ]
     },
     "metadata": {},
     "output_type": "display_data"
    },
    {
     "data": {
      "application/vnd.jupyter.widget-view+json": {
       "model_id": "c21c30d1155948008ea3c482764918bb",
       "version_major": 2,
       "version_minor": 0
      },
      "text/plain": [
       "  0%|          | 0/25 [00:00<?, ?it/s]"
      ]
     },
     "metadata": {},
     "output_type": "display_data"
    },
    {
     "name": "stdout",
     "output_type": "stream",
     "text": [
      "epoch = 46, train_loss = 0.00858, val_loss = 0.13480, train_accuracy = 0.79546, val_accuracy = 0.96387\n",
      "     Fold  Epoch  Train Loss  Val Loss  Train Acc   Val Acc  Test Acc\n",
      "317   6.0   46.0    0.008584  0.134799   0.795465  0.963871       0.0\n"
     ]
    },
    {
     "data": {
      "application/vnd.jupyter.widget-view+json": {
       "model_id": "2c6b5b00fc6c44caa06b5fcee23d44b3",
       "version_major": 2,
       "version_minor": 0
      },
      "text/plain": [
       "  0%|          | 0/218 [00:00<?, ?it/s]"
      ]
     },
     "metadata": {},
     "output_type": "display_data"
    },
    {
     "data": {
      "application/vnd.jupyter.widget-view+json": {
       "model_id": "aaeb7cd213e443aab5aa45aa86dc52a3",
       "version_major": 2,
       "version_minor": 0
      },
      "text/plain": [
       "  0%|          | 0/25 [00:00<?, ?it/s]"
      ]
     },
     "metadata": {},
     "output_type": "display_data"
    },
    {
     "name": "stdout",
     "output_type": "stream",
     "text": [
      "epoch = 47, train_loss = 0.03040, val_loss = 0.10856, train_accuracy = 0.79100, val_accuracy = 0.97032\n",
      "     Fold  Epoch  Train Loss  Val Loss  Train Acc   Val Acc  Test Acc\n",
      "318   6.0   47.0    0.030399  0.108559   0.790999  0.970323       0.0\n"
     ]
    },
    {
     "data": {
      "application/vnd.jupyter.widget-view+json": {
       "model_id": "65caf41962344f9da90801d8ce90c4dd",
       "version_major": 2,
       "version_minor": 0
      },
      "text/plain": [
       "  0%|          | 0/218 [00:00<?, ?it/s]"
      ]
     },
     "metadata": {},
     "output_type": "display_data"
    },
    {
     "data": {
      "application/vnd.jupyter.widget-view+json": {
       "model_id": "fd8ff81746d04352acaf5838e68f74f5",
       "version_major": 2,
       "version_minor": 0
      },
      "text/plain": [
       "  0%|          | 0/25 [00:00<?, ?it/s]"
      ]
     },
     "metadata": {},
     "output_type": "display_data"
    },
    {
     "name": "stdout",
     "output_type": "stream",
     "text": [
      "Validation loss has improved from 0.052021677405573424 to 0.049795106546371246\n",
      "epoch = 48, train_loss = 0.01558, val_loss = 0.04980, train_accuracy = 0.79386, val_accuracy = 0.98323\n",
      "     Fold  Epoch  Train Loss  Val Loss  Train Acc   Val Acc  Test Acc\n",
      "319   6.0   48.0    0.015578  0.049795   0.793862  0.983226       0.0\n"
     ]
    },
    {
     "data": {
      "application/vnd.jupyter.widget-view+json": {
       "model_id": "849bc4d59eed46a7886274efdcf2cc88",
       "version_major": 2,
       "version_minor": 0
      },
      "text/plain": [
       "  0%|          | 0/218 [00:00<?, ?it/s]"
      ]
     },
     "metadata": {},
     "output_type": "display_data"
    },
    {
     "data": {
      "application/vnd.jupyter.widget-view+json": {
       "model_id": "c7c521b1c8ca4b71bfe4bac1ce1fae1e",
       "version_major": 2,
       "version_minor": 0
      },
      "text/plain": [
       "  0%|          | 0/25 [00:00<?, ?it/s]"
      ]
     },
     "metadata": {},
     "output_type": "display_data"
    },
    {
     "name": "stdout",
     "output_type": "stream",
     "text": [
      "epoch = 49, train_loss = 0.00521, val_loss = 0.06412, train_accuracy = 0.79627, val_accuracy = 0.98065\n",
      "     Fold  Epoch  Train Loss  Val Loss  Train Acc   Val Acc  Test Acc\n",
      "320   6.0   49.0    0.005209  0.064123   0.796267  0.980645       0.0\n"
     ]
    },
    {
     "data": {
      "application/vnd.jupyter.widget-view+json": {
       "model_id": "c0d4f66ad8bd4b2b9286da7ffa4d08cc",
       "version_major": 2,
       "version_minor": 0
      },
      "text/plain": [
       "  0%|          | 0/31 [00:00<?, ?it/s]"
      ]
     },
     "metadata": {},
     "output_type": "display_data"
    },
    {
     "name": "stdout",
     "output_type": "stream",
     "text": [
      "Test accuracy for fold: 7 is: 77.57575757575758\n",
      "Training set: 7026, Validation set: 781, Test Set: 925\n",
      "Folds of training set: {1, 2, 4, 5, 6, 7, 8, 9, 10}\n",
      "Folds of validation set: {1, 2, 4, 5, 6, 7, 8, 9, 10}\n",
      "Folds of test set: {3}\n",
      "Classfying 10 classes.\n",
      "Using single GPU or CPU\n"
     ]
    },
    {
     "data": {
      "application/vnd.jupyter.widget-view+json": {
       "model_id": "365c866241f2421bb7070e27706b3886",
       "version_major": 2,
       "version_minor": 0
      },
      "text/plain": [
       "  0%|          | 0/220 [00:00<?, ?it/s]"
      ]
     },
     "metadata": {},
     "output_type": "display_data"
    },
    {
     "ename": "KeyboardInterrupt",
     "evalue": "",
     "output_type": "error",
     "traceback": [
      "\u001b[0;31m---------------------------------------------------------------------------\u001b[0m",
      "\u001b[0;31mKeyboardInterrupt\u001b[0m                         Traceback (most recent call last)",
      "\u001b[1;32m/teamspace/studios/this_studio/pretext.ipynb Cell 16\u001b[0m line \u001b[0;36m6\n\u001b[1;32m     <a href='vscode-notebook-cell://vscode-01hv2abvkg72tsb018ywb7ztvc.studio.lightning.ai/teamspace/studios/this_studio/pretext.ipynb#X21sdnNjb2RlLXJlbW90ZQ%3D%3D?line=57'>58</a>\u001b[0m val_correct \u001b[39m=\u001b[39m \u001b[39m0\u001b[39m\n\u001b[1;32m     <a href='vscode-notebook-cell://vscode-01hv2abvkg72tsb018ywb7ztvc.studio.lightning.ai/teamspace/studios/this_studio/pretext.ipynb#X21sdnNjb2RlLXJlbW90ZQ%3D%3D?line=59'>60</a>\u001b[0m model\u001b[39m.\u001b[39mtrain()\n\u001b[0;32m---> <a href='vscode-notebook-cell://vscode-01hv2abvkg72tsb018ywb7ztvc.studio.lightning.ai/teamspace/studios/this_studio/pretext.ipynb#X21sdnNjb2RlLXJlbW90ZQ%3D%3D?line=60'>61</a>\u001b[0m \u001b[39mfor\u001b[39;00m x, y \u001b[39min\u001b[39;00m tqdm(trainLoader):\n\u001b[1;32m     <a href='vscode-notebook-cell://vscode-01hv2abvkg72tsb018ywb7ztvc.studio.lightning.ai/teamspace/studios/this_studio/pretext.ipynb#X21sdnNjb2RlLXJlbW90ZQ%3D%3D?line=61'>62</a>\u001b[0m     optimizer\u001b[39m.\u001b[39mzero_grad()\n\u001b[1;32m     <a href='vscode-notebook-cell://vscode-01hv2abvkg72tsb018ywb7ztvc.studio.lightning.ai/teamspace/studios/this_studio/pretext.ipynb#X21sdnNjb2RlLXJlbW90ZQ%3D%3D?line=62'>63</a>\u001b[0m     x,y \u001b[39m=\u001b[39m x\u001b[39m.\u001b[39mto(device),y\u001b[39m.\u001b[39mto(device)\n",
      "File \u001b[0;32m/home/zeus/miniconda3/envs/cloudspace/lib/python3.10/site-packages/tqdm/notebook.py:250\u001b[0m, in \u001b[0;36mtqdm_notebook.__iter__\u001b[0;34m(self)\u001b[0m\n\u001b[1;32m    248\u001b[0m \u001b[39mtry\u001b[39;00m:\n\u001b[1;32m    249\u001b[0m     it \u001b[39m=\u001b[39m \u001b[39msuper\u001b[39m(tqdm_notebook, \u001b[39mself\u001b[39m)\u001b[39m.\u001b[39m\u001b[39m__iter__\u001b[39m()\n\u001b[0;32m--> 250\u001b[0m     \u001b[39mfor\u001b[39;00m obj \u001b[39min\u001b[39;00m it:\n\u001b[1;32m    251\u001b[0m         \u001b[39m# return super(tqdm...) will not catch exception\u001b[39;00m\n\u001b[1;32m    252\u001b[0m         \u001b[39myield\u001b[39;00m obj\n\u001b[1;32m    253\u001b[0m \u001b[39m# NB: except ... [ as ...] breaks IPython async KeyboardInterrupt\u001b[39;00m\n",
      "File \u001b[0;32m/home/zeus/miniconda3/envs/cloudspace/lib/python3.10/site-packages/tqdm/std.py:1181\u001b[0m, in \u001b[0;36mtqdm.__iter__\u001b[0;34m(self)\u001b[0m\n\u001b[1;32m   1178\u001b[0m time \u001b[39m=\u001b[39m \u001b[39mself\u001b[39m\u001b[39m.\u001b[39m_time\n\u001b[1;32m   1180\u001b[0m \u001b[39mtry\u001b[39;00m:\n\u001b[0;32m-> 1181\u001b[0m     \u001b[39mfor\u001b[39;00m obj \u001b[39min\u001b[39;00m iterable:\n\u001b[1;32m   1182\u001b[0m         \u001b[39myield\u001b[39;00m obj\n\u001b[1;32m   1183\u001b[0m         \u001b[39m# Update and possibly print the progressbar.\u001b[39;00m\n\u001b[1;32m   1184\u001b[0m         \u001b[39m# Note: does not call self.update(1) for speed optimisation.\u001b[39;00m\n",
      "File \u001b[0;32m/home/zeus/miniconda3/envs/cloudspace/lib/python3.10/site-packages/torch/utils/data/dataloader.py:631\u001b[0m, in \u001b[0;36m_BaseDataLoaderIter.__next__\u001b[0;34m(self)\u001b[0m\n\u001b[1;32m    628\u001b[0m \u001b[39mif\u001b[39;00m \u001b[39mself\u001b[39m\u001b[39m.\u001b[39m_sampler_iter \u001b[39mis\u001b[39;00m \u001b[39mNone\u001b[39;00m:\n\u001b[1;32m    629\u001b[0m     \u001b[39m# TODO(https://github.com/pytorch/pytorch/issues/76750)\u001b[39;00m\n\u001b[1;32m    630\u001b[0m     \u001b[39mself\u001b[39m\u001b[39m.\u001b[39m_reset()  \u001b[39m# type: ignore[call-arg]\u001b[39;00m\n\u001b[0;32m--> 631\u001b[0m data \u001b[39m=\u001b[39m \u001b[39mself\u001b[39;49m\u001b[39m.\u001b[39;49m_next_data()\n\u001b[1;32m    632\u001b[0m \u001b[39mself\u001b[39m\u001b[39m.\u001b[39m_num_yielded \u001b[39m+\u001b[39m\u001b[39m=\u001b[39m \u001b[39m1\u001b[39m\n\u001b[1;32m    633\u001b[0m \u001b[39mif\u001b[39;00m \u001b[39mself\u001b[39m\u001b[39m.\u001b[39m_dataset_kind \u001b[39m==\u001b[39m _DatasetKind\u001b[39m.\u001b[39mIterable \u001b[39mand\u001b[39;00m \\\n\u001b[1;32m    634\u001b[0m         \u001b[39mself\u001b[39m\u001b[39m.\u001b[39m_IterableDataset_len_called \u001b[39mis\u001b[39;00m \u001b[39mnot\u001b[39;00m \u001b[39mNone\u001b[39;00m \u001b[39mand\u001b[39;00m \\\n\u001b[1;32m    635\u001b[0m         \u001b[39mself\u001b[39m\u001b[39m.\u001b[39m_num_yielded \u001b[39m>\u001b[39m \u001b[39mself\u001b[39m\u001b[39m.\u001b[39m_IterableDataset_len_called:\n",
      "File \u001b[0;32m/home/zeus/miniconda3/envs/cloudspace/lib/python3.10/site-packages/torch/utils/data/dataloader.py:1329\u001b[0m, in \u001b[0;36m_MultiProcessingDataLoaderIter._next_data\u001b[0;34m(self)\u001b[0m\n\u001b[1;32m   1326\u001b[0m     \u001b[39mreturn\u001b[39;00m \u001b[39mself\u001b[39m\u001b[39m.\u001b[39m_process_data(data)\n\u001b[1;32m   1328\u001b[0m \u001b[39massert\u001b[39;00m \u001b[39mnot\u001b[39;00m \u001b[39mself\u001b[39m\u001b[39m.\u001b[39m_shutdown \u001b[39mand\u001b[39;00m \u001b[39mself\u001b[39m\u001b[39m.\u001b[39m_tasks_outstanding \u001b[39m>\u001b[39m \u001b[39m0\u001b[39m\n\u001b[0;32m-> 1329\u001b[0m idx, data \u001b[39m=\u001b[39m \u001b[39mself\u001b[39;49m\u001b[39m.\u001b[39;49m_get_data()\n\u001b[1;32m   1330\u001b[0m \u001b[39mself\u001b[39m\u001b[39m.\u001b[39m_tasks_outstanding \u001b[39m-\u001b[39m\u001b[39m=\u001b[39m \u001b[39m1\u001b[39m\n\u001b[1;32m   1331\u001b[0m \u001b[39mif\u001b[39;00m \u001b[39mself\u001b[39m\u001b[39m.\u001b[39m_dataset_kind \u001b[39m==\u001b[39m _DatasetKind\u001b[39m.\u001b[39mIterable:\n\u001b[1;32m   1332\u001b[0m     \u001b[39m# Check for _IterableDatasetStopIteration\u001b[39;00m\n",
      "File \u001b[0;32m/home/zeus/miniconda3/envs/cloudspace/lib/python3.10/site-packages/torch/utils/data/dataloader.py:1295\u001b[0m, in \u001b[0;36m_MultiProcessingDataLoaderIter._get_data\u001b[0;34m(self)\u001b[0m\n\u001b[1;32m   1291\u001b[0m     \u001b[39m# In this case, `self._data_queue` is a `queue.Queue`,. But we don't\u001b[39;00m\n\u001b[1;32m   1292\u001b[0m     \u001b[39m# need to call `.task_done()` because we don't use `.join()`.\u001b[39;00m\n\u001b[1;32m   1293\u001b[0m \u001b[39melse\u001b[39;00m:\n\u001b[1;32m   1294\u001b[0m     \u001b[39mwhile\u001b[39;00m \u001b[39mTrue\u001b[39;00m:\n\u001b[0;32m-> 1295\u001b[0m         success, data \u001b[39m=\u001b[39m \u001b[39mself\u001b[39;49m\u001b[39m.\u001b[39;49m_try_get_data()\n\u001b[1;32m   1296\u001b[0m         \u001b[39mif\u001b[39;00m success:\n\u001b[1;32m   1297\u001b[0m             \u001b[39mreturn\u001b[39;00m data\n",
      "File \u001b[0;32m/home/zeus/miniconda3/envs/cloudspace/lib/python3.10/site-packages/torch/utils/data/dataloader.py:1133\u001b[0m, in \u001b[0;36m_MultiProcessingDataLoaderIter._try_get_data\u001b[0;34m(self, timeout)\u001b[0m\n\u001b[1;32m   1120\u001b[0m \u001b[39mdef\u001b[39;00m \u001b[39m_try_get_data\u001b[39m(\u001b[39mself\u001b[39m, timeout\u001b[39m=\u001b[39m_utils\u001b[39m.\u001b[39mMP_STATUS_CHECK_INTERVAL):\n\u001b[1;32m   1121\u001b[0m     \u001b[39m# Tries to fetch data from `self._data_queue` once for a given timeout.\u001b[39;00m\n\u001b[1;32m   1122\u001b[0m     \u001b[39m# This can also be used as inner loop of fetching without timeout, with\u001b[39;00m\n\u001b[0;32m   (...)\u001b[0m\n\u001b[1;32m   1130\u001b[0m     \u001b[39m# Returns a 2-tuple:\u001b[39;00m\n\u001b[1;32m   1131\u001b[0m     \u001b[39m#   (bool: whether successfully get data, any: data if successful else None)\u001b[39;00m\n\u001b[1;32m   1132\u001b[0m     \u001b[39mtry\u001b[39;00m:\n\u001b[0;32m-> 1133\u001b[0m         data \u001b[39m=\u001b[39m \u001b[39mself\u001b[39;49m\u001b[39m.\u001b[39;49m_data_queue\u001b[39m.\u001b[39;49mget(timeout\u001b[39m=\u001b[39;49mtimeout)\n\u001b[1;32m   1134\u001b[0m         \u001b[39mreturn\u001b[39;00m (\u001b[39mTrue\u001b[39;00m, data)\n\u001b[1;32m   1135\u001b[0m     \u001b[39mexcept\u001b[39;00m \u001b[39mException\u001b[39;00m \u001b[39mas\u001b[39;00m e:\n\u001b[1;32m   1136\u001b[0m         \u001b[39m# At timeout and error, we manually check whether any worker has\u001b[39;00m\n\u001b[1;32m   1137\u001b[0m         \u001b[39m# failed. Note that this is the only mechanism for Windows to detect\u001b[39;00m\n\u001b[1;32m   1138\u001b[0m         \u001b[39m# worker failures.\u001b[39;00m\n",
      "File \u001b[0;32m/home/zeus/miniconda3/envs/cloudspace/lib/python3.10/multiprocessing/queues.py:113\u001b[0m, in \u001b[0;36mQueue.get\u001b[0;34m(self, block, timeout)\u001b[0m\n\u001b[1;32m    111\u001b[0m \u001b[39mif\u001b[39;00m block:\n\u001b[1;32m    112\u001b[0m     timeout \u001b[39m=\u001b[39m deadline \u001b[39m-\u001b[39m time\u001b[39m.\u001b[39mmonotonic()\n\u001b[0;32m--> 113\u001b[0m     \u001b[39mif\u001b[39;00m \u001b[39mnot\u001b[39;00m \u001b[39mself\u001b[39;49m\u001b[39m.\u001b[39;49m_poll(timeout):\n\u001b[1;32m    114\u001b[0m         \u001b[39mraise\u001b[39;00m Empty\n\u001b[1;32m    115\u001b[0m \u001b[39melif\u001b[39;00m \u001b[39mnot\u001b[39;00m \u001b[39mself\u001b[39m\u001b[39m.\u001b[39m_poll():\n",
      "File \u001b[0;32m/home/zeus/miniconda3/envs/cloudspace/lib/python3.10/multiprocessing/connection.py:257\u001b[0m, in \u001b[0;36m_ConnectionBase.poll\u001b[0;34m(self, timeout)\u001b[0m\n\u001b[1;32m    255\u001b[0m \u001b[39mself\u001b[39m\u001b[39m.\u001b[39m_check_closed()\n\u001b[1;32m    256\u001b[0m \u001b[39mself\u001b[39m\u001b[39m.\u001b[39m_check_readable()\n\u001b[0;32m--> 257\u001b[0m \u001b[39mreturn\u001b[39;00m \u001b[39mself\u001b[39;49m\u001b[39m.\u001b[39;49m_poll(timeout)\n",
      "File \u001b[0;32m/home/zeus/miniconda3/envs/cloudspace/lib/python3.10/multiprocessing/connection.py:424\u001b[0m, in \u001b[0;36mConnection._poll\u001b[0;34m(self, timeout)\u001b[0m\n\u001b[1;32m    423\u001b[0m \u001b[39mdef\u001b[39;00m \u001b[39m_poll\u001b[39m(\u001b[39mself\u001b[39m, timeout):\n\u001b[0;32m--> 424\u001b[0m     r \u001b[39m=\u001b[39m wait([\u001b[39mself\u001b[39;49m], timeout)\n\u001b[1;32m    425\u001b[0m     \u001b[39mreturn\u001b[39;00m \u001b[39mbool\u001b[39m(r)\n",
      "File \u001b[0;32m/home/zeus/miniconda3/envs/cloudspace/lib/python3.10/multiprocessing/connection.py:931\u001b[0m, in \u001b[0;36mwait\u001b[0;34m(object_list, timeout)\u001b[0m\n\u001b[1;32m    928\u001b[0m     deadline \u001b[39m=\u001b[39m time\u001b[39m.\u001b[39mmonotonic() \u001b[39m+\u001b[39m timeout\n\u001b[1;32m    930\u001b[0m \u001b[39mwhile\u001b[39;00m \u001b[39mTrue\u001b[39;00m:\n\u001b[0;32m--> 931\u001b[0m     ready \u001b[39m=\u001b[39m selector\u001b[39m.\u001b[39;49mselect(timeout)\n\u001b[1;32m    932\u001b[0m     \u001b[39mif\u001b[39;00m ready:\n\u001b[1;32m    933\u001b[0m         \u001b[39mreturn\u001b[39;00m [key\u001b[39m.\u001b[39mfileobj \u001b[39mfor\u001b[39;00m (key, events) \u001b[39min\u001b[39;00m ready]\n",
      "File \u001b[0;32m/home/zeus/miniconda3/envs/cloudspace/lib/python3.10/selectors.py:416\u001b[0m, in \u001b[0;36m_PollLikeSelector.select\u001b[0;34m(self, timeout)\u001b[0m\n\u001b[1;32m    414\u001b[0m ready \u001b[39m=\u001b[39m []\n\u001b[1;32m    415\u001b[0m \u001b[39mtry\u001b[39;00m:\n\u001b[0;32m--> 416\u001b[0m     fd_event_list \u001b[39m=\u001b[39m \u001b[39mself\u001b[39;49m\u001b[39m.\u001b[39;49m_selector\u001b[39m.\u001b[39;49mpoll(timeout)\n\u001b[1;32m    417\u001b[0m \u001b[39mexcept\u001b[39;00m \u001b[39mInterruptedError\u001b[39;00m:\n\u001b[1;32m    418\u001b[0m     \u001b[39mreturn\u001b[39;00m ready\n",
      "\u001b[0;31mKeyboardInterrupt\u001b[0m: "
     ]
    }
   ],
   "source": [
    "from time import time \n",
    "warnings.filterwarnings(\"ignore\")\n",
    "\n",
    "\n",
    "start_time = time()\n",
    "folds = 10\n",
    "for fold in range(4, folds):\n",
    "    checkpoint_path = f'resnet18_baseline_us8k_fold{fold+1}.pth'\n",
    "    prextext_path = f'resnet18_pretext_urbansound8k_3classes_fold1.pth'\n",
    "    batch_size = 32\n",
    "    trainSet = Dataset(trainData, fold=fold)\n",
    "    valSet = Dataset(trainData, fold=fold, val=True)\n",
    "    testSet = Dataset(trainData, fold=fold, test=True)\n",
    "    trainLoader = DataLoader(trainSet, batch_size=batch_size, shuffle=True, num_workers = 2)\n",
    "    valLoader = DataLoader(valSet , batch_size=batch_size, num_workers = 2)\n",
    "    testLoader = DataLoader(testSet , batch_size=batch_size, num_workers = 2)\n",
    "\n",
    "    print('Training set: {}, Validation set: {}, Test Set: {}'.format(len(trainSet), len(valSet), len(testSet)))\n",
    "    print(\"Folds of training set:\", set(list(trainSet.dataframe[\"fold\"].values)))\n",
    "    print(\"Folds of validation set:\", set(list(valSet.dataframe[\"fold\"].values)))\n",
    "    print(\"Folds of test set:\", set(list(testSet.dataframe[\"fold\"].values)))\n",
    "    print(\"Classfying\", num_classes, \"classes.\")\n",
    "\n",
    "    model = CustomResNet50(num_classes=num_classes)\n",
    "    \n",
    "    if torch.cuda.device_count() >= 2:\n",
    "        print(f\"Using {torch.cuda.device_count()} GPUs!\")\n",
    "        device = torch.device(\"cuda\")\n",
    "        model = torch.nn.DataParallel(model)  # Wrap the model for multi-GPU use\n",
    "        model.to(device)\n",
    "    else:\n",
    "        device = torch.device(\"cuda:0\" if torch.cuda.is_available() else \"cpu\")\n",
    "        model.to(device)\n",
    "        print(\"Using single GPU or CPU\")\n",
    "        \n",
    "    epochs = 50\n",
    "    optimizer = torch.optim.Adam(model.parameters(), lr=0.0001)\n",
    "    cost = torch.nn.CrossEntropyLoss()\n",
    "    best_val_accuracy = 0.0\n",
    "    best_val_loss = 10000\n",
    "    checkpoint_path = checkpoint_path\n",
    "    \n",
    "\n",
    "    if os.path.isfile(checkpoint_path):\n",
    "        checkpoint = torch.load(checkpoint_path)\n",
    "        model.load_state_dict(checkpoint['model_state'])\n",
    "        optimizer.load_state_dict(checkpoint['optimizer_state'])\n",
    "        best_val_accuracy = checkpoint['best_val_accuracy']\n",
    "        start_epoch = checkpoint['epoch'] + 1\n",
    "        print(\"Resuming training from epoch: \"+str(start_epoch) +\" with best_val_accuracy: \"+str(best_val_accuracy))\n",
    "    else:\n",
    "        start_epoch = 0\n",
    "    \n",
    "    for epoch in range(start_epoch, epochs):\n",
    "        train_loss = 0\n",
    "        val_loss = 0\n",
    "        train_correct = 0\n",
    "        val_correct = 0\n",
    "        \n",
    "        model.train()\n",
    "        for x, y in tqdm(trainLoader):\n",
    "            optimizer.zero_grad()\n",
    "            x,y = x.to(device),y.to(device)\n",
    "            pred = model(x)\n",
    "            loss = cost(pred, y)\n",
    "            train_loss += cost(pred, y).item()\n",
    "            train_correct += (pred.argmax(1) == y).type(torch.float).sum().item()\n",
    "            loss.backward()\n",
    "            optimizer.step()\n",
    "\n",
    "        model.eval()\n",
    "        with torch.no_grad():\n",
    "            for x, y in tqdm(valLoader):\n",
    "                x,y = x.to(device),y.to(device)\n",
    "                pred = model(x)\n",
    "                loss = cost(pred, y)\n",
    "                val_loss += cost(pred, y).item()\n",
    "                val_correct += (pred.argmax(1) == y).type(torch.float).sum().item()\n",
    "        train_loss = train_loss/len(trainLoader)\n",
    "        val_loss = val_loss/len(valLoader)\n",
    "        train_accuracy = train_correct / len(trainData)\n",
    "        val_accuracy = val_correct / len(valSet)\n",
    "        \n",
    "        if val_loss < best_val_loss:\n",
    "            print(f\"Validation loss has improved from {best_val_loss} to {val_loss}\")\n",
    "            best_val_loss = val_loss\n",
    "            \n",
    "        print(\"epoch = %d, train_loss = %.5f, val_loss = %.5f, train_accuracy = %.5f, val_accuracy = %.5f\" % (epoch, train_loss, val_loss, train_accuracy, val_accuracy))\n",
    "        \n",
    "        #saving the model when the val_accuracy improves\n",
    "        if val_accuracy > best_val_accuracy:\n",
    "            print(f\"Validation Accuracy improved from {best_val_accuracy:.5f} to {val_accuracy:.5f}. Saving checkpoint.\")\n",
    "            best_val_accuracy = val_accuracy\n",
    "            torch.save({\n",
    "                'epoch': epoch,\n",
    "                'model_state': model.state_dict(),\n",
    "                'optimizer_state': optimizer.state_dict(),\n",
    "                'best_val_accuracy': best_val_accuracy\n",
    "            }, checkpoint_path)\n",
    "        df = df._append({\"Fold\": fold, \"Epoch\": epoch, \"Train Loss\": train_loss, \"Val Loss\": val_loss, \"Train Acc\": train_accuracy, \"Val Acc\": val_accuracy, \"Test Acc\": 0}, ignore_index=True)\n",
    "        df.to_csv(\"training_metadata_baseline_resnet18.csv\", index=False)\n",
    "        print(df.tail(1))\n",
    "    #getting final best validation accuracy here\n",
    "    \n",
    "    checkpoint_path=checkpoint_path\n",
    "    checkpoint = torch.load(checkpoint_path)\n",
    "    model.load_state_dict(checkpoint['model_state'])\n",
    "    model.eval()\n",
    "    test_correct = 0\n",
    "    for x, y in tqdm(testLoader):\n",
    "        x,y = x.to(device),y.to(device)\n",
    "        pred = model(x)\n",
    "        pred = torch.softmax(pred, axis=1)       \n",
    "        test_correct += (pred.argmax(1) == y).type(torch.float).sum().item()\n",
    "    test_accuracy = test_correct / len(testSet)\n",
    "    print(f\"Test accuracy for fold: {fold+1} is: {test_accuracy*100}\")\n",
    "    #change test accuracy in dataframe where fold = fold and epoch is max\n",
    "    df.loc[(df.Fold == fold) & (df.Epoch == df[df.Fold == fold].Epoch.max()), \"Test Acc\"] = test_accuracy\n",
    "    df.to_csv(\"training_metadata.csv\", index=False)\n",
    "        \n",
    "end_time = time()\n",
    "total_time = end_time - start_time\n",
    "print(f'Total Training Time: {total_time:.2f} seconds')"
   ]
  },
  {
   "cell_type": "markdown",
   "metadata": {},
   "source": []
  },
  {
   "cell_type": "code",
   "execution_count": null,
   "metadata": {},
   "outputs": [
    {
     "data": {
      "application/vnd.jupyter.widget-view+json": {
       "model_id": "3e3551f9f30841d2a22fd18c8acc3c4f",
       "version_major": 2,
       "version_minor": 0
      },
      "text/plain": [
       "  0%|          | 0/27 [00:00<?, ?it/s]"
      ]
     },
     "metadata": {},
     "output_type": "display_data"
    },
    {
     "name": "stdout",
     "output_type": "stream",
     "text": [
      "Test accuracy for fold: 4 is: 88.06682577565633\n"
     ]
    }
   ],
   "source": [
    "checkpoint_path = f\"resnet_proposed_urbansound8k_model_fold{fold+1}.pth\"\n",
    "checkpoint = torch.load(checkpoint_path)\n",
    "model.load_state_dict(checkpoint['model_state'])\n",
    "model.eval()\n",
    "test_correct = 0\n",
    "for x, y in tqdm(testLoader):\n",
    "    x,y = x.to(device),y.to(device)\n",
    "    pred = model(x)\n",
    "    pred = torch.softmax(pred, axis=1)       \n",
    "    test_correct += (pred.argmax(1) == y).type(torch.float).sum().item()\n",
    "test_accuracy = test_correct / len(testSet)\n",
    "print(f\"Test accuracy for fold: {fold+1} is: {test_accuracy*100}\")"
   ]
  },
  {
   "cell_type": "code",
   "execution_count": null,
   "metadata": {},
   "outputs": [],
   "source": []
  }
 ],
 "metadata": {
  "kernelspec": {
   "display_name": "Python 3 (ipykernel)",
   "language": "python",
   "name": "python3"
  },
  "language_info": {
   "codemirror_mode": {
    "name": "ipython",
    "version": 3
   },
   "file_extension": ".py",
   "mimetype": "text/x-python",
   "name": "python",
   "nbconvert_exporter": "python",
   "pygments_lexer": "ipython3",
   "version": "3.10.11"
  }
 },
 "nbformat": 4,
 "nbformat_minor": 2
}
